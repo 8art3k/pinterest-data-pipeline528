{
 "cells": [
  {
   "cell_type": "code",
   "execution_count": 0,
   "metadata": {
    "application/vnd.databricks.v1+cell": {
     "cellMetadata": {
      "byteLimit": 2048000,
      "rowLimit": 10000
     },
     "inputWidgets": {},
     "nuid": "e4db4b8c-10c8-441b-8ccb-f277b72aab6e",
     "showTitle": false,
     "tableResultSettingsMap": {},
     "title": ""
    }
   },
   "outputs": [
    {
     "output_type": "display_data",
     "data": {
      "text/html": [
       "<style scoped>\n",
       "  .table-result-container {\n",
       "    max-height: 300px;\n",
       "    overflow: auto;\n",
       "  }\n",
       "  table, th, td {\n",
       "    border: 1px solid black;\n",
       "    border-collapse: collapse;\n",
       "  }\n",
       "  th, td {\n",
       "    padding: 5px;\n",
       "  }\n",
       "  th {\n",
       "    text-align: left;\n",
       "  }\n",
       "</style><div class='table-result-container'><table class='table-result'><thead style='background-color: white'><tr></tr></thead><tbody></tbody></table></div>"
      ]
     },
     "metadata": {
      "application/vnd.databricks.v1+output": {
       "addedWidgets": {},
       "aggData": [],
       "aggError": "",
       "aggOverflow": false,
       "aggSchema": [],
       "aggSeriesLimitReached": false,
       "aggType": "",
       "arguments": {},
       "columnCustomDisplayInfos": {},
       "data": [],
       "datasetInfos": [],
       "dbfsResultPath": null,
       "isJsonSchema": true,
       "metadata": {
        "isDbfsCommandResult": false
       },
       "overflow": false,
       "plotOptions": {
        "customPlotOptions": {},
        "displayType": "table",
        "pivotAggregation": null,
        "pivotColumns": null,
        "xColumns": null,
        "yColumns": null
       },
       "removedWidgets": [],
       "schema": [],
       "type": "table"
      }
     },
     "output_type": "display_data"
    }
   ],
   "source": [
    "use pinterest_data\n"
   ]
  },
  {
   "cell_type": "code",
   "execution_count": 0,
   "metadata": {
    "application/vnd.databricks.v1+cell": {
     "cellMetadata": {
      "byteLimit": 2048000,
      "rowLimit": 10000
     },
     "inputWidgets": {},
     "nuid": "d48e40e6-b720-441c-9764-b4d6705d59ef",
     "showTitle": false,
     "tableResultSettingsMap": {},
     "title": ""
    }
   },
   "outputs": [
    {
     "output_type": "display_data",
     "data": {
      "text/html": [
       "<style scoped>\n",
       "  .table-result-container {\n",
       "    max-height: 300px;\n",
       "    overflow: auto;\n",
       "  }\n",
       "  table, th, td {\n",
       "    border: 1px solid black;\n",
       "    border-collapse: collapse;\n",
       "  }\n",
       "  th, td {\n",
       "    padding: 5px;\n",
       "  }\n",
       "  th {\n",
       "    text-align: left;\n",
       "  }\n",
       "</style><div class='table-result-container'><table class='table-result'><thead style='background-color: white'><tr></tr></thead><tbody></tbody></table></div>"
      ]
     },
     "metadata": {
      "application/vnd.databricks.v1+output": {
       "addedWidgets": {},
       "aggData": [],
       "aggError": "",
       "aggOverflow": false,
       "aggSchema": [],
       "aggSeriesLimitReached": false,
       "aggType": "",
       "arguments": {},
       "columnCustomDisplayInfos": {},
       "data": [],
       "datasetInfos": [],
       "dbfsResultPath": null,
       "isJsonSchema": true,
       "metadata": {
        "isDbfsCommandResult": false
       },
       "overflow": false,
       "plotOptions": {
        "customPlotOptions": {},
        "displayType": "table",
        "pivotAggregation": null,
        "pivotColumns": null,
        "xColumns": null,
        "yColumns": null
       },
       "removedWidgets": [],
       "schema": [],
       "type": "table"
      }
     },
     "output_type": "display_data"
    }
   ],
   "source": [
    "CREATE OR REPLACE TEMP VIEW category_count_each_year AS\n",
    "SELECT \n",
    "    YEAR(CAST(df_geo.timestamp AS DATE)) AS post_year, -- Extract year from timestamp\n",
    "    df_pin.category,\n",
    "    COUNT(*) AS category_count\n",
    "FROM \n",
    "    df_geo\n",
    "JOIN \n",
    "    df_pin \n",
    "    ON df_geo.ind = df_pin.ind\n",
    "WHERE \n",
    "    YEAR(CAST(df_geo.timestamp AS DATE)) BETWEEN 2018 AND 2022  -- Filter the data between 2018 to 2022 only\n",
    "GROUP BY \n",
    "    post_year, df_pin.category\n",
    "ORDER BY \n",
    "    post_year, category_count DESC;\n"
   ]
  },
  {
   "cell_type": "code",
   "execution_count": 0,
   "metadata": {
    "application/vnd.databricks.v1+cell": {
     "cellMetadata": {
      "byteLimit": 2048000,
      "rowLimit": 10000
     },
     "inputWidgets": {},
     "nuid": "0ddadb54-b0d9-415a-acc8-e8a680657b34",
     "showTitle": false,
     "tableResultSettingsMap": {},
     "title": ""
    }
   },
   "outputs": [
    {
     "output_type": "display_data",
     "data": {
      "text/html": [
       "<style scoped>\n",
       "  .table-result-container {\n",
       "    max-height: 300px;\n",
       "    overflow: auto;\n",
       "  }\n",
       "  table, th, td {\n",
       "    border: 1px solid black;\n",
       "    border-collapse: collapse;\n",
       "  }\n",
       "  th, td {\n",
       "    padding: 5px;\n",
       "  }\n",
       "  th {\n",
       "    text-align: left;\n",
       "  }\n",
       "</style><div class='table-result-container'><table class='table-result'><thead style='background-color: white'><tr><th>post_year</th><th>category</th><th>category_count</th></tr></thead><tbody><tr><td>2018</td><td>quotes</td><td>50</td></tr><tr><td>2018</td><td>tattoos</td><td>49</td></tr><tr><td>2018</td><td>travel</td><td>47</td></tr><tr><td>2018</td><td>diy-and-crafts</td><td>45</td></tr><tr><td>2018</td><td>christmas</td><td>42</td></tr><tr><td>2018</td><td>beauty</td><td>42</td></tr><tr><td>2018</td><td>education</td><td>30</td></tr><tr><td>2018</td><td>finance</td><td>28</td></tr><tr><td>2018</td><td>home-decor</td><td>24</td></tr><tr><td>2018</td><td>art</td><td>23</td></tr><tr><td>2018</td><td>event-planning</td><td>16</td></tr><tr><td>2018</td><td>mens-fashion</td><td>14</td></tr><tr><td>2018</td><td>vehicles</td><td>9</td></tr><tr><td>2019</td><td>travel</td><td>75</td></tr><tr><td>2019</td><td>diy-and-crafts</td><td>54</td></tr><tr><td>2019</td><td>home-decor</td><td>53</td></tr><tr><td>2019</td><td>quotes</td><td>52</td></tr><tr><td>2019</td><td>education</td><td>44</td></tr><tr><td>2019</td><td>art</td><td>42</td></tr><tr><td>2019</td><td>mens-fashion</td><td>41</td></tr><tr><td>2019</td><td>vehicles</td><td>38</td></tr><tr><td>2019</td><td>christmas</td><td>34</td></tr><tr><td>2019</td><td>finance</td><td>25</td></tr><tr><td>2019</td><td>beauty</td><td>21</td></tr><tr><td>2019</td><td>tattoos</td><td>20</td></tr><tr><td>2019</td><td>event-planning</td><td>19</td></tr><tr><td>2020</td><td>travel</td><td>57</td></tr><tr><td>2020</td><td>home-decor</td><td>51</td></tr><tr><td>2020</td><td>event-planning</td><td>45</td></tr><tr><td>2020</td><td>christmas</td><td>41</td></tr><tr><td>2020</td><td>beauty</td><td>40</td></tr><tr><td>2020</td><td>finance</td><td>37</td></tr><tr><td>2020</td><td>tattoos</td><td>37</td></tr><tr><td>2020</td><td>art</td><td>35</td></tr><tr><td>2020</td><td>mens-fashion</td><td>24</td></tr><tr><td>2020</td><td>quotes</td><td>24</td></tr><tr><td>2020</td><td>diy-and-crafts</td><td>20</td></tr><tr><td>2020</td><td>vehicles</td><td>12</td></tr><tr><td>2020</td><td>education</td><td>4</td></tr><tr><td>2021</td><td>tattoos</td><td>55</td></tr><tr><td>2021</td><td>travel</td><td>48</td></tr><tr><td>2021</td><td>art</td><td>45</td></tr><tr><td>2021</td><td>mens-fashion</td><td>41</td></tr><tr><td>2021</td><td>finance</td><td>38</td></tr><tr><td>2021</td><td>home-decor</td><td>37</td></tr><tr><td>2021</td><td>education</td><td>36</td></tr><tr><td>2021</td><td>vehicles</td><td>36</td></tr><tr><td>2021</td><td>event-planning</td><td>33</td></tr><tr><td>2021</td><td>diy-and-crafts</td><td>31</td></tr><tr><td>2021</td><td>quotes</td><td>29</td></tr><tr><td>2021</td><td>christmas</td><td>28</td></tr><tr><td>2021</td><td>beauty</td><td>12</td></tr><tr><td>2022</td><td>tattoos</td><td>45</td></tr><tr><td>2022</td><td>travel</td><td>40</td></tr><tr><td>2022</td><td>quotes</td><td>40</td></tr><tr><td>2022</td><td>diy-and-crafts</td><td>32</td></tr><tr><td>2022</td><td>finance</td><td>28</td></tr><tr><td>2022</td><td>event-planning</td><td>28</td></tr><tr><td>2022</td><td>beauty</td><td>26</td></tr><tr><td>2022</td><td>christmas</td><td>26</td></tr><tr><td>2022</td><td>art</td><td>20</td></tr><tr><td>2022</td><td>home-decor</td><td>20</td></tr><tr><td>2022</td><td>education</td><td>16</td></tr><tr><td>2022</td><td>vehicles</td><td>13</td></tr><tr><td>2022</td><td>mens-fashion</td><td>9</td></tr></tbody></table></div>"
      ]
     },
     "metadata": {
      "application/vnd.databricks.v1+output": {
       "addedWidgets": {},
       "aggData": [],
       "aggError": "",
       "aggOverflow": false,
       "aggSchema": [],
       "aggSeriesLimitReached": false,
       "aggType": "",
       "arguments": {},
       "columnCustomDisplayInfos": {},
       "data": [
        [
         2018,
         "quotes",
         50
        ],
        [
         2018,
         "tattoos",
         49
        ],
        [
         2018,
         "travel",
         47
        ],
        [
         2018,
         "diy-and-crafts",
         45
        ],
        [
         2018,
         "christmas",
         42
        ],
        [
         2018,
         "beauty",
         42
        ],
        [
         2018,
         "education",
         30
        ],
        [
         2018,
         "finance",
         28
        ],
        [
         2018,
         "home-decor",
         24
        ],
        [
         2018,
         "art",
         23
        ],
        [
         2018,
         "event-planning",
         16
        ],
        [
         2018,
         "mens-fashion",
         14
        ],
        [
         2018,
         "vehicles",
         9
        ],
        [
         2019,
         "travel",
         75
        ],
        [
         2019,
         "diy-and-crafts",
         54
        ],
        [
         2019,
         "home-decor",
         53
        ],
        [
         2019,
         "quotes",
         52
        ],
        [
         2019,
         "education",
         44
        ],
        [
         2019,
         "art",
         42
        ],
        [
         2019,
         "mens-fashion",
         41
        ],
        [
         2019,
         "vehicles",
         38
        ],
        [
         2019,
         "christmas",
         34
        ],
        [
         2019,
         "finance",
         25
        ],
        [
         2019,
         "beauty",
         21
        ],
        [
         2019,
         "tattoos",
         20
        ],
        [
         2019,
         "event-planning",
         19
        ],
        [
         2020,
         "travel",
         57
        ],
        [
         2020,
         "home-decor",
         51
        ],
        [
         2020,
         "event-planning",
         45
        ],
        [
         2020,
         "christmas",
         41
        ],
        [
         2020,
         "beauty",
         40
        ],
        [
         2020,
         "finance",
         37
        ],
        [
         2020,
         "tattoos",
         37
        ],
        [
         2020,
         "art",
         35
        ],
        [
         2020,
         "mens-fashion",
         24
        ],
        [
         2020,
         "quotes",
         24
        ],
        [
         2020,
         "diy-and-crafts",
         20
        ],
        [
         2020,
         "vehicles",
         12
        ],
        [
         2020,
         "education",
         4
        ],
        [
         2021,
         "tattoos",
         55
        ],
        [
         2021,
         "travel",
         48
        ],
        [
         2021,
         "art",
         45
        ],
        [
         2021,
         "mens-fashion",
         41
        ],
        [
         2021,
         "finance",
         38
        ],
        [
         2021,
         "home-decor",
         37
        ],
        [
         2021,
         "education",
         36
        ],
        [
         2021,
         "vehicles",
         36
        ],
        [
         2021,
         "event-planning",
         33
        ],
        [
         2021,
         "diy-and-crafts",
         31
        ],
        [
         2021,
         "quotes",
         29
        ],
        [
         2021,
         "christmas",
         28
        ],
        [
         2021,
         "beauty",
         12
        ],
        [
         2022,
         "tattoos",
         45
        ],
        [
         2022,
         "travel",
         40
        ],
        [
         2022,
         "quotes",
         40
        ],
        [
         2022,
         "diy-and-crafts",
         32
        ],
        [
         2022,
         "finance",
         28
        ],
        [
         2022,
         "event-planning",
         28
        ],
        [
         2022,
         "beauty",
         26
        ],
        [
         2022,
         "christmas",
         26
        ],
        [
         2022,
         "art",
         20
        ],
        [
         2022,
         "home-decor",
         20
        ],
        [
         2022,
         "education",
         16
        ],
        [
         2022,
         "vehicles",
         13
        ],
        [
         2022,
         "mens-fashion",
         9
        ]
       ],
       "datasetInfos": [],
       "dbfsResultPath": null,
       "isJsonSchema": true,
       "metadata": {
        "isDbfsCommandResult": false
       },
       "overflow": false,
       "plotOptions": {
        "customPlotOptions": {},
        "displayType": "table",
        "pivotAggregation": null,
        "pivotColumns": null,
        "xColumns": null,
        "yColumns": null
       },
       "removedWidgets": [],
       "schema": [
        {
         "metadata": "{}",
         "name": "post_year",
         "type": "\"integer\""
        },
        {
         "metadata": "{}",
         "name": "category",
         "type": "\"string\""
        },
        {
         "metadata": "{}",
         "name": "category_count",
         "type": "\"long\""
        }
       ],
       "type": "table"
      }
     },
     "output_type": "display_data"
    }
   ],
   "source": [
    "SELECT * FROM category_count_each_year;"
   ]
  }
 ],
 "metadata": {
  "application/vnd.databricks.v1+notebook": {
   "computePreferences": null,
   "dashboards": [],
   "environmentMetadata": {
    "base_environment": "",
    "client": "2"
   },
   "language": "sql",
   "notebookMetadata": {},
   "notebookName": "category_count_each_year",
   "widgets": {}
  },
  "language_info": {
   "name": "sql"
  }
 },
 "nbformat": 4,
 "nbformat_minor": 0
}