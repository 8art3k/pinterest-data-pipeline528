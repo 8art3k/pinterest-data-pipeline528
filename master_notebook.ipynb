{
 "cells": [
  {
   "cell_type": "code",
   "execution_count": 0,
   "metadata": {
    "application/vnd.databricks.v1+cell": {
     "cellMetadata": {
      "byteLimit": 2048000,
      "rowLimit": 10000
     },
     "collapsed": true,
     "inputWidgets": {},
     "nuid": "263e2801-cd37-4ca8-b4a2-6d3811ef7eff",
     "showTitle": false,
     "tableResultSettingsMap": {},
     "title": ""
    }
   },
   "outputs": [
    {
     "output_type": "display_data",
     "data": {
      "text/html": [
       "<style scoped>\n",
       "  .table-result-container {\n",
       "    max-height: 300px;\n",
       "    overflow: auto;\n",
       "  }\n",
       "  table, th, td {\n",
       "    border: 1px solid black;\n",
       "    border-collapse: collapse;\n",
       "  }\n",
       "  th, td {\n",
       "    padding: 5px;\n",
       "  }\n",
       "  th {\n",
       "    text-align: left;\n",
       "  }\n",
       "</style><div class='table-result-container'><table class='table-result'><thead style='background-color: white'><tr></tr></thead><tbody></tbody></table></div>"
      ]
     },
     "metadata": {
      "application/vnd.databricks.v1+output": {
       "addedWidgets": {},
       "aggData": [],
       "aggError": "",
       "aggOverflow": false,
       "aggSchema": [],
       "aggSeriesLimitReached": false,
       "aggType": "",
       "arguments": {},
       "columnCustomDisplayInfos": {},
       "data": [],
       "datasetInfos": [],
       "dbfsResultPath": null,
       "isJsonSchema": true,
       "metadata": {
        "isDbfsCommandResult": false
       },
       "overflow": false,
       "plotOptions": {
        "customPlotOptions": {},
        "displayType": "table",
        "pivotAggregation": null,
        "pivotColumns": null,
        "xColumns": null,
        "yColumns": null
       },
       "removedWidgets": [],
       "schema": [],
       "type": "table"
      }
     },
     "output_type": "display_data"
    }
   ],
   "source": [
    "%sql\n",
    "USE pinterest_data;\n",
    "DROP TABLE IF EXISTS df_pin;\n",
    "\n",
    "CREATE TABLE df_pin\n",
    "USING json\n",
    "LOCATION 's3a://user-262542bdae36-bucket/topics/262542bdae36.pin/partition=0/';"
   ]
  },
  {
   "cell_type": "code",
   "execution_count": 0,
   "metadata": {
    "application/vnd.databricks.v1+cell": {
     "cellMetadata": {
      "byteLimit": 2048000,
      "rowLimit": 10000
     },
     "collapsed": true,
     "inputWidgets": {},
     "nuid": "8f126e4a-2d36-4baf-abe3-7e2a72eca2d3",
     "showTitle": false,
     "tableResultSettingsMap": {},
     "title": ""
    }
   },
   "outputs": [
    {
     "output_type": "display_data",
     "data": {
      "text/html": [
       "<style scoped>\n",
       "  .table-result-container {\n",
       "    max-height: 300px;\n",
       "    overflow: auto;\n",
       "  }\n",
       "  table, th, td {\n",
       "    border: 1px solid black;\n",
       "    border-collapse: collapse;\n",
       "  }\n",
       "  th, td {\n",
       "    padding: 5px;\n",
       "  }\n",
       "  th {\n",
       "    text-align: left;\n",
       "  }\n",
       "</style><div class='table-result-container'><table class='table-result'><thead style='background-color: white'><tr></tr></thead><tbody></tbody></table></div>"
      ]
     },
     "metadata": {
      "application/vnd.databricks.v1+output": {
       "addedWidgets": {},
       "aggData": [],
       "aggError": "",
       "aggOverflow": false,
       "aggSchema": [],
       "aggSeriesLimitReached": false,
       "aggType": "",
       "arguments": {},
       "columnCustomDisplayInfos": {},
       "data": [],
       "datasetInfos": [],
       "dbfsResultPath": null,
       "isJsonSchema": true,
       "metadata": {
        "isDbfsCommandResult": false
       },
       "overflow": false,
       "plotOptions": {
        "customPlotOptions": {},
        "displayType": "table",
        "pivotAggregation": null,
        "pivotColumns": null,
        "xColumns": null,
        "yColumns": null
       },
       "removedWidgets": [],
       "schema": [],
       "type": "table"
      }
     },
     "output_type": "display_data"
    },
    {
     "output_type": "display_data",
     "data": {
      "text/html": [
       "<style scoped>\n",
       "  .table-result-container {\n",
       "    max-height: 300px;\n",
       "    overflow: auto;\n",
       "  }\n",
       "  table, th, td {\n",
       "    border: 1px solid black;\n",
       "    border-collapse: collapse;\n",
       "  }\n",
       "  th, td {\n",
       "    padding: 5px;\n",
       "  }\n",
       "  th {\n",
       "    text-align: left;\n",
       "  }\n",
       "</style><div class='table-result-container'><table class='table-result'><thead style='background-color: white'><tr></tr></thead><tbody></tbody></table></div>"
      ]
     },
     "metadata": {
      "application/vnd.databricks.v1+output": {
       "addedWidgets": {},
       "aggData": [],
       "aggError": "",
       "aggOverflow": false,
       "aggSchema": [],
       "aggSeriesLimitReached": false,
       "aggType": "",
       "arguments": {},
       "columnCustomDisplayInfos": {},
       "data": [],
       "datasetInfos": [],
       "dbfsResultPath": null,
       "isJsonSchema": true,
       "metadata": {
        "isDbfsCommandResult": false
       },
       "overflow": false,
       "plotOptions": {
        "customPlotOptions": {},
        "displayType": "table",
        "pivotAggregation": null,
        "pivotColumns": null,
        "xColumns": null,
        "yColumns": null
       },
       "removedWidgets": [],
       "schema": [],
       "type": "table"
      }
     },
     "output_type": "display_data"
    },
    {
     "output_type": "display_data",
     "data": {
      "text/html": [
       "<style scoped>\n",
       "  .table-result-container {\n",
       "    max-height: 300px;\n",
       "    overflow: auto;\n",
       "  }\n",
       "  table, th, td {\n",
       "    border: 1px solid black;\n",
       "    border-collapse: collapse;\n",
       "  }\n",
       "  th, td {\n",
       "    padding: 5px;\n",
       "  }\n",
       "  th {\n",
       "    text-align: left;\n",
       "  }\n",
       "</style><div class='table-result-container'><table class='table-result'><thead style='background-color: white'><tr></tr></thead><tbody></tbody></table></div>"
      ]
     },
     "metadata": {
      "application/vnd.databricks.v1+output": {
       "addedWidgets": {},
       "aggData": [],
       "aggError": "",
       "aggOverflow": false,
       "aggSchema": [],
       "aggSeriesLimitReached": false,
       "aggType": "",
       "arguments": {},
       "columnCustomDisplayInfos": {},
       "data": [],
       "datasetInfos": [],
       "dbfsResultPath": null,
       "isJsonSchema": true,
       "metadata": {
        "isDbfsCommandResult": false
       },
       "overflow": false,
       "plotOptions": {
        "customPlotOptions": {},
        "displayType": "table",
        "pivotAggregation": null,
        "pivotColumns": null,
        "xColumns": null,
        "yColumns": null
       },
       "removedWidgets": [],
       "schema": [],
       "type": "table"
      }
     },
     "output_type": "display_data"
    },
    {
     "output_type": "display_data",
     "data": {
      "text/html": [
       "<style scoped>\n",
       "  .table-result-container {\n",
       "    max-height: 300px;\n",
       "    overflow: auto;\n",
       "  }\n",
       "  table, th, td {\n",
       "    border: 1px solid black;\n",
       "    border-collapse: collapse;\n",
       "  }\n",
       "  th, td {\n",
       "    padding: 5px;\n",
       "  }\n",
       "  th {\n",
       "    text-align: left;\n",
       "  }\n",
       "</style><div class='table-result-container'><table class='table-result'><thead style='background-color: white'><tr></tr></thead><tbody></tbody></table></div>"
      ]
     },
     "metadata": {
      "application/vnd.databricks.v1+output": {
       "addedWidgets": {},
       "aggData": [],
       "aggError": "",
       "aggOverflow": false,
       "aggSchema": [],
       "aggSeriesLimitReached": false,
       "aggType": "",
       "arguments": {},
       "columnCustomDisplayInfos": {},
       "data": [],
       "datasetInfos": [],
       "dbfsResultPath": null,
       "isJsonSchema": true,
       "metadata": {
        "isDbfsCommandResult": false
       },
       "overflow": false,
       "plotOptions": {
        "customPlotOptions": {},
        "displayType": "table",
        "pivotAggregation": null,
        "pivotColumns": null,
        "xColumns": null,
        "yColumns": null
       },
       "removedWidgets": [],
       "schema": [],
       "type": "table"
      }
     },
     "output_type": "display_data"
    },
    {
     "output_type": "display_data",
     "data": {
      "text/html": [
       "<style scoped>\n",
       "  .table-result-container {\n",
       "    max-height: 300px;\n",
       "    overflow: auto;\n",
       "  }\n",
       "  table, th, td {\n",
       "    border: 1px solid black;\n",
       "    border-collapse: collapse;\n",
       "  }\n",
       "  th, td {\n",
       "    padding: 5px;\n",
       "  }\n",
       "  th {\n",
       "    text-align: left;\n",
       "  }\n",
       "</style><div class='table-result-container'><table class='table-result'><thead style='background-color: white'><tr></tr></thead><tbody></tbody></table></div>"
      ]
     },
     "metadata": {
      "application/vnd.databricks.v1+output": {
       "addedWidgets": {},
       "aggData": [],
       "aggError": "",
       "aggOverflow": false,
       "aggSchema": [],
       "aggSeriesLimitReached": false,
       "aggType": "",
       "arguments": {},
       "columnCustomDisplayInfos": {},
       "data": [],
       "datasetInfos": [],
       "dbfsResultPath": null,
       "isJsonSchema": true,
       "metadata": {
        "isDbfsCommandResult": false
       },
       "overflow": false,
       "plotOptions": {
        "customPlotOptions": {},
        "displayType": "table",
        "pivotAggregation": null,
        "pivotColumns": null,
        "xColumns": null,
        "yColumns": null
       },
       "removedWidgets": [],
       "schema": [],
       "type": "table"
      }
     },
     "output_type": "display_data"
    },
    {
     "output_type": "display_data",
     "data": {
      "text/html": [
       "<style scoped>\n",
       "  .table-result-container {\n",
       "    max-height: 300px;\n",
       "    overflow: auto;\n",
       "  }\n",
       "  table, th, td {\n",
       "    border: 1px solid black;\n",
       "    border-collapse: collapse;\n",
       "  }\n",
       "  th, td {\n",
       "    padding: 5px;\n",
       "  }\n",
       "  th {\n",
       "    text-align: left;\n",
       "  }\n",
       "</style><div class='table-result-container'><table class='table-result'><thead style='background-color: white'><tr></tr></thead><tbody></tbody></table></div>"
      ]
     },
     "metadata": {
      "application/vnd.databricks.v1+output": {
       "addedWidgets": {},
       "aggData": [],
       "aggError": "",
       "aggOverflow": false,
       "aggSchema": [],
       "aggSeriesLimitReached": false,
       "aggType": "",
       "arguments": {},
       "columnCustomDisplayInfos": {},
       "data": [],
       "datasetInfos": [],
       "dbfsResultPath": null,
       "isJsonSchema": true,
       "metadata": {
        "isDbfsCommandResult": false
       },
       "overflow": false,
       "plotOptions": {
        "customPlotOptions": {},
        "displayType": "table",
        "pivotAggregation": null,
        "pivotColumns": null,
        "xColumns": null,
        "yColumns": null
       },
       "removedWidgets": [],
       "schema": [],
       "type": "table"
      }
     },
     "output_type": "display_data"
    },
    {
     "output_type": "display_data",
     "data": {
      "text/html": [
       "<style scoped>\n",
       "  .table-result-container {\n",
       "    max-height: 300px;\n",
       "    overflow: auto;\n",
       "  }\n",
       "  table, th, td {\n",
       "    border: 1px solid black;\n",
       "    border-collapse: collapse;\n",
       "  }\n",
       "  th, td {\n",
       "    padding: 5px;\n",
       "  }\n",
       "  th {\n",
       "    text-align: left;\n",
       "  }\n",
       "</style><div class='table-result-container'><table class='table-result'><thead style='background-color: white'><tr></tr></thead><tbody></tbody></table></div>"
      ]
     },
     "metadata": {
      "application/vnd.databricks.v1+output": {
       "addedWidgets": {},
       "aggData": [],
       "aggError": "",
       "aggOverflow": false,
       "aggSchema": [],
       "aggSeriesLimitReached": false,
       "aggType": "",
       "arguments": {},
       "columnCustomDisplayInfos": {},
       "data": [],
       "datasetInfos": [],
       "dbfsResultPath": null,
       "isJsonSchema": true,
       "metadata": {
        "isDbfsCommandResult": false
       },
       "overflow": false,
       "plotOptions": {
        "customPlotOptions": {},
        "displayType": "table",
        "pivotAggregation": null,
        "pivotColumns": null,
        "xColumns": null,
        "yColumns": null
       },
       "removedWidgets": [],
       "schema": [],
       "type": "table"
      }
     },
     "output_type": "display_data"
    },
    {
     "output_type": "display_data",
     "data": {
      "text/html": [
       "<style scoped>\n",
       "  .table-result-container {\n",
       "    max-height: 300px;\n",
       "    overflow: auto;\n",
       "  }\n",
       "  table, th, td {\n",
       "    border: 1px solid black;\n",
       "    border-collapse: collapse;\n",
       "  }\n",
       "  th, td {\n",
       "    padding: 5px;\n",
       "  }\n",
       "  th {\n",
       "    text-align: left;\n",
       "  }\n",
       "</style><div class='table-result-container'><table class='table-result'><thead style='background-color: white'><tr></tr></thead><tbody></tbody></table></div>"
      ]
     },
     "metadata": {
      "application/vnd.databricks.v1+output": {
       "addedWidgets": {},
       "aggData": [],
       "aggError": "",
       "aggOverflow": false,
       "aggSchema": [],
       "aggSeriesLimitReached": false,
       "aggType": "",
       "arguments": {},
       "columnCustomDisplayInfos": {},
       "data": [],
       "datasetInfos": [],
       "dbfsResultPath": null,
       "isJsonSchema": true,
       "metadata": {
        "isDbfsCommandResult": false
       },
       "overflow": false,
       "plotOptions": {
        "customPlotOptions": {},
        "displayType": "table",
        "pivotAggregation": null,
        "pivotColumns": null,
        "xColumns": null,
        "yColumns": null
       },
       "removedWidgets": [],
       "schema": [],
       "type": "table"
      }
     },
     "output_type": "display_data"
    },
    {
     "output_type": "display_data",
     "data": {
      "text/html": [
       "<style scoped>\n",
       "  .table-result-container {\n",
       "    max-height: 300px;\n",
       "    overflow: auto;\n",
       "  }\n",
       "  table, th, td {\n",
       "    border: 1px solid black;\n",
       "    border-collapse: collapse;\n",
       "  }\n",
       "  th, td {\n",
       "    padding: 5px;\n",
       "  }\n",
       "  th {\n",
       "    text-align: left;\n",
       "  }\n",
       "</style><div class='table-result-container'><table class='table-result'><thead style='background-color: white'><tr><th>num_affected_rows</th><th>num_inserted_rows</th></tr></thead><tbody></tbody></table></div>"
      ]
     },
     "metadata": {
      "application/vnd.databricks.v1+output": {
       "addedWidgets": {},
       "aggData": [],
       "aggError": "",
       "aggOverflow": false,
       "aggSchema": [],
       "aggSeriesLimitReached": false,
       "aggType": "",
       "arguments": {},
       "columnCustomDisplayInfos": {},
       "data": [],
       "datasetInfos": [],
       "dbfsResultPath": null,
       "isJsonSchema": true,
       "metadata": {
        "isDbfsCommandResult": false
       },
       "overflow": false,
       "plotOptions": {
        "customPlotOptions": {},
        "displayType": "table",
        "pivotAggregation": null,
        "pivotColumns": null,
        "xColumns": null,
        "yColumns": null
       },
       "removedWidgets": [],
       "schema": [
        {
         "metadata": "{}",
         "name": "num_affected_rows",
         "type": "\"long\""
        },
        {
         "metadata": "{}",
         "name": "num_inserted_rows",
         "type": "\"long\""
        }
       ],
       "type": "table"
      }
     },
     "output_type": "display_data"
    },
    {
     "output_type": "display_data",
     "data": {
      "text/html": [
       "<style scoped>\n",
       "  .table-result-container {\n",
       "    max-height: 300px;\n",
       "    overflow: auto;\n",
       "  }\n",
       "  table, th, td {\n",
       "    border: 1px solid black;\n",
       "    border-collapse: collapse;\n",
       "  }\n",
       "  th, td {\n",
       "    padding: 5px;\n",
       "  }\n",
       "  th {\n",
       "    text-align: left;\n",
       "  }\n",
       "</style><div class='table-result-container'><table class='table-result'><thead style='background-color: white'><tr></tr></thead><tbody></tbody></table></div>"
      ]
     },
     "metadata": {
      "application/vnd.databricks.v1+output": {
       "addedWidgets": {},
       "aggData": [],
       "aggError": "",
       "aggOverflow": false,
       "aggSchema": [],
       "aggSeriesLimitReached": false,
       "aggType": "",
       "arguments": {},
       "columnCustomDisplayInfos": {},
       "data": [],
       "datasetInfos": [],
       "dbfsResultPath": null,
       "isJsonSchema": true,
       "metadata": {
        "isDbfsCommandResult": false
       },
       "overflow": false,
       "plotOptions": {
        "customPlotOptions": {},
        "displayType": "table",
        "pivotAggregation": null,
        "pivotColumns": null,
        "xColumns": null,
        "yColumns": null
       },
       "removedWidgets": [],
       "schema": [],
       "type": "table"
      }
     },
     "output_type": "display_data"
    },
    {
     "output_type": "display_data",
     "data": {
      "text/html": [
       "<style scoped>\n",
       "  .table-result-container {\n",
       "    max-height: 300px;\n",
       "    overflow: auto;\n",
       "  }\n",
       "  table, th, td {\n",
       "    border: 1px solid black;\n",
       "    border-collapse: collapse;\n",
       "  }\n",
       "  th, td {\n",
       "    padding: 5px;\n",
       "  }\n",
       "  th {\n",
       "    text-align: left;\n",
       "  }\n",
       "</style><div class='table-result-container'><table class='table-result'><thead style='background-color: white'><tr><th>num_affected_rows</th><th>num_inserted_rows</th></tr></thead><tbody></tbody></table></div>"
      ]
     },
     "metadata": {
      "application/vnd.databricks.v1+output": {
       "addedWidgets": {},
       "aggData": [],
       "aggError": "",
       "aggOverflow": false,
       "aggSchema": [],
       "aggSeriesLimitReached": false,
       "aggType": "",
       "arguments": {},
       "columnCustomDisplayInfos": {},
       "data": [],
       "datasetInfos": [],
       "dbfsResultPath": null,
       "isJsonSchema": true,
       "metadata": {
        "isDbfsCommandResult": false
       },
       "overflow": false,
       "plotOptions": {
        "customPlotOptions": {},
        "displayType": "table",
        "pivotAggregation": null,
        "pivotColumns": null,
        "xColumns": null,
        "yColumns": null
       },
       "removedWidgets": [],
       "schema": [
        {
         "metadata": "{}",
         "name": "num_affected_rows",
         "type": "\"long\""
        },
        {
         "metadata": "{}",
         "name": "num_inserted_rows",
         "type": "\"long\""
        }
       ],
       "type": "table"
      }
     },
     "output_type": "display_data"
    },
    {
     "output_type": "display_data",
     "data": {
      "text/html": [
       "<style scoped>\n",
       "  .table-result-container {\n",
       "    max-height: 300px;\n",
       "    overflow: auto;\n",
       "  }\n",
       "  table, th, td {\n",
       "    border: 1px solid black;\n",
       "    border-collapse: collapse;\n",
       "  }\n",
       "  th, td {\n",
       "    padding: 5px;\n",
       "  }\n",
       "  th {\n",
       "    text-align: left;\n",
       "  }\n",
       "</style><div class='table-result-container'><table class='table-result'><thead style='background-color: white'><tr></tr></thead><tbody></tbody></table></div>"
      ]
     },
     "metadata": {
      "application/vnd.databricks.v1+output": {
       "addedWidgets": {},
       "aggData": [],
       "aggError": "",
       "aggOverflow": false,
       "aggSchema": [],
       "aggSeriesLimitReached": false,
       "aggType": "",
       "arguments": {},
       "columnCustomDisplayInfos": {},
       "data": [],
       "datasetInfos": [],
       "dbfsResultPath": null,
       "isJsonSchema": true,
       "metadata": {
        "isDbfsCommandResult": false
       },
       "overflow": false,
       "plotOptions": {
        "customPlotOptions": {},
        "displayType": "table",
        "pivotAggregation": null,
        "pivotColumns": null,
        "xColumns": null,
        "yColumns": null
       },
       "removedWidgets": [],
       "schema": [],
       "type": "table"
      }
     },
     "output_type": "display_data"
    }
   ],
   "source": [
    "%run /Workspace/Users/malek01@hotmail.co.uk/df_pin_transformations"
   ]
  },
  {
   "cell_type": "code",
   "execution_count": 0,
   "metadata": {
    "application/vnd.databricks.v1+cell": {
     "cellMetadata": {
      "byteLimit": 2048000,
      "rowLimit": 10000
     },
     "collapsed": true,
     "inputWidgets": {},
     "nuid": "e7bfa60f-6f9b-40e8-8633-8382b6874dae",
     "showTitle": false,
     "tableResultSettingsMap": {},
     "title": ""
    }
   },
   "outputs": [
    {
     "output_type": "display_data",
     "data": {
      "text/html": [
       "<style scoped>\n",
       "  .table-result-container {\n",
       "    max-height: 300px;\n",
       "    overflow: auto;\n",
       "  }\n",
       "  table, th, td {\n",
       "    border: 1px solid black;\n",
       "    border-collapse: collapse;\n",
       "  }\n",
       "  th, td {\n",
       "    padding: 5px;\n",
       "  }\n",
       "  th {\n",
       "    text-align: left;\n",
       "  }\n",
       "</style><div class='table-result-container'><table class='table-result'><thead style='background-color: white'><tr></tr></thead><tbody></tbody></table></div>"
      ]
     },
     "metadata": {
      "application/vnd.databricks.v1+output": {
       "addedWidgets": {},
       "aggData": [],
       "aggError": "",
       "aggOverflow": false,
       "aggSchema": [],
       "aggSeriesLimitReached": false,
       "aggType": "",
       "arguments": {},
       "columnCustomDisplayInfos": {},
       "data": [],
       "datasetInfos": [],
       "dbfsResultPath": null,
       "isJsonSchema": true,
       "metadata": {
        "isDbfsCommandResult": false
       },
       "overflow": false,
       "plotOptions": {
        "customPlotOptions": {},
        "displayType": "table",
        "pivotAggregation": null,
        "pivotColumns": null,
        "xColumns": null,
        "yColumns": null
       },
       "removedWidgets": [],
       "schema": [],
       "type": "table"
      }
     },
     "output_type": "display_data"
    }
   ],
   "source": [
    "%sql\n",
    "DROP TABLE IF EXISTS df_geo;\n",
    "\n",
    "CREATE TABLE df_geo\n",
    "USING json\n",
    "LOCATION 's3a://user-262542bdae36-bucket/topics/262542bdae36.geo/partition=0/';"
   ]
  },
  {
   "cell_type": "code",
   "execution_count": 0,
   "metadata": {
    "application/vnd.databricks.v1+cell": {
     "cellMetadata": {
      "byteLimit": 2048000,
      "rowLimit": 10000
     },
     "collapsed": true,
     "inputWidgets": {},
     "nuid": "47331645-7249-4b62-911c-967e8e5107fe",
     "showTitle": false,
     "tableResultSettingsMap": {},
     "title": ""
    }
   },
   "outputs": [
    {
     "output_type": "display_data",
     "data": {
      "text/html": [
       "<style scoped>\n",
       "  .table-result-container {\n",
       "    max-height: 300px;\n",
       "    overflow: auto;\n",
       "  }\n",
       "  table, th, td {\n",
       "    border: 1px solid black;\n",
       "    border-collapse: collapse;\n",
       "  }\n",
       "  th, td {\n",
       "    padding: 5px;\n",
       "  }\n",
       "  th {\n",
       "    text-align: left;\n",
       "  }\n",
       "</style><div class='table-result-container'><table class='table-result'><thead style='background-color: white'><tr></tr></thead><tbody></tbody></table></div>"
      ]
     },
     "metadata": {
      "application/vnd.databricks.v1+output": {
       "addedWidgets": {},
       "aggData": [],
       "aggError": "",
       "aggOverflow": false,
       "aggSchema": [],
       "aggSeriesLimitReached": false,
       "aggType": "",
       "arguments": {},
       "columnCustomDisplayInfos": {},
       "data": [],
       "datasetInfos": [],
       "dbfsResultPath": null,
       "isJsonSchema": true,
       "metadata": {
        "isDbfsCommandResult": false
       },
       "overflow": false,
       "plotOptions": {
        "customPlotOptions": {},
        "displayType": "table",
        "pivotAggregation": null,
        "pivotColumns": null,
        "xColumns": null,
        "yColumns": null
       },
       "removedWidgets": [],
       "schema": [],
       "type": "table"
      }
     },
     "output_type": "display_data"
    },
    {
     "output_type": "display_data",
     "data": {
      "text/html": [
       "<style scoped>\n",
       "  .table-result-container {\n",
       "    max-height: 300px;\n",
       "    overflow: auto;\n",
       "  }\n",
       "  table, th, td {\n",
       "    border: 1px solid black;\n",
       "    border-collapse: collapse;\n",
       "  }\n",
       "  th, td {\n",
       "    padding: 5px;\n",
       "  }\n",
       "  th {\n",
       "    text-align: left;\n",
       "  }\n",
       "</style><div class='table-result-container'><table class='table-result'><thead style='background-color: white'><tr></tr></thead><tbody></tbody></table></div>"
      ]
     },
     "metadata": {
      "application/vnd.databricks.v1+output": {
       "addedWidgets": {},
       "aggData": [],
       "aggError": "",
       "aggOverflow": false,
       "aggSchema": [],
       "aggSeriesLimitReached": false,
       "aggType": "",
       "arguments": {},
       "columnCustomDisplayInfos": {},
       "data": [],
       "datasetInfos": [],
       "dbfsResultPath": null,
       "isJsonSchema": true,
       "metadata": {
        "isDbfsCommandResult": false
       },
       "overflow": false,
       "plotOptions": {
        "customPlotOptions": {},
        "displayType": "table",
        "pivotAggregation": null,
        "pivotColumns": null,
        "xColumns": null,
        "yColumns": null
       },
       "removedWidgets": [],
       "schema": [],
       "type": "table"
      }
     },
     "output_type": "display_data"
    },
    {
     "output_type": "display_data",
     "data": {
      "text/html": [
       "<style scoped>\n",
       "  .table-result-container {\n",
       "    max-height: 300px;\n",
       "    overflow: auto;\n",
       "  }\n",
       "  table, th, td {\n",
       "    border: 1px solid black;\n",
       "    border-collapse: collapse;\n",
       "  }\n",
       "  th, td {\n",
       "    padding: 5px;\n",
       "  }\n",
       "  th {\n",
       "    text-align: left;\n",
       "  }\n",
       "</style><div class='table-result-container'><table class='table-result'><thead style='background-color: white'><tr></tr></thead><tbody></tbody></table></div>"
      ]
     },
     "metadata": {
      "application/vnd.databricks.v1+output": {
       "addedWidgets": {},
       "aggData": [],
       "aggError": "",
       "aggOverflow": false,
       "aggSchema": [],
       "aggSeriesLimitReached": false,
       "aggType": "",
       "arguments": {},
       "columnCustomDisplayInfos": {},
       "data": [],
       "datasetInfos": [],
       "dbfsResultPath": null,
       "isJsonSchema": true,
       "metadata": {
        "isDbfsCommandResult": false
       },
       "overflow": false,
       "plotOptions": {
        "customPlotOptions": {},
        "displayType": "table",
        "pivotAggregation": null,
        "pivotColumns": null,
        "xColumns": null,
        "yColumns": null
       },
       "removedWidgets": [],
       "schema": [],
       "type": "table"
      }
     },
     "output_type": "display_data"
    },
    {
     "output_type": "display_data",
     "data": {
      "text/html": [
       "<style scoped>\n",
       "  .table-result-container {\n",
       "    max-height: 300px;\n",
       "    overflow: auto;\n",
       "  }\n",
       "  table, th, td {\n",
       "    border: 1px solid black;\n",
       "    border-collapse: collapse;\n",
       "  }\n",
       "  th, td {\n",
       "    padding: 5px;\n",
       "  }\n",
       "  th {\n",
       "    text-align: left;\n",
       "  }\n",
       "</style><div class='table-result-container'><table class='table-result'><thead style='background-color: white'><tr><th>num_affected_rows</th><th>num_inserted_rows</th></tr></thead><tbody></tbody></table></div>"
      ]
     },
     "metadata": {
      "application/vnd.databricks.v1+output": {
       "addedWidgets": {},
       "aggData": [],
       "aggError": "",
       "aggOverflow": false,
       "aggSchema": [],
       "aggSeriesLimitReached": false,
       "aggType": "",
       "arguments": {},
       "columnCustomDisplayInfos": {},
       "data": [],
       "datasetInfos": [],
       "dbfsResultPath": null,
       "isJsonSchema": true,
       "metadata": {
        "isDbfsCommandResult": false
       },
       "overflow": false,
       "plotOptions": {
        "customPlotOptions": {},
        "displayType": "table",
        "pivotAggregation": null,
        "pivotColumns": null,
        "xColumns": null,
        "yColumns": null
       },
       "removedWidgets": [],
       "schema": [
        {
         "metadata": "{}",
         "name": "num_affected_rows",
         "type": "\"long\""
        },
        {
         "metadata": "{}",
         "name": "num_inserted_rows",
         "type": "\"long\""
        }
       ],
       "type": "table"
      }
     },
     "output_type": "display_data"
    },
    {
     "output_type": "display_data",
     "data": {
      "text/html": [
       "<style scoped>\n",
       "  .table-result-container {\n",
       "    max-height: 300px;\n",
       "    overflow: auto;\n",
       "  }\n",
       "  table, th, td {\n",
       "    border: 1px solid black;\n",
       "    border-collapse: collapse;\n",
       "  }\n",
       "  th, td {\n",
       "    padding: 5px;\n",
       "  }\n",
       "  th {\n",
       "    text-align: left;\n",
       "  }\n",
       "</style><div class='table-result-container'><table class='table-result'><thead style='background-color: white'><tr></tr></thead><tbody></tbody></table></div>"
      ]
     },
     "metadata": {
      "application/vnd.databricks.v1+output": {
       "addedWidgets": {},
       "aggData": [],
       "aggError": "",
       "aggOverflow": false,
       "aggSchema": [],
       "aggSeriesLimitReached": false,
       "aggType": "",
       "arguments": {},
       "columnCustomDisplayInfos": {},
       "data": [],
       "datasetInfos": [],
       "dbfsResultPath": null,
       "isJsonSchema": true,
       "metadata": {
        "isDbfsCommandResult": false
       },
       "overflow": false,
       "plotOptions": {
        "customPlotOptions": {},
        "displayType": "table",
        "pivotAggregation": null,
        "pivotColumns": null,
        "xColumns": null,
        "yColumns": null
       },
       "removedWidgets": [],
       "schema": [],
       "type": "table"
      }
     },
     "output_type": "display_data"
    },
    {
     "output_type": "display_data",
     "data": {
      "text/html": [
       "<style scoped>\n",
       "  .table-result-container {\n",
       "    max-height: 300px;\n",
       "    overflow: auto;\n",
       "  }\n",
       "  table, th, td {\n",
       "    border: 1px solid black;\n",
       "    border-collapse: collapse;\n",
       "  }\n",
       "  th, td {\n",
       "    padding: 5px;\n",
       "  }\n",
       "  th {\n",
       "    text-align: left;\n",
       "  }\n",
       "</style><div class='table-result-container'><table class='table-result'><thead style='background-color: white'><tr><th>num_affected_rows</th><th>num_inserted_rows</th></tr></thead><tbody></tbody></table></div>"
      ]
     },
     "metadata": {
      "application/vnd.databricks.v1+output": {
       "addedWidgets": {},
       "aggData": [],
       "aggError": "",
       "aggOverflow": false,
       "aggSchema": [],
       "aggSeriesLimitReached": false,
       "aggType": "",
       "arguments": {},
       "columnCustomDisplayInfos": {},
       "data": [],
       "datasetInfos": [],
       "dbfsResultPath": null,
       "isJsonSchema": true,
       "metadata": {
        "isDbfsCommandResult": false
       },
       "overflow": false,
       "plotOptions": {
        "customPlotOptions": {},
        "displayType": "table",
        "pivotAggregation": null,
        "pivotColumns": null,
        "xColumns": null,
        "yColumns": null
       },
       "removedWidgets": [],
       "schema": [
        {
         "metadata": "{}",
         "name": "num_affected_rows",
         "type": "\"long\""
        },
        {
         "metadata": "{}",
         "name": "num_inserted_rows",
         "type": "\"long\""
        }
       ],
       "type": "table"
      }
     },
     "output_type": "display_data"
    },
    {
     "output_type": "display_data",
     "data": {
      "text/html": [
       "<style scoped>\n",
       "  .table-result-container {\n",
       "    max-height: 300px;\n",
       "    overflow: auto;\n",
       "  }\n",
       "  table, th, td {\n",
       "    border: 1px solid black;\n",
       "    border-collapse: collapse;\n",
       "  }\n",
       "  th, td {\n",
       "    padding: 5px;\n",
       "  }\n",
       "  th {\n",
       "    text-align: left;\n",
       "  }\n",
       "</style><div class='table-result-container'><table class='table-result'><thead style='background-color: white'><tr></tr></thead><tbody></tbody></table></div>"
      ]
     },
     "metadata": {
      "application/vnd.databricks.v1+output": {
       "addedWidgets": {},
       "aggData": [],
       "aggError": "",
       "aggOverflow": false,
       "aggSchema": [],
       "aggSeriesLimitReached": false,
       "aggType": "",
       "arguments": {},
       "columnCustomDisplayInfos": {},
       "data": [],
       "datasetInfos": [],
       "dbfsResultPath": null,
       "isJsonSchema": true,
       "metadata": {
        "isDbfsCommandResult": false
       },
       "overflow": false,
       "plotOptions": {
        "customPlotOptions": {},
        "displayType": "table",
        "pivotAggregation": null,
        "pivotColumns": null,
        "xColumns": null,
        "yColumns": null
       },
       "removedWidgets": [],
       "schema": [],
       "type": "table"
      }
     },
     "output_type": "display_data"
    }
   ],
   "source": [
    "%run /Workspace/Users/malek01@hotmail.co.uk/df_geo_transformations "
   ]
  },
  {
   "cell_type": "code",
   "execution_count": 0,
   "metadata": {
    "application/vnd.databricks.v1+cell": {
     "cellMetadata": {
      "byteLimit": 2048000,
      "rowLimit": 10000
     },
     "collapsed": true,
     "inputWidgets": {},
     "nuid": "a9bd8e7c-93f8-4a60-b7bd-b722234db7ad",
     "showTitle": false,
     "tableResultSettingsMap": {},
     "title": ""
    }
   },
   "outputs": [
    {
     "output_type": "display_data",
     "data": {
      "text/html": [
       "<style scoped>\n",
       "  .table-result-container {\n",
       "    max-height: 300px;\n",
       "    overflow: auto;\n",
       "  }\n",
       "  table, th, td {\n",
       "    border: 1px solid black;\n",
       "    border-collapse: collapse;\n",
       "  }\n",
       "  th, td {\n",
       "    padding: 5px;\n",
       "  }\n",
       "  th {\n",
       "    text-align: left;\n",
       "  }\n",
       "</style><div class='table-result-container'><table class='table-result'><thead style='background-color: white'><tr></tr></thead><tbody></tbody></table></div>"
      ]
     },
     "metadata": {
      "application/vnd.databricks.v1+output": {
       "addedWidgets": {},
       "aggData": [],
       "aggError": "",
       "aggOverflow": false,
       "aggSchema": [],
       "aggSeriesLimitReached": false,
       "aggType": "",
       "arguments": {},
       "columnCustomDisplayInfos": {},
       "data": [],
       "datasetInfos": [],
       "dbfsResultPath": null,
       "isJsonSchema": true,
       "metadata": {
        "isDbfsCommandResult": false
       },
       "overflow": false,
       "plotOptions": {
        "customPlotOptions": {},
        "displayType": "table",
        "pivotAggregation": null,
        "pivotColumns": null,
        "xColumns": null,
        "yColumns": null
       },
       "removedWidgets": [],
       "schema": [],
       "type": "table"
      }
     },
     "output_type": "display_data"
    }
   ],
   "source": [
    "%sql\n",
    "USE pinterest_data;\n",
    "DROP TABLE IF EXISTS df_user;\n",
    "\n",
    "CREATE TABLE df_user\n",
    "USING json\n",
    "LOCATION 's3a://user-262542bdae36-bucket/topics/262542bdae36.user/partition=0/';"
   ]
  },
  {
   "cell_type": "code",
   "execution_count": 0,
   "metadata": {
    "application/vnd.databricks.v1+cell": {
     "cellMetadata": {
      "byteLimit": 2048000,
      "rowLimit": 10000
     },
     "collapsed": true,
     "inputWidgets": {},
     "nuid": "1797b4c9-2a12-4585-a2b8-0b0fbb7387b9",
     "showTitle": false,
     "tableResultSettingsMap": {},
     "title": ""
    }
   },
   "outputs": [
    {
     "output_type": "display_data",
     "data": {
      "text/html": [
       "<style scoped>\n",
       "  .table-result-container {\n",
       "    max-height: 300px;\n",
       "    overflow: auto;\n",
       "  }\n",
       "  table, th, td {\n",
       "    border: 1px solid black;\n",
       "    border-collapse: collapse;\n",
       "  }\n",
       "  th, td {\n",
       "    padding: 5px;\n",
       "  }\n",
       "  th {\n",
       "    text-align: left;\n",
       "  }\n",
       "</style><div class='table-result-container'><table class='table-result'><thead style='background-color: white'><tr></tr></thead><tbody></tbody></table></div>"
      ]
     },
     "metadata": {
      "application/vnd.databricks.v1+output": {
       "addedWidgets": {},
       "aggData": [],
       "aggError": "",
       "aggOverflow": false,
       "aggSchema": [],
       "aggSeriesLimitReached": false,
       "aggType": "",
       "arguments": {},
       "columnCustomDisplayInfos": {},
       "data": [],
       "datasetInfos": [],
       "dbfsResultPath": null,
       "isJsonSchema": true,
       "metadata": {
        "isDbfsCommandResult": false
       },
       "overflow": false,
       "plotOptions": {
        "customPlotOptions": {},
        "displayType": "table",
        "pivotAggregation": null,
        "pivotColumns": null,
        "xColumns": null,
        "yColumns": null
       },
       "removedWidgets": [],
       "schema": [],
       "type": "table"
      }
     },
     "output_type": "display_data"
    },
    {
     "output_type": "display_data",
     "data": {
      "text/html": [
       "<style scoped>\n",
       "  .table-result-container {\n",
       "    max-height: 300px;\n",
       "    overflow: auto;\n",
       "  }\n",
       "  table, th, td {\n",
       "    border: 1px solid black;\n",
       "    border-collapse: collapse;\n",
       "  }\n",
       "  th, td {\n",
       "    padding: 5px;\n",
       "  }\n",
       "  th {\n",
       "    text-align: left;\n",
       "  }\n",
       "</style><div class='table-result-container'><table class='table-result'><thead style='background-color: white'><tr><th>num_affected_rows</th><th>num_inserted_rows</th></tr></thead><tbody></tbody></table></div>"
      ]
     },
     "metadata": {
      "application/vnd.databricks.v1+output": {
       "addedWidgets": {},
       "aggData": [],
       "aggError": "",
       "aggOverflow": false,
       "aggSchema": [],
       "aggSeriesLimitReached": false,
       "aggType": "",
       "arguments": {},
       "columnCustomDisplayInfos": {},
       "data": [],
       "datasetInfos": [],
       "dbfsResultPath": null,
       "isJsonSchema": true,
       "metadata": {
        "isDbfsCommandResult": false
       },
       "overflow": false,
       "plotOptions": {
        "customPlotOptions": {},
        "displayType": "table",
        "pivotAggregation": null,
        "pivotColumns": null,
        "xColumns": null,
        "yColumns": null
       },
       "removedWidgets": [],
       "schema": [
        {
         "metadata": "{}",
         "name": "num_affected_rows",
         "type": "\"long\""
        },
        {
         "metadata": "{}",
         "name": "num_inserted_rows",
         "type": "\"long\""
        }
       ],
       "type": "table"
      }
     },
     "output_type": "display_data"
    },
    {
     "output_type": "display_data",
     "data": {
      "text/html": [
       "<style scoped>\n",
       "  .table-result-container {\n",
       "    max-height: 300px;\n",
       "    overflow: auto;\n",
       "  }\n",
       "  table, th, td {\n",
       "    border: 1px solid black;\n",
       "    border-collapse: collapse;\n",
       "  }\n",
       "  th, td {\n",
       "    padding: 5px;\n",
       "  }\n",
       "  th {\n",
       "    text-align: left;\n",
       "  }\n",
       "</style><div class='table-result-container'><table class='table-result'><thead style='background-color: white'><tr></tr></thead><tbody></tbody></table></div>"
      ]
     },
     "metadata": {
      "application/vnd.databricks.v1+output": {
       "addedWidgets": {},
       "aggData": [],
       "aggError": "",
       "aggOverflow": false,
       "aggSchema": [],
       "aggSeriesLimitReached": false,
       "aggType": "",
       "arguments": {},
       "columnCustomDisplayInfos": {},
       "data": [],
       "datasetInfos": [],
       "dbfsResultPath": null,
       "isJsonSchema": true,
       "metadata": {
        "isDbfsCommandResult": false
       },
       "overflow": false,
       "plotOptions": {
        "customPlotOptions": {},
        "displayType": "table",
        "pivotAggregation": null,
        "pivotColumns": null,
        "xColumns": null,
        "yColumns": null
       },
       "removedWidgets": [],
       "schema": [],
       "type": "table"
      }
     },
     "output_type": "display_data"
    },
    {
     "output_type": "display_data",
     "data": {
      "text/html": [
       "<style scoped>\n",
       "  .table-result-container {\n",
       "    max-height: 300px;\n",
       "    overflow: auto;\n",
       "  }\n",
       "  table, th, td {\n",
       "    border: 1px solid black;\n",
       "    border-collapse: collapse;\n",
       "  }\n",
       "  th, td {\n",
       "    padding: 5px;\n",
       "  }\n",
       "  th {\n",
       "    text-align: left;\n",
       "  }\n",
       "</style><div class='table-result-container'><table class='table-result'><thead style='background-color: white'><tr><th>num_affected_rows</th><th>num_inserted_rows</th></tr></thead><tbody></tbody></table></div>"
      ]
     },
     "metadata": {
      "application/vnd.databricks.v1+output": {
       "addedWidgets": {},
       "aggData": [],
       "aggError": "",
       "aggOverflow": false,
       "aggSchema": [],
       "aggSeriesLimitReached": false,
       "aggType": "",
       "arguments": {},
       "columnCustomDisplayInfos": {},
       "data": [],
       "datasetInfos": [],
       "dbfsResultPath": null,
       "isJsonSchema": true,
       "metadata": {
        "isDbfsCommandResult": false
       },
       "overflow": false,
       "plotOptions": {
        "customPlotOptions": {},
        "displayType": "table",
        "pivotAggregation": null,
        "pivotColumns": null,
        "xColumns": null,
        "yColumns": null
       },
       "removedWidgets": [],
       "schema": [
        {
         "metadata": "{}",
         "name": "num_affected_rows",
         "type": "\"long\""
        },
        {
         "metadata": "{}",
         "name": "num_inserted_rows",
         "type": "\"long\""
        }
       ],
       "type": "table"
      }
     },
     "output_type": "display_data"
    },
    {
     "output_type": "display_data",
     "data": {
      "text/html": [
       "<style scoped>\n",
       "  .table-result-container {\n",
       "    max-height: 300px;\n",
       "    overflow: auto;\n",
       "  }\n",
       "  table, th, td {\n",
       "    border: 1px solid black;\n",
       "    border-collapse: collapse;\n",
       "  }\n",
       "  th, td {\n",
       "    padding: 5px;\n",
       "  }\n",
       "  th {\n",
       "    text-align: left;\n",
       "  }\n",
       "</style><div class='table-result-container'><table class='table-result'><thead style='background-color: white'><tr></tr></thead><tbody></tbody></table></div>"
      ]
     },
     "metadata": {
      "application/vnd.databricks.v1+output": {
       "addedWidgets": {},
       "aggData": [],
       "aggError": "",
       "aggOverflow": false,
       "aggSchema": [],
       "aggSeriesLimitReached": false,
       "aggType": "",
       "arguments": {},
       "columnCustomDisplayInfos": {},
       "data": [],
       "datasetInfos": [],
       "dbfsResultPath": null,
       "isJsonSchema": true,
       "metadata": {
        "isDbfsCommandResult": false
       },
       "overflow": false,
       "plotOptions": {
        "customPlotOptions": {},
        "displayType": "table",
        "pivotAggregation": null,
        "pivotColumns": null,
        "xColumns": null,
        "yColumns": null
       },
       "removedWidgets": [],
       "schema": [],
       "type": "table"
      }
     },
     "output_type": "display_data"
    }
   ],
   "source": [
    "%run /Workspace/Users/malek01@hotmail.co.uk/df_user_transformations  "
   ]
  },
  {
   "cell_type": "code",
   "execution_count": 0,
   "metadata": {
    "application/vnd.databricks.v1+cell": {
     "cellMetadata": {
      "byteLimit": 2048000,
      "rowLimit": 10000
     },
     "collapsed": true,
     "inputWidgets": {},
     "nuid": "8bb38629-347e-46d3-a5f0-6f66737f6969",
     "showTitle": false,
     "tableResultSettingsMap": {},
     "title": ""
    }
   },
   "outputs": [
    {
     "output_type": "display_data",
     "data": {
      "text/html": [
       "<style scoped>\n",
       "  .table-result-container {\n",
       "    max-height: 300px;\n",
       "    overflow: auto;\n",
       "  }\n",
       "  table, th, td {\n",
       "    border: 1px solid black;\n",
       "    border-collapse: collapse;\n",
       "  }\n",
       "  th, td {\n",
       "    padding: 5px;\n",
       "  }\n",
       "  th {\n",
       "    text-align: left;\n",
       "  }\n",
       "</style><div class='table-result-container'><table class='table-result'><thead style='background-color: white'><tr></tr></thead><tbody></tbody></table></div>"
      ]
     },
     "metadata": {
      "application/vnd.databricks.v1+output": {
       "addedWidgets": {},
       "aggData": [],
       "aggError": "",
       "aggOverflow": false,
       "aggSchema": [],
       "aggSeriesLimitReached": false,
       "aggType": "",
       "arguments": {},
       "columnCustomDisplayInfos": {},
       "data": [],
       "datasetInfos": [],
       "dbfsResultPath": null,
       "isJsonSchema": true,
       "metadata": {
        "isDbfsCommandResult": false
       },
       "overflow": false,
       "plotOptions": {
        "customPlotOptions": {},
        "displayType": "table",
        "pivotAggregation": null,
        "pivotColumns": null,
        "xColumns": null,
        "yColumns": null
       },
       "removedWidgets": [],
       "schema": [],
       "type": "table"
      }
     },
     "output_type": "display_data"
    },
    {
     "output_type": "display_data",
     "data": {
      "text/html": [
       "<style scoped>\n",
       "  .table-result-container {\n",
       "    max-height: 300px;\n",
       "    overflow: auto;\n",
       "  }\n",
       "  table, th, td {\n",
       "    border: 1px solid black;\n",
       "    border-collapse: collapse;\n",
       "  }\n",
       "  th, td {\n",
       "    padding: 5px;\n",
       "  }\n",
       "  th {\n",
       "    text-align: left;\n",
       "  }\n",
       "</style><div class='table-result-container'><table class='table-result'><thead style='background-color: white'><tr></tr></thead><tbody></tbody></table></div>"
      ]
     },
     "metadata": {
      "application/vnd.databricks.v1+output": {
       "addedWidgets": {},
       "aggData": [],
       "aggError": "",
       "aggOverflow": false,
       "aggSchema": [],
       "aggSeriesLimitReached": false,
       "aggType": "",
       "arguments": {},
       "columnCustomDisplayInfos": {},
       "data": [],
       "datasetInfos": [],
       "dbfsResultPath": null,
       "isJsonSchema": true,
       "metadata": {
        "isDbfsCommandResult": false
       },
       "overflow": false,
       "plotOptions": {
        "customPlotOptions": {},
        "displayType": "table",
        "pivotAggregation": null,
        "pivotColumns": null,
        "xColumns": null,
        "yColumns": null
       },
       "removedWidgets": [],
       "schema": [],
       "type": "table"
      }
     },
     "output_type": "display_data"
    },
    {
     "output_type": "display_data",
     "data": {
      "text/html": [
       "<style scoped>\n",
       "  .table-result-container {\n",
       "    max-height: 300px;\n",
       "    overflow: auto;\n",
       "  }\n",
       "  table, th, td {\n",
       "    border: 1px solid black;\n",
       "    border-collapse: collapse;\n",
       "  }\n",
       "  th, td {\n",
       "    padding: 5px;\n",
       "  }\n",
       "  th {\n",
       "    text-align: left;\n",
       "  }\n",
       "</style><div class='table-result-container'><table class='table-result'><thead style='background-color: white'><tr><th>country</th><th>category</th><th>category_count</th></tr></thead><tbody><tr><td>Afghanistan</td><td>education</td><td>29</td></tr><tr><td>Albania</td><td>christmas</td><td>17</td></tr><tr><td>Algeria</td><td>quotes</td><td>49</td></tr><tr><td>American Samoa</td><td>tattoos</td><td>20</td></tr><tr><td>Andorra</td><td>tattoos</td><td>20</td></tr><tr><td>Angola</td><td>diy-and-crafts</td><td>9</td></tr><tr><td>Anguilla</td><td>home-decor</td><td>13</td></tr><tr><td>Antarctica (the territory South of 60 deg S)</td><td>christmas</td><td>13</td></tr><tr><td>Antigua and Barbuda</td><td>christmas</td><td>16</td></tr><tr><td>Argentina</td><td>tattoos</td><td>29</td></tr><tr><td>Armenia</td><td>diy-and-crafts</td><td>13</td></tr><tr><td>Aruba</td><td>art</td><td>16</td></tr><tr><td>Australia</td><td>education</td><td>9</td></tr><tr><td>Austria</td><td>tattoos</td><td>8</td></tr><tr><td>Azerbaijan</td><td>finance</td><td>8</td></tr><tr><td>Bahamas</td><td>event-planning</td><td>8</td></tr><tr><td>Bahrain</td><td>diy-and-crafts</td><td>8</td></tr><tr><td>Bangladesh</td><td>christmas</td><td>12</td></tr><tr><td>Barbados</td><td>art</td><td>5</td></tr><tr><td>Belarus</td><td>travel</td><td>24</td></tr><tr><td>Belgium</td><td>travel</td><td>4</td></tr><tr><td>Belize</td><td>art</td><td>4</td></tr><tr><td>Benin</td><td>travel</td><td>20</td></tr><tr><td>Bermuda</td><td>finance</td><td>4</td></tr><tr><td>Bhutan</td><td>event-planning</td><td>8</td></tr><tr><td>Bolivia</td><td>home-decor</td><td>8</td></tr><tr><td>Bosnia and Herzegovina</td><td>diy-and-crafts</td><td>4</td></tr><tr><td>Botswana</td><td>tattoos</td><td>13</td></tr><tr><td>Bouvet Island (Bouvetoya)</td><td>tattoos</td><td>12</td></tr><tr><td>Brazil</td><td>finance</td><td>4</td></tr><tr><td>British Indian Ocean Territory (Chagos Archipelago)</td><td>finance</td><td>4</td></tr><tr><td>British Virgin Islands</td><td>quotes</td><td>8</td></tr><tr><td>Brunei Darussalam</td><td>home-decor</td><td>4</td></tr><tr><td>Bulgaria</td><td>finance</td><td>9</td></tr><tr><td>Burkina Faso</td><td>quotes</td><td>4</td></tr><tr><td>Burundi</td><td>art</td><td>4</td></tr><tr><td>Cambodia</td><td>beauty</td><td>4</td></tr><tr><td>Cameroon</td><td>beauty</td><td>4</td></tr><tr><td>Canada</td><td>mens-fashion</td><td>4</td></tr><tr><td>Cape Verde</td><td>home-decor</td><td>9</td></tr><tr><td>Cayman Islands</td><td>travel</td><td>4</td></tr><tr><td>Central African Republic</td><td>christmas</td><td>9</td></tr><tr><td>Chad</td><td>art</td><td>4</td></tr><tr><td>Chile</td><td>quotes</td><td>4</td></tr><tr><td>China</td><td>art</td><td>4</td></tr><tr><td>Christmas Island</td><td>christmas</td><td>9</td></tr><tr><td>Cocos (Keeling) Islands</td><td>travel</td><td>4</td></tr><tr><td>Colombia</td><td>home-decor</td><td>4</td></tr><tr><td>Comoros</td><td>finance</td><td>4</td></tr><tr><td>Congo</td><td>education</td><td>4</td></tr><tr><td>Cook Islands</td><td>finance</td><td>4</td></tr><tr><td>Costa Rica</td><td>quotes</td><td>4</td></tr><tr><td>Cote d'Ivoire</td><td>diy-and-crafts</td><td>9</td></tr><tr><td>Cuba</td><td>home-decor</td><td>4</td></tr><tr><td>Czech Republic</td><td>finance</td><td>4</td></tr><tr><td>Denmark</td><td>mens-fashion</td><td>4</td></tr><tr><td>Djibouti</td><td>christmas</td><td>4</td></tr><tr><td>Dominica</td><td>diy-and-crafts</td><td>4</td></tr><tr><td>Dominican Republic</td><td>travel</td><td>9</td></tr><tr><td>Ecuador</td><td>mens-fashion</td><td>4</td></tr><tr><td>Egypt</td><td>finance</td><td>16</td></tr><tr><td>El Salvador</td><td>quotes</td><td>4</td></tr><tr><td>Equatorial Guinea</td><td>mens-fashion</td><td>4</td></tr><tr><td>Ethiopia</td><td>diy-and-crafts</td><td>4</td></tr><tr><td>Falkland Islands (Malvinas)</td><td>education</td><td>4</td></tr><tr><td>Faroe Islands</td><td>event-planning</td><td>8</td></tr><tr><td>Fiji</td><td>education</td><td>8</td></tr><tr><td>Finland</td><td>beauty</td><td>4</td></tr><tr><td>France</td><td>beauty</td><td>4</td></tr><tr><td>French Guiana</td><td>quotes</td><td>16</td></tr><tr><td>French Polynesia</td><td>diy-and-crafts</td><td>4</td></tr><tr><td>French Southern Territories</td><td>art</td><td>4</td></tr><tr><td>Gambia</td><td>home-decor</td><td>4</td></tr><tr><td>Georgia</td><td>education</td><td>4</td></tr><tr><td>Germany</td><td>event-planning</td><td>9</td></tr><tr><td>Gibraltar</td><td>art</td><td>4</td></tr><tr><td>Greece</td><td>art</td><td>4</td></tr><tr><td>Greenland</td><td>beauty</td><td>4</td></tr><tr><td>Grenada</td><td>event-planning</td><td>4</td></tr><tr><td>Guadeloupe</td><td>christmas</td><td>4</td></tr><tr><td>Guatemala</td><td>finance</td><td>4</td></tr><tr><td>Guernsey</td><td>mens-fashion</td><td>4</td></tr><tr><td>Guinea</td><td>christmas</td><td>4</td></tr><tr><td>Guinea-Bissau</td><td>tattoos</td><td>9</td></tr><tr><td>Guyana</td><td>quotes</td><td>4</td></tr><tr><td>Haiti</td><td>home-decor</td><td>4</td></tr><tr><td>Heard Island and McDonald Islands</td><td>vehicles</td><td>4</td></tr><tr><td>Hong Kong</td><td>vehicles</td><td>4</td></tr><tr><td>Hungary</td><td>event-planning</td><td>4</td></tr><tr><td>India</td><td>travel</td><td>25</td></tr><tr><td>Indonesia</td><td>finance</td><td>16</td></tr><tr><td>Iran</td><td>tattoos</td><td>4</td></tr><tr><td>Iraq</td><td>mens-fashion</td><td>4</td></tr><tr><td>Isle of Man</td><td>art</td><td>13</td></tr><tr><td>Israel</td><td>quotes</td><td>4</td></tr><tr><td>Jamaica</td><td>vehicles</td><td>1</td></tr><tr><td>Japan</td><td>art</td><td>4</td></tr><tr><td>Jordan</td><td>mens-fashion</td><td>4</td></tr><tr><td>Kenya</td><td>diy-and-crafts</td><td>4</td></tr><tr><td>Kiribati</td><td>vehicles</td><td>4</td></tr><tr><td>Korea</td><td>home-decor</td><td>4</td></tr><tr><td>Kuwait</td><td>event-planning</td><td>4</td></tr><tr><td>Kyrgyz Republic</td><td>vehicles</td><td>8</td></tr><tr><td>Latvia</td><td>travel</td><td>8</td></tr><tr><td>Lebanon</td><td>quotes</td><td>4</td></tr><tr><td>Lesotho</td><td>art</td><td>12</td></tr><tr><td>Liechtenstein</td><td>mens-fashion</td><td>4</td></tr><tr><td>Lithuania</td><td>diy-and-crafts</td><td>4</td></tr><tr><td>Macao</td><td>mens-fashion</td><td>4</td></tr><tr><td>Madagascar</td><td>quotes</td><td>4</td></tr><tr><td>Malawi</td><td>travel</td><td>4</td></tr><tr><td>Maldives</td><td>beauty</td><td>9</td></tr><tr><td>Mali</td><td>christmas</td><td>4</td></tr><tr><td>Malta</td><td>home-decor</td><td>4</td></tr><tr><td>Marshall Islands</td><td>travel</td><td>16</td></tr><tr><td>Mauritania</td><td>education</td><td>1</td></tr><tr><td>Mayotte</td><td>beauty</td><td>4</td></tr><tr><td>Mexico</td><td>vehicles</td><td>4</td></tr><tr><td>Moldova</td><td>home-decor</td><td>8</td></tr><tr><td>Monaco</td><td>vehicles</td><td>4</td></tr><tr><td>Montserrat</td><td>art</td><td>9</td></tr><tr><td>Morocco</td><td>quotes</td><td>4</td></tr><tr><td>Mozambique</td><td>home-decor</td><td>9</td></tr><tr><td>Namibia</td><td>quotes</td><td>4</td></tr><tr><td>Nauru</td><td>beauty</td><td>4</td></tr><tr><td>Netherlands</td><td>home-decor</td><td>4</td></tr><tr><td>Netherlands Antilles</td><td>art</td><td>13</td></tr><tr><td>New Caledonia</td><td>mens-fashion</td><td>13</td></tr><tr><td>Nicaragua</td><td>mens-fashion</td><td>4</td></tr><tr><td>Niger</td><td>art</td><td>4</td></tr><tr><td>Nigeria</td><td>christmas</td><td>4</td></tr><tr><td>Norfolk Island</td><td>event-planning</td><td>4</td></tr><tr><td>Norway</td><td>travel</td><td>4</td></tr><tr><td>Oman</td><td>diy-and-crafts</td><td>4</td></tr><tr><td>Panama</td><td>travel</td><td>4</td></tr><tr><td>Papua New Guinea</td><td>quotes</td><td>9</td></tr><tr><td>Peru</td><td>vehicles</td><td>4</td></tr><tr><td>Philippines</td><td>event-planning</td><td>1</td></tr><tr><td>Pitcairn Islands</td><td>diy-and-crafts</td><td>4</td></tr><tr><td>Portugal</td><td>diy-and-crafts</td><td>4</td></tr><tr><td>Puerto Rico</td><td>event-planning</td><td>4</td></tr><tr><td>Qatar</td><td>travel</td><td>4</td></tr><tr><td>Romania</td><td>tattoos</td><td>4</td></tr><tr><td>Russian Federation</td><td>christmas</td><td>4</td></tr><tr><td>Saint Barthelemy</td><td>mens-fashion</td><td>4</td></tr><tr><td>Saint Kitts and Nevis</td><td>vehicles</td><td>9</td></tr><tr><td>Saint Martin</td><td>home-decor</td><td>9</td></tr><tr><td>Saint Pierre and Miquelon</td><td>quotes</td><td>4</td></tr><tr><td>Saint Vincent and the Grenadines</td><td>christmas</td><td>4</td></tr><tr><td>San Marino</td><td>mens-fashion</td><td>4</td></tr><tr><td>Saudi Arabia</td><td>christmas</td><td>4</td></tr><tr><td>Senegal</td><td>tattoos</td><td>4</td></tr><tr><td>Seychelles</td><td>beauty</td><td>4</td></tr><tr><td>Singapore</td><td>vehicles</td><td>4</td></tr><tr><td>Solomon Islands</td><td>art</td><td>4</td></tr><tr><td>Somalia</td><td>travel</td><td>4</td></tr><tr><td>Sudan</td><td>mens-fashion</td><td>1</td></tr><tr><td>Svalbard & Jan Mayen Islands</td><td>beauty</td><td>4</td></tr><tr><td>Sweden</td><td>finance</td><td>4</td></tr><tr><td>Taiwan</td><td>event-planning</td><td>4</td></tr><tr><td>Thailand</td><td>home-decor</td><td>4</td></tr><tr><td>Tokelau</td><td>tattoos</td><td>4</td></tr><tr><td>Tonga</td><td>beauty</td><td>1</td></tr><tr><td>Tunisia</td><td>travel</td><td>4</td></tr><tr><td>Turkey</td><td>education</td><td>1</td></tr><tr><td>Turkmenistan</td><td>event-planning</td><td>4</td></tr><tr><td>Turks and Caicos Islands</td><td>event-planning</td><td>4</td></tr><tr><td>Tuvalu</td><td>tattoos</td><td>4</td></tr><tr><td>Uganda</td><td>beauty</td><td>4</td></tr><tr><td>United Kingdom</td><td>tattoos</td><td>8</td></tr><tr><td>United States Minor Outlying Islands</td><td>christmas</td><td>4</td></tr><tr><td>United States Virgin Islands</td><td>quotes</td><td>8</td></tr><tr><td>United States of America</td><td>tattoos</td><td>4</td></tr><tr><td>Venezuela</td><td>finance</td><td>4</td></tr><tr><td>Vietnam</td><td>home-decor</td><td>4</td></tr><tr><td>Wallis and Futuna</td><td>home-decor</td><td>4</td></tr></tbody></table></div>"
      ]
     },
     "metadata": {
      "application/vnd.databricks.v1+output": {
       "addedWidgets": {},
       "aggData": [],
       "aggError": "",
       "aggOverflow": false,
       "aggSchema": [],
       "aggSeriesLimitReached": false,
       "aggType": "",
       "arguments": {},
       "columnCustomDisplayInfos": {},
       "data": [
        [
         "Afghanistan",
         "education",
         29
        ],
        [
         "Albania",
         "christmas",
         17
        ],
        [
         "Algeria",
         "quotes",
         49
        ],
        [
         "American Samoa",
         "tattoos",
         20
        ],
        [
         "Andorra",
         "tattoos",
         20
        ],
        [
         "Angola",
         "diy-and-crafts",
         9
        ],
        [
         "Anguilla",
         "home-decor",
         13
        ],
        [
         "Antarctica (the territory South of 60 deg S)",
         "christmas",
         13
        ],
        [
         "Antigua and Barbuda",
         "christmas",
         16
        ],
        [
         "Argentina",
         "tattoos",
         29
        ],
        [
         "Armenia",
         "diy-and-crafts",
         13
        ],
        [
         "Aruba",
         "art",
         16
        ],
        [
         "Australia",
         "education",
         9
        ],
        [
         "Austria",
         "tattoos",
         8
        ],
        [
         "Azerbaijan",
         "finance",
         8
        ],
        [
         "Bahamas",
         "event-planning",
         8
        ],
        [
         "Bahrain",
         "diy-and-crafts",
         8
        ],
        [
         "Bangladesh",
         "christmas",
         12
        ],
        [
         "Barbados",
         "art",
         5
        ],
        [
         "Belarus",
         "travel",
         24
        ],
        [
         "Belgium",
         "travel",
         4
        ],
        [
         "Belize",
         "art",
         4
        ],
        [
         "Benin",
         "travel",
         20
        ],
        [
         "Bermuda",
         "finance",
         4
        ],
        [
         "Bhutan",
         "event-planning",
         8
        ],
        [
         "Bolivia",
         "home-decor",
         8
        ],
        [
         "Bosnia and Herzegovina",
         "diy-and-crafts",
         4
        ],
        [
         "Botswana",
         "tattoos",
         13
        ],
        [
         "Bouvet Island (Bouvetoya)",
         "tattoos",
         12
        ],
        [
         "Brazil",
         "finance",
         4
        ],
        [
         "British Indian Ocean Territory (Chagos Archipelago)",
         "finance",
         4
        ],
        [
         "British Virgin Islands",
         "quotes",
         8
        ],
        [
         "Brunei Darussalam",
         "home-decor",
         4
        ],
        [
         "Bulgaria",
         "finance",
         9
        ],
        [
         "Burkina Faso",
         "quotes",
         4
        ],
        [
         "Burundi",
         "art",
         4
        ],
        [
         "Cambodia",
         "beauty",
         4
        ],
        [
         "Cameroon",
         "beauty",
         4
        ],
        [
         "Canada",
         "mens-fashion",
         4
        ],
        [
         "Cape Verde",
         "home-decor",
         9
        ],
        [
         "Cayman Islands",
         "travel",
         4
        ],
        [
         "Central African Republic",
         "christmas",
         9
        ],
        [
         "Chad",
         "art",
         4
        ],
        [
         "Chile",
         "quotes",
         4
        ],
        [
         "China",
         "art",
         4
        ],
        [
         "Christmas Island",
         "christmas",
         9
        ],
        [
         "Cocos (Keeling) Islands",
         "travel",
         4
        ],
        [
         "Colombia",
         "home-decor",
         4
        ],
        [
         "Comoros",
         "finance",
         4
        ],
        [
         "Congo",
         "education",
         4
        ],
        [
         "Cook Islands",
         "finance",
         4
        ],
        [
         "Costa Rica",
         "quotes",
         4
        ],
        [
         "Cote d'Ivoire",
         "diy-and-crafts",
         9
        ],
        [
         "Cuba",
         "home-decor",
         4
        ],
        [
         "Czech Republic",
         "finance",
         4
        ],
        [
         "Denmark",
         "mens-fashion",
         4
        ],
        [
         "Djibouti",
         "christmas",
         4
        ],
        [
         "Dominica",
         "diy-and-crafts",
         4
        ],
        [
         "Dominican Republic",
         "travel",
         9
        ],
        [
         "Ecuador",
         "mens-fashion",
         4
        ],
        [
         "Egypt",
         "finance",
         16
        ],
        [
         "El Salvador",
         "quotes",
         4
        ],
        [
         "Equatorial Guinea",
         "mens-fashion",
         4
        ],
        [
         "Ethiopia",
         "diy-and-crafts",
         4
        ],
        [
         "Falkland Islands (Malvinas)",
         "education",
         4
        ],
        [
         "Faroe Islands",
         "event-planning",
         8
        ],
        [
         "Fiji",
         "education",
         8
        ],
        [
         "Finland",
         "beauty",
         4
        ],
        [
         "France",
         "beauty",
         4
        ],
        [
         "French Guiana",
         "quotes",
         16
        ],
        [
         "French Polynesia",
         "diy-and-crafts",
         4
        ],
        [
         "French Southern Territories",
         "art",
         4
        ],
        [
         "Gambia",
         "home-decor",
         4
        ],
        [
         "Georgia",
         "education",
         4
        ],
        [
         "Germany",
         "event-planning",
         9
        ],
        [
         "Gibraltar",
         "art",
         4
        ],
        [
         "Greece",
         "art",
         4
        ],
        [
         "Greenland",
         "beauty",
         4
        ],
        [
         "Grenada",
         "event-planning",
         4
        ],
        [
         "Guadeloupe",
         "christmas",
         4
        ],
        [
         "Guatemala",
         "finance",
         4
        ],
        [
         "Guernsey",
         "mens-fashion",
         4
        ],
        [
         "Guinea",
         "christmas",
         4
        ],
        [
         "Guinea-Bissau",
         "tattoos",
         9
        ],
        [
         "Guyana",
         "quotes",
         4
        ],
        [
         "Haiti",
         "home-decor",
         4
        ],
        [
         "Heard Island and McDonald Islands",
         "vehicles",
         4
        ],
        [
         "Hong Kong",
         "vehicles",
         4
        ],
        [
         "Hungary",
         "event-planning",
         4
        ],
        [
         "India",
         "travel",
         25
        ],
        [
         "Indonesia",
         "finance",
         16
        ],
        [
         "Iran",
         "tattoos",
         4
        ],
        [
         "Iraq",
         "mens-fashion",
         4
        ],
        [
         "Isle of Man",
         "art",
         13
        ],
        [
         "Israel",
         "quotes",
         4
        ],
        [
         "Jamaica",
         "vehicles",
         1
        ],
        [
         "Japan",
         "art",
         4
        ],
        [
         "Jordan",
         "mens-fashion",
         4
        ],
        [
         "Kenya",
         "diy-and-crafts",
         4
        ],
        [
         "Kiribati",
         "vehicles",
         4
        ],
        [
         "Korea",
         "home-decor",
         4
        ],
        [
         "Kuwait",
         "event-planning",
         4
        ],
        [
         "Kyrgyz Republic",
         "vehicles",
         8
        ],
        [
         "Latvia",
         "travel",
         8
        ],
        [
         "Lebanon",
         "quotes",
         4
        ],
        [
         "Lesotho",
         "art",
         12
        ],
        [
         "Liechtenstein",
         "mens-fashion",
         4
        ],
        [
         "Lithuania",
         "diy-and-crafts",
         4
        ],
        [
         "Macao",
         "mens-fashion",
         4
        ],
        [
         "Madagascar",
         "quotes",
         4
        ],
        [
         "Malawi",
         "travel",
         4
        ],
        [
         "Maldives",
         "beauty",
         9
        ],
        [
         "Mali",
         "christmas",
         4
        ],
        [
         "Malta",
         "home-decor",
         4
        ],
        [
         "Marshall Islands",
         "travel",
         16
        ],
        [
         "Mauritania",
         "education",
         1
        ],
        [
         "Mayotte",
         "beauty",
         4
        ],
        [
         "Mexico",
         "vehicles",
         4
        ],
        [
         "Moldova",
         "home-decor",
         8
        ],
        [
         "Monaco",
         "vehicles",
         4
        ],
        [
         "Montserrat",
         "art",
         9
        ],
        [
         "Morocco",
         "quotes",
         4
        ],
        [
         "Mozambique",
         "home-decor",
         9
        ],
        [
         "Namibia",
         "quotes",
         4
        ],
        [
         "Nauru",
         "beauty",
         4
        ],
        [
         "Netherlands",
         "home-decor",
         4
        ],
        [
         "Netherlands Antilles",
         "art",
         13
        ],
        [
         "New Caledonia",
         "mens-fashion",
         13
        ],
        [
         "Nicaragua",
         "mens-fashion",
         4
        ],
        [
         "Niger",
         "art",
         4
        ],
        [
         "Nigeria",
         "christmas",
         4
        ],
        [
         "Norfolk Island",
         "event-planning",
         4
        ],
        [
         "Norway",
         "travel",
         4
        ],
        [
         "Oman",
         "diy-and-crafts",
         4
        ],
        [
         "Panama",
         "travel",
         4
        ],
        [
         "Papua New Guinea",
         "quotes",
         9
        ],
        [
         "Peru",
         "vehicles",
         4
        ],
        [
         "Philippines",
         "event-planning",
         1
        ],
        [
         "Pitcairn Islands",
         "diy-and-crafts",
         4
        ],
        [
         "Portugal",
         "diy-and-crafts",
         4
        ],
        [
         "Puerto Rico",
         "event-planning",
         4
        ],
        [
         "Qatar",
         "travel",
         4
        ],
        [
         "Romania",
         "tattoos",
         4
        ],
        [
         "Russian Federation",
         "christmas",
         4
        ],
        [
         "Saint Barthelemy",
         "mens-fashion",
         4
        ],
        [
         "Saint Kitts and Nevis",
         "vehicles",
         9
        ],
        [
         "Saint Martin",
         "home-decor",
         9
        ],
        [
         "Saint Pierre and Miquelon",
         "quotes",
         4
        ],
        [
         "Saint Vincent and the Grenadines",
         "christmas",
         4
        ],
        [
         "San Marino",
         "mens-fashion",
         4
        ],
        [
         "Saudi Arabia",
         "christmas",
         4
        ],
        [
         "Senegal",
         "tattoos",
         4
        ],
        [
         "Seychelles",
         "beauty",
         4
        ],
        [
         "Singapore",
         "vehicles",
         4
        ],
        [
         "Solomon Islands",
         "art",
         4
        ],
        [
         "Somalia",
         "travel",
         4
        ],
        [
         "Sudan",
         "mens-fashion",
         1
        ],
        [
         "Svalbard & Jan Mayen Islands",
         "beauty",
         4
        ],
        [
         "Sweden",
         "finance",
         4
        ],
        [
         "Taiwan",
         "event-planning",
         4
        ],
        [
         "Thailand",
         "home-decor",
         4
        ],
        [
         "Tokelau",
         "tattoos",
         4
        ],
        [
         "Tonga",
         "beauty",
         1
        ],
        [
         "Tunisia",
         "travel",
         4
        ],
        [
         "Turkey",
         "education",
         1
        ],
        [
         "Turkmenistan",
         "event-planning",
         4
        ],
        [
         "Turks and Caicos Islands",
         "event-planning",
         4
        ],
        [
         "Tuvalu",
         "tattoos",
         4
        ],
        [
         "Uganda",
         "beauty",
         4
        ],
        [
         "United Kingdom",
         "tattoos",
         8
        ],
        [
         "United States Minor Outlying Islands",
         "christmas",
         4
        ],
        [
         "United States Virgin Islands",
         "quotes",
         8
        ],
        [
         "United States of America",
         "tattoos",
         4
        ],
        [
         "Venezuela",
         "finance",
         4
        ],
        [
         "Vietnam",
         "home-decor",
         4
        ],
        [
         "Wallis and Futuna",
         "home-decor",
         4
        ]
       ],
       "datasetInfos": [],
       "dbfsResultPath": null,
       "isJsonSchema": true,
       "metadata": {
        "isDbfsCommandResult": false
       },
       "overflow": false,
       "plotOptions": {
        "customPlotOptions": {},
        "displayType": "table",
        "pivotAggregation": null,
        "pivotColumns": null,
        "xColumns": null,
        "yColumns": null
       },
       "removedWidgets": [],
       "schema": [
        {
         "metadata": "{}",
         "name": "country",
         "type": "\"string\""
        },
        {
         "metadata": "{}",
         "name": "category",
         "type": "\"string\""
        },
        {
         "metadata": "{}",
         "name": "category_count",
         "type": "\"long\""
        }
       ],
       "type": "table"
      }
     },
     "output_type": "display_data"
    }
   ],
   "source": [
    "%run /Workspace/Users/malek01@hotmail.co.uk/category_count"
   ]
  },
  {
   "cell_type": "code",
   "execution_count": 0,
   "metadata": {
    "application/vnd.databricks.v1+cell": {
     "cellMetadata": {
      "byteLimit": 2048000,
      "rowLimit": 10000
     },
     "collapsed": true,
     "inputWidgets": {},
     "nuid": "6d59004b-b2ec-4e30-b434-14deac26b1d9",
     "showTitle": false,
     "tableResultSettingsMap": {},
     "title": ""
    }
   },
   "outputs": [
    {
     "output_type": "display_data",
     "data": {
      "text/html": [
       "<style scoped>\n",
       "  .table-result-container {\n",
       "    max-height: 300px;\n",
       "    overflow: auto;\n",
       "  }\n",
       "  table, th, td {\n",
       "    border: 1px solid black;\n",
       "    border-collapse: collapse;\n",
       "  }\n",
       "  th, td {\n",
       "    padding: 5px;\n",
       "  }\n",
       "  th {\n",
       "    text-align: left;\n",
       "  }\n",
       "</style><div class='table-result-container'><table class='table-result'><thead style='background-color: white'><tr></tr></thead><tbody></tbody></table></div>"
      ]
     },
     "metadata": {
      "application/vnd.databricks.v1+output": {
       "addedWidgets": {},
       "aggData": [],
       "aggError": "",
       "aggOverflow": false,
       "aggSchema": [],
       "aggSeriesLimitReached": false,
       "aggType": "",
       "arguments": {},
       "columnCustomDisplayInfos": {},
       "data": [],
       "datasetInfos": [],
       "dbfsResultPath": null,
       "isJsonSchema": true,
       "metadata": {
        "isDbfsCommandResult": false
       },
       "overflow": false,
       "plotOptions": {
        "customPlotOptions": {},
        "displayType": "table",
        "pivotAggregation": null,
        "pivotColumns": null,
        "xColumns": null,
        "yColumns": null
       },
       "removedWidgets": [],
       "schema": [],
       "type": "table"
      }
     },
     "output_type": "display_data"
    },
    {
     "output_type": "display_data",
     "data": {
      "text/html": [
       "<style scoped>\n",
       "  .table-result-container {\n",
       "    max-height: 300px;\n",
       "    overflow: auto;\n",
       "  }\n",
       "  table, th, td {\n",
       "    border: 1px solid black;\n",
       "    border-collapse: collapse;\n",
       "  }\n",
       "  th, td {\n",
       "    padding: 5px;\n",
       "  }\n",
       "  th {\n",
       "    text-align: left;\n",
       "  }\n",
       "</style><div class='table-result-container'><table class='table-result'><thead style='background-color: white'><tr></tr></thead><tbody></tbody></table></div>"
      ]
     },
     "metadata": {
      "application/vnd.databricks.v1+output": {
       "addedWidgets": {},
       "aggData": [],
       "aggError": "",
       "aggOverflow": false,
       "aggSchema": [],
       "aggSeriesLimitReached": false,
       "aggType": "",
       "arguments": {},
       "columnCustomDisplayInfos": {},
       "data": [],
       "datasetInfos": [],
       "dbfsResultPath": null,
       "isJsonSchema": true,
       "metadata": {
        "isDbfsCommandResult": false
       },
       "overflow": false,
       "plotOptions": {
        "customPlotOptions": {},
        "displayType": "table",
        "pivotAggregation": null,
        "pivotColumns": null,
        "xColumns": null,
        "yColumns": null
       },
       "removedWidgets": [],
       "schema": [],
       "type": "table"
      }
     },
     "output_type": "display_data"
    },
    {
     "output_type": "display_data",
     "data": {
      "text/html": [
       "<style scoped>\n",
       "  .table-result-container {\n",
       "    max-height: 300px;\n",
       "    overflow: auto;\n",
       "  }\n",
       "  table, th, td {\n",
       "    border: 1px solid black;\n",
       "    border-collapse: collapse;\n",
       "  }\n",
       "  th, td {\n",
       "    padding: 5px;\n",
       "  }\n",
       "  th {\n",
       "    text-align: left;\n",
       "  }\n",
       "</style><div class='table-result-container'><table class='table-result'><thead style='background-color: white'><tr><th>post_year</th><th>category</th><th>category_count</th></tr></thead><tbody><tr><td>2018</td><td>quotes</td><td>50</td></tr><tr><td>2018</td><td>tattoos</td><td>49</td></tr><tr><td>2018</td><td>travel</td><td>47</td></tr><tr><td>2018</td><td>diy-and-crafts</td><td>45</td></tr><tr><td>2018</td><td>christmas</td><td>42</td></tr><tr><td>2018</td><td>beauty</td><td>42</td></tr><tr><td>2018</td><td>education</td><td>30</td></tr><tr><td>2018</td><td>finance</td><td>28</td></tr><tr><td>2018</td><td>home-decor</td><td>24</td></tr><tr><td>2018</td><td>art</td><td>23</td></tr><tr><td>2018</td><td>event-planning</td><td>16</td></tr><tr><td>2018</td><td>mens-fashion</td><td>14</td></tr><tr><td>2018</td><td>vehicles</td><td>9</td></tr><tr><td>2019</td><td>travel</td><td>75</td></tr><tr><td>2019</td><td>diy-and-crafts</td><td>54</td></tr><tr><td>2019</td><td>home-decor</td><td>53</td></tr><tr><td>2019</td><td>quotes</td><td>52</td></tr><tr><td>2019</td><td>education</td><td>44</td></tr><tr><td>2019</td><td>art</td><td>42</td></tr><tr><td>2019</td><td>mens-fashion</td><td>41</td></tr><tr><td>2019</td><td>vehicles</td><td>38</td></tr><tr><td>2019</td><td>christmas</td><td>34</td></tr><tr><td>2019</td><td>finance</td><td>25</td></tr><tr><td>2019</td><td>beauty</td><td>21</td></tr><tr><td>2019</td><td>tattoos</td><td>20</td></tr><tr><td>2019</td><td>event-planning</td><td>19</td></tr><tr><td>2020</td><td>travel</td><td>57</td></tr><tr><td>2020</td><td>home-decor</td><td>51</td></tr><tr><td>2020</td><td>event-planning</td><td>45</td></tr><tr><td>2020</td><td>christmas</td><td>41</td></tr><tr><td>2020</td><td>beauty</td><td>40</td></tr><tr><td>2020</td><td>finance</td><td>37</td></tr><tr><td>2020</td><td>tattoos</td><td>37</td></tr><tr><td>2020</td><td>art</td><td>35</td></tr><tr><td>2020</td><td>mens-fashion</td><td>24</td></tr><tr><td>2020</td><td>quotes</td><td>24</td></tr><tr><td>2020</td><td>diy-and-crafts</td><td>20</td></tr><tr><td>2020</td><td>vehicles</td><td>12</td></tr><tr><td>2020</td><td>education</td><td>4</td></tr><tr><td>2021</td><td>tattoos</td><td>55</td></tr><tr><td>2021</td><td>travel</td><td>48</td></tr><tr><td>2021</td><td>art</td><td>45</td></tr><tr><td>2021</td><td>mens-fashion</td><td>41</td></tr><tr><td>2021</td><td>finance</td><td>38</td></tr><tr><td>2021</td><td>home-decor</td><td>37</td></tr><tr><td>2021</td><td>education</td><td>36</td></tr><tr><td>2021</td><td>vehicles</td><td>36</td></tr><tr><td>2021</td><td>event-planning</td><td>33</td></tr><tr><td>2021</td><td>diy-and-crafts</td><td>31</td></tr><tr><td>2021</td><td>quotes</td><td>29</td></tr><tr><td>2021</td><td>christmas</td><td>28</td></tr><tr><td>2021</td><td>beauty</td><td>12</td></tr><tr><td>2022</td><td>tattoos</td><td>45</td></tr><tr><td>2022</td><td>travel</td><td>40</td></tr><tr><td>2022</td><td>quotes</td><td>40</td></tr><tr><td>2022</td><td>diy-and-crafts</td><td>32</td></tr><tr><td>2022</td><td>finance</td><td>28</td></tr><tr><td>2022</td><td>event-planning</td><td>28</td></tr><tr><td>2022</td><td>beauty</td><td>26</td></tr><tr><td>2022</td><td>christmas</td><td>26</td></tr><tr><td>2022</td><td>art</td><td>20</td></tr><tr><td>2022</td><td>home-decor</td><td>20</td></tr><tr><td>2022</td><td>education</td><td>16</td></tr><tr><td>2022</td><td>vehicles</td><td>13</td></tr><tr><td>2022</td><td>mens-fashion</td><td>9</td></tr></tbody></table></div>"
      ]
     },
     "metadata": {
      "application/vnd.databricks.v1+output": {
       "addedWidgets": {},
       "aggData": [],
       "aggError": "",
       "aggOverflow": false,
       "aggSchema": [],
       "aggSeriesLimitReached": false,
       "aggType": "",
       "arguments": {},
       "columnCustomDisplayInfos": {},
       "data": [
        [
         2018,
         "quotes",
         50
        ],
        [
         2018,
         "tattoos",
         49
        ],
        [
         2018,
         "travel",
         47
        ],
        [
         2018,
         "diy-and-crafts",
         45
        ],
        [
         2018,
         "christmas",
         42
        ],
        [
         2018,
         "beauty",
         42
        ],
        [
         2018,
         "education",
         30
        ],
        [
         2018,
         "finance",
         28
        ],
        [
         2018,
         "home-decor",
         24
        ],
        [
         2018,
         "art",
         23
        ],
        [
         2018,
         "event-planning",
         16
        ],
        [
         2018,
         "mens-fashion",
         14
        ],
        [
         2018,
         "vehicles",
         9
        ],
        [
         2019,
         "travel",
         75
        ],
        [
         2019,
         "diy-and-crafts",
         54
        ],
        [
         2019,
         "home-decor",
         53
        ],
        [
         2019,
         "quotes",
         52
        ],
        [
         2019,
         "education",
         44
        ],
        [
         2019,
         "art",
         42
        ],
        [
         2019,
         "mens-fashion",
         41
        ],
        [
         2019,
         "vehicles",
         38
        ],
        [
         2019,
         "christmas",
         34
        ],
        [
         2019,
         "finance",
         25
        ],
        [
         2019,
         "beauty",
         21
        ],
        [
         2019,
         "tattoos",
         20
        ],
        [
         2019,
         "event-planning",
         19
        ],
        [
         2020,
         "travel",
         57
        ],
        [
         2020,
         "home-decor",
         51
        ],
        [
         2020,
         "event-planning",
         45
        ],
        [
         2020,
         "christmas",
         41
        ],
        [
         2020,
         "beauty",
         40
        ],
        [
         2020,
         "finance",
         37
        ],
        [
         2020,
         "tattoos",
         37
        ],
        [
         2020,
         "art",
         35
        ],
        [
         2020,
         "mens-fashion",
         24
        ],
        [
         2020,
         "quotes",
         24
        ],
        [
         2020,
         "diy-and-crafts",
         20
        ],
        [
         2020,
         "vehicles",
         12
        ],
        [
         2020,
         "education",
         4
        ],
        [
         2021,
         "tattoos",
         55
        ],
        [
         2021,
         "travel",
         48
        ],
        [
         2021,
         "art",
         45
        ],
        [
         2021,
         "mens-fashion",
         41
        ],
        [
         2021,
         "finance",
         38
        ],
        [
         2021,
         "home-decor",
         37
        ],
        [
         2021,
         "education",
         36
        ],
        [
         2021,
         "vehicles",
         36
        ],
        [
         2021,
         "event-planning",
         33
        ],
        [
         2021,
         "diy-and-crafts",
         31
        ],
        [
         2021,
         "quotes",
         29
        ],
        [
         2021,
         "christmas",
         28
        ],
        [
         2021,
         "beauty",
         12
        ],
        [
         2022,
         "tattoos",
         45
        ],
        [
         2022,
         "travel",
         40
        ],
        [
         2022,
         "quotes",
         40
        ],
        [
         2022,
         "diy-and-crafts",
         32
        ],
        [
         2022,
         "finance",
         28
        ],
        [
         2022,
         "event-planning",
         28
        ],
        [
         2022,
         "beauty",
         26
        ],
        [
         2022,
         "christmas",
         26
        ],
        [
         2022,
         "art",
         20
        ],
        [
         2022,
         "home-decor",
         20
        ],
        [
         2022,
         "education",
         16
        ],
        [
         2022,
         "vehicles",
         13
        ],
        [
         2022,
         "mens-fashion",
         9
        ]
       ],
       "datasetInfos": [],
       "dbfsResultPath": null,
       "isJsonSchema": true,
       "metadata": {
        "isDbfsCommandResult": false
       },
       "overflow": false,
       "plotOptions": {
        "customPlotOptions": {},
        "displayType": "table",
        "pivotAggregation": null,
        "pivotColumns": null,
        "xColumns": null,
        "yColumns": null
       },
       "removedWidgets": [],
       "schema": [
        {
         "metadata": "{}",
         "name": "post_year",
         "type": "\"integer\""
        },
        {
         "metadata": "{}",
         "name": "category",
         "type": "\"string\""
        },
        {
         "metadata": "{}",
         "name": "category_count",
         "type": "\"long\""
        }
       ],
       "type": "table"
      }
     },
     "output_type": "display_data"
    }
   ],
   "source": [
    "%run /Workspace/Users/malek01@hotmail.co.uk/category_count_each_year"
   ]
  },
  {
   "cell_type": "code",
   "execution_count": 0,
   "metadata": {
    "application/vnd.databricks.v1+cell": {
     "cellMetadata": {
      "byteLimit": 2048000,
      "rowLimit": 10000
     },
     "collapsed": true,
     "inputWidgets": {},
     "nuid": "eba560ab-a138-438f-b6e2-e15dbb71a6f7",
     "showTitle": false,
     "tableResultSettingsMap": {},
     "title": ""
    }
   },
   "outputs": [
    {
     "output_type": "display_data",
     "data": {
      "text/html": [
       "<style scoped>\n",
       "  .table-result-container {\n",
       "    max-height: 300px;\n",
       "    overflow: auto;\n",
       "  }\n",
       "  table, th, td {\n",
       "    border: 1px solid black;\n",
       "    border-collapse: collapse;\n",
       "  }\n",
       "  th, td {\n",
       "    padding: 5px;\n",
       "  }\n",
       "  th {\n",
       "    text-align: left;\n",
       "  }\n",
       "</style><div class='table-result-container'><table class='table-result'><thead style='background-color: white'><tr></tr></thead><tbody></tbody></table></div>"
      ]
     },
     "metadata": {
      "application/vnd.databricks.v1+output": {
       "addedWidgets": {},
       "aggData": [],
       "aggError": "",
       "aggOverflow": false,
       "aggSchema": [],
       "aggSeriesLimitReached": false,
       "aggType": "",
       "arguments": {},
       "columnCustomDisplayInfos": {},
       "data": [],
       "datasetInfos": [],
       "dbfsResultPath": null,
       "isJsonSchema": true,
       "metadata": {
        "isDbfsCommandResult": false
       },
       "overflow": false,
       "plotOptions": {
        "customPlotOptions": {},
        "displayType": "table",
        "pivotAggregation": null,
        "pivotColumns": null,
        "xColumns": null,
        "yColumns": null
       },
       "removedWidgets": [],
       "schema": [],
       "type": "table"
      }
     },
     "output_type": "display_data"
    },
    {
     "output_type": "display_data",
     "data": {
      "text/html": [
       "<style scoped>\n",
       "  .table-result-container {\n",
       "    max-height: 300px;\n",
       "    overflow: auto;\n",
       "  }\n",
       "  table, th, td {\n",
       "    border: 1px solid black;\n",
       "    border-collapse: collapse;\n",
       "  }\n",
       "  th, td {\n",
       "    padding: 5px;\n",
       "  }\n",
       "  th {\n",
       "    text-align: left;\n",
       "  }\n",
       "</style><div class='table-result-container'><table class='table-result'><thead style='background-color: white'><tr></tr></thead><tbody></tbody></table></div>"
      ]
     },
     "metadata": {
      "application/vnd.databricks.v1+output": {
       "addedWidgets": {},
       "aggData": [],
       "aggError": "",
       "aggOverflow": false,
       "aggSchema": [],
       "aggSeriesLimitReached": false,
       "aggType": "",
       "arguments": {},
       "columnCustomDisplayInfos": {},
       "data": [],
       "datasetInfos": [],
       "dbfsResultPath": null,
       "isJsonSchema": true,
       "metadata": {
        "isDbfsCommandResult": false
       },
       "overflow": false,
       "plotOptions": {
        "customPlotOptions": {},
        "displayType": "table",
        "pivotAggregation": null,
        "pivotColumns": null,
        "xColumns": null,
        "yColumns": null
       },
       "removedWidgets": [],
       "schema": [],
       "type": "table"
      }
     },
     "output_type": "display_data"
    },
    {
     "output_type": "display_data",
     "data": {
      "text/html": [
       "<style scoped>\n",
       "  .table-result-container {\n",
       "    max-height: 300px;\n",
       "    overflow: auto;\n",
       "  }\n",
       "  table, th, td {\n",
       "    border: 1px solid black;\n",
       "    border-collapse: collapse;\n",
       "  }\n",
       "  th, td {\n",
       "    padding: 5px;\n",
       "  }\n",
       "  th {\n",
       "    text-align: left;\n",
       "  }\n",
       "</style><div class='table-result-container'><table class='table-result'><thead style='background-color: white'><tr></tr></thead><tbody></tbody></table></div>"
      ]
     },
     "metadata": {
      "application/vnd.databricks.v1+output": {
       "addedWidgets": {},
       "aggData": [],
       "aggError": "",
       "aggOverflow": false,
       "aggSchema": [],
       "aggSeriesLimitReached": false,
       "aggType": "",
       "arguments": {},
       "columnCustomDisplayInfos": {},
       "data": [],
       "datasetInfos": [],
       "dbfsResultPath": null,
       "isJsonSchema": true,
       "metadata": {
        "isDbfsCommandResult": false
       },
       "overflow": false,
       "plotOptions": {
        "customPlotOptions": {},
        "displayType": "table",
        "pivotAggregation": null,
        "pivotColumns": null,
        "xColumns": null,
        "yColumns": null
       },
       "removedWidgets": [],
       "schema": [],
       "type": "table"
      }
     },
     "output_type": "display_data"
    },
    {
     "output_type": "display_data",
     "data": {
      "text/html": [
       "<style scoped>\n",
       "  .table-result-container {\n",
       "    max-height: 300px;\n",
       "    overflow: auto;\n",
       "  }\n",
       "  table, th, td {\n",
       "    border: 1px solid black;\n",
       "    border-collapse: collapse;\n",
       "  }\n",
       "  th, td {\n",
       "    padding: 5px;\n",
       "  }\n",
       "  th {\n",
       "    text-align: left;\n",
       "  }\n",
       "</style><div class='table-result-container'><table class='table-result'><thead style='background-color: white'><tr><th>country</th><th>poster_name</th><th>follower_count</th></tr></thead><tbody><tr><td>Afghanistan</td><td>Walmart</td><td>2000000</td></tr><tr><td>Albania</td><td>The Minds Journal</td><td>5000000</td></tr><tr><td>Algeria</td><td>Apartment Therapy</td><td>5000000</td></tr><tr><td>American Samoa</td><td>Mamas Uncut</td><td>8000000</td></tr><tr><td>Andorra</td><td>Teachers Pay Teachers</td><td>1000000</td></tr><tr><td>Angola</td><td>CraftGossip.com</td><td>502000</td></tr><tr><td>Anguilla</td><td>Kara's Party Ideas .com</td><td>736000</td></tr><tr><td>Antarctica (the territory South of 60 deg S)</td><td>HikenDip</td><td>501000</td></tr><tr><td>Antigua and Barbuda</td><td>Country Living Magazine</td><td>1000000</td></tr><tr><td>Argentina</td><td>Cheezburger</td><td>2000000</td></tr><tr><td>Armenia</td><td>Michelle {CraftyMorning.com}</td><td>892000</td></tr><tr><td>Aruba</td><td>TheTrendSpotter</td><td>211000</td></tr><tr><td>Australia</td><td>Cultura Colectiva</td><td>1000000</td></tr><tr><td>Austria</td><td>The World Pursuit Travel Website</td><td>89000</td></tr><tr><td>Azerbaijan</td><td>Style Me Pretty</td><td>6000000</td></tr><tr><td>Bahamas</td><td>Handmade Charlotte</td><td>948000</td></tr><tr><td>Bahrain</td><td>Rainy Day Mum</td><td>337000</td></tr><tr><td>Bangladesh</td><td>Better Homes and Gardens</td><td>4000000</td></tr><tr><td>Barbados</td><td>The Creativity Exchange</td><td>410000</td></tr><tr><td>Belarus</td><td>Prudent Penny Pincher - Home Decor, Organization, Crafts, Recipes</td><td>647000</td></tr><tr><td>Belgium</td><td>Happy Toddler Playtime</td><td>73000</td></tr><tr><td>Belize</td><td>Julia Berolzheimer</td><td>399000</td></tr><tr><td>Benin</td><td>fashionchaser | nails,hairstyle,tattoo</td><td>23000</td></tr><tr><td>Bermuda</td><td>Life on Summerhill | Home, Holiday Decor & DIY Website</td><td>46000</td></tr><tr><td>Bhutan</td><td>diana ajih</td><td>141000</td></tr><tr><td>Bolivia</td><td>Kimberly West (a girl and a glue gun)</td><td>243000</td></tr><tr><td>Bosnia and Herzegovina</td><td>5-Minute Crafts Family</td><td>370000</td></tr><tr><td>Botswana</td><td>OkChicas</td><td>3000000</td></tr><tr><td>Bouvet Island (Bouvetoya)</td><td>POPSUGAR</td><td>5000000</td></tr><tr><td>Brazil</td><td>Budget with Rachel</td><td>11000</td></tr><tr><td>British Indian Ocean Territory (Chagos Archipelago)</td><td>Budgets Are Sexy | Save Money + Grow Your Net Worth</td><td>11000</td></tr><tr><td>British Virgin Islands</td><td>Kitchen Fun With My 3 Sons</td><td>245000</td></tr><tr><td>Brunei Darussalam</td><td>Purpose Driven Living Home</td><td>31000</td></tr><tr><td>Bulgaria</td><td>Half Baked Harvest</td><td>912000</td></tr><tr><td>Burkina Faso</td><td>Home Hacks</td><td>235000</td></tr><tr><td>Burundi</td><td>Cute Cat Videos</td><td>373</td></tr><tr><td>Cambodia</td><td>Catch My Party</td><td>2000000</td></tr><tr><td>Cameroon</td><td>Made to be a Momma</td><td>85000</td></tr><tr><td>Canada</td><td>Giorgenti New York</td><td>258000</td></tr><tr><td>Cape Verde</td><td>Sand and Sisal</td><td>178000</td></tr><tr><td>Cayman Islands</td><td>How Wee Learn</td><td>383000</td></tr><tr><td>Central African Republic</td><td>PureWow</td><td>868000</td></tr><tr><td>Chad</td><td>Glued To My Crafts</td><td>226000</td></tr><tr><td>Chile</td><td>Amber Strong - The Maker’s Map | DIY’s, Crafts & Home Decor</td><td>19000</td></tr><tr><td>China</td><td>Josie Lewis Art</td><td>195000</td></tr><tr><td>Christmas Island</td><td>Instructables</td><td>3000000</td></tr><tr><td>Cocos (Keeling) Islands</td><td>Zero Debt Coach | Money Courses & Coaching (I Follow Back)</td><td>13000</td></tr><tr><td>Colombia</td><td>Renata’s Boutique</td><td>27</td></tr><tr><td>Comoros</td><td>Becky Mansfield - YourModernFamily </td><td>196000</td></tr><tr><td>Congo</td><td>He and She Eat Clean</td><td>88000</td></tr><tr><td>Cook Islands</td><td>SeedTime (Money Tips)</td><td>77000</td></tr><tr><td>Costa Rica</td><td>Liz Marie</td><td>309000</td></tr><tr><td>Cote d'Ivoire</td><td>The Crafting Chicks</td><td>192000</td></tr><tr><td>Cuba</td><td>Listotic - Easy Ideas | Fun DIY Projects | Easy Recipes | Lists</td><td>307000</td></tr><tr><td>Czech Republic</td><td>Todd | Financial Mentor</td><td>7000</td></tr><tr><td>Denmark</td><td>A Life Adjacent</td><td>36000</td></tr><tr><td>Djibouti</td><td>Instrupix | Lilly Childers</td><td>275000</td></tr><tr><td>Dominica</td><td>Monique - Living Life and Learning</td><td>67000</td></tr><tr><td>Dominican Republic</td><td>Mrs. P's Specialties- Educational Resources</td><td>20000</td></tr><tr><td>Ecuador</td><td>Midwest Jewelers & Estate Buyers</td><td>265</td></tr><tr><td>Egypt</td><td>Allure</td><td>346000</td></tr><tr><td>El Salvador</td><td>Power of Positivity</td><td>221000</td></tr><tr><td>Equatorial Guinea</td><td>MarQuai Romari</td><td>31</td></tr><tr><td>Ethiopia</td><td>Crafty Lumberjacks </td><td>28000</td></tr><tr><td>Falkland Islands (Malvinas)</td><td>Autism Adventures</td><td>21000</td></tr><tr><td>Faroe Islands</td><td>QC Event School</td><td>511</td></tr><tr><td>Fiji</td><td>Homeschool Giveaways and Freebies</td><td>99000</td></tr><tr><td>Finland</td><td>Melissa</td><td>4000</td></tr><tr><td>France</td><td>Hey Pretty Beauty Blog</td><td>7000</td></tr><tr><td>French Guiana</td><td>Sweet Red Poppy Free Sewing Patterns, Cut Files & Craft Tutorials</td><td>241000</td></tr><tr><td>French Polynesia</td><td>The Printable Princess</td><td>52000</td></tr><tr><td>French Southern Territories</td><td>Mary at Home is Where the Boat Is</td><td>59000</td></tr><tr><td>Gambia</td><td>Josi Pellicano</td><td>6000</td></tr><tr><td>Georgia</td><td>Science of Curiosity</td><td>9000</td></tr><tr><td>Germany</td><td>Middle Class Dad</td><td>10000</td></tr><tr><td>Gibraltar</td><td>TheSuperBOO!</td><td>89000</td></tr><tr><td>Greece</td><td>Terry Bain</td><td>578</td></tr><tr><td>Greenland</td><td>Marcie Quinn</td><td>5</td></tr><tr><td>Grenada</td><td>LOCARI</td><td>256000</td></tr><tr><td>Guadeloupe</td><td>Jess Abbott | The Sewing Rabbit</td><td>123000</td></tr><tr><td>Guatemala</td><td>GrowingSlower</td><td>30000</td></tr><tr><td>Guernsey</td><td>Quentin Weed</td><td>39</td></tr><tr><td>Guinea</td><td>Woodchuck's Fine Furniture and Decor</td><td>320</td></tr><tr><td>Guinea-Bissau</td><td>The Inspiration Edit - Best Instant Pot Recipes And Kids Crafts</td><td>56000</td></tr><tr><td>Guyana</td><td>J ♥ Millennial Boss</td><td>29000</td></tr><tr><td>Haiti</td><td>jane at home | decor and design</td><td>79000</td></tr><tr><td>Heard Island and McDonald Islands</td><td>Car and Driver</td><td>50000</td></tr><tr><td>Hong Kong</td><td>Product Compass</td><td>29000</td></tr><tr><td>Hungary</td><td>BalsaCircle</td><td>2000</td></tr><tr><td>India</td><td>Travel Mad Mum</td><td>7000</td></tr><tr><td>Indonesia</td><td>Latoya | Life and a Budget</td><td>24000</td></tr><tr><td>Iran</td><td>Real Ways to Earn | Work From Home + Home Business + Extra Cash</td><td>151000</td></tr><tr><td>Iraq</td><td>LeStyleParfait Fashion Clothing, Shoes, Bags</td><td>40000</td></tr><tr><td>Isle of Man</td><td>Abbotts At Home</td><td>52000</td></tr><tr><td>Israel</td><td>LISA MASLYK / VOICE OVER TALENT /ACTOR</td><td>3000</td></tr><tr><td>Jamaica</td><td>hobbyDB</td><td>8000</td></tr><tr><td>Japan</td><td>Eyes On Walls</td><td>17000</td></tr><tr><td>Jordan</td><td>Michelozzo Custom Dress Shirts</td><td>17000</td></tr><tr><td>Kenya</td><td>FOURLINE DESIGN | Home Decor & Accessories</td><td>26000</td></tr><tr><td>Kiribati</td><td>Coolnvintage</td><td>6000</td></tr><tr><td>Korea</td><td>Latest Hairstyles</td><td>627000</td></tr><tr><td>Kuwait</td><td>Green Wedding Shoes</td><td>2000000</td></tr><tr><td>Kyrgyz Republic</td><td>Freepik</td><td>2000000</td></tr><tr><td>Latvia</td><td>Royal Fashionist</td><td>188000</td></tr><tr><td>Lebanon</td><td>Your Positive Oasis | Motivation| Inspiration| Wellness</td><td>163000</td></tr><tr><td>Lesotho</td><td>The Guardian</td><td>908000</td></tr><tr><td>Liechtenstein</td><td>Sophie's Way</td><td>10000</td></tr><tr><td>Lithuania</td><td>Kyra</td><td>34</td></tr><tr><td>Macao</td><td>Cassie May - Little Red Window Crafts, DIY, crafts, tutorials and knitting patterns! Cassie May - Little Red Window Crafts, DIY, crafts, tutorials and knitting patterns! Edit settings Cassie May - Little Red Window Crafts, DIY, crafts, tutorials and knitting patterns!</td><td>66000</td></tr><tr><td>Madagascar</td><td>MomAdvice</td><td>112000</td></tr><tr><td>Malawi</td><td>Avenly Lane | Beauty, Fashion & Travel Inspiration</td><td>14000</td></tr><tr><td>Maldives</td><td>Parents</td><td>416000</td></tr><tr><td>Mali</td><td>Mobile Home Living®</td><td>122000</td></tr><tr><td>Malta</td><td>Chi-Wei Shih</td><td>57</td></tr><tr><td>Marshall Islands</td><td>Dashing Darlin' </td><td>13000</td></tr><tr><td>Mauritania</td><td>The Literacy Nest</td><td>22000</td></tr><tr><td>Mayotte</td><td>Ali Martin (Gimme Some Oven)</td><td>766000</td></tr><tr><td>Mexico</td><td>Chris Hansen</td><td>492</td></tr><tr><td>Moldova</td><td>Upcycle My Stuff - DIY Projects | Repurposing | Upcycling</td><td>22000</td></tr><tr><td>Monaco</td><td>Hum3D | Car 3D models</td><td>48000</td></tr><tr><td>Montserrat</td><td>EBUYTIDE</td><td>88000</td></tr><tr><td>Morocco</td><td>Two Southern Sweeties | Life After 50 + Second Act Lifestyle</td><td>13000</td></tr><tr><td>Mozambique</td><td>Stylin by Aylin</td><td>83000</td></tr><tr><td>Namibia</td><td>Snappy Gourmet</td><td>168000</td></tr><tr><td>Nauru</td><td>Austen Tosone | NYC Blogger | Fashion + Beauty</td><td>23000</td></tr><tr><td>Netherlands</td><td>PUFIK Interiors & Inspirations</td><td>136000</td></tr><tr><td>Netherlands Antilles</td><td>Kim Cook-Thirteen Chairs-Slates Mugs And Tees</td><td>7000</td></tr><tr><td>New Caledonia</td><td>Au'vey Smith</td><td>377</td></tr><tr><td>Nicaragua</td><td>Land Rover USA</td><td>9000</td></tr><tr><td>Niger</td><td>The Habit Flow | Social Media Design | Templates | Abstract Art</td><td>135</td></tr><tr><td>Nigeria</td><td>eyelashdance</td><td>164</td></tr><tr><td>Norfolk Island</td><td>Lifestyle DIYW \"Live Life & Do IT Your Way\"</td><td>6000</td></tr><tr><td>Norway</td><td>DailyDose</td><td>189</td></tr><tr><td>Oman</td><td>Nifty</td><td>2000000</td></tr><tr><td>Panama</td><td>Alanna | Periodic Adventures</td><td>1000</td></tr><tr><td>Papua New Guinea</td><td>AnnaLee Kick</td><td>112</td></tr><tr><td>Peru</td><td>Clar</td><td>21</td></tr><tr><td>Philippines</td><td>Life of Neon | Custom Neon Light Signs | Home Decor Wall Art</td><td>111</td></tr><tr><td>Pitcairn Islands</td><td>Marla Meridith</td><td>671000</td></tr><tr><td>Portugal</td><td>Lindsey Blogs</td><td>29000</td></tr><tr><td>Puerto Rico</td><td>Book More Brides</td><td>1000</td></tr><tr><td>Qatar</td><td>604 Now</td><td>972</td></tr><tr><td>Romania</td><td>Soberbadassery | Your Free Online Guide To Sober Living </td><td>9000</td></tr><tr><td>Russian Federation</td><td>Bolig Magasinet</td><td>69000</td></tr><tr><td>Saint Barthelemy</td><td>Peter Dikhazi</td><td>18</td></tr><tr><td>Saint Kitts and Nevis</td><td>vintagetopia</td><td>171000</td></tr><tr><td>Saint Martin</td><td>Cracked</td><td>161000</td></tr><tr><td>Saint Pierre and Miquelon</td><td>BC Creatives // Self Care, Blogging & Work From Home Tips ✨</td><td>10000</td></tr><tr><td>Saint Vincent and the Grenadines</td><td>Home Etc</td><td>13</td></tr><tr><td>San Marino</td><td>Sammy Davis Vintage</td><td>23000</td></tr><tr><td>Saudi Arabia</td><td>The Navage Patch®</td><td>136000</td></tr><tr><td>Senegal</td><td>LeShara Fisher</td><td>353</td></tr><tr><td>Seychelles</td><td>ALL FOR WOMAN</td><td>21000</td></tr><tr><td>Singapore</td><td>CHRISTIAN CHÊNE</td><td>3000</td></tr><tr><td>Solomon Islands</td><td>Upcyclist</td><td>7000</td></tr><tr><td>Somalia</td><td>Caroline Rose Travel | Solo, Budget and Adventure Travel Blogger</td><td>788</td></tr><tr><td>Sudan</td><td>iElylike ..✿◕‿◕✿ஐ✿◕‿◕✿</td><td>940</td></tr><tr><td>Svalbard & Jan Mayen Islands</td><td>Merissa (Little House Living) | Simple Living + Frugal Living</td><td>152000</td></tr><tr><td>Sweden</td><td>Milan Singh | Finance & Business</td><td>13000</td></tr><tr><td>Taiwan</td><td>Sherry Truhlar</td><td>2000</td></tr><tr><td>Thailand</td><td>Debbie Gartner | The Flooring Girl | Hardwood Floors & Paint Tips</td><td>68000</td></tr><tr><td>Tokelau</td><td>Lexi</td><td>52</td></tr><tr><td>Tonga</td><td>Grecia Perales</td><td>0</td></tr><tr><td>Tunisia</td><td>Travel with Munia</td><td>2000</td></tr><tr><td>Turkey</td><td>My Little Poppies (Cait Curley, MA/CAGS)</td><td>9000</td></tr><tr><td>Turkmenistan</td><td>Dionne ❤️ Home & Life Organized</td><td>7000</td></tr><tr><td>Turks and Caicos Islands</td><td>I.A. Planning</td><td>7</td></tr><tr><td>Tuvalu</td><td>Addymae Rodi</td><td>41</td></tr><tr><td>Uganda</td><td>Hair Accessories</td><td>22</td></tr><tr><td>United Kingdom</td><td>Alisha at Picture the Magic</td><td>19000</td></tr><tr><td>United States Minor Outlying Islands</td><td>Pretty Designs</td><td>892000</td></tr><tr><td>United States Virgin Islands</td><td>Renee Slansky  Dating + Relationship Coach -The Dating Directory </td><td>12000</td></tr><tr><td>United States of America</td><td>Alicia Greenwood</td><td>0</td></tr><tr><td>Venezuela</td><td>SimpleStepsMax | Investing | Save Money | Make Money</td><td>612</td></tr><tr><td>Vietnam</td><td>Worthing Court Blog</td><td>70000</td></tr><tr><td>Wallis and Futuna</td><td>Organize Ways</td><td>2000</td></tr></tbody></table></div>"
      ]
     },
     "metadata": {
      "application/vnd.databricks.v1+output": {
       "addedWidgets": {},
       "aggData": [],
       "aggError": "",
       "aggOverflow": false,
       "aggSchema": [],
       "aggSeriesLimitReached": false,
       "aggType": "",
       "arguments": {},
       "columnCustomDisplayInfos": {},
       "data": [
        [
         "Afghanistan",
         "Walmart",
         2000000
        ],
        [
         "Albania",
         "The Minds Journal",
         5000000
        ],
        [
         "Algeria",
         "Apartment Therapy",
         5000000
        ],
        [
         "American Samoa",
         "Mamas Uncut",
         8000000
        ],
        [
         "Andorra",
         "Teachers Pay Teachers",
         1000000
        ],
        [
         "Angola",
         "CraftGossip.com",
         502000
        ],
        [
         "Anguilla",
         "Kara's Party Ideas .com",
         736000
        ],
        [
         "Antarctica (the territory South of 60 deg S)",
         "HikenDip",
         501000
        ],
        [
         "Antigua and Barbuda",
         "Country Living Magazine",
         1000000
        ],
        [
         "Argentina",
         "Cheezburger",
         2000000
        ],
        [
         "Armenia",
         "Michelle {CraftyMorning.com}",
         892000
        ],
        [
         "Aruba",
         "TheTrendSpotter",
         211000
        ],
        [
         "Australia",
         "Cultura Colectiva",
         1000000
        ],
        [
         "Austria",
         "The World Pursuit Travel Website",
         89000
        ],
        [
         "Azerbaijan",
         "Style Me Pretty",
         6000000
        ],
        [
         "Bahamas",
         "Handmade Charlotte",
         948000
        ],
        [
         "Bahrain",
         "Rainy Day Mum",
         337000
        ],
        [
         "Bangladesh",
         "Better Homes and Gardens",
         4000000
        ],
        [
         "Barbados",
         "The Creativity Exchange",
         410000
        ],
        [
         "Belarus",
         "Prudent Penny Pincher - Home Decor, Organization, Crafts, Recipes",
         647000
        ],
        [
         "Belgium",
         "Happy Toddler Playtime",
         73000
        ],
        [
         "Belize",
         "Julia Berolzheimer",
         399000
        ],
        [
         "Benin",
         "fashionchaser | nails,hairstyle,tattoo",
         23000
        ],
        [
         "Bermuda",
         "Life on Summerhill | Home, Holiday Decor & DIY Website",
         46000
        ],
        [
         "Bhutan",
         "diana ajih",
         141000
        ],
        [
         "Bolivia",
         "Kimberly West (a girl and a glue gun)",
         243000
        ],
        [
         "Bosnia and Herzegovina",
         "5-Minute Crafts Family",
         370000
        ],
        [
         "Botswana",
         "OkChicas",
         3000000
        ],
        [
         "Bouvet Island (Bouvetoya)",
         "POPSUGAR",
         5000000
        ],
        [
         "Brazil",
         "Budget with Rachel",
         11000
        ],
        [
         "British Indian Ocean Territory (Chagos Archipelago)",
         "Budgets Are Sexy | Save Money + Grow Your Net Worth",
         11000
        ],
        [
         "British Virgin Islands",
         "Kitchen Fun With My 3 Sons",
         245000
        ],
        [
         "Brunei Darussalam",
         "Purpose Driven Living Home",
         31000
        ],
        [
         "Bulgaria",
         "Half Baked Harvest",
         912000
        ],
        [
         "Burkina Faso",
         "Home Hacks",
         235000
        ],
        [
         "Burundi",
         "Cute Cat Videos",
         373
        ],
        [
         "Cambodia",
         "Catch My Party",
         2000000
        ],
        [
         "Cameroon",
         "Made to be a Momma",
         85000
        ],
        [
         "Canada",
         "Giorgenti New York",
         258000
        ],
        [
         "Cape Verde",
         "Sand and Sisal",
         178000
        ],
        [
         "Cayman Islands",
         "How Wee Learn",
         383000
        ],
        [
         "Central African Republic",
         "PureWow",
         868000
        ],
        [
         "Chad",
         "Glued To My Crafts",
         226000
        ],
        [
         "Chile",
         "Amber Strong - The Maker’s Map | DIY’s, Crafts & Home Decor",
         19000
        ],
        [
         "China",
         "Josie Lewis Art",
         195000
        ],
        [
         "Christmas Island",
         "Instructables",
         3000000
        ],
        [
         "Cocos (Keeling) Islands",
         "Zero Debt Coach | Money Courses & Coaching (I Follow Back)",
         13000
        ],
        [
         "Colombia",
         "Renata’s Boutique",
         27
        ],
        [
         "Comoros",
         "Becky Mansfield - YourModernFamily ",
         196000
        ],
        [
         "Congo",
         "He and She Eat Clean",
         88000
        ],
        [
         "Cook Islands",
         "SeedTime (Money Tips)",
         77000
        ],
        [
         "Costa Rica",
         "Liz Marie",
         309000
        ],
        [
         "Cote d'Ivoire",
         "The Crafting Chicks",
         192000
        ],
        [
         "Cuba",
         "Listotic - Easy Ideas | Fun DIY Projects | Easy Recipes | Lists",
         307000
        ],
        [
         "Czech Republic",
         "Todd | Financial Mentor",
         7000
        ],
        [
         "Denmark",
         "A Life Adjacent",
         36000
        ],
        [
         "Djibouti",
         "Instrupix | Lilly Childers",
         275000
        ],
        [
         "Dominica",
         "Monique - Living Life and Learning",
         67000
        ],
        [
         "Dominican Republic",
         "Mrs. P's Specialties- Educational Resources",
         20000
        ],
        [
         "Ecuador",
         "Midwest Jewelers & Estate Buyers",
         265
        ],
        [
         "Egypt",
         "Allure",
         346000
        ],
        [
         "El Salvador",
         "Power of Positivity",
         221000
        ],
        [
         "Equatorial Guinea",
         "MarQuai Romari",
         31
        ],
        [
         "Ethiopia",
         "Crafty Lumberjacks ",
         28000
        ],
        [
         "Falkland Islands (Malvinas)",
         "Autism Adventures",
         21000
        ],
        [
         "Faroe Islands",
         "QC Event School",
         511
        ],
        [
         "Fiji",
         "Homeschool Giveaways and Freebies",
         99000
        ],
        [
         "Finland",
         "Melissa",
         4000
        ],
        [
         "France",
         "Hey Pretty Beauty Blog",
         7000
        ],
        [
         "French Guiana",
         "Sweet Red Poppy Free Sewing Patterns, Cut Files & Craft Tutorials",
         241000
        ],
        [
         "French Polynesia",
         "The Printable Princess",
         52000
        ],
        [
         "French Southern Territories",
         "Mary at Home is Where the Boat Is",
         59000
        ],
        [
         "Gambia",
         "Josi Pellicano",
         6000
        ],
        [
         "Georgia",
         "Science of Curiosity",
         9000
        ],
        [
         "Germany",
         "Middle Class Dad",
         10000
        ],
        [
         "Gibraltar",
         "TheSuperBOO!",
         89000
        ],
        [
         "Greece",
         "Terry Bain",
         578
        ],
        [
         "Greenland",
         "Marcie Quinn",
         5
        ],
        [
         "Grenada",
         "LOCARI",
         256000
        ],
        [
         "Guadeloupe",
         "Jess Abbott | The Sewing Rabbit",
         123000
        ],
        [
         "Guatemala",
         "GrowingSlower",
         30000
        ],
        [
         "Guernsey",
         "Quentin Weed",
         39
        ],
        [
         "Guinea",
         "Woodchuck's Fine Furniture and Decor",
         320
        ],
        [
         "Guinea-Bissau",
         "The Inspiration Edit - Best Instant Pot Recipes And Kids Crafts",
         56000
        ],
        [
         "Guyana",
         "J ♥ Millennial Boss",
         29000
        ],
        [
         "Haiti",
         "jane at home | decor and design",
         79000
        ],
        [
         "Heard Island and McDonald Islands",
         "Car and Driver",
         50000
        ],
        [
         "Hong Kong",
         "Product Compass",
         29000
        ],
        [
         "Hungary",
         "BalsaCircle",
         2000
        ],
        [
         "India",
         "Travel Mad Mum",
         7000
        ],
        [
         "Indonesia",
         "Latoya | Life and a Budget",
         24000
        ],
        [
         "Iran",
         "Real Ways to Earn | Work From Home + Home Business + Extra Cash",
         151000
        ],
        [
         "Iraq",
         "LeStyleParfait Fashion Clothing, Shoes, Bags",
         40000
        ],
        [
         "Isle of Man",
         "Abbotts At Home",
         52000
        ],
        [
         "Israel",
         "LISA MASLYK / VOICE OVER TALENT /ACTOR",
         3000
        ],
        [
         "Jamaica",
         "hobbyDB",
         8000
        ],
        [
         "Japan",
         "Eyes On Walls",
         17000
        ],
        [
         "Jordan",
         "Michelozzo Custom Dress Shirts",
         17000
        ],
        [
         "Kenya",
         "FOURLINE DESIGN | Home Decor & Accessories",
         26000
        ],
        [
         "Kiribati",
         "Coolnvintage",
         6000
        ],
        [
         "Korea",
         "Latest Hairstyles",
         627000
        ],
        [
         "Kuwait",
         "Green Wedding Shoes",
         2000000
        ],
        [
         "Kyrgyz Republic",
         "Freepik",
         2000000
        ],
        [
         "Latvia",
         "Royal Fashionist",
         188000
        ],
        [
         "Lebanon",
         "Your Positive Oasis | Motivation| Inspiration| Wellness",
         163000
        ],
        [
         "Lesotho",
         "The Guardian",
         908000
        ],
        [
         "Liechtenstein",
         "Sophie's Way",
         10000
        ],
        [
         "Lithuania",
         "Kyra",
         34
        ],
        [
         "Macao",
         "Cassie May - Little Red Window Crafts, DIY, crafts, tutorials and knitting patterns! Cassie May - Little Red Window Crafts, DIY, crafts, tutorials and knitting patterns! Edit settings Cassie May - Little Red Window Crafts, DIY, crafts, tutorials and knitting patterns!",
         66000
        ],
        [
         "Madagascar",
         "MomAdvice",
         112000
        ],
        [
         "Malawi",
         "Avenly Lane | Beauty, Fashion & Travel Inspiration",
         14000
        ],
        [
         "Maldives",
         "Parents",
         416000
        ],
        [
         "Mali",
         "Mobile Home Living®",
         122000
        ],
        [
         "Malta",
         "Chi-Wei Shih",
         57
        ],
        [
         "Marshall Islands",
         "Dashing Darlin' ",
         13000
        ],
        [
         "Mauritania",
         "The Literacy Nest",
         22000
        ],
        [
         "Mayotte",
         "Ali Martin (Gimme Some Oven)",
         766000
        ],
        [
         "Mexico",
         "Chris Hansen",
         492
        ],
        [
         "Moldova",
         "Upcycle My Stuff - DIY Projects | Repurposing | Upcycling",
         22000
        ],
        [
         "Monaco",
         "Hum3D | Car 3D models",
         48000
        ],
        [
         "Montserrat",
         "EBUYTIDE",
         88000
        ],
        [
         "Morocco",
         "Two Southern Sweeties | Life After 50 + Second Act Lifestyle",
         13000
        ],
        [
         "Mozambique",
         "Stylin by Aylin",
         83000
        ],
        [
         "Namibia",
         "Snappy Gourmet",
         168000
        ],
        [
         "Nauru",
         "Austen Tosone | NYC Blogger | Fashion + Beauty",
         23000
        ],
        [
         "Netherlands",
         "PUFIK Interiors & Inspirations",
         136000
        ],
        [
         "Netherlands Antilles",
         "Kim Cook-Thirteen Chairs-Slates Mugs And Tees",
         7000
        ],
        [
         "New Caledonia",
         "Au'vey Smith",
         377
        ],
        [
         "Nicaragua",
         "Land Rover USA",
         9000
        ],
        [
         "Niger",
         "The Habit Flow | Social Media Design | Templates | Abstract Art",
         135
        ],
        [
         "Nigeria",
         "eyelashdance",
         164
        ],
        [
         "Norfolk Island",
         "Lifestyle DIYW \"Live Life & Do IT Your Way\"",
         6000
        ],
        [
         "Norway",
         "DailyDose",
         189
        ],
        [
         "Oman",
         "Nifty",
         2000000
        ],
        [
         "Panama",
         "Alanna | Periodic Adventures",
         1000
        ],
        [
         "Papua New Guinea",
         "AnnaLee Kick",
         112
        ],
        [
         "Peru",
         "Clar",
         21
        ],
        [
         "Philippines",
         "Life of Neon | Custom Neon Light Signs | Home Decor Wall Art",
         111
        ],
        [
         "Pitcairn Islands",
         "Marla Meridith",
         671000
        ],
        [
         "Portugal",
         "Lindsey Blogs",
         29000
        ],
        [
         "Puerto Rico",
         "Book More Brides",
         1000
        ],
        [
         "Qatar",
         "604 Now",
         972
        ],
        [
         "Romania",
         "Soberbadassery | Your Free Online Guide To Sober Living ",
         9000
        ],
        [
         "Russian Federation",
         "Bolig Magasinet",
         69000
        ],
        [
         "Saint Barthelemy",
         "Peter Dikhazi",
         18
        ],
        [
         "Saint Kitts and Nevis",
         "vintagetopia",
         171000
        ],
        [
         "Saint Martin",
         "Cracked",
         161000
        ],
        [
         "Saint Pierre and Miquelon",
         "BC Creatives // Self Care, Blogging & Work From Home Tips ✨",
         10000
        ],
        [
         "Saint Vincent and the Grenadines",
         "Home Etc",
         13
        ],
        [
         "San Marino",
         "Sammy Davis Vintage",
         23000
        ],
        [
         "Saudi Arabia",
         "The Navage Patch®",
         136000
        ],
        [
         "Senegal",
         "LeShara Fisher",
         353
        ],
        [
         "Seychelles",
         "ALL FOR WOMAN",
         21000
        ],
        [
         "Singapore",
         "CHRISTIAN CHÊNE",
         3000
        ],
        [
         "Solomon Islands",
         "Upcyclist",
         7000
        ],
        [
         "Somalia",
         "Caroline Rose Travel | Solo, Budget and Adventure Travel Blogger",
         788
        ],
        [
         "Sudan",
         "iElylike ..✿◕‿◕✿ஐ✿◕‿◕✿",
         940
        ],
        [
         "Svalbard & Jan Mayen Islands",
         "Merissa (Little House Living) | Simple Living + Frugal Living",
         152000
        ],
        [
         "Sweden",
         "Milan Singh | Finance & Business",
         13000
        ],
        [
         "Taiwan",
         "Sherry Truhlar",
         2000
        ],
        [
         "Thailand",
         "Debbie Gartner | The Flooring Girl | Hardwood Floors & Paint Tips",
         68000
        ],
        [
         "Tokelau",
         "Lexi",
         52
        ],
        [
         "Tonga",
         "Grecia Perales",
         0
        ],
        [
         "Tunisia",
         "Travel with Munia",
         2000
        ],
        [
         "Turkey",
         "My Little Poppies (Cait Curley, MA/CAGS)",
         9000
        ],
        [
         "Turkmenistan",
         "Dionne ❤️ Home & Life Organized",
         7000
        ],
        [
         "Turks and Caicos Islands",
         "I.A. Planning",
         7
        ],
        [
         "Tuvalu",
         "Addymae Rodi",
         41
        ],
        [
         "Uganda",
         "Hair Accessories",
         22
        ],
        [
         "United Kingdom",
         "Alisha at Picture the Magic",
         19000
        ],
        [
         "United States Minor Outlying Islands",
         "Pretty Designs",
         892000
        ],
        [
         "United States Virgin Islands",
         "Renee Slansky  Dating + Relationship Coach -The Dating Directory ",
         12000
        ],
        [
         "United States of America",
         "Alicia Greenwood",
         0
        ],
        [
         "Venezuela",
         "SimpleStepsMax | Investing | Save Money | Make Money",
         612
        ],
        [
         "Vietnam",
         "Worthing Court Blog",
         70000
        ],
        [
         "Wallis and Futuna",
         "Organize Ways",
         2000
        ]
       ],
       "datasetInfos": [],
       "dbfsResultPath": null,
       "isJsonSchema": true,
       "metadata": {
        "isDbfsCommandResult": false
       },
       "overflow": false,
       "plotOptions": {
        "customPlotOptions": {},
        "displayType": "table",
        "pivotAggregation": null,
        "pivotColumns": null,
        "xColumns": null,
        "yColumns": null
       },
       "removedWidgets": [],
       "schema": [
        {
         "metadata": "{}",
         "name": "country",
         "type": "\"string\""
        },
        {
         "metadata": "{}",
         "name": "poster_name",
         "type": "\"string\""
        },
        {
         "metadata": "{}",
         "name": "follower_count",
         "type": "\"integer\""
        }
       ],
       "type": "table"
      }
     },
     "output_type": "display_data"
    },
    {
     "output_type": "display_data",
     "data": {
      "text/html": [
       "<style scoped>\n",
       "  .table-result-container {\n",
       "    max-height: 300px;\n",
       "    overflow: auto;\n",
       "  }\n",
       "  table, th, td {\n",
       "    border: 1px solid black;\n",
       "    border-collapse: collapse;\n",
       "  }\n",
       "  th, td {\n",
       "    padding: 5px;\n",
       "  }\n",
       "  th {\n",
       "    text-align: left;\n",
       "  }\n",
       "</style><div class='table-result-container'><table class='table-result'><thead style='background-color: white'><tr><th>country</th><th>follower_count</th></tr></thead><tbody><tr><td>American Samoa</td><td>8000000</td></tr></tbody></table></div>"
      ]
     },
     "metadata": {
      "application/vnd.databricks.v1+output": {
       "addedWidgets": {},
       "aggData": [],
       "aggError": "",
       "aggOverflow": false,
       "aggSchema": [],
       "aggSeriesLimitReached": false,
       "aggType": "",
       "arguments": {},
       "columnCustomDisplayInfos": {},
       "data": [
        [
         "American Samoa",
         8000000
        ]
       ],
       "datasetInfos": [],
       "dbfsResultPath": null,
       "isJsonSchema": true,
       "metadata": {
        "isDbfsCommandResult": false
       },
       "overflow": false,
       "plotOptions": {
        "customPlotOptions": {},
        "displayType": "table",
        "pivotAggregation": null,
        "pivotColumns": null,
        "xColumns": null,
        "yColumns": null
       },
       "removedWidgets": [],
       "schema": [
        {
         "metadata": "{}",
         "name": "country",
         "type": "\"string\""
        },
        {
         "metadata": "{}",
         "name": "follower_count",
         "type": "\"integer\""
        }
       ],
       "type": "table"
      }
     },
     "output_type": "display_data"
    }
   ],
   "source": [
    "%run /Workspace/Users/malek01@hotmail.co.uk/most_followed_users"
   ]
  },
  {
   "cell_type": "code",
   "execution_count": 0,
   "metadata": {
    "application/vnd.databricks.v1+cell": {
     "cellMetadata": {
      "byteLimit": 2048000,
      "rowLimit": 10000
     },
     "collapsed": true,
     "inputWidgets": {},
     "nuid": "8acb0bbc-c221-4115-92c6-8daf43c86cda",
     "showTitle": false,
     "tableResultSettingsMap": {},
     "title": ""
    }
   },
   "outputs": [
    {
     "output_type": "display_data",
     "data": {
      "text/html": [
       "<style scoped>\n",
       "  .table-result-container {\n",
       "    max-height: 300px;\n",
       "    overflow: auto;\n",
       "  }\n",
       "  table, th, td {\n",
       "    border: 1px solid black;\n",
       "    border-collapse: collapse;\n",
       "  }\n",
       "  th, td {\n",
       "    padding: 5px;\n",
       "  }\n",
       "  th {\n",
       "    text-align: left;\n",
       "  }\n",
       "</style><div class='table-result-container'><table class='table-result'><thead style='background-color: white'><tr></tr></thead><tbody></tbody></table></div>"
      ]
     },
     "metadata": {
      "application/vnd.databricks.v1+output": {
       "addedWidgets": {},
       "aggData": [],
       "aggError": "",
       "aggOverflow": false,
       "aggSchema": [],
       "aggSeriesLimitReached": false,
       "aggType": "",
       "arguments": {},
       "columnCustomDisplayInfos": {},
       "data": [],
       "datasetInfos": [],
       "dbfsResultPath": null,
       "isJsonSchema": true,
       "metadata": {
        "isDbfsCommandResult": false
       },
       "overflow": false,
       "plotOptions": {
        "customPlotOptions": {},
        "displayType": "table",
        "pivotAggregation": null,
        "pivotColumns": null,
        "xColumns": null,
        "yColumns": null
       },
       "removedWidgets": [],
       "schema": [],
       "type": "table"
      }
     },
     "output_type": "display_data"
    },
    {
     "output_type": "display_data",
     "data": {
      "text/html": [
       "<style scoped>\n",
       "  .table-result-container {\n",
       "    max-height: 300px;\n",
       "    overflow: auto;\n",
       "  }\n",
       "  table, th, td {\n",
       "    border: 1px solid black;\n",
       "    border-collapse: collapse;\n",
       "  }\n",
       "  th, td {\n",
       "    padding: 5px;\n",
       "  }\n",
       "  th {\n",
       "    text-align: left;\n",
       "  }\n",
       "</style><div class='table-result-container'><table class='table-result'><thead style='background-color: white'><tr></tr></thead><tbody></tbody></table></div>"
      ]
     },
     "metadata": {
      "application/vnd.databricks.v1+output": {
       "addedWidgets": {},
       "aggData": [],
       "aggError": "",
       "aggOverflow": false,
       "aggSchema": [],
       "aggSeriesLimitReached": false,
       "aggType": "",
       "arguments": {},
       "columnCustomDisplayInfos": {},
       "data": [],
       "datasetInfos": [],
       "dbfsResultPath": null,
       "isJsonSchema": true,
       "metadata": {
        "isDbfsCommandResult": false
       },
       "overflow": false,
       "plotOptions": {
        "customPlotOptions": {},
        "displayType": "table",
        "pivotAggregation": null,
        "pivotColumns": null,
        "xColumns": null,
        "yColumns": null
       },
       "removedWidgets": [],
       "schema": [],
       "type": "table"
      }
     },
     "output_type": "display_data"
    },
    {
     "output_type": "display_data",
     "data": {
      "text/html": [
       "<style scoped>\n",
       "  .table-result-container {\n",
       "    max-height: 300px;\n",
       "    overflow: auto;\n",
       "  }\n",
       "  table, th, td {\n",
       "    border: 1px solid black;\n",
       "    border-collapse: collapse;\n",
       "  }\n",
       "  th, td {\n",
       "    padding: 5px;\n",
       "  }\n",
       "  th {\n",
       "    text-align: left;\n",
       "  }\n",
       "</style><div class='table-result-container'><table class='table-result'><thead style='background-color: white'><tr></tr></thead><tbody></tbody></table></div>"
      ]
     },
     "metadata": {
      "application/vnd.databricks.v1+output": {
       "addedWidgets": {},
       "aggData": [],
       "aggError": "",
       "aggOverflow": false,
       "aggSchema": [],
       "aggSeriesLimitReached": false,
       "aggType": "",
       "arguments": {},
       "columnCustomDisplayInfos": {},
       "data": [],
       "datasetInfos": [],
       "dbfsResultPath": null,
       "isJsonSchema": true,
       "metadata": {
        "isDbfsCommandResult": false
       },
       "overflow": false,
       "plotOptions": {
        "customPlotOptions": {},
        "displayType": "table",
        "pivotAggregation": null,
        "pivotColumns": null,
        "xColumns": null,
        "yColumns": null
       },
       "removedWidgets": [],
       "schema": [],
       "type": "table"
      }
     },
     "output_type": "display_data"
    },
    {
     "output_type": "display_data",
     "data": {
      "text/html": [
       "<style scoped>\n",
       "  .table-result-container {\n",
       "    max-height: 300px;\n",
       "    overflow: auto;\n",
       "  }\n",
       "  table, th, td {\n",
       "    border: 1px solid black;\n",
       "    border-collapse: collapse;\n",
       "  }\n",
       "  th, td {\n",
       "    padding: 5px;\n",
       "  }\n",
       "  th {\n",
       "    text-align: left;\n",
       "  }\n",
       "</style><div class='table-result-container'><table class='table-result'><thead style='background-color: white'><tr><th>age_group</th><th>category</th><th>category_count</th></tr></thead><tbody><tr><td>+50</td><td>event-planning</td><td>21</td></tr><tr><td>18-24</td><td>tattoos</td><td>129</td></tr><tr><td>25-35</td><td>travel</td><td>140</td></tr><tr><td>36-50</td><td>home-decor</td><td>70</td></tr></tbody></table></div>"
      ]
     },
     "metadata": {
      "application/vnd.databricks.v1+output": {
       "addedWidgets": {},
       "aggData": [],
       "aggError": "",
       "aggOverflow": false,
       "aggSchema": [],
       "aggSeriesLimitReached": false,
       "aggType": "",
       "arguments": {},
       "columnCustomDisplayInfos": {},
       "data": [
        [
         "+50",
         "event-planning",
         21
        ],
        [
         "18-24",
         "tattoos",
         129
        ],
        [
         "25-35",
         "travel",
         140
        ],
        [
         "36-50",
         "home-decor",
         70
        ]
       ],
       "datasetInfos": [],
       "dbfsResultPath": null,
       "isJsonSchema": true,
       "metadata": {
        "isDbfsCommandResult": false
       },
       "overflow": false,
       "plotOptions": {
        "customPlotOptions": {},
        "displayType": "table",
        "pivotAggregation": null,
        "pivotColumns": null,
        "xColumns": null,
        "yColumns": null
       },
       "removedWidgets": [],
       "schema": [
        {
         "metadata": "{}",
         "name": "age_group",
         "type": "\"string\""
        },
        {
         "metadata": "{}",
         "name": "category",
         "type": "\"string\""
        },
        {
         "metadata": "{}",
         "name": "category_count",
         "type": "\"long\""
        }
       ],
       "type": "table"
      }
     },
     "output_type": "display_data"
    }
   ],
   "source": [
    "%run /Workspace/Users/malek01@hotmail.co.uk/category_count_per_age_group"
   ]
  },
  {
   "cell_type": "code",
   "execution_count": 0,
   "metadata": {
    "application/vnd.databricks.v1+cell": {
     "cellMetadata": {
      "byteLimit": 2048000,
      "rowLimit": 10000
     },
     "collapsed": true,
     "inputWidgets": {},
     "nuid": "6bc2d278-e961-437a-8af7-c3596062a0a6",
     "showTitle": false,
     "tableResultSettingsMap": {},
     "title": ""
    }
   },
   "outputs": [
    {
     "output_type": "display_data",
     "data": {
      "text/html": [
       "<style scoped>\n",
       "  .table-result-container {\n",
       "    max-height: 300px;\n",
       "    overflow: auto;\n",
       "  }\n",
       "  table, th, td {\n",
       "    border: 1px solid black;\n",
       "    border-collapse: collapse;\n",
       "  }\n",
       "  th, td {\n",
       "    padding: 5px;\n",
       "  }\n",
       "  th {\n",
       "    text-align: left;\n",
       "  }\n",
       "</style><div class='table-result-container'><table class='table-result'><thead style='background-color: white'><tr></tr></thead><tbody></tbody></table></div>"
      ]
     },
     "metadata": {
      "application/vnd.databricks.v1+output": {
       "addedWidgets": {},
       "aggData": [],
       "aggError": "",
       "aggOverflow": false,
       "aggSchema": [],
       "aggSeriesLimitReached": false,
       "aggType": "",
       "arguments": {},
       "columnCustomDisplayInfos": {},
       "data": [],
       "datasetInfos": [],
       "dbfsResultPath": null,
       "isJsonSchema": true,
       "metadata": {
        "isDbfsCommandResult": false
       },
       "overflow": false,
       "plotOptions": {
        "customPlotOptions": {},
        "displayType": "table",
        "pivotAggregation": null,
        "pivotColumns": null,
        "xColumns": null,
        "yColumns": null
       },
       "removedWidgets": [],
       "schema": [],
       "type": "table"
      }
     },
     "output_type": "display_data"
    },
    {
     "output_type": "display_data",
     "data": {
      "text/html": [
       "<style scoped>\n",
       "  .table-result-container {\n",
       "    max-height: 300px;\n",
       "    overflow: auto;\n",
       "  }\n",
       "  table, th, td {\n",
       "    border: 1px solid black;\n",
       "    border-collapse: collapse;\n",
       "  }\n",
       "  th, td {\n",
       "    padding: 5px;\n",
       "  }\n",
       "  th {\n",
       "    text-align: left;\n",
       "  }\n",
       "</style><div class='table-result-container'><table class='table-result'><thead style='background-color: white'><tr></tr></thead><tbody></tbody></table></div>"
      ]
     },
     "metadata": {
      "application/vnd.databricks.v1+output": {
       "addedWidgets": {},
       "aggData": [],
       "aggError": "",
       "aggOverflow": false,
       "aggSchema": [],
       "aggSeriesLimitReached": false,
       "aggType": "",
       "arguments": {},
       "columnCustomDisplayInfos": {},
       "data": [],
       "datasetInfos": [],
       "dbfsResultPath": null,
       "isJsonSchema": true,
       "metadata": {
        "isDbfsCommandResult": false
       },
       "overflow": false,
       "plotOptions": {
        "customPlotOptions": {},
        "displayType": "table",
        "pivotAggregation": null,
        "pivotColumns": null,
        "xColumns": null,
        "yColumns": null
       },
       "removedWidgets": [],
       "schema": [],
       "type": "table"
      }
     },
     "output_type": "display_data"
    },
    {
     "output_type": "display_data",
     "data": {
      "text/html": [
       "<style scoped>\n",
       "  .table-result-container {\n",
       "    max-height: 300px;\n",
       "    overflow: auto;\n",
       "  }\n",
       "  table, th, td {\n",
       "    border: 1px solid black;\n",
       "    border-collapse: collapse;\n",
       "  }\n",
       "  th, td {\n",
       "    padding: 5px;\n",
       "  }\n",
       "  th {\n",
       "    text-align: left;\n",
       "  }\n",
       "</style><div class='table-result-container'><table class='table-result'><thead style='background-color: white'><tr></tr></thead><tbody></tbody></table></div>"
      ]
     },
     "metadata": {
      "application/vnd.databricks.v1+output": {
       "addedWidgets": {},
       "aggData": [],
       "aggError": "",
       "aggOverflow": false,
       "aggSchema": [],
       "aggSeriesLimitReached": false,
       "aggType": "",
       "arguments": {},
       "columnCustomDisplayInfos": {},
       "data": [],
       "datasetInfos": [],
       "dbfsResultPath": null,
       "isJsonSchema": true,
       "metadata": {
        "isDbfsCommandResult": false
       },
       "overflow": false,
       "plotOptions": {
        "customPlotOptions": {},
        "displayType": "table",
        "pivotAggregation": null,
        "pivotColumns": null,
        "xColumns": null,
        "yColumns": null
       },
       "removedWidgets": [],
       "schema": [],
       "type": "table"
      }
     },
     "output_type": "display_data"
    },
    {
     "output_type": "display_data",
     "data": {
      "text/html": [
       "<style scoped>\n",
       "  .table-result-container {\n",
       "    max-height: 300px;\n",
       "    overflow: auto;\n",
       "  }\n",
       "  table, th, td {\n",
       "    border: 1px solid black;\n",
       "    border-collapse: collapse;\n",
       "  }\n",
       "  th, td {\n",
       "    padding: 5px;\n",
       "  }\n",
       "  th {\n",
       "    text-align: left;\n",
       "  }\n",
       "</style><div class='table-result-container'><table class='table-result'><thead style='background-color: white'><tr><th>age_group</th><th>median_follower_count</th></tr></thead><tbody><tr><td>+50</td><td>2000</td></tr><tr><td>18-24</td><td>166000</td></tr><tr><td>25-35</td><td>24000</td></tr><tr><td>36-50</td><td>9000</td></tr></tbody></table></div>"
      ]
     },
     "metadata": {
      "application/vnd.databricks.v1+output": {
       "addedWidgets": {},
       "aggData": [],
       "aggError": "",
       "aggOverflow": false,
       "aggSchema": [],
       "aggSeriesLimitReached": false,
       "aggType": "",
       "arguments": {},
       "columnCustomDisplayInfos": {},
       "data": [
        [
         "+50",
         2000
        ],
        [
         "18-24",
         166000
        ],
        [
         "25-35",
         24000
        ],
        [
         "36-50",
         9000
        ]
       ],
       "datasetInfos": [],
       "dbfsResultPath": null,
       "isJsonSchema": true,
       "metadata": {
        "isDbfsCommandResult": false
       },
       "overflow": false,
       "plotOptions": {
        "customPlotOptions": {},
        "displayType": "table",
        "pivotAggregation": null,
        "pivotColumns": null,
        "xColumns": null,
        "yColumns": null
       },
       "removedWidgets": [],
       "schema": [
        {
         "metadata": "{}",
         "name": "age_group",
         "type": "\"string\""
        },
        {
         "metadata": "{}",
         "name": "median_follower_count",
         "type": "\"integer\""
        }
       ],
       "type": "table"
      }
     },
     "output_type": "display_data"
    }
   ],
   "source": [
    "%run /Workspace/Users/malek01@hotmail.co.uk/median_follower_count_per_age_group"
   ]
  },
  {
   "cell_type": "code",
   "execution_count": 0,
   "metadata": {
    "application/vnd.databricks.v1+cell": {
     "cellMetadata": {
      "byteLimit": 2048000,
      "rowLimit": 10000
     },
     "collapsed": true,
     "inputWidgets": {},
     "nuid": "0b5766b6-2872-4d9d-a8b9-07260114752d",
     "showTitle": false,
     "tableResultSettingsMap": {},
     "title": ""
    }
   },
   "outputs": [
    {
     "output_type": "display_data",
     "data": {
      "text/html": [
       "<style scoped>\n",
       "  .table-result-container {\n",
       "    max-height: 300px;\n",
       "    overflow: auto;\n",
       "  }\n",
       "  table, th, td {\n",
       "    border: 1px solid black;\n",
       "    border-collapse: collapse;\n",
       "  }\n",
       "  th, td {\n",
       "    padding: 5px;\n",
       "  }\n",
       "  th {\n",
       "    text-align: left;\n",
       "  }\n",
       "</style><div class='table-result-container'><table class='table-result'><thead style='background-color: white'><tr></tr></thead><tbody></tbody></table></div>"
      ]
     },
     "metadata": {
      "application/vnd.databricks.v1+output": {
       "addedWidgets": {},
       "aggData": [],
       "aggError": "",
       "aggOverflow": false,
       "aggSchema": [],
       "aggSeriesLimitReached": false,
       "aggType": "",
       "arguments": {},
       "columnCustomDisplayInfos": {},
       "data": [],
       "datasetInfos": [],
       "dbfsResultPath": null,
       "isJsonSchema": true,
       "metadata": {
        "isDbfsCommandResult": false
       },
       "overflow": false,
       "plotOptions": {
        "customPlotOptions": {},
        "displayType": "table",
        "pivotAggregation": null,
        "pivotColumns": null,
        "xColumns": null,
        "yColumns": null
       },
       "removedWidgets": [],
       "schema": [],
       "type": "table"
      }
     },
     "output_type": "display_data"
    },
    {
     "output_type": "display_data",
     "data": {
      "text/html": [
       "<style scoped>\n",
       "  .table-result-container {\n",
       "    max-height: 300px;\n",
       "    overflow: auto;\n",
       "  }\n",
       "  table, th, td {\n",
       "    border: 1px solid black;\n",
       "    border-collapse: collapse;\n",
       "  }\n",
       "  th, td {\n",
       "    padding: 5px;\n",
       "  }\n",
       "  th {\n",
       "    text-align: left;\n",
       "  }\n",
       "</style><div class='table-result-container'><table class='table-result'><thead style='background-color: white'><tr></tr></thead><tbody></tbody></table></div>"
      ]
     },
     "metadata": {
      "application/vnd.databricks.v1+output": {
       "addedWidgets": {},
       "aggData": [],
       "aggError": "",
       "aggOverflow": false,
       "aggSchema": [],
       "aggSeriesLimitReached": false,
       "aggType": "",
       "arguments": {},
       "columnCustomDisplayInfos": {},
       "data": [],
       "datasetInfos": [],
       "dbfsResultPath": null,
       "isJsonSchema": true,
       "metadata": {
        "isDbfsCommandResult": false
       },
       "overflow": false,
       "plotOptions": {
        "customPlotOptions": {},
        "displayType": "table",
        "pivotAggregation": null,
        "pivotColumns": null,
        "xColumns": null,
        "yColumns": null
       },
       "removedWidgets": [],
       "schema": [],
       "type": "table"
      }
     },
     "output_type": "display_data"
    },
    {
     "output_type": "display_data",
     "data": {
      "text/html": [
       "<style scoped>\n",
       "  .table-result-container {\n",
       "    max-height: 300px;\n",
       "    overflow: auto;\n",
       "  }\n",
       "  table, th, td {\n",
       "    border: 1px solid black;\n",
       "    border-collapse: collapse;\n",
       "  }\n",
       "  th, td {\n",
       "    padding: 5px;\n",
       "  }\n",
       "  th {\n",
       "    text-align: left;\n",
       "  }\n",
       "</style><div class='table-result-container'><table class='table-result'><thead style='background-color: white'><tr><th>post_year</th><th>number_users_joined</th></tr></thead><tbody><tr><td>2015</td><td>432</td></tr><tr><td>2016</td><td>490</td></tr><tr><td>2017</td><td>161</td></tr></tbody></table></div>"
      ]
     },
     "metadata": {
      "application/vnd.databricks.v1+output": {
       "addedWidgets": {},
       "aggData": [],
       "aggError": "",
       "aggOverflow": false,
       "aggSchema": [],
       "aggSeriesLimitReached": false,
       "aggType": "",
       "arguments": {},
       "columnCustomDisplayInfos": {},
       "data": [
        [
         2015,
         432
        ],
        [
         2016,
         490
        ],
        [
         2017,
         161
        ]
       ],
       "datasetInfos": [],
       "dbfsResultPath": null,
       "isJsonSchema": true,
       "metadata": {
        "isDbfsCommandResult": false
       },
       "overflow": false,
       "plotOptions": {
        "customPlotOptions": {},
        "displayType": "table",
        "pivotAggregation": null,
        "pivotColumns": null,
        "xColumns": null,
        "yColumns": null
       },
       "removedWidgets": [],
       "schema": [
        {
         "metadata": "{}",
         "name": "post_year",
         "type": "\"integer\""
        },
        {
         "metadata": "{}",
         "name": "number_users_joined",
         "type": "\"long\""
        }
       ],
       "type": "table"
      }
     },
     "output_type": "display_data"
    }
   ],
   "source": [
    "%run /Workspace/Users/malek01@hotmail.co.uk/number_users_joined"
   ]
  },
  {
   "cell_type": "code",
   "execution_count": 0,
   "metadata": {
    "application/vnd.databricks.v1+cell": {
     "cellMetadata": {
      "byteLimit": 2048000,
      "rowLimit": 10000
     },
     "collapsed": true,
     "inputWidgets": {},
     "nuid": "ee6222c3-f08f-40a3-aca0-b3263646cabd",
     "showTitle": false,
     "tableResultSettingsMap": {},
     "title": ""
    }
   },
   "outputs": [
    {
     "output_type": "display_data",
     "data": {
      "text/html": [
       "<style scoped>\n",
       "  .table-result-container {\n",
       "    max-height: 300px;\n",
       "    overflow: auto;\n",
       "  }\n",
       "  table, th, td {\n",
       "    border: 1px solid black;\n",
       "    border-collapse: collapse;\n",
       "  }\n",
       "  th, td {\n",
       "    padding: 5px;\n",
       "  }\n",
       "  th {\n",
       "    text-align: left;\n",
       "  }\n",
       "</style><div class='table-result-container'><table class='table-result'><thead style='background-color: white'><tr></tr></thead><tbody></tbody></table></div>"
      ]
     },
     "metadata": {
      "application/vnd.databricks.v1+output": {
       "addedWidgets": {},
       "aggData": [],
       "aggError": "",
       "aggOverflow": false,
       "aggSchema": [],
       "aggSeriesLimitReached": false,
       "aggType": "",
       "arguments": {},
       "columnCustomDisplayInfos": {},
       "data": [],
       "datasetInfos": [],
       "dbfsResultPath": null,
       "isJsonSchema": true,
       "metadata": {
        "isDbfsCommandResult": false
       },
       "overflow": false,
       "plotOptions": {
        "customPlotOptions": {},
        "displayType": "table",
        "pivotAggregation": null,
        "pivotColumns": null,
        "xColumns": null,
        "yColumns": null
       },
       "removedWidgets": [],
       "schema": [],
       "type": "table"
      }
     },
     "output_type": "display_data"
    },
    {
     "output_type": "display_data",
     "data": {
      "text/html": [
       "<style scoped>\n",
       "  .table-result-container {\n",
       "    max-height: 300px;\n",
       "    overflow: auto;\n",
       "  }\n",
       "  table, th, td {\n",
       "    border: 1px solid black;\n",
       "    border-collapse: collapse;\n",
       "  }\n",
       "  th, td {\n",
       "    padding: 5px;\n",
       "  }\n",
       "  th {\n",
       "    text-align: left;\n",
       "  }\n",
       "</style><div class='table-result-container'><table class='table-result'><thead style='background-color: white'><tr></tr></thead><tbody></tbody></table></div>"
      ]
     },
     "metadata": {
      "application/vnd.databricks.v1+output": {
       "addedWidgets": {},
       "aggData": [],
       "aggError": "",
       "aggOverflow": false,
       "aggSchema": [],
       "aggSeriesLimitReached": false,
       "aggType": "",
       "arguments": {},
       "columnCustomDisplayInfos": {},
       "data": [],
       "datasetInfos": [],
       "dbfsResultPath": null,
       "isJsonSchema": true,
       "metadata": {
        "isDbfsCommandResult": false
       },
       "overflow": false,
       "plotOptions": {
        "customPlotOptions": {},
        "displayType": "table",
        "pivotAggregation": null,
        "pivotColumns": null,
        "xColumns": null,
        "yColumns": null
       },
       "removedWidgets": [],
       "schema": [],
       "type": "table"
      }
     },
     "output_type": "display_data"
    },
    {
     "output_type": "display_data",
     "data": {
      "text/html": [
       "<style scoped>\n",
       "  .table-result-container {\n",
       "    max-height: 300px;\n",
       "    overflow: auto;\n",
       "  }\n",
       "  table, th, td {\n",
       "    border: 1px solid black;\n",
       "    border-collapse: collapse;\n",
       "  }\n",
       "  th, td {\n",
       "    padding: 5px;\n",
       "  }\n",
       "  th {\n",
       "    text-align: left;\n",
       "  }\n",
       "</style><div class='table-result-container'><table class='table-result'><thead style='background-color: white'><tr><th>post_year</th><th>median_follower_count</th></tr></thead><tbody><tr><td>2015</td><td>190000</td></tr><tr><td>2016</td><td>12000</td></tr><tr><td>2017</td><td>4000</td></tr></tbody></table></div>"
      ]
     },
     "metadata": {
      "application/vnd.databricks.v1+output": {
       "addedWidgets": {},
       "aggData": [],
       "aggError": "",
       "aggOverflow": false,
       "aggSchema": [],
       "aggSeriesLimitReached": false,
       "aggType": "",
       "arguments": {},
       "columnCustomDisplayInfos": {},
       "data": [
        [
         2015,
         190000
        ],
        [
         2016,
         12000
        ],
        [
         2017,
         4000
        ]
       ],
       "datasetInfos": [],
       "dbfsResultPath": null,
       "isJsonSchema": true,
       "metadata": {
        "isDbfsCommandResult": false
       },
       "overflow": false,
       "plotOptions": {
        "customPlotOptions": {},
        "displayType": "table",
        "pivotAggregation": null,
        "pivotColumns": null,
        "xColumns": null,
        "yColumns": null
       },
       "removedWidgets": [],
       "schema": [
        {
         "metadata": "{}",
         "name": "post_year",
         "type": "\"integer\""
        },
        {
         "metadata": "{}",
         "name": "median_follower_count",
         "type": "\"integer\""
        }
       ],
       "type": "table"
      }
     },
     "output_type": "display_data"
    }
   ],
   "source": [
    "%run /Workspace/Users/malek01@hotmail.co.uk/median_follower_count_by_year"
   ]
  },
  {
   "cell_type": "code",
   "execution_count": 0,
   "metadata": {
    "application/vnd.databricks.v1+cell": {
     "cellMetadata": {
      "byteLimit": 2048000,
      "rowLimit": 10000
     },
     "collapsed": true,
     "inputWidgets": {},
     "nuid": "8ea48537-04b5-4449-b2ee-976c25434c54",
     "showTitle": false,
     "tableResultSettingsMap": {},
     "title": ""
    }
   },
   "outputs": [
    {
     "output_type": "display_data",
     "data": {
      "text/html": [
       "<style scoped>\n",
       "  .table-result-container {\n",
       "    max-height: 300px;\n",
       "    overflow: auto;\n",
       "  }\n",
       "  table, th, td {\n",
       "    border: 1px solid black;\n",
       "    border-collapse: collapse;\n",
       "  }\n",
       "  th, td {\n",
       "    padding: 5px;\n",
       "  }\n",
       "  th {\n",
       "    text-align: left;\n",
       "  }\n",
       "</style><div class='table-result-container'><table class='table-result'><thead style='background-color: white'><tr></tr></thead><tbody></tbody></table></div>"
      ]
     },
     "metadata": {
      "application/vnd.databricks.v1+output": {
       "addedWidgets": {},
       "aggData": [],
       "aggError": "",
       "aggOverflow": false,
       "aggSchema": [],
       "aggSeriesLimitReached": false,
       "aggType": "",
       "arguments": {},
       "columnCustomDisplayInfos": {},
       "data": [],
       "datasetInfos": [],
       "dbfsResultPath": null,
       "isJsonSchema": true,
       "metadata": {
        "isDbfsCommandResult": false
       },
       "overflow": false,
       "plotOptions": {
        "customPlotOptions": {},
        "displayType": "table",
        "pivotAggregation": null,
        "pivotColumns": null,
        "xColumns": null,
        "yColumns": null
       },
       "removedWidgets": [],
       "schema": [],
       "type": "table"
      }
     },
     "output_type": "display_data"
    },
    {
     "output_type": "display_data",
     "data": {
      "text/html": [
       "<style scoped>\n",
       "  .table-result-container {\n",
       "    max-height: 300px;\n",
       "    overflow: auto;\n",
       "  }\n",
       "  table, th, td {\n",
       "    border: 1px solid black;\n",
       "    border-collapse: collapse;\n",
       "  }\n",
       "  th, td {\n",
       "    padding: 5px;\n",
       "  }\n",
       "  th {\n",
       "    text-align: left;\n",
       "  }\n",
       "</style><div class='table-result-container'><table class='table-result'><thead style='background-color: white'><tr></tr></thead><tbody></tbody></table></div>"
      ]
     },
     "metadata": {
      "application/vnd.databricks.v1+output": {
       "addedWidgets": {},
       "aggData": [],
       "aggError": "",
       "aggOverflow": false,
       "aggSchema": [],
       "aggSeriesLimitReached": false,
       "aggType": "",
       "arguments": {},
       "columnCustomDisplayInfos": {},
       "data": [],
       "datasetInfos": [],
       "dbfsResultPath": null,
       "isJsonSchema": true,
       "metadata": {
        "isDbfsCommandResult": false
       },
       "overflow": false,
       "plotOptions": {
        "customPlotOptions": {},
        "displayType": "table",
        "pivotAggregation": null,
        "pivotColumns": null,
        "xColumns": null,
        "yColumns": null
       },
       "removedWidgets": [],
       "schema": [],
       "type": "table"
      }
     },
     "output_type": "display_data"
    },
    {
     "output_type": "display_data",
     "data": {
      "text/html": [
       "<style scoped>\n",
       "  .table-result-container {\n",
       "    max-height: 300px;\n",
       "    overflow: auto;\n",
       "  }\n",
       "  table, th, td {\n",
       "    border: 1px solid black;\n",
       "    border-collapse: collapse;\n",
       "  }\n",
       "  th, td {\n",
       "    padding: 5px;\n",
       "  }\n",
       "  th {\n",
       "    text-align: left;\n",
       "  }\n",
       "</style><div class='table-result-container'><table class='table-result'><thead style='background-color: white'><tr><th>age_group</th><th>post_year</th><th>median_follower_count</th></tr></thead><tbody><tr><td>+50</td><td>2015</td><td>2000</td></tr><tr><td>+50</td><td>2016</td><td>824</td></tr><tr><td>+50</td><td>2017</td><td>5000</td></tr><tr><td>18-24</td><td>2015</td><td>472000</td></tr><tr><td>18-24</td><td>2016</td><td>25000</td></tr><tr><td>18-24</td><td>2017</td><td>4000</td></tr><tr><td>25-35</td><td>2015</td><td>49000</td></tr><tr><td>25-35</td><td>2016</td><td>7000</td></tr><tr><td>25-35</td><td>2017</td><td>6000</td></tr><tr><td>36-50</td><td>2015</td><td>13000</td></tr><tr><td>36-50</td><td>2016</td><td>13000</td></tr><tr><td>36-50</td><td>2017</td><td>2000</td></tr></tbody></table></div>"
      ]
     },
     "metadata": {
      "application/vnd.databricks.v1+output": {
       "addedWidgets": {},
       "aggData": [],
       "aggError": "",
       "aggOverflow": false,
       "aggSchema": [],
       "aggSeriesLimitReached": false,
       "aggType": "",
       "arguments": {},
       "columnCustomDisplayInfos": {},
       "data": [
        [
         "+50",
         2015,
         2000
        ],
        [
         "+50",
         2016,
         824
        ],
        [
         "+50",
         2017,
         5000
        ],
        [
         "18-24",
         2015,
         472000
        ],
        [
         "18-24",
         2016,
         25000
        ],
        [
         "18-24",
         2017,
         4000
        ],
        [
         "25-35",
         2015,
         49000
        ],
        [
         "25-35",
         2016,
         7000
        ],
        [
         "25-35",
         2017,
         6000
        ],
        [
         "36-50",
         2015,
         13000
        ],
        [
         "36-50",
         2016,
         13000
        ],
        [
         "36-50",
         2017,
         2000
        ]
       ],
       "datasetInfos": [],
       "dbfsResultPath": null,
       "isJsonSchema": true,
       "metadata": {
        "isDbfsCommandResult": false
       },
       "overflow": false,
       "plotOptions": {
        "customPlotOptions": {},
        "displayType": "table",
        "pivotAggregation": null,
        "pivotColumns": null,
        "xColumns": null,
        "yColumns": null
       },
       "removedWidgets": [],
       "schema": [
        {
         "metadata": "{}",
         "name": "age_group",
         "type": "\"string\""
        },
        {
         "metadata": "{}",
         "name": "post_year",
         "type": "\"integer\""
        },
        {
         "metadata": "{}",
         "name": "median_follower_count",
         "type": "\"integer\""
        }
       ],
       "type": "table"
      }
     },
     "output_type": "display_data"
    }
   ],
   "source": [
    "%run /Workspace/Users/malek01@hotmail.co.uk/median_follower_count_based_on_age_and_year_joined"
   ]
  }
 ],
 "metadata": {
  "application/vnd.databricks.v1+notebook": {
   "computePreferences": null,
   "dashboards": [],
   "environmentMetadata": {
    "base_environment": "",
    "client": "2"
   },
   "language": "sql",
   "notebookMetadata": {
    "pythonIndentUnit": 4
   },
   "notebookName": "master_notebook",
   "widgets": {}
  },
  "language_info": {
   "name": "sql"
  }
 },
 "nbformat": 4,
 "nbformat_minor": 0
}