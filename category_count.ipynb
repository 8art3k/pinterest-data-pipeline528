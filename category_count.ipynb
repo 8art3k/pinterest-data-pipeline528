{
 "cells": [
  {
   "cell_type": "code",
   "execution_count": 0,
   "metadata": {
    "application/vnd.databricks.v1+cell": {
     "cellMetadata": {
      "byteLimit": 2048000,
      "rowLimit": 10000
     },
     "inputWidgets": {},
     "nuid": "2bc524b7-a3f6-4c76-a4f3-f3a5a54b7174",
     "showTitle": false,
     "tableResultSettingsMap": {},
     "title": ""
    }
   },
   "outputs": [
    {
     "output_type": "display_data",
     "data": {
      "text/html": [
       "<style scoped>\n",
       "  .table-result-container {\n",
       "    max-height: 300px;\n",
       "    overflow: auto;\n",
       "  }\n",
       "  table, th, td {\n",
       "    border: 1px solid black;\n",
       "    border-collapse: collapse;\n",
       "  }\n",
       "  th, td {\n",
       "    padding: 5px;\n",
       "  }\n",
       "  th {\n",
       "    text-align: left;\n",
       "  }\n",
       "</style><div class='table-result-container'><table class='table-result'><thead style='background-color: white'><tr></tr></thead><tbody></tbody></table></div>"
      ]
     },
     "metadata": {
      "application/vnd.databricks.v1+output": {
       "addedWidgets": {},
       "aggData": [],
       "aggError": "",
       "aggOverflow": false,
       "aggSchema": [],
       "aggSeriesLimitReached": false,
       "aggType": "",
       "arguments": {},
       "columnCustomDisplayInfos": {},
       "data": [],
       "datasetInfos": [],
       "dbfsResultPath": null,
       "isJsonSchema": true,
       "metadata": {
        "isDbfsCommandResult": false
       },
       "overflow": false,
       "plotOptions": {
        "customPlotOptions": {},
        "displayType": "table",
        "pivotAggregation": null,
        "pivotColumns": null,
        "xColumns": null,
        "yColumns": null
       },
       "removedWidgets": [],
       "schema": [],
       "type": "table"
      }
     },
     "output_type": "display_data"
    }
   ],
   "source": [
    "use pinterest_data"
   ]
  },
  {
   "cell_type": "code",
   "execution_count": 0,
   "metadata": {
    "application/vnd.databricks.v1+cell": {
     "cellMetadata": {
      "byteLimit": 2048000,
      "rowLimit": 10000
     },
     "inputWidgets": {},
     "nuid": "55978a31-79dc-4444-aeeb-215cae74b90d",
     "showTitle": false,
     "tableResultSettingsMap": {},
     "title": ""
    }
   },
   "outputs": [
    {
     "output_type": "display_data",
     "data": {
      "text/html": [
       "<style scoped>\n",
       "  .table-result-container {\n",
       "    max-height: 300px;\n",
       "    overflow: auto;\n",
       "  }\n",
       "  table, th, td {\n",
       "    border: 1px solid black;\n",
       "    border-collapse: collapse;\n",
       "  }\n",
       "  th, td {\n",
       "    padding: 5px;\n",
       "  }\n",
       "  th {\n",
       "    text-align: left;\n",
       "  }\n",
       "</style><div class='table-result-container'><table class='table-result'><thead style='background-color: white'><tr></tr></thead><tbody></tbody></table></div>"
      ]
     },
     "metadata": {
      "application/vnd.databricks.v1+output": {
       "addedWidgets": {},
       "aggData": [],
       "aggError": "",
       "aggOverflow": false,
       "aggSchema": [],
       "aggSeriesLimitReached": false,
       "aggType": "",
       "arguments": {},
       "columnCustomDisplayInfos": {},
       "data": [],
       "datasetInfos": [],
       "dbfsResultPath": null,
       "isJsonSchema": true,
       "metadata": {
        "isDbfsCommandResult": false
       },
       "overflow": false,
       "plotOptions": {
        "customPlotOptions": {},
        "displayType": "table",
        "pivotAggregation": null,
        "pivotColumns": null,
        "xColumns": null,
        "yColumns": null
       },
       "removedWidgets": [],
       "schema": [],
       "type": "table"
      }
     },
     "output_type": "display_data"
    }
   ],
   "source": [
    "CREATE OR REPLACE TEMP VIEW category_count AS\n",
    "SELECT \n",
    "    df_geo.country,\n",
    "    df_pin.category,\n",
    "    COUNT(*) AS category_count\n",
    "FROM \n",
    "    df_geo\n",
    "JOIN \n",
    "    df_pin \n",
    "    ON df_geo.ind = df_pin.ind\n",
    "GROUP BY \n",
    "    df_geo.country, df_pin.category\n",
    "ORDER BY \n",
    "    df_geo.country, category_count DESC;\n"
   ]
  },
  {
   "cell_type": "code",
   "execution_count": 0,
   "metadata": {
    "application/vnd.databricks.v1+cell": {
     "cellMetadata": {
      "byteLimit": 2048000,
      "rowLimit": 10000
     },
     "inputWidgets": {},
     "nuid": "52470bca-d54e-4310-860c-35fc2a1738f3",
     "showTitle": false,
     "tableResultSettingsMap": {},
     "title": ""
    }
   },
   "outputs": [],
   "source": [
    "/* SELECT * FROM category_count; */"
   ]
  },
  {
   "cell_type": "code",
   "execution_count": 0,
   "metadata": {
    "application/vnd.databricks.v1+cell": {
     "cellMetadata": {
      "byteLimit": 2048000,
      "rowLimit": 10000
     },
     "inputWidgets": {},
     "nuid": "0df77286-bfe6-48f6-9f22-68b3c0c59fb9",
     "showTitle": false,
     "tableResultSettingsMap": {},
     "title": ""
    }
   },
   "outputs": [
    {
     "output_type": "display_data",
     "data": {
      "text/html": [
       "<style scoped>\n",
       "  .table-result-container {\n",
       "    max-height: 300px;\n",
       "    overflow: auto;\n",
       "  }\n",
       "  table, th, td {\n",
       "    border: 1px solid black;\n",
       "    border-collapse: collapse;\n",
       "  }\n",
       "  th, td {\n",
       "    padding: 5px;\n",
       "  }\n",
       "  th {\n",
       "    text-align: left;\n",
       "  }\n",
       "</style><div class='table-result-container'><table class='table-result'><thead style='background-color: white'><tr><th>country</th><th>category</th><th>category_count</th></tr></thead><tbody><tr><td>Afghanistan</td><td>education</td><td>29</td></tr><tr><td>Albania</td><td>christmas</td><td>17</td></tr><tr><td>Algeria</td><td>quotes</td><td>49</td></tr><tr><td>American Samoa</td><td>tattoos</td><td>20</td></tr><tr><td>Andorra</td><td>tattoos</td><td>20</td></tr><tr><td>Angola</td><td>diy-and-crafts</td><td>9</td></tr><tr><td>Anguilla</td><td>home-decor</td><td>13</td></tr><tr><td>Antarctica (the territory South of 60 deg S)</td><td>christmas</td><td>13</td></tr><tr><td>Antigua and Barbuda</td><td>christmas</td><td>16</td></tr><tr><td>Argentina</td><td>tattoos</td><td>29</td></tr><tr><td>Armenia</td><td>diy-and-crafts</td><td>13</td></tr><tr><td>Aruba</td><td>art</td><td>16</td></tr><tr><td>Australia</td><td>education</td><td>9</td></tr><tr><td>Austria</td><td>tattoos</td><td>8</td></tr><tr><td>Azerbaijan</td><td>finance</td><td>8</td></tr><tr><td>Bahamas</td><td>event-planning</td><td>8</td></tr><tr><td>Bahrain</td><td>diy-and-crafts</td><td>8</td></tr><tr><td>Bangladesh</td><td>christmas</td><td>12</td></tr><tr><td>Barbados</td><td>art</td><td>5</td></tr><tr><td>Belarus</td><td>travel</td><td>24</td></tr><tr><td>Belgium</td><td>travel</td><td>4</td></tr><tr><td>Belize</td><td>art</td><td>4</td></tr><tr><td>Benin</td><td>travel</td><td>20</td></tr><tr><td>Bermuda</td><td>finance</td><td>4</td></tr><tr><td>Bhutan</td><td>event-planning</td><td>8</td></tr><tr><td>Bolivia</td><td>home-decor</td><td>8</td></tr><tr><td>Bosnia and Herzegovina</td><td>diy-and-crafts</td><td>4</td></tr><tr><td>Botswana</td><td>tattoos</td><td>13</td></tr><tr><td>Bouvet Island (Bouvetoya)</td><td>tattoos</td><td>12</td></tr><tr><td>Brazil</td><td>finance</td><td>4</td></tr><tr><td>British Indian Ocean Territory (Chagos Archipelago)</td><td>finance</td><td>4</td></tr><tr><td>British Virgin Islands</td><td>quotes</td><td>8</td></tr><tr><td>Brunei Darussalam</td><td>home-decor</td><td>4</td></tr><tr><td>Bulgaria</td><td>finance</td><td>9</td></tr><tr><td>Burkina Faso</td><td>quotes</td><td>4</td></tr><tr><td>Burundi</td><td>art</td><td>4</td></tr><tr><td>Cambodia</td><td>beauty</td><td>4</td></tr><tr><td>Cameroon</td><td>beauty</td><td>4</td></tr><tr><td>Canada</td><td>mens-fashion</td><td>4</td></tr><tr><td>Cape Verde</td><td>home-decor</td><td>9</td></tr><tr><td>Cayman Islands</td><td>travel</td><td>4</td></tr><tr><td>Central African Republic</td><td>christmas</td><td>9</td></tr><tr><td>Chad</td><td>art</td><td>4</td></tr><tr><td>Chile</td><td>quotes</td><td>4</td></tr><tr><td>China</td><td>art</td><td>4</td></tr><tr><td>Christmas Island</td><td>christmas</td><td>9</td></tr><tr><td>Cocos (Keeling) Islands</td><td>travel</td><td>4</td></tr><tr><td>Colombia</td><td>home-decor</td><td>4</td></tr><tr><td>Comoros</td><td>finance</td><td>4</td></tr><tr><td>Congo</td><td>education</td><td>4</td></tr><tr><td>Cook Islands</td><td>finance</td><td>4</td></tr><tr><td>Costa Rica</td><td>quotes</td><td>4</td></tr><tr><td>Cote d'Ivoire</td><td>diy-and-crafts</td><td>9</td></tr><tr><td>Cuba</td><td>home-decor</td><td>4</td></tr><tr><td>Czech Republic</td><td>finance</td><td>4</td></tr><tr><td>Denmark</td><td>mens-fashion</td><td>4</td></tr><tr><td>Djibouti</td><td>christmas</td><td>4</td></tr><tr><td>Dominica</td><td>diy-and-crafts</td><td>4</td></tr><tr><td>Dominican Republic</td><td>travel</td><td>9</td></tr><tr><td>Ecuador</td><td>mens-fashion</td><td>4</td></tr><tr><td>Egypt</td><td>finance</td><td>16</td></tr><tr><td>El Salvador</td><td>quotes</td><td>4</td></tr><tr><td>Equatorial Guinea</td><td>mens-fashion</td><td>4</td></tr><tr><td>Ethiopia</td><td>diy-and-crafts</td><td>4</td></tr><tr><td>Falkland Islands (Malvinas)</td><td>education</td><td>4</td></tr><tr><td>Faroe Islands</td><td>event-planning</td><td>8</td></tr><tr><td>Fiji</td><td>education</td><td>8</td></tr><tr><td>Finland</td><td>beauty</td><td>4</td></tr><tr><td>France</td><td>beauty</td><td>4</td></tr><tr><td>French Guiana</td><td>quotes</td><td>16</td></tr><tr><td>French Polynesia</td><td>diy-and-crafts</td><td>4</td></tr><tr><td>French Southern Territories</td><td>art</td><td>4</td></tr><tr><td>Gambia</td><td>home-decor</td><td>4</td></tr><tr><td>Georgia</td><td>education</td><td>4</td></tr><tr><td>Germany</td><td>event-planning</td><td>9</td></tr><tr><td>Gibraltar</td><td>art</td><td>4</td></tr><tr><td>Greece</td><td>art</td><td>4</td></tr><tr><td>Greenland</td><td>beauty</td><td>4</td></tr><tr><td>Grenada</td><td>event-planning</td><td>4</td></tr><tr><td>Guadeloupe</td><td>christmas</td><td>4</td></tr><tr><td>Guatemala</td><td>finance</td><td>4</td></tr><tr><td>Guernsey</td><td>mens-fashion</td><td>4</td></tr><tr><td>Guinea</td><td>christmas</td><td>4</td></tr><tr><td>Guinea-Bissau</td><td>tattoos</td><td>9</td></tr><tr><td>Guyana</td><td>quotes</td><td>4</td></tr><tr><td>Haiti</td><td>home-decor</td><td>4</td></tr><tr><td>Heard Island and McDonald Islands</td><td>vehicles</td><td>4</td></tr><tr><td>Hong Kong</td><td>vehicles</td><td>4</td></tr><tr><td>Hungary</td><td>event-planning</td><td>4</td></tr><tr><td>India</td><td>travel</td><td>25</td></tr><tr><td>Indonesia</td><td>finance</td><td>16</td></tr><tr><td>Iran</td><td>tattoos</td><td>4</td></tr><tr><td>Iraq</td><td>mens-fashion</td><td>4</td></tr><tr><td>Isle of Man</td><td>art</td><td>13</td></tr><tr><td>Israel</td><td>quotes</td><td>4</td></tr><tr><td>Jamaica</td><td>vehicles</td><td>1</td></tr><tr><td>Japan</td><td>art</td><td>4</td></tr><tr><td>Jordan</td><td>mens-fashion</td><td>4</td></tr><tr><td>Kenya</td><td>diy-and-crafts</td><td>4</td></tr><tr><td>Kiribati</td><td>vehicles</td><td>4</td></tr><tr><td>Korea</td><td>home-decor</td><td>4</td></tr><tr><td>Kuwait</td><td>event-planning</td><td>4</td></tr><tr><td>Kyrgyz Republic</td><td>vehicles</td><td>8</td></tr><tr><td>Latvia</td><td>travel</td><td>8</td></tr><tr><td>Lebanon</td><td>quotes</td><td>4</td></tr><tr><td>Lesotho</td><td>art</td><td>12</td></tr><tr><td>Liechtenstein</td><td>mens-fashion</td><td>4</td></tr><tr><td>Lithuania</td><td>diy-and-crafts</td><td>4</td></tr><tr><td>Macao</td><td>mens-fashion</td><td>4</td></tr><tr><td>Madagascar</td><td>quotes</td><td>4</td></tr><tr><td>Malawi</td><td>travel</td><td>4</td></tr><tr><td>Maldives</td><td>beauty</td><td>9</td></tr><tr><td>Mali</td><td>christmas</td><td>4</td></tr><tr><td>Malta</td><td>home-decor</td><td>4</td></tr><tr><td>Marshall Islands</td><td>travel</td><td>16</td></tr><tr><td>Mauritania</td><td>education</td><td>1</td></tr><tr><td>Mayotte</td><td>beauty</td><td>4</td></tr><tr><td>Mexico</td><td>vehicles</td><td>4</td></tr><tr><td>Moldova</td><td>home-decor</td><td>8</td></tr><tr><td>Monaco</td><td>vehicles</td><td>4</td></tr><tr><td>Montserrat</td><td>art</td><td>9</td></tr><tr><td>Morocco</td><td>quotes</td><td>4</td></tr><tr><td>Mozambique</td><td>home-decor</td><td>9</td></tr><tr><td>Namibia</td><td>quotes</td><td>4</td></tr><tr><td>Nauru</td><td>beauty</td><td>4</td></tr><tr><td>Netherlands</td><td>home-decor</td><td>4</td></tr><tr><td>Netherlands Antilles</td><td>art</td><td>13</td></tr><tr><td>New Caledonia</td><td>mens-fashion</td><td>13</td></tr><tr><td>Nicaragua</td><td>mens-fashion</td><td>4</td></tr><tr><td>Niger</td><td>art</td><td>4</td></tr><tr><td>Nigeria</td><td>christmas</td><td>4</td></tr><tr><td>Norfolk Island</td><td>event-planning</td><td>4</td></tr><tr><td>Norway</td><td>travel</td><td>4</td></tr><tr><td>Oman</td><td>diy-and-crafts</td><td>4</td></tr><tr><td>Panama</td><td>travel</td><td>4</td></tr><tr><td>Papua New Guinea</td><td>quotes</td><td>9</td></tr><tr><td>Peru</td><td>vehicles</td><td>4</td></tr><tr><td>Philippines</td><td>event-planning</td><td>1</td></tr><tr><td>Pitcairn Islands</td><td>diy-and-crafts</td><td>4</td></tr><tr><td>Portugal</td><td>diy-and-crafts</td><td>4</td></tr><tr><td>Puerto Rico</td><td>event-planning</td><td>4</td></tr><tr><td>Qatar</td><td>travel</td><td>4</td></tr><tr><td>Romania</td><td>tattoos</td><td>4</td></tr><tr><td>Russian Federation</td><td>christmas</td><td>4</td></tr><tr><td>Saint Barthelemy</td><td>mens-fashion</td><td>4</td></tr><tr><td>Saint Kitts and Nevis</td><td>vehicles</td><td>9</td></tr><tr><td>Saint Martin</td><td>home-decor</td><td>9</td></tr><tr><td>Saint Pierre and Miquelon</td><td>quotes</td><td>4</td></tr><tr><td>Saint Vincent and the Grenadines</td><td>christmas</td><td>4</td></tr><tr><td>San Marino</td><td>mens-fashion</td><td>4</td></tr><tr><td>Saudi Arabia</td><td>christmas</td><td>4</td></tr><tr><td>Senegal</td><td>tattoos</td><td>4</td></tr><tr><td>Seychelles</td><td>beauty</td><td>4</td></tr><tr><td>Singapore</td><td>vehicles</td><td>4</td></tr><tr><td>Solomon Islands</td><td>art</td><td>4</td></tr><tr><td>Somalia</td><td>travel</td><td>4</td></tr><tr><td>Sudan</td><td>mens-fashion</td><td>1</td></tr><tr><td>Svalbard & Jan Mayen Islands</td><td>beauty</td><td>4</td></tr><tr><td>Sweden</td><td>finance</td><td>4</td></tr><tr><td>Taiwan</td><td>event-planning</td><td>4</td></tr><tr><td>Thailand</td><td>home-decor</td><td>4</td></tr><tr><td>Tokelau</td><td>tattoos</td><td>4</td></tr><tr><td>Tonga</td><td>beauty</td><td>1</td></tr><tr><td>Tunisia</td><td>travel</td><td>4</td></tr><tr><td>Turkey</td><td>education</td><td>1</td></tr><tr><td>Turkmenistan</td><td>event-planning</td><td>4</td></tr><tr><td>Turks and Caicos Islands</td><td>event-planning</td><td>4</td></tr><tr><td>Tuvalu</td><td>tattoos</td><td>4</td></tr><tr><td>Uganda</td><td>beauty</td><td>4</td></tr><tr><td>United Kingdom</td><td>tattoos</td><td>8</td></tr><tr><td>United States Minor Outlying Islands</td><td>christmas</td><td>4</td></tr><tr><td>United States Virgin Islands</td><td>quotes</td><td>8</td></tr><tr><td>United States of America</td><td>tattoos</td><td>4</td></tr><tr><td>Venezuela</td><td>finance</td><td>4</td></tr><tr><td>Vietnam</td><td>home-decor</td><td>4</td></tr><tr><td>Wallis and Futuna</td><td>home-decor</td><td>4</td></tr></tbody></table></div>"
      ]
     },
     "metadata": {
      "application/vnd.databricks.v1+output": {
       "addedWidgets": {},
       "aggData": [],
       "aggError": "",
       "aggOverflow": false,
       "aggSchema": [],
       "aggSeriesLimitReached": false,
       "aggType": "",
       "arguments": {},
       "columnCustomDisplayInfos": {},
       "data": [
        [
         "Afghanistan",
         "education",
         29
        ],
        [
         "Albania",
         "christmas",
         17
        ],
        [
         "Algeria",
         "quotes",
         49
        ],
        [
         "American Samoa",
         "tattoos",
         20
        ],
        [
         "Andorra",
         "tattoos",
         20
        ],
        [
         "Angola",
         "diy-and-crafts",
         9
        ],
        [
         "Anguilla",
         "home-decor",
         13
        ],
        [
         "Antarctica (the territory South of 60 deg S)",
         "christmas",
         13
        ],
        [
         "Antigua and Barbuda",
         "christmas",
         16
        ],
        [
         "Argentina",
         "tattoos",
         29
        ],
        [
         "Armenia",
         "diy-and-crafts",
         13
        ],
        [
         "Aruba",
         "art",
         16
        ],
        [
         "Australia",
         "education",
         9
        ],
        [
         "Austria",
         "tattoos",
         8
        ],
        [
         "Azerbaijan",
         "finance",
         8
        ],
        [
         "Bahamas",
         "event-planning",
         8
        ],
        [
         "Bahrain",
         "diy-and-crafts",
         8
        ],
        [
         "Bangladesh",
         "christmas",
         12
        ],
        [
         "Barbados",
         "art",
         5
        ],
        [
         "Belarus",
         "travel",
         24
        ],
        [
         "Belgium",
         "travel",
         4
        ],
        [
         "Belize",
         "art",
         4
        ],
        [
         "Benin",
         "travel",
         20
        ],
        [
         "Bermuda",
         "finance",
         4
        ],
        [
         "Bhutan",
         "event-planning",
         8
        ],
        [
         "Bolivia",
         "home-decor",
         8
        ],
        [
         "Bosnia and Herzegovina",
         "diy-and-crafts",
         4
        ],
        [
         "Botswana",
         "tattoos",
         13
        ],
        [
         "Bouvet Island (Bouvetoya)",
         "tattoos",
         12
        ],
        [
         "Brazil",
         "finance",
         4
        ],
        [
         "British Indian Ocean Territory (Chagos Archipelago)",
         "finance",
         4
        ],
        [
         "British Virgin Islands",
         "quotes",
         8
        ],
        [
         "Brunei Darussalam",
         "home-decor",
         4
        ],
        [
         "Bulgaria",
         "finance",
         9
        ],
        [
         "Burkina Faso",
         "quotes",
         4
        ],
        [
         "Burundi",
         "art",
         4
        ],
        [
         "Cambodia",
         "beauty",
         4
        ],
        [
         "Cameroon",
         "beauty",
         4
        ],
        [
         "Canada",
         "mens-fashion",
         4
        ],
        [
         "Cape Verde",
         "home-decor",
         9
        ],
        [
         "Cayman Islands",
         "travel",
         4
        ],
        [
         "Central African Republic",
         "christmas",
         9
        ],
        [
         "Chad",
         "art",
         4
        ],
        [
         "Chile",
         "quotes",
         4
        ],
        [
         "China",
         "art",
         4
        ],
        [
         "Christmas Island",
         "christmas",
         9
        ],
        [
         "Cocos (Keeling) Islands",
         "travel",
         4
        ],
        [
         "Colombia",
         "home-decor",
         4
        ],
        [
         "Comoros",
         "finance",
         4
        ],
        [
         "Congo",
         "education",
         4
        ],
        [
         "Cook Islands",
         "finance",
         4
        ],
        [
         "Costa Rica",
         "quotes",
         4
        ],
        [
         "Cote d'Ivoire",
         "diy-and-crafts",
         9
        ],
        [
         "Cuba",
         "home-decor",
         4
        ],
        [
         "Czech Republic",
         "finance",
         4
        ],
        [
         "Denmark",
         "mens-fashion",
         4
        ],
        [
         "Djibouti",
         "christmas",
         4
        ],
        [
         "Dominica",
         "diy-and-crafts",
         4
        ],
        [
         "Dominican Republic",
         "travel",
         9
        ],
        [
         "Ecuador",
         "mens-fashion",
         4
        ],
        [
         "Egypt",
         "finance",
         16
        ],
        [
         "El Salvador",
         "quotes",
         4
        ],
        [
         "Equatorial Guinea",
         "mens-fashion",
         4
        ],
        [
         "Ethiopia",
         "diy-and-crafts",
         4
        ],
        [
         "Falkland Islands (Malvinas)",
         "education",
         4
        ],
        [
         "Faroe Islands",
         "event-planning",
         8
        ],
        [
         "Fiji",
         "education",
         8
        ],
        [
         "Finland",
         "beauty",
         4
        ],
        [
         "France",
         "beauty",
         4
        ],
        [
         "French Guiana",
         "quotes",
         16
        ],
        [
         "French Polynesia",
         "diy-and-crafts",
         4
        ],
        [
         "French Southern Territories",
         "art",
         4
        ],
        [
         "Gambia",
         "home-decor",
         4
        ],
        [
         "Georgia",
         "education",
         4
        ],
        [
         "Germany",
         "event-planning",
         9
        ],
        [
         "Gibraltar",
         "art",
         4
        ],
        [
         "Greece",
         "art",
         4
        ],
        [
         "Greenland",
         "beauty",
         4
        ],
        [
         "Grenada",
         "event-planning",
         4
        ],
        [
         "Guadeloupe",
         "christmas",
         4
        ],
        [
         "Guatemala",
         "finance",
         4
        ],
        [
         "Guernsey",
         "mens-fashion",
         4
        ],
        [
         "Guinea",
         "christmas",
         4
        ],
        [
         "Guinea-Bissau",
         "tattoos",
         9
        ],
        [
         "Guyana",
         "quotes",
         4
        ],
        [
         "Haiti",
         "home-decor",
         4
        ],
        [
         "Heard Island and McDonald Islands",
         "vehicles",
         4
        ],
        [
         "Hong Kong",
         "vehicles",
         4
        ],
        [
         "Hungary",
         "event-planning",
         4
        ],
        [
         "India",
         "travel",
         25
        ],
        [
         "Indonesia",
         "finance",
         16
        ],
        [
         "Iran",
         "tattoos",
         4
        ],
        [
         "Iraq",
         "mens-fashion",
         4
        ],
        [
         "Isle of Man",
         "art",
         13
        ],
        [
         "Israel",
         "quotes",
         4
        ],
        [
         "Jamaica",
         "vehicles",
         1
        ],
        [
         "Japan",
         "art",
         4
        ],
        [
         "Jordan",
         "mens-fashion",
         4
        ],
        [
         "Kenya",
         "diy-and-crafts",
         4
        ],
        [
         "Kiribati",
         "vehicles",
         4
        ],
        [
         "Korea",
         "home-decor",
         4
        ],
        [
         "Kuwait",
         "event-planning",
         4
        ],
        [
         "Kyrgyz Republic",
         "vehicles",
         8
        ],
        [
         "Latvia",
         "travel",
         8
        ],
        [
         "Lebanon",
         "quotes",
         4
        ],
        [
         "Lesotho",
         "art",
         12
        ],
        [
         "Liechtenstein",
         "mens-fashion",
         4
        ],
        [
         "Lithuania",
         "diy-and-crafts",
         4
        ],
        [
         "Macao",
         "mens-fashion",
         4
        ],
        [
         "Madagascar",
         "quotes",
         4
        ],
        [
         "Malawi",
         "travel",
         4
        ],
        [
         "Maldives",
         "beauty",
         9
        ],
        [
         "Mali",
         "christmas",
         4
        ],
        [
         "Malta",
         "home-decor",
         4
        ],
        [
         "Marshall Islands",
         "travel",
         16
        ],
        [
         "Mauritania",
         "education",
         1
        ],
        [
         "Mayotte",
         "beauty",
         4
        ],
        [
         "Mexico",
         "vehicles",
         4
        ],
        [
         "Moldova",
         "home-decor",
         8
        ],
        [
         "Monaco",
         "vehicles",
         4
        ],
        [
         "Montserrat",
         "art",
         9
        ],
        [
         "Morocco",
         "quotes",
         4
        ],
        [
         "Mozambique",
         "home-decor",
         9
        ],
        [
         "Namibia",
         "quotes",
         4
        ],
        [
         "Nauru",
         "beauty",
         4
        ],
        [
         "Netherlands",
         "home-decor",
         4
        ],
        [
         "Netherlands Antilles",
         "art",
         13
        ],
        [
         "New Caledonia",
         "mens-fashion",
         13
        ],
        [
         "Nicaragua",
         "mens-fashion",
         4
        ],
        [
         "Niger",
         "art",
         4
        ],
        [
         "Nigeria",
         "christmas",
         4
        ],
        [
         "Norfolk Island",
         "event-planning",
         4
        ],
        [
         "Norway",
         "travel",
         4
        ],
        [
         "Oman",
         "diy-and-crafts",
         4
        ],
        [
         "Panama",
         "travel",
         4
        ],
        [
         "Papua New Guinea",
         "quotes",
         9
        ],
        [
         "Peru",
         "vehicles",
         4
        ],
        [
         "Philippines",
         "event-planning",
         1
        ],
        [
         "Pitcairn Islands",
         "diy-and-crafts",
         4
        ],
        [
         "Portugal",
         "diy-and-crafts",
         4
        ],
        [
         "Puerto Rico",
         "event-planning",
         4
        ],
        [
         "Qatar",
         "travel",
         4
        ],
        [
         "Romania",
         "tattoos",
         4
        ],
        [
         "Russian Federation",
         "christmas",
         4
        ],
        [
         "Saint Barthelemy",
         "mens-fashion",
         4
        ],
        [
         "Saint Kitts and Nevis",
         "vehicles",
         9
        ],
        [
         "Saint Martin",
         "home-decor",
         9
        ],
        [
         "Saint Pierre and Miquelon",
         "quotes",
         4
        ],
        [
         "Saint Vincent and the Grenadines",
         "christmas",
         4
        ],
        [
         "San Marino",
         "mens-fashion",
         4
        ],
        [
         "Saudi Arabia",
         "christmas",
         4
        ],
        [
         "Senegal",
         "tattoos",
         4
        ],
        [
         "Seychelles",
         "beauty",
         4
        ],
        [
         "Singapore",
         "vehicles",
         4
        ],
        [
         "Solomon Islands",
         "art",
         4
        ],
        [
         "Somalia",
         "travel",
         4
        ],
        [
         "Sudan",
         "mens-fashion",
         1
        ],
        [
         "Svalbard & Jan Mayen Islands",
         "beauty",
         4
        ],
        [
         "Sweden",
         "finance",
         4
        ],
        [
         "Taiwan",
         "event-planning",
         4
        ],
        [
         "Thailand",
         "home-decor",
         4
        ],
        [
         "Tokelau",
         "tattoos",
         4
        ],
        [
         "Tonga",
         "beauty",
         1
        ],
        [
         "Tunisia",
         "travel",
         4
        ],
        [
         "Turkey",
         "education",
         1
        ],
        [
         "Turkmenistan",
         "event-planning",
         4
        ],
        [
         "Turks and Caicos Islands",
         "event-planning",
         4
        ],
        [
         "Tuvalu",
         "tattoos",
         4
        ],
        [
         "Uganda",
         "beauty",
         4
        ],
        [
         "United Kingdom",
         "tattoos",
         8
        ],
        [
         "United States Minor Outlying Islands",
         "christmas",
         4
        ],
        [
         "United States Virgin Islands",
         "quotes",
         8
        ],
        [
         "United States of America",
         "tattoos",
         4
        ],
        [
         "Venezuela",
         "finance",
         4
        ],
        [
         "Vietnam",
         "home-decor",
         4
        ],
        [
         "Wallis and Futuna",
         "home-decor",
         4
        ]
       ],
       "datasetInfos": [],
       "dbfsResultPath": null,
       "isJsonSchema": true,
       "metadata": {
        "isDbfsCommandResult": false
       },
       "overflow": false,
       "plotOptions": {
        "customPlotOptions": {},
        "displayType": "table",
        "pivotAggregation": null,
        "pivotColumns": null,
        "xColumns": null,
        "yColumns": null
       },
       "removedWidgets": [],
       "schema": [
        {
         "metadata": "{}",
         "name": "country",
         "type": "\"string\""
        },
        {
         "metadata": "{}",
         "name": "category",
         "type": "\"string\""
        },
        {
         "metadata": "{}",
         "name": "category_count",
         "type": "\"long\""
        }
       ],
       "type": "table"
      }
     },
     "output_type": "display_data"
    }
   ],
   "source": [
    "SELECT \n",
    "    country,\n",
    "    category,\n",
    "    category_count\n",
    "FROM (\n",
    "    SELECT \n",
    "        country,\n",
    "        category,\n",
    "        category_count,\n",
    "        ROW_NUMBER() OVER (PARTITION BY country ORDER BY category_count DESC) AS rank\n",
    "    FROM \n",
    "        category_count\n",
    ") AS ranked_categories\n",
    "WHERE \n",
    "    rank = 1\n",
    "ORDER BY \n",
    "    country;"
   ]
  }
 ],
 "metadata": {
  "application/vnd.databricks.v1+notebook": {
   "computePreferences": null,
   "dashboards": [],
   "environmentMetadata": {
    "base_environment": "",
    "client": "2"
   },
   "language": "sql",
   "notebookMetadata": {},
   "notebookName": "category_count",
   "widgets": {}
  },
  "language_info": {
   "name": "sql"
  }
 },
 "nbformat": 4,
 "nbformat_minor": 0
}