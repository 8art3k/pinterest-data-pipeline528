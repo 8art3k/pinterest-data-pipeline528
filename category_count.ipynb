{
 "cells": [
  {
   "cell_type": "code",
   "execution_count": 0,
   "metadata": {
    "application/vnd.databricks.v1+cell": {
     "cellMetadata": {
      "byteLimit": 2048000,
      "rowLimit": 10000
     },
     "inputWidgets": {},
     "nuid": "2bc524b7-a3f6-4c76-a4f3-f3a5a54b7174",
     "showTitle": false,
     "tableResultSettingsMap": {},
     "title": ""
    }
   },
   "outputs": [
    {
     "output_type": "display_data",
     "data": {
      "text/html": [
       "<style scoped>\n",
       "  .table-result-container {\n",
       "    max-height: 300px;\n",
       "    overflow: auto;\n",
       "  }\n",
       "  table, th, td {\n",
       "    border: 1px solid black;\n",
       "    border-collapse: collapse;\n",
       "  }\n",
       "  th, td {\n",
       "    padding: 5px;\n",
       "  }\n",
       "  th {\n",
       "    text-align: left;\n",
       "  }\n",
       "</style><div class='table-result-container'><table class='table-result'><thead style='background-color: white'><tr></tr></thead><tbody></tbody></table></div>"
      ]
     },
     "metadata": {
      "application/vnd.databricks.v1+output": {
       "addedWidgets": {},
       "aggData": [],
       "aggError": "",
       "aggOverflow": false,
       "aggSchema": [],
       "aggSeriesLimitReached": false,
       "aggType": "",
       "arguments": {},
       "columnCustomDisplayInfos": {},
       "data": [],
       "datasetInfos": [],
       "dbfsResultPath": null,
       "isJsonSchema": true,
       "metadata": {
        "isDbfsCommandResult": false
       },
       "overflow": false,
       "plotOptions": {
        "customPlotOptions": {},
        "displayType": "table",
        "pivotAggregation": null,
        "pivotColumns": null,
        "xColumns": null,
        "yColumns": null
       },
       "removedWidgets": [],
       "schema": [],
       "type": "table"
      }
     },
     "output_type": "display_data"
    }
   ],
   "source": [
    "use pinterest_data"
   ]
  },
  {
   "cell_type": "code",
   "execution_count": 0,
   "metadata": {
    "application/vnd.databricks.v1+cell": {
     "cellMetadata": {
      "byteLimit": 2048000,
      "rowLimit": 10000
     },
     "inputWidgets": {},
     "nuid": "55978a31-79dc-4444-aeeb-215cae74b90d",
     "showTitle": false,
     "tableResultSettingsMap": {},
     "title": ""
    }
   },
   "outputs": [
    {
     "output_type": "display_data",
     "data": {
      "text/html": [
       "<style scoped>\n",
       "  .table-result-container {\n",
       "    max-height: 300px;\n",
       "    overflow: auto;\n",
       "  }\n",
       "  table, th, td {\n",
       "    border: 1px solid black;\n",
       "    border-collapse: collapse;\n",
       "  }\n",
       "  th, td {\n",
       "    padding: 5px;\n",
       "  }\n",
       "  th {\n",
       "    text-align: left;\n",
       "  }\n",
       "</style><div class='table-result-container'><table class='table-result'><thead style='background-color: white'><tr></tr></thead><tbody></tbody></table></div>"
      ]
     },
     "metadata": {
      "application/vnd.databricks.v1+output": {
       "addedWidgets": {},
       "aggData": [],
       "aggError": "",
       "aggOverflow": false,
       "aggSchema": [],
       "aggSeriesLimitReached": false,
       "aggType": "",
       "arguments": {},
       "columnCustomDisplayInfos": {},
       "data": [],
       "datasetInfos": [],
       "dbfsResultPath": null,
       "isJsonSchema": true,
       "metadata": {
        "isDbfsCommandResult": false
       },
       "overflow": false,
       "plotOptions": {
        "customPlotOptions": {},
        "displayType": "table",
        "pivotAggregation": null,
        "pivotColumns": null,
        "xColumns": null,
        "yColumns": null
       },
       "removedWidgets": [],
       "schema": [],
       "type": "table"
      }
     },
     "output_type": "display_data"
    }
   ],
   "source": [
    "CREATE OR REPLACE TEMP VIEW category_count AS\n",
    "SELECT \n",
    "    df_geo.country,\n",
    "    df_pin.category,\n",
    "    COUNT(*) AS category_count\n",
    "FROM \n",
    "    df_geo\n",
    "JOIN \n",
    "    df_pin \n",
    "    ON df_geo.ind = df_pin.ind\n",
    "GROUP BY \n",
    "    df_geo.country, df_pin.category\n",
    "ORDER BY \n",
    "    df_geo.country, category_count DESC;\n"
   ]
  },
  {
   "cell_type": "code",
   "execution_count": 0,
   "metadata": {
    "application/vnd.databricks.v1+cell": {
     "cellMetadata": {
      "byteLimit": 2048000,
      "rowLimit": 10000
     },
     "inputWidgets": {},
     "nuid": "52470bca-d54e-4310-860c-35fc2a1738f3",
     "showTitle": false,
     "tableResultSettingsMap": {},
     "title": ""
    }
   },
   "outputs": [
    {
     "output_type": "display_data",
     "data": {
      "text/html": [
       "<style scoped>\n",
       "  .table-result-container {\n",
       "    max-height: 300px;\n",
       "    overflow: auto;\n",
       "  }\n",
       "  table, th, td {\n",
       "    border: 1px solid black;\n",
       "    border-collapse: collapse;\n",
       "  }\n",
       "  th, td {\n",
       "    padding: 5px;\n",
       "  }\n",
       "  th {\n",
       "    text-align: left;\n",
       "  }\n",
       "</style><div class='table-result-container'><table class='table-result'><thead style='background-color: white'><tr><th>country</th><th>category</th><th>category_count</th></tr></thead><tbody><tr><td>Afghanistan</td><td>education</td><td>29</td></tr><tr><td>Afghanistan</td><td>quotes</td><td>16</td></tr><tr><td>Afghanistan</td><td>diy-and-crafts</td><td>12</td></tr><tr><td>Afghanistan</td><td>finance</td><td>8</td></tr><tr><td>Afghanistan</td><td>mens-fashion</td><td>4</td></tr><tr><td>Afghanistan</td><td>beauty</td><td>4</td></tr><tr><td>Afghanistan</td><td>vehicles</td><td>4</td></tr><tr><td>Afghanistan</td><td>home-decor</td><td>4</td></tr><tr><td>Afghanistan</td><td>art</td><td>1</td></tr><tr><td>Albania</td><td>christmas</td><td>17</td></tr><tr><td>Albania</td><td>diy-and-crafts</td><td>16</td></tr><tr><td>Albania</td><td>art</td><td>13</td></tr><tr><td>Albania</td><td>home-decor</td><td>9</td></tr><tr><td>Albania</td><td>education</td><td>8</td></tr><tr><td>Albania</td><td>quotes</td><td>8</td></tr><tr><td>Albania</td><td>travel</td><td>4</td></tr><tr><td>Albania</td><td>tattoos</td><td>4</td></tr><tr><td>Albania</td><td>vehicles</td><td>4</td></tr><tr><td>Albania</td><td>beauty</td><td>4</td></tr><tr><td>Algeria</td><td>quotes</td><td>49</td></tr><tr><td>Algeria</td><td>travel</td><td>13</td></tr><tr><td>Algeria</td><td>christmas</td><td>8</td></tr><tr><td>Algeria</td><td>mens-fashion</td><td>8</td></tr><tr><td>Algeria</td><td>diy-and-crafts</td><td>4</td></tr><tr><td>Algeria</td><td>tattoos</td><td>4</td></tr><tr><td>Algeria</td><td>home-decor</td><td>4</td></tr><tr><td>Algeria</td><td>art</td><td>4</td></tr><tr><td>Algeria</td><td>beauty</td><td>1</td></tr><tr><td>American Samoa</td><td>tattoos</td><td>20</td></tr><tr><td>American Samoa</td><td>art</td><td>20</td></tr><tr><td>American Samoa</td><td>travel</td><td>13</td></tr><tr><td>American Samoa</td><td>beauty</td><td>12</td></tr><tr><td>American Samoa</td><td>diy-and-crafts</td><td>4</td></tr><tr><td>American Samoa</td><td>education</td><td>4</td></tr><tr><td>American Samoa</td><td>home-decor</td><td>4</td></tr><tr><td>Andorra</td><td>tattoos</td><td>20</td></tr><tr><td>Andorra</td><td>quotes</td><td>8</td></tr><tr><td>Andorra</td><td>vehicles</td><td>4</td></tr><tr><td>Andorra</td><td>diy-and-crafts</td><td>4</td></tr><tr><td>Andorra</td><td>event-planning</td><td>4</td></tr><tr><td>Andorra</td><td>education</td><td>4</td></tr><tr><td>Andorra</td><td>beauty</td><td>4</td></tr><tr><td>Andorra</td><td>christmas</td><td>4</td></tr><tr><td>Andorra</td><td>art</td><td>1</td></tr><tr><td>Angola</td><td>diy-and-crafts</td><td>9</td></tr><tr><td>Angola</td><td>art</td><td>4</td></tr><tr><td>Angola</td><td>travel</td><td>4</td></tr><tr><td>Angola</td><td>event-planning</td><td>4</td></tr><tr><td>Angola</td><td>education</td><td>4</td></tr><tr><td>Anguilla</td><td>home-decor</td><td>13</td></tr><tr><td>Anguilla</td><td>beauty</td><td>9</td></tr><tr><td>Anguilla</td><td>tattoos</td><td>4</td></tr><tr><td>Anguilla</td><td>diy-and-crafts</td><td>4</td></tr><tr><td>Anguilla</td><td>christmas</td><td>4</td></tr><tr><td>Antarctica (the territory South of 60 deg S)</td><td>christmas</td><td>13</td></tr><tr><td>Antarctica (the territory South of 60 deg S)</td><td>beauty</td><td>4</td></tr><tr><td>Antarctica (the territory South of 60 deg S)</td><td>travel</td><td>4</td></tr><tr><td>Antarctica (the territory South of 60 deg S)</td><td>mens-fashion</td><td>4</td></tr><tr><td>Antarctica (the territory South of 60 deg S)</td><td>tattoos</td><td>4</td></tr><tr><td>Antigua and Barbuda</td><td>christmas</td><td>16</td></tr><tr><td>Antigua and Barbuda</td><td>quotes</td><td>13</td></tr><tr><td>Antigua and Barbuda</td><td>finance</td><td>8</td></tr><tr><td>Antigua and Barbuda</td><td>travel</td><td>4</td></tr><tr><td>Antigua and Barbuda</td><td>tattoos</td><td>1</td></tr><tr><td>Argentina</td><td>tattoos</td><td>29</td></tr><tr><td>Argentina</td><td>quotes</td><td>8</td></tr><tr><td>Argentina</td><td>home-decor</td><td>4</td></tr><tr><td>Argentina</td><td>diy-and-crafts</td><td>4</td></tr><tr><td>Argentina</td><td>finance</td><td>4</td></tr><tr><td>Argentina</td><td>christmas</td><td>4</td></tr><tr><td>Argentina</td><td>beauty</td><td>1</td></tr><tr><td>Armenia</td><td>diy-and-crafts</td><td>13</td></tr><tr><td>Armenia</td><td>travel</td><td>8</td></tr><tr><td>Armenia</td><td>beauty</td><td>5</td></tr><tr><td>Armenia</td><td>art</td><td>5</td></tr><tr><td>Armenia</td><td>vehicles</td><td>4</td></tr><tr><td>Armenia</td><td>tattoos</td><td>4</td></tr><tr><td>Armenia</td><td>home-decor</td><td>4</td></tr><tr><td>Armenia</td><td>christmas</td><td>1</td></tr><tr><td>Aruba</td><td>art</td><td>16</td></tr><tr><td>Aruba</td><td>education</td><td>13</td></tr><tr><td>Aruba</td><td>vehicles</td><td>12</td></tr><tr><td>Aruba</td><td>mens-fashion</td><td>9</td></tr><tr><td>Aruba</td><td>tattoos</td><td>9</td></tr><tr><td>Aruba</td><td>event-planning</td><td>9</td></tr><tr><td>Aruba</td><td>christmas</td><td>8</td></tr><tr><td>Aruba</td><td>finance</td><td>8</td></tr><tr><td>Australia</td><td>education</td><td>9</td></tr><tr><td>Australia</td><td>christmas</td><td>8</td></tr><tr><td>Australia</td><td>mens-fashion</td><td>2</td></tr><tr><td>Australia</td><td>travel</td><td>1</td></tr><tr><td>Austria</td><td>tattoos</td><td>8</td></tr><tr><td>Austria</td><td>travel</td><td>6</td></tr><tr><td>Austria</td><td>finance</td><td>4</td></tr><tr><td>Austria</td><td>event-planning</td><td>4</td></tr><tr><td>Austria</td><td>home-decor</td><td>4</td></tr><tr><td>Azerbaijan</td><td>finance</td><td>8</td></tr><tr><td>Azerbaijan</td><td>home-decor</td><td>8</td></tr><tr><td>Azerbaijan</td><td>travel</td><td>4</td></tr><tr><td>Azerbaijan</td><td>tattoos</td><td>4</td></tr><tr><td>Azerbaijan</td><td>beauty</td><td>4</td></tr><tr><td>Azerbaijan</td><td>diy-and-crafts</td><td>4</td></tr><tr><td>Azerbaijan</td><td>event-planning</td><td>1</td></tr><tr><td>Bahamas</td><td>event-planning</td><td>8</td></tr><tr><td>Bahamas</td><td>vehicles</td><td>4</td></tr><tr><td>Bahamas</td><td>mens-fashion</td><td>4</td></tr><tr><td>Bahamas</td><td>christmas</td><td>4</td></tr><tr><td>Bahamas</td><td>diy-and-crafts</td><td>4</td></tr><tr><td>Bahrain</td><td>diy-and-crafts</td><td>8</td></tr><tr><td>Bahrain</td><td>travel</td><td>4</td></tr><tr><td>Bahrain</td><td>event-planning</td><td>4</td></tr><tr><td>Bahrain</td><td>home-decor</td><td>4</td></tr><tr><td>Bahrain</td><td>christmas</td><td>4</td></tr><tr><td>Bahrain</td><td>finance</td><td>1</td></tr><tr><td>Bangladesh</td><td>christmas</td><td>12</td></tr><tr><td>Bangladesh</td><td>home-decor</td><td>8</td></tr><tr><td>Bangladesh</td><td>finance</td><td>4</td></tr><tr><td>Bangladesh</td><td>vehicles</td><td>4</td></tr><tr><td>Bangladesh</td><td>art</td><td>1</td></tr><tr><td>Barbados</td><td>art</td><td>5</td></tr><tr><td>Barbados</td><td>home-decor</td><td>4</td></tr><tr><td>Barbados</td><td>education</td><td>4</td></tr><tr><td>Barbados</td><td>travel</td><td>1</td></tr><tr><td>Belarus</td><td>travel</td><td>24</td></tr><tr><td>Belarus</td><td>christmas</td><td>4</td></tr><tr><td>Belgium</td><td>travel</td><td>4</td></tr><tr><td>Belgium</td><td>diy-and-crafts</td><td>4</td></tr><tr><td>Belgium</td><td>christmas</td><td>4</td></tr><tr><td>Belize</td><td>art</td><td>4</td></tr><tr><td>Belize</td><td>diy-and-crafts</td><td>4</td></tr><tr><td>Belize</td><td>travel</td><td>4</td></tr><tr><td>Belize</td><td>mens-fashion</td><td>4</td></tr><tr><td>Benin</td><td>travel</td><td>20</td></tr><tr><td>Benin</td><td>quotes</td><td>4</td></tr><tr><td>Benin</td><td>tattoos</td><td>4</td></tr><tr><td>Benin</td><td>education</td><td>4</td></tr><tr><td>Bermuda</td><td>finance</td><td>4</td></tr><tr><td>Bermuda</td><td>beauty</td><td>4</td></tr><tr><td>Bermuda</td><td>event-planning</td><td>4</td></tr><tr><td>Bermuda</td><td>mens-fashion</td><td>4</td></tr><tr><td>Bermuda</td><td>travel</td><td>4</td></tr><tr><td>Bermuda</td><td>christmas</td><td>1</td></tr><tr><td>Bhutan</td><td>event-planning</td><td>8</td></tr><tr><td>Bhutan</td><td>travel</td><td>4</td></tr><tr><td>Bhutan</td><td>mens-fashion</td><td>4</td></tr><tr><td>Bhutan</td><td>diy-and-crafts</td><td>1</td></tr><tr><td>Bolivia</td><td>home-decor</td><td>8</td></tr><tr><td>Bolivia</td><td>diy-and-crafts</td><td>4</td></tr><tr><td>Bolivia</td><td>beauty</td><td>4</td></tr><tr><td>Bosnia and Herzegovina</td><td>diy-and-crafts</td><td>4</td></tr><tr><td>Bosnia and Herzegovina</td><td>tattoos</td><td>4</td></tr><tr><td>Botswana</td><td>tattoos</td><td>13</td></tr><tr><td>Botswana</td><td>finance</td><td>4</td></tr><tr><td>Bouvet Island (Bouvetoya)</td><td>tattoos</td><td>12</td></tr><tr><td>Bouvet Island (Bouvetoya)</td><td>travel</td><td>8</td></tr><tr><td>Brazil</td><td>finance</td><td>4</td></tr><tr><td>Brazil</td><td>christmas</td><td>4</td></tr><tr><td>British Indian Ocean Territory (Chagos Archipelago)</td><td>finance</td><td>4</td></tr><tr><td>British Virgin Islands</td><td>quotes</td><td>8</td></tr><tr><td>British Virgin Islands</td><td>vehicles</td><td>4</td></tr><tr><td>British Virgin Islands</td><td>finance</td><td>4</td></tr><tr><td>British Virgin Islands</td><td>travel</td><td>4</td></tr><tr><td>British Virgin Islands</td><td>christmas</td><td>1</td></tr><tr><td>Brunei Darussalam</td><td>home-decor</td><td>4</td></tr><tr><td>Brunei Darussalam</td><td>education</td><td>4</td></tr><tr><td>Bulgaria</td><td>finance</td><td>9</td></tr><tr><td>Bulgaria</td><td>vehicles</td><td>8</td></tr><tr><td>Bulgaria</td><td>quotes</td><td>4</td></tr><tr><td>Bulgaria</td><td>education</td><td>4</td></tr><tr><td>Bulgaria</td><td>christmas</td><td>4</td></tr><tr><td>Bulgaria</td><td>art</td><td>4</td></tr><tr><td>Burkina Faso</td><td>quotes</td><td>4</td></tr><tr><td>Burkina Faso</td><td>home-decor</td><td>4</td></tr><tr><td>Burkina Faso</td><td>beauty</td><td>4</td></tr><tr><td>Burundi</td><td>art</td><td>4</td></tr><tr><td>Cambodia</td><td>beauty</td><td>4</td></tr><tr><td>Cambodia</td><td>event-planning</td><td>4</td></tr><tr><td>Cambodia</td><td>diy-and-crafts</td><td>1</td></tr><tr><td>Cameroon</td><td>beauty</td><td>4</td></tr><tr><td>Cameroon</td><td>vehicles</td><td>4</td></tr><tr><td>Cameroon</td><td>christmas</td><td>4</td></tr><tr><td>Canada</td><td>mens-fashion</td><td>4</td></tr><tr><td>Canada</td><td>travel</td><td>4</td></tr><tr><td>Canada</td><td>education</td><td>4</td></tr><tr><td>Cape Verde</td><td>home-decor</td><td>9</td></tr><tr><td>Cape Verde</td><td>beauty</td><td>4</td></tr><tr><td>Cape Verde</td><td>diy-and-crafts</td><td>4</td></tr><tr><td>Cayman Islands</td><td>travel</td><td>4</td></tr><tr><td>Cayman Islands</td><td>education</td><td>4</td></tr><tr><td>Central African Republic</td><td>christmas</td><td>9</td></tr><tr><td>Central African Republic</td><td>mens-fashion</td><td>8</td></tr><tr><td>Central African Republic</td><td>travel</td><td>4</td></tr><tr><td>Central African Republic</td><td>art</td><td>4</td></tr><tr><td>Chad</td><td>diy-and-crafts</td><td>4</td></tr><tr><td>Chad</td><td>art</td><td>4</td></tr><tr><td>Chile</td><td>quotes</td><td>4</td></tr><tr><td>Chile</td><td>travel</td><td>4</td></tr><tr><td>China</td><td>art</td><td>4</td></tr><tr><td>China</td><td>beauty</td><td>4</td></tr><tr><td>Christmas Island</td><td>christmas</td><td>9</td></tr><tr><td>Christmas Island</td><td>event-planning</td><td>4</td></tr><tr><td>Cocos (Keeling) Islands</td><td>event-planning</td><td>4</td></tr><tr><td>Cocos (Keeling) Islands</td><td>travel</td><td>4</td></tr><tr><td>Cocos (Keeling) Islands</td><td>finance</td><td>4</td></tr><tr><td>Cocos (Keeling) Islands</td><td>vehicles</td><td>1</td></tr><tr><td>Colombia</td><td>home-decor</td><td>4</td></tr><tr><td>Colombia</td><td>finance</td><td>1</td></tr><tr><td>Comoros</td><td>finance</td><td>4</td></tr><tr><td>Comoros</td><td>education</td><td>4</td></tr><tr><td>Comoros</td><td>quotes</td><td>4</td></tr><tr><td>Congo</td><td>education</td><td>4</td></tr><tr><td>Congo</td><td>finance</td><td>4</td></tr><tr><td>Congo</td><td>travel</td><td>4</td></tr><tr><td>Congo</td><td>home-decor</td><td>4</td></tr><tr><td>Congo</td><td>art</td><td>1</td></tr><tr><td>Cook Islands</td><td>finance</td><td>4</td></tr><tr><td>Cook Islands</td><td>travel</td><td>4</td></tr><tr><td>Costa Rica</td><td>quotes</td><td>4</td></tr><tr><td>Costa Rica</td><td>home-decor</td><td>4</td></tr><tr><td>Costa Rica</td><td>tattoos</td><td>4</td></tr><tr><td>Cote d'Ivoire</td><td>diy-and-crafts</td><td>9</td></tr><tr><td>Cote d'Ivoire</td><td>tattoos</td><td>4</td></tr><tr><td>Cote d'Ivoire</td><td>travel</td><td>4</td></tr><tr><td>Cote d'Ivoire</td><td>education</td><td>1</td></tr><tr><td>Cuba</td><td>home-decor</td><td>4</td></tr><tr><td>Cuba</td><td>diy-and-crafts</td><td>4</td></tr><tr><td>Cuba</td><td>event-planning</td><td>4</td></tr><tr><td>Czech Republic</td><td>finance</td><td>4</td></tr><tr><td>Denmark</td><td>mens-fashion</td><td>4</td></tr><tr><td>Denmark</td><td>beauty</td><td>4</td></tr><tr><td>Djibouti</td><td>christmas</td><td>4</td></tr><tr><td>Djibouti</td><td>diy-and-crafts</td><td>4</td></tr><tr><td>Dominica</td><td>diy-and-crafts</td><td>4</td></tr><tr><td>Dominica</td><td>event-planning</td><td>4</td></tr><tr><td>Dominican Republic</td><td>travel</td><td>9</td></tr><tr><td>Dominican Republic</td><td>education</td><td>4</td></tr><tr><td>Ecuador</td><td>mens-fashion</td><td>4</td></tr><tr><td>Egypt</td><td>finance</td><td>16</td></tr><tr><td>Egypt</td><td>diy-and-crafts</td><td>9</td></tr><tr><td>Egypt</td><td>event-planning</td><td>4</td></tr><tr><td>Egypt</td><td>home-decor</td><td>4</td></tr><tr><td>Egypt</td><td>travel</td><td>4</td></tr><tr><td>Egypt</td><td>beauty</td><td>4</td></tr><tr><td>El Salvador</td><td>quotes</td><td>4</td></tr><tr><td>El Salvador</td><td>tattoos</td><td>4</td></tr><tr><td>El Salvador</td><td>event-planning</td><td>4</td></tr><tr><td>Equatorial Guinea</td><td>mens-fashion</td><td>4</td></tr><tr><td>Ethiopia</td><td>diy-and-crafts</td><td>4</td></tr><tr><td>Ethiopia</td><td>travel</td><td>4</td></tr><tr><td>Ethiopia</td><td>tattoos</td><td>4</td></tr><tr><td>Falkland Islands (Malvinas)</td><td>education</td><td>4</td></tr><tr><td>Faroe Islands</td><td>event-planning</td><td>8</td></tr><tr><td>Fiji</td><td>education</td><td>8</td></tr><tr><td>Fiji</td><td>vehicles</td><td>4</td></tr><tr><td>Finland</td><td>home-decor</td><td>4</td></tr><tr><td>Finland</td><td>beauty</td><td>4</td></tr><tr><td>France</td><td>beauty</td><td>4</td></tr><tr><td>French Guiana</td><td>quotes</td><td>16</td></tr><tr><td>French Guiana</td><td>art</td><td>4</td></tr><tr><td>French Polynesia</td><td>diy-and-crafts</td><td>4</td></tr><tr><td>French Southern Territories</td><td>art</td><td>4</td></tr><tr><td>Gambia</td><td>home-decor</td><td>4</td></tr><tr><td>Georgia</td><td>education</td><td>4</td></tr><tr><td>Germany</td><td>event-planning</td><td>9</td></tr><tr><td>Germany</td><td>finance</td><td>4</td></tr><tr><td>Gibraltar</td><td>art</td><td>4</td></tr><tr><td>Gibraltar</td><td>vehicles</td><td>1</td></tr><tr><td>Greece</td><td>art</td><td>4</td></tr><tr><td>Greenland</td><td>beauty</td><td>4</td></tr><tr><td>Grenada</td><td>event-planning</td><td>4</td></tr><tr><td>Guadeloupe</td><td>christmas</td><td>4</td></tr><tr><td>Guadeloupe</td><td>home-decor</td><td>4</td></tr><tr><td>Guatemala</td><td>finance</td><td>4</td></tr><tr><td>Guernsey</td><td>mens-fashion</td><td>4</td></tr><tr><td>Guinea</td><td>christmas</td><td>4</td></tr><tr><td>Guinea-Bissau</td><td>tattoos</td><td>9</td></tr><tr><td>Guinea-Bissau</td><td>travel</td><td>4</td></tr><tr><td>Guinea-Bissau</td><td>christmas</td><td>4</td></tr><tr><td>Guyana</td><td>quotes</td><td>4</td></tr><tr><td>Guyana</td><td>home-decor</td><td>4</td></tr><tr><td>Haiti</td><td>home-decor</td><td>4</td></tr><tr><td>Heard Island and McDonald Islands</td><td>vehicles</td><td>4</td></tr><tr><td>Hong Kong</td><td>vehicles</td><td>4</td></tr><tr><td>Hong Kong</td><td>event-planning</td><td>4</td></tr><tr><td>Hungary</td><td>event-planning</td><td>4</td></tr><tr><td>India</td><td>travel</td><td>25</td></tr><tr><td>India</td><td>beauty</td><td>4</td></tr><tr><td>Indonesia</td><td>finance</td><td>16</td></tr><tr><td>Iran</td><td>tattoos</td><td>4</td></tr><tr><td>Iran</td><td>event-planning</td><td>4</td></tr><tr><td>Iraq</td><td>mens-fashion</td><td>4</td></tr><tr><td>Isle of Man</td><td>art</td><td>13</td></tr><tr><td>Isle of Man</td><td>finance</td><td>9</td></tr><tr><td>Isle of Man</td><td>travel</td><td>4</td></tr><tr><td>Israel</td><td>quotes</td><td>4</td></tr><tr><td>Jamaica</td><td>vehicles</td><td>1</td></tr><tr><td>Japan</td><td>art</td><td>4</td></tr><tr><td>Japan</td><td>travel</td><td>4</td></tr><tr><td>Jordan</td><td>mens-fashion</td><td>4</td></tr><tr><td>Kenya</td><td>diy-and-crafts</td><td>4</td></tr><tr><td>Kenya</td><td>home-decor</td><td>4</td></tr><tr><td>Kiribati</td><td>vehicles</td><td>4</td></tr><tr><td>Kiribati</td><td>education</td><td>4</td></tr><tr><td>Korea</td><td>home-decor</td><td>4</td></tr><tr><td>Korea</td><td>beauty</td><td>4</td></tr><tr><td>Kuwait</td><td>event-planning</td><td>4</td></tr><tr><td>Kuwait</td><td>diy-and-crafts</td><td>4</td></tr><tr><td>Kuwait</td><td>christmas</td><td>4</td></tr><tr><td>Kyrgyz Republic</td><td>vehicles</td><td>8</td></tr><tr><td>Kyrgyz Republic</td><td>education</td><td>4</td></tr><tr><td>Latvia</td><td>travel</td><td>8</td></tr><tr><td>Latvia</td><td>mens-fashion</td><td>4</td></tr><tr><td>Lebanon</td><td>quotes</td><td>4</td></tr><tr><td>Lesotho</td><td>art</td><td>12</td></tr><tr><td>Lesotho</td><td>mens-fashion</td><td>4</td></tr><tr><td>Liechtenstein</td><td>mens-fashion</td><td>4</td></tr><tr><td>Liechtenstein</td><td>quotes</td><td>4</td></tr><tr><td>Lithuania</td><td>diy-and-crafts</td><td>4</td></tr><tr><td>Lithuania</td><td>tattoos</td><td>4</td></tr><tr><td>Macao</td><td>mens-fashion</td><td>4</td></tr><tr><td>Macao</td><td>diy-and-crafts</td><td>4</td></tr><tr><td>Madagascar</td><td>mens-fashion</td><td>4</td></tr><tr><td>Madagascar</td><td>quotes</td><td>4</td></tr><tr><td>Madagascar</td><td>home-decor</td><td>4</td></tr><tr><td>Madagascar</td><td>event-planning</td><td>1</td></tr><tr><td>Malawi</td><td>travel</td><td>4</td></tr><tr><td>Malawi</td><td>mens-fashion</td><td>4</td></tr><tr><td>Maldives</td><td>beauty</td><td>9</td></tr><tr><td>Maldives</td><td>finance</td><td>4</td></tr><tr><td>Maldives</td><td>diy-and-crafts</td><td>4</td></tr><tr><td>Mali</td><td>christmas</td><td>4</td></tr><tr><td>Malta</td><td>home-decor</td><td>4</td></tr><tr><td>Malta</td><td>beauty</td><td>4</td></tr><tr><td>Marshall Islands</td><td>travel</td><td>16</td></tr><tr><td>Marshall Islands</td><td>home-decor</td><td>4</td></tr><tr><td>Mauritania</td><td>education</td><td>1</td></tr><tr><td>Mayotte</td><td>beauty</td><td>4</td></tr><tr><td>Mexico</td><td>vehicles</td><td>4</td></tr><tr><td>Moldova</td><td>home-decor</td><td>8</td></tr><tr><td>Monaco</td><td>vehicles</td><td>4</td></tr><tr><td>Montserrat</td><td>art</td><td>9</td></tr><tr><td>Montserrat</td><td>education</td><td>4</td></tr><tr><td>Montserrat</td><td>mens-fashion</td><td>4</td></tr><tr><td>Morocco</td><td>quotes</td><td>4</td></tr><tr><td>Mozambique</td><td>home-decor</td><td>9</td></tr><tr><td>Mozambique</td><td>art</td><td>4</td></tr><tr><td>Mozambique</td><td>mens-fashion</td><td>4</td></tr><tr><td>Namibia</td><td>quotes</td><td>4</td></tr><tr><td>Namibia</td><td>event-planning</td><td>4</td></tr><tr><td>Nauru</td><td>beauty</td><td>4</td></tr><tr><td>Netherlands</td><td>home-decor</td><td>4</td></tr><tr><td>Netherlands Antilles</td><td>art</td><td>13</td></tr><tr><td>New Caledonia</td><td>mens-fashion</td><td>13</td></tr><tr><td>Nicaragua</td><td>mens-fashion</td><td>4</td></tr><tr><td>Nicaragua</td><td>vehicles</td><td>4</td></tr><tr><td>Niger</td><td>art</td><td>4</td></tr><tr><td>Nigeria</td><td>christmas</td><td>4</td></tr><tr><td>Norfolk Island</td><td>event-planning</td><td>4</td></tr><tr><td>Norway</td><td>travel</td><td>4</td></tr><tr><td>Oman</td><td>diy-and-crafts</td><td>4</td></tr><tr><td>Oman</td><td>beauty</td><td>4</td></tr><tr><td>Oman</td><td>finance</td><td>4</td></tr><tr><td>Panama</td><td>event-planning</td><td>4</td></tr><tr><td>Panama</td><td>travel</td><td>4</td></tr><tr><td>Papua New Guinea</td><td>quotes</td><td>9</td></tr><tr><td>Peru</td><td>vehicles</td><td>4</td></tr><tr><td>Philippines</td><td>event-planning</td><td>1</td></tr><tr><td>Pitcairn Islands</td><td>diy-and-crafts</td><td>4</td></tr><tr><td>Portugal</td><td>diy-and-crafts</td><td>4</td></tr><tr><td>Puerto Rico</td><td>event-planning</td><td>4</td></tr><tr><td>Qatar</td><td>travel</td><td>4</td></tr><tr><td>Romania</td><td>tattoos</td><td>4</td></tr><tr><td>Romania</td><td>art</td><td>4</td></tr><tr><td>Romania</td><td>quotes</td><td>4</td></tr><tr><td>Romania</td><td>vehicles</td><td>4</td></tr><tr><td>Russian Federation</td><td>christmas</td><td>4</td></tr><tr><td>Russian Federation</td><td>event-planning</td><td>4</td></tr><tr><td>Saint Barthelemy</td><td>mens-fashion</td><td>4</td></tr><tr><td>Saint Kitts and Nevis</td><td>vehicles</td><td>9</td></tr><tr><td>Saint Martin</td><td>home-decor</td><td>9</td></tr><tr><td>Saint Martin</td><td>vehicles</td><td>4</td></tr><tr><td>Saint Pierre and Miquelon</td><td>quotes</td><td>4</td></tr><tr><td>Saint Vincent and the Grenadines</td><td>christmas</td><td>4</td></tr><tr><td>San Marino</td><td>mens-fashion</td><td>4</td></tr><tr><td>Saudi Arabia</td><td>christmas</td><td>4</td></tr><tr><td>Senegal</td><td>tattoos</td><td>4</td></tr><tr><td>Senegal</td><td>diy-and-crafts</td><td>4</td></tr><tr><td>Seychelles</td><td>beauty</td><td>4</td></tr><tr><td>Seychelles</td><td>tattoos</td><td>1</td></tr><tr><td>Singapore</td><td>vehicles</td><td>4</td></tr><tr><td>Singapore</td><td>mens-fashion</td><td>4</td></tr><tr><td>Singapore</td><td>travel</td><td>4</td></tr><tr><td>Solomon Islands</td><td>art</td><td>4</td></tr><tr><td>Solomon Islands</td><td>vehicles</td><td>4</td></tr><tr><td>Somalia</td><td>travel</td><td>4</td></tr><tr><td>Sudan</td><td>mens-fashion</td><td>1</td></tr><tr><td>Svalbard & Jan Mayen Islands</td><td>beauty</td><td>4</td></tr><tr><td>Sweden</td><td>finance</td><td>4</td></tr><tr><td>Taiwan</td><td>event-planning</td><td>4</td></tr><tr><td>Thailand</td><td>home-decor</td><td>4</td></tr><tr><td>Tokelau</td><td>tattoos</td><td>4</td></tr><tr><td>Tonga</td><td>beauty</td><td>1</td></tr><tr><td>Tunisia</td><td>travel</td><td>4</td></tr><tr><td>Turkey</td><td>education</td><td>1</td></tr><tr><td>Turkmenistan</td><td>event-planning</td><td>4</td></tr><tr><td>Turkmenistan</td><td>travel</td><td>4</td></tr><tr><td>Turks and Caicos Islands</td><td>event-planning</td><td>4</td></tr><tr><td>Tuvalu</td><td>tattoos</td><td>4</td></tr><tr><td>Uganda</td><td>beauty</td><td>4</td></tr><tr><td>United Kingdom</td><td>tattoos</td><td>8</td></tr><tr><td>United States Minor Outlying Islands</td><td>christmas</td><td>4</td></tr><tr><td>United States Virgin Islands</td><td>quotes</td><td>8</td></tr><tr><td>United States of America</td><td>tattoos</td><td>4</td></tr><tr><td>Venezuela</td><td>finance</td><td>4</td></tr><tr><td>Vietnam</td><td>home-decor</td><td>4</td></tr><tr><td>Wallis and Futuna</td><td>home-decor</td><td>4</td></tr></tbody></table></div>"
      ]
     },
     "metadata": {
      "application/vnd.databricks.v1+output": {
       "addedWidgets": {},
       "aggData": [],
       "aggError": "",
       "aggOverflow": false,
       "aggSchema": [],
       "aggSeriesLimitReached": false,
       "aggType": "",
       "arguments": {},
       "columnCustomDisplayInfos": {},
       "data": [
        [
         "Afghanistan",
         "education",
         29
        ],
        [
         "Afghanistan",
         "quotes",
         16
        ],
        [
         "Afghanistan",
         "diy-and-crafts",
         12
        ],
        [
         "Afghanistan",
         "finance",
         8
        ],
        [
         "Afghanistan",
         "mens-fashion",
         4
        ],
        [
         "Afghanistan",
         "beauty",
         4
        ],
        [
         "Afghanistan",
         "vehicles",
         4
        ],
        [
         "Afghanistan",
         "home-decor",
         4
        ],
        [
         "Afghanistan",
         "art",
         1
        ],
        [
         "Albania",
         "christmas",
         17
        ],
        [
         "Albania",
         "diy-and-crafts",
         16
        ],
        [
         "Albania",
         "art",
         13
        ],
        [
         "Albania",
         "home-decor",
         9
        ],
        [
         "Albania",
         "education",
         8
        ],
        [
         "Albania",
         "quotes",
         8
        ],
        [
         "Albania",
         "travel",
         4
        ],
        [
         "Albania",
         "tattoos",
         4
        ],
        [
         "Albania",
         "vehicles",
         4
        ],
        [
         "Albania",
         "beauty",
         4
        ],
        [
         "Algeria",
         "quotes",
         49
        ],
        [
         "Algeria",
         "travel",
         13
        ],
        [
         "Algeria",
         "christmas",
         8
        ],
        [
         "Algeria",
         "mens-fashion",
         8
        ],
        [
         "Algeria",
         "diy-and-crafts",
         4
        ],
        [
         "Algeria",
         "tattoos",
         4
        ],
        [
         "Algeria",
         "home-decor",
         4
        ],
        [
         "Algeria",
         "art",
         4
        ],
        [
         "Algeria",
         "beauty",
         1
        ],
        [
         "American Samoa",
         "tattoos",
         20
        ],
        [
         "American Samoa",
         "art",
         20
        ],
        [
         "American Samoa",
         "travel",
         13
        ],
        [
         "American Samoa",
         "beauty",
         12
        ],
        [
         "American Samoa",
         "diy-and-crafts",
         4
        ],
        [
         "American Samoa",
         "education",
         4
        ],
        [
         "American Samoa",
         "home-decor",
         4
        ],
        [
         "Andorra",
         "tattoos",
         20
        ],
        [
         "Andorra",
         "quotes",
         8
        ],
        [
         "Andorra",
         "vehicles",
         4
        ],
        [
         "Andorra",
         "diy-and-crafts",
         4
        ],
        [
         "Andorra",
         "event-planning",
         4
        ],
        [
         "Andorra",
         "education",
         4
        ],
        [
         "Andorra",
         "beauty",
         4
        ],
        [
         "Andorra",
         "christmas",
         4
        ],
        [
         "Andorra",
         "art",
         1
        ],
        [
         "Angola",
         "diy-and-crafts",
         9
        ],
        [
         "Angola",
         "art",
         4
        ],
        [
         "Angola",
         "travel",
         4
        ],
        [
         "Angola",
         "event-planning",
         4
        ],
        [
         "Angola",
         "education",
         4
        ],
        [
         "Anguilla",
         "home-decor",
         13
        ],
        [
         "Anguilla",
         "beauty",
         9
        ],
        [
         "Anguilla",
         "tattoos",
         4
        ],
        [
         "Anguilla",
         "diy-and-crafts",
         4
        ],
        [
         "Anguilla",
         "christmas",
         4
        ],
        [
         "Antarctica (the territory South of 60 deg S)",
         "christmas",
         13
        ],
        [
         "Antarctica (the territory South of 60 deg S)",
         "beauty",
         4
        ],
        [
         "Antarctica (the territory South of 60 deg S)",
         "travel",
         4
        ],
        [
         "Antarctica (the territory South of 60 deg S)",
         "mens-fashion",
         4
        ],
        [
         "Antarctica (the territory South of 60 deg S)",
         "tattoos",
         4
        ],
        [
         "Antigua and Barbuda",
         "christmas",
         16
        ],
        [
         "Antigua and Barbuda",
         "quotes",
         13
        ],
        [
         "Antigua and Barbuda",
         "finance",
         8
        ],
        [
         "Antigua and Barbuda",
         "travel",
         4
        ],
        [
         "Antigua and Barbuda",
         "tattoos",
         1
        ],
        [
         "Argentina",
         "tattoos",
         29
        ],
        [
         "Argentina",
         "quotes",
         8
        ],
        [
         "Argentina",
         "home-decor",
         4
        ],
        [
         "Argentina",
         "diy-and-crafts",
         4
        ],
        [
         "Argentina",
         "finance",
         4
        ],
        [
         "Argentina",
         "christmas",
         4
        ],
        [
         "Argentina",
         "beauty",
         1
        ],
        [
         "Armenia",
         "diy-and-crafts",
         13
        ],
        [
         "Armenia",
         "travel",
         8
        ],
        [
         "Armenia",
         "beauty",
         5
        ],
        [
         "Armenia",
         "art",
         5
        ],
        [
         "Armenia",
         "vehicles",
         4
        ],
        [
         "Armenia",
         "tattoos",
         4
        ],
        [
         "Armenia",
         "home-decor",
         4
        ],
        [
         "Armenia",
         "christmas",
         1
        ],
        [
         "Aruba",
         "art",
         16
        ],
        [
         "Aruba",
         "education",
         13
        ],
        [
         "Aruba",
         "vehicles",
         12
        ],
        [
         "Aruba",
         "mens-fashion",
         9
        ],
        [
         "Aruba",
         "tattoos",
         9
        ],
        [
         "Aruba",
         "event-planning",
         9
        ],
        [
         "Aruba",
         "christmas",
         8
        ],
        [
         "Aruba",
         "finance",
         8
        ],
        [
         "Australia",
         "education",
         9
        ],
        [
         "Australia",
         "christmas",
         8
        ],
        [
         "Australia",
         "mens-fashion",
         2
        ],
        [
         "Australia",
         "travel",
         1
        ],
        [
         "Austria",
         "tattoos",
         8
        ],
        [
         "Austria",
         "travel",
         6
        ],
        [
         "Austria",
         "finance",
         4
        ],
        [
         "Austria",
         "event-planning",
         4
        ],
        [
         "Austria",
         "home-decor",
         4
        ],
        [
         "Azerbaijan",
         "finance",
         8
        ],
        [
         "Azerbaijan",
         "home-decor",
         8
        ],
        [
         "Azerbaijan",
         "travel",
         4
        ],
        [
         "Azerbaijan",
         "tattoos",
         4
        ],
        [
         "Azerbaijan",
         "beauty",
         4
        ],
        [
         "Azerbaijan",
         "diy-and-crafts",
         4
        ],
        [
         "Azerbaijan",
         "event-planning",
         1
        ],
        [
         "Bahamas",
         "event-planning",
         8
        ],
        [
         "Bahamas",
         "vehicles",
         4
        ],
        [
         "Bahamas",
         "mens-fashion",
         4
        ],
        [
         "Bahamas",
         "christmas",
         4
        ],
        [
         "Bahamas",
         "diy-and-crafts",
         4
        ],
        [
         "Bahrain",
         "diy-and-crafts",
         8
        ],
        [
         "Bahrain",
         "travel",
         4
        ],
        [
         "Bahrain",
         "event-planning",
         4
        ],
        [
         "Bahrain",
         "home-decor",
         4
        ],
        [
         "Bahrain",
         "christmas",
         4
        ],
        [
         "Bahrain",
         "finance",
         1
        ],
        [
         "Bangladesh",
         "christmas",
         12
        ],
        [
         "Bangladesh",
         "home-decor",
         8
        ],
        [
         "Bangladesh",
         "finance",
         4
        ],
        [
         "Bangladesh",
         "vehicles",
         4
        ],
        [
         "Bangladesh",
         "art",
         1
        ],
        [
         "Barbados",
         "art",
         5
        ],
        [
         "Barbados",
         "home-decor",
         4
        ],
        [
         "Barbados",
         "education",
         4
        ],
        [
         "Barbados",
         "travel",
         1
        ],
        [
         "Belarus",
         "travel",
         24
        ],
        [
         "Belarus",
         "christmas",
         4
        ],
        [
         "Belgium",
         "travel",
         4
        ],
        [
         "Belgium",
         "diy-and-crafts",
         4
        ],
        [
         "Belgium",
         "christmas",
         4
        ],
        [
         "Belize",
         "art",
         4
        ],
        [
         "Belize",
         "diy-and-crafts",
         4
        ],
        [
         "Belize",
         "travel",
         4
        ],
        [
         "Belize",
         "mens-fashion",
         4
        ],
        [
         "Benin",
         "travel",
         20
        ],
        [
         "Benin",
         "quotes",
         4
        ],
        [
         "Benin",
         "tattoos",
         4
        ],
        [
         "Benin",
         "education",
         4
        ],
        [
         "Bermuda",
         "finance",
         4
        ],
        [
         "Bermuda",
         "beauty",
         4
        ],
        [
         "Bermuda",
         "event-planning",
         4
        ],
        [
         "Bermuda",
         "mens-fashion",
         4
        ],
        [
         "Bermuda",
         "travel",
         4
        ],
        [
         "Bermuda",
         "christmas",
         1
        ],
        [
         "Bhutan",
         "event-planning",
         8
        ],
        [
         "Bhutan",
         "travel",
         4
        ],
        [
         "Bhutan",
         "mens-fashion",
         4
        ],
        [
         "Bhutan",
         "diy-and-crafts",
         1
        ],
        [
         "Bolivia",
         "home-decor",
         8
        ],
        [
         "Bolivia",
         "diy-and-crafts",
         4
        ],
        [
         "Bolivia",
         "beauty",
         4
        ],
        [
         "Bosnia and Herzegovina",
         "diy-and-crafts",
         4
        ],
        [
         "Bosnia and Herzegovina",
         "tattoos",
         4
        ],
        [
         "Botswana",
         "tattoos",
         13
        ],
        [
         "Botswana",
         "finance",
         4
        ],
        [
         "Bouvet Island (Bouvetoya)",
         "tattoos",
         12
        ],
        [
         "Bouvet Island (Bouvetoya)",
         "travel",
         8
        ],
        [
         "Brazil",
         "finance",
         4
        ],
        [
         "Brazil",
         "christmas",
         4
        ],
        [
         "British Indian Ocean Territory (Chagos Archipelago)",
         "finance",
         4
        ],
        [
         "British Virgin Islands",
         "quotes",
         8
        ],
        [
         "British Virgin Islands",
         "vehicles",
         4
        ],
        [
         "British Virgin Islands",
         "finance",
         4
        ],
        [
         "British Virgin Islands",
         "travel",
         4
        ],
        [
         "British Virgin Islands",
         "christmas",
         1
        ],
        [
         "Brunei Darussalam",
         "home-decor",
         4
        ],
        [
         "Brunei Darussalam",
         "education",
         4
        ],
        [
         "Bulgaria",
         "finance",
         9
        ],
        [
         "Bulgaria",
         "vehicles",
         8
        ],
        [
         "Bulgaria",
         "quotes",
         4
        ],
        [
         "Bulgaria",
         "education",
         4
        ],
        [
         "Bulgaria",
         "christmas",
         4
        ],
        [
         "Bulgaria",
         "art",
         4
        ],
        [
         "Burkina Faso",
         "quotes",
         4
        ],
        [
         "Burkina Faso",
         "home-decor",
         4
        ],
        [
         "Burkina Faso",
         "beauty",
         4
        ],
        [
         "Burundi",
         "art",
         4
        ],
        [
         "Cambodia",
         "beauty",
         4
        ],
        [
         "Cambodia",
         "event-planning",
         4
        ],
        [
         "Cambodia",
         "diy-and-crafts",
         1
        ],
        [
         "Cameroon",
         "beauty",
         4
        ],
        [
         "Cameroon",
         "vehicles",
         4
        ],
        [
         "Cameroon",
         "christmas",
         4
        ],
        [
         "Canada",
         "mens-fashion",
         4
        ],
        [
         "Canada",
         "travel",
         4
        ],
        [
         "Canada",
         "education",
         4
        ],
        [
         "Cape Verde",
         "home-decor",
         9
        ],
        [
         "Cape Verde",
         "beauty",
         4
        ],
        [
         "Cape Verde",
         "diy-and-crafts",
         4
        ],
        [
         "Cayman Islands",
         "travel",
         4
        ],
        [
         "Cayman Islands",
         "education",
         4
        ],
        [
         "Central African Republic",
         "christmas",
         9
        ],
        [
         "Central African Republic",
         "mens-fashion",
         8
        ],
        [
         "Central African Republic",
         "travel",
         4
        ],
        [
         "Central African Republic",
         "art",
         4
        ],
        [
         "Chad",
         "diy-and-crafts",
         4
        ],
        [
         "Chad",
         "art",
         4
        ],
        [
         "Chile",
         "quotes",
         4
        ],
        [
         "Chile",
         "travel",
         4
        ],
        [
         "China",
         "art",
         4
        ],
        [
         "China",
         "beauty",
         4
        ],
        [
         "Christmas Island",
         "christmas",
         9
        ],
        [
         "Christmas Island",
         "event-planning",
         4
        ],
        [
         "Cocos (Keeling) Islands",
         "event-planning",
         4
        ],
        [
         "Cocos (Keeling) Islands",
         "travel",
         4
        ],
        [
         "Cocos (Keeling) Islands",
         "finance",
         4
        ],
        [
         "Cocos (Keeling) Islands",
         "vehicles",
         1
        ],
        [
         "Colombia",
         "home-decor",
         4
        ],
        [
         "Colombia",
         "finance",
         1
        ],
        [
         "Comoros",
         "finance",
         4
        ],
        [
         "Comoros",
         "education",
         4
        ],
        [
         "Comoros",
         "quotes",
         4
        ],
        [
         "Congo",
         "education",
         4
        ],
        [
         "Congo",
         "finance",
         4
        ],
        [
         "Congo",
         "travel",
         4
        ],
        [
         "Congo",
         "home-decor",
         4
        ],
        [
         "Congo",
         "art",
         1
        ],
        [
         "Cook Islands",
         "finance",
         4
        ],
        [
         "Cook Islands",
         "travel",
         4
        ],
        [
         "Costa Rica",
         "quotes",
         4
        ],
        [
         "Costa Rica",
         "home-decor",
         4
        ],
        [
         "Costa Rica",
         "tattoos",
         4
        ],
        [
         "Cote d'Ivoire",
         "diy-and-crafts",
         9
        ],
        [
         "Cote d'Ivoire",
         "tattoos",
         4
        ],
        [
         "Cote d'Ivoire",
         "travel",
         4
        ],
        [
         "Cote d'Ivoire",
         "education",
         1
        ],
        [
         "Cuba",
         "home-decor",
         4
        ],
        [
         "Cuba",
         "diy-and-crafts",
         4
        ],
        [
         "Cuba",
         "event-planning",
         4
        ],
        [
         "Czech Republic",
         "finance",
         4
        ],
        [
         "Denmark",
         "mens-fashion",
         4
        ],
        [
         "Denmark",
         "beauty",
         4
        ],
        [
         "Djibouti",
         "christmas",
         4
        ],
        [
         "Djibouti",
         "diy-and-crafts",
         4
        ],
        [
         "Dominica",
         "diy-and-crafts",
         4
        ],
        [
         "Dominica",
         "event-planning",
         4
        ],
        [
         "Dominican Republic",
         "travel",
         9
        ],
        [
         "Dominican Republic",
         "education",
         4
        ],
        [
         "Ecuador",
         "mens-fashion",
         4
        ],
        [
         "Egypt",
         "finance",
         16
        ],
        [
         "Egypt",
         "diy-and-crafts",
         9
        ],
        [
         "Egypt",
         "event-planning",
         4
        ],
        [
         "Egypt",
         "home-decor",
         4
        ],
        [
         "Egypt",
         "travel",
         4
        ],
        [
         "Egypt",
         "beauty",
         4
        ],
        [
         "El Salvador",
         "quotes",
         4
        ],
        [
         "El Salvador",
         "tattoos",
         4
        ],
        [
         "El Salvador",
         "event-planning",
         4
        ],
        [
         "Equatorial Guinea",
         "mens-fashion",
         4
        ],
        [
         "Ethiopia",
         "diy-and-crafts",
         4
        ],
        [
         "Ethiopia",
         "travel",
         4
        ],
        [
         "Ethiopia",
         "tattoos",
         4
        ],
        [
         "Falkland Islands (Malvinas)",
         "education",
         4
        ],
        [
         "Faroe Islands",
         "event-planning",
         8
        ],
        [
         "Fiji",
         "education",
         8
        ],
        [
         "Fiji",
         "vehicles",
         4
        ],
        [
         "Finland",
         "home-decor",
         4
        ],
        [
         "Finland",
         "beauty",
         4
        ],
        [
         "France",
         "beauty",
         4
        ],
        [
         "French Guiana",
         "quotes",
         16
        ],
        [
         "French Guiana",
         "art",
         4
        ],
        [
         "French Polynesia",
         "diy-and-crafts",
         4
        ],
        [
         "French Southern Territories",
         "art",
         4
        ],
        [
         "Gambia",
         "home-decor",
         4
        ],
        [
         "Georgia",
         "education",
         4
        ],
        [
         "Germany",
         "event-planning",
         9
        ],
        [
         "Germany",
         "finance",
         4
        ],
        [
         "Gibraltar",
         "art",
         4
        ],
        [
         "Gibraltar",
         "vehicles",
         1
        ],
        [
         "Greece",
         "art",
         4
        ],
        [
         "Greenland",
         "beauty",
         4
        ],
        [
         "Grenada",
         "event-planning",
         4
        ],
        [
         "Guadeloupe",
         "christmas",
         4
        ],
        [
         "Guadeloupe",
         "home-decor",
         4
        ],
        [
         "Guatemala",
         "finance",
         4
        ],
        [
         "Guernsey",
         "mens-fashion",
         4
        ],
        [
         "Guinea",
         "christmas",
         4
        ],
        [
         "Guinea-Bissau",
         "tattoos",
         9
        ],
        [
         "Guinea-Bissau",
         "travel",
         4
        ],
        [
         "Guinea-Bissau",
         "christmas",
         4
        ],
        [
         "Guyana",
         "quotes",
         4
        ],
        [
         "Guyana",
         "home-decor",
         4
        ],
        [
         "Haiti",
         "home-decor",
         4
        ],
        [
         "Heard Island and McDonald Islands",
         "vehicles",
         4
        ],
        [
         "Hong Kong",
         "vehicles",
         4
        ],
        [
         "Hong Kong",
         "event-planning",
         4
        ],
        [
         "Hungary",
         "event-planning",
         4
        ],
        [
         "India",
         "travel",
         25
        ],
        [
         "India",
         "beauty",
         4
        ],
        [
         "Indonesia",
         "finance",
         16
        ],
        [
         "Iran",
         "tattoos",
         4
        ],
        [
         "Iran",
         "event-planning",
         4
        ],
        [
         "Iraq",
         "mens-fashion",
         4
        ],
        [
         "Isle of Man",
         "art",
         13
        ],
        [
         "Isle of Man",
         "finance",
         9
        ],
        [
         "Isle of Man",
         "travel",
         4
        ],
        [
         "Israel",
         "quotes",
         4
        ],
        [
         "Jamaica",
         "vehicles",
         1
        ],
        [
         "Japan",
         "art",
         4
        ],
        [
         "Japan",
         "travel",
         4
        ],
        [
         "Jordan",
         "mens-fashion",
         4
        ],
        [
         "Kenya",
         "diy-and-crafts",
         4
        ],
        [
         "Kenya",
         "home-decor",
         4
        ],
        [
         "Kiribati",
         "vehicles",
         4
        ],
        [
         "Kiribati",
         "education",
         4
        ],
        [
         "Korea",
         "home-decor",
         4
        ],
        [
         "Korea",
         "beauty",
         4
        ],
        [
         "Kuwait",
         "event-planning",
         4
        ],
        [
         "Kuwait",
         "diy-and-crafts",
         4
        ],
        [
         "Kuwait",
         "christmas",
         4
        ],
        [
         "Kyrgyz Republic",
         "vehicles",
         8
        ],
        [
         "Kyrgyz Republic",
         "education",
         4
        ],
        [
         "Latvia",
         "travel",
         8
        ],
        [
         "Latvia",
         "mens-fashion",
         4
        ],
        [
         "Lebanon",
         "quotes",
         4
        ],
        [
         "Lesotho",
         "art",
         12
        ],
        [
         "Lesotho",
         "mens-fashion",
         4
        ],
        [
         "Liechtenstein",
         "mens-fashion",
         4
        ],
        [
         "Liechtenstein",
         "quotes",
         4
        ],
        [
         "Lithuania",
         "diy-and-crafts",
         4
        ],
        [
         "Lithuania",
         "tattoos",
         4
        ],
        [
         "Macao",
         "mens-fashion",
         4
        ],
        [
         "Macao",
         "diy-and-crafts",
         4
        ],
        [
         "Madagascar",
         "mens-fashion",
         4
        ],
        [
         "Madagascar",
         "quotes",
         4
        ],
        [
         "Madagascar",
         "home-decor",
         4
        ],
        [
         "Madagascar",
         "event-planning",
         1
        ],
        [
         "Malawi",
         "travel",
         4
        ],
        [
         "Malawi",
         "mens-fashion",
         4
        ],
        [
         "Maldives",
         "beauty",
         9
        ],
        [
         "Maldives",
         "finance",
         4
        ],
        [
         "Maldives",
         "diy-and-crafts",
         4
        ],
        [
         "Mali",
         "christmas",
         4
        ],
        [
         "Malta",
         "home-decor",
         4
        ],
        [
         "Malta",
         "beauty",
         4
        ],
        [
         "Marshall Islands",
         "travel",
         16
        ],
        [
         "Marshall Islands",
         "home-decor",
         4
        ],
        [
         "Mauritania",
         "education",
         1
        ],
        [
         "Mayotte",
         "beauty",
         4
        ],
        [
         "Mexico",
         "vehicles",
         4
        ],
        [
         "Moldova",
         "home-decor",
         8
        ],
        [
         "Monaco",
         "vehicles",
         4
        ],
        [
         "Montserrat",
         "art",
         9
        ],
        [
         "Montserrat",
         "education",
         4
        ],
        [
         "Montserrat",
         "mens-fashion",
         4
        ],
        [
         "Morocco",
         "quotes",
         4
        ],
        [
         "Mozambique",
         "home-decor",
         9
        ],
        [
         "Mozambique",
         "art",
         4
        ],
        [
         "Mozambique",
         "mens-fashion",
         4
        ],
        [
         "Namibia",
         "quotes",
         4
        ],
        [
         "Namibia",
         "event-planning",
         4
        ],
        [
         "Nauru",
         "beauty",
         4
        ],
        [
         "Netherlands",
         "home-decor",
         4
        ],
        [
         "Netherlands Antilles",
         "art",
         13
        ],
        [
         "New Caledonia",
         "mens-fashion",
         13
        ],
        [
         "Nicaragua",
         "mens-fashion",
         4
        ],
        [
         "Nicaragua",
         "vehicles",
         4
        ],
        [
         "Niger",
         "art",
         4
        ],
        [
         "Nigeria",
         "christmas",
         4
        ],
        [
         "Norfolk Island",
         "event-planning",
         4
        ],
        [
         "Norway",
         "travel",
         4
        ],
        [
         "Oman",
         "diy-and-crafts",
         4
        ],
        [
         "Oman",
         "beauty",
         4
        ],
        [
         "Oman",
         "finance",
         4
        ],
        [
         "Panama",
         "event-planning",
         4
        ],
        [
         "Panama",
         "travel",
         4
        ],
        [
         "Papua New Guinea",
         "quotes",
         9
        ],
        [
         "Peru",
         "vehicles",
         4
        ],
        [
         "Philippines",
         "event-planning",
         1
        ],
        [
         "Pitcairn Islands",
         "diy-and-crafts",
         4
        ],
        [
         "Portugal",
         "diy-and-crafts",
         4
        ],
        [
         "Puerto Rico",
         "event-planning",
         4
        ],
        [
         "Qatar",
         "travel",
         4
        ],
        [
         "Romania",
         "tattoos",
         4
        ],
        [
         "Romania",
         "art",
         4
        ],
        [
         "Romania",
         "quotes",
         4
        ],
        [
         "Romania",
         "vehicles",
         4
        ],
        [
         "Russian Federation",
         "christmas",
         4
        ],
        [
         "Russian Federation",
         "event-planning",
         4
        ],
        [
         "Saint Barthelemy",
         "mens-fashion",
         4
        ],
        [
         "Saint Kitts and Nevis",
         "vehicles",
         9
        ],
        [
         "Saint Martin",
         "home-decor",
         9
        ],
        [
         "Saint Martin",
         "vehicles",
         4
        ],
        [
         "Saint Pierre and Miquelon",
         "quotes",
         4
        ],
        [
         "Saint Vincent and the Grenadines",
         "christmas",
         4
        ],
        [
         "San Marino",
         "mens-fashion",
         4
        ],
        [
         "Saudi Arabia",
         "christmas",
         4
        ],
        [
         "Senegal",
         "tattoos",
         4
        ],
        [
         "Senegal",
         "diy-and-crafts",
         4
        ],
        [
         "Seychelles",
         "beauty",
         4
        ],
        [
         "Seychelles",
         "tattoos",
         1
        ],
        [
         "Singapore",
         "vehicles",
         4
        ],
        [
         "Singapore",
         "mens-fashion",
         4
        ],
        [
         "Singapore",
         "travel",
         4
        ],
        [
         "Solomon Islands",
         "art",
         4
        ],
        [
         "Solomon Islands",
         "vehicles",
         4
        ],
        [
         "Somalia",
         "travel",
         4
        ],
        [
         "Sudan",
         "mens-fashion",
         1
        ],
        [
         "Svalbard & Jan Mayen Islands",
         "beauty",
         4
        ],
        [
         "Sweden",
         "finance",
         4
        ],
        [
         "Taiwan",
         "event-planning",
         4
        ],
        [
         "Thailand",
         "home-decor",
         4
        ],
        [
         "Tokelau",
         "tattoos",
         4
        ],
        [
         "Tonga",
         "beauty",
         1
        ],
        [
         "Tunisia",
         "travel",
         4
        ],
        [
         "Turkey",
         "education",
         1
        ],
        [
         "Turkmenistan",
         "event-planning",
         4
        ],
        [
         "Turkmenistan",
         "travel",
         4
        ],
        [
         "Turks and Caicos Islands",
         "event-planning",
         4
        ],
        [
         "Tuvalu",
         "tattoos",
         4
        ],
        [
         "Uganda",
         "beauty",
         4
        ],
        [
         "United Kingdom",
         "tattoos",
         8
        ],
        [
         "United States Minor Outlying Islands",
         "christmas",
         4
        ],
        [
         "United States Virgin Islands",
         "quotes",
         8
        ],
        [
         "United States of America",
         "tattoos",
         4
        ],
        [
         "Venezuela",
         "finance",
         4
        ],
        [
         "Vietnam",
         "home-decor",
         4
        ],
        [
         "Wallis and Futuna",
         "home-decor",
         4
        ]
       ],
       "datasetInfos": [],
       "dbfsResultPath": null,
       "isJsonSchema": true,
       "metadata": {},
       "overflow": false,
       "plotOptions": {
        "customPlotOptions": {},
        "displayType": "table",
        "pivotAggregation": null,
        "pivotColumns": null,
        "xColumns": null,
        "yColumns": null
       },
       "removedWidgets": [],
       "schema": [
        {
         "metadata": "{}",
         "name": "country",
         "type": "\"string\""
        },
        {
         "metadata": "{}",
         "name": "category",
         "type": "\"string\""
        },
        {
         "metadata": "{}",
         "name": "category_count",
         "type": "\"long\""
        }
       ],
       "type": "table"
      }
     },
     "output_type": "display_data"
    }
   ],
   "source": [
    "SELECT * FROM category_count;"
   ]
  },
  {
   "cell_type": "code",
   "execution_count": 0,
   "metadata": {
    "application/vnd.databricks.v1+cell": {
     "cellMetadata": {
      "byteLimit": 2048000,
      "rowLimit": 10000
     },
     "inputWidgets": {},
     "nuid": "0df77286-bfe6-48f6-9f22-68b3c0c59fb9",
     "showTitle": false,
     "tableResultSettingsMap": {},
     "title": ""
    }
   },
   "outputs": [
    {
     "output_type": "display_data",
     "data": {
      "text/html": [
       "<style scoped>\n",
       "  .table-result-container {\n",
       "    max-height: 300px;\n",
       "    overflow: auto;\n",
       "  }\n",
       "  table, th, td {\n",
       "    border: 1px solid black;\n",
       "    border-collapse: collapse;\n",
       "  }\n",
       "  th, td {\n",
       "    padding: 5px;\n",
       "  }\n",
       "  th {\n",
       "    text-align: left;\n",
       "  }\n",
       "</style><div class='table-result-container'><table class='table-result'><thead style='background-color: white'><tr><th>country</th><th>category</th><th>category_count</th></tr></thead><tbody><tr><td>Afghanistan</td><td>education</td><td>29</td></tr><tr><td>Albania</td><td>christmas</td><td>17</td></tr><tr><td>Algeria</td><td>quotes</td><td>49</td></tr><tr><td>American Samoa</td><td>tattoos</td><td>20</td></tr><tr><td>Andorra</td><td>tattoos</td><td>20</td></tr><tr><td>Angola</td><td>diy-and-crafts</td><td>9</td></tr><tr><td>Anguilla</td><td>home-decor</td><td>13</td></tr><tr><td>Antarctica (the territory South of 60 deg S)</td><td>christmas</td><td>13</td></tr><tr><td>Antigua and Barbuda</td><td>christmas</td><td>16</td></tr><tr><td>Argentina</td><td>tattoos</td><td>29</td></tr><tr><td>Armenia</td><td>diy-and-crafts</td><td>13</td></tr><tr><td>Aruba</td><td>art</td><td>16</td></tr><tr><td>Australia</td><td>education</td><td>9</td></tr><tr><td>Austria</td><td>tattoos</td><td>8</td></tr><tr><td>Azerbaijan</td><td>finance</td><td>8</td></tr><tr><td>Bahamas</td><td>event-planning</td><td>8</td></tr><tr><td>Bahrain</td><td>diy-and-crafts</td><td>8</td></tr><tr><td>Bangladesh</td><td>christmas</td><td>12</td></tr><tr><td>Barbados</td><td>art</td><td>5</td></tr><tr><td>Belarus</td><td>travel</td><td>24</td></tr><tr><td>Belgium</td><td>travel</td><td>4</td></tr><tr><td>Belize</td><td>art</td><td>4</td></tr><tr><td>Benin</td><td>travel</td><td>20</td></tr><tr><td>Bermuda</td><td>finance</td><td>4</td></tr><tr><td>Bhutan</td><td>event-planning</td><td>8</td></tr><tr><td>Bolivia</td><td>home-decor</td><td>8</td></tr><tr><td>Bosnia and Herzegovina</td><td>diy-and-crafts</td><td>4</td></tr><tr><td>Botswana</td><td>tattoos</td><td>13</td></tr><tr><td>Bouvet Island (Bouvetoya)</td><td>tattoos</td><td>12</td></tr><tr><td>Brazil</td><td>finance</td><td>4</td></tr><tr><td>British Indian Ocean Territory (Chagos Archipelago)</td><td>finance</td><td>4</td></tr><tr><td>British Virgin Islands</td><td>quotes</td><td>8</td></tr><tr><td>Brunei Darussalam</td><td>home-decor</td><td>4</td></tr><tr><td>Bulgaria</td><td>finance</td><td>9</td></tr><tr><td>Burkina Faso</td><td>quotes</td><td>4</td></tr><tr><td>Burundi</td><td>art</td><td>4</td></tr><tr><td>Cambodia</td><td>beauty</td><td>4</td></tr><tr><td>Cameroon</td><td>beauty</td><td>4</td></tr><tr><td>Canada</td><td>mens-fashion</td><td>4</td></tr><tr><td>Cape Verde</td><td>home-decor</td><td>9</td></tr><tr><td>Cayman Islands</td><td>travel</td><td>4</td></tr><tr><td>Central African Republic</td><td>christmas</td><td>9</td></tr><tr><td>Chad</td><td>diy-and-crafts</td><td>4</td></tr><tr><td>Chile</td><td>quotes</td><td>4</td></tr><tr><td>China</td><td>art</td><td>4</td></tr><tr><td>Christmas Island</td><td>christmas</td><td>9</td></tr><tr><td>Cocos (Keeling) Islands</td><td>event-planning</td><td>4</td></tr><tr><td>Colombia</td><td>home-decor</td><td>4</td></tr><tr><td>Comoros</td><td>finance</td><td>4</td></tr><tr><td>Congo</td><td>education</td><td>4</td></tr><tr><td>Cook Islands</td><td>finance</td><td>4</td></tr><tr><td>Costa Rica</td><td>quotes</td><td>4</td></tr><tr><td>Cote d'Ivoire</td><td>diy-and-crafts</td><td>9</td></tr><tr><td>Cuba</td><td>home-decor</td><td>4</td></tr><tr><td>Czech Republic</td><td>finance</td><td>4</td></tr><tr><td>Denmark</td><td>mens-fashion</td><td>4</td></tr><tr><td>Djibouti</td><td>christmas</td><td>4</td></tr><tr><td>Dominica</td><td>diy-and-crafts</td><td>4</td></tr><tr><td>Dominican Republic</td><td>travel</td><td>9</td></tr><tr><td>Ecuador</td><td>mens-fashion</td><td>4</td></tr><tr><td>Egypt</td><td>finance</td><td>16</td></tr><tr><td>El Salvador</td><td>quotes</td><td>4</td></tr><tr><td>Equatorial Guinea</td><td>mens-fashion</td><td>4</td></tr><tr><td>Ethiopia</td><td>diy-and-crafts</td><td>4</td></tr><tr><td>Falkland Islands (Malvinas)</td><td>education</td><td>4</td></tr><tr><td>Faroe Islands</td><td>event-planning</td><td>8</td></tr><tr><td>Fiji</td><td>education</td><td>8</td></tr><tr><td>Finland</td><td>home-decor</td><td>4</td></tr><tr><td>France</td><td>beauty</td><td>4</td></tr><tr><td>French Guiana</td><td>quotes</td><td>16</td></tr><tr><td>French Polynesia</td><td>diy-and-crafts</td><td>4</td></tr><tr><td>French Southern Territories</td><td>art</td><td>4</td></tr><tr><td>Gambia</td><td>home-decor</td><td>4</td></tr><tr><td>Georgia</td><td>education</td><td>4</td></tr><tr><td>Germany</td><td>event-planning</td><td>9</td></tr><tr><td>Gibraltar</td><td>art</td><td>4</td></tr><tr><td>Greece</td><td>art</td><td>4</td></tr><tr><td>Greenland</td><td>beauty</td><td>4</td></tr><tr><td>Grenada</td><td>event-planning</td><td>4</td></tr><tr><td>Guadeloupe</td><td>christmas</td><td>4</td></tr><tr><td>Guatemala</td><td>finance</td><td>4</td></tr><tr><td>Guernsey</td><td>mens-fashion</td><td>4</td></tr><tr><td>Guinea</td><td>christmas</td><td>4</td></tr><tr><td>Guinea-Bissau</td><td>tattoos</td><td>9</td></tr><tr><td>Guyana</td><td>quotes</td><td>4</td></tr><tr><td>Haiti</td><td>home-decor</td><td>4</td></tr><tr><td>Heard Island and McDonald Islands</td><td>vehicles</td><td>4</td></tr><tr><td>Hong Kong</td><td>vehicles</td><td>4</td></tr><tr><td>Hungary</td><td>event-planning</td><td>4</td></tr><tr><td>India</td><td>travel</td><td>25</td></tr><tr><td>Indonesia</td><td>finance</td><td>16</td></tr><tr><td>Iran</td><td>tattoos</td><td>4</td></tr><tr><td>Iraq</td><td>mens-fashion</td><td>4</td></tr><tr><td>Isle of Man</td><td>art</td><td>13</td></tr><tr><td>Israel</td><td>quotes</td><td>4</td></tr><tr><td>Jamaica</td><td>vehicles</td><td>1</td></tr><tr><td>Japan</td><td>art</td><td>4</td></tr><tr><td>Jordan</td><td>mens-fashion</td><td>4</td></tr><tr><td>Kenya</td><td>diy-and-crafts</td><td>4</td></tr><tr><td>Kiribati</td><td>vehicles</td><td>4</td></tr><tr><td>Korea</td><td>home-decor</td><td>4</td></tr><tr><td>Kuwait</td><td>event-planning</td><td>4</td></tr><tr><td>Kyrgyz Republic</td><td>vehicles</td><td>8</td></tr><tr><td>Latvia</td><td>travel</td><td>8</td></tr><tr><td>Lebanon</td><td>quotes</td><td>4</td></tr><tr><td>Lesotho</td><td>art</td><td>12</td></tr><tr><td>Liechtenstein</td><td>mens-fashion</td><td>4</td></tr><tr><td>Lithuania</td><td>diy-and-crafts</td><td>4</td></tr><tr><td>Macao</td><td>mens-fashion</td><td>4</td></tr><tr><td>Madagascar</td><td>mens-fashion</td><td>4</td></tr><tr><td>Malawi</td><td>travel</td><td>4</td></tr><tr><td>Maldives</td><td>beauty</td><td>9</td></tr><tr><td>Mali</td><td>christmas</td><td>4</td></tr><tr><td>Malta</td><td>home-decor</td><td>4</td></tr><tr><td>Marshall Islands</td><td>travel</td><td>16</td></tr><tr><td>Mauritania</td><td>education</td><td>1</td></tr><tr><td>Mayotte</td><td>beauty</td><td>4</td></tr><tr><td>Mexico</td><td>vehicles</td><td>4</td></tr><tr><td>Moldova</td><td>home-decor</td><td>8</td></tr><tr><td>Monaco</td><td>vehicles</td><td>4</td></tr><tr><td>Montserrat</td><td>art</td><td>9</td></tr><tr><td>Morocco</td><td>quotes</td><td>4</td></tr><tr><td>Mozambique</td><td>home-decor</td><td>9</td></tr><tr><td>Namibia</td><td>quotes</td><td>4</td></tr><tr><td>Nauru</td><td>beauty</td><td>4</td></tr><tr><td>Netherlands</td><td>home-decor</td><td>4</td></tr><tr><td>Netherlands Antilles</td><td>art</td><td>13</td></tr><tr><td>New Caledonia</td><td>mens-fashion</td><td>13</td></tr><tr><td>Nicaragua</td><td>mens-fashion</td><td>4</td></tr><tr><td>Niger</td><td>art</td><td>4</td></tr><tr><td>Nigeria</td><td>christmas</td><td>4</td></tr><tr><td>Norfolk Island</td><td>event-planning</td><td>4</td></tr><tr><td>Norway</td><td>travel</td><td>4</td></tr><tr><td>Oman</td><td>diy-and-crafts</td><td>4</td></tr><tr><td>Panama</td><td>event-planning</td><td>4</td></tr><tr><td>Papua New Guinea</td><td>quotes</td><td>9</td></tr><tr><td>Peru</td><td>vehicles</td><td>4</td></tr><tr><td>Philippines</td><td>event-planning</td><td>1</td></tr><tr><td>Pitcairn Islands</td><td>diy-and-crafts</td><td>4</td></tr><tr><td>Portugal</td><td>diy-and-crafts</td><td>4</td></tr><tr><td>Puerto Rico</td><td>event-planning</td><td>4</td></tr><tr><td>Qatar</td><td>travel</td><td>4</td></tr><tr><td>Romania</td><td>tattoos</td><td>4</td></tr><tr><td>Russian Federation</td><td>christmas</td><td>4</td></tr><tr><td>Saint Barthelemy</td><td>mens-fashion</td><td>4</td></tr><tr><td>Saint Kitts and Nevis</td><td>vehicles</td><td>9</td></tr><tr><td>Saint Martin</td><td>home-decor</td><td>9</td></tr><tr><td>Saint Pierre and Miquelon</td><td>quotes</td><td>4</td></tr><tr><td>Saint Vincent and the Grenadines</td><td>christmas</td><td>4</td></tr><tr><td>San Marino</td><td>mens-fashion</td><td>4</td></tr><tr><td>Saudi Arabia</td><td>christmas</td><td>4</td></tr><tr><td>Senegal</td><td>tattoos</td><td>4</td></tr><tr><td>Seychelles</td><td>beauty</td><td>4</td></tr><tr><td>Singapore</td><td>vehicles</td><td>4</td></tr><tr><td>Solomon Islands</td><td>art</td><td>4</td></tr><tr><td>Somalia</td><td>travel</td><td>4</td></tr><tr><td>Sudan</td><td>mens-fashion</td><td>1</td></tr><tr><td>Svalbard & Jan Mayen Islands</td><td>beauty</td><td>4</td></tr><tr><td>Sweden</td><td>finance</td><td>4</td></tr><tr><td>Taiwan</td><td>event-planning</td><td>4</td></tr><tr><td>Thailand</td><td>home-decor</td><td>4</td></tr><tr><td>Tokelau</td><td>tattoos</td><td>4</td></tr><tr><td>Tonga</td><td>beauty</td><td>1</td></tr><tr><td>Tunisia</td><td>travel</td><td>4</td></tr><tr><td>Turkey</td><td>education</td><td>1</td></tr><tr><td>Turkmenistan</td><td>event-planning</td><td>4</td></tr><tr><td>Turks and Caicos Islands</td><td>event-planning</td><td>4</td></tr><tr><td>Tuvalu</td><td>tattoos</td><td>4</td></tr><tr><td>Uganda</td><td>beauty</td><td>4</td></tr><tr><td>United Kingdom</td><td>tattoos</td><td>8</td></tr><tr><td>United States Minor Outlying Islands</td><td>christmas</td><td>4</td></tr><tr><td>United States Virgin Islands</td><td>quotes</td><td>8</td></tr><tr><td>United States of America</td><td>tattoos</td><td>4</td></tr><tr><td>Venezuela</td><td>finance</td><td>4</td></tr><tr><td>Vietnam</td><td>home-decor</td><td>4</td></tr><tr><td>Wallis and Futuna</td><td>home-decor</td><td>4</td></tr></tbody></table></div>"
      ]
     },
     "metadata": {
      "application/vnd.databricks.v1+output": {
       "addedWidgets": {},
       "aggData": [],
       "aggError": "",
       "aggOverflow": false,
       "aggSchema": [],
       "aggSeriesLimitReached": false,
       "aggType": "",
       "arguments": {},
       "columnCustomDisplayInfos": {},
       "data": [
        [
         "Afghanistan",
         "education",
         29
        ],
        [
         "Albania",
         "christmas",
         17
        ],
        [
         "Algeria",
         "quotes",
         49
        ],
        [
         "American Samoa",
         "tattoos",
         20
        ],
        [
         "Andorra",
         "tattoos",
         20
        ],
        [
         "Angola",
         "diy-and-crafts",
         9
        ],
        [
         "Anguilla",
         "home-decor",
         13
        ],
        [
         "Antarctica (the territory South of 60 deg S)",
         "christmas",
         13
        ],
        [
         "Antigua and Barbuda",
         "christmas",
         16
        ],
        [
         "Argentina",
         "tattoos",
         29
        ],
        [
         "Armenia",
         "diy-and-crafts",
         13
        ],
        [
         "Aruba",
         "art",
         16
        ],
        [
         "Australia",
         "education",
         9
        ],
        [
         "Austria",
         "tattoos",
         8
        ],
        [
         "Azerbaijan",
         "finance",
         8
        ],
        [
         "Bahamas",
         "event-planning",
         8
        ],
        [
         "Bahrain",
         "diy-and-crafts",
         8
        ],
        [
         "Bangladesh",
         "christmas",
         12
        ],
        [
         "Barbados",
         "art",
         5
        ],
        [
         "Belarus",
         "travel",
         24
        ],
        [
         "Belgium",
         "travel",
         4
        ],
        [
         "Belize",
         "art",
         4
        ],
        [
         "Benin",
         "travel",
         20
        ],
        [
         "Bermuda",
         "finance",
         4
        ],
        [
         "Bhutan",
         "event-planning",
         8
        ],
        [
         "Bolivia",
         "home-decor",
         8
        ],
        [
         "Bosnia and Herzegovina",
         "diy-and-crafts",
         4
        ],
        [
         "Botswana",
         "tattoos",
         13
        ],
        [
         "Bouvet Island (Bouvetoya)",
         "tattoos",
         12
        ],
        [
         "Brazil",
         "finance",
         4
        ],
        [
         "British Indian Ocean Territory (Chagos Archipelago)",
         "finance",
         4
        ],
        [
         "British Virgin Islands",
         "quotes",
         8
        ],
        [
         "Brunei Darussalam",
         "home-decor",
         4
        ],
        [
         "Bulgaria",
         "finance",
         9
        ],
        [
         "Burkina Faso",
         "quotes",
         4
        ],
        [
         "Burundi",
         "art",
         4
        ],
        [
         "Cambodia",
         "beauty",
         4
        ],
        [
         "Cameroon",
         "beauty",
         4
        ],
        [
         "Canada",
         "mens-fashion",
         4
        ],
        [
         "Cape Verde",
         "home-decor",
         9
        ],
        [
         "Cayman Islands",
         "travel",
         4
        ],
        [
         "Central African Republic",
         "christmas",
         9
        ],
        [
         "Chad",
         "diy-and-crafts",
         4
        ],
        [
         "Chile",
         "quotes",
         4
        ],
        [
         "China",
         "art",
         4
        ],
        [
         "Christmas Island",
         "christmas",
         9
        ],
        [
         "Cocos (Keeling) Islands",
         "event-planning",
         4
        ],
        [
         "Colombia",
         "home-decor",
         4
        ],
        [
         "Comoros",
         "finance",
         4
        ],
        [
         "Congo",
         "education",
         4
        ],
        [
         "Cook Islands",
         "finance",
         4
        ],
        [
         "Costa Rica",
         "quotes",
         4
        ],
        [
         "Cote d'Ivoire",
         "diy-and-crafts",
         9
        ],
        [
         "Cuba",
         "home-decor",
         4
        ],
        [
         "Czech Republic",
         "finance",
         4
        ],
        [
         "Denmark",
         "mens-fashion",
         4
        ],
        [
         "Djibouti",
         "christmas",
         4
        ],
        [
         "Dominica",
         "diy-and-crafts",
         4
        ],
        [
         "Dominican Republic",
         "travel",
         9
        ],
        [
         "Ecuador",
         "mens-fashion",
         4
        ],
        [
         "Egypt",
         "finance",
         16
        ],
        [
         "El Salvador",
         "quotes",
         4
        ],
        [
         "Equatorial Guinea",
         "mens-fashion",
         4
        ],
        [
         "Ethiopia",
         "diy-and-crafts",
         4
        ],
        [
         "Falkland Islands (Malvinas)",
         "education",
         4
        ],
        [
         "Faroe Islands",
         "event-planning",
         8
        ],
        [
         "Fiji",
         "education",
         8
        ],
        [
         "Finland",
         "home-decor",
         4
        ],
        [
         "France",
         "beauty",
         4
        ],
        [
         "French Guiana",
         "quotes",
         16
        ],
        [
         "French Polynesia",
         "diy-and-crafts",
         4
        ],
        [
         "French Southern Territories",
         "art",
         4
        ],
        [
         "Gambia",
         "home-decor",
         4
        ],
        [
         "Georgia",
         "education",
         4
        ],
        [
         "Germany",
         "event-planning",
         9
        ],
        [
         "Gibraltar",
         "art",
         4
        ],
        [
         "Greece",
         "art",
         4
        ],
        [
         "Greenland",
         "beauty",
         4
        ],
        [
         "Grenada",
         "event-planning",
         4
        ],
        [
         "Guadeloupe",
         "christmas",
         4
        ],
        [
         "Guatemala",
         "finance",
         4
        ],
        [
         "Guernsey",
         "mens-fashion",
         4
        ],
        [
         "Guinea",
         "christmas",
         4
        ],
        [
         "Guinea-Bissau",
         "tattoos",
         9
        ],
        [
         "Guyana",
         "quotes",
         4
        ],
        [
         "Haiti",
         "home-decor",
         4
        ],
        [
         "Heard Island and McDonald Islands",
         "vehicles",
         4
        ],
        [
         "Hong Kong",
         "vehicles",
         4
        ],
        [
         "Hungary",
         "event-planning",
         4
        ],
        [
         "India",
         "travel",
         25
        ],
        [
         "Indonesia",
         "finance",
         16
        ],
        [
         "Iran",
         "tattoos",
         4
        ],
        [
         "Iraq",
         "mens-fashion",
         4
        ],
        [
         "Isle of Man",
         "art",
         13
        ],
        [
         "Israel",
         "quotes",
         4
        ],
        [
         "Jamaica",
         "vehicles",
         1
        ],
        [
         "Japan",
         "art",
         4
        ],
        [
         "Jordan",
         "mens-fashion",
         4
        ],
        [
         "Kenya",
         "diy-and-crafts",
         4
        ],
        [
         "Kiribati",
         "vehicles",
         4
        ],
        [
         "Korea",
         "home-decor",
         4
        ],
        [
         "Kuwait",
         "event-planning",
         4
        ],
        [
         "Kyrgyz Republic",
         "vehicles",
         8
        ],
        [
         "Latvia",
         "travel",
         8
        ],
        [
         "Lebanon",
         "quotes",
         4
        ],
        [
         "Lesotho",
         "art",
         12
        ],
        [
         "Liechtenstein",
         "mens-fashion",
         4
        ],
        [
         "Lithuania",
         "diy-and-crafts",
         4
        ],
        [
         "Macao",
         "mens-fashion",
         4
        ],
        [
         "Madagascar",
         "mens-fashion",
         4
        ],
        [
         "Malawi",
         "travel",
         4
        ],
        [
         "Maldives",
         "beauty",
         9
        ],
        [
         "Mali",
         "christmas",
         4
        ],
        [
         "Malta",
         "home-decor",
         4
        ],
        [
         "Marshall Islands",
         "travel",
         16
        ],
        [
         "Mauritania",
         "education",
         1
        ],
        [
         "Mayotte",
         "beauty",
         4
        ],
        [
         "Mexico",
         "vehicles",
         4
        ],
        [
         "Moldova",
         "home-decor",
         8
        ],
        [
         "Monaco",
         "vehicles",
         4
        ],
        [
         "Montserrat",
         "art",
         9
        ],
        [
         "Morocco",
         "quotes",
         4
        ],
        [
         "Mozambique",
         "home-decor",
         9
        ],
        [
         "Namibia",
         "quotes",
         4
        ],
        [
         "Nauru",
         "beauty",
         4
        ],
        [
         "Netherlands",
         "home-decor",
         4
        ],
        [
         "Netherlands Antilles",
         "art",
         13
        ],
        [
         "New Caledonia",
         "mens-fashion",
         13
        ],
        [
         "Nicaragua",
         "mens-fashion",
         4
        ],
        [
         "Niger",
         "art",
         4
        ],
        [
         "Nigeria",
         "christmas",
         4
        ],
        [
         "Norfolk Island",
         "event-planning",
         4
        ],
        [
         "Norway",
         "travel",
         4
        ],
        [
         "Oman",
         "diy-and-crafts",
         4
        ],
        [
         "Panama",
         "event-planning",
         4
        ],
        [
         "Papua New Guinea",
         "quotes",
         9
        ],
        [
         "Peru",
         "vehicles",
         4
        ],
        [
         "Philippines",
         "event-planning",
         1
        ],
        [
         "Pitcairn Islands",
         "diy-and-crafts",
         4
        ],
        [
         "Portugal",
         "diy-and-crafts",
         4
        ],
        [
         "Puerto Rico",
         "event-planning",
         4
        ],
        [
         "Qatar",
         "travel",
         4
        ],
        [
         "Romania",
         "tattoos",
         4
        ],
        [
         "Russian Federation",
         "christmas",
         4
        ],
        [
         "Saint Barthelemy",
         "mens-fashion",
         4
        ],
        [
         "Saint Kitts and Nevis",
         "vehicles",
         9
        ],
        [
         "Saint Martin",
         "home-decor",
         9
        ],
        [
         "Saint Pierre and Miquelon",
         "quotes",
         4
        ],
        [
         "Saint Vincent and the Grenadines",
         "christmas",
         4
        ],
        [
         "San Marino",
         "mens-fashion",
         4
        ],
        [
         "Saudi Arabia",
         "christmas",
         4
        ],
        [
         "Senegal",
         "tattoos",
         4
        ],
        [
         "Seychelles",
         "beauty",
         4
        ],
        [
         "Singapore",
         "vehicles",
         4
        ],
        [
         "Solomon Islands",
         "art",
         4
        ],
        [
         "Somalia",
         "travel",
         4
        ],
        [
         "Sudan",
         "mens-fashion",
         1
        ],
        [
         "Svalbard & Jan Mayen Islands",
         "beauty",
         4
        ],
        [
         "Sweden",
         "finance",
         4
        ],
        [
         "Taiwan",
         "event-planning",
         4
        ],
        [
         "Thailand",
         "home-decor",
         4
        ],
        [
         "Tokelau",
         "tattoos",
         4
        ],
        [
         "Tonga",
         "beauty",
         1
        ],
        [
         "Tunisia",
         "travel",
         4
        ],
        [
         "Turkey",
         "education",
         1
        ],
        [
         "Turkmenistan",
         "event-planning",
         4
        ],
        [
         "Turks and Caicos Islands",
         "event-planning",
         4
        ],
        [
         "Tuvalu",
         "tattoos",
         4
        ],
        [
         "Uganda",
         "beauty",
         4
        ],
        [
         "United Kingdom",
         "tattoos",
         8
        ],
        [
         "United States Minor Outlying Islands",
         "christmas",
         4
        ],
        [
         "United States Virgin Islands",
         "quotes",
         8
        ],
        [
         "United States of America",
         "tattoos",
         4
        ],
        [
         "Venezuela",
         "finance",
         4
        ],
        [
         "Vietnam",
         "home-decor",
         4
        ],
        [
         "Wallis and Futuna",
         "home-decor",
         4
        ]
       ],
       "datasetInfos": [],
       "dbfsResultPath": null,
       "isJsonSchema": true,
       "metadata": {
        "isDbfsCommandResult": false
       },
       "overflow": false,
       "plotOptions": {
        "customPlotOptions": {},
        "displayType": "table",
        "pivotAggregation": null,
        "pivotColumns": null,
        "xColumns": null,
        "yColumns": null
       },
       "removedWidgets": [],
       "schema": [
        {
         "metadata": "{}",
         "name": "country",
         "type": "\"string\""
        },
        {
         "metadata": "{}",
         "name": "category",
         "type": "\"string\""
        },
        {
         "metadata": "{}",
         "name": "category_count",
         "type": "\"long\""
        }
       ],
       "type": "table"
      }
     },
     "output_type": "display_data"
    }
   ],
   "source": [
    "SELECT \n",
    "    country,\n",
    "    category,\n",
    "    category_count\n",
    "FROM (\n",
    "    SELECT \n",
    "        country,\n",
    "        category,\n",
    "        category_count,\n",
    "        ROW_NUMBER() OVER (PARTITION BY country ORDER BY category_count DESC) AS rank\n",
    "    FROM \n",
    "        category_count\n",
    ") AS ranked_categories\n",
    "WHERE \n",
    "    rank = 1\n",
    "ORDER BY \n",
    "    country;"
   ]
  }
 ],
 "metadata": {
  "application/vnd.databricks.v1+notebook": {
   "computePreferences": null,
   "dashboards": [],
   "environmentMetadata": {
    "base_environment": "",
    "client": "2"
   },
   "language": "sql",
   "notebookMetadata": {},
   "notebookName": "category_count",
   "widgets": {}
  },
  "language_info": {
   "name": "sql"
  }
 },
 "nbformat": 4,
 "nbformat_minor": 0
}