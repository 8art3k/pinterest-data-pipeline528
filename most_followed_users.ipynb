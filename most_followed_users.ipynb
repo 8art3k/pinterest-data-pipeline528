{
 "cells": [
  {
   "cell_type": "code",
   "execution_count": 0,
   "metadata": {
    "application/vnd.databricks.v1+cell": {
     "cellMetadata": {
      "byteLimit": 2048000,
      "rowLimit": 10000
     },
     "inputWidgets": {},
     "nuid": "47fdd06b-c7d7-468d-97f1-779f3b20cc0c",
     "showTitle": false,
     "tableResultSettingsMap": {},
     "title": ""
    }
   },
   "outputs": [
    {
     "output_type": "display_data",
     "data": {
      "text/html": [
       "<style scoped>\n",
       "  .table-result-container {\n",
       "    max-height: 300px;\n",
       "    overflow: auto;\n",
       "  }\n",
       "  table, th, td {\n",
       "    border: 1px solid black;\n",
       "    border-collapse: collapse;\n",
       "  }\n",
       "  th, td {\n",
       "    padding: 5px;\n",
       "  }\n",
       "  th {\n",
       "    text-align: left;\n",
       "  }\n",
       "</style><div class='table-result-container'><table class='table-result'><thead style='background-color: white'><tr></tr></thead><tbody></tbody></table></div>"
      ]
     },
     "metadata": {
      "application/vnd.databricks.v1+output": {
       "addedWidgets": {},
       "aggData": [],
       "aggError": "",
       "aggOverflow": false,
       "aggSchema": [],
       "aggSeriesLimitReached": false,
       "aggType": "",
       "arguments": {},
       "columnCustomDisplayInfos": {},
       "data": [],
       "datasetInfos": [],
       "dbfsResultPath": null,
       "isJsonSchema": true,
       "metadata": {
        "isDbfsCommandResult": false
       },
       "overflow": false,
       "plotOptions": {
        "customPlotOptions": {},
        "displayType": "table",
        "pivotAggregation": null,
        "pivotColumns": null,
        "xColumns": null,
        "yColumns": null
       },
       "removedWidgets": [],
       "schema": [],
       "type": "table"
      }
     },
     "output_type": "display_data"
    }
   ],
   "source": [
    "USE pinterest_data\n"
   ]
  },
  {
   "cell_type": "code",
   "execution_count": 0,
   "metadata": {
    "application/vnd.databricks.v1+cell": {
     "cellMetadata": {
      "byteLimit": 2048000,
      "rowLimit": 10000
     },
     "inputWidgets": {},
     "nuid": "7a494fe2-c15b-4889-bead-6b2c12d616f3",
     "showTitle": false,
     "tableResultSettingsMap": {},
     "title": ""
    }
   },
   "outputs": [
    {
     "output_type": "display_data",
     "data": {
      "text/html": [
       "<style scoped>\n",
       "  .table-result-container {\n",
       "    max-height: 300px;\n",
       "    overflow: auto;\n",
       "  }\n",
       "  table, th, td {\n",
       "    border: 1px solid black;\n",
       "    border-collapse: collapse;\n",
       "  }\n",
       "  th, td {\n",
       "    padding: 5px;\n",
       "  }\n",
       "  th {\n",
       "    text-align: left;\n",
       "  }\n",
       "</style><div class='table-result-container'><table class='table-result'><thead style='background-color: white'><tr></tr></thead><tbody></tbody></table></div>"
      ]
     },
     "metadata": {
      "application/vnd.databricks.v1+output": {
       "addedWidgets": {},
       "aggData": [],
       "aggError": "",
       "aggOverflow": false,
       "aggSchema": [],
       "aggSeriesLimitReached": false,
       "aggType": "",
       "arguments": {},
       "columnCustomDisplayInfos": {},
       "data": [],
       "datasetInfos": [],
       "dbfsResultPath": null,
       "isJsonSchema": true,
       "metadata": {
        "isDbfsCommandResult": false
       },
       "overflow": false,
       "plotOptions": {
        "customPlotOptions": {},
        "displayType": "table",
        "pivotAggregation": null,
        "pivotColumns": null,
        "xColumns": null,
        "yColumns": null
       },
       "removedWidgets": [],
       "schema": [],
       "type": "table"
      }
     },
     "output_type": "display_data"
    }
   ],
   "source": [
    "CREATE OR REPLACE TEMP VIEW most_followed_users_ranked AS\n",
    "SELECT \n",
    "    df_geo.country,\n",
    "    df_pin.poster_name,\n",
    "    df_pin.follower_count,\n",
    "    ROW_NUMBER() OVER (PARTITION BY df_geo.country ORDER BY df_pin.follower_count DESC) AS rank\n",
    "FROM \n",
    "    df_geo\n",
    "JOIN \n",
    "    df_pin \n",
    "    ON df_geo.ind = df_pin.ind;"
   ]
  },
  {
   "cell_type": "code",
   "execution_count": 0,
   "metadata": {
    "application/vnd.databricks.v1+cell": {
     "cellMetadata": {
      "byteLimit": 2048000,
      "rowLimit": 10000
     },
     "inputWidgets": {},
     "nuid": "7f3626ec-db53-41d8-8710-02a322d79a80",
     "showTitle": false,
     "tableResultSettingsMap": {},
     "title": ""
    }
   },
   "outputs": [
    {
     "output_type": "display_data",
     "data": {
      "text/html": [
       "<style scoped>\n",
       "  .table-result-container {\n",
       "    max-height: 300px;\n",
       "    overflow: auto;\n",
       "  }\n",
       "  table, th, td {\n",
       "    border: 1px solid black;\n",
       "    border-collapse: collapse;\n",
       "  }\n",
       "  th, td {\n",
       "    padding: 5px;\n",
       "  }\n",
       "  th {\n",
       "    text-align: left;\n",
       "  }\n",
       "</style><div class='table-result-container'><table class='table-result'><thead style='background-color: white'><tr><th>country</th><th>poster_name</th><th>follower_count</th><th>rank</th></tr></thead><tbody><tr><td>Afghanistan</td><td>Walmart</td><td>2000000</td><td>1</td></tr><tr><td>Afghanistan</td><td>Walmart</td><td>2000000</td><td>2</td></tr><tr><td>Afghanistan</td><td>Walmart</td><td>2000000</td><td>3</td></tr><tr><td>Afghanistan</td><td>Walmart</td><td>2000000</td><td>4</td></tr><tr><td>Afghanistan</td><td>Walmart</td><td>2000000</td><td>5</td></tr><tr><td>Afghanistan</td><td>Walmart</td><td>2000000</td><td>6</td></tr><tr><td>Afghanistan</td><td>Walmart</td><td>2000000</td><td>7</td></tr><tr><td>Afghanistan</td><td>Walmart</td><td>2000000</td><td>8</td></tr><tr><td>Afghanistan</td><td>Walmart</td><td>2000000</td><td>9</td></tr><tr><td>Afghanistan</td><td>Walmart</td><td>2000000</td><td>10</td></tr><tr><td>Afghanistan</td><td>Walmart</td><td>2000000</td><td>11</td></tr><tr><td>Afghanistan</td><td>Walmart</td><td>2000000</td><td>12</td></tr><tr><td>Afghanistan</td><td>Walmart</td><td>2000000</td><td>13</td></tr><tr><td>Afghanistan</td><td>Walmart</td><td>2000000</td><td>14</td></tr><tr><td>Afghanistan</td><td>Blossom</td><td>2000000</td><td>15</td></tr><tr><td>Afghanistan</td><td>Blossom</td><td>2000000</td><td>16</td></tr><tr><td>Afghanistan</td><td>Blossom</td><td>2000000</td><td>17</td></tr><tr><td>Afghanistan</td><td>Blossom</td><td>2000000</td><td>18</td></tr><tr><td>Afghanistan</td><td>Walmart</td><td>2000000</td><td>19</td></tr><tr><td>Afghanistan</td><td>Walmart</td><td>2000000</td><td>20</td></tr><tr><td>Afghanistan</td><td>Walmart</td><td>2000000</td><td>21</td></tr><tr><td>Afghanistan</td><td>Walmart</td><td>2000000</td><td>22</td></tr><tr><td>Afghanistan</td><td>Walmart</td><td>2000000</td><td>23</td></tr><tr><td>Afghanistan</td><td>Walmart</td><td>2000000</td><td>24</td></tr><tr><td>Afghanistan</td><td>Walmart</td><td>2000000</td><td>25</td></tr><tr><td>Afghanistan</td><td>Walmart</td><td>2000000</td><td>26</td></tr><tr><td>Afghanistan</td><td>Walmart</td><td>2000000</td><td>27</td></tr><tr><td>Afghanistan</td><td>Walmart</td><td>2000000</td><td>28</td></tr><tr><td>Afghanistan</td><td>Walmart</td><td>2000000</td><td>29</td></tr><tr><td>Afghanistan</td><td>Blossom</td><td>2000000</td><td>30</td></tr><tr><td>Afghanistan</td><td>Blossom</td><td>2000000</td><td>31</td></tr><tr><td>Afghanistan</td><td>Blossom</td><td>2000000</td><td>32</td></tr><tr><td>Afghanistan</td><td>Blossom</td><td>2000000</td><td>33</td></tr><tr><td>Afghanistan</td><td>Stylecaster</td><td>960000</td><td>34</td></tr><tr><td>Afghanistan</td><td>Stylecaster</td><td>960000</td><td>35</td></tr><tr><td>Afghanistan</td><td>Stylecaster</td><td>960000</td><td>36</td></tr><tr><td>Afghanistan</td><td>Stylecaster</td><td>960000</td><td>37</td></tr><tr><td>Afghanistan</td><td>TheUnstitchd</td><td>723000</td><td>38</td></tr><tr><td>Afghanistan</td><td>TheUnstitchd</td><td>723000</td><td>39</td></tr><tr><td>Afghanistan</td><td>TheUnstitchd</td><td>723000</td><td>40</td></tr><tr><td>Afghanistan</td><td>TheUnstitchd</td><td>723000</td><td>41</td></tr><tr><td>Afghanistan</td><td>TheUnstitchd</td><td>723000</td><td>42</td></tr><tr><td>Afghanistan</td><td>TheUnstitchd</td><td>723000</td><td>43</td></tr><tr><td>Afghanistan</td><td>TheUnstitchd</td><td>723000</td><td>44</td></tr><tr><td>Afghanistan</td><td>TheUnstitchd</td><td>723000</td><td>45</td></tr><tr><td>Afghanistan</td><td>Women.com</td><td>166000</td><td>46</td></tr><tr><td>Afghanistan</td><td>Women.com</td><td>166000</td><td>47</td></tr><tr><td>Afghanistan</td><td>Women.com</td><td>166000</td><td>48</td></tr><tr><td>Afghanistan</td><td>Women.com</td><td>166000</td><td>49</td></tr><tr><td>Afghanistan</td><td>Women.com</td><td>166000</td><td>50</td></tr><tr><td>Afghanistan</td><td>Women.com</td><td>166000</td><td>51</td></tr><tr><td>Afghanistan</td><td>Women.com</td><td>166000</td><td>52</td></tr><tr><td>Afghanistan</td><td>Women.com</td><td>166000</td><td>53</td></tr><tr><td>Afghanistan</td><td>Women.com</td><td>166000</td><td>54</td></tr><tr><td>Afghanistan</td><td>Women.com</td><td>166000</td><td>55</td></tr><tr><td>Afghanistan</td><td>Women.com</td><td>166000</td><td>56</td></tr><tr><td>Afghanistan</td><td>Women.com</td><td>166000</td><td>57</td></tr><tr><td>Afghanistan</td><td>Teaching With a Mountain View</td><td>76000</td><td>58</td></tr><tr><td>Afghanistan</td><td>Teaching With a Mountain View</td><td>76000</td><td>59</td></tr><tr><td>Afghanistan</td><td>Teaching With a Mountain View</td><td>76000</td><td>60</td></tr><tr><td>Afghanistan</td><td>Teaching With a Mountain View</td><td>76000</td><td>61</td></tr><tr><td>Afghanistan</td><td>AllPosters</td><td>72000</td><td>62</td></tr><tr><td>Afghanistan</td><td>AllPosters</td><td>72000</td><td>63</td></tr><tr><td>Afghanistan</td><td>AllPosters</td><td>72000</td><td>64</td></tr><tr><td>Afghanistan</td><td>AllPosters</td><td>72000</td><td>65</td></tr><tr><td>Afghanistan</td><td>Dividends Diversify: Money Matters So Build Wealth & Be Rich</td><td>28000</td><td>66</td></tr><tr><td>Afghanistan</td><td>Dividends Diversify: Money Matters So Build Wealth & Be Rich</td><td>28000</td><td>67</td></tr><tr><td>Afghanistan</td><td>Dividends Diversify: Money Matters So Build Wealth & Be Rich</td><td>28000</td><td>68</td></tr><tr><td>Afghanistan</td><td>Dividends Diversify: Money Matters So Build Wealth & Be Rich</td><td>28000</td><td>69</td></tr><tr><td>Afghanistan</td><td>Dividends Diversify: Money Matters So Build Wealth & Be Rich</td><td>28000</td><td>70</td></tr><tr><td>Afghanistan</td><td>Dividends Diversify: Money Matters So Build Wealth & Be Rich</td><td>28000</td><td>71</td></tr><tr><td>Afghanistan</td><td>Dividends Diversify: Money Matters So Build Wealth & Be Rich</td><td>28000</td><td>72</td></tr><tr><td>Afghanistan</td><td>Dividends Diversify: Money Matters So Build Wealth & Be Rich</td><td>28000</td><td>73</td></tr><tr><td>Afghanistan</td><td>It's me, JD | DIY, Crafts, Home & Organization</td><td>27000</td><td>74</td></tr><tr><td>Afghanistan</td><td>Ethnic Earring</td><td>14000</td><td>75</td></tr><tr><td>Afghanistan</td><td>Ethnic Earring</td><td>14000</td><td>76</td></tr><tr><td>Afghanistan</td><td>Glamhues</td><td>14000</td><td>77</td></tr><tr><td>Afghanistan</td><td>Glamhues</td><td>14000</td><td>78</td></tr><tr><td>Afghanistan</td><td>Ethnic Earring</td><td>14000</td><td>79</td></tr><tr><td>Afghanistan</td><td>Ethnic Earring</td><td>14000</td><td>80</td></tr><tr><td>Afghanistan</td><td>Glamhues</td><td>14000</td><td>81</td></tr><tr><td>Afghanistan</td><td>Glamhues</td><td>14000</td><td>82</td></tr><tr><td>Albania</td><td>The Minds Journal</td><td>5000000</td><td>1</td></tr><tr><td>Albania</td><td>The Minds Journal</td><td>5000000</td><td>2</td></tr><tr><td>Albania</td><td>The Minds Journal</td><td>5000000</td><td>3</td></tr><tr><td>Albania</td><td>The Minds Journal</td><td>5000000</td><td>4</td></tr><tr><td>Albania</td><td>The Minds Journal</td><td>5000000</td><td>5</td></tr><tr><td>Albania</td><td>The Minds Journal</td><td>5000000</td><td>6</td></tr><tr><td>Albania</td><td>The Minds Journal</td><td>5000000</td><td>7</td></tr><tr><td>Albania</td><td>The Minds Journal</td><td>5000000</td><td>8</td></tr><tr><td>Albania</td><td>Bored Panda</td><td>2000000</td><td>9</td></tr><tr><td>Albania</td><td>Bored Panda</td><td>2000000</td><td>10</td></tr><tr><td>Albania</td><td>Bored Panda</td><td>2000000</td><td>11</td></tr><tr><td>Albania</td><td>Bored Panda</td><td>2000000</td><td>12</td></tr><tr><td>Albania</td><td>Bored Panda</td><td>2000000</td><td>13</td></tr><tr><td>Albania</td><td>Bored Panda</td><td>2000000</td><td>14</td></tr><tr><td>Albania</td><td>Bored Panda</td><td>2000000</td><td>15</td></tr><tr><td>Albania</td><td>Bored Panda</td><td>2000000</td><td>16</td></tr><tr><td>Albania</td><td>Bored Panda</td><td>2000000</td><td>17</td></tr><tr><td>Albania</td><td>Bored Panda</td><td>2000000</td><td>18</td></tr><tr><td>Albania</td><td>Bored Panda</td><td>2000000</td><td>19</td></tr><tr><td>Albania</td><td>Bored Panda</td><td>2000000</td><td>20</td></tr><tr><td>Albania</td><td>Bored Panda</td><td>2000000</td><td>21</td></tr><tr><td>Albania</td><td>Bored Panda</td><td>2000000</td><td>22</td></tr><tr><td>Albania</td><td>Bored Panda</td><td>2000000</td><td>23</td></tr><tr><td>Albania</td><td>Bored Panda</td><td>2000000</td><td>24</td></tr><tr><td>Albania</td><td>WeAreTeachers</td><td>500000</td><td>25</td></tr><tr><td>Albania</td><td>WeAreTeachers</td><td>500000</td><td>26</td></tr><tr><td>Albania</td><td>WeAreTeachers</td><td>500000</td><td>27</td></tr><tr><td>Albania</td><td>WeAreTeachers</td><td>500000</td><td>28</td></tr><tr><td>Albania</td><td>WeAreTeachers</td><td>500000</td><td>29</td></tr><tr><td>Albania</td><td>WeAreTeachers</td><td>500000</td><td>30</td></tr><tr><td>Albania</td><td>WeAreTeachers</td><td>500000</td><td>31</td></tr><tr><td>Albania</td><td>WeAreTeachers</td><td>500000</td><td>32</td></tr><tr><td>Albania</td><td>One Little Project</td><td>472000</td><td>33</td></tr><tr><td>Albania</td><td>One Little Project</td><td>472000</td><td>34</td></tr><tr><td>Albania</td><td>One Little Project</td><td>472000</td><td>35</td></tr><tr><td>Albania</td><td>One Little Project</td><td>472000</td><td>36</td></tr><tr><td>Albania</td><td>One Little Project</td><td>472000</td><td>37</td></tr><tr><td>Albania</td><td>One Little Project</td><td>472000</td><td>38</td></tr><tr><td>Albania</td><td>One Little Project</td><td>472000</td><td>39</td></tr><tr><td>Albania</td><td>One Little Project</td><td>472000</td><td>40</td></tr><tr><td>Albania</td><td>The Cottage Market</td><td>364000</td><td>41</td></tr><tr><td>Albania</td><td>The Cottage Market</td><td>364000</td><td>42</td></tr><tr><td>Albania</td><td>The Cottage Market</td><td>364000</td><td>43</td></tr><tr><td>Albania</td><td>The Cottage Market</td><td>364000</td><td>44</td></tr><tr><td>Albania</td><td>Beautiful Makeup Search</td><td>159000</td><td>45</td></tr><tr><td>Albania</td><td>Beautiful Makeup Search</td><td>159000</td><td>46</td></tr><tr><td>Albania</td><td>Beautiful Makeup Search</td><td>159000</td><td>47</td></tr><tr><td>Albania</td><td>Beautiful Makeup Search</td><td>159000</td><td>48</td></tr><tr><td>Albania</td><td>MojisStyle</td><td>117000</td><td>49</td></tr><tr><td>Albania</td><td>MojisStyle</td><td>117000</td><td>50</td></tr><tr><td>Albania</td><td>MojisStyle</td><td>117000</td><td>51</td></tr><tr><td>Albania</td><td>MojisStyle</td><td>117000</td><td>52</td></tr><tr><td>Albania</td><td>MojisStyle</td><td>117000</td><td>53</td></tr><tr><td>Albania</td><td>MojisStyle</td><td>117000</td><td>54</td></tr><tr><td>Albania</td><td>MojisStyle</td><td>117000</td><td>55</td></tr><tr><td>Albania</td><td>MojisStyle</td><td>117000</td><td>56</td></tr><tr><td>Albania</td><td>MojisStyle</td><td>117000</td><td>57</td></tr><tr><td>Albania</td><td>Hairs Out of Place</td><td>44000</td><td>58</td></tr><tr><td>Albania</td><td>Hairs Out of Place</td><td>44000</td><td>59</td></tr><tr><td>Albania</td><td>Hairs Out of Place</td><td>44000</td><td>60</td></tr><tr><td>Albania</td><td>Hairs Out of Place</td><td>44000</td><td>61</td></tr><tr><td>Albania</td><td>Hairs Out of Place</td><td>44000</td><td>62</td></tr><tr><td>Albania</td><td>Hairs Out of Place</td><td>44000</td><td>63</td></tr><tr><td>Albania</td><td>Hairs Out of Place</td><td>44000</td><td>64</td></tr><tr><td>Albania</td><td>Hairs Out of Place</td><td>44000</td><td>65</td></tr><tr><td>Albania</td><td>Projects with Kids</td><td>20000</td><td>66</td></tr><tr><td>Albania</td><td>Projects with Kids</td><td>20000</td><td>67</td></tr><tr><td>Albania</td><td>Projects with Kids</td><td>20000</td><td>68</td></tr><tr><td>Albania</td><td>Projects with Kids</td><td>20000</td><td>69</td></tr><tr><td>Albania</td><td>Projects with Kids</td><td>20000</td><td>70</td></tr><tr><td>Albania</td><td>Projects with Kids</td><td>20000</td><td>71</td></tr><tr><td>Albania</td><td>Projects with Kids</td><td>20000</td><td>72</td></tr><tr><td>Albania</td><td>Projects with Kids</td><td>20000</td><td>73</td></tr><tr><td>Albania</td><td>Projects with Kids</td><td>20000</td><td>74</td></tr><tr><td>Albania</td><td>Projects with Kids</td><td>20000</td><td>75</td></tr><tr><td>Albania</td><td>Projects with Kids</td><td>20000</td><td>76</td></tr><tr><td>Albania</td><td>Projects with Kids</td><td>20000</td><td>77</td></tr><tr><td>Albania</td><td>Projects with Kids</td><td>20000</td><td>78</td></tr><tr><td>Albania</td><td>Projects with Kids</td><td>20000</td><td>79</td></tr><tr><td>Albania</td><td>Projects with Kids</td><td>20000</td><td>80</td></tr><tr><td>Albania</td><td>Projects with Kids</td><td>20000</td><td>81</td></tr><tr><td>Albania</td><td>Projects with Kids</td><td>20000</td><td>82</td></tr><tr><td>Albania</td><td>Projects with Kids</td><td>20000</td><td>83</td></tr><tr><td>Albania</td><td>Dakota Bronson</td><td>168</td><td>84</td></tr><tr><td>Albania</td><td>Dakota Bronson</td><td>168</td><td>85</td></tr><tr><td>Albania</td><td>Dakota Bronson</td><td>168</td><td>86</td></tr><tr><td>Albania</td><td>Dakota Bronson</td><td>168</td><td>87</td></tr><tr><td>Algeria</td><td>Apartment Therapy</td><td>5000000</td><td>1</td></tr><tr><td>Algeria</td><td>Apartment Therapy</td><td>5000000</td><td>2</td></tr><tr><td>Algeria</td><td>Apartment Therapy</td><td>5000000</td><td>3</td></tr><tr><td>Algeria</td><td>Apartment Therapy</td><td>5000000</td><td>4</td></tr><tr><td>Algeria</td><td>YourTango</td><td>942000</td><td>5</td></tr><tr><td>Algeria</td><td>YourTango</td><td>942000</td><td>6</td></tr><tr><td>Algeria</td><td>YourTango</td><td>942000</td><td>7</td></tr><tr><td>Algeria</td><td>YourTango</td><td>942000</td><td>8</td></tr><tr><td>Algeria</td><td>YourTango</td><td>942000</td><td>9</td></tr><tr><td>Algeria</td><td>YourTango</td><td>942000</td><td>10</td></tr><tr><td>Algeria</td><td>YourTango</td><td>942000</td><td>11</td></tr><tr><td>Algeria</td><td>YourTango</td><td>942000</td><td>12</td></tr><tr><td>Algeria</td><td>YourTango</td><td>942000</td><td>13</td></tr><tr><td>Algeria</td><td>YourTango</td><td>942000</td><td>14</td></tr><tr><td>Algeria</td><td>YourTango</td><td>942000</td><td>15</td></tr><tr><td>Algeria</td><td>YourTango</td><td>942000</td><td>16</td></tr><tr><td>Algeria</td><td>YourTango</td><td>942000</td><td>17</td></tr><tr><td>Algeria</td><td>YourTango</td><td>942000</td><td>18</td></tr><tr><td>Algeria</td><td>YourTango</td><td>942000</td><td>19</td></tr><tr><td>Algeria</td><td>YourTango</td><td>942000</td><td>20</td></tr><tr><td>Algeria</td><td>YourTango</td><td>942000</td><td>21</td></tr><tr><td>Algeria</td><td>YourTango</td><td>942000</td><td>22</td></tr><tr><td>Algeria</td><td>YourTango</td><td>942000</td><td>23</td></tr><tr><td>Algeria</td><td>YourTango</td><td>942000</td><td>24</td></tr><tr><td>Algeria</td><td>YourTango</td><td>942000</td><td>25</td></tr><tr><td>Algeria</td><td>YourTango</td><td>942000</td><td>26</td></tr><tr><td>Algeria</td><td>YourTango</td><td>942000</td><td>27</td></tr><tr><td>Algeria</td><td>YourTango</td><td>942000</td><td>28</td></tr><tr><td>Algeria</td><td>YourTango</td><td>942000</td><td>29</td></tr><tr><td>Algeria</td><td>YourTango</td><td>942000</td><td>30</td></tr><tr><td>Algeria</td><td>YourTango</td><td>942000</td><td>31</td></tr><tr><td>Algeria</td><td>YourTango</td><td>942000</td><td>32</td></tr><tr><td>Algeria</td><td>YourTango</td><td>942000</td><td>33</td></tr><tr><td>Algeria</td><td>YourTango</td><td>942000</td><td>34</td></tr><tr><td>Algeria</td><td>YourTango</td><td>942000</td><td>35</td></tr><tr><td>Algeria</td><td>YourTango</td><td>942000</td><td>36</td></tr><tr><td>Algeria</td><td>YourTango</td><td>942000</td><td>37</td></tr><tr><td>Algeria</td><td>YourTango</td><td>942000</td><td>38</td></tr><tr><td>Algeria</td><td>YourTango</td><td>942000</td><td>39</td></tr><tr><td>Algeria</td><td>YourTango</td><td>942000</td><td>40</td></tr><tr><td>Algeria</td><td>YourTango</td><td>942000</td><td>41</td></tr><tr><td>Algeria</td><td>YourTango</td><td>942000</td><td>42</td></tr><tr><td>Algeria</td><td>YourTango</td><td>942000</td><td>43</td></tr><tr><td>Algeria</td><td>YourTango</td><td>942000</td><td>44</td></tr><tr><td>Algeria</td><td>YourTango</td><td>942000</td><td>45</td></tr><tr><td>Algeria</td><td>YourTango</td><td>942000</td><td>46</td></tr><tr><td>Algeria</td><td>YourTango</td><td>942000</td><td>47</td></tr><tr><td>Algeria</td><td>YourTango</td><td>942000</td><td>48</td></tr><tr><td>Algeria</td><td>YourTango</td><td>942000</td><td>49</td></tr><tr><td>Algeria</td><td>YourTango</td><td>942000</td><td>50</td></tr><tr><td>Algeria</td><td>YourTango</td><td>942000</td><td>51</td></tr><tr><td>Algeria</td><td>YourTango</td><td>942000</td><td>52</td></tr><tr><td>Algeria</td><td>Mens Fashion - LIFESTYLE BY PS </td><td>613000</td><td>53</td></tr><tr><td>Algeria</td><td>Mens Fashion - LIFESTYLE BY PS </td><td>613000</td><td>54</td></tr><tr><td>Algeria</td><td>Mens Fashion - LIFESTYLE BY PS </td><td>613000</td><td>55</td></tr><tr><td>Algeria</td><td>Mens Fashion - LIFESTYLE BY PS </td><td>613000</td><td>56</td></tr><tr><td>Algeria</td><td>Mens Fashion - LIFESTYLE BY PS </td><td>613000</td><td>57</td></tr><tr><td>Algeria</td><td>Mens Fashion - LIFESTYLE BY PS </td><td>613000</td><td>58</td></tr><tr><td>Algeria</td><td>Mens Fashion - LIFESTYLE BY PS </td><td>613000</td><td>59</td></tr><tr><td>Algeria</td><td>Mens Fashion - LIFESTYLE BY PS </td><td>613000</td><td>60</td></tr><tr><td>Algeria</td><td>Hand Luggage Only</td><td>459000</td><td>61</td></tr><tr><td>Algeria</td><td>Hand Luggage Only</td><td>459000</td><td>62</td></tr><tr><td>Algeria</td><td>Hand Luggage Only</td><td>459000</td><td>63</td></tr><tr><td>Algeria</td><td>Hand Luggage Only</td><td>459000</td><td>64</td></tr><tr><td>Algeria</td><td>Hand Luggage Only</td><td>459000</td><td>65</td></tr><tr><td>Algeria</td><td>Hand Luggage Only</td><td>459000</td><td>66</td></tr><tr><td>Algeria</td><td>Hand Luggage Only</td><td>459000</td><td>67</td></tr><tr><td>Algeria</td><td>Hand Luggage Only</td><td>459000</td><td>68</td></tr><tr><td>Algeria</td><td>Hand Luggage Only</td><td>459000</td><td>69</td></tr><tr><td>Algeria</td><td>Hand Luggage Only</td><td>459000</td><td>70</td></tr><tr><td>Algeria</td><td>Hand Luggage Only</td><td>459000</td><td>71</td></tr><tr><td>Algeria</td><td>Hand Luggage Only</td><td>459000</td><td>72</td></tr><tr><td>Algeria</td><td>ELLE Germany</td><td>326000</td><td>73</td></tr><tr><td>Algeria</td><td>Iva A. Ursano Amazing Me Movement</td><td>228000</td><td>74</td></tr><tr><td>Algeria</td><td>Iva A. Ursano Amazing Me Movement</td><td>228000</td><td>75</td></tr><tr><td>Algeria</td><td>Iva A. Ursano Amazing Me Movement</td><td>228000</td><td>76</td></tr><tr><td>Algeria</td><td>Iva A. Ursano Amazing Me Movement</td><td>228000</td><td>77</td></tr><tr><td>Algeria</td><td>Fun Life Crisis</td><td>130000</td><td>78</td></tr><tr><td>Algeria</td><td>Shaunna @ Fantastic Fun and Learning</td><td>128000</td><td>79</td></tr><tr><td>Algeria</td><td>Shaunna @ Fantastic Fun and Learning</td><td>128000</td><td>80</td></tr><tr><td>Algeria</td><td>Shaunna @ Fantastic Fun and Learning</td><td>128000</td><td>81</td></tr><tr><td>Algeria</td><td>Shaunna @ Fantastic Fun and Learning</td><td>128000</td><td>82</td></tr><tr><td>Algeria</td><td>BudgetDiet</td><td>73000</td><td>83</td></tr><tr><td>Algeria</td><td>BudgetDiet</td><td>73000</td><td>84</td></tr><tr><td>Algeria</td><td>BudgetDiet</td><td>73000</td><td>85</td></tr><tr><td>Algeria</td><td>BudgetDiet</td><td>73000</td><td>86</td></tr><tr><td>Algeria</td><td>The Resourceful Mama</td><td>52000</td><td>87</td></tr><tr><td>Algeria</td><td>The Resourceful Mama</td><td>52000</td><td>88</td></tr><tr><td>Algeria</td><td>The Resourceful Mama</td><td>52000</td><td>89</td></tr><tr><td>Algeria</td><td>The Resourceful Mama</td><td>52000</td><td>90</td></tr><tr><td>Algeria</td><td>Boss Babe Chronicles | Personal Development, Finances, Self Care</td><td>45000</td><td>91</td></tr><tr><td>Algeria</td><td>Caroline|CarolineVencil.com | Saving & Making Money | Pro Blogger</td><td>42000</td><td>92</td></tr><tr><td>Algeria</td><td>Caroline|CarolineVencil.com | Saving & Making Money | Pro Blogger</td><td>42000</td><td>93</td></tr><tr><td>Algeria</td><td>Caroline|CarolineVencil.com | Saving & Making Money | Pro Blogger</td><td>42000</td><td>94</td></tr><tr><td>Algeria</td><td>Caroline|CarolineVencil.com | Saving & Making Money | Pro Blogger</td><td>42000</td><td>95</td></tr><tr><td>American Samoa</td><td>Mamas Uncut</td><td>8000000</td><td>1</td></tr><tr><td>American Samoa</td><td>Mamas Uncut</td><td>8000000</td><td>2</td></tr><tr><td>American Samoa</td><td>Mamas Uncut</td><td>8000000</td><td>3</td></tr><tr><td>American Samoa</td><td>Mamas Uncut</td><td>8000000</td><td>4</td></tr><tr><td>American Samoa</td><td>BuzzFeed</td><td>5000000</td><td>5</td></tr><tr><td>American Samoa</td><td>BuzzFeed</td><td>5000000</td><td>6</td></tr><tr><td>American Samoa</td><td>BuzzFeed</td><td>5000000</td><td>7</td></tr><tr><td>American Samoa</td><td>BuzzFeed</td><td>5000000</td><td>8</td></tr><tr><td>American Samoa</td><td>BuzzFeed</td><td>5000000</td><td>9</td></tr><tr><td>American Samoa</td><td>BuzzFeed</td><td>5000000</td><td>10</td></tr><tr><td>American Samoa</td><td>BuzzFeed</td><td>5000000</td><td>11</td></tr><tr><td>American Samoa</td><td>BuzzFeed</td><td>5000000</td><td>12</td></tr><tr><td>American Samoa</td><td>BuzzFeed</td><td>5000000</td><td>13</td></tr><tr><td>American Samoa</td><td>BuzzFeed</td><td>5000000</td><td>14</td></tr><tr><td>American Samoa</td><td>BuzzFeed</td><td>5000000</td><td>15</td></tr><tr><td>American Samoa</td><td>BuzzFeed</td><td>5000000</td><td>16</td></tr><tr><td>American Samoa</td><td>wikiHow</td><td>2000000</td><td>17</td></tr><tr><td>American Samoa</td><td>wikiHow</td><td>2000000</td><td>18</td></tr><tr><td>American Samoa</td><td>wikiHow</td><td>2000000</td><td>19</td></tr><tr><td>American Samoa</td><td>wikiHow</td><td>2000000</td><td>20</td></tr><tr><td>American Samoa</td><td>Homesthetics.net</td><td>556000</td><td>21</td></tr><tr><td>American Samoa</td><td>Homesthetics.net</td><td>556000</td><td>22</td></tr><tr><td>American Samoa</td><td>Homesthetics.net</td><td>556000</td><td>23</td></tr><tr><td>American Samoa</td><td>Homesthetics.net</td><td>556000</td><td>24</td></tr><tr><td>American Samoa</td><td>Homesthetics.net</td><td>556000</td><td>25</td></tr><tr><td>American Samoa</td><td>Homesthetics.net</td><td>556000</td><td>26</td></tr><tr><td>American Samoa</td><td>Homesthetics.net</td><td>556000</td><td>27</td></tr><tr><td>American Samoa</td><td>Homesthetics.net</td><td>556000</td><td>28</td></tr><tr><td>American Samoa</td><td>Homesthetics.net</td><td>556000</td><td>29</td></tr><tr><td>American Samoa</td><td>Homesthetics.net</td><td>556000</td><td>30</td></tr><tr><td>American Samoa</td><td>Homesthetics.net</td><td>556000</td><td>31</td></tr><tr><td>American Samoa</td><td>Homesthetics.net</td><td>556000</td><td>32</td></tr><tr><td>American Samoa</td><td>Homesthetics.net</td><td>556000</td><td>33</td></tr><tr><td>American Samoa</td><td>Homesthetics.net</td><td>556000</td><td>34</td></tr><tr><td>American Samoa</td><td>Homesthetics.net</td><td>556000</td><td>35</td></tr><tr><td>American Samoa</td><td>Homesthetics.net</td><td>556000</td><td>36</td></tr><tr><td>American Samoa</td><td>Byrdie</td><td>538000</td><td>37</td></tr><tr><td>American Samoa</td><td>Byrdie</td><td>538000</td><td>38</td></tr><tr><td>American Samoa</td><td>Byrdie</td><td>538000</td><td>39</td></tr><tr><td>American Samoa</td><td>Byrdie</td><td>538000</td><td>40</td></tr><tr><td>American Samoa</td><td>aufeminin</td><td>494000</td><td>41</td></tr><tr><td>American Samoa</td><td>aufeminin</td><td>494000</td><td>42</td></tr><tr><td>American Samoa</td><td>aufeminin</td><td>494000</td><td>43</td></tr><tr><td>American Samoa</td><td>aufeminin</td><td>494000</td><td>44</td></tr><tr><td>American Samoa</td><td>Thriving Home</td><td>56000</td><td>45</td></tr><tr><td>American Samoa</td><td>Thriving Home</td><td>56000</td><td>46</td></tr><tr><td>American Samoa</td><td>Thriving Home</td><td>56000</td><td>47</td></tr><tr><td>American Samoa</td><td>Thriving Home</td><td>56000</td><td>48</td></tr><tr><td>American Samoa</td><td>IdeasDonuts</td><td>47000</td><td>49</td></tr><tr><td>American Samoa</td><td>IdeasDonuts</td><td>47000</td><td>50</td></tr><tr><td>American Samoa</td><td>IdeasDonuts</td><td>47000</td><td>51</td></tr><tr><td>American Samoa</td><td>IdeasDonuts</td><td>47000</td><td>52</td></tr><tr><td>American Samoa</td><td>IdeasDonuts</td><td>47000</td><td>53</td></tr><tr><td>American Samoa</td><td>IdeasDonuts</td><td>47000</td><td>54</td></tr><tr><td>American Samoa</td><td>IdeasDonuts</td><td>47000</td><td>55</td></tr><tr><td>American Samoa</td><td>IdeasDonuts</td><td>47000</td><td>56</td></tr><tr><td>American Samoa</td><td>TheFab20s | Travel+Food+DIY+Listicles</td><td>42000</td><td>57</td></tr><tr><td>American Samoa</td><td>TheFab20s | Travel+Food+DIY+Listicles</td><td>42000</td><td>58</td></tr><tr><td>American Samoa</td><td>TheFab20s | Travel+Food+DIY+Listicles</td><td>42000</td><td>59</td></tr><tr><td>American Samoa</td><td>TheFab20s | Travel+Food+DIY+Listicles</td><td>42000</td><td>60</td></tr><tr><td>American Samoa</td><td>TheFab20s | Travel+Food+DIY+Listicles</td><td>42000</td><td>61</td></tr><tr><td>American Samoa</td><td>TheFab20s | Travel+Food+DIY+Listicles</td><td>42000</td><td>62</td></tr><tr><td>American Samoa</td><td>TheFab20s | Travel+Food+DIY+Listicles</td><td>42000</td><td>63</td></tr><tr><td>American Samoa</td><td>TheFab20s | Travel+Food+DIY+Listicles</td><td>42000</td><td>64</td></tr><tr><td>American Samoa</td><td>TheFab20s | Travel+Food+DIY+Listicles</td><td>42000</td><td>65</td></tr><tr><td>American Samoa</td><td>TheFab20s | Travel+Food+DIY+Listicles</td><td>42000</td><td>66</td></tr><tr><td>American Samoa</td><td>TheFab20s | Travel+Food+DIY+Listicles</td><td>42000</td><td>67</td></tr><tr><td>American Samoa</td><td>TheFab20s | Travel+Food+DIY+Listicles</td><td>42000</td><td>68</td></tr><tr><td>American Samoa</td><td>TheFab20s | Travel+Food+DIY+Listicles</td><td>42000</td><td>69</td></tr><tr><td>American Samoa</td><td>Homease</td><td>18000</td><td>70</td></tr><tr><td>American Samoa</td><td>Homease</td><td>18000</td><td>71</td></tr><tr><td>American Samoa</td><td>Homease</td><td>18000</td><td>72</td></tr><tr><td>American Samoa</td><td>Homease</td><td>18000</td><td>73</td></tr><tr><td>American Samoa</td><td>K&S Precision Metals</td><td>5</td><td>74</td></tr><tr><td>American Samoa</td><td>K&S Precision Metals</td><td>5</td><td>75</td></tr><tr><td>American Samoa</td><td>K&S Precision Metals</td><td>5</td><td>76</td></tr><tr><td>American Samoa</td><td>K&S Precision Metals</td><td>5</td><td>77</td></tr><tr><td>Andorra</td><td>Teachers Pay Teachers</td><td>1000000</td><td>1</td></tr><tr><td>Andorra</td><td>Teachers Pay Teachers</td><td>1000000</td><td>2</td></tr><tr><td>Andorra</td><td>Teachers Pay Teachers</td><td>1000000</td><td>3</td></tr><tr><td>Andorra</td><td>Teachers Pay Teachers</td><td>1000000</td><td>4</td></tr><tr><td>Andorra</td><td>Teachers Pay Teachers</td><td>1000000</td><td>5</td></tr><tr><td>Andorra</td><td>The Best Ideas for Kids</td><td>903000</td><td>6</td></tr><tr><td>Andorra</td><td>The Best Ideas for Kids</td><td>903000</td><td>7</td></tr><tr><td>Andorra</td><td>The Best Ideas for Kids</td><td>903000</td><td>8</td></tr><tr><td>Andorra</td><td>The Best Ideas for Kids</td><td>903000</td><td>9</td></tr><tr><td>Andorra</td><td>The Best Ideas for Kids</td><td>902000</td><td>10</td></tr><tr><td>Andorra</td><td>The Best Ideas for Kids</td><td>902000</td><td>11</td></tr><tr><td>Andorra</td><td>The Best Ideas for Kids</td><td>902000</td><td>12</td></tr><tr><td>Andorra</td><td>The Best Ideas for Kids</td><td>902000</td><td>13</td></tr><tr><td>Andorra</td><td>Glaminati</td><td>799000</td><td>14</td></tr><tr><td>Andorra</td><td>Glaminati</td><td>799000</td><td>15</td></tr><tr><td>Andorra</td><td>Glaminati</td><td>799000</td><td>16</td></tr><tr><td>Andorra</td><td>Glaminati</td><td>799000</td><td>17</td></tr><tr><td>Andorra</td><td>Archzine.net</td><td>353000</td><td>18</td></tr><tr><td>Andorra</td><td>Archzine.net</td><td>353000</td><td>19</td></tr><tr><td>Andorra</td><td>Archzine.net</td><td>353000</td><td>20</td></tr><tr><td>Andorra</td><td>Archzine.net</td><td>353000</td><td>21</td></tr><tr><td>Andorra</td><td>Our Mindful Life</td><td>190000</td><td>22</td></tr><tr><td>Andorra</td><td>Our Mindful Life</td><td>190000</td><td>23</td></tr><tr><td>Andorra</td><td>Our Mindful Life</td><td>190000</td><td>24</td></tr><tr><td>Andorra</td><td>Our Mindful Life</td><td>190000</td><td>25</td></tr><tr><td>Andorra</td><td>Our Mindful Life</td><td>190000</td><td>26</td></tr><tr><td>Andorra</td><td>Our Mindful Life</td><td>190000</td><td>27</td></tr><tr><td>Andorra</td><td>Our Mindful Life</td><td>190000</td><td>28</td></tr><tr><td>Andorra</td><td>Our Mindful Life</td><td>190000</td><td>29</td></tr><tr><td>Andorra</td><td>Our Mindful Life</td><td>190000</td><td>30</td></tr><tr><td>Andorra</td><td>Our Mindful Life</td><td>190000</td><td>31</td></tr><tr><td>Andorra</td><td>Our Mindful Life</td><td>190000</td><td>32</td></tr><tr><td>Andorra</td><td>Our Mindful Life</td><td>190000</td><td>33</td></tr><tr><td>Andorra</td><td>Our Mindful Life</td><td>190000</td><td>34</td></tr><tr><td>Andorra</td><td>Our Mindful Life</td><td>190000</td><td>35</td></tr><tr><td>Andorra</td><td>Our Mindful Life</td><td>190000</td><td>36</td></tr><tr><td>Andorra</td><td>Our Mindful Life</td><td>190000</td><td>37</td></tr><tr><td>Andorra</td><td>Our Mindful Life</td><td>190000</td><td>38</td></tr><tr><td>Andorra</td><td>Our Mindful Life</td><td>190000</td><td>39</td></tr><tr><td>Andorra</td><td>Our Mindful Life</td><td>190000</td><td>40</td></tr><tr><td>Andorra</td><td>Our Mindful Life</td><td>190000</td><td>41</td></tr><tr><td>Andorra</td><td>Our Mindful Life</td><td>190000</td><td>42</td></tr><tr><td>Andorra</td><td>Our Mindful Life</td><td>190000</td><td>43</td></tr><tr><td>Andorra</td><td>Our Mindful Life</td><td>190000</td><td>44</td></tr><tr><td>Andorra</td><td>Our Mindful Life</td><td>190000</td><td>45</td></tr><tr><td>Andorra</td><td>Birch Event Design</td><td>6000</td><td>46</td></tr><tr><td>Andorra</td><td>Birch Event Design</td><td>6000</td><td>47</td></tr><tr><td>Andorra</td><td>Birch Event Design</td><td>6000</td><td>48</td></tr><tr><td>Andorra</td><td>Birch Event Design</td><td>6000</td><td>49</td></tr><tr><td>Andorra</td><td>Isaac Yates</td><td>1</td><td>50</td></tr><tr><td>Andorra</td><td>Isaac Yates</td><td>1</td><td>51</td></tr><tr><td>Andorra</td><td>Isaac Yates</td><td>1</td><td>52</td></tr><tr><td>Andorra</td><td>Isaac Yates</td><td>1</td><td>53</td></tr><tr><td>Angola</td><td>CraftGossip.com</td><td>502000</td><td>1</td></tr><tr><td>Angola</td><td>CraftGossip.com</td><td>502000</td><td>2</td></tr><tr><td>Angola</td><td>CraftGossip.com</td><td>502000</td><td>3</td></tr><tr><td>Angola</td><td>CraftGossip.com</td><td>502000</td><td>4</td></tr><tr><td>Angola</td><td>CraftGossip.com</td><td>502000</td><td>5</td></tr><tr><td>Angola</td><td>CraftGossip.com</td><td>502000</td><td>6</td></tr><tr><td>Angola</td><td>CraftGossip.com</td><td>502000</td><td>7</td></tr><tr><td>Angola</td><td>CraftGossip.com</td><td>502000</td><td>8</td></tr><tr><td>Angola</td><td>CraftGossip.com</td><td>502000</td><td>9</td></tr><tr><td>Angola</td><td>CraftGossip.com</td><td>502000</td><td>10</td></tr><tr><td>Angola</td><td>CraftGossip.com</td><td>502000</td><td>11</td></tr><tr><td>Angola</td><td>CraftGossip.com</td><td>502000</td><td>12</td></tr><tr><td>Angola</td><td>CraftGossip.com</td><td>502000</td><td>13</td></tr><tr><td>Angola</td><td>Pathway 2 Success</td><td>56000</td><td>14</td></tr><tr><td>Angola</td><td>Pathway 2 Success</td><td>56000</td><td>15</td></tr><tr><td>Angola</td><td>Pathway 2 Success</td><td>56000</td><td>16</td></tr><tr><td>Angola</td><td>Pathway 2 Success</td><td>56000</td><td>17</td></tr><tr><td>Angola</td><td>Travel Destinations Tips Essentials Packing List Stuffed Suitcase</td><td>25000</td><td>18</td></tr><tr><td>Angola</td><td>Travel Destinations Tips Essentials Packing List Stuffed Suitcase</td><td>25000</td><td>19</td></tr><tr><td>Angola</td><td>Travel Destinations Tips Essentials Packing List Stuffed Suitcase</td><td>25000</td><td>20</td></tr><tr><td>Angola</td><td>Travel Destinations Tips Essentials Packing List Stuffed Suitcase</td><td>25000</td><td>21</td></tr><tr><td>Angola</td><td>Joel Dropships | Branded Dropshipping For Beginners 2022</td><td>6000</td><td>22</td></tr><tr><td>Angola</td><td>Joel Dropships | Branded Dropshipping For Beginners 2022</td><td>6000</td><td>23</td></tr><tr><td>Angola</td><td>Joel Dropships | Branded Dropshipping For Beginners 2022</td><td>6000</td><td>24</td></tr><tr><td>Angola</td><td>Joel Dropships | Branded Dropshipping For Beginners 2022</td><td>6000</td><td>25</td></tr><tr><td>Anguilla</td><td>Kara's Party Ideas .com</td><td>736000</td><td>1</td></tr><tr><td>Anguilla</td><td>Kara's Party Ideas .com</td><td>736000</td><td>2</td></tr><tr><td>Anguilla</td><td>Kara's Party Ideas .com</td><td>736000</td><td>3</td></tr><tr><td>Anguilla</td><td>Kara's Party Ideas .com</td><td>736000</td><td>4</td></tr><tr><td>Anguilla</td><td>Kristen | Lifestyle, Mom Tips & Teacher Stuff Blog</td><td>92000</td><td>5</td></tr><tr><td>Anguilla</td><td>Kristen | Lifestyle, Mom Tips & Teacher Stuff Blog</td><td>92000</td><td>6</td></tr><tr><td>Anguilla</td><td>Kristen | Lifestyle, Mom Tips & Teacher Stuff Blog</td><td>92000</td><td>7</td></tr><tr><td>Anguilla</td><td>Kristen | Lifestyle, Mom Tips & Teacher Stuff Blog</td><td>92000</td><td>8</td></tr><tr><td>Anguilla</td><td>Kristen | Lifestyle, Mom Tips & Teacher Stuff Blog</td><td>92000</td><td>9</td></tr><tr><td>Anguilla</td><td>Kristen | Lifestyle, Mom Tips & Teacher Stuff Blog</td><td>92000</td><td>10</td></tr><tr><td>Anguilla</td><td>Kristen | Lifestyle, Mom Tips & Teacher Stuff Blog</td><td>92000</td><td>11</td></tr><tr><td>Anguilla</td><td>Kristen | Lifestyle, Mom Tips & Teacher Stuff Blog</td><td>92000</td><td>12</td></tr><tr><td>Anguilla</td><td>Kristen | Lifestyle, Mom Tips & Teacher Stuff Blog</td><td>92000</td><td>13</td></tr><tr><td>Anguilla</td><td>Lady Decluttered | Decluttering, Organizing, & Simple Living Tips</td><td>88000</td><td>14</td></tr><tr><td>Anguilla</td><td>Lady Decluttered | Decluttering, Organizing, & Simple Living Tips</td><td>88000</td><td>15</td></tr><tr><td>Anguilla</td><td>Lady Decluttered | Decluttering, Organizing, & Simple Living Tips</td><td>88000</td><td>16</td></tr><tr><td>Anguilla</td><td>Lady Decluttered | Decluttering, Organizing, & Simple Living Tips</td><td>88000</td><td>17</td></tr><tr><td>Anguilla</td><td>Thank Your Body</td><td>85000</td><td>18</td></tr><tr><td>Anguilla</td><td>Thank Your Body</td><td>85000</td><td>19</td></tr><tr><td>Anguilla</td><td>Thank Your Body</td><td>85000</td><td>20</td></tr><tr><td>Anguilla</td><td>Thank Your Body</td><td>85000</td><td>21</td></tr><tr><td>Anguilla</td><td>Thank Your Body</td><td>85000</td><td>22</td></tr><tr><td>Anguilla</td><td>Thank Your Body</td><td>85000</td><td>23</td></tr><tr><td>Anguilla</td><td>Thank Your Body</td><td>85000</td><td>24</td></tr><tr><td>Anguilla</td><td>Thank Your Body</td><td>85000</td><td>25</td></tr><tr><td>Anguilla</td><td>Thank Your Body</td><td>85000</td><td>26</td></tr><tr><td>Anguilla</td><td>Girl Crafts</td><td>60000</td><td>27</td></tr><tr><td>Anguilla</td><td>Girl Crafts</td><td>60000</td><td>28</td></tr><tr><td>Anguilla</td><td>Girl Crafts</td><td>60000</td><td>29</td></tr><tr><td>Anguilla</td><td>Girl Crafts</td><td>60000</td><td>30</td></tr><tr><td>Anguilla</td><td>Shaka Kai</td><td>7</td><td>31</td></tr><tr><td>Anguilla</td><td>Shaka Kai</td><td>7</td><td>32</td></tr><tr><td>Anguilla</td><td>Shaka Kai</td><td>7</td><td>33</td></tr><tr><td>Anguilla</td><td>Shaka Kai</td><td>7</td><td>34</td></tr><tr><td>Antarctica (the territory South of 60 deg S)</td><td>HikenDip</td><td>501000</td><td>1</td></tr><tr><td>Antarctica (the territory South of 60 deg S)</td><td>HikenDip</td><td>501000</td><td>2</td></tr><tr><td>Antarctica (the territory South of 60 deg S)</td><td>HikenDip</td><td>501000</td><td>3</td></tr><tr><td>Antarctica (the territory South of 60 deg S)</td><td>HikenDip</td><td>501000</td><td>4</td></tr><tr><td>Antarctica (the territory South of 60 deg S)</td><td>HikenDip</td><td>500000</td><td>5</td></tr><tr><td>Antarctica (the territory South of 60 deg S)</td><td>HikenDip</td><td>500000</td><td>6</td></tr><tr><td>Antarctica (the territory South of 60 deg S)</td><td>HikenDip</td><td>500000</td><td>7</td></tr><tr><td>Antarctica (the territory South of 60 deg S)</td><td>HikenDip</td><td>500000</td><td>8</td></tr><tr><td>Antarctica (the territory South of 60 deg S)</td><td>HikenDip</td><td>500000</td><td>9</td></tr><tr><td>Antarctica (the territory South of 60 deg S)</td><td>HikenDip</td><td>500000</td><td>10</td></tr><tr><td>Antarctica (the territory South of 60 deg S)</td><td>HikenDip</td><td>500000</td><td>11</td></tr><tr><td>Antarctica (the territory South of 60 deg S)</td><td>HikenDip</td><td>500000</td><td>12</td></tr><tr><td>Antarctica (the territory South of 60 deg S)</td><td>HikenDip</td><td>500000</td><td>13</td></tr><tr><td>Antarctica (the territory South of 60 deg S)</td><td>HikenDip</td><td>500000</td><td>14</td></tr><tr><td>Antarctica (the territory South of 60 deg S)</td><td>HikenDip</td><td>500000</td><td>15</td></tr><tr><td>Antarctica (the territory South of 60 deg S)</td><td>HikenDip</td><td>500000</td><td>16</td></tr><tr><td>Antarctica (the territory South of 60 deg S)</td><td>HikenDip</td><td>500000</td><td>17</td></tr><tr><td>Antarctica (the territory South of 60 deg S)</td><td>HikenDip</td><td>500000</td><td>18</td></tr><tr><td>Antarctica (the territory South of 60 deg S)</td><td>HikenDip</td><td>500000</td><td>19</td></tr><tr><td>Antarctica (the territory South of 60 deg S)</td><td>HikenDip</td><td>500000</td><td>20</td></tr><tr><td>Antarctica (the territory South of 60 deg S)</td><td>HikenDip</td><td>500000</td><td>21</td></tr><tr><td>Antarctica (the territory South of 60 deg S)</td><td>Town & Country Magazine</td><td>189000</td><td>22</td></tr><tr><td>Antarctica (the territory South of 60 deg S)</td><td>Town & Country Magazine</td><td>189000</td><td>23</td></tr><tr><td>Antarctica (the territory South of 60 deg S)</td><td>Town & Country Magazine</td><td>189000</td><td>24</td></tr><tr><td>Antarctica (the territory South of 60 deg S)</td><td>Town & Country Magazine</td><td>189000</td><td>25</td></tr><tr><td>Antarctica (the territory South of 60 deg S)</td><td>Skincare.com by L'Oréal</td><td>42000</td><td>26</td></tr><tr><td>Antarctica (the territory South of 60 deg S)</td><td>Skincare.com by L'Oréal</td><td>42000</td><td>27</td></tr><tr><td>Antarctica (the territory South of 60 deg S)</td><td>Skincare.com by L'Oréal</td><td>42000</td><td>28</td></tr><tr><td>Antarctica (the territory South of 60 deg S)</td><td>Skincare.com by L'Oréal</td><td>42000</td><td>29</td></tr><tr><td>Antigua and Barbuda</td><td>Country Living Magazine</td><td>1000000</td><td>1</td></tr><tr><td>Antigua and Barbuda</td><td>Country Living Magazine</td><td>1000000</td><td>2</td></tr><tr><td>Antigua and Barbuda</td><td>Country Living Magazine</td><td>1000000</td><td>3</td></tr><tr><td>Antigua and Barbuda</td><td>Country Living Magazine</td><td>1000000</td><td>4</td></tr><tr><td>Antigua and Barbuda</td><td>Country Living Magazine</td><td>1000000</td><td>5</td></tr><tr><td>Antigua and Barbuda</td><td>Country Living Magazine</td><td>1000000</td><td>6</td></tr><tr><td>Antigua and Barbuda</td><td>Country Living Magazine</td><td>1000000</td><td>7</td></tr><tr><td>Antigua and Barbuda</td><td>Country Living Magazine</td><td>1000000</td><td>8</td></tr><tr><td>Antigua and Barbuda</td><td>Country Living Magazine</td><td>1000000</td><td>9</td></tr><tr><td>Antigua and Barbuda</td><td>Country Living Magazine</td><td>1000000</td><td>10</td></tr><tr><td>Antigua and Barbuda</td><td>Country Living Magazine</td><td>1000000</td><td>11</td></tr><tr><td>Antigua and Barbuda</td><td>Country Living Magazine</td><td>1000000</td><td>12</td></tr><tr><td>Antigua and Barbuda</td><td>Country Living Magazine</td><td>1000000</td><td>13</td></tr><tr><td>Antigua and Barbuda</td><td>Country Living Magazine</td><td>1000000</td><td>14</td></tr><tr><td>Antigua and Barbuda</td><td>Country Living Magazine</td><td>1000000</td><td>15</td></tr><tr><td>Antigua and Barbuda</td><td>Country Living Magazine</td><td>1000000</td><td>16</td></tr><tr><td>Antigua and Barbuda</td><td>Country Living Magazine</td><td>1000000</td><td>17</td></tr><tr><td>Antigua and Barbuda</td><td>Country Living Magazine</td><td>1000000</td><td>18</td></tr><tr><td>Antigua and Barbuda</td><td>Country Living Magazine</td><td>1000000</td><td>19</td></tr><tr><td>Antigua and Barbuda</td><td>Country Living Magazine</td><td>1000000</td><td>20</td></tr><tr><td>Antigua and Barbuda</td><td>A Cultivated Nest</td><td>578000</td><td>21</td></tr><tr><td>Antigua and Barbuda</td><td>A Cultivated Nest</td><td>578000</td><td>22</td></tr><tr><td>Antigua and Barbuda</td><td>A Cultivated Nest</td><td>578000</td><td>23</td></tr><tr><td>Antigua and Barbuda</td><td>A Cultivated Nest</td><td>578000</td><td>24</td></tr><tr><td>Antigua and Barbuda</td><td>A Cultivated Nest</td><td>578000</td><td>25</td></tr><tr><td>Antigua and Barbuda</td><td>A Cultivated Nest</td><td>578000</td><td>26</td></tr><tr><td>Antigua and Barbuda</td><td>A Cultivated Nest</td><td>578000</td><td>27</td></tr><tr><td>Antigua and Barbuda</td><td>A Cultivated Nest</td><td>578000</td><td>28</td></tr><tr><td>Antigua and Barbuda</td><td>Sumcoco | Decor Ideas, Hairstyles, Nails Fashion Advice</td><td>306000</td><td>29</td></tr><tr><td>Antigua and Barbuda</td><td>Sumcoco | Decor Ideas, Hairstyles, Nails Fashion Advice</td><td>306000</td><td>30</td></tr><tr><td>Antigua and Barbuda</td><td>Sumcoco | Decor Ideas, Hairstyles, Nails Fashion Advice</td><td>306000</td><td>31</td></tr><tr><td>Antigua and Barbuda</td><td>Sumcoco | Decor Ideas, Hairstyles, Nails Fashion Advice</td><td>306000</td><td>32</td></tr><tr><td>Antigua and Barbuda</td><td>Sumcoco | Decor Ideas, Hairstyles, Nails Fashion Advice</td><td>306000</td><td>33</td></tr><tr><td>Antigua and Barbuda</td><td>Sumcoco | Decor Ideas, Hairstyles, Nails Fashion Advice</td><td>306000</td><td>34</td></tr><tr><td>Antigua and Barbuda</td><td>Sumcoco | Decor Ideas, Hairstyles, Nails Fashion Advice</td><td>306000</td><td>35</td></tr><tr><td>Antigua and Barbuda</td><td>Sumcoco | Decor Ideas, Hairstyles, Nails Fashion Advice</td><td>306000</td><td>36</td></tr><tr><td>Antigua and Barbuda</td><td>Sumcoco | Decor Ideas, Hairstyles, Nails Fashion Advice</td><td>306000</td><td>37</td></tr><tr><td>Antigua and Barbuda</td><td>Sumcoco | Decor Ideas, Hairstyles, Nails Fashion Advice</td><td>306000</td><td>38</td></tr><tr><td>Antigua and Barbuda</td><td>Trusted Travel Girl</td><td>3000</td><td>39</td></tr><tr><td>Antigua and Barbuda</td><td>Trusted Travel Girl</td><td>3000</td><td>40</td></tr><tr><td>Antigua and Barbuda</td><td>Trusted Travel Girl</td><td>3000</td><td>41</td></tr><tr><td>Antigua and Barbuda</td><td>Trusted Travel Girl</td><td>3000</td><td>42</td></tr><tr><td>Argentina</td><td>Cheezburger</td><td>2000000</td><td>1</td></tr><tr><td>Argentina</td><td>Cheezburger</td><td>2000000</td><td>2</td></tr><tr><td>Argentina</td><td>Cheezburger</td><td>2000000</td><td>3</td></tr><tr><td>Argentina</td><td>Cheezburger</td><td>2000000</td><td>4</td></tr><tr><td>Argentina</td><td>Next Luxury</td><td>800000</td><td>5</td></tr><tr><td>Argentina</td><td>Next Luxury</td><td>800000</td><td>6</td></tr><tr><td>Argentina</td><td>Next Luxury</td><td>800000</td><td>7</td></tr><tr><td>Argentina</td><td>Next Luxury</td><td>800000</td><td>8</td></tr><tr><td>Argentina</td><td>Next Luxury</td><td>800000</td><td>9</td></tr><tr><td>Argentina</td><td>Next Luxury</td><td>800000</td><td>10</td></tr><tr><td>Argentina</td><td>Next Luxury</td><td>800000</td><td>11</td></tr><tr><td>Argentina</td><td>Next Luxury</td><td>800000</td><td>12</td></tr><tr><td>Argentina</td><td>Next Luxury</td><td>800000</td><td>13</td></tr><tr><td>Argentina</td><td>Next Luxury</td><td>800000</td><td>14</td></tr><tr><td>Argentina</td><td>Next Luxury</td><td>800000</td><td>15</td></tr><tr><td>Argentina</td><td>Next Luxury</td><td>800000</td><td>16</td></tr><tr><td>Argentina</td><td>Next Luxury</td><td>800000</td><td>17</td></tr><tr><td>Argentina</td><td>Next Luxury</td><td>800000</td><td>18</td></tr><tr><td>Argentina</td><td>Next Luxury</td><td>800000</td><td>19</td></tr><tr><td>Argentina</td><td>Next Luxury</td><td>800000</td><td>20</td></tr><tr><td>Argentina</td><td>Next Luxury</td><td>800000</td><td>21</td></tr><tr><td>Argentina</td><td>Next Luxury</td><td>800000</td><td>22</td></tr><tr><td>Argentina</td><td>Next Luxury</td><td>800000</td><td>23</td></tr><tr><td>Argentina</td><td>Next Luxury</td><td>800000</td><td>24</td></tr><tr><td>Argentina</td><td>Next Luxury</td><td>800000</td><td>25</td></tr><tr><td>Argentina</td><td>Relationship Rules</td><td>296000</td><td>26</td></tr><tr><td>Argentina</td><td>Relationship Rules</td><td>296000</td><td>27</td></tr><tr><td>Argentina</td><td>Relationship Rules</td><td>296000</td><td>28</td></tr><tr><td>Argentina</td><td>Relationship Rules</td><td>296000</td><td>29</td></tr><tr><td>Argentina</td><td>Relationship Rules</td><td>296000</td><td>30</td></tr><tr><td>Argentina</td><td>Relationship Rules</td><td>296000</td><td>31</td></tr><tr><td>Argentina</td><td>Relationship Rules</td><td>296000</td><td>32</td></tr><tr><td>Argentina</td><td>Relationship Rules</td><td>296000</td><td>33</td></tr><tr><td>Argentina</td><td>This Tiny  Blue House</td><td>108000</td><td>34</td></tr><tr><td>Argentina</td><td>This Tiny  Blue House</td><td>108000</td><td>35</td></tr><tr><td>Argentina</td><td>This Tiny  Blue House</td><td>108000</td><td>36</td></tr><tr><td>Argentina</td><td>This Tiny  Blue House</td><td>108000</td><td>37</td></tr><tr><td>Argentina</td><td>Dagmar Bleasdale {Dagmar's Home}</td><td>105000</td><td>38</td></tr><tr><td>Argentina</td><td>Dagmar Bleasdale {Dagmar's Home}</td><td>105000</td><td>39</td></tr><tr><td>Argentina</td><td>Dagmar Bleasdale {Dagmar's Home}</td><td>105000</td><td>40</td></tr><tr><td>Argentina</td><td>Dagmar Bleasdale {Dagmar's Home}</td><td>105000</td><td>41</td></tr><tr><td>Argentina</td><td>The Practical Saver | Save Money</td><td>60000</td><td>42</td></tr><tr><td>Argentina</td><td>The Practical Saver | Save Money</td><td>60000</td><td>43</td></tr><tr><td>Argentina</td><td>The Practical Saver | Save Money</td><td>60000</td><td>44</td></tr><tr><td>Argentina</td><td>The Practical Saver | Save Money</td><td>60000</td><td>45</td></tr><tr><td>Argentina</td><td>Boop Decals</td><td>7000</td><td>46</td></tr><tr><td>Argentina</td><td>Boop Decals</td><td>7000</td><td>47</td></tr><tr><td>Argentina</td><td>Busy Bloooming Joy</td><td>7000</td><td>48</td></tr><tr><td>Argentina</td><td>Busy Bloooming Joy</td><td>7000</td><td>49</td></tr><tr><td>Argentina</td><td>Boop Decals</td><td>7000</td><td>50</td></tr><tr><td>Argentina</td><td>Boop Decals</td><td>7000</td><td>51</td></tr><tr><td>Argentina</td><td>Busy Bloooming Joy</td><td>7000</td><td>52</td></tr><tr><td>Argentina</td><td>Busy Bloooming Joy</td><td>7000</td><td>53</td></tr><tr><td>Argentina</td><td>Tony</td><td>3000</td><td>54</td></tr><tr><td>Armenia</td><td>Michelle {CraftyMorning.com}</td><td>892000</td><td>1</td></tr><tr><td>Armenia</td><td>Michelle {CraftyMorning.com}</td><td>892000</td><td>2</td></tr><tr><td>Armenia</td><td>Michelle {CraftyMorning.com}</td><td>892000</td><td>3</td></tr><tr><td>Armenia</td><td>Michelle {CraftyMorning.com}</td><td>892000</td><td>4</td></tr><tr><td>Armenia</td><td>Michelle {CraftyMorning.com}</td><td>892000</td><td>5</td></tr><tr><td>Armenia</td><td>Michelle {CraftyMorning.com}</td><td>892000</td><td>6</td></tr><tr><td>Armenia</td><td>Michelle {CraftyMorning.com}</td><td>892000</td><td>7</td></tr><tr><td>Armenia</td><td>Michelle {CraftyMorning.com}</td><td>892000</td><td>8</td></tr><tr><td>Armenia</td><td>Michelle {CraftyMorning.com}</td><td>892000</td><td>9</td></tr><tr><td>Armenia</td><td>DIYnCrafts.Com</td><td>746000</td><td>10</td></tr><tr><td>Armenia</td><td>DIYnCrafts.Com</td><td>746000</td><td>11</td></tr><tr><td>Armenia</td><td>DIYnCrafts.Com</td><td>746000</td><td>12</td></tr><tr><td>Armenia</td><td>DIYnCrafts.Com</td><td>746000</td><td>13</td></tr><tr><td>Armenia</td><td>ArchitectureArtDesigns</td><td>616000</td><td>14</td></tr><tr><td>Armenia</td><td>Craft-Mart</td><td>132000</td><td>15</td></tr><tr><td>Armenia</td><td>Craft-Mart</td><td>132000</td><td>16</td></tr><tr><td>Armenia</td><td>Craft-Mart</td><td>132000</td><td>17</td></tr><tr><td>Armenia</td><td>Craft-Mart</td><td>132000</td><td>18</td></tr><tr><td>Armenia</td><td>Of Life & Lisa | Lifestyle Blog</td><td>124000</td><td>19</td></tr><tr><td>Armenia</td><td>Of Life & Lisa | Lifestyle Blog</td><td>124000</td><td>20</td></tr><tr><td>Armenia</td><td>Of Life & Lisa | Lifestyle Blog</td><td>124000</td><td>21</td></tr><tr><td>Armenia</td><td>Of Life & Lisa | Lifestyle Blog</td><td>124000</td><td>22</td></tr><tr><td>Armenia</td><td>The Arty Teacher</td><td>25000</td><td>23</td></tr><tr><td>Armenia</td><td>ManTripping</td><td>22000</td><td>24</td></tr><tr><td>Armenia</td><td>ManTripping</td><td>22000</td><td>25</td></tr><tr><td>Armenia</td><td>ManTripping</td><td>22000</td><td>26</td></tr><tr><td>Armenia</td><td>ManTripping</td><td>22000</td><td>27</td></tr><tr><td>Armenia</td><td>Pacho Tattoo</td><td>9000</td><td>28</td></tr><tr><td>Armenia</td><td>Pacho Tattoo</td><td>9000</td><td>29</td></tr><tr><td>Armenia</td><td>No Hurry To Get Home</td><td>9000</td><td>30</td></tr><tr><td>Armenia</td><td>No Hurry To Get Home</td><td>9000</td><td>31</td></tr><tr><td>Armenia</td><td>No Hurry To Get Home</td><td>9000</td><td>32</td></tr><tr><td>Armenia</td><td>No Hurry To Get Home</td><td>9000</td><td>33</td></tr><tr><td>Armenia</td><td>Pacho Tattoo</td><td>9000</td><td>34</td></tr><tr><td>Armenia</td><td>Pacho Tattoo</td><td>9000</td><td>35</td></tr><tr><td>Armenia</td><td>No Hurry To Get Home</td><td>9000</td><td>36</td></tr><tr><td>Armenia</td><td>No Hurry To Get Home</td><td>9000</td><td>37</td></tr><tr><td>Armenia</td><td>No Hurry To Get Home</td><td>9000</td><td>38</td></tr><tr><td>Armenia</td><td>No Hurry To Get Home</td><td>9000</td><td>39</td></tr><tr><td>Armenia</td><td>Jiew82633</td><td>8000</td><td>40</td></tr><tr><td>Armenia</td><td>Witching Hour Baby</td><td>262</td><td>41</td></tr><tr><td>Armenia</td><td>Witching Hour Baby</td><td>262</td><td>42</td></tr><tr><td>Armenia</td><td>Witching Hour Baby</td><td>262</td><td>43</td></tr><tr><td>Armenia</td><td>Witching Hour Baby</td><td>262</td><td>44</td></tr><tr><td>Aruba</td><td>TheTrendSpotter</td><td>211000</td><td>1</td></tr><tr><td>Aruba</td><td>TheTrendSpotter</td><td>211000</td><td>2</td></tr><tr><td>Aruba</td><td>TheTrendSpotter</td><td>211000</td><td>3</td></tr><tr><td>Aruba</td><td>TheTrendSpotter</td><td>211000</td><td>4</td></tr><tr><td>Aruba</td><td>TheTrendSpotter</td><td>211000</td><td>5</td></tr><tr><td>Aruba</td><td>TheTrendSpotter</td><td>211000</td><td>6</td></tr><tr><td>Aruba</td><td>TheTrendSpotter</td><td>211000</td><td>7</td></tr><tr><td>Aruba</td><td>TheTrendSpotter</td><td>211000</td><td>8</td></tr><tr><td>Aruba</td><td>TheTrendSpotter</td><td>211000</td><td>9</td></tr><tr><td>Aruba</td><td>The Work at Home Woman</td><td>110000</td><td>10</td></tr><tr><td>Aruba</td><td>Gathering Dreams | Do What You Love</td><td>71000</td><td>11</td></tr><tr><td>Aruba</td><td>Gathering Dreams | Do What You Love</td><td>71000</td><td>12</td></tr><tr><td>Aruba</td><td>Gathering Dreams | Do What You Love</td><td>71000</td><td>13</td></tr><tr><td>Aruba</td><td>Gathering Dreams | Do What You Love</td><td>71000</td><td>14</td></tr><tr><td>Aruba</td><td>Gathering Dreams | Do What You Love</td><td>71000</td><td>15</td></tr><tr><td>Aruba</td><td>Gathering Dreams | Do What You Love</td><td>71000</td><td>16</td></tr><tr><td>Aruba</td><td>Gathering Dreams | Do What You Love</td><td>71000</td><td>17</td></tr><tr><td>Aruba</td><td>Gathering Dreams | Do What You Love</td><td>71000</td><td>18</td></tr><tr><td>Aruba</td><td>Primer</td><td>59000</td><td>19</td></tr><tr><td>Aruba</td><td>Primer</td><td>59000</td><td>20</td></tr><tr><td>Aruba</td><td>Primer</td><td>59000</td><td>21</td></tr><tr><td>Aruba</td><td>Primer</td><td>59000</td><td>22</td></tr><tr><td>Aruba</td><td>Tim Adam - Car Enthusiast</td><td>49000</td><td>23</td></tr><tr><td>Aruba</td><td>Tim Adam - Car Enthusiast</td><td>49000</td><td>24</td></tr><tr><td>Aruba</td><td>Tim Adam - Car Enthusiast</td><td>49000</td><td>25</td></tr><tr><td>Aruba</td><td>Tim Adam - Car Enthusiast</td><td>49000</td><td>26</td></tr><tr><td>Aruba</td><td>Jasmine | Feeling Nifty | Acrylic Painting Tutorials, Ideas &More</td><td>48000</td><td>27</td></tr><tr><td>Aruba</td><td>Jasmine | Feeling Nifty | Acrylic Painting Tutorials, Ideas &More</td><td>48000</td><td>28</td></tr><tr><td>Aruba</td><td>Jasmine | Feeling Nifty | Acrylic Painting Tutorials, Ideas &More</td><td>48000</td><td>29</td></tr><tr><td>Aruba</td><td>Jasmine | Feeling Nifty | Acrylic Painting Tutorials, Ideas &More</td><td>48000</td><td>30</td></tr><tr><td>Aruba</td><td>Breezy Special Ed</td><td>31000</td><td>31</td></tr><tr><td>Aruba</td><td>Breezy Special Ed</td><td>31000</td><td>32</td></tr><tr><td>Aruba</td><td>Breezy Special Ed</td><td>31000</td><td>33</td></tr><tr><td>Aruba</td><td>Breezy Special Ed</td><td>31000</td><td>34</td></tr><tr><td>Aruba</td><td>Classic Driver</td><td>27000</td><td>35</td></tr><tr><td>Aruba</td><td>Classic Driver</td><td>27000</td><td>36</td></tr><tr><td>Aruba</td><td>Classic Driver</td><td>27000</td><td>37</td></tr><tr><td>Aruba</td><td>Classic Driver</td><td>27000</td><td>38</td></tr><tr><td>Aruba</td><td>Traci Bender - The Bender Bunch</td><td>11000</td><td>39</td></tr><tr><td>Aruba</td><td>Traci Bender - The Bender Bunch</td><td>11000</td><td>40</td></tr><tr><td>Aruba</td><td>Traci Bender - The Bender Bunch</td><td>11000</td><td>41</td></tr><tr><td>Aruba</td><td>Traci Bender - The Bender Bunch</td><td>11000</td><td>42</td></tr><tr><td>Aruba</td><td>Traci Bender - The Bender Bunch</td><td>11000</td><td>43</td></tr><tr><td>Aruba</td><td>Traci Bender - The Bender Bunch</td><td>11000</td><td>44</td></tr><tr><td>Aruba</td><td>Traci Bender - The Bender Bunch</td><td>11000</td><td>45</td></tr><tr><td>Aruba</td><td>Traci Bender - The Bender Bunch</td><td>11000</td><td>46</td></tr><tr><td>Aruba</td><td>Traci Bender - The Bender Bunch</td><td>11000</td><td>47</td></tr><tr><td>Aruba</td><td>Cola42986</td><td>6000</td><td>48</td></tr><tr><td>Aruba</td><td>Cola42986</td><td>6000</td><td>49</td></tr><tr><td>Aruba</td><td>Cola42986</td><td>6000</td><td>50</td></tr><tr><td>Aruba</td><td>Cola42986</td><td>6000</td><td>51</td></tr><tr><td>Aruba</td><td>Wear24-7</td><td>5000</td><td>52</td></tr><tr><td>Aruba</td><td>Wear24-7</td><td>5000</td><td>53</td></tr><tr><td>Aruba</td><td>Wear24-7</td><td>5000</td><td>54</td></tr><tr><td>Aruba</td><td>Wear24-7</td><td>5000</td><td>55</td></tr><tr><td>Aruba</td><td>ifyousayido</td><td>5000</td><td>56</td></tr><tr><td>Aruba</td><td>ifyousayido</td><td>5000</td><td>57</td></tr><tr><td>Aruba</td><td>Wear24-7</td><td>5000</td><td>58</td></tr><tr><td>Aruba</td><td>Wear24-7</td><td>5000</td><td>59</td></tr><tr><td>Aruba</td><td>Wear24-7</td><td>5000</td><td>60</td></tr><tr><td>Aruba</td><td>Wear24-7</td><td>5000</td><td>61</td></tr><tr><td>Aruba</td><td>ifyousayido</td><td>5000</td><td>62</td></tr><tr><td>Aruba</td><td>ifyousayido</td><td>5000</td><td>63</td></tr><tr><td>Aruba</td><td>Virginia Carlston Whiting</td><td>4000</td><td>64</td></tr><tr><td>Aruba</td><td>Virginia Carlston Whiting</td><td>4000</td><td>65</td></tr><tr><td>Aruba</td><td>Virginia Carlston Whiting</td><td>4000</td><td>66</td></tr><tr><td>Aruba</td><td>Virginia Carlston Whiting</td><td>4000</td><td>67</td></tr><tr><td>Aruba</td><td>Wall Canvas Mall</td><td>305</td><td>68</td></tr><tr><td>Aruba</td><td>Wall Canvas Mall</td><td>305</td><td>69</td></tr><tr><td>Aruba</td><td>Wall Canvas Mall</td><td>305</td><td>70</td></tr><tr><td>Aruba</td><td>Wall Canvas Mall</td><td>305</td><td>71</td></tr><tr><td>Aruba</td><td>Jacqueline MB Designs</td><td>159</td><td>72</td></tr><tr><td>Aruba</td><td>Jacqueline MB Designs</td><td>159</td><td>73</td></tr><tr><td>Aruba</td><td>Jacqueline MB Designs</td><td>159</td><td>74</td></tr><tr><td>Aruba</td><td>Jacqueline MB Designs</td><td>159</td><td>75</td></tr><tr><td>Aruba</td><td>Drag</td><td>127</td><td>76</td></tr><tr><td>Aruba</td><td>Drag</td><td>127</td><td>77</td></tr><tr><td>Aruba</td><td>Drag</td><td>127</td><td>78</td></tr><tr><td>Aruba</td><td>Drag</td><td>127</td><td>79</td></tr><tr><td>Aruba</td><td>Mala Rock | Rock T-shirts</td><td>27</td><td>80</td></tr><tr><td>Aruba</td><td>Mala Rock | Rock T-shirts</td><td>27</td><td>81</td></tr><tr><td>Aruba</td><td>Mala Rock | Rock T-shirts</td><td>27</td><td>82</td></tr><tr><td>Aruba</td><td>Mala Rock | Rock T-shirts</td><td>27</td><td>83</td></tr><tr><td>Aruba</td><td>Mala Rock | Rock T-shirts</td><td>27</td><td>84</td></tr><tr><td>Australia</td><td>Cultura Colectiva</td><td>1000000</td><td>1</td></tr><tr><td>Australia</td><td>LLEGANCE | Workwear Fashion Woman Advice For Driven Professionals</td><td>28000</td><td>2</td></tr><tr><td>Australia</td><td>Jess Wandering</td><td>22000</td><td>3</td></tr><tr><td>Australia</td><td>Ashley - Modern Glam</td><td>19000</td><td>4</td></tr><tr><td>Australia</td><td>Ashley - Modern Glam</td><td>19000</td><td>5</td></tr><tr><td>Australia</td><td>Inspirethemom</td><td>19000</td><td>6</td></tr><tr><td>Australia</td><td>Inspirethemom</td><td>19000</td><td>7</td></tr><tr><td>Australia</td><td>Ashley - Modern Glam</td><td>19000</td><td>8</td></tr><tr><td>Australia</td><td>Ashley - Modern Glam</td><td>19000</td><td>9</td></tr><tr><td>Australia</td><td>Inspirethemom</td><td>19000</td><td>10</td></tr><tr><td>Australia</td><td>Inspirethemom</td><td>19000</td><td>11</td></tr><tr><td>Australia</td><td>Write Your Story | Budgeting, Healthy Lifestyle, Faith</td><td>5000</td><td>12</td></tr><tr><td>Australia</td><td>Write Your Story | Budgeting, Healthy Lifestyle, Faith</td><td>5000</td><td>13</td></tr><tr><td>Australia</td><td>Write Your Story | Budgeting, Healthy Lifestyle, Faith</td><td>5000</td><td>14</td></tr><tr><td>Australia</td><td>Write Your Story | Budgeting, Healthy Lifestyle, Faith</td><td>5000</td><td>15</td></tr><tr><td>Australia</td><td>Write Your Story | Budgeting, Healthy Lifestyle, Faith</td><td>5000</td><td>16</td></tr><tr><td>Australia</td><td>Write Your Story | Budgeting, Healthy Lifestyle, Faith</td><td>5000</td><td>17</td></tr><tr><td>Australia</td><td>Write Your Story | Budgeting, Healthy Lifestyle, Faith</td><td>5000</td><td>18</td></tr><tr><td>Australia</td><td>Write Your Story | Budgeting, Healthy Lifestyle, Faith</td><td>5000</td><td>19</td></tr><tr><td>Australia</td><td>Write Your Story | Budgeting, Healthy Lifestyle, Faith</td><td>5000</td><td>20</td></tr><tr><td>Austria</td><td>The World Pursuit Travel Website</td><td>89000</td><td>1</td></tr><tr><td>Austria</td><td>The World Pursuit Travel Website</td><td>89000</td><td>2</td></tr><tr><td>Austria</td><td>The World Pursuit Travel Website</td><td>89000</td><td>3</td></tr><tr><td>Austria</td><td>The World Pursuit Travel Website</td><td>89000</td><td>4</td></tr><tr><td>Austria</td><td>The World Pursuit Travel Website</td><td>89000</td><td>5</td></tr><tr><td>Austria</td><td>Beautyholo | Latest Hairstyles, Nail Design Ideas, Home Décor DIY, Women Fashion Ideas</td><td>54000</td><td>6</td></tr><tr><td>Austria</td><td>Beautyholo | Latest Hairstyles, Nail Design Ideas, Home Décor DIY, Women Fashion Ideas</td><td>54000</td><td>7</td></tr><tr><td>Austria</td><td>Beautyholo | Latest Hairstyles, Nail Design Ideas, Home Décor DIY, Women Fashion Ideas</td><td>54000</td><td>8</td></tr><tr><td>Austria</td><td>Beautyholo | Latest Hairstyles, Nail Design Ideas, Home Décor DIY, Women Fashion Ideas</td><td>54000</td><td>9</td></tr><tr><td>Austria</td><td>Beautyholo | Latest Hairstyles, Nail Design Ideas, Home Décor DIY, Women Fashion Ideas</td><td>54000</td><td>10</td></tr><tr><td>Austria</td><td>Beautyholo | Latest Hairstyles, Nail Design Ideas, Home Décor DIY, Women Fashion Ideas</td><td>54000</td><td>11</td></tr><tr><td>Austria</td><td>Beautyholo | Latest Hairstyles, Nail Design Ideas, Home Décor DIY, Women Fashion Ideas</td><td>54000</td><td>12</td></tr><tr><td>Austria</td><td>Beautyholo | Latest Hairstyles, Nail Design Ideas, Home Décor DIY, Women Fashion Ideas</td><td>54000</td><td>13</td></tr><tr><td>Austria</td><td>RACHEL JOY  |  DIY + HOME</td><td>37000</td><td>14</td></tr><tr><td>Austria</td><td>RACHEL JOY  |  DIY + HOME</td><td>37000</td><td>15</td></tr><tr><td>Austria</td><td>RACHEL JOY  |  DIY + HOME</td><td>37000</td><td>16</td></tr><tr><td>Austria</td><td>RACHEL JOY  |  DIY + HOME</td><td>37000</td><td>17</td></tr><tr><td>Austria</td><td>Crediful</td><td>27000</td><td>18</td></tr><tr><td>Austria</td><td>Crediful</td><td>27000</td><td>19</td></tr><tr><td>Austria</td><td>Crediful</td><td>27000</td><td>20</td></tr><tr><td>Austria</td><td>Crediful</td><td>27000</td><td>21</td></tr><tr><td>Austria</td><td>Wanderlust Chloe ✈️ Travel guides, inspo and adventure travel ✈️</td><td>10000</td><td>22</td></tr><tr><td>Austria</td><td>EventMB</td><td>9000</td><td>23</td></tr><tr><td>Austria</td><td>EventMB</td><td>9000</td><td>24</td></tr><tr><td>Austria</td><td>EventMB</td><td>9000</td><td>25</td></tr><tr><td>Austria</td><td>EventMB</td><td>9000</td><td>26</td></tr><tr><td>Azerbaijan</td><td>Style Me Pretty</td><td>6000000</td><td>1</td></tr><tr><td>Azerbaijan</td><td>Taste of Home</td><td>2000000</td><td>2</td></tr><tr><td>Azerbaijan</td><td>Taste of Home</td><td>2000000</td><td>3</td></tr><tr><td>Azerbaijan</td><td>Taste of Home</td><td>2000000</td><td>4</td></tr><tr><td>Azerbaijan</td><td>Taste of Home</td><td>2000000</td><td>5</td></tr><tr><td>Azerbaijan</td><td>SOCIETY19</td><td>1000000</td><td>6</td></tr><tr><td>Azerbaijan</td><td>SOCIETY19</td><td>1000000</td><td>7</td></tr><tr><td>Azerbaijan</td><td>SOCIETY19</td><td>1000000</td><td>8</td></tr><tr><td>Azerbaijan</td><td>SOCIETY19</td><td>1000000</td><td>9</td></tr><tr><td>Azerbaijan</td><td>SOCIETY19</td><td>1000000</td><td>10</td></tr><tr><td>Azerbaijan</td><td>SOCIETY19</td><td>1000000</td><td>11</td></tr><tr><td>Azerbaijan</td><td>SOCIETY19</td><td>1000000</td><td>12</td></tr><tr><td>Azerbaijan</td><td>SOCIETY19</td><td>1000000</td><td>13</td></tr><tr><td>Azerbaijan</td><td>SOCIETY19</td><td>1000000</td><td>14</td></tr><tr><td>Azerbaijan</td><td>SOCIETY19</td><td>1000000</td><td>15</td></tr><tr><td>Azerbaijan</td><td>SOCIETY19</td><td>1000000</td><td>16</td></tr><tr><td>Azerbaijan</td><td>SOCIETY19</td><td>1000000</td><td>17</td></tr><tr><td>Azerbaijan</td><td>Early Learning Ideas</td><td>50000</td><td>18</td></tr><tr><td>Azerbaijan</td><td>Early Learning Ideas</td><td>50000</td><td>19</td></tr><tr><td>Azerbaijan</td><td>Early Learning Ideas</td><td>50000</td><td>20</td></tr><tr><td>Azerbaijan</td><td>Early Learning Ideas</td><td>50000</td><td>21</td></tr><tr><td>Azerbaijan</td><td>Esavingsblog</td><td>14000</td><td>22</td></tr><tr><td>Azerbaijan</td><td>Esavingsblog</td><td>14000</td><td>23</td></tr><tr><td>Azerbaijan</td><td>Esavingsblog</td><td>14000</td><td>24</td></tr><tr><td>Azerbaijan</td><td>Esavingsblog</td><td>14000</td><td>25</td></tr><tr><td>Azerbaijan</td><td>Victoria | Personal Growth, Modern Elegance</td><td>10000</td><td>26</td></tr><tr><td>Azerbaijan</td><td>Victoria | Personal Growth, Modern Elegance</td><td>10000</td><td>27</td></tr><tr><td>Azerbaijan</td><td>Victoria | Personal Growth, Modern Elegance</td><td>10000</td><td>28</td></tr><tr><td>Azerbaijan</td><td>Victoria | Personal Growth, Modern Elegance</td><td>10000</td><td>29</td></tr><tr><td>Azerbaijan</td><td>Amaze Style</td><td>2000</td><td>30</td></tr><tr><td>Azerbaijan</td><td>Amaze Style</td><td>2000</td><td>31</td></tr><tr><td>Azerbaijan</td><td>Amaze Style</td><td>2000</td><td>32</td></tr><tr><td>Azerbaijan</td><td>Amaze Style</td><td>2000</td><td>33</td></tr><tr><td>Bahamas</td><td>Handmade Charlotte</td><td>948000</td><td>1</td></tr><tr><td>Bahamas</td><td>Handmade Charlotte</td><td>948000</td><td>2</td></tr><tr><td>Bahamas</td><td>Handmade Charlotte</td><td>948000</td><td>3</td></tr><tr><td>Bahamas</td><td>Handmade Charlotte</td><td>948000</td><td>4</td></tr><tr><td>Bahamas</td><td>Andrew Martin</td><td>5000</td><td>5</td></tr><tr><td>Bahamas</td><td>Andrew Martin</td><td>5000</td><td>6</td></tr><tr><td>Bahamas</td><td>Andrew Martin</td><td>5000</td><td>7</td></tr><tr><td>Bahamas</td><td>Andrew Martin</td><td>5000</td><td>8</td></tr><tr><td>Bahamas</td><td>EventPlanning.com | Learn How To Become An Event Planner</td><td>4000</td><td>9</td></tr><tr><td>Bahamas</td><td>EventPlanning.com | Learn How To Become An Event Planner</td><td>4000</td><td>10</td></tr><tr><td>Bahamas</td><td>EventPlanning.com | Learn How To Become An Event Planner</td><td>4000</td><td>11</td></tr><tr><td>Bahamas</td><td>EventPlanning.com | Learn How To Become An Event Planner</td><td>4000</td><td>12</td></tr><tr><td>Bahamas</td><td>Katie Washington</td><td>2000</td><td>13</td></tr><tr><td>Bahamas</td><td>Katie Washington</td><td>2000</td><td>14</td></tr><tr><td>Bahamas</td><td>Katie Washington</td><td>2000</td><td>15</td></tr><tr><td>Bahamas</td><td>Katie Washington</td><td>2000</td><td>16</td></tr><tr><td>Bahamas</td><td>The Rustic Roundup, LLC | Style Hacks | Self Love</td><td>293</td><td>17</td></tr><tr><td>Bahamas</td><td>The Rustic Roundup, LLC | Style Hacks | Self Love</td><td>293</td><td>18</td></tr><tr><td>Bahamas</td><td>The Rustic Roundup, LLC | Style Hacks | Self Love</td><td>293</td><td>19</td></tr><tr><td>Bahamas</td><td>The Rustic Roundup, LLC | Style Hacks | Self Love</td><td>293</td><td>20</td></tr><tr><td>Bahamas</td><td>Erin Lee</td><td>22</td><td>21</td></tr><tr><td>Bahamas</td><td>Erin Lee</td><td>22</td><td>22</td></tr><tr><td>Bahamas</td><td>Erin Lee</td><td>22</td><td>23</td></tr><tr><td>Bahamas</td><td>Erin Lee</td><td>22</td><td>24</td></tr><tr><td>Bahrain</td><td>Rainy Day Mum</td><td>337000</td><td>1</td></tr><tr><td>Bahrain</td><td>Rainy Day Mum</td><td>337000</td><td>2</td></tr><tr><td>Bahrain</td><td>Rainy Day Mum</td><td>337000</td><td>3</td></tr><tr><td>Bahrain</td><td>Rainy Day Mum</td><td>337000</td><td>4</td></tr><tr><td>Bahrain</td><td>Decor Home Ideas</td><td>144000</td><td>5</td></tr><tr><td>Bahrain</td><td>Decor Home Ideas</td><td>144000</td><td>6</td></tr><tr><td>Bahrain</td><td>Decor Home Ideas</td><td>144000</td><td>7</td></tr><tr><td>Bahrain</td><td>Decor Home Ideas</td><td>144000</td><td>8</td></tr><tr><td>Bahrain</td><td>Elizabeth Lampman</td><td>78000</td><td>9</td></tr><tr><td>Bahrain</td><td>Elizabeth Lampman</td><td>78000</td><td>10</td></tr><tr><td>Bahrain</td><td>Elizabeth Lampman</td><td>78000</td><td>11</td></tr><tr><td>Bahrain</td><td>Elizabeth Lampman</td><td>78000</td><td>12</td></tr><tr><td>Bahrain</td><td>R.J. Weiss at The Ways To Wealth | Personal Finance | Debt Payoff</td><td>46000</td><td>13</td></tr><tr><td>Bahrain</td><td>Renee Roaming • Travel & Adventure</td><td>27000</td><td>14</td></tr><tr><td>Bahrain</td><td>Renee Roaming • Travel & Adventure</td><td>27000</td><td>15</td></tr><tr><td>Bahrain</td><td>Renee Roaming • Travel & Adventure</td><td>27000</td><td>16</td></tr><tr><td>Bahrain</td><td>Renee Roaming • Travel & Adventure</td><td>27000</td><td>17</td></tr><tr><td>Bahrain</td><td>Country Chic Paint</td><td>23000</td><td>18</td></tr><tr><td>Bahrain</td><td>Country Chic Paint</td><td>23000</td><td>19</td></tr><tr><td>Bahrain</td><td>Country Chic Paint</td><td>23000</td><td>20</td></tr><tr><td>Bahrain</td><td>Country Chic Paint</td><td>23000</td><td>21</td></tr><tr><td>Bahrain</td><td>Boss in Pyjamas</td><td>2000</td><td>22</td></tr><tr><td>Bahrain</td><td>Boss in Pyjamas</td><td>2000</td><td>23</td></tr><tr><td>Bahrain</td><td>Boss in Pyjamas</td><td>2000</td><td>24</td></tr><tr><td>Bahrain</td><td>Boss in Pyjamas</td><td>2000</td><td>25</td></tr><tr><td>Bangladesh</td><td>Better Homes and Gardens</td><td>4000000</td><td>1</td></tr><tr><td>Bangladesh</td><td>Better Homes and Gardens</td><td>4000000</td><td>2</td></tr><tr><td>Bangladesh</td><td>Better Homes and Gardens</td><td>4000000</td><td>3</td></tr><tr><td>Bangladesh</td><td>Better Homes and Gardens</td><td>4000000</td><td>4</td></tr><tr><td>Bangladesh</td><td>Better Homes and Gardens</td><td>4000000</td><td>5</td></tr><tr><td>Bangladesh</td><td>Better Homes and Gardens</td><td>4000000</td><td>6</td></tr><tr><td>Bangladesh</td><td>Better Homes and Gardens</td><td>4000000</td><td>7</td></tr><tr><td>Bangladesh</td><td>Better Homes and Gardens</td><td>4000000</td><td>8</td></tr><tr><td>Bangladesh</td><td>Architectural Digest</td><td>3000000</td><td>9</td></tr><tr><td>Bangladesh</td><td>Suburban Men</td><td>383000</td><td>10</td></tr><tr><td>Bangladesh</td><td>Suburban Men</td><td>383000</td><td>11</td></tr><tr><td>Bangladesh</td><td>Suburban Men</td><td>383000</td><td>12</td></tr><tr><td>Bangladesh</td><td>Suburban Men</td><td>383000</td><td>13</td></tr><tr><td>Bangladesh</td><td>The Turquoise Home | Simple DIY + Home Decor Ideas</td><td>205000</td><td>14</td></tr><tr><td>Bangladesh</td><td>The Turquoise Home | Simple DIY + Home Decor Ideas</td><td>205000</td><td>15</td></tr><tr><td>Bangladesh</td><td>The Turquoise Home | Simple DIY + Home Decor Ideas</td><td>205000</td><td>16</td></tr><tr><td>Bangladesh</td><td>The Turquoise Home | Simple DIY + Home Decor Ideas</td><td>205000</td><td>17</td></tr><tr><td>Bangladesh</td><td>Natalie Bacon | NatalieBacon.com</td><td>66000</td><td>18</td></tr><tr><td>Bangladesh</td><td>Natalie Bacon | NatalieBacon.com</td><td>66000</td><td>19</td></tr><tr><td>Bangladesh</td><td>Natalie Bacon | NatalieBacon.com</td><td>66000</td><td>20</td></tr><tr><td>Bangladesh</td><td>Natalie Bacon | NatalieBacon.com</td><td>66000</td><td>21</td></tr><tr><td>Bangladesh</td><td>Crisp Collective</td><td>13000</td><td>22</td></tr><tr><td>Bangladesh</td><td>Crisp Collective</td><td>13000</td><td>23</td></tr><tr><td>Bangladesh</td><td>Crisp Collective</td><td>13000</td><td>24</td></tr><tr><td>Bangladesh</td><td>Crisp Collective</td><td>13000</td><td>25</td></tr><tr><td>Bangladesh</td><td>Jin Designs</td><td>1000</td><td>26</td></tr><tr><td>Bangladesh</td><td>Jin Designs</td><td>1000</td><td>27</td></tr><tr><td>Bangladesh</td><td>Jin Designs</td><td>1000</td><td>28</td></tr><tr><td>Bangladesh</td><td>Jin Designs</td><td>1000</td><td>29</td></tr><tr><td>Barbados</td><td>The Creativity Exchange</td><td>410000</td><td>1</td></tr><tr><td>Barbados</td><td>Arty Crafty Kids</td><td>252000</td><td>2</td></tr><tr><td>Barbados</td><td>Arty Crafty Kids</td><td>252000</td><td>3</td></tr><tr><td>Barbados</td><td>Arty Crafty Kids</td><td>252000</td><td>4</td></tr><tr><td>Barbados</td><td>Arty Crafty Kids</td><td>252000</td><td>5</td></tr><tr><td>Barbados</td><td>Nicki </td><td>28000</td><td>6</td></tr><tr><td>Barbados</td><td>Home And Apartment Ideas</td><td>3000</td><td>7</td></tr><tr><td>Barbados</td><td>Home And Apartment Ideas</td><td>3000</td><td>8</td></tr><tr><td>Barbados</td><td>Home And Apartment Ideas</td><td>3000</td><td>9</td></tr><tr><td>Barbados</td><td>Home And Apartment Ideas</td><td>3000</td><td>10</td></tr><tr><td>Barbados</td><td>GADGETOVIA</td><td>1000</td><td>11</td></tr><tr><td>Barbados</td><td>GADGETOVIA</td><td>1000</td><td>12</td></tr><tr><td>Barbados</td><td>GADGETOVIA</td><td>1000</td><td>13</td></tr><tr><td>Barbados</td><td>GADGETOVIA</td><td>1000</td><td>14</td></tr><tr><td>Belarus</td><td>Prudent Penny Pincher - Home Decor, Organization, Crafts, Recipes</td><td>647000</td><td>1</td></tr><tr><td>Belarus</td><td>Prudent Penny Pincher - Home Decor, Organization, Crafts, Recipes</td><td>647000</td><td>2</td></tr><tr><td>Belarus</td><td>Prudent Penny Pincher - Home Decor, Organization, Crafts, Recipes</td><td>647000</td><td>3</td></tr><tr><td>Belarus</td><td>Prudent Penny Pincher - Home Decor, Organization, Crafts, Recipes</td><td>647000</td><td>4</td></tr><tr><td>Belarus</td><td>Salt in our Hair</td><td>29000</td><td>5</td></tr><tr><td>Belarus</td><td>Salt in our Hair</td><td>29000</td><td>6</td></tr><tr><td>Belarus</td><td>Salt in our Hair</td><td>29000</td><td>7</td></tr><tr><td>Belarus</td><td>Salt in our Hair</td><td>29000</td><td>8</td></tr><tr><td>Belarus</td><td>Live Love Run Travel | Travel Blogger</td><td>7000</td><td>9</td></tr><tr><td>Belarus</td><td>Live Love Run Travel | Travel Blogger</td><td>7000</td><td>10</td></tr><tr><td>Belarus</td><td>Live Love Run Travel | Travel Blogger</td><td>7000</td><td>11</td></tr><tr><td>Belarus</td><td>Live Love Run Travel | Travel Blogger</td><td>7000</td><td>12</td></tr><tr><td>Belarus</td><td>Live Love Run Travel | Travel Blogger</td><td>7000</td><td>13</td></tr><tr><td>Belarus</td><td>Live Love Run Travel | Travel Blogger</td><td>7000</td><td>14</td></tr><tr><td>Belarus</td><td>Live Love Run Travel | Travel Blogger</td><td>7000</td><td>15</td></tr><tr><td>Belarus</td><td>Live Love Run Travel | Travel Blogger</td><td>7000</td><td>16</td></tr><tr><td>Belarus</td><td>Live Love Run Travel | Travel Blogger</td><td>7000</td><td>17</td></tr><tr><td>Belarus</td><td>Live Love Run Travel | Travel Blogger</td><td>7000</td><td>18</td></tr><tr><td>Belarus</td><td>Live Love Run Travel | Travel Blogger</td><td>7000</td><td>19</td></tr><tr><td>Belarus</td><td>Live Love Run Travel | Travel Blogger</td><td>7000</td><td>20</td></tr><tr><td>Belarus</td><td>Live Love Run Travel | Travel Blogger</td><td>7000</td><td>21</td></tr><tr><td>Belarus</td><td>Live Love Run Travel | Travel Blogger</td><td>7000</td><td>22</td></tr><tr><td>Belarus</td><td>Live Love Run Travel | Travel Blogger</td><td>7000</td><td>23</td></tr><tr><td>Belarus</td><td>Live Love Run Travel | Travel Blogger</td><td>7000</td><td>24</td></tr><tr><td>Belarus</td><td>Live Love Run Travel | Travel Blogger</td><td>7000</td><td>25</td></tr><tr><td>Belarus</td><td>Live Love Run Travel | Travel Blogger</td><td>7000</td><td>26</td></tr><tr><td>Belarus</td><td>Live Love Run Travel | Travel Blogger</td><td>7000</td><td>27</td></tr><tr><td>Belarus</td><td>Live Love Run Travel | Travel Blogger</td><td>7000</td><td>28</td></tr><tr><td>Belgium</td><td>Happy Toddler Playtime</td><td>73000</td><td>1</td></tr><tr><td>Belgium</td><td>Happy Toddler Playtime</td><td>73000</td><td>2</td></tr><tr><td>Belgium</td><td>Happy Toddler Playtime</td><td>73000</td><td>3</td></tr><tr><td>Belgium</td><td>Happy Toddler Playtime</td><td>73000</td><td>4</td></tr><tr><td>Belgium</td><td>Bon Traveler | Travel + Design Tips</td><td>24000</td><td>5</td></tr><tr><td>Belgium</td><td>Bon Traveler | Travel + Design Tips</td><td>24000</td><td>6</td></tr><tr><td>Belgium</td><td>Bon Traveler | Travel + Design Tips</td><td>24000</td><td>7</td></tr><tr><td>Belgium</td><td>Bon Traveler | Travel + Design Tips</td><td>24000</td><td>8</td></tr><tr><td>Belgium</td><td>Rachel_thePondsFarmhouse</td><td>13000</td><td>9</td></tr><tr><td>Belgium</td><td>Rachel_thePondsFarmhouse</td><td>13000</td><td>10</td></tr><tr><td>Belgium</td><td>Rachel_thePondsFarmhouse</td><td>13000</td><td>11</td></tr><tr><td>Belgium</td><td>Rachel_thePondsFarmhouse</td><td>13000</td><td>12</td></tr><tr><td>Belize</td><td>Julia Berolzheimer</td><td>399000</td><td>1</td></tr><tr><td>Belize</td><td>Julia Berolzheimer</td><td>399000</td><td>2</td></tr><tr><td>Belize</td><td>Julia Berolzheimer</td><td>399000</td><td>3</td></tr><tr><td>Belize</td><td>Julia Berolzheimer</td><td>399000</td><td>4</td></tr><tr><td>Belize</td><td>Easy Kids Crafts & Activities | Preschool & Kindergarten Ideas</td><td>267000</td><td>5</td></tr><tr><td>Belize</td><td>Easy Kids Crafts & Activities | Preschool & Kindergarten Ideas</td><td>267000</td><td>6</td></tr><tr><td>Belize</td><td>Easy Kids Crafts & Activities | Preschool & Kindergarten Ideas</td><td>267000</td><td>7</td></tr><tr><td>Belize</td><td>Easy Kids Crafts & Activities | Preschool & Kindergarten Ideas</td><td>267000</td><td>8</td></tr><tr><td>Belize</td><td>Clary | IKEA hacks & DIY Project for home</td><td>67000</td><td>9</td></tr><tr><td>Belize</td><td>Clary | IKEA hacks & DIY Project for home</td><td>67000</td><td>10</td></tr><tr><td>Belize</td><td>Clary | IKEA hacks & DIY Project for home</td><td>67000</td><td>11</td></tr><tr><td>Belize</td><td>Clary | IKEA hacks & DIY Project for home</td><td>67000</td><td>12</td></tr><tr><td>Belize</td><td>OG Watches USA</td><td>38</td><td>13</td></tr><tr><td>Belize</td><td>OG Watches USA</td><td>38</td><td>14</td></tr><tr><td>Belize</td><td>OG Watches USA</td><td>38</td><td>15</td></tr><tr><td>Belize</td><td>OG Watches USA</td><td>38</td><td>16</td></tr><tr><td>Benin</td><td>fashionchaser | nails,hairstyle,tattoo</td><td>23000</td><td>1</td></tr><tr><td>Benin</td><td>fashionchaser | nails,hairstyle,tattoo</td><td>23000</td><td>2</td></tr><tr><td>Benin</td><td>fashionchaser | nails,hairstyle,tattoo</td><td>23000</td><td>3</td></tr><tr><td>Benin</td><td>fashionchaser | nails,hairstyle,tattoo</td><td>23000</td><td>4</td></tr><tr><td>Benin</td><td>Learn in Color</td><td>21000</td><td>5</td></tr><tr><td>Benin</td><td>Learn in Color</td><td>21000</td><td>6</td></tr><tr><td>Benin</td><td>Learn in Color</td><td>21000</td><td>7</td></tr><tr><td>Benin</td><td>Learn in Color</td><td>21000</td><td>8</td></tr><tr><td>Benin</td><td>The Wanderlust Rose- Travel Jobs, Adventure & Travel Tips</td><td>3000</td><td>9</td></tr><tr><td>Benin</td><td>The Wanderlust Rose- Travel Jobs, Adventure & Travel Tips</td><td>3000</td><td>10</td></tr><tr><td>Benin</td><td>The Wanderlust Rose- Travel Jobs, Adventure & Travel Tips</td><td>3000</td><td>11</td></tr><tr><td>Benin</td><td>The Wanderlust Rose- Travel Jobs, Adventure & Travel Tips</td><td>3000</td><td>12</td></tr><tr><td>Benin</td><td>The Wanderlust Rose- Travel Jobs, Adventure & Travel Tips</td><td>3000</td><td>13</td></tr><tr><td>Benin</td><td>The Wanderlust Rose- Travel Jobs, Adventure & Travel Tips</td><td>3000</td><td>14</td></tr><tr><td>Benin</td><td>The Wanderlust Rose- Travel Jobs, Adventure & Travel Tips</td><td>3000</td><td>15</td></tr><tr><td>Benin</td><td>The Wanderlust Rose- Travel Jobs, Adventure & Travel Tips</td><td>3000</td><td>16</td></tr><tr><td>Benin</td><td>The Wanderlust Rose- Travel Jobs, Adventure & Travel Tips</td><td>3000</td><td>17</td></tr><tr><td>Benin</td><td>The Wanderlust Rose- Travel Jobs, Adventure & Travel Tips</td><td>3000</td><td>18</td></tr><tr><td>Benin</td><td>The Wanderlust Rose- Travel Jobs, Adventure & Travel Tips</td><td>3000</td><td>19</td></tr><tr><td>Benin</td><td>The Wanderlust Rose- Travel Jobs, Adventure & Travel Tips</td><td>3000</td><td>20</td></tr><tr><td>Benin</td><td>The Wanderlust Rose- Travel Jobs, Adventure & Travel Tips</td><td>3000</td><td>21</td></tr><tr><td>Benin</td><td>The Wanderlust Rose- Travel Jobs, Adventure & Travel Tips</td><td>3000</td><td>22</td></tr><tr><td>Benin</td><td>The Wanderlust Rose- Travel Jobs, Adventure & Travel Tips</td><td>3000</td><td>23</td></tr><tr><td>Benin</td><td>The Wanderlust Rose- Travel Jobs, Adventure & Travel Tips</td><td>3000</td><td>24</td></tr><tr><td>Benin</td><td>The Wanderlust Rose- Travel Jobs, Adventure & Travel Tips</td><td>3000</td><td>25</td></tr><tr><td>Benin</td><td>The Wanderlust Rose- Travel Jobs, Adventure & Travel Tips</td><td>3000</td><td>26</td></tr><tr><td>Benin</td><td>The Wanderlust Rose- Travel Jobs, Adventure & Travel Tips</td><td>3000</td><td>27</td></tr><tr><td>Benin</td><td>The Wanderlust Rose- Travel Jobs, Adventure & Travel Tips</td><td>3000</td><td>28</td></tr><tr><td>Benin</td><td>Domnique Prencipe</td><td>91</td><td>29</td></tr><tr><td>Benin</td><td>Domnique Prencipe</td><td>91</td><td>30</td></tr><tr><td>Benin</td><td>Domnique Prencipe</td><td>91</td><td>31</td></tr><tr><td>Benin</td><td>Domnique Prencipe</td><td>91</td><td>32</td></tr><tr><td>Bermuda</td><td>Life on Summerhill | Home, Holiday Decor & DIY Website</td><td>46000</td><td>1</td></tr><tr><td>Bermuda</td><td>Earth Trekkers</td><td>27000</td><td>2</td></tr><tr><td>Bermuda</td><td>Earth Trekkers</td><td>27000</td><td>3</td></tr><tr><td>Bermuda</td><td>Earth Trekkers</td><td>27000</td><td>4</td></tr><tr><td>Bermuda</td><td>Earth Trekkers</td><td>27000</td><td>5</td></tr><tr><td>Bermuda</td><td>Spiretime</td><td>14000</td><td>6</td></tr><tr><td>Bermuda</td><td>Spiretime</td><td>14000</td><td>7</td></tr><tr><td>Bermuda</td><td>Spiretime</td><td>14000</td><td>8</td></tr><tr><td>Bermuda</td><td>Spiretime</td><td>14000</td><td>9</td></tr><tr><td>Bermuda</td><td>Perfection Hangover | Launching and Marketing Your Blog & YouTube</td><td>7000</td><td>10</td></tr><tr><td>Bermuda</td><td>Perfection Hangover | Launching and Marketing Your Blog & YouTube</td><td>7000</td><td>11</td></tr><tr><td>Bermuda</td><td>Perfection Hangover | Launching and Marketing Your Blog & YouTube</td><td>7000</td><td>12</td></tr><tr><td>Bermuda</td><td>Perfection Hangover | Launching and Marketing Your Blog & YouTube</td><td>7000</td><td>13</td></tr><tr><td>Bermuda</td><td>Jody-Ann Rowe | Marketing Coach for Wedding Professionals</td><td>884</td><td>14</td></tr><tr><td>Bermuda</td><td>Jody-Ann Rowe | Marketing Coach for Wedding Professionals</td><td>884</td><td>15</td></tr><tr><td>Bermuda</td><td>Jody-Ann Rowe | Marketing Coach for Wedding Professionals</td><td>884</td><td>16</td></tr><tr><td>Bermuda</td><td>Jody-Ann Rowe | Marketing Coach for Wedding Professionals</td><td>884</td><td>17</td></tr><tr><td>Bermuda</td><td>Dailylifewithmads|Chronic Illness Blogger </td><td>198</td><td>18</td></tr><tr><td>Bermuda</td><td>Dailylifewithmads|Chronic Illness Blogger </td><td>198</td><td>19</td></tr><tr><td>Bermuda</td><td>Dailylifewithmads|Chronic Illness Blogger </td><td>198</td><td>20</td></tr><tr><td>Bermuda</td><td>Dailylifewithmads|Chronic Illness Blogger </td><td>198</td><td>21</td></tr><tr><td>Bhutan</td><td>diana ajih</td><td>141000</td><td>1</td></tr><tr><td>Bhutan</td><td>diana ajih</td><td>141000</td><td>2</td></tr><tr><td>Bhutan</td><td>diana ajih</td><td>141000</td><td>3</td></tr><tr><td>Bhutan</td><td>diana ajih</td><td>141000</td><td>4</td></tr><tr><td>Bhutan</td><td>Esquire Magazine</td><td>130000</td><td>5</td></tr><tr><td>Bhutan</td><td>Esquire Magazine</td><td>130000</td><td>6</td></tr><tr><td>Bhutan</td><td>Esquire Magazine</td><td>130000</td><td>7</td></tr><tr><td>Bhutan</td><td>Esquire Magazine</td><td>130000</td><td>8</td></tr><tr><td>Bhutan</td><td>this heArt of mine / amy christie</td><td>22000</td><td>9</td></tr><tr><td>Bhutan</td><td>this heArt of mine / amy christie</td><td>22000</td><td>10</td></tr><tr><td>Bhutan</td><td>this heArt of mine / amy christie</td><td>22000</td><td>11</td></tr><tr><td>Bhutan</td><td>this heArt of mine / amy christie</td><td>22000</td><td>12</td></tr><tr><td>Bhutan</td><td>Alecia May | Eventistry By Alecia</td><td>20000</td><td>13</td></tr><tr><td>Bhutan</td><td>Alecia May | Eventistry By Alecia</td><td>20000</td><td>14</td></tr><tr><td>Bhutan</td><td>Alecia May | Eventistry By Alecia</td><td>20000</td><td>15</td></tr><tr><td>Bhutan</td><td>Alecia May | Eventistry By Alecia</td><td>20000</td><td>16</td></tr><tr><td>Bhutan</td><td>Kids Crafts & Free Preschool Printables- Sharing Our Experiences</td><td>3000</td><td>17</td></tr><tr><td>Bolivia</td><td>Kimberly West (a girl and a glue gun)</td><td>243000</td><td>1</td></tr><tr><td>Bolivia</td><td>Kimberly West (a girl and a glue gun)</td><td>243000</td><td>2</td></tr><tr><td>Bolivia</td><td>Kimberly West (a girl and a glue gun)</td><td>243000</td><td>3</td></tr><tr><td>Bolivia</td><td>Kimberly West (a girl and a glue gun)</td><td>243000</td><td>4</td></tr><tr><td>Bolivia</td><td>She Gave It A Go| Faith Family Farmhouse</td><td>68000</td><td>5</td></tr><tr><td>Bolivia</td><td>She Gave It A Go| Faith Family Farmhouse</td><td>68000</td><td>6</td></tr><tr><td>Bolivia</td><td>She Gave It A Go| Faith Family Farmhouse</td><td>68000</td><td>7</td></tr><tr><td>Bolivia</td><td>She Gave It A Go| Faith Family Farmhouse</td><td>68000</td><td>8</td></tr><tr><td>Bolivia</td><td>Curated Interior</td><td>67000</td><td>9</td></tr><tr><td>Bolivia</td><td>Curated Interior</td><td>67000</td><td>10</td></tr><tr><td>Bolivia</td><td>Curated Interior</td><td>67000</td><td>11</td></tr><tr><td>Bolivia</td><td>Curated Interior</td><td>67000</td><td>12</td></tr><tr><td>Bolivia</td><td>Karen Red</td><td>213</td><td>13</td></tr><tr><td>Bolivia</td><td>Karen Red</td><td>213</td><td>14</td></tr><tr><td>Bolivia</td><td>Karen Red</td><td>213</td><td>15</td></tr><tr><td>Bolivia</td><td>Karen Red</td><td>213</td><td>16</td></tr><tr><td>Bosnia and Herzegovina</td><td>5-Minute Crafts Family</td><td>370000</td><td>1</td></tr><tr><td>Bosnia and Herzegovina</td><td>5-Minute Crafts Family</td><td>370000</td><td>2</td></tr><tr><td>Bosnia and Herzegovina</td><td>5-Minute Crafts Family</td><td>370000</td><td>3</td></tr><tr><td>Bosnia and Herzegovina</td><td>5-Minute Crafts Family</td><td>370000</td><td>4</td></tr><tr><td>Bosnia and Herzegovina</td><td>Jackie | I Heart Arts N Crafts</td><td>89000</td><td>5</td></tr><tr><td>Bosnia and Herzegovina</td><td>Jackie | I Heart Arts N Crafts</td><td>89000</td><td>6</td></tr><tr><td>Bosnia and Herzegovina</td><td>Jackie | I Heart Arts N Crafts</td><td>89000</td><td>7</td></tr><tr><td>Bosnia and Herzegovina</td><td>Jackie | I Heart Arts N Crafts</td><td>89000</td><td>8</td></tr><tr><td>Botswana</td><td>OkChicas</td><td>3000000</td><td>1</td></tr><tr><td>Botswana</td><td>OkChicas</td><td>3000000</td><td>2</td></tr><tr><td>Botswana</td><td>OkChicas</td><td>3000000</td><td>3</td></tr><tr><td>Botswana</td><td>OkChicas</td><td>3000000</td><td>4</td></tr><tr><td>Botswana</td><td>GloryInvestingShow</td><td>98000</td><td>5</td></tr><tr><td>Botswana</td><td>GloryInvestingShow</td><td>98000</td><td>6</td></tr><tr><td>Botswana</td><td>GloryInvestingShow</td><td>98000</td><td>7</td></tr><tr><td>Botswana</td><td>GloryInvestingShow</td><td>98000</td><td>8</td></tr><tr><td>Botswana</td><td>RapidLeaks</td><td>4000</td><td>9</td></tr><tr><td>Botswana</td><td>RapidLeaks</td><td>4000</td><td>10</td></tr><tr><td>Botswana</td><td>RapidLeaks</td><td>4000</td><td>11</td></tr><tr><td>Botswana</td><td>RapidLeaks</td><td>4000</td><td>12</td></tr><tr><td>Botswana</td><td>RapidLeaks</td><td>4000</td><td>13</td></tr><tr><td>Botswana</td><td>RapidLeaks</td><td>4000</td><td>14</td></tr><tr><td>Botswana</td><td>RapidLeaks</td><td>4000</td><td>15</td></tr><tr><td>Botswana</td><td>RapidLeaks</td><td>4000</td><td>16</td></tr><tr><td>Botswana</td><td>RapidLeaks</td><td>4000</td><td>17</td></tr><tr><td>Bouvet Island (Bouvetoya)</td><td>POPSUGAR</td><td>5000000</td><td>1</td></tr><tr><td>Bouvet Island (Bouvetoya)</td><td>POPSUGAR</td><td>5000000</td><td>2</td></tr><tr><td>Bouvet Island (Bouvetoya)</td><td>POPSUGAR</td><td>5000000</td><td>3</td></tr><tr><td>Bouvet Island (Bouvetoya)</td><td>POPSUGAR</td><td>5000000</td><td>4</td></tr><tr><td>Bouvet Island (Bouvetoya)</td><td>POPSUGAR</td><td>5000000</td><td>5</td></tr><tr><td>Bouvet Island (Bouvetoya)</td><td>POPSUGAR</td><td>5000000</td><td>6</td></tr><tr><td>Bouvet Island (Bouvetoya)</td><td>POPSUGAR</td><td>5000000</td><td>7</td></tr><tr><td>Bouvet Island (Bouvetoya)</td><td>POPSUGAR</td><td>5000000</td><td>8</td></tr><tr><td>Bouvet Island (Bouvetoya)</td><td>Follow Me Away</td><td>47000</td><td>9</td></tr><tr><td>Bouvet Island (Bouvetoya)</td><td>Follow Me Away</td><td>47000</td><td>10</td></tr><tr><td>Bouvet Island (Bouvetoya)</td><td>Follow Me Away</td><td>47000</td><td>11</td></tr><tr><td>Bouvet Island (Bouvetoya)</td><td>Follow Me Away</td><td>47000</td><td>12</td></tr><tr><td>Bouvet Island (Bouvetoya)</td><td>To Some Place New | Travel Blog | Europe Travel & Beyond</td><td>12000</td><td>13</td></tr><tr><td>Bouvet Island (Bouvetoya)</td><td>To Some Place New | Travel Blog | Europe Travel & Beyond</td><td>12000</td><td>14</td></tr><tr><td>Bouvet Island (Bouvetoya)</td><td>To Some Place New | Travel Blog | Europe Travel & Beyond</td><td>12000</td><td>15</td></tr><tr><td>Bouvet Island (Bouvetoya)</td><td>To Some Place New | Travel Blog | Europe Travel & Beyond</td><td>12000</td><td>16</td></tr><tr><td>Bouvet Island (Bouvetoya)</td><td>Melissa Vega Avalos</td><td>7000</td><td>17</td></tr><tr><td>Bouvet Island (Bouvetoya)</td><td>Melissa Vega Avalos</td><td>7000</td><td>18</td></tr><tr><td>Bouvet Island (Bouvetoya)</td><td>Melissa Vega Avalos</td><td>7000</td><td>19</td></tr><tr><td>Bouvet Island (Bouvetoya)</td><td>Melissa Vega Avalos</td><td>7000</td><td>20</td></tr><tr><td>Brazil</td><td>Budget with Rachel</td><td>11000</td><td>1</td></tr><tr><td>Brazil</td><td>Budget with Rachel</td><td>11000</td><td>2</td></tr><tr><td>Brazil</td><td>Budget with Rachel</td><td>11000</td><td>3</td></tr><tr><td>Brazil</td><td>Budget with Rachel</td><td>11000</td><td>4</td></tr><tr><td>Brazil</td><td>Frozen Pennies | Sara Conklin (Coaching, Budgeting & Frugal Living)</td><td>5000</td><td>5</td></tr><tr><td>Brazil</td><td>Frozen Pennies | Sara Conklin (Coaching, Budgeting & Frugal Living)</td><td>5000</td><td>6</td></tr><tr><td>Brazil</td><td>Frozen Pennies | Sara Conklin (Coaching, Budgeting & Frugal Living)</td><td>5000</td><td>7</td></tr><tr><td>Brazil</td><td>Frozen Pennies | Sara Conklin (Coaching, Budgeting & Frugal Living)</td><td>5000</td><td>8</td></tr><tr><td>British Indian Ocean Territory (Chagos Archipelago)</td><td>Budgets Are Sexy | Save Money + Grow Your Net Worth</td><td>11000</td><td>1</td></tr><tr><td>British Indian Ocean Territory (Chagos Archipelago)</td><td>Budgets Are Sexy | Save Money + Grow Your Net Worth</td><td>11000</td><td>2</td></tr><tr><td>British Indian Ocean Territory (Chagos Archipelago)</td><td>Budgets Are Sexy | Save Money + Grow Your Net Worth</td><td>11000</td><td>3</td></tr><tr><td>British Indian Ocean Territory (Chagos Archipelago)</td><td>Budgets Are Sexy | Save Money + Grow Your Net Worth</td><td>11000</td><td>4</td></tr><tr><td>British Virgin Islands</td><td>Kitchen Fun With My 3 Sons</td><td>245000</td><td>1</td></tr><tr><td>British Virgin Islands</td><td>Dream Dash Journal</td><td>19000</td><td>2</td></tr><tr><td>British Virgin Islands</td><td>Dream Dash Journal</td><td>19000</td><td>3</td></tr><tr><td>British Virgin Islands</td><td>Dream Dash Journal</td><td>19000</td><td>4</td></tr><tr><td>British Virgin Islands</td><td>Dream Dash Journal</td><td>19000</td><td>5</td></tr><tr><td>British Virgin Islands</td><td>Dream Dash Journal</td><td>19000</td><td>6</td></tr><tr><td>British Virgin Islands</td><td>Dream Dash Journal</td><td>19000</td><td>7</td></tr><tr><td>British Virgin Islands</td><td>Dream Dash Journal</td><td>19000</td><td>8</td></tr><tr><td>British Virgin Islands</td><td>Dream Dash Journal</td><td>19000</td><td>9</td></tr><tr><td>British Virgin Islands</td><td>Sports Car Digest</td><td>6000</td><td>10</td></tr><tr><td>British Virgin Islands</td><td>Sports Car Digest</td><td>6000</td><td>11</td></tr><tr><td>British Virgin Islands</td><td>Sports Car Digest</td><td>6000</td><td>12</td></tr><tr><td>British Virgin Islands</td><td>Sports Car Digest</td><td>6000</td><td>13</td></tr><tr><td>British Virgin Islands</td><td>Visit USA Parks | Travel Blog & Inspiration</td><td>4000</td><td>14</td></tr><tr><td>British Virgin Islands</td><td>Visit USA Parks | Travel Blog & Inspiration</td><td>4000</td><td>15</td></tr><tr><td>British Virgin Islands</td><td>Visit USA Parks | Travel Blog & Inspiration</td><td>4000</td><td>16</td></tr><tr><td>British Virgin Islands</td><td>Visit USA Parks | Travel Blog & Inspiration</td><td>4000</td><td>17</td></tr><tr><td>British Virgin Islands</td><td>DIVDepot – Geld sparen & verdienen | Mindset | Dividend Investing</td><td>3000</td><td>18</td></tr><tr><td>British Virgin Islands</td><td>DIVDepot – Geld sparen & verdienen | Mindset | Dividend Investing</td><td>3000</td><td>19</td></tr><tr><td>British Virgin Islands</td><td>DIVDepot – Geld sparen & verdienen | Mindset | Dividend Investing</td><td>3000</td><td>20</td></tr><tr><td>British Virgin Islands</td><td>DIVDepot – Geld sparen & verdienen | Mindset | Dividend Investing</td><td>3000</td><td>21</td></tr><tr><td>Brunei Darussalam</td><td>Purpose Driven Living Home</td><td>31000</td><td>1</td></tr><tr><td>Brunei Darussalam</td><td>Purpose Driven Living Home</td><td>31000</td><td>2</td></tr><tr><td>Brunei Darussalam</td><td>Purpose Driven Living Home</td><td>31000</td><td>3</td></tr><tr><td>Brunei Darussalam</td><td>Purpose Driven Living Home</td><td>31000</td><td>4</td></tr><tr><td>Brunei Darussalam</td><td>The Autism Vault</td><td>5000</td><td>5</td></tr><tr><td>Brunei Darussalam</td><td>The Autism Vault</td><td>5000</td><td>6</td></tr><tr><td>Brunei Darussalam</td><td>The Autism Vault</td><td>5000</td><td>7</td></tr><tr><td>Brunei Darussalam</td><td>The Autism Vault</td><td>5000</td><td>8</td></tr><tr><td>Bulgaria</td><td>Half Baked Harvest</td><td>912000</td><td>1</td></tr><tr><td>Bulgaria</td><td>Half Baked Harvest</td><td>912000</td><td>2</td></tr><tr><td>Bulgaria</td><td>Half Baked Harvest</td><td>912000</td><td>3</td></tr><tr><td>Bulgaria</td><td>Half Baked Harvest</td><td>912000</td><td>4</td></tr><tr><td>Bulgaria</td><td>A Piece of Rainbow</td><td>603000</td><td>5</td></tr><tr><td>Bulgaria</td><td>A Piece of Rainbow</td><td>603000</td><td>6</td></tr><tr><td>Bulgaria</td><td>A Piece of Rainbow</td><td>603000</td><td>7</td></tr><tr><td>Bulgaria</td><td>A Piece of Rainbow</td><td>603000</td><td>8</td></tr><tr><td>Bulgaria</td><td>A Piece of Rainbow</td><td>603000</td><td>9</td></tr><tr><td>Bulgaria</td><td>A Piece of Rainbow</td><td>603000</td><td>10</td></tr><tr><td>Bulgaria</td><td>A Piece of Rainbow</td><td>603000</td><td>11</td></tr><tr><td>Bulgaria</td><td>A Piece of Rainbow</td><td>603000</td><td>12</td></tr><tr><td>Bulgaria</td><td>The Techie Teacher</td><td>59000</td><td>13</td></tr><tr><td>Bulgaria</td><td>The Techie Teacher</td><td>59000</td><td>14</td></tr><tr><td>Bulgaria</td><td>The Techie Teacher</td><td>59000</td><td>15</td></tr><tr><td>Bulgaria</td><td>The Techie Teacher</td><td>59000</td><td>16</td></tr><tr><td>Bulgaria</td><td>Cool Material</td><td>36000</td><td>17</td></tr><tr><td>Bulgaria</td><td>Cool Material</td><td>36000</td><td>18</td></tr><tr><td>Bulgaria</td><td>Cool Material</td><td>36000</td><td>19</td></tr><tr><td>Bulgaria</td><td>Cool Material</td><td>36000</td><td>20</td></tr><tr><td>Bulgaria</td><td>CarGurus</td><td>35000</td><td>21</td></tr><tr><td>Bulgaria</td><td>CarGurus</td><td>35000</td><td>22</td></tr><tr><td>Bulgaria</td><td>CarGurus</td><td>35000</td><td>23</td></tr><tr><td>Bulgaria</td><td>CarGurus</td><td>35000</td><td>24</td></tr><tr><td>Bulgaria</td><td>Living Low Key | Save Money, Make Money, & Frugal Living</td><td>26000</td><td>25</td></tr><tr><td>Bulgaria</td><td>Living Low Key | Save Money, Make Money, & Frugal Living</td><td>26000</td><td>26</td></tr><tr><td>Bulgaria</td><td>Living Low Key | Save Money, Make Money, & Frugal Living</td><td>26000</td><td>27</td></tr><tr><td>Bulgaria</td><td>Living Low Key | Save Money, Make Money, & Frugal Living</td><td>26000</td><td>28</td></tr><tr><td>Bulgaria</td><td>Living Low Key | Save Money, Make Money, & Frugal Living</td><td>26000</td><td>29</td></tr><tr><td>Bulgaria</td><td>Living Low Key | Save Money, Make Money, & Frugal Living</td><td>26000</td><td>30</td></tr><tr><td>Bulgaria</td><td>Living Low Key | Save Money, Make Money, & Frugal Living</td><td>26000</td><td>31</td></tr><tr><td>Bulgaria</td><td>Living Low Key | Save Money, Make Money, & Frugal Living</td><td>26000</td><td>32</td></tr><tr><td>Bulgaria</td><td>Living Low Key | Save Money, Make Money, & Frugal Living</td><td>26000</td><td>33</td></tr><tr><td>Burkina Faso</td><td>Home Hacks</td><td>235000</td><td>1</td></tr><tr><td>Burkina Faso</td><td>Home Hacks</td><td>235000</td><td>2</td></tr><tr><td>Burkina Faso</td><td>Home Hacks</td><td>235000</td><td>3</td></tr><tr><td>Burkina Faso</td><td>Home Hacks</td><td>235000</td><td>4</td></tr><tr><td>Burkina Faso</td><td>Dare to Cultivate</td><td>7000</td><td>5</td></tr><tr><td>Burkina Faso</td><td>Dare to Cultivate</td><td>7000</td><td>6</td></tr><tr><td>Burkina Faso</td><td>Dare to Cultivate</td><td>7000</td><td>7</td></tr><tr><td>Burkina Faso</td><td>Dare to Cultivate</td><td>7000</td><td>8</td></tr><tr><td>Burkina Faso</td><td>Sunsets N Style | Lifestyle Blogger</td><td>1000</td><td>9</td></tr><tr><td>Burkina Faso</td><td>Sunsets N Style | Lifestyle Blogger</td><td>1000</td><td>10</td></tr><tr><td>Burkina Faso</td><td>Sunsets N Style | Lifestyle Blogger</td><td>1000</td><td>11</td></tr><tr><td>Burkina Faso</td><td>Sunsets N Style | Lifestyle Blogger</td><td>1000</td><td>12</td></tr><tr><td>Burundi</td><td>Cute Cat Videos</td><td>373</td><td>1</td></tr><tr><td>Burundi</td><td>Cute Cat Videos</td><td>373</td><td>2</td></tr><tr><td>Burundi</td><td>Cute Cat Videos</td><td>373</td><td>3</td></tr><tr><td>Burundi</td><td>Cute Cat Videos</td><td>373</td><td>4</td></tr><tr><td>Cambodia</td><td>Catch My Party</td><td>2000000</td><td>1</td></tr><tr><td>Cambodia</td><td>Catch My Party</td><td>2000000</td><td>2</td></tr><tr><td>Cambodia</td><td>Catch My Party</td><td>2000000</td><td>3</td></tr><tr><td>Cambodia</td><td>Catch My Party</td><td>2000000</td><td>4</td></tr><tr><td>Cambodia</td><td>Blusher</td><td>583000</td><td>5</td></tr><tr><td>Cambodia</td><td>Blusher</td><td>583000</td><td>6</td></tr><tr><td>Cambodia</td><td>Blusher</td><td>583000</td><td>7</td></tr><tr><td>Cambodia</td><td>Blusher</td><td>583000</td><td>8</td></tr><tr><td>Cambodia</td><td>Mixed Media Crafts</td><td>6000</td><td>9</td></tr><tr><td>Cameroon</td><td>Made to be a Momma</td><td>85000</td><td>1</td></tr><tr><td>Cameroon</td><td>Made to be a Momma</td><td>85000</td><td>2</td></tr><tr><td>Cameroon</td><td>Made to be a Momma</td><td>85000</td><td>3</td></tr><tr><td>Cameroon</td><td>Made to be a Momma</td><td>85000</td><td>4</td></tr><tr><td>Cameroon</td><td>Homemade For Elle</td><td>61000</td><td>5</td></tr><tr><td>Cameroon</td><td>Homemade For Elle</td><td>61000</td><td>6</td></tr><tr><td>Cameroon</td><td>Homemade For Elle</td><td>61000</td><td>7</td></tr><tr><td>Cameroon</td><td>Homemade For Elle</td><td>61000</td><td>8</td></tr><tr><td>Cameroon</td><td>Jada Wilson</td><td>11</td><td>9</td></tr><tr><td>Cameroon</td><td>Jada Wilson</td><td>11</td><td>10</td></tr><tr><td>Cameroon</td><td>Jada Wilson</td><td>11</td><td>11</td></tr><tr><td>Cameroon</td><td>Jada Wilson</td><td>11</td><td>12</td></tr><tr><td>Canada</td><td>Giorgenti New York</td><td>258000</td><td>1</td></tr><tr><td>Canada</td><td>Giorgenti New York</td><td>258000</td><td>2</td></tr><tr><td>Canada</td><td>Giorgenti New York</td><td>258000</td><td>3</td></tr><tr><td>Canada</td><td>Giorgenti New York</td><td>258000</td><td>4</td></tr><tr><td>Canada</td><td>Diana's Healthy Living | Luxury Adventure Travel Blog</td><td>7000</td><td>5</td></tr><tr><td>Canada</td><td>Diana's Healthy Living | Luxury Adventure Travel Blog</td><td>7000</td><td>6</td></tr><tr><td>Canada</td><td>Diana's Healthy Living | Luxury Adventure Travel Blog</td><td>7000</td><td>7</td></tr><tr><td>Canada</td><td>Diana's Healthy Living | Luxury Adventure Travel Blog</td><td>7000</td><td>8</td></tr><tr><td>Canada</td><td>List & File</td><td>43</td><td>9</td></tr><tr><td>Canada</td><td>List & File</td><td>43</td><td>10</td></tr><tr><td>Canada</td><td>List & File</td><td>43</td><td>11</td></tr><tr><td>Canada</td><td>List & File</td><td>43</td><td>12</td></tr><tr><td>Cape Verde</td><td>Sand and Sisal</td><td>178000</td><td>1</td></tr><tr><td>Cape Verde</td><td>Sand and Sisal</td><td>178000</td><td>2</td></tr><tr><td>Cape Verde</td><td>Sand and Sisal</td><td>178000</td><td>3</td></tr><tr><td>Cape Verde</td><td>Sand and Sisal</td><td>178000</td><td>4</td></tr><tr><td>Cape Verde</td><td>Sand and Sisal</td><td>178000</td><td>5</td></tr><tr><td>Cape Verde</td><td>Sand and Sisal</td><td>178000</td><td>6</td></tr><tr><td>Cape Verde</td><td>Sand and Sisal</td><td>178000</td><td>7</td></tr><tr><td>Cape Verde</td><td>Sand and Sisal</td><td>178000</td><td>8</td></tr><tr><td>Cape Verde</td><td>Sand and Sisal</td><td>178000</td><td>9</td></tr><tr><td>Cape Verde</td><td>RT Lifestyle Magazine | Travel, DIY, Recipes, Fitness & More</td><td>43000</td><td>10</td></tr><tr><td>Cape Verde</td><td>RT Lifestyle Magazine | Travel, DIY, Recipes, Fitness & More</td><td>43000</td><td>11</td></tr><tr><td>Cape Verde</td><td>RT Lifestyle Magazine | Travel, DIY, Recipes, Fitness & More</td><td>43000</td><td>12</td></tr><tr><td>Cape Verde</td><td>RT Lifestyle Magazine | Travel, DIY, Recipes, Fitness & More</td><td>43000</td><td>13</td></tr><tr><td>Cape Verde</td><td>Jooosy</td><td>77</td><td>14</td></tr><tr><td>Cape Verde</td><td>Jooosy</td><td>77</td><td>15</td></tr><tr><td>Cape Verde</td><td>Jooosy</td><td>77</td><td>16</td></tr><tr><td>Cape Verde</td><td>Jooosy</td><td>77</td><td>17</td></tr><tr><td>Cayman Islands</td><td>How Wee Learn</td><td>383000</td><td>1</td></tr><tr><td>Cayman Islands</td><td>How Wee Learn</td><td>383000</td><td>2</td></tr><tr><td>Cayman Islands</td><td>How Wee Learn</td><td>383000</td><td>3</td></tr><tr><td>Cayman Islands</td><td>How Wee Learn</td><td>383000</td><td>4</td></tr><tr><td>Cayman Islands</td><td>Our Escape Clause l Travel in Europe & Beyond</td><td>15000</td><td>5</td></tr><tr><td>Cayman Islands</td><td>Our Escape Clause l Travel in Europe & Beyond</td><td>15000</td><td>6</td></tr><tr><td>Cayman Islands</td><td>Our Escape Clause l Travel in Europe & Beyond</td><td>15000</td><td>7</td></tr><tr><td>Cayman Islands</td><td>Our Escape Clause l Travel in Europe & Beyond</td><td>15000</td><td>8</td></tr><tr><td>Central African Republic</td><td>PureWow</td><td>868000</td><td>1</td></tr><tr><td>Central African Republic</td><td>PureWow</td><td>868000</td><td>2</td></tr><tr><td>Central African Republic</td><td>PureWow</td><td>868000</td><td>3</td></tr><tr><td>Central African Republic</td><td>PureWow</td><td>868000</td><td>4</td></tr><tr><td>Central African Republic</td><td>PureWow</td><td>868000</td><td>5</td></tr><tr><td>Central African Republic</td><td>PureWow</td><td>868000</td><td>6</td></tr><tr><td>Central African Republic</td><td>PureWow</td><td>868000</td><td>7</td></tr><tr><td>Central African Republic</td><td>PureWow</td><td>868000</td><td>8</td></tr><tr><td>Central African Republic</td><td>PureWow</td><td>868000</td><td>9</td></tr><tr><td>Central African Republic</td><td>Maria Braga</td><td>40000</td><td>10</td></tr><tr><td>Central African Republic</td><td>Maria Braga</td><td>40000</td><td>11</td></tr><tr><td>Central African Republic</td><td>Maria Braga</td><td>40000</td><td>12</td></tr><tr><td>Central African Republic</td><td>Maria Braga</td><td>40000</td><td>13</td></tr><tr><td>Central African Republic</td><td>Creative in Chicago</td><td>22000</td><td>14</td></tr><tr><td>Central African Republic</td><td>Creative in Chicago</td><td>22000</td><td>15</td></tr><tr><td>Central African Republic</td><td>Creative in Chicago</td><td>22000</td><td>16</td></tr><tr><td>Central African Republic</td><td>Creative in Chicago</td><td>22000</td><td>17</td></tr><tr><td>Central African Republic</td><td>Fearless Leader</td><td>473</td><td>18</td></tr><tr><td>Central African Republic</td><td>Fearless Leader</td><td>473</td><td>19</td></tr><tr><td>Central African Republic</td><td>Fearless Leader</td><td>473</td><td>20</td></tr><tr><td>Central African Republic</td><td>Fearless Leader</td><td>473</td><td>21</td></tr><tr><td>Central African Republic</td><td>G&S JEWELLERS</td><td>28</td><td>22</td></tr><tr><td>Central African Republic</td><td>G&S JEWELLERS</td><td>28</td><td>23</td></tr><tr><td>Central African Republic</td><td>G&S JEWELLERS</td><td>28</td><td>24</td></tr><tr><td>Central African Republic</td><td>G&S JEWELLERS</td><td>28</td><td>25</td></tr><tr><td>Chad</td><td>Glued To My Crafts</td><td>226000</td><td>1</td></tr><tr><td>Chad</td><td>Glued To My Crafts</td><td>226000</td><td>2</td></tr><tr><td>Chad</td><td>Glued To My Crafts</td><td>226000</td><td>3</td></tr><tr><td>Chad</td><td>Glued To My Crafts</td><td>226000</td><td>4</td></tr><tr><td>Chad</td><td>Hip Homeschool Moms</td><td>31000</td><td>5</td></tr><tr><td>Chad</td><td>Hip Homeschool Moms</td><td>31000</td><td>6</td></tr><tr><td>Chad</td><td>Hip Homeschool Moms</td><td>31000</td><td>7</td></tr><tr><td>Chad</td><td>Hip Homeschool Moms</td><td>31000</td><td>8</td></tr><tr><td>Chile</td><td>Amber Strong - The Maker’s Map | DIY’s, Crafts & Home Decor</td><td>19000</td><td>1</td></tr><tr><td>Chile</td><td>Amber Strong - The Maker’s Map | DIY’s, Crafts & Home Decor</td><td>19000</td><td>2</td></tr><tr><td>Chile</td><td>Amber Strong - The Maker’s Map | DIY’s, Crafts & Home Decor</td><td>19000</td><td>3</td></tr><tr><td>Chile</td><td>Amber Strong - The Maker’s Map | DIY’s, Crafts & Home Decor</td><td>19000</td><td>4</td></tr><tr><td>Chile</td><td>Forever Lost In Travel - Travel and lifestyle blog</td><td>3000</td><td>5</td></tr><tr><td>Chile</td><td>Forever Lost In Travel - Travel and lifestyle blog</td><td>3000</td><td>6</td></tr><tr><td>Chile</td><td>Forever Lost In Travel - Travel and lifestyle blog</td><td>3000</td><td>7</td></tr><tr><td>Chile</td><td>Forever Lost In Travel - Travel and lifestyle blog</td><td>3000</td><td>8</td></tr><tr><td>China</td><td>Josie Lewis Art</td><td>195000</td><td>1</td></tr><tr><td>China</td><td>Josie Lewis Art</td><td>195000</td><td>2</td></tr><tr><td>China</td><td>Josie Lewis Art</td><td>195000</td><td>3</td></tr><tr><td>China</td><td>Josie Lewis Art</td><td>195000</td><td>4</td></tr><tr><td>China</td><td>Empowered Sustenance</td><td>127000</td><td>5</td></tr><tr><td>China</td><td>Empowered Sustenance</td><td>127000</td><td>6</td></tr><tr><td>China</td><td>Empowered Sustenance</td><td>127000</td><td>7</td></tr><tr><td>China</td><td>Empowered Sustenance</td><td>127000</td><td>8</td></tr><tr><td>Christmas Island</td><td>Instructables</td><td>3000000</td><td>1</td></tr><tr><td>Christmas Island</td><td>Instructables</td><td>3000000</td><td>2</td></tr><tr><td>Christmas Island</td><td>Instructables</td><td>3000000</td><td>3</td></tr><tr><td>Christmas Island</td><td>Instructables</td><td>3000000</td><td>4</td></tr><tr><td>Christmas Island</td><td>Instructables</td><td>3000000</td><td>5</td></tr><tr><td>Christmas Island</td><td>Instructables</td><td>3000000</td><td>6</td></tr><tr><td>Christmas Island</td><td>Instructables</td><td>3000000</td><td>7</td></tr><tr><td>Christmas Island</td><td>Instructables</td><td>3000000</td><td>8</td></tr><tr><td>Christmas Island</td><td>Instructables</td><td>3000000</td><td>9</td></tr><tr><td>Christmas Island</td><td>eHow</td><td>2000000</td><td>10</td></tr><tr><td>Christmas Island</td><td>eHow</td><td>2000000</td><td>11</td></tr><tr><td>Christmas Island</td><td>eHow</td><td>2000000</td><td>12</td></tr><tr><td>Christmas Island</td><td>eHow</td><td>2000000</td><td>13</td></tr><tr><td>Cocos (Keeling) Islands</td><td>Zero Debt Coach | Money Courses & Coaching (I Follow Back)</td><td>13000</td><td>1</td></tr><tr><td>Cocos (Keeling) Islands</td><td>Zero Debt Coach | Money Courses & Coaching (I Follow Back)</td><td>13000</td><td>2</td></tr><tr><td>Cocos (Keeling) Islands</td><td>Zero Debt Coach | Money Courses & Coaching (I Follow Back)</td><td>13000</td><td>3</td></tr><tr><td>Cocos (Keeling) Islands</td><td>Zero Debt Coach | Money Courses & Coaching (I Follow Back)</td><td>13000</td><td>4</td></tr><tr><td>Cocos (Keeling) Islands</td><td>The World Was Here First</td><td>5000</td><td>5</td></tr><tr><td>Cocos (Keeling) Islands</td><td>The World Was Here First</td><td>5000</td><td>6</td></tr><tr><td>Cocos (Keeling) Islands</td><td>The World Was Here First</td><td>5000</td><td>7</td></tr><tr><td>Cocos (Keeling) Islands</td><td>The World Was Here First</td><td>5000</td><td>8</td></tr><tr><td>Cocos (Keeling) Islands</td><td>Ray Uyemura</td><td>437</td><td>9</td></tr><tr><td>Cocos (Keeling) Islands</td><td>Rachelle DeBoue</td><td>19</td><td>10</td></tr><tr><td>Cocos (Keeling) Islands</td><td>Rachelle DeBoue</td><td>19</td><td>11</td></tr><tr><td>Cocos (Keeling) Islands</td><td>Rachelle DeBoue</td><td>19</td><td>12</td></tr><tr><td>Cocos (Keeling) Islands</td><td>Rachelle DeBoue</td><td>19</td><td>13</td></tr><tr><td>Colombia</td><td>Renata’s Boutique</td><td>27</td><td>1</td></tr><tr><td>Colombia</td><td>Renata’s Boutique</td><td>27</td><td>2</td></tr><tr><td>Colombia</td><td>Renata’s Boutique</td><td>27</td><td>3</td></tr><tr><td>Colombia</td><td>Renata’s Boutique</td><td>27</td><td>4</td></tr><tr><td>Colombia</td><td>Consuelo Aguirre</td><td>0</td><td>5</td></tr><tr><td>Comoros</td><td>Becky Mansfield - YourModernFamily </td><td>196000</td><td>1</td></tr><tr><td>Comoros</td><td>Becky Mansfield - YourModernFamily </td><td>196000</td><td>2</td></tr><tr><td>Comoros</td><td>Becky Mansfield - YourModernFamily </td><td>196000</td><td>3</td></tr><tr><td>Comoros</td><td>Becky Mansfield - YourModernFamily </td><td>196000</td><td>4</td></tr><tr><td>Comoros</td><td>Simple Lionheart Life</td><td>31000</td><td>5</td></tr><tr><td>Comoros</td><td>Simple Lionheart Life</td><td>31000</td><td>6</td></tr><tr><td>Comoros</td><td>Simple Lionheart Life</td><td>31000</td><td>7</td></tr><tr><td>Comoros</td><td>Simple Lionheart Life</td><td>31000</td><td>8</td></tr><tr><td>Comoros</td><td>FinanceAndMotherhood2021</td><td>60</td><td>9</td></tr><tr><td>Comoros</td><td>FinanceAndMotherhood2021</td><td>60</td><td>10</td></tr><tr><td>Comoros</td><td>FinanceAndMotherhood2021</td><td>60</td><td>11</td></tr><tr><td>Comoros</td><td>FinanceAndMotherhood2021</td><td>60</td><td>12</td></tr><tr><td>Congo</td><td>He and She Eat Clean</td><td>88000</td><td>1</td></tr><tr><td>Congo</td><td>He and She Eat Clean</td><td>88000</td><td>2</td></tr><tr><td>Congo</td><td>He and She Eat Clean</td><td>88000</td><td>3</td></tr><tr><td>Congo</td><td>He and She Eat Clean</td><td>88000</td><td>4</td></tr><tr><td>Congo</td><td>The Cards We Drew</td><td>64000</td><td>5</td></tr><tr><td>Congo</td><td>The Cards We Drew</td><td>64000</td><td>6</td></tr><tr><td>Congo</td><td>The Cards We Drew</td><td>64000</td><td>7</td></tr><tr><td>Congo</td><td>The Cards We Drew</td><td>64000</td><td>8</td></tr><tr><td>Congo</td><td>Shawn Petite</td><td>27000</td><td>9</td></tr><tr><td>Congo</td><td>Lindsay Ann Learning | High School English Activities </td><td>6000</td><td>10</td></tr><tr><td>Congo</td><td>Lindsay Ann Learning | High School English Activities </td><td>6000</td><td>11</td></tr><tr><td>Congo</td><td>Lindsay Ann Learning | High School English Activities </td><td>6000</td><td>12</td></tr><tr><td>Congo</td><td>Lindsay Ann Learning | High School English Activities </td><td>6000</td><td>13</td></tr><tr><td>Congo</td><td>Fueled By Wanderlust</td><td>2000</td><td>14</td></tr><tr><td>Congo</td><td>Fueled By Wanderlust</td><td>2000</td><td>15</td></tr><tr><td>Congo</td><td>Fueled By Wanderlust</td><td>2000</td><td>16</td></tr><tr><td>Congo</td><td>Fueled By Wanderlust</td><td>2000</td><td>17</td></tr><tr><td>Cook Islands</td><td>SeedTime (Money Tips)</td><td>77000</td><td>1</td></tr><tr><td>Cook Islands</td><td>SeedTime (Money Tips)</td><td>77000</td><td>2</td></tr><tr><td>Cook Islands</td><td>SeedTime (Money Tips)</td><td>77000</td><td>3</td></tr><tr><td>Cook Islands</td><td>SeedTime (Money Tips)</td><td>77000</td><td>4</td></tr><tr><td>Cook Islands</td><td>The Spring Break Family - Family Travel</td><td>1000</td><td>5</td></tr><tr><td>Cook Islands</td><td>The Spring Break Family - Family Travel</td><td>1000</td><td>6</td></tr><tr><td>Cook Islands</td><td>The Spring Break Family - Family Travel</td><td>1000</td><td>7</td></tr><tr><td>Cook Islands</td><td>The Spring Break Family - Family Travel</td><td>1000</td><td>8</td></tr><tr><td>Costa Rica</td><td>Liz Marie</td><td>309000</td><td>1</td></tr><tr><td>Costa Rica</td><td>Liz Marie</td><td>309000</td><td>2</td></tr><tr><td>Costa Rica</td><td>Liz Marie</td><td>309000</td><td>3</td></tr><tr><td>Costa Rica</td><td>Liz Marie</td><td>309000</td><td>4</td></tr><tr><td>Costa Rica</td><td>Momentary Ink</td><td>27000</td><td>5</td></tr><tr><td>Costa Rica</td><td>Momentary Ink</td><td>27000</td><td>6</td></tr><tr><td>Costa Rica</td><td>Momentary Ink</td><td>27000</td><td>7</td></tr><tr><td>Costa Rica</td><td>Momentary Ink</td><td>27000</td><td>8</td></tr><tr><td>Costa Rica</td><td>Motivation for Mom</td><td>19000</td><td>9</td></tr><tr><td>Costa Rica</td><td>Motivation for Mom</td><td>19000</td><td>10</td></tr><tr><td>Costa Rica</td><td>Motivation for Mom</td><td>19000</td><td>11</td></tr><tr><td>Costa Rica</td><td>Motivation for Mom</td><td>19000</td><td>12</td></tr><tr><td>Cote d'Ivoire</td><td>The Crafting Chicks</td><td>192000</td><td>1</td></tr><tr><td>Cote d'Ivoire</td><td>The Crafting Chicks</td><td>192000</td><td>2</td></tr><tr><td>Cote d'Ivoire</td><td>The Crafting Chicks</td><td>192000</td><td>3</td></tr><tr><td>Cote d'Ivoire</td><td>The Crafting Chicks</td><td>192000</td><td>4</td></tr><tr><td>Cote d'Ivoire</td><td>The Crafting Chicks</td><td>192000</td><td>5</td></tr><tr><td>Cote d'Ivoire</td><td>The Crafting Chicks</td><td>192000</td><td>6</td></tr><tr><td>Cote d'Ivoire</td><td>The Crafting Chicks</td><td>192000</td><td>7</td></tr><tr><td>Cote d'Ivoire</td><td>The Crafting Chicks</td><td>192000</td><td>8</td></tr><tr><td>Cote d'Ivoire</td><td>The Crafting Chicks</td><td>192000</td><td>9</td></tr><tr><td>Cote d'Ivoire</td><td>Revelist</td><td>75000</td><td>10</td></tr><tr><td>Cote d'Ivoire</td><td>Revelist</td><td>75000</td><td>11</td></tr><tr><td>Cote d'Ivoire</td><td>Revelist</td><td>75000</td><td>12</td></tr><tr><td>Cote d'Ivoire</td><td>Revelist</td><td>75000</td><td>13</td></tr><tr><td>Cote d'Ivoire</td><td>Math Giraffe</td><td>25000</td><td>14</td></tr><tr><td>Cote d'Ivoire</td><td>Journey Era | Fun Adventure</td><td>24000</td><td>15</td></tr><tr><td>Cote d'Ivoire</td><td>Journey Era | Fun Adventure</td><td>24000</td><td>16</td></tr><tr><td>Cote d'Ivoire</td><td>Journey Era | Fun Adventure</td><td>24000</td><td>17</td></tr><tr><td>Cote d'Ivoire</td><td>Journey Era | Fun Adventure</td><td>24000</td><td>18</td></tr><tr><td>Cuba</td><td>Listotic - Easy Ideas | Fun DIY Projects | Easy Recipes | Lists</td><td>307000</td><td>1</td></tr><tr><td>Cuba</td><td>Listotic - Easy Ideas | Fun DIY Projects | Easy Recipes | Lists</td><td>307000</td><td>2</td></tr><tr><td>Cuba</td><td>Listotic - Easy Ideas | Fun DIY Projects | Easy Recipes | Lists</td><td>307000</td><td>3</td></tr><tr><td>Cuba</td><td>Listotic - Easy Ideas | Fun DIY Projects | Easy Recipes | Lists</td><td>307000</td><td>4</td></tr><tr><td>Cuba</td><td>Decluttering Your Life</td><td>102000</td><td>5</td></tr><tr><td>Cuba</td><td>Decluttering Your Life</td><td>102000</td><td>6</td></tr><tr><td>Cuba</td><td>Decluttering Your Life</td><td>102000</td><td>7</td></tr><tr><td>Cuba</td><td>Decluttering Your Life</td><td>102000</td><td>8</td></tr><tr><td>Cuba</td><td>Jenny | Life + Style Blogger </td><td>16000</td><td>9</td></tr><tr><td>Cuba</td><td>Jenny | Life + Style Blogger </td><td>16000</td><td>10</td></tr><tr><td>Cuba</td><td>Jenny | Life + Style Blogger </td><td>16000</td><td>11</td></tr><tr><td>Cuba</td><td>Jenny | Life + Style Blogger </td><td>16000</td><td>12</td></tr><tr><td>Czech Republic</td><td>Todd | Financial Mentor</td><td>7000</td><td>1</td></tr><tr><td>Czech Republic</td><td>Todd | Financial Mentor</td><td>7000</td><td>2</td></tr><tr><td>Czech Republic</td><td>Todd | Financial Mentor</td><td>7000</td><td>3</td></tr><tr><td>Czech Republic</td><td>Todd | Financial Mentor</td><td>7000</td><td>4</td></tr><tr><td>Denmark</td><td>A Life Adjacent</td><td>36000</td><td>1</td></tr><tr><td>Denmark</td><td>A Life Adjacent</td><td>36000</td><td>2</td></tr><tr><td>Denmark</td><td>A Life Adjacent</td><td>36000</td><td>3</td></tr><tr><td>Denmark</td><td>A Life Adjacent</td><td>36000</td><td>4</td></tr><tr><td>Denmark</td><td>FINITIES</td><td>177</td><td>5</td></tr><tr><td>Denmark</td><td>FINITIES</td><td>177</td><td>6</td></tr><tr><td>Denmark</td><td>FINITIES</td><td>177</td><td>7</td></tr><tr><td>Denmark</td><td>FINITIES</td><td>177</td><td>8</td></tr><tr><td>Djibouti</td><td>Instrupix | Lilly Childers</td><td>275000</td><td>1</td></tr><tr><td>Djibouti</td><td>Instrupix | Lilly Childers</td><td>275000</td><td>2</td></tr><tr><td>Djibouti</td><td>Instrupix | Lilly Childers</td><td>275000</td><td>3</td></tr><tr><td>Djibouti</td><td>Instrupix | Lilly Childers</td><td>275000</td><td>4</td></tr><tr><td>Djibouti</td><td>Katepickle - picklebums - fun ideas for families</td><td>130000</td><td>5</td></tr><tr><td>Djibouti</td><td>Katepickle - picklebums - fun ideas for families</td><td>130000</td><td>6</td></tr><tr><td>Djibouti</td><td>Katepickle - picklebums - fun ideas for families</td><td>130000</td><td>7</td></tr><tr><td>Djibouti</td><td>Katepickle - picklebums - fun ideas for families</td><td>130000</td><td>8</td></tr><tr><td>Dominica</td><td>Monique - Living Life and Learning</td><td>67000</td><td>1</td></tr><tr><td>Dominica</td><td>Monique - Living Life and Learning</td><td>67000</td><td>2</td></tr><tr><td>Dominica</td><td>Monique - Living Life and Learning</td><td>67000</td><td>3</td></tr><tr><td>Dominica</td><td>Monique - Living Life and Learning</td><td>67000</td><td>4</td></tr><tr><td>Dominica</td><td>Happy Catering n Events</td><td>458</td><td>5</td></tr><tr><td>Dominica</td><td>Happy Catering n Events</td><td>458</td><td>6</td></tr><tr><td>Dominica</td><td>Happy Catering n Events</td><td>458</td><td>7</td></tr><tr><td>Dominica</td><td>Happy Catering n Events</td><td>458</td><td>8</td></tr><tr><td>Dominican Republic</td><td>Mrs. P's Specialties- Educational Resources</td><td>20000</td><td>1</td></tr><tr><td>Dominican Republic</td><td>Mrs. P's Specialties- Educational Resources</td><td>20000</td><td>2</td></tr><tr><td>Dominican Republic</td><td>Mrs. P's Specialties- Educational Resources</td><td>20000</td><td>3</td></tr><tr><td>Dominican Republic</td><td>Mrs. P's Specialties- Educational Resources</td><td>20000</td><td>4</td></tr><tr><td>Dominican Republic</td><td>Petite in Paris</td><td>3000</td><td>5</td></tr><tr><td>Dominican Republic</td><td>Petite in Paris</td><td>3000</td><td>6</td></tr><tr><td>Dominican Republic</td><td>Petite in Paris</td><td>3000</td><td>7</td></tr><tr><td>Dominican Republic</td><td>Petite in Paris</td><td>3000</td><td>8</td></tr><tr><td>Dominican Republic</td><td>Petite in Paris</td><td>3000</td><td>9</td></tr><tr><td>Dominican Republic</td><td>Petite in Paris</td><td>3000</td><td>10</td></tr><tr><td>Dominican Republic</td><td>Petite in Paris</td><td>3000</td><td>11</td></tr><tr><td>Dominican Republic</td><td>Petite in Paris</td><td>3000</td><td>12</td></tr><tr><td>Dominican Republic</td><td>Petite in Paris</td><td>3000</td><td>13</td></tr><tr><td>Ecuador</td><td>Midwest Jewelers & Estate Buyers</td><td>265</td><td>1</td></tr><tr><td>Ecuador</td><td>Midwest Jewelers & Estate Buyers</td><td>265</td><td>2</td></tr><tr><td>Ecuador</td><td>Midwest Jewelers & Estate Buyers</td><td>265</td><td>3</td></tr><tr><td>Ecuador</td><td>Midwest Jewelers & Estate Buyers</td><td>265</td><td>4</td></tr><tr><td>Egypt</td><td>Allure</td><td>346000</td><td>1</td></tr><tr><td>Egypt</td><td>Allure</td><td>346000</td><td>2</td></tr><tr><td>Egypt</td><td>Allure</td><td>346000</td><td>3</td></tr><tr><td>Egypt</td><td>Allure</td><td>346000</td><td>4</td></tr><tr><td>Egypt</td><td>Lists For All</td><td>11000</td><td>5</td></tr><tr><td>Egypt</td><td>Lists For All</td><td>11000</td><td>6</td></tr><tr><td>Egypt</td><td>Lists For All</td><td>11000</td><td>7</td></tr><tr><td>Egypt</td><td>Lists For All</td><td>11000</td><td>8</td></tr><tr><td>Egypt</td><td>South Lumina Style</td><td>9000</td><td>9</td></tr><tr><td>Egypt</td><td>South Lumina Style</td><td>9000</td><td>10</td></tr><tr><td>Egypt</td><td>South Lumina Style</td><td>9000</td><td>11</td></tr><tr><td>Egypt</td><td>South Lumina Style</td><td>9000</td><td>12</td></tr><tr><td>Egypt</td><td>South Lumina Style</td><td>9000</td><td>13</td></tr><tr><td>Egypt</td><td>South Lumina Style</td><td>9000</td><td>14</td></tr><tr><td>Egypt</td><td>South Lumina Style</td><td>9000</td><td>15</td></tr><tr><td>Egypt</td><td>South Lumina Style</td><td>9000</td><td>16</td></tr><tr><td>Egypt</td><td>South Lumina Style</td><td>9000</td><td>17</td></tr><tr><td>Egypt</td><td>QueenBee Design Studio</td><td>824</td><td>18</td></tr><tr><td>Egypt</td><td>QueenBee Design Studio</td><td>824</td><td>19</td></tr><tr><td>Egypt</td><td>QueenBee Design Studio</td><td>824</td><td>20</td></tr><tr><td>Egypt</td><td>QueenBee Design Studio</td><td>824</td><td>21</td></tr><tr><td>Egypt</td><td>Elizabeth Leigh</td><td>406</td><td>22</td></tr><tr><td>Egypt</td><td>Elizabeth Leigh</td><td>406</td><td>23</td></tr><tr><td>Egypt</td><td>Elizabeth Leigh</td><td>406</td><td>24</td></tr><tr><td>Egypt</td><td>Elizabeth Leigh</td><td>406</td><td>25</td></tr><tr><td>Egypt</td><td>Elizabeth Leigh</td><td>406</td><td>26</td></tr><tr><td>Egypt</td><td>Elizabeth Leigh</td><td>406</td><td>27</td></tr><tr><td>Egypt</td><td>Elizabeth Leigh</td><td>406</td><td>28</td></tr><tr><td>Egypt</td><td>Elizabeth Leigh</td><td>406</td><td>29</td></tr><tr><td>Egypt</td><td>Elizabeth Leigh</td><td>406</td><td>30</td></tr><tr><td>Egypt</td><td>Elizabeth Leigh</td><td>406</td><td>31</td></tr><tr><td>Egypt</td><td>Elizabeth Leigh</td><td>406</td><td>32</td></tr><tr><td>Egypt</td><td>Elizabeth Leigh</td><td>406</td><td>33</td></tr><tr><td>Egypt</td><td>Elizabeth Leigh</td><td>406</td><td>34</td></tr><tr><td>Egypt</td><td>Elizabeth Leigh</td><td>406</td><td>35</td></tr><tr><td>Egypt</td><td>Elizabeth Leigh</td><td>406</td><td>36</td></tr><tr><td>Egypt</td><td>Elizabeth Leigh</td><td>406</td><td>37</td></tr><tr><td>Egypt</td><td>Plex Oasis</td><td>25</td><td>38</td></tr><tr><td>Egypt</td><td>Plex Oasis</td><td>25</td><td>39</td></tr><tr><td>Egypt</td><td>Plex Oasis</td><td>25</td><td>40</td></tr><tr><td>Egypt</td><td>Plex Oasis</td><td>25</td><td>41</td></tr><tr><td>El Salvador</td><td>Power of Positivity</td><td>221000</td><td>1</td></tr><tr><td>El Salvador</td><td>Power of Positivity</td><td>221000</td><td>2</td></tr><tr><td>El Salvador</td><td>Power of Positivity</td><td>221000</td><td>3</td></tr><tr><td>El Salvador</td><td>Power of Positivity</td><td>221000</td><td>4</td></tr><tr><td>El Salvador</td><td>Chloe Crabtree | Celebrate & Decorate</td><td>42000</td><td>5</td></tr><tr><td>El Salvador</td><td>Chloe Crabtree | Celebrate & Decorate</td><td>42000</td><td>6</td></tr><tr><td>El Salvador</td><td>Chloe Crabtree | Celebrate & Decorate</td><td>42000</td><td>7</td></tr><tr><td>El Salvador</td><td>Chloe Crabtree | Celebrate & Decorate</td><td>42000</td><td>8</td></tr><tr><td>El Salvador</td><td>Frncsco Cmpbll</td><td>436</td><td>9</td></tr><tr><td>El Salvador</td><td>Frncsco Cmpbll</td><td>436</td><td>10</td></tr><tr><td>El Salvador</td><td>Frncsco Cmpbll</td><td>436</td><td>11</td></tr><tr><td>El Salvador</td><td>Frncsco Cmpbll</td><td>436</td><td>12</td></tr><tr><td>Equatorial Guinea</td><td>MarQuai Romari</td><td>31</td><td>1</td></tr><tr><td>Equatorial Guinea</td><td>MarQuai Romari</td><td>31</td><td>2</td></tr><tr><td>Equatorial Guinea</td><td>MarQuai Romari</td><td>31</td><td>3</td></tr><tr><td>Equatorial Guinea</td><td>MarQuai Romari</td><td>31</td><td>4</td></tr><tr><td>Ethiopia</td><td>Crafty Lumberjacks </td><td>28000</td><td>1</td></tr><tr><td>Ethiopia</td><td>Crafty Lumberjacks </td><td>28000</td><td>2</td></tr><tr><td>Ethiopia</td><td>Crafty Lumberjacks </td><td>28000</td><td>3</td></tr><tr><td>Ethiopia</td><td>Crafty Lumberjacks </td><td>28000</td><td>4</td></tr><tr><td>Ethiopia</td><td>Sarah Wahl | Crestfox</td><td>17000</td><td>5</td></tr><tr><td>Ethiopia</td><td>Sarah Wahl | Crestfox</td><td>17000</td><td>6</td></tr><tr><td>Ethiopia</td><td>Sarah Wahl | Crestfox</td><td>17000</td><td>7</td></tr><tr><td>Ethiopia</td><td>Sarah Wahl | Crestfox</td><td>17000</td><td>8</td></tr><tr><td>Ethiopia</td><td>LONGANCE</td><td>5000</td><td>9</td></tr><tr><td>Ethiopia</td><td>LONGANCE</td><td>5000</td><td>10</td></tr><tr><td>Ethiopia</td><td>LONGANCE</td><td>5000</td><td>11</td></tr><tr><td>Ethiopia</td><td>LONGANCE</td><td>5000</td><td>12</td></tr><tr><td>Falkland Islands (Malvinas)</td><td>Autism Adventures</td><td>21000</td><td>1</td></tr><tr><td>Falkland Islands (Malvinas)</td><td>Autism Adventures</td><td>21000</td><td>2</td></tr><tr><td>Falkland Islands (Malvinas)</td><td>Autism Adventures</td><td>21000</td><td>3</td></tr><tr><td>Falkland Islands (Malvinas)</td><td>Autism Adventures</td><td>21000</td><td>4</td></tr><tr><td>Faroe Islands</td><td>QC Event School</td><td>511</td><td>1</td></tr><tr><td>Faroe Islands</td><td>QC Event School</td><td>511</td><td>2</td></tr><tr><td>Faroe Islands</td><td>QC Event School</td><td>511</td><td>3</td></tr><tr><td>Faroe Islands</td><td>QC Event School</td><td>511</td><td>4</td></tr><tr><td>Faroe Islands</td><td>Finn Gratata</td><td>443</td><td>5</td></tr><tr><td>Faroe Islands</td><td>Finn Gratata</td><td>443</td><td>6</td></tr><tr><td>Faroe Islands</td><td>Finn Gratata</td><td>443</td><td>7</td></tr><tr><td>Faroe Islands</td><td>Finn Gratata</td><td>443</td><td>8</td></tr><tr><td>Fiji</td><td>Homeschool Giveaways and Freebies</td><td>99000</td><td>1</td></tr><tr><td>Fiji</td><td>Homeschool Giveaways and Freebies</td><td>99000</td><td>2</td></tr><tr><td>Fiji</td><td>Homeschool Giveaways and Freebies</td><td>99000</td><td>3</td></tr><tr><td>Fiji</td><td>Homeschool Giveaways and Freebies</td><td>99000</td><td>4</td></tr><tr><td>Fiji</td><td>Teach Create Motivate</td><td>41000</td><td>5</td></tr><tr><td>Fiji</td><td>Teach Create Motivate</td><td>41000</td><td>6</td></tr><tr><td>Fiji</td><td>Teach Create Motivate</td><td>41000</td><td>7</td></tr><tr><td>Fiji</td><td>Teach Create Motivate</td><td>41000</td><td>8</td></tr><tr><td>Fiji</td><td>Szikszai Szabolcs</td><td>2000</td><td>9</td></tr><tr><td>Fiji</td><td>Szikszai Szabolcs</td><td>2000</td><td>10</td></tr><tr><td>Fiji</td><td>Szikszai Szabolcs</td><td>2000</td><td>11</td></tr><tr><td>Fiji</td><td>Szikszai Szabolcs</td><td>2000</td><td>12</td></tr><tr><td>Finland</td><td>Melissa</td><td>4000</td><td>1</td></tr><tr><td>Finland</td><td>Melissa</td><td>4000</td><td>2</td></tr><tr><td>Finland</td><td>Melissa</td><td>4000</td><td>3</td></tr><tr><td>Finland</td><td>Melissa</td><td>4000</td><td>4</td></tr><tr><td>Finland</td><td>Mccready-romero</td><td>20</td><td>5</td></tr><tr><td>Finland</td><td>Mccready-romero</td><td>20</td><td>6</td></tr><tr><td>Finland</td><td>Mccready-romero</td><td>20</td><td>7</td></tr><tr><td>Finland</td><td>Mccready-romero</td><td>20</td><td>8</td></tr><tr><td>France</td><td>Hey Pretty Beauty Blog</td><td>7000</td><td>1</td></tr><tr><td>France</td><td>Hey Pretty Beauty Blog</td><td>7000</td><td>2</td></tr><tr><td>France</td><td>Hey Pretty Beauty Blog</td><td>7000</td><td>3</td></tr><tr><td>France</td><td>Hey Pretty Beauty Blog</td><td>7000</td><td>4</td></tr><tr><td>French Guiana</td><td>Sweet Red Poppy Free Sewing Patterns, Cut Files & Craft Tutorials</td><td>241000</td><td>1</td></tr><tr><td>French Guiana</td><td>Sweet Red Poppy Free Sewing Patterns, Cut Files & Craft Tutorials</td><td>241000</td><td>2</td></tr><tr><td>French Guiana</td><td>Sweet Red Poppy Free Sewing Patterns, Cut Files & Craft Tutorials</td><td>241000</td><td>3</td></tr><tr><td>French Guiana</td><td>Sweet Red Poppy Free Sewing Patterns, Cut Files & Craft Tutorials</td><td>241000</td><td>4</td></tr><tr><td>French Guiana</td><td>Commitment Connection</td><td>51000</td><td>5</td></tr><tr><td>French Guiana</td><td>Commitment Connection</td><td>51000</td><td>6</td></tr><tr><td>French Guiana</td><td>Commitment Connection</td><td>51000</td><td>7</td></tr><tr><td>French Guiana</td><td>Commitment Connection</td><td>51000</td><td>8</td></tr><tr><td>French Guiana</td><td>Commitment Connection</td><td>51000</td><td>9</td></tr><tr><td>French Guiana</td><td>Commitment Connection</td><td>51000</td><td>10</td></tr><tr><td>French Guiana</td><td>Commitment Connection</td><td>51000</td><td>11</td></tr><tr><td>French Guiana</td><td>Commitment Connection</td><td>51000</td><td>12</td></tr><tr><td>French Guiana</td><td>Commitment Connection</td><td>51000</td><td>13</td></tr><tr><td>French Guiana</td><td>Commitment Connection</td><td>51000</td><td>14</td></tr><tr><td>French Guiana</td><td>Commitment Connection</td><td>51000</td><td>15</td></tr><tr><td>French Guiana</td><td>Commitment Connection</td><td>51000</td><td>16</td></tr><tr><td>French Guiana</td><td>Commitment Connection</td><td>51000</td><td>17</td></tr><tr><td>French Guiana</td><td>Commitment Connection</td><td>51000</td><td>18</td></tr><tr><td>French Guiana</td><td>Commitment Connection</td><td>51000</td><td>19</td></tr><tr><td>French Guiana</td><td>Commitment Connection</td><td>51000</td><td>20</td></tr><tr><td>French Polynesia</td><td>The Printable Princess</td><td>52000</td><td>1</td></tr><tr><td>French Polynesia</td><td>The Printable Princess</td><td>52000</td><td>2</td></tr><tr><td>French Polynesia</td><td>The Printable Princess</td><td>52000</td><td>3</td></tr><tr><td>French Polynesia</td><td>The Printable Princess</td><td>52000</td><td>4</td></tr><tr><td>French Southern Territories</td><td>Mary at Home is Where the Boat Is</td><td>59000</td><td>1</td></tr><tr><td>French Southern Territories</td><td>Mary at Home is Where the Boat Is</td><td>59000</td><td>2</td></tr><tr><td>French Southern Territories</td><td>Mary at Home is Where the Boat Is</td><td>59000</td><td>3</td></tr><tr><td>French Southern Territories</td><td>Mary at Home is Where the Boat Is</td><td>59000</td><td>4</td></tr><tr><td>Gambia</td><td>Josi Pellicano</td><td>6000</td><td>1</td></tr><tr><td>Gambia</td><td>Josi Pellicano</td><td>6000</td><td>2</td></tr><tr><td>Gambia</td><td>Josi Pellicano</td><td>6000</td><td>3</td></tr><tr><td>Gambia</td><td>Josi Pellicano</td><td>6000</td><td>4</td></tr><tr><td>Georgia</td><td>Science of Curiosity</td><td>9000</td><td>1</td></tr><tr><td>Georgia</td><td>Science of Curiosity</td><td>9000</td><td>2</td></tr><tr><td>Georgia</td><td>Science of Curiosity</td><td>9000</td><td>3</td></tr><tr><td>Georgia</td><td>Science of Curiosity</td><td>9000</td><td>4</td></tr><tr><td>Germany</td><td>Middle Class Dad</td><td>10000</td><td>1</td></tr><tr><td>Germany</td><td>Middle Class Dad</td><td>10000</td><td>2</td></tr><tr><td>Germany</td><td>Middle Class Dad</td><td>10000</td><td>3</td></tr><tr><td>Germany</td><td>Middle Class Dad</td><td>10000</td><td>4</td></tr><tr><td>Germany</td><td>QC Career School</td><td>5000</td><td>5</td></tr><tr><td>Germany</td><td>QC Career School</td><td>5000</td><td>6</td></tr><tr><td>Germany</td><td>QC Career School</td><td>5000</td><td>7</td></tr><tr><td>Germany</td><td>QC Career School</td><td>5000</td><td>8</td></tr><tr><td>Germany</td><td>QC Career School</td><td>5000</td><td>9</td></tr><tr><td>Germany</td><td>QC Career School</td><td>5000</td><td>10</td></tr><tr><td>Germany</td><td>QC Career School</td><td>5000</td><td>11</td></tr><tr><td>Germany</td><td>QC Career School</td><td>5000</td><td>12</td></tr><tr><td>Germany</td><td>QC Career School</td><td>5000</td><td>13</td></tr><tr><td>Gibraltar</td><td>TheSuperBOO!</td><td>89000</td><td>1</td></tr><tr><td>Gibraltar</td><td>CreatorsAlley</td><td>10000</td><td>2</td></tr><tr><td>Gibraltar</td><td>CreatorsAlley</td><td>10000</td><td>3</td></tr><tr><td>Gibraltar</td><td>CreatorsAlley</td><td>10000</td><td>4</td></tr><tr><td>Gibraltar</td><td>CreatorsAlley</td><td>10000</td><td>5</td></tr><tr><td>Greece</td><td>Terry Bain</td><td>578</td><td>1</td></tr><tr><td>Greece</td><td>Terry Bain</td><td>578</td><td>2</td></tr><tr><td>Greece</td><td>Terry Bain</td><td>578</td><td>3</td></tr><tr><td>Greece</td><td>Terry Bain</td><td>578</td><td>4</td></tr><tr><td>Greenland</td><td>Marcie Quinn</td><td>5</td><td>1</td></tr><tr><td>Greenland</td><td>Marcie Quinn</td><td>5</td><td>2</td></tr><tr><td>Greenland</td><td>Marcie Quinn</td><td>5</td><td>3</td></tr><tr><td>Greenland</td><td>Marcie Quinn</td><td>5</td><td>4</td></tr><tr><td>Grenada</td><td>LOCARI</td><td>256000</td><td>1</td></tr><tr><td>Grenada</td><td>LOCARI</td><td>256000</td><td>2</td></tr><tr><td>Grenada</td><td>LOCARI</td><td>256000</td><td>3</td></tr><tr><td>Grenada</td><td>LOCARI</td><td>256000</td><td>4</td></tr><tr><td>Guadeloupe</td><td>Jess Abbott | The Sewing Rabbit</td><td>123000</td><td>1</td></tr><tr><td>Guadeloupe</td><td>Jess Abbott | The Sewing Rabbit</td><td>123000</td><td>2</td></tr><tr><td>Guadeloupe</td><td>Jess Abbott | The Sewing Rabbit</td><td>123000</td><td>3</td></tr><tr><td>Guadeloupe</td><td>Jess Abbott | The Sewing Rabbit</td><td>123000</td><td>4</td></tr><tr><td>Guadeloupe</td><td>Mommyhooding</td><td>13000</td><td>5</td></tr><tr><td>Guadeloupe</td><td>Mommyhooding</td><td>13000</td><td>6</td></tr><tr><td>Guadeloupe</td><td>Mommyhooding</td><td>13000</td><td>7</td></tr><tr><td>Guadeloupe</td><td>Mommyhooding</td><td>13000</td><td>8</td></tr><tr><td>Guatemala</td><td>GrowingSlower</td><td>30000</td><td>1</td></tr><tr><td>Guatemala</td><td>GrowingSlower</td><td>30000</td><td>2</td></tr><tr><td>Guatemala</td><td>GrowingSlower</td><td>30000</td><td>3</td></tr><tr><td>Guatemala</td><td>GrowingSlower</td><td>30000</td><td>4</td></tr><tr><td>Guernsey</td><td>Quentin Weed</td><td>39</td><td>1</td></tr><tr><td>Guernsey</td><td>Quentin Weed</td><td>39</td><td>2</td></tr><tr><td>Guernsey</td><td>Quentin Weed</td><td>39</td><td>3</td></tr><tr><td>Guernsey</td><td>Quentin Weed</td><td>39</td><td>4</td></tr><tr><td>Guinea</td><td>Woodchuck's Fine Furniture and Decor</td><td>320</td><td>1</td></tr><tr><td>Guinea</td><td>Woodchuck's Fine Furniture and Decor</td><td>320</td><td>2</td></tr><tr><td>Guinea</td><td>Woodchuck's Fine Furniture and Decor</td><td>320</td><td>3</td></tr><tr><td>Guinea</td><td>Woodchuck's Fine Furniture and Decor</td><td>320</td><td>4</td></tr><tr><td>Guinea-Bissau</td><td>The Inspiration Edit - Best Instant Pot Recipes And Kids Crafts</td><td>56000</td><td>1</td></tr><tr><td>Guinea-Bissau</td><td>The Inspiration Edit - Best Instant Pot Recipes And Kids Crafts</td><td>56000</td><td>2</td></tr><tr><td>Guinea-Bissau</td><td>The Inspiration Edit - Best Instant Pot Recipes And Kids Crafts</td><td>56000</td><td>3</td></tr><tr><td>Guinea-Bissau</td><td>The Inspiration Edit - Best Instant Pot Recipes And Kids Crafts</td><td>56000</td><td>4</td></tr><tr><td>Guinea-Bissau</td><td>IngridZenMoments</td><td>4000</td><td>5</td></tr><tr><td>Guinea-Bissau</td><td>IngridZenMoments</td><td>4000</td><td>6</td></tr><tr><td>Guinea-Bissau</td><td>IngridZenMoments</td><td>4000</td><td>7</td></tr><tr><td>Guinea-Bissau</td><td>IngridZenMoments</td><td>4000</td><td>8</td></tr><tr><td>Guinea-Bissau</td><td>Livitrevisani</td><td>0</td><td>9</td></tr><tr><td>Guinea-Bissau</td><td>Livitrevisani</td><td>0</td><td>10</td></tr><tr><td>Guinea-Bissau</td><td>Livitrevisani</td><td>0</td><td>11</td></tr><tr><td>Guinea-Bissau</td><td>Livitrevisani</td><td>0</td><td>12</td></tr><tr><td>Guinea-Bissau</td><td>Livitrevisani</td><td>0</td><td>13</td></tr><tr><td>Guinea-Bissau</td><td>Livitrevisani</td><td>0</td><td>14</td></tr><tr><td>Guinea-Bissau</td><td>Livitrevisani</td><td>0</td><td>15</td></tr><tr><td>Guinea-Bissau</td><td>Livitrevisani</td><td>0</td><td>16</td></tr><tr><td>Guinea-Bissau</td><td>Livitrevisani</td><td>0</td><td>17</td></tr><tr><td>Guyana</td><td>J ♥ Millennial Boss</td><td>29000</td><td>1</td></tr><tr><td>Guyana</td><td>J ♥ Millennial Boss</td><td>29000</td><td>2</td></tr><tr><td>Guyana</td><td>J ♥ Millennial Boss</td><td>29000</td><td>3</td></tr><tr><td>Guyana</td><td>J ♥ Millennial Boss</td><td>29000</td><td>4</td></tr><tr><td>Guyana</td><td>Sarah Martin</td><td>394</td><td>5</td></tr><tr><td>Guyana</td><td>Sarah Martin</td><td>394</td><td>6</td></tr><tr><td>Guyana</td><td>Sarah Martin</td><td>394</td><td>7</td></tr><tr><td>Guyana</td><td>Sarah Martin</td><td>394</td><td>8</td></tr><tr><td>Haiti</td><td>jane at home | decor and design</td><td>79000</td><td>1</td></tr><tr><td>Haiti</td><td>jane at home | decor and design</td><td>79000</td><td>2</td></tr><tr><td>Haiti</td><td>jane at home | decor and design</td><td>79000</td><td>3</td></tr><tr><td>Haiti</td><td>jane at home | decor and design</td><td>79000</td><td>4</td></tr><tr><td>Heard Island and McDonald Islands</td><td>Car and Driver</td><td>50000</td><td>1</td></tr><tr><td>Heard Island and McDonald Islands</td><td>Car and Driver</td><td>50000</td><td>2</td></tr><tr><td>Heard Island and McDonald Islands</td><td>Car and Driver</td><td>50000</td><td>3</td></tr><tr><td>Heard Island and McDonald Islands</td><td>Car and Driver</td><td>50000</td><td>4</td></tr><tr><td>Hong Kong</td><td>Product Compass</td><td>29000</td><td>1</td></tr><tr><td>Hong Kong</td><td>Product Compass</td><td>29000</td><td>2</td></tr><tr><td>Hong Kong</td><td>Product Compass</td><td>29000</td><td>3</td></tr><tr><td>Hong Kong</td><td>Product Compass</td><td>29000</td><td>4</td></tr><tr><td>Hong Kong</td><td>Intentionally Designed</td><td>13000</td><td>5</td></tr><tr><td>Hong Kong</td><td>Intentionally Designed</td><td>13000</td><td>6</td></tr><tr><td>Hong Kong</td><td>Intentionally Designed</td><td>13000</td><td>7</td></tr><tr><td>Hong Kong</td><td>Intentionally Designed</td><td>13000</td><td>8</td></tr><tr><td>Hungary</td><td>BalsaCircle</td><td>2000</td><td>1</td></tr><tr><td>Hungary</td><td>BalsaCircle</td><td>2000</td><td>2</td></tr><tr><td>Hungary</td><td>BalsaCircle</td><td>2000</td><td>3</td></tr><tr><td>Hungary</td><td>BalsaCircle</td><td>2000</td><td>4</td></tr><tr><td>India</td><td>Travel Mad Mum</td><td>7000</td><td>1</td></tr><tr><td>India</td><td>Travel Mad Mum</td><td>7000</td><td>2</td></tr><tr><td>India</td><td>Travel Mad Mum</td><td>7000</td><td>3</td></tr><tr><td>India</td><td>Travel Mad Mum</td><td>7000</td><td>4</td></tr><tr><td>India</td><td>Travel Mad Mum</td><td>7000</td><td>5</td></tr><tr><td>India</td><td>Travel Mad Mum</td><td>7000</td><td>6</td></tr><tr><td>India</td><td>Travel Mad Mum</td><td>7000</td><td>7</td></tr><tr><td>India</td><td>Travel Mad Mum</td><td>7000</td><td>8</td></tr><tr><td>India</td><td>Travel Mad Mum</td><td>7000</td><td>9</td></tr><tr><td>India</td><td>Travel Mad Mum</td><td>7000</td><td>10</td></tr><tr><td>India</td><td>Travel Mad Mum</td><td>7000</td><td>11</td></tr><tr><td>India</td><td>Travel Mad Mum</td><td>7000</td><td>12</td></tr><tr><td>India</td><td>Travel Mad Mum</td><td>7000</td><td>13</td></tr><tr><td>India</td><td>Travel Mad Mum</td><td>7000</td><td>14</td></tr><tr><td>India</td><td>Travel Mad Mum</td><td>7000</td><td>15</td></tr><tr><td>India</td><td>Travel Mad Mum</td><td>7000</td><td>16</td></tr><tr><td>India</td><td>Travel Mad Mum</td><td>7000</td><td>17</td></tr><tr><td>India</td><td>Travel Mad Mum</td><td>7000</td><td>18</td></tr><tr><td>India</td><td>Travel Mad Mum</td><td>7000</td><td>19</td></tr><tr><td>India</td><td>Travel Mad Mum</td><td>7000</td><td>20</td></tr><tr><td>India</td><td>Travel Mad Mum</td><td>7000</td><td>21</td></tr><tr><td>India</td><td>Travel Mad Mum</td><td>7000</td><td>22</td></tr><tr><td>India</td><td>Travel Mad Mum</td><td>7000</td><td>23</td></tr><tr><td>India</td><td>Travel Mad Mum</td><td>7000</td><td>24</td></tr><tr><td>India</td><td>Travel Mad Mum</td><td>7000</td><td>25</td></tr><tr><td>India</td><td>Bella Botanicals - Naturally Beautiful Skincare with CBD</td><td>1000</td><td>26</td></tr><tr><td>India</td><td>Bella Botanicals - Naturally Beautiful Skincare with CBD</td><td>1000</td><td>27</td></tr><tr><td>India</td><td>Bella Botanicals - Naturally Beautiful Skincare with CBD</td><td>1000</td><td>28</td></tr><tr><td>India</td><td>Bella Botanicals - Naturally Beautiful Skincare with CBD</td><td>1000</td><td>29</td></tr><tr><td>Indonesia</td><td>Latoya | Life and a Budget</td><td>24000</td><td>1</td></tr><tr><td>Indonesia</td><td>Latoya | Life and a Budget</td><td>24000</td><td>2</td></tr><tr><td>Indonesia</td><td>Latoya | Life and a Budget</td><td>24000</td><td>3</td></tr><tr><td>Indonesia</td><td>Latoya | Life and a Budget</td><td>24000</td><td>4</td></tr><tr><td>Indonesia</td><td>Latoya | Life and a Budget</td><td>24000</td><td>5</td></tr><tr><td>Indonesia</td><td>Latoya | Life and a Budget</td><td>24000</td><td>6</td></tr><tr><td>Indonesia</td><td>Latoya | Life and a Budget</td><td>24000</td><td>7</td></tr><tr><td>Indonesia</td><td>Latoya | Life and a Budget</td><td>24000</td><td>8</td></tr><tr><td>Indonesia</td><td>Latoya | Life and a Budget</td><td>24000</td><td>9</td></tr><tr><td>Indonesia</td><td>Latoya | Life and a Budget</td><td>24000</td><td>10</td></tr><tr><td>Indonesia</td><td>Latoya | Life and a Budget</td><td>24000</td><td>11</td></tr><tr><td>Indonesia</td><td>Latoya | Life and a Budget</td><td>24000</td><td>12</td></tr><tr><td>Indonesia</td><td>Latoya | Life and a Budget</td><td>24000</td><td>13</td></tr><tr><td>Indonesia</td><td>Latoya | Life and a Budget</td><td>24000</td><td>14</td></tr><tr><td>Indonesia</td><td>Latoya | Life and a Budget</td><td>24000</td><td>15</td></tr><tr><td>Indonesia</td><td>Latoya | Life and a Budget</td><td>24000</td><td>16</td></tr><tr><td>Iran</td><td>Real Ways to Earn | Work From Home + Home Business + Extra Cash</td><td>151000</td><td>1</td></tr><tr><td>Iran</td><td>Real Ways to Earn | Work From Home + Home Business + Extra Cash</td><td>151000</td><td>2</td></tr><tr><td>Iran</td><td>Real Ways to Earn | Work From Home + Home Business + Extra Cash</td><td>151000</td><td>3</td></tr><tr><td>Iran</td><td>Real Ways to Earn | Work From Home + Home Business + Extra Cash</td><td>151000</td><td>4</td></tr><tr><td>Iran</td><td>Mandy Yancer</td><td>150</td><td>5</td></tr><tr><td>Iran</td><td>Mandy Yancer</td><td>150</td><td>6</td></tr><tr><td>Iran</td><td>Mandy Yancer</td><td>150</td><td>7</td></tr><tr><td>Iran</td><td>Mandy Yancer</td><td>150</td><td>8</td></tr><tr><td>Iraq</td><td>LeStyleParfait Fashion Clothing, Shoes, Bags</td><td>40000</td><td>1</td></tr><tr><td>Iraq</td><td>LeStyleParfait Fashion Clothing, Shoes, Bags</td><td>40000</td><td>2</td></tr><tr><td>Iraq</td><td>LeStyleParfait Fashion Clothing, Shoes, Bags</td><td>40000</td><td>3</td></tr><tr><td>Iraq</td><td>LeStyleParfait Fashion Clothing, Shoes, Bags</td><td>40000</td><td>4</td></tr><tr><td>Isle of Man</td><td>Abbotts At Home</td><td>52000</td><td>1</td></tr><tr><td>Isle of Man</td><td>Abbotts At Home</td><td>52000</td><td>2</td></tr><tr><td>Isle of Man</td><td>Abbotts At Home</td><td>52000</td><td>3</td></tr><tr><td>Isle of Man</td><td>Abbotts At Home</td><td>52000</td><td>4</td></tr><tr><td>Isle of Man</td><td>Abbotts At Home</td><td>52000</td><td>5</td></tr><tr><td>Isle of Man</td><td>Abbotts At Home</td><td>52000</td><td>6</td></tr><tr><td>Isle of Man</td><td>Abbotts At Home</td><td>52000</td><td>7</td></tr><tr><td>Isle of Man</td><td>Abbotts At Home</td><td>52000</td><td>8</td></tr><tr><td>Isle of Man</td><td>Abbotts At Home</td><td>52000</td><td>9</td></tr><tr><td>Isle of Man</td><td>Jasminxg</td><td>29000</td><td>10</td></tr><tr><td>Isle of Man</td><td>Jasminxg</td><td>29000</td><td>11</td></tr><tr><td>Isle of Man</td><td>Jasminxg</td><td>29000</td><td>12</td></tr><tr><td>Isle of Man</td><td>Jasminxg</td><td>29000</td><td>13</td></tr><tr><td>Isle of Man</td><td>London x London -  Cool Things To Do + London Travel</td><td>376</td><td>14</td></tr><tr><td>Isle of Man</td><td>London x London -  Cool Things To Do + London Travel</td><td>376</td><td>15</td></tr><tr><td>Isle of Man</td><td>London x London -  Cool Things To Do + London Travel</td><td>376</td><td>16</td></tr><tr><td>Isle of Man</td><td>London x London -  Cool Things To Do + London Travel</td><td>376</td><td>17</td></tr><tr><td>Isle of Man</td><td>Annamarie Hilton</td><td>313</td><td>18</td></tr><tr><td>Isle of Man</td><td>Annamarie Hilton</td><td>313</td><td>19</td></tr><tr><td>Isle of Man</td><td>Annamarie Hilton</td><td>313</td><td>20</td></tr><tr><td>Isle of Man</td><td>Annamarie Hilton</td><td>313</td><td>21</td></tr><tr><td>Isle of Man</td><td>Annamarie Hilton</td><td>313</td><td>22</td></tr><tr><td>Isle of Man</td><td>Annamarie Hilton</td><td>313</td><td>23</td></tr><tr><td>Isle of Man</td><td>Annamarie Hilton</td><td>313</td><td>24</td></tr><tr><td>Isle of Man</td><td>Annamarie Hilton</td><td>313</td><td>25</td></tr><tr><td>Isle of Man</td><td>Annamarie Hilton</td><td>313</td><td>26</td></tr><tr><td>Israel</td><td>LISA MASLYK / VOICE OVER TALENT /ACTOR</td><td>3000</td><td>1</td></tr><tr><td>Israel</td><td>LISA MASLYK / VOICE OVER TALENT /ACTOR</td><td>3000</td><td>2</td></tr><tr><td>Israel</td><td>LISA MASLYK / VOICE OVER TALENT /ACTOR</td><td>3000</td><td>3</td></tr><tr><td>Israel</td><td>LISA MASLYK / VOICE OVER TALENT /ACTOR</td><td>3000</td><td>4</td></tr><tr><td>Jamaica</td><td>hobbyDB</td><td>8000</td><td>1</td></tr><tr><td>Japan</td><td>Eyes On Walls</td><td>17000</td><td>1</td></tr><tr><td>Japan</td><td>Eyes On Walls</td><td>17000</td><td>2</td></tr><tr><td>Japan</td><td>Eyes On Walls</td><td>17000</td><td>3</td></tr><tr><td>Japan</td><td>Eyes On Walls</td><td>17000</td><td>4</td></tr><tr><td>Japan</td><td>Travels and Whims ✈️ | Travel, Fashion, Cruise, Food, Lifestyle</td><td>15000</td><td>5</td></tr><tr><td>Japan</td><td>Travels and Whims ✈️ | Travel, Fashion, Cruise, Food, Lifestyle</td><td>15000</td><td>6</td></tr><tr><td>Japan</td><td>Travels and Whims ✈️ | Travel, Fashion, Cruise, Food, Lifestyle</td><td>15000</td><td>7</td></tr><tr><td>Japan</td><td>Travels and Whims ✈️ | Travel, Fashion, Cruise, Food, Lifestyle</td><td>15000</td><td>8</td></tr><tr><td>Jordan</td><td>Michelozzo Custom Dress Shirts</td><td>17000</td><td>1</td></tr><tr><td>Jordan</td><td>Michelozzo Custom Dress Shirts</td><td>17000</td><td>2</td></tr><tr><td>Jordan</td><td>Michelozzo Custom Dress Shirts</td><td>17000</td><td>3</td></tr><tr><td>Jordan</td><td>Michelozzo Custom Dress Shirts</td><td>17000</td><td>4</td></tr><tr><td>Kenya</td><td>FOURLINE DESIGN | Home Decor & Accessories</td><td>26000</td><td>1</td></tr><tr><td>Kenya</td><td>FOURLINE DESIGN | Home Decor & Accessories</td><td>26000</td><td>2</td></tr><tr><td>Kenya</td><td>FOURLINE DESIGN | Home Decor & Accessories</td><td>26000</td><td>3</td></tr><tr><td>Kenya</td><td>FOURLINE DESIGN | Home Decor & Accessories</td><td>26000</td><td>4</td></tr><tr><td>Kenya</td><td>Laura- Inspire My Play | Play & Learning For Little Kids</td><td>4000</td><td>5</td></tr><tr><td>Kenya</td><td>Laura- Inspire My Play | Play & Learning For Little Kids</td><td>4000</td><td>6</td></tr><tr><td>Kenya</td><td>Laura- Inspire My Play | Play & Learning For Little Kids</td><td>4000</td><td>7</td></tr><tr><td>Kenya</td><td>Laura- Inspire My Play | Play & Learning For Little Kids</td><td>4000</td><td>8</td></tr><tr><td>Kiribati</td><td>Coolnvintage</td><td>6000</td><td>1</td></tr><tr><td>Kiribati</td><td>Coolnvintage</td><td>6000</td><td>2</td></tr><tr><td>Kiribati</td><td>Coolnvintage</td><td>6000</td><td>3</td></tr><tr><td>Kiribati</td><td>Coolnvintage</td><td>6000</td><td>4</td></tr><tr><td>Kiribati</td><td>Lash Lift Store</td><td>115</td><td>5</td></tr><tr><td>Kiribati</td><td>Lash Lift Store</td><td>115</td><td>6</td></tr><tr><td>Kiribati</td><td>Lash Lift Store</td><td>115</td><td>7</td></tr><tr><td>Kiribati</td><td>Lash Lift Store</td><td>115</td><td>8</td></tr><tr><td>Korea</td><td>Latest Hairstyles</td><td>627000</td><td>1</td></tr><tr><td>Korea</td><td>Latest Hairstyles</td><td>627000</td><td>2</td></tr><tr><td>Korea</td><td>Latest Hairstyles</td><td>627000</td><td>3</td></tr><tr><td>Korea</td><td>Latest Hairstyles</td><td>627000</td><td>4</td></tr><tr><td>Korea</td><td>Seasons Of My Home</td><td>35000</td><td>5</td></tr><tr><td>Korea</td><td>Seasons Of My Home</td><td>35000</td><td>6</td></tr><tr><td>Korea</td><td>Seasons Of My Home</td><td>35000</td><td>7</td></tr><tr><td>Korea</td><td>Seasons Of My Home</td><td>35000</td><td>8</td></tr><tr><td>Kuwait</td><td>Green Wedding Shoes</td><td>2000000</td><td>1</td></tr><tr><td>Kuwait</td><td>Green Wedding Shoes</td><td>2000000</td><td>2</td></tr><tr><td>Kuwait</td><td>Green Wedding Shoes</td><td>2000000</td><td>3</td></tr><tr><td>Kuwait</td><td>Green Wedding Shoes</td><td>2000000</td><td>4</td></tr><tr><td>Kuwait</td><td>Green Wedding Shoes</td><td>2000000</td><td>5</td></tr><tr><td>Kuwait</td><td>Green Wedding Shoes</td><td>2000000</td><td>6</td></tr><tr><td>Kuwait</td><td>Green Wedding Shoes</td><td>2000000</td><td>7</td></tr><tr><td>Kuwait</td><td>Green Wedding Shoes</td><td>2000000</td><td>8</td></tr><tr><td>Kuwait</td><td>JDaniel4's Mom</td><td>63000</td><td>9</td></tr><tr><td>Kuwait</td><td>JDaniel4's Mom</td><td>63000</td><td>10</td></tr><tr><td>Kuwait</td><td>JDaniel4's Mom</td><td>63000</td><td>11</td></tr><tr><td>Kuwait</td><td>JDaniel4's Mom</td><td>63000</td><td>12</td></tr><tr><td>Kyrgyz Republic</td><td>Freepik</td><td>2000000</td><td>1</td></tr><tr><td>Kyrgyz Republic</td><td>Freepik</td><td>2000000</td><td>2</td></tr><tr><td>Kyrgyz Republic</td><td>Freepik</td><td>2000000</td><td>3</td></tr><tr><td>Kyrgyz Republic</td><td>Freepik</td><td>2000000</td><td>4</td></tr><tr><td>Kyrgyz Republic</td><td>ADDitude Magazine</td><td>87000</td><td>5</td></tr><tr><td>Kyrgyz Republic</td><td>ADDitude Magazine</td><td>87000</td><td>6</td></tr><tr><td>Kyrgyz Republic</td><td>ADDitude Magazine</td><td>87000</td><td>7</td></tr><tr><td>Kyrgyz Republic</td><td>ADDitude Magazine</td><td>87000</td><td>8</td></tr><tr><td>Kyrgyz Republic</td><td>Chan Tommy</td><td>778</td><td>9</td></tr><tr><td>Kyrgyz Republic</td><td>Chan Tommy</td><td>778</td><td>10</td></tr><tr><td>Kyrgyz Republic</td><td>Chan Tommy</td><td>778</td><td>11</td></tr><tr><td>Kyrgyz Republic</td><td>Chan Tommy</td><td>778</td><td>12</td></tr><tr><td>Latvia</td><td>Royal Fashionist</td><td>188000</td><td>1</td></tr><tr><td>Latvia</td><td>Royal Fashionist</td><td>188000</td><td>2</td></tr><tr><td>Latvia</td><td>Royal Fashionist</td><td>188000</td><td>3</td></tr><tr><td>Latvia</td><td>Royal Fashionist</td><td>188000</td><td>4</td></tr><tr><td>Latvia</td><td>Mini Adventures</td><td>4000</td><td>5</td></tr><tr><td>Latvia</td><td>Mini Adventures</td><td>4000</td><td>6</td></tr><tr><td>Latvia</td><td>Mini Adventures</td><td>4000</td><td>7</td></tr><tr><td>Latvia</td><td>Mini Adventures</td><td>4000</td><td>8</td></tr><tr><td>Latvia</td><td>🌝Dawn S. Burke🌞</td><td>2000</td><td>9</td></tr><tr><td>Latvia</td><td>🌝Dawn S. Burke🌞</td><td>2000</td><td>10</td></tr><tr><td>Latvia</td><td>🌝Dawn S. Burke🌞</td><td>2000</td><td>11</td></tr><tr><td>Latvia</td><td>🌝Dawn S. Burke🌞</td><td>2000</td><td>12</td></tr><tr><td>Lebanon</td><td>Your Positive Oasis | Motivation| Inspiration| Wellness</td><td>163000</td><td>1</td></tr><tr><td>Lebanon</td><td>Your Positive Oasis | Motivation| Inspiration| Wellness</td><td>163000</td><td>2</td></tr><tr><td>Lebanon</td><td>Your Positive Oasis | Motivation| Inspiration| Wellness</td><td>163000</td><td>3</td></tr><tr><td>Lebanon</td><td>Your Positive Oasis | Motivation| Inspiration| Wellness</td><td>163000</td><td>4</td></tr><tr><td>Lesotho</td><td>The Guardian</td><td>908000</td><td>1</td></tr><tr><td>Lesotho</td><td>The Guardian</td><td>908000</td><td>2</td></tr><tr><td>Lesotho</td><td>The Guardian</td><td>908000</td><td>3</td></tr><tr><td>Lesotho</td><td>The Guardian</td><td>908000</td><td>4</td></tr><tr><td>Lesotho</td><td>Mary Bentz Gilkerson: Artist+Teacher</td><td>34000</td><td>5</td></tr><tr><td>Lesotho</td><td>Mary Bentz Gilkerson: Artist+Teacher</td><td>34000</td><td>6</td></tr><tr><td>Lesotho</td><td>Mary Bentz Gilkerson: Artist+Teacher</td><td>34000</td><td>7</td></tr><tr><td>Lesotho</td><td>Mary Bentz Gilkerson: Artist+Teacher</td><td>34000</td><td>8</td></tr><tr><td>Lesotho</td><td>Mary Bentz Gilkerson: Artist+Teacher</td><td>34000</td><td>9</td></tr><tr><td>Lesotho</td><td>Mary Bentz Gilkerson: Artist+Teacher</td><td>34000</td><td>10</td></tr><tr><td>Lesotho</td><td>Mary Bentz Gilkerson: Artist+Teacher</td><td>34000</td><td>11</td></tr><tr><td>Lesotho</td><td>Mary Bentz Gilkerson: Artist+Teacher</td><td>34000</td><td>12</td></tr><tr><td>Lesotho</td><td>mao vicheth</td><td>2</td><td>13</td></tr><tr><td>Lesotho</td><td>mao vicheth</td><td>2</td><td>14</td></tr><tr><td>Lesotho</td><td>mao vicheth</td><td>2</td><td>15</td></tr><tr><td>Lesotho</td><td>mao vicheth</td><td>2</td><td>16</td></tr><tr><td>Liechtenstein</td><td>Sophie's Way</td><td>10000</td><td>1</td></tr><tr><td>Liechtenstein</td><td>Sophie's Way</td><td>10000</td><td>2</td></tr><tr><td>Liechtenstein</td><td>Sophie's Way</td><td>10000</td><td>3</td></tr><tr><td>Liechtenstein</td><td>Sophie's Way</td><td>10000</td><td>4</td></tr><tr><td>Liechtenstein</td><td>SportsMarket</td><td>881</td><td>5</td></tr><tr><td>Liechtenstein</td><td>SportsMarket</td><td>881</td><td>6</td></tr><tr><td>Liechtenstein</td><td>SportsMarket</td><td>881</td><td>7</td></tr><tr><td>Liechtenstein</td><td>SportsMarket</td><td>881</td><td>8</td></tr><tr><td>Lithuania</td><td>Kyra</td><td>34</td><td>1</td></tr><tr><td>Lithuania</td><td>Kyra</td><td>34</td><td>2</td></tr><tr><td>Lithuania</td><td>Kyra</td><td>34</td><td>3</td></tr><tr><td>Lithuania</td><td>Kyra</td><td>34</td><td>4</td></tr><tr><td>Lithuania</td><td>Kiara</td><td>0</td><td>5</td></tr><tr><td>Lithuania</td><td>Kiara</td><td>0</td><td>6</td></tr><tr><td>Lithuania</td><td>Kiara</td><td>0</td><td>7</td></tr><tr><td>Lithuania</td><td>Kiara</td><td>0</td><td>8</td></tr><tr><td>Macao</td><td>Cassie May - Little Red Window Crafts, DIY, crafts, tutorials and knitting patterns! Cassie May - Little Red Window Crafts, DIY, crafts, tutorials and knitting patterns! Edit settings Cassie May - Little Red Window Crafts, DIY, crafts, tutorials and knitting patterns!</td><td>66000</td><td>1</td></tr><tr><td>Macao</td><td>Cassie May - Little Red Window Crafts, DIY, crafts, tutorials and knitting patterns! Cassie May - Little Red Window Crafts, DIY, crafts, tutorials and knitting patterns! Edit settings Cassie May - Little Red Window Crafts, DIY, crafts, tutorials and knitting patterns!</td><td>66000</td><td>2</td></tr><tr><td>Macao</td><td>Cassie May - Little Red Window Crafts, DIY, crafts, tutorials and knitting patterns! Cassie May - Little Red Window Crafts, DIY, crafts, tutorials and knitting patterns! Edit settings Cassie May - Little Red Window Crafts, DIY, crafts, tutorials and knitting patterns!</td><td>66000</td><td>3</td></tr><tr><td>Macao</td><td>Cassie May - Little Red Window Crafts, DIY, crafts, tutorials and knitting patterns! Cassie May - Little Red Window Crafts, DIY, crafts, tutorials and knitting patterns! Edit settings Cassie May - Little Red Window Crafts, DIY, crafts, tutorials and knitting patterns!</td><td>66000</td><td>4</td></tr><tr><td>Macao</td><td>Intellectual</td><td>546</td><td>5</td></tr><tr><td>Macao</td><td>Intellectual</td><td>546</td><td>6</td></tr><tr><td>Macao</td><td>Intellectual</td><td>546</td><td>7</td></tr><tr><td>Macao</td><td>Intellectual</td><td>546</td><td>8</td></tr><tr><td>Madagascar</td><td>MomAdvice</td><td>112000</td><td>1</td></tr><tr><td>Madagascar</td><td>Mix and Match Mama</td><td>103000</td><td>2</td></tr><tr><td>Madagascar</td><td>Mix and Match Mama</td><td>103000</td><td>3</td></tr><tr><td>Madagascar</td><td>Mix and Match Mama</td><td>103000</td><td>4</td></tr><tr><td>Madagascar</td><td>Mix and Match Mama</td><td>103000</td><td>5</td></tr><tr><td>Madagascar</td><td>Nina Hendrick Home</td><td>44000</td><td>6</td></tr><tr><td>Madagascar</td><td>Nina Hendrick Home</td><td>44000</td><td>7</td></tr><tr><td>Madagascar</td><td>Nina Hendrick Home</td><td>44000</td><td>8</td></tr><tr><td>Madagascar</td><td>Nina Hendrick Home</td><td>44000</td><td>9</td></tr><tr><td>Madagascar</td><td>Ecole du Net</td><td>2000</td><td>10</td></tr><tr><td>Madagascar</td><td>Ecole du Net</td><td>2000</td><td>11</td></tr><tr><td>Madagascar</td><td>Ecole du Net</td><td>2000</td><td>12</td></tr><tr><td>Madagascar</td><td>Ecole du Net</td><td>2000</td><td>13</td></tr><tr><td>Malawi</td><td>Avenly Lane | Beauty, Fashion & Travel Inspiration</td><td>14000</td><td>1</td></tr><tr><td>Malawi</td><td>Avenly Lane | Beauty, Fashion & Travel Inspiration</td><td>14000</td><td>2</td></tr><tr><td>Malawi</td><td>Avenly Lane | Beauty, Fashion & Travel Inspiration</td><td>14000</td><td>3</td></tr><tr><td>Malawi</td><td>Avenly Lane | Beauty, Fashion & Travel Inspiration</td><td>14000</td><td>4</td></tr><tr><td>Malawi</td><td>Mens_Lifestyle</td><td>10000</td><td>5</td></tr><tr><td>Malawi</td><td>Mens_Lifestyle</td><td>10000</td><td>6</td></tr><tr><td>Malawi</td><td>Mens_Lifestyle</td><td>10000</td><td>7</td></tr><tr><td>Malawi</td><td>Mens_Lifestyle</td><td>10000</td><td>8</td></tr><tr><td>Maldives</td><td>Parents</td><td>416000</td><td>1</td></tr><tr><td>Maldives</td><td>Parents</td><td>416000</td><td>2</td></tr><tr><td>Maldives</td><td>Parents</td><td>416000</td><td>3</td></tr><tr><td>Maldives</td><td>Parents</td><td>416000</td><td>4</td></tr><tr><td>Maldives</td><td>Passion For Savings</td><td>330000</td><td>5</td></tr><tr><td>Maldives</td><td>Passion For Savings</td><td>330000</td><td>6</td></tr><tr><td>Maldives</td><td>Passion For Savings</td><td>330000</td><td>7</td></tr><tr><td>Maldives</td><td>Passion For Savings</td><td>330000</td><td>8</td></tr><tr><td>Maldives</td><td>Thrive Causemetics</td><td>43000</td><td>9</td></tr><tr><td>Maldives</td><td>Thrive Causemetics</td><td>43000</td><td>10</td></tr><tr><td>Maldives</td><td>Thrive Causemetics</td><td>43000</td><td>11</td></tr><tr><td>Maldives</td><td>Thrive Causemetics</td><td>43000</td><td>12</td></tr><tr><td>Maldives</td><td>Thrive Causemetics</td><td>43000</td><td>13</td></tr><tr><td>Maldives</td><td>Thrive Causemetics</td><td>43000</td><td>14</td></tr><tr><td>Maldives</td><td>Thrive Causemetics</td><td>43000</td><td>15</td></tr><tr><td>Maldives</td><td>Thrive Causemetics</td><td>43000</td><td>16</td></tr><tr><td>Maldives</td><td>Thrive Causemetics</td><td>43000</td><td>17</td></tr><tr><td>Mali</td><td>Mobile Home Living®</td><td>122000</td><td>1</td></tr><tr><td>Mali</td><td>Mobile Home Living®</td><td>122000</td><td>2</td></tr><tr><td>Mali</td><td>Mobile Home Living®</td><td>122000</td><td>3</td></tr><tr><td>Mali</td><td>Mobile Home Living®</td><td>122000</td><td>4</td></tr><tr><td>Malta</td><td>Chi-Wei Shih</td><td>57</td><td>1</td></tr><tr><td>Malta</td><td>Chi-Wei Shih</td><td>57</td><td>2</td></tr><tr><td>Malta</td><td>Chi-Wei Shih</td><td>57</td><td>3</td></tr><tr><td>Malta</td><td>Chi-Wei Shih</td><td>57</td><td>4</td></tr><tr><td>Malta</td><td>Habbie Beauty</td><td>4</td><td>5</td></tr><tr><td>Malta</td><td>Habbie Beauty</td><td>4</td><td>6</td></tr><tr><td>Malta</td><td>Habbie Beauty</td><td>4</td><td>7</td></tr><tr><td>Malta</td><td>Habbie Beauty</td><td>4</td><td>8</td></tr><tr><td>Marshall Islands</td><td>Dashing Darlin' </td><td>13000</td><td>1</td></tr><tr><td>Marshall Islands</td><td>Dashing Darlin' </td><td>13000</td><td>2</td></tr><tr><td>Marshall Islands</td><td>Dashing Darlin' </td><td>13000</td><td>3</td></tr><tr><td>Marshall Islands</td><td>Dashing Darlin' </td><td>13000</td><td>4</td></tr><tr><td>Marshall Islands</td><td>The Wanderful Me • Vegan Travel & Sustainable Living</td><td>5000</td><td>5</td></tr><tr><td>Marshall Islands</td><td>The Wanderful Me • Vegan Travel & Sustainable Living</td><td>5000</td><td>6</td></tr><tr><td>Marshall Islands</td><td>The Wanderful Me • Vegan Travel & Sustainable Living</td><td>5000</td><td>7</td></tr><tr><td>Marshall Islands</td><td>The Wanderful Me • Vegan Travel & Sustainable Living</td><td>5000</td><td>8</td></tr><tr><td>Marshall Islands</td><td>The Wanderful Me • Vegan Travel & Sustainable Living</td><td>5000</td><td>9</td></tr><tr><td>Marshall Islands</td><td>The Wanderful Me • Vegan Travel & Sustainable Living</td><td>5000</td><td>10</td></tr><tr><td>Marshall Islands</td><td>The Wanderful Me • Vegan Travel & Sustainable Living</td><td>5000</td><td>11</td></tr><tr><td>Marshall Islands</td><td>The Wanderful Me • Vegan Travel & Sustainable Living</td><td>5000</td><td>12</td></tr><tr><td>Marshall Islands</td><td>The Wanderful Me • Vegan Travel & Sustainable Living</td><td>5000</td><td>13</td></tr><tr><td>Marshall Islands</td><td>The Wanderful Me • Vegan Travel & Sustainable Living</td><td>5000</td><td>14</td></tr><tr><td>Marshall Islands</td><td>The Wanderful Me • Vegan Travel & Sustainable Living</td><td>5000</td><td>15</td></tr><tr><td>Marshall Islands</td><td>The Wanderful Me • Vegan Travel & Sustainable Living</td><td>5000</td><td>16</td></tr><tr><td>Marshall Islands</td><td>The Wanderful Me • Vegan Travel & Sustainable Living</td><td>5000</td><td>17</td></tr><tr><td>Marshall Islands</td><td>The Wanderful Me • Vegan Travel & Sustainable Living</td><td>5000</td><td>18</td></tr><tr><td>Marshall Islands</td><td>The Wanderful Me • Vegan Travel & Sustainable Living</td><td>5000</td><td>19</td></tr><tr><td>Marshall Islands</td><td>The Wanderful Me • Vegan Travel & Sustainable Living</td><td>5000</td><td>20</td></tr><tr><td>Mauritania</td><td>The Literacy Nest</td><td>22000</td><td>1</td></tr><tr><td>Mayotte</td><td>Ali Martin (Gimme Some Oven)</td><td>766000</td><td>1</td></tr><tr><td>Mayotte</td><td>Ali Martin (Gimme Some Oven)</td><td>766000</td><td>2</td></tr><tr><td>Mayotte</td><td>Ali Martin (Gimme Some Oven)</td><td>766000</td><td>3</td></tr><tr><td>Mayotte</td><td>Ali Martin (Gimme Some Oven)</td><td>766000</td><td>4</td></tr><tr><td>Mexico</td><td>Chris Hansen</td><td>492</td><td>1</td></tr><tr><td>Mexico</td><td>Chris Hansen</td><td>492</td><td>2</td></tr><tr><td>Mexico</td><td>Chris Hansen</td><td>492</td><td>3</td></tr><tr><td>Mexico</td><td>Chris Hansen</td><td>492</td><td>4</td></tr><tr><td>Moldova</td><td>Upcycle My Stuff - DIY Projects | Repurposing | Upcycling</td><td>22000</td><td>1</td></tr><tr><td>Moldova</td><td>Upcycle My Stuff - DIY Projects | Repurposing | Upcycling</td><td>22000</td><td>2</td></tr><tr><td>Moldova</td><td>Upcycle My Stuff - DIY Projects | Repurposing | Upcycling</td><td>22000</td><td>3</td></tr><tr><td>Moldova</td><td>Upcycle My Stuff - DIY Projects | Repurposing | Upcycling</td><td>22000</td><td>4</td></tr><tr><td>Moldova</td><td>Upcycle My Stuff - DIY Projects | Repurposing | Upcycling</td><td>22000</td><td>5</td></tr><tr><td>Moldova</td><td>Upcycle My Stuff - DIY Projects | Repurposing | Upcycling</td><td>22000</td><td>6</td></tr><tr><td>Moldova</td><td>Upcycle My Stuff - DIY Projects | Repurposing | Upcycling</td><td>22000</td><td>7</td></tr><tr><td>Moldova</td><td>Upcycle My Stuff - DIY Projects | Repurposing | Upcycling</td><td>22000</td><td>8</td></tr><tr><td>Monaco</td><td>Hum3D | Car 3D models</td><td>48000</td><td>1</td></tr><tr><td>Monaco</td><td>Hum3D | Car 3D models</td><td>48000</td><td>2</td></tr><tr><td>Monaco</td><td>Hum3D | Car 3D models</td><td>48000</td><td>3</td></tr><tr><td>Monaco</td><td>Hum3D | Car 3D models</td><td>48000</td><td>4</td></tr><tr><td>Montserrat</td><td>EBUYTIDE</td><td>88000</td><td>1</td></tr><tr><td>Montserrat</td><td>EBUYTIDE</td><td>88000</td><td>2</td></tr><tr><td>Montserrat</td><td>EBUYTIDE</td><td>88000</td><td>3</td></tr><tr><td>Montserrat</td><td>EBUYTIDE</td><td>88000</td><td>4</td></tr><tr><td>Montserrat</td><td>Luminous Learning</td><td>6000</td><td>5</td></tr><tr><td>Montserrat</td><td>Luminous Learning</td><td>6000</td><td>6</td></tr><tr><td>Montserrat</td><td>Luminous Learning</td><td>6000</td><td>7</td></tr><tr><td>Montserrat</td><td>Luminous Learning</td><td>6000</td><td>8</td></tr><tr><td>Montserrat</td><td>Taming Little Monsters - Fun Activities for Kids</td><td>4000</td><td>9</td></tr><tr><td>Montserrat</td><td>Taming Little Monsters - Fun Activities for Kids</td><td>4000</td><td>10</td></tr><tr><td>Montserrat</td><td>Taming Little Monsters - Fun Activities for Kids</td><td>4000</td><td>11</td></tr><tr><td>Montserrat</td><td>Taming Little Monsters - Fun Activities for Kids</td><td>4000</td><td>12</td></tr><tr><td>Montserrat</td><td>Taming Little Monsters - Fun Activities for Kids</td><td>4000</td><td>13</td></tr><tr><td>Montserrat</td><td>Taming Little Monsters - Fun Activities for Kids</td><td>4000</td><td>14</td></tr><tr><td>Montserrat</td><td>Taming Little Monsters - Fun Activities for Kids</td><td>4000</td><td>15</td></tr><tr><td>Montserrat</td><td>Taming Little Monsters - Fun Activities for Kids</td><td>4000</td><td>16</td></tr><tr><td>Montserrat</td><td>Taming Little Monsters - Fun Activities for Kids</td><td>4000</td><td>17</td></tr><tr><td>Morocco</td><td>Two Southern Sweeties | Life After 50 + Second Act Lifestyle</td><td>13000</td><td>1</td></tr><tr><td>Morocco</td><td>Two Southern Sweeties | Life After 50 + Second Act Lifestyle</td><td>13000</td><td>2</td></tr><tr><td>Morocco</td><td>Two Southern Sweeties | Life After 50 + Second Act Lifestyle</td><td>13000</td><td>3</td></tr><tr><td>Morocco</td><td>Two Southern Sweeties | Life After 50 + Second Act Lifestyle</td><td>13000</td><td>4</td></tr><tr><td>Mozambique</td><td>Stylin by Aylin</td><td>83000</td><td>1</td></tr><tr><td>Mozambique</td><td>Stylin by Aylin</td><td>83000</td><td>2</td></tr><tr><td>Mozambique</td><td>Stylin by Aylin</td><td>83000</td><td>3</td></tr><tr><td>Mozambique</td><td>Stylin by Aylin</td><td>83000</td><td>4</td></tr><tr><td>Mozambique</td><td>Stylin by Aylin</td><td>83000</td><td>5</td></tr><tr><td>Mozambique</td><td>Stylin by Aylin</td><td>83000</td><td>6</td></tr><tr><td>Mozambique</td><td>Stylin by Aylin</td><td>83000</td><td>7</td></tr><tr><td>Mozambique</td><td>Stylin by Aylin</td><td>83000</td><td>8</td></tr><tr><td>Mozambique</td><td>Stylin by Aylin</td><td>83000</td><td>9</td></tr><tr><td>Mozambique</td><td>Ovetta Jackson</td><td>6000</td><td>10</td></tr><tr><td>Mozambique</td><td>Ovetta Jackson</td><td>6000</td><td>11</td></tr><tr><td>Mozambique</td><td>Ovetta Jackson</td><td>6000</td><td>12</td></tr><tr><td>Mozambique</td><td>Ovetta Jackson</td><td>6000</td><td>13</td></tr><tr><td>Mozambique</td><td>Ramon‘s Weekly</td><td>63</td><td>14</td></tr><tr><td>Mozambique</td><td>Ramon‘s Weekly</td><td>63</td><td>15</td></tr><tr><td>Mozambique</td><td>Ramon‘s Weekly</td><td>63</td><td>16</td></tr><tr><td>Mozambique</td><td>Ramon‘s Weekly</td><td>63</td><td>17</td></tr><tr><td>Namibia</td><td>Snappy Gourmet</td><td>168000</td><td>1</td></tr><tr><td>Namibia</td><td>Snappy Gourmet</td><td>168000</td><td>2</td></tr><tr><td>Namibia</td><td>Snappy Gourmet</td><td>168000</td><td>3</td></tr><tr><td>Namibia</td><td>Snappy Gourmet</td><td>168000</td><td>4</td></tr><tr><td>Namibia</td><td>Inloversva</td><td>18000</td><td>5</td></tr><tr><td>Namibia</td><td>Inloversva</td><td>18000</td><td>6</td></tr><tr><td>Namibia</td><td>Inloversva</td><td>18000</td><td>7</td></tr><tr><td>Namibia</td><td>Inloversva</td><td>18000</td><td>8</td></tr><tr><td>Nauru</td><td>Austen Tosone | NYC Blogger | Fashion + Beauty</td><td>23000</td><td>1</td></tr><tr><td>Nauru</td><td>Austen Tosone | NYC Blogger | Fashion + Beauty</td><td>23000</td><td>2</td></tr><tr><td>Nauru</td><td>Austen Tosone | NYC Blogger | Fashion + Beauty</td><td>23000</td><td>3</td></tr><tr><td>Nauru</td><td>Austen Tosone | NYC Blogger | Fashion + Beauty</td><td>23000</td><td>4</td></tr><tr><td>Netherlands</td><td>PUFIK Interiors & Inspirations</td><td>136000</td><td>1</td></tr><tr><td>Netherlands</td><td>PUFIK Interiors & Inspirations</td><td>136000</td><td>2</td></tr><tr><td>Netherlands</td><td>PUFIK Interiors & Inspirations</td><td>136000</td><td>3</td></tr><tr><td>Netherlands</td><td>PUFIK Interiors & Inspirations</td><td>136000</td><td>4</td></tr><tr><td>Netherlands Antilles</td><td>Kim Cook-Thirteen Chairs-Slates Mugs And Tees</td><td>7000</td><td>1</td></tr><tr><td>Netherlands Antilles</td><td>Kim Cook-Thirteen Chairs-Slates Mugs And Tees</td><td>7000</td><td>2</td></tr><tr><td>Netherlands Antilles</td><td>Kim Cook-Thirteen Chairs-Slates Mugs And Tees</td><td>7000</td><td>3</td></tr><tr><td>Netherlands Antilles</td><td>Kim Cook-Thirteen Chairs-Slates Mugs And Tees</td><td>7000</td><td>4</td></tr><tr><td>Netherlands Antilles</td><td>Kim Cook-Thirteen Chairs-Slates Mugs And Tees</td><td>7000</td><td>5</td></tr><tr><td>Netherlands Antilles</td><td>Kim Cook-Thirteen Chairs-Slates Mugs And Tees</td><td>7000</td><td>6</td></tr><tr><td>Netherlands Antilles</td><td>Kim Cook-Thirteen Chairs-Slates Mugs And Tees</td><td>7000</td><td>7</td></tr><tr><td>Netherlands Antilles</td><td>Kim Cook-Thirteen Chairs-Slates Mugs And Tees</td><td>7000</td><td>8</td></tr><tr><td>Netherlands Antilles</td><td>Kim Cook-Thirteen Chairs-Slates Mugs And Tees</td><td>7000</td><td>9</td></tr><tr><td>Netherlands Antilles</td><td>Melissa Hogan</td><td>4000</td><td>10</td></tr><tr><td>Netherlands Antilles</td><td>Melissa Hogan</td><td>4000</td><td>11</td></tr><tr><td>Netherlands Antilles</td><td>Melissa Hogan</td><td>4000</td><td>12</td></tr><tr><td>Netherlands Antilles</td><td>Melissa Hogan</td><td>4000</td><td>13</td></tr><tr><td>New Caledonia</td><td>Au'vey Smith</td><td>377</td><td>1</td></tr><tr><td>New Caledonia</td><td>Au'vey Smith</td><td>377</td><td>2</td></tr><tr><td>New Caledonia</td><td>Au'vey Smith</td><td>377</td><td>3</td></tr><tr><td>New Caledonia</td><td>Au'vey Smith</td><td>377</td><td>4</td></tr><tr><td>New Caledonia</td><td>Au'vey Smith</td><td>377</td><td>5</td></tr><tr><td>New Caledonia</td><td>Au'vey Smith</td><td>377</td><td>6</td></tr><tr><td>New Caledonia</td><td>Au'vey Smith</td><td>377</td><td>7</td></tr><tr><td>New Caledonia</td><td>Au'vey Smith</td><td>377</td><td>8</td></tr><tr><td>New Caledonia</td><td>Au'vey Smith</td><td>377</td><td>9</td></tr><tr><td>New Caledonia</td><td>Ryan DuVall</td><td>123</td><td>10</td></tr><tr><td>New Caledonia</td><td>Ryan DuVall</td><td>123</td><td>11</td></tr><tr><td>New Caledonia</td><td>Ryan DuVall</td><td>123</td><td>12</td></tr><tr><td>New Caledonia</td><td>Ryan DuVall</td><td>123</td><td>13</td></tr><tr><td>Nicaragua</td><td>Land Rover USA</td><td>9000</td><td>1</td></tr><tr><td>Nicaragua</td><td>Land Rover USA</td><td>9000</td><td>2</td></tr><tr><td>Nicaragua</td><td>Land Rover USA</td><td>9000</td><td>3</td></tr><tr><td>Nicaragua</td><td>Land Rover USA</td><td>9000</td><td>4</td></tr><tr><td>Nicaragua</td><td>Mandy Renee</td><td>729</td><td>5</td></tr><tr><td>Nicaragua</td><td>Mandy Renee</td><td>729</td><td>6</td></tr><tr><td>Nicaragua</td><td>Mandy Renee</td><td>729</td><td>7</td></tr><tr><td>Nicaragua</td><td>Mandy Renee</td><td>729</td><td>8</td></tr><tr><td>Niger</td><td>The Habit Flow | Social Media Design | Templates | Abstract Art</td><td>135</td><td>1</td></tr><tr><td>Niger</td><td>The Habit Flow | Social Media Design | Templates | Abstract Art</td><td>135</td><td>2</td></tr><tr><td>Niger</td><td>The Habit Flow | Social Media Design | Templates | Abstract Art</td><td>135</td><td>3</td></tr><tr><td>Niger</td><td>The Habit Flow | Social Media Design | Templates | Abstract Art</td><td>135</td><td>4</td></tr><tr><td>Nigeria</td><td>eyelashdance</td><td>164</td><td>1</td></tr><tr><td>Nigeria</td><td>eyelashdance</td><td>164</td><td>2</td></tr><tr><td>Nigeria</td><td>eyelashdance</td><td>164</td><td>3</td></tr><tr><td>Nigeria</td><td>eyelashdance</td><td>164</td><td>4</td></tr><tr><td>Norfolk Island</td><td>Lifestyle DIYW \"Live Life & Do IT Your Way\"</td><td>6000</td><td>1</td></tr><tr><td>Norfolk Island</td><td>Lifestyle DIYW \"Live Life & Do IT Your Way\"</td><td>6000</td><td>2</td></tr><tr><td>Norfolk Island</td><td>Lifestyle DIYW \"Live Life & Do IT Your Way\"</td><td>6000</td><td>3</td></tr><tr><td>Norfolk Island</td><td>Lifestyle DIYW \"Live Life & Do IT Your Way\"</td><td>6000</td><td>4</td></tr><tr><td>Norway</td><td>DailyDose</td><td>189</td><td>1</td></tr><tr><td>Norway</td><td>DailyDose</td><td>189</td><td>2</td></tr><tr><td>Norway</td><td>DailyDose</td><td>189</td><td>3</td></tr><tr><td>Norway</td><td>DailyDose</td><td>189</td><td>4</td></tr><tr><td>Oman</td><td>Nifty</td><td>2000000</td><td>1</td></tr><tr><td>Oman</td><td>Nifty</td><td>2000000</td><td>2</td></tr><tr><td>Oman</td><td>Nifty</td><td>2000000</td><td>3</td></tr><tr><td>Oman</td><td>Nifty</td><td>2000000</td><td>4</td></tr><tr><td>Oman</td><td>CentSai |  Personal Finance | Budgeting and Saving Money</td><td>11000</td><td>5</td></tr><tr><td>Oman</td><td>CentSai |  Personal Finance | Budgeting and Saving Money</td><td>11000</td><td>6</td></tr><tr><td>Oman</td><td>CentSai |  Personal Finance | Budgeting and Saving Money</td><td>11000</td><td>7</td></tr><tr><td>Oman</td><td>CentSai |  Personal Finance | Budgeting and Saving Money</td><td>11000</td><td>8</td></tr><tr><td>Oman</td><td>Kennedy Taylor</td><td>777</td><td>9</td></tr><tr><td>Oman</td><td>Kennedy Taylor</td><td>777</td><td>10</td></tr><tr><td>Oman</td><td>Kennedy Taylor</td><td>777</td><td>11</td></tr><tr><td>Oman</td><td>Kennedy Taylor</td><td>777</td><td>12</td></tr><tr><td>Panama</td><td>Alanna | Periodic Adventures</td><td>1000</td><td>1</td></tr><tr><td>Panama</td><td>Alanna | Periodic Adventures</td><td>1000</td><td>2</td></tr><tr><td>Panama</td><td>Alanna | Periodic Adventures</td><td>1000</td><td>3</td></tr><tr><td>Panama</td><td>Alanna | Periodic Adventures</td><td>1000</td><td>4</td></tr><tr><td>Panama</td><td>Abina♡</td><td>43</td><td>5</td></tr><tr><td>Panama</td><td>Abina♡</td><td>43</td><td>6</td></tr><tr><td>Panama</td><td>Abina♡</td><td>43</td><td>7</td></tr><tr><td>Panama</td><td>Abina♡</td><td>43</td><td>8</td></tr><tr><td>Papua New Guinea</td><td>AnnaLee Kick</td><td>112</td><td>1</td></tr><tr><td>Papua New Guinea</td><td>AnnaLee Kick</td><td>112</td><td>2</td></tr><tr><td>Papua New Guinea</td><td>AnnaLee Kick</td><td>112</td><td>3</td></tr><tr><td>Papua New Guinea</td><td>AnnaLee Kick</td><td>112</td><td>4</td></tr><tr><td>Papua New Guinea</td><td>AnnaLee Kick</td><td>112</td><td>5</td></tr><tr><td>Papua New Guinea</td><td>AnnaLee Kick</td><td>112</td><td>6</td></tr><tr><td>Papua New Guinea</td><td>AnnaLee Kick</td><td>112</td><td>7</td></tr><tr><td>Papua New Guinea</td><td>AnnaLee Kick</td><td>112</td><td>8</td></tr><tr><td>Papua New Guinea</td><td>AnnaLee Kick</td><td>112</td><td>9</td></tr><tr><td>Peru</td><td>Clar</td><td>21</td><td>1</td></tr><tr><td>Peru</td><td>Clar</td><td>21</td><td>2</td></tr><tr><td>Peru</td><td>Clar</td><td>21</td><td>3</td></tr><tr><td>Peru</td><td>Clar</td><td>21</td><td>4</td></tr><tr><td>Philippines</td><td>Life of Neon | Custom Neon Light Signs | Home Decor Wall Art</td><td>111</td><td>1</td></tr><tr><td>Pitcairn Islands</td><td>Marla Meridith</td><td>671000</td><td>1</td></tr><tr><td>Pitcairn Islands</td><td>Marla Meridith</td><td>671000</td><td>2</td></tr><tr><td>Pitcairn Islands</td><td>Marla Meridith</td><td>671000</td><td>3</td></tr><tr><td>Pitcairn Islands</td><td>Marla Meridith</td><td>671000</td><td>4</td></tr><tr><td>Portugal</td><td>Lindsey Blogs</td><td>29000</td><td>1</td></tr><tr><td>Portugal</td><td>Lindsey Blogs</td><td>29000</td><td>2</td></tr><tr><td>Portugal</td><td>Lindsey Blogs</td><td>29000</td><td>3</td></tr><tr><td>Portugal</td><td>Lindsey Blogs</td><td>29000</td><td>4</td></tr><tr><td>Puerto Rico</td><td>Book More Brides</td><td>1000</td><td>1</td></tr><tr><td>Puerto Rico</td><td>Book More Brides</td><td>1000</td><td>2</td></tr><tr><td>Puerto Rico</td><td>Book More Brides</td><td>1000</td><td>3</td></tr><tr><td>Puerto Rico</td><td>Book More Brides</td><td>1000</td><td>4</td></tr><tr><td>Qatar</td><td>604 Now</td><td>972</td><td>1</td></tr><tr><td>Qatar</td><td>604 Now</td><td>972</td><td>2</td></tr><tr><td>Qatar</td><td>604 Now</td><td>972</td><td>3</td></tr><tr><td>Qatar</td><td>604 Now</td><td>972</td><td>4</td></tr><tr><td>Romania</td><td>Soberbadassery | Your Free Online Guide To Sober Living </td><td>9000</td><td>1</td></tr><tr><td>Romania</td><td>Soberbadassery | Your Free Online Guide To Sober Living </td><td>9000</td><td>2</td></tr><tr><td>Romania</td><td>Soberbadassery | Your Free Online Guide To Sober Living </td><td>9000</td><td>3</td></tr><tr><td>Romania</td><td>Soberbadassery | Your Free Online Guide To Sober Living </td><td>9000</td><td>4</td></tr><tr><td>Romania</td><td>Joyce Flores</td><td>3000</td><td>5</td></tr><tr><td>Romania</td><td>Joyce Flores</td><td>3000</td><td>6</td></tr><tr><td>Romania</td><td>Joyce Flores</td><td>3000</td><td>7</td></tr><tr><td>Romania</td><td>Joyce Flores</td><td>3000</td><td>8</td></tr><tr><td>Romania</td><td>Kay𖨆</td><td>301</td><td>9</td></tr><tr><td>Romania</td><td>Kay𖨆</td><td>301</td><td>10</td></tr><tr><td>Romania</td><td>Kay𖨆</td><td>301</td><td>11</td></tr><tr><td>Romania</td><td>Kay𖨆</td><td>301</td><td>12</td></tr><tr><td>Romania</td><td>Shea Gordon</td><td>5</td><td>13</td></tr><tr><td>Romania</td><td>Shea Gordon</td><td>5</td><td>14</td></tr><tr><td>Romania</td><td>Shea Gordon</td><td>5</td><td>15</td></tr><tr><td>Romania</td><td>Shea Gordon</td><td>5</td><td>16</td></tr><tr><td>Russian Federation</td><td>Bolig Magasinet</td><td>69000</td><td>1</td></tr><tr><td>Russian Federation</td><td>Bolig Magasinet</td><td>69000</td><td>2</td></tr><tr><td>Russian Federation</td><td>Bolig Magasinet</td><td>69000</td><td>3</td></tr><tr><td>Russian Federation</td><td>Bolig Magasinet</td><td>69000</td><td>4</td></tr><tr><td>Russian Federation</td><td>Teach Workout Love</td><td>10000</td><td>5</td></tr><tr><td>Russian Federation</td><td>Teach Workout Love</td><td>10000</td><td>6</td></tr><tr><td>Russian Federation</td><td>Teach Workout Love</td><td>10000</td><td>7</td></tr><tr><td>Russian Federation</td><td>Teach Workout Love</td><td>10000</td><td>8</td></tr><tr><td>Saint Barthelemy</td><td>Peter Dikhazi</td><td>18</td><td>1</td></tr><tr><td>Saint Barthelemy</td><td>Peter Dikhazi</td><td>18</td><td>2</td></tr><tr><td>Saint Barthelemy</td><td>Peter Dikhazi</td><td>18</td><td>3</td></tr><tr><td>Saint Barthelemy</td><td>Peter Dikhazi</td><td>18</td><td>4</td></tr><tr><td>Saint Kitts and Nevis</td><td>vintagetopia</td><td>171000</td><td>1</td></tr><tr><td>Saint Kitts and Nevis</td><td>vintagetopia</td><td>171000</td><td>2</td></tr><tr><td>Saint Kitts and Nevis</td><td>vintagetopia</td><td>171000</td><td>3</td></tr><tr><td>Saint Kitts and Nevis</td><td>vintagetopia</td><td>171000</td><td>4</td></tr><tr><td>Saint Kitts and Nevis</td><td>vintagetopia</td><td>171000</td><td>5</td></tr><tr><td>Saint Kitts and Nevis</td><td>vintagetopia</td><td>171000</td><td>6</td></tr><tr><td>Saint Kitts and Nevis</td><td>vintagetopia</td><td>171000</td><td>7</td></tr><tr><td>Saint Kitts and Nevis</td><td>vintagetopia</td><td>171000</td><td>8</td></tr><tr><td>Saint Kitts and Nevis</td><td>vintagetopia</td><td>171000</td><td>9</td></tr><tr><td>Saint Martin</td><td>Cracked</td><td>161000</td><td>1</td></tr><tr><td>Saint Martin</td><td>Cracked</td><td>161000</td><td>2</td></tr><tr><td>Saint Martin</td><td>Cracked</td><td>161000</td><td>3</td></tr><tr><td>Saint Martin</td><td>Cracked</td><td>161000</td><td>4</td></tr><tr><td>Saint Martin</td><td>Inredningsvis | Inredning inspiration Interior inspiration</td><td>9000</td><td>5</td></tr><tr><td>Saint Martin</td><td>Inredningsvis | Inredning inspiration Interior inspiration</td><td>9000</td><td>6</td></tr><tr><td>Saint Martin</td><td>Inredningsvis | Inredning inspiration Interior inspiration</td><td>9000</td><td>7</td></tr><tr><td>Saint Martin</td><td>Inredningsvis | Inredning inspiration Interior inspiration</td><td>9000</td><td>8</td></tr><tr><td>Saint Martin</td><td>Inredningsvis | Inredning inspiration Interior inspiration</td><td>9000</td><td>9</td></tr><tr><td>Saint Martin</td><td>Inredningsvis | Inredning inspiration Interior inspiration</td><td>9000</td><td>10</td></tr><tr><td>Saint Martin</td><td>Inredningsvis | Inredning inspiration Interior inspiration</td><td>9000</td><td>11</td></tr><tr><td>Saint Martin</td><td>Inredningsvis | Inredning inspiration Interior inspiration</td><td>9000</td><td>12</td></tr><tr><td>Saint Martin</td><td>Inredningsvis | Inredning inspiration Interior inspiration</td><td>9000</td><td>13</td></tr><tr><td>Saint Pierre and Miquelon</td><td>BC Creatives // Self Care, Blogging & Work From Home Tips ✨</td><td>10000</td><td>1</td></tr><tr><td>Saint Pierre and Miquelon</td><td>BC Creatives // Self Care, Blogging & Work From Home Tips ✨</td><td>10000</td><td>2</td></tr><tr><td>Saint Pierre and Miquelon</td><td>BC Creatives // Self Care, Blogging & Work From Home Tips ✨</td><td>10000</td><td>3</td></tr><tr><td>Saint Pierre and Miquelon</td><td>BC Creatives // Self Care, Blogging & Work From Home Tips ✨</td><td>10000</td><td>4</td></tr><tr><td>Saint Vincent and the Grenadines</td><td>Home Etc</td><td>13</td><td>1</td></tr><tr><td>Saint Vincent and the Grenadines</td><td>Home Etc</td><td>13</td><td>2</td></tr><tr><td>Saint Vincent and the Grenadines</td><td>Home Etc</td><td>13</td><td>3</td></tr><tr><td>Saint Vincent and the Grenadines</td><td>Home Etc</td><td>13</td><td>4</td></tr><tr><td>San Marino</td><td>Sammy Davis Vintage</td><td>23000</td><td>1</td></tr><tr><td>San Marino</td><td>Sammy Davis Vintage</td><td>23000</td><td>2</td></tr><tr><td>San Marino</td><td>Sammy Davis Vintage</td><td>23000</td><td>3</td></tr><tr><td>San Marino</td><td>Sammy Davis Vintage</td><td>23000</td><td>4</td></tr><tr><td>Saudi Arabia</td><td>The Navage Patch®</td><td>136000</td><td>1</td></tr><tr><td>Saudi Arabia</td><td>The Navage Patch®</td><td>136000</td><td>2</td></tr><tr><td>Saudi Arabia</td><td>The Navage Patch®</td><td>136000</td><td>3</td></tr><tr><td>Saudi Arabia</td><td>The Navage Patch®</td><td>136000</td><td>4</td></tr><tr><td>Senegal</td><td>LeShara Fisher</td><td>353</td><td>1</td></tr><tr><td>Senegal</td><td>LeShara Fisher</td><td>353</td><td>2</td></tr><tr><td>Senegal</td><td>LeShara Fisher</td><td>353</td><td>3</td></tr><tr><td>Senegal</td><td>LeShara Fisher</td><td>353</td><td>4</td></tr><tr><td>Senegal</td><td>Falanna Washington</td><td>5</td><td>5</td></tr><tr><td>Senegal</td><td>Falanna Washington</td><td>5</td><td>6</td></tr><tr><td>Senegal</td><td>Falanna Washington</td><td>5</td><td>7</td></tr><tr><td>Senegal</td><td>Falanna Washington</td><td>5</td><td>8</td></tr><tr><td>Seychelles</td><td>ALL FOR WOMAN</td><td>21000</td><td>1</td></tr><tr><td>Seychelles</td><td>Awesthetics by Amy Wong</td><td>18</td><td>2</td></tr><tr><td>Seychelles</td><td>Awesthetics by Amy Wong</td><td>18</td><td>3</td></tr><tr><td>Seychelles</td><td>Awesthetics by Amy Wong</td><td>18</td><td>4</td></tr><tr><td>Seychelles</td><td>Awesthetics by Amy Wong</td><td>18</td><td>5</td></tr><tr><td>Singapore</td><td>CHRISTIAN CHÊNE</td><td>3000</td><td>1</td></tr><tr><td>Singapore</td><td>CHRISTIAN CHÊNE</td><td>3000</td><td>2</td></tr><tr><td>Singapore</td><td>CHRISTIAN CHÊNE</td><td>3000</td><td>3</td></tr><tr><td>Singapore</td><td>CHRISTIAN CHÊNE</td><td>3000</td><td>4</td></tr><tr><td>Singapore</td><td>Lionel Leon</td><td>387</td><td>5</td></tr><tr><td>Singapore</td><td>Lionel Leon</td><td>387</td><td>6</td></tr><tr><td>Singapore</td><td>Lionel Leon</td><td>387</td><td>7</td></tr><tr><td>Singapore</td><td>Lionel Leon</td><td>387</td><td>8</td></tr><tr><td>Singapore</td><td>Brooke Kissler</td><td>179</td><td>9</td></tr><tr><td>Singapore</td><td>Brooke Kissler</td><td>179</td><td>10</td></tr><tr><td>Singapore</td><td>Brooke Kissler</td><td>179</td><td>11</td></tr><tr><td>Singapore</td><td>Brooke Kissler</td><td>179</td><td>12</td></tr><tr><td>Solomon Islands</td><td>Upcyclist</td><td>7000</td><td>1</td></tr><tr><td>Solomon Islands</td><td>Upcyclist</td><td>7000</td><td>2</td></tr><tr><td>Solomon Islands</td><td>Upcyclist</td><td>7000</td><td>3</td></tr><tr><td>Solomon Islands</td><td>Upcyclist</td><td>7000</td><td>4</td></tr><tr><td>Solomon Islands</td><td>Sonet Cox</td><td>6</td><td>5</td></tr><tr><td>Solomon Islands</td><td>Sonet Cox</td><td>6</td><td>6</td></tr><tr><td>Solomon Islands</td><td>Sonet Cox</td><td>6</td><td>7</td></tr><tr><td>Solomon Islands</td><td>Sonet Cox</td><td>6</td><td>8</td></tr><tr><td>Somalia</td><td>Caroline Rose Travel | Solo, Budget and Adventure Travel Blogger</td><td>788</td><td>1</td></tr><tr><td>Somalia</td><td>Caroline Rose Travel | Solo, Budget and Adventure Travel Blogger</td><td>788</td><td>2</td></tr><tr><td>Somalia</td><td>Caroline Rose Travel | Solo, Budget and Adventure Travel Blogger</td><td>788</td><td>3</td></tr><tr><td>Somalia</td><td>Caroline Rose Travel | Solo, Budget and Adventure Travel Blogger</td><td>788</td><td>4</td></tr><tr><td>Sudan</td><td>iElylike ..✿◕‿◕✿ஐ✿◕‿◕✿</td><td>940</td><td>1</td></tr><tr><td>Svalbard & Jan Mayen Islands</td><td>Merissa (Little House Living) | Simple Living + Frugal Living</td><td>152000</td><td>1</td></tr><tr><td>Svalbard & Jan Mayen Islands</td><td>Merissa (Little House Living) | Simple Living + Frugal Living</td><td>152000</td><td>2</td></tr><tr><td>Svalbard & Jan Mayen Islands</td><td>Merissa (Little House Living) | Simple Living + Frugal Living</td><td>152000</td><td>3</td></tr><tr><td>Svalbard & Jan Mayen Islands</td><td>Merissa (Little House Living) | Simple Living + Frugal Living</td><td>152000</td><td>4</td></tr><tr><td>Sweden</td><td>Milan Singh | Finance & Business</td><td>13000</td><td>1</td></tr><tr><td>Sweden</td><td>Milan Singh | Finance & Business</td><td>13000</td><td>2</td></tr><tr><td>Sweden</td><td>Milan Singh | Finance & Business</td><td>13000</td><td>3</td></tr><tr><td>Sweden</td><td>Milan Singh | Finance & Business</td><td>13000</td><td>4</td></tr><tr><td>Taiwan</td><td>Sherry Truhlar</td><td>2000</td><td>1</td></tr><tr><td>Taiwan</td><td>Sherry Truhlar</td><td>2000</td><td>2</td></tr><tr><td>Taiwan</td><td>Sherry Truhlar</td><td>2000</td><td>3</td></tr><tr><td>Taiwan</td><td>Sherry Truhlar</td><td>2000</td><td>4</td></tr><tr><td>Thailand</td><td>Debbie Gartner | The Flooring Girl | Hardwood Floors & Paint Tips</td><td>68000</td><td>1</td></tr><tr><td>Thailand</td><td>Debbie Gartner | The Flooring Girl | Hardwood Floors & Paint Tips</td><td>68000</td><td>2</td></tr><tr><td>Thailand</td><td>Debbie Gartner | The Flooring Girl | Hardwood Floors & Paint Tips</td><td>68000</td><td>3</td></tr><tr><td>Thailand</td><td>Debbie Gartner | The Flooring Girl | Hardwood Floors & Paint Tips</td><td>68000</td><td>4</td></tr><tr><td>Tokelau</td><td>Lexi</td><td>52</td><td>1</td></tr><tr><td>Tokelau</td><td>Lexi</td><td>52</td><td>2</td></tr><tr><td>Tokelau</td><td>Lexi</td><td>52</td><td>3</td></tr><tr><td>Tokelau</td><td>Lexi</td><td>52</td><td>4</td></tr><tr><td>Tonga</td><td>Grecia Perales</td><td>0</td><td>1</td></tr><tr><td>Tunisia</td><td>Travel with Munia</td><td>2000</td><td>1</td></tr><tr><td>Tunisia</td><td>Travel with Munia</td><td>2000</td><td>2</td></tr><tr><td>Tunisia</td><td>Travel with Munia</td><td>2000</td><td>3</td></tr><tr><td>Tunisia</td><td>Travel with Munia</td><td>2000</td><td>4</td></tr><tr><td>Turkey</td><td>My Little Poppies (Cait Curley, MA/CAGS)</td><td>9000</td><td>1</td></tr><tr><td>Turkmenistan</td><td>Dionne ❤️ Home & Life Organized</td><td>7000</td><td>1</td></tr><tr><td>Turkmenistan</td><td>Dionne ❤️ Home & Life Organized</td><td>7000</td><td>2</td></tr><tr><td>Turkmenistan</td><td>Dionne ❤️ Home & Life Organized</td><td>7000</td><td>3</td></tr><tr><td>Turkmenistan</td><td>Dionne ❤️ Home & Life Organized</td><td>7000</td><td>4</td></tr><tr><td>Turkmenistan</td><td>One World Wanderer | Travel Blogger</td><td>1000</td><td>5</td></tr><tr><td>Turkmenistan</td><td>One World Wanderer | Travel Blogger</td><td>1000</td><td>6</td></tr><tr><td>Turkmenistan</td><td>One World Wanderer | Travel Blogger</td><td>1000</td><td>7</td></tr><tr><td>Turkmenistan</td><td>One World Wanderer | Travel Blogger</td><td>1000</td><td>8</td></tr><tr><td>Turks and Caicos Islands</td><td>I.A. Planning</td><td>7</td><td>1</td></tr><tr><td>Turks and Caicos Islands</td><td>I.A. Planning</td><td>7</td><td>2</td></tr><tr><td>Turks and Caicos Islands</td><td>I.A. Planning</td><td>7</td><td>3</td></tr><tr><td>Turks and Caicos Islands</td><td>I.A. Planning</td><td>7</td><td>4</td></tr><tr><td>Tuvalu</td><td>Addymae Rodi</td><td>41</td><td>1</td></tr><tr><td>Tuvalu</td><td>Addymae Rodi</td><td>41</td><td>2</td></tr><tr><td>Tuvalu</td><td>Addymae Rodi</td><td>41</td><td>3</td></tr><tr><td>Tuvalu</td><td>Addymae Rodi</td><td>41</td><td>4</td></tr><tr><td>Uganda</td><td>Hair Accessories</td><td>22</td><td>1</td></tr><tr><td>Uganda</td><td>Hair Accessories</td><td>22</td><td>2</td></tr><tr><td>Uganda</td><td>Hair Accessories</td><td>22</td><td>3</td></tr><tr><td>Uganda</td><td>Hair Accessories</td><td>22</td><td>4</td></tr><tr><td>United Kingdom</td><td>Alisha at Picture the Magic</td><td>19000</td><td>1</td></tr><tr><td>United Kingdom</td><td>Alisha at Picture the Magic</td><td>19000</td><td>2</td></tr><tr><td>United Kingdom</td><td>Alisha at Picture the Magic</td><td>19000</td><td>3</td></tr><tr><td>United Kingdom</td><td>Alisha at Picture the Magic</td><td>19000</td><td>4</td></tr><tr><td>United Kingdom</td><td>Yin Yang Shop</td><td>2000</td><td>5</td></tr><tr><td>United Kingdom</td><td>Yin Yang Shop</td><td>2000</td><td>6</td></tr><tr><td>United Kingdom</td><td>Yin Yang Shop</td><td>2000</td><td>7</td></tr><tr><td>United Kingdom</td><td>Yin Yang Shop</td><td>2000</td><td>8</td></tr><tr><td>United States Minor Outlying Islands</td><td>Pretty Designs</td><td>892000</td><td>1</td></tr><tr><td>United States Minor Outlying Islands</td><td>Pretty Designs</td><td>892000</td><td>2</td></tr><tr><td>United States Minor Outlying Islands</td><td>Pretty Designs</td><td>892000</td><td>3</td></tr><tr><td>United States Minor Outlying Islands</td><td>Pretty Designs</td><td>892000</td><td>4</td></tr><tr><td>United States Virgin Islands</td><td>Renee Slansky  Dating + Relationship Coach -The Dating Directory </td><td>12000</td><td>1</td></tr><tr><td>United States Virgin Islands</td><td>Renee Slansky  Dating + Relationship Coach -The Dating Directory </td><td>12000</td><td>2</td></tr><tr><td>United States Virgin Islands</td><td>Renee Slansky  Dating + Relationship Coach -The Dating Directory </td><td>12000</td><td>3</td></tr><tr><td>United States Virgin Islands</td><td>Renee Slansky  Dating + Relationship Coach -The Dating Directory </td><td>12000</td><td>4</td></tr><tr><td>United States Virgin Islands</td><td>Amanda Harris</td><td>240</td><td>5</td></tr><tr><td>United States Virgin Islands</td><td>Amanda Harris</td><td>240</td><td>6</td></tr><tr><td>United States Virgin Islands</td><td>Amanda Harris</td><td>240</td><td>7</td></tr><tr><td>United States Virgin Islands</td><td>Amanda Harris</td><td>240</td><td>8</td></tr><tr><td>United States of America</td><td>Alicia Greenwood</td><td>0</td><td>1</td></tr><tr><td>United States of America</td><td>Alicia Greenwood</td><td>0</td><td>2</td></tr><tr><td>United States of America</td><td>Alicia Greenwood</td><td>0</td><td>3</td></tr><tr><td>United States of America</td><td>Alicia Greenwood</td><td>0</td><td>4</td></tr><tr><td>Venezuela</td><td>SimpleStepsMax | Investing | Save Money | Make Money</td><td>612</td><td>1</td></tr><tr><td>Venezuela</td><td>SimpleStepsMax | Investing | Save Money | Make Money</td><td>612</td><td>2</td></tr><tr><td>Venezuela</td><td>SimpleStepsMax | Investing | Save Money | Make Money</td><td>612</td><td>3</td></tr><tr><td>Venezuela</td><td>SimpleStepsMax | Investing | Save Money | Make Money</td><td>612</td><td>4</td></tr><tr><td>Vietnam</td><td>Worthing Court Blog</td><td>70000</td><td>1</td></tr><tr><td>Vietnam</td><td>Worthing Court Blog</td><td>70000</td><td>2</td></tr><tr><td>Vietnam</td><td>Worthing Court Blog</td><td>70000</td><td>3</td></tr><tr><td>Vietnam</td><td>Worthing Court Blog</td><td>70000</td><td>4</td></tr><tr><td>Wallis and Futuna</td><td>Organize Ways</td><td>2000</td><td>1</td></tr><tr><td>Wallis and Futuna</td><td>Organize Ways</td><td>2000</td><td>2</td></tr><tr><td>Wallis and Futuna</td><td>Organize Ways</td><td>2000</td><td>3</td></tr><tr><td>Wallis and Futuna</td><td>Organize Ways</td><td>2000</td><td>4</td></tr></tbody></table></div>"
      ]
     },
     "metadata": {
      "application/vnd.databricks.v1+output": {
       "addedWidgets": {},
       "aggData": [],
       "aggError": "",
       "aggOverflow": false,
       "aggSchema": [],
       "aggSeriesLimitReached": false,
       "aggType": "",
       "arguments": {},
       "columnCustomDisplayInfos": {},
       "data": [
        [
         "Afghanistan",
         "Walmart",
         2000000,
         1
        ],
        [
         "Afghanistan",
         "Walmart",
         2000000,
         2
        ],
        [
         "Afghanistan",
         "Walmart",
         2000000,
         3
        ],
        [
         "Afghanistan",
         "Walmart",
         2000000,
         4
        ],
        [
         "Afghanistan",
         "Walmart",
         2000000,
         5
        ],
        [
         "Afghanistan",
         "Walmart",
         2000000,
         6
        ],
        [
         "Afghanistan",
         "Walmart",
         2000000,
         7
        ],
        [
         "Afghanistan",
         "Walmart",
         2000000,
         8
        ],
        [
         "Afghanistan",
         "Walmart",
         2000000,
         9
        ],
        [
         "Afghanistan",
         "Walmart",
         2000000,
         10
        ],
        [
         "Afghanistan",
         "Walmart",
         2000000,
         11
        ],
        [
         "Afghanistan",
         "Walmart",
         2000000,
         12
        ],
        [
         "Afghanistan",
         "Walmart",
         2000000,
         13
        ],
        [
         "Afghanistan",
         "Walmart",
         2000000,
         14
        ],
        [
         "Afghanistan",
         "Blossom",
         2000000,
         15
        ],
        [
         "Afghanistan",
         "Blossom",
         2000000,
         16
        ],
        [
         "Afghanistan",
         "Blossom",
         2000000,
         17
        ],
        [
         "Afghanistan",
         "Blossom",
         2000000,
         18
        ],
        [
         "Afghanistan",
         "Walmart",
         2000000,
         19
        ],
        [
         "Afghanistan",
         "Walmart",
         2000000,
         20
        ],
        [
         "Afghanistan",
         "Walmart",
         2000000,
         21
        ],
        [
         "Afghanistan",
         "Walmart",
         2000000,
         22
        ],
        [
         "Afghanistan",
         "Walmart",
         2000000,
         23
        ],
        [
         "Afghanistan",
         "Walmart",
         2000000,
         24
        ],
        [
         "Afghanistan",
         "Walmart",
         2000000,
         25
        ],
        [
         "Afghanistan",
         "Walmart",
         2000000,
         26
        ],
        [
         "Afghanistan",
         "Walmart",
         2000000,
         27
        ],
        [
         "Afghanistan",
         "Walmart",
         2000000,
         28
        ],
        [
         "Afghanistan",
         "Walmart",
         2000000,
         29
        ],
        [
         "Afghanistan",
         "Blossom",
         2000000,
         30
        ],
        [
         "Afghanistan",
         "Blossom",
         2000000,
         31
        ],
        [
         "Afghanistan",
         "Blossom",
         2000000,
         32
        ],
        [
         "Afghanistan",
         "Blossom",
         2000000,
         33
        ],
        [
         "Afghanistan",
         "Stylecaster",
         960000,
         34
        ],
        [
         "Afghanistan",
         "Stylecaster",
         960000,
         35
        ],
        [
         "Afghanistan",
         "Stylecaster",
         960000,
         36
        ],
        [
         "Afghanistan",
         "Stylecaster",
         960000,
         37
        ],
        [
         "Afghanistan",
         "TheUnstitchd",
         723000,
         38
        ],
        [
         "Afghanistan",
         "TheUnstitchd",
         723000,
         39
        ],
        [
         "Afghanistan",
         "TheUnstitchd",
         723000,
         40
        ],
        [
         "Afghanistan",
         "TheUnstitchd",
         723000,
         41
        ],
        [
         "Afghanistan",
         "TheUnstitchd",
         723000,
         42
        ],
        [
         "Afghanistan",
         "TheUnstitchd",
         723000,
         43
        ],
        [
         "Afghanistan",
         "TheUnstitchd",
         723000,
         44
        ],
        [
         "Afghanistan",
         "TheUnstitchd",
         723000,
         45
        ],
        [
         "Afghanistan",
         "Women.com",
         166000,
         46
        ],
        [
         "Afghanistan",
         "Women.com",
         166000,
         47
        ],
        [
         "Afghanistan",
         "Women.com",
         166000,
         48
        ],
        [
         "Afghanistan",
         "Women.com",
         166000,
         49
        ],
        [
         "Afghanistan",
         "Women.com",
         166000,
         50
        ],
        [
         "Afghanistan",
         "Women.com",
         166000,
         51
        ],
        [
         "Afghanistan",
         "Women.com",
         166000,
         52
        ],
        [
         "Afghanistan",
         "Women.com",
         166000,
         53
        ],
        [
         "Afghanistan",
         "Women.com",
         166000,
         54
        ],
        [
         "Afghanistan",
         "Women.com",
         166000,
         55
        ],
        [
         "Afghanistan",
         "Women.com",
         166000,
         56
        ],
        [
         "Afghanistan",
         "Women.com",
         166000,
         57
        ],
        [
         "Afghanistan",
         "Teaching With a Mountain View",
         76000,
         58
        ],
        [
         "Afghanistan",
         "Teaching With a Mountain View",
         76000,
         59
        ],
        [
         "Afghanistan",
         "Teaching With a Mountain View",
         76000,
         60
        ],
        [
         "Afghanistan",
         "Teaching With a Mountain View",
         76000,
         61
        ],
        [
         "Afghanistan",
         "AllPosters",
         72000,
         62
        ],
        [
         "Afghanistan",
         "AllPosters",
         72000,
         63
        ],
        [
         "Afghanistan",
         "AllPosters",
         72000,
         64
        ],
        [
         "Afghanistan",
         "AllPosters",
         72000,
         65
        ],
        [
         "Afghanistan",
         "Dividends Diversify: Money Matters So Build Wealth & Be Rich",
         28000,
         66
        ],
        [
         "Afghanistan",
         "Dividends Diversify: Money Matters So Build Wealth & Be Rich",
         28000,
         67
        ],
        [
         "Afghanistan",
         "Dividends Diversify: Money Matters So Build Wealth & Be Rich",
         28000,
         68
        ],
        [
         "Afghanistan",
         "Dividends Diversify: Money Matters So Build Wealth & Be Rich",
         28000,
         69
        ],
        [
         "Afghanistan",
         "Dividends Diversify: Money Matters So Build Wealth & Be Rich",
         28000,
         70
        ],
        [
         "Afghanistan",
         "Dividends Diversify: Money Matters So Build Wealth & Be Rich",
         28000,
         71
        ],
        [
         "Afghanistan",
         "Dividends Diversify: Money Matters So Build Wealth & Be Rich",
         28000,
         72
        ],
        [
         "Afghanistan",
         "Dividends Diversify: Money Matters So Build Wealth & Be Rich",
         28000,
         73
        ],
        [
         "Afghanistan",
         "It's me, JD | DIY, Crafts, Home & Organization",
         27000,
         74
        ],
        [
         "Afghanistan",
         "Ethnic Earring",
         14000,
         75
        ],
        [
         "Afghanistan",
         "Ethnic Earring",
         14000,
         76
        ],
        [
         "Afghanistan",
         "Glamhues",
         14000,
         77
        ],
        [
         "Afghanistan",
         "Glamhues",
         14000,
         78
        ],
        [
         "Afghanistan",
         "Ethnic Earring",
         14000,
         79
        ],
        [
         "Afghanistan",
         "Ethnic Earring",
         14000,
         80
        ],
        [
         "Afghanistan",
         "Glamhues",
         14000,
         81
        ],
        [
         "Afghanistan",
         "Glamhues",
         14000,
         82
        ],
        [
         "Albania",
         "The Minds Journal",
         5000000,
         1
        ],
        [
         "Albania",
         "The Minds Journal",
         5000000,
         2
        ],
        [
         "Albania",
         "The Minds Journal",
         5000000,
         3
        ],
        [
         "Albania",
         "The Minds Journal",
         5000000,
         4
        ],
        [
         "Albania",
         "The Minds Journal",
         5000000,
         5
        ],
        [
         "Albania",
         "The Minds Journal",
         5000000,
         6
        ],
        [
         "Albania",
         "The Minds Journal",
         5000000,
         7
        ],
        [
         "Albania",
         "The Minds Journal",
         5000000,
         8
        ],
        [
         "Albania",
         "Bored Panda",
         2000000,
         9
        ],
        [
         "Albania",
         "Bored Panda",
         2000000,
         10
        ],
        [
         "Albania",
         "Bored Panda",
         2000000,
         11
        ],
        [
         "Albania",
         "Bored Panda",
         2000000,
         12
        ],
        [
         "Albania",
         "Bored Panda",
         2000000,
         13
        ],
        [
         "Albania",
         "Bored Panda",
         2000000,
         14
        ],
        [
         "Albania",
         "Bored Panda",
         2000000,
         15
        ],
        [
         "Albania",
         "Bored Panda",
         2000000,
         16
        ],
        [
         "Albania",
         "Bored Panda",
         2000000,
         17
        ],
        [
         "Albania",
         "Bored Panda",
         2000000,
         18
        ],
        [
         "Albania",
         "Bored Panda",
         2000000,
         19
        ],
        [
         "Albania",
         "Bored Panda",
         2000000,
         20
        ],
        [
         "Albania",
         "Bored Panda",
         2000000,
         21
        ],
        [
         "Albania",
         "Bored Panda",
         2000000,
         22
        ],
        [
         "Albania",
         "Bored Panda",
         2000000,
         23
        ],
        [
         "Albania",
         "Bored Panda",
         2000000,
         24
        ],
        [
         "Albania",
         "WeAreTeachers",
         500000,
         25
        ],
        [
         "Albania",
         "WeAreTeachers",
         500000,
         26
        ],
        [
         "Albania",
         "WeAreTeachers",
         500000,
         27
        ],
        [
         "Albania",
         "WeAreTeachers",
         500000,
         28
        ],
        [
         "Albania",
         "WeAreTeachers",
         500000,
         29
        ],
        [
         "Albania",
         "WeAreTeachers",
         500000,
         30
        ],
        [
         "Albania",
         "WeAreTeachers",
         500000,
         31
        ],
        [
         "Albania",
         "WeAreTeachers",
         500000,
         32
        ],
        [
         "Albania",
         "One Little Project",
         472000,
         33
        ],
        [
         "Albania",
         "One Little Project",
         472000,
         34
        ],
        [
         "Albania",
         "One Little Project",
         472000,
         35
        ],
        [
         "Albania",
         "One Little Project",
         472000,
         36
        ],
        [
         "Albania",
         "One Little Project",
         472000,
         37
        ],
        [
         "Albania",
         "One Little Project",
         472000,
         38
        ],
        [
         "Albania",
         "One Little Project",
         472000,
         39
        ],
        [
         "Albania",
         "One Little Project",
         472000,
         40
        ],
        [
         "Albania",
         "The Cottage Market",
         364000,
         41
        ],
        [
         "Albania",
         "The Cottage Market",
         364000,
         42
        ],
        [
         "Albania",
         "The Cottage Market",
         364000,
         43
        ],
        [
         "Albania",
         "The Cottage Market",
         364000,
         44
        ],
        [
         "Albania",
         "Beautiful Makeup Search",
         159000,
         45
        ],
        [
         "Albania",
         "Beautiful Makeup Search",
         159000,
         46
        ],
        [
         "Albania",
         "Beautiful Makeup Search",
         159000,
         47
        ],
        [
         "Albania",
         "Beautiful Makeup Search",
         159000,
         48
        ],
        [
         "Albania",
         "MojisStyle",
         117000,
         49
        ],
        [
         "Albania",
         "MojisStyle",
         117000,
         50
        ],
        [
         "Albania",
         "MojisStyle",
         117000,
         51
        ],
        [
         "Albania",
         "MojisStyle",
         117000,
         52
        ],
        [
         "Albania",
         "MojisStyle",
         117000,
         53
        ],
        [
         "Albania",
         "MojisStyle",
         117000,
         54
        ],
        [
         "Albania",
         "MojisStyle",
         117000,
         55
        ],
        [
         "Albania",
         "MojisStyle",
         117000,
         56
        ],
        [
         "Albania",
         "MojisStyle",
         117000,
         57
        ],
        [
         "Albania",
         "Hairs Out of Place",
         44000,
         58
        ],
        [
         "Albania",
         "Hairs Out of Place",
         44000,
         59
        ],
        [
         "Albania",
         "Hairs Out of Place",
         44000,
         60
        ],
        [
         "Albania",
         "Hairs Out of Place",
         44000,
         61
        ],
        [
         "Albania",
         "Hairs Out of Place",
         44000,
         62
        ],
        [
         "Albania",
         "Hairs Out of Place",
         44000,
         63
        ],
        [
         "Albania",
         "Hairs Out of Place",
         44000,
         64
        ],
        [
         "Albania",
         "Hairs Out of Place",
         44000,
         65
        ],
        [
         "Albania",
         "Projects with Kids",
         20000,
         66
        ],
        [
         "Albania",
         "Projects with Kids",
         20000,
         67
        ],
        [
         "Albania",
         "Projects with Kids",
         20000,
         68
        ],
        [
         "Albania",
         "Projects with Kids",
         20000,
         69
        ],
        [
         "Albania",
         "Projects with Kids",
         20000,
         70
        ],
        [
         "Albania",
         "Projects with Kids",
         20000,
         71
        ],
        [
         "Albania",
         "Projects with Kids",
         20000,
         72
        ],
        [
         "Albania",
         "Projects with Kids",
         20000,
         73
        ],
        [
         "Albania",
         "Projects with Kids",
         20000,
         74
        ],
        [
         "Albania",
         "Projects with Kids",
         20000,
         75
        ],
        [
         "Albania",
         "Projects with Kids",
         20000,
         76
        ],
        [
         "Albania",
         "Projects with Kids",
         20000,
         77
        ],
        [
         "Albania",
         "Projects with Kids",
         20000,
         78
        ],
        [
         "Albania",
         "Projects with Kids",
         20000,
         79
        ],
        [
         "Albania",
         "Projects with Kids",
         20000,
         80
        ],
        [
         "Albania",
         "Projects with Kids",
         20000,
         81
        ],
        [
         "Albania",
         "Projects with Kids",
         20000,
         82
        ],
        [
         "Albania",
         "Projects with Kids",
         20000,
         83
        ],
        [
         "Albania",
         "Dakota Bronson",
         168,
         84
        ],
        [
         "Albania",
         "Dakota Bronson",
         168,
         85
        ],
        [
         "Albania",
         "Dakota Bronson",
         168,
         86
        ],
        [
         "Albania",
         "Dakota Bronson",
         168,
         87
        ],
        [
         "Algeria",
         "Apartment Therapy",
         5000000,
         1
        ],
        [
         "Algeria",
         "Apartment Therapy",
         5000000,
         2
        ],
        [
         "Algeria",
         "Apartment Therapy",
         5000000,
         3
        ],
        [
         "Algeria",
         "Apartment Therapy",
         5000000,
         4
        ],
        [
         "Algeria",
         "YourTango",
         942000,
         5
        ],
        [
         "Algeria",
         "YourTango",
         942000,
         6
        ],
        [
         "Algeria",
         "YourTango",
         942000,
         7
        ],
        [
         "Algeria",
         "YourTango",
         942000,
         8
        ],
        [
         "Algeria",
         "YourTango",
         942000,
         9
        ],
        [
         "Algeria",
         "YourTango",
         942000,
         10
        ],
        [
         "Algeria",
         "YourTango",
         942000,
         11
        ],
        [
         "Algeria",
         "YourTango",
         942000,
         12
        ],
        [
         "Algeria",
         "YourTango",
         942000,
         13
        ],
        [
         "Algeria",
         "YourTango",
         942000,
         14
        ],
        [
         "Algeria",
         "YourTango",
         942000,
         15
        ],
        [
         "Algeria",
         "YourTango",
         942000,
         16
        ],
        [
         "Algeria",
         "YourTango",
         942000,
         17
        ],
        [
         "Algeria",
         "YourTango",
         942000,
         18
        ],
        [
         "Algeria",
         "YourTango",
         942000,
         19
        ],
        [
         "Algeria",
         "YourTango",
         942000,
         20
        ],
        [
         "Algeria",
         "YourTango",
         942000,
         21
        ],
        [
         "Algeria",
         "YourTango",
         942000,
         22
        ],
        [
         "Algeria",
         "YourTango",
         942000,
         23
        ],
        [
         "Algeria",
         "YourTango",
         942000,
         24
        ],
        [
         "Algeria",
         "YourTango",
         942000,
         25
        ],
        [
         "Algeria",
         "YourTango",
         942000,
         26
        ],
        [
         "Algeria",
         "YourTango",
         942000,
         27
        ],
        [
         "Algeria",
         "YourTango",
         942000,
         28
        ],
        [
         "Algeria",
         "YourTango",
         942000,
         29
        ],
        [
         "Algeria",
         "YourTango",
         942000,
         30
        ],
        [
         "Algeria",
         "YourTango",
         942000,
         31
        ],
        [
         "Algeria",
         "YourTango",
         942000,
         32
        ],
        [
         "Algeria",
         "YourTango",
         942000,
         33
        ],
        [
         "Algeria",
         "YourTango",
         942000,
         34
        ],
        [
         "Algeria",
         "YourTango",
         942000,
         35
        ],
        [
         "Algeria",
         "YourTango",
         942000,
         36
        ],
        [
         "Algeria",
         "YourTango",
         942000,
         37
        ],
        [
         "Algeria",
         "YourTango",
         942000,
         38
        ],
        [
         "Algeria",
         "YourTango",
         942000,
         39
        ],
        [
         "Algeria",
         "YourTango",
         942000,
         40
        ],
        [
         "Algeria",
         "YourTango",
         942000,
         41
        ],
        [
         "Algeria",
         "YourTango",
         942000,
         42
        ],
        [
         "Algeria",
         "YourTango",
         942000,
         43
        ],
        [
         "Algeria",
         "YourTango",
         942000,
         44
        ],
        [
         "Algeria",
         "YourTango",
         942000,
         45
        ],
        [
         "Algeria",
         "YourTango",
         942000,
         46
        ],
        [
         "Algeria",
         "YourTango",
         942000,
         47
        ],
        [
         "Algeria",
         "YourTango",
         942000,
         48
        ],
        [
         "Algeria",
         "YourTango",
         942000,
         49
        ],
        [
         "Algeria",
         "YourTango",
         942000,
         50
        ],
        [
         "Algeria",
         "YourTango",
         942000,
         51
        ],
        [
         "Algeria",
         "YourTango",
         942000,
         52
        ],
        [
         "Algeria",
         "Mens Fashion - LIFESTYLE BY PS ",
         613000,
         53
        ],
        [
         "Algeria",
         "Mens Fashion - LIFESTYLE BY PS ",
         613000,
         54
        ],
        [
         "Algeria",
         "Mens Fashion - LIFESTYLE BY PS ",
         613000,
         55
        ],
        [
         "Algeria",
         "Mens Fashion - LIFESTYLE BY PS ",
         613000,
         56
        ],
        [
         "Algeria",
         "Mens Fashion - LIFESTYLE BY PS ",
         613000,
         57
        ],
        [
         "Algeria",
         "Mens Fashion - LIFESTYLE BY PS ",
         613000,
         58
        ],
        [
         "Algeria",
         "Mens Fashion - LIFESTYLE BY PS ",
         613000,
         59
        ],
        [
         "Algeria",
         "Mens Fashion - LIFESTYLE BY PS ",
         613000,
         60
        ],
        [
         "Algeria",
         "Hand Luggage Only",
         459000,
         61
        ],
        [
         "Algeria",
         "Hand Luggage Only",
         459000,
         62
        ],
        [
         "Algeria",
         "Hand Luggage Only",
         459000,
         63
        ],
        [
         "Algeria",
         "Hand Luggage Only",
         459000,
         64
        ],
        [
         "Algeria",
         "Hand Luggage Only",
         459000,
         65
        ],
        [
         "Algeria",
         "Hand Luggage Only",
         459000,
         66
        ],
        [
         "Algeria",
         "Hand Luggage Only",
         459000,
         67
        ],
        [
         "Algeria",
         "Hand Luggage Only",
         459000,
         68
        ],
        [
         "Algeria",
         "Hand Luggage Only",
         459000,
         69
        ],
        [
         "Algeria",
         "Hand Luggage Only",
         459000,
         70
        ],
        [
         "Algeria",
         "Hand Luggage Only",
         459000,
         71
        ],
        [
         "Algeria",
         "Hand Luggage Only",
         459000,
         72
        ],
        [
         "Algeria",
         "ELLE Germany",
         326000,
         73
        ],
        [
         "Algeria",
         "Iva A. Ursano Amazing Me Movement",
         228000,
         74
        ],
        [
         "Algeria",
         "Iva A. Ursano Amazing Me Movement",
         228000,
         75
        ],
        [
         "Algeria",
         "Iva A. Ursano Amazing Me Movement",
         228000,
         76
        ],
        [
         "Algeria",
         "Iva A. Ursano Amazing Me Movement",
         228000,
         77
        ],
        [
         "Algeria",
         "Fun Life Crisis",
         130000,
         78
        ],
        [
         "Algeria",
         "Shaunna @ Fantastic Fun and Learning",
         128000,
         79
        ],
        [
         "Algeria",
         "Shaunna @ Fantastic Fun and Learning",
         128000,
         80
        ],
        [
         "Algeria",
         "Shaunna @ Fantastic Fun and Learning",
         128000,
         81
        ],
        [
         "Algeria",
         "Shaunna @ Fantastic Fun and Learning",
         128000,
         82
        ],
        [
         "Algeria",
         "BudgetDiet",
         73000,
         83
        ],
        [
         "Algeria",
         "BudgetDiet",
         73000,
         84
        ],
        [
         "Algeria",
         "BudgetDiet",
         73000,
         85
        ],
        [
         "Algeria",
         "BudgetDiet",
         73000,
         86
        ],
        [
         "Algeria",
         "The Resourceful Mama",
         52000,
         87
        ],
        [
         "Algeria",
         "The Resourceful Mama",
         52000,
         88
        ],
        [
         "Algeria",
         "The Resourceful Mama",
         52000,
         89
        ],
        [
         "Algeria",
         "The Resourceful Mama",
         52000,
         90
        ],
        [
         "Algeria",
         "Boss Babe Chronicles | Personal Development, Finances, Self Care",
         45000,
         91
        ],
        [
         "Algeria",
         "Caroline|CarolineVencil.com | Saving & Making Money | Pro Blogger",
         42000,
         92
        ],
        [
         "Algeria",
         "Caroline|CarolineVencil.com | Saving & Making Money | Pro Blogger",
         42000,
         93
        ],
        [
         "Algeria",
         "Caroline|CarolineVencil.com | Saving & Making Money | Pro Blogger",
         42000,
         94
        ],
        [
         "Algeria",
         "Caroline|CarolineVencil.com | Saving & Making Money | Pro Blogger",
         42000,
         95
        ],
        [
         "American Samoa",
         "Mamas Uncut",
         8000000,
         1
        ],
        [
         "American Samoa",
         "Mamas Uncut",
         8000000,
         2
        ],
        [
         "American Samoa",
         "Mamas Uncut",
         8000000,
         3
        ],
        [
         "American Samoa",
         "Mamas Uncut",
         8000000,
         4
        ],
        [
         "American Samoa",
         "BuzzFeed",
         5000000,
         5
        ],
        [
         "American Samoa",
         "BuzzFeed",
         5000000,
         6
        ],
        [
         "American Samoa",
         "BuzzFeed",
         5000000,
         7
        ],
        [
         "American Samoa",
         "BuzzFeed",
         5000000,
         8
        ],
        [
         "American Samoa",
         "BuzzFeed",
         5000000,
         9
        ],
        [
         "American Samoa",
         "BuzzFeed",
         5000000,
         10
        ],
        [
         "American Samoa",
         "BuzzFeed",
         5000000,
         11
        ],
        [
         "American Samoa",
         "BuzzFeed",
         5000000,
         12
        ],
        [
         "American Samoa",
         "BuzzFeed",
         5000000,
         13
        ],
        [
         "American Samoa",
         "BuzzFeed",
         5000000,
         14
        ],
        [
         "American Samoa",
         "BuzzFeed",
         5000000,
         15
        ],
        [
         "American Samoa",
         "BuzzFeed",
         5000000,
         16
        ],
        [
         "American Samoa",
         "wikiHow",
         2000000,
         17
        ],
        [
         "American Samoa",
         "wikiHow",
         2000000,
         18
        ],
        [
         "American Samoa",
         "wikiHow",
         2000000,
         19
        ],
        [
         "American Samoa",
         "wikiHow",
         2000000,
         20
        ],
        [
         "American Samoa",
         "Homesthetics.net",
         556000,
         21
        ],
        [
         "American Samoa",
         "Homesthetics.net",
         556000,
         22
        ],
        [
         "American Samoa",
         "Homesthetics.net",
         556000,
         23
        ],
        [
         "American Samoa",
         "Homesthetics.net",
         556000,
         24
        ],
        [
         "American Samoa",
         "Homesthetics.net",
         556000,
         25
        ],
        [
         "American Samoa",
         "Homesthetics.net",
         556000,
         26
        ],
        [
         "American Samoa",
         "Homesthetics.net",
         556000,
         27
        ],
        [
         "American Samoa",
         "Homesthetics.net",
         556000,
         28
        ],
        [
         "American Samoa",
         "Homesthetics.net",
         556000,
         29
        ],
        [
         "American Samoa",
         "Homesthetics.net",
         556000,
         30
        ],
        [
         "American Samoa",
         "Homesthetics.net",
         556000,
         31
        ],
        [
         "American Samoa",
         "Homesthetics.net",
         556000,
         32
        ],
        [
         "American Samoa",
         "Homesthetics.net",
         556000,
         33
        ],
        [
         "American Samoa",
         "Homesthetics.net",
         556000,
         34
        ],
        [
         "American Samoa",
         "Homesthetics.net",
         556000,
         35
        ],
        [
         "American Samoa",
         "Homesthetics.net",
         556000,
         36
        ],
        [
         "American Samoa",
         "Byrdie",
         538000,
         37
        ],
        [
         "American Samoa",
         "Byrdie",
         538000,
         38
        ],
        [
         "American Samoa",
         "Byrdie",
         538000,
         39
        ],
        [
         "American Samoa",
         "Byrdie",
         538000,
         40
        ],
        [
         "American Samoa",
         "aufeminin",
         494000,
         41
        ],
        [
         "American Samoa",
         "aufeminin",
         494000,
         42
        ],
        [
         "American Samoa",
         "aufeminin",
         494000,
         43
        ],
        [
         "American Samoa",
         "aufeminin",
         494000,
         44
        ],
        [
         "American Samoa",
         "Thriving Home",
         56000,
         45
        ],
        [
         "American Samoa",
         "Thriving Home",
         56000,
         46
        ],
        [
         "American Samoa",
         "Thriving Home",
         56000,
         47
        ],
        [
         "American Samoa",
         "Thriving Home",
         56000,
         48
        ],
        [
         "American Samoa",
         "IdeasDonuts",
         47000,
         49
        ],
        [
         "American Samoa",
         "IdeasDonuts",
         47000,
         50
        ],
        [
         "American Samoa",
         "IdeasDonuts",
         47000,
         51
        ],
        [
         "American Samoa",
         "IdeasDonuts",
         47000,
         52
        ],
        [
         "American Samoa",
         "IdeasDonuts",
         47000,
         53
        ],
        [
         "American Samoa",
         "IdeasDonuts",
         47000,
         54
        ],
        [
         "American Samoa",
         "IdeasDonuts",
         47000,
         55
        ],
        [
         "American Samoa",
         "IdeasDonuts",
         47000,
         56
        ],
        [
         "American Samoa",
         "TheFab20s | Travel+Food+DIY+Listicles",
         42000,
         57
        ],
        [
         "American Samoa",
         "TheFab20s | Travel+Food+DIY+Listicles",
         42000,
         58
        ],
        [
         "American Samoa",
         "TheFab20s | Travel+Food+DIY+Listicles",
         42000,
         59
        ],
        [
         "American Samoa",
         "TheFab20s | Travel+Food+DIY+Listicles",
         42000,
         60
        ],
        [
         "American Samoa",
         "TheFab20s | Travel+Food+DIY+Listicles",
         42000,
         61
        ],
        [
         "American Samoa",
         "TheFab20s | Travel+Food+DIY+Listicles",
         42000,
         62
        ],
        [
         "American Samoa",
         "TheFab20s | Travel+Food+DIY+Listicles",
         42000,
         63
        ],
        [
         "American Samoa",
         "TheFab20s | Travel+Food+DIY+Listicles",
         42000,
         64
        ],
        [
         "American Samoa",
         "TheFab20s | Travel+Food+DIY+Listicles",
         42000,
         65
        ],
        [
         "American Samoa",
         "TheFab20s | Travel+Food+DIY+Listicles",
         42000,
         66
        ],
        [
         "American Samoa",
         "TheFab20s | Travel+Food+DIY+Listicles",
         42000,
         67
        ],
        [
         "American Samoa",
         "TheFab20s | Travel+Food+DIY+Listicles",
         42000,
         68
        ],
        [
         "American Samoa",
         "TheFab20s | Travel+Food+DIY+Listicles",
         42000,
         69
        ],
        [
         "American Samoa",
         "Homease",
         18000,
         70
        ],
        [
         "American Samoa",
         "Homease",
         18000,
         71
        ],
        [
         "American Samoa",
         "Homease",
         18000,
         72
        ],
        [
         "American Samoa",
         "Homease",
         18000,
         73
        ],
        [
         "American Samoa",
         "K&S Precision Metals",
         5,
         74
        ],
        [
         "American Samoa",
         "K&S Precision Metals",
         5,
         75
        ],
        [
         "American Samoa",
         "K&S Precision Metals",
         5,
         76
        ],
        [
         "American Samoa",
         "K&S Precision Metals",
         5,
         77
        ],
        [
         "Andorra",
         "Teachers Pay Teachers",
         1000000,
         1
        ],
        [
         "Andorra",
         "Teachers Pay Teachers",
         1000000,
         2
        ],
        [
         "Andorra",
         "Teachers Pay Teachers",
         1000000,
         3
        ],
        [
         "Andorra",
         "Teachers Pay Teachers",
         1000000,
         4
        ],
        [
         "Andorra",
         "Teachers Pay Teachers",
         1000000,
         5
        ],
        [
         "Andorra",
         "The Best Ideas for Kids",
         903000,
         6
        ],
        [
         "Andorra",
         "The Best Ideas for Kids",
         903000,
         7
        ],
        [
         "Andorra",
         "The Best Ideas for Kids",
         903000,
         8
        ],
        [
         "Andorra",
         "The Best Ideas for Kids",
         903000,
         9
        ],
        [
         "Andorra",
         "The Best Ideas for Kids",
         902000,
         10
        ],
        [
         "Andorra",
         "The Best Ideas for Kids",
         902000,
         11
        ],
        [
         "Andorra",
         "The Best Ideas for Kids",
         902000,
         12
        ],
        [
         "Andorra",
         "The Best Ideas for Kids",
         902000,
         13
        ],
        [
         "Andorra",
         "Glaminati",
         799000,
         14
        ],
        [
         "Andorra",
         "Glaminati",
         799000,
         15
        ],
        [
         "Andorra",
         "Glaminati",
         799000,
         16
        ],
        [
         "Andorra",
         "Glaminati",
         799000,
         17
        ],
        [
         "Andorra",
         "Archzine.net",
         353000,
         18
        ],
        [
         "Andorra",
         "Archzine.net",
         353000,
         19
        ],
        [
         "Andorra",
         "Archzine.net",
         353000,
         20
        ],
        [
         "Andorra",
         "Archzine.net",
         353000,
         21
        ],
        [
         "Andorra",
         "Our Mindful Life",
         190000,
         22
        ],
        [
         "Andorra",
         "Our Mindful Life",
         190000,
         23
        ],
        [
         "Andorra",
         "Our Mindful Life",
         190000,
         24
        ],
        [
         "Andorra",
         "Our Mindful Life",
         190000,
         25
        ],
        [
         "Andorra",
         "Our Mindful Life",
         190000,
         26
        ],
        [
         "Andorra",
         "Our Mindful Life",
         190000,
         27
        ],
        [
         "Andorra",
         "Our Mindful Life",
         190000,
         28
        ],
        [
         "Andorra",
         "Our Mindful Life",
         190000,
         29
        ],
        [
         "Andorra",
         "Our Mindful Life",
         190000,
         30
        ],
        [
         "Andorra",
         "Our Mindful Life",
         190000,
         31
        ],
        [
         "Andorra",
         "Our Mindful Life",
         190000,
         32
        ],
        [
         "Andorra",
         "Our Mindful Life",
         190000,
         33
        ],
        [
         "Andorra",
         "Our Mindful Life",
         190000,
         34
        ],
        [
         "Andorra",
         "Our Mindful Life",
         190000,
         35
        ],
        [
         "Andorra",
         "Our Mindful Life",
         190000,
         36
        ],
        [
         "Andorra",
         "Our Mindful Life",
         190000,
         37
        ],
        [
         "Andorra",
         "Our Mindful Life",
         190000,
         38
        ],
        [
         "Andorra",
         "Our Mindful Life",
         190000,
         39
        ],
        [
         "Andorra",
         "Our Mindful Life",
         190000,
         40
        ],
        [
         "Andorra",
         "Our Mindful Life",
         190000,
         41
        ],
        [
         "Andorra",
         "Our Mindful Life",
         190000,
         42
        ],
        [
         "Andorra",
         "Our Mindful Life",
         190000,
         43
        ],
        [
         "Andorra",
         "Our Mindful Life",
         190000,
         44
        ],
        [
         "Andorra",
         "Our Mindful Life",
         190000,
         45
        ],
        [
         "Andorra",
         "Birch Event Design",
         6000,
         46
        ],
        [
         "Andorra",
         "Birch Event Design",
         6000,
         47
        ],
        [
         "Andorra",
         "Birch Event Design",
         6000,
         48
        ],
        [
         "Andorra",
         "Birch Event Design",
         6000,
         49
        ],
        [
         "Andorra",
         "Isaac Yates",
         1,
         50
        ],
        [
         "Andorra",
         "Isaac Yates",
         1,
         51
        ],
        [
         "Andorra",
         "Isaac Yates",
         1,
         52
        ],
        [
         "Andorra",
         "Isaac Yates",
         1,
         53
        ],
        [
         "Angola",
         "CraftGossip.com",
         502000,
         1
        ],
        [
         "Angola",
         "CraftGossip.com",
         502000,
         2
        ],
        [
         "Angola",
         "CraftGossip.com",
         502000,
         3
        ],
        [
         "Angola",
         "CraftGossip.com",
         502000,
         4
        ],
        [
         "Angola",
         "CraftGossip.com",
         502000,
         5
        ],
        [
         "Angola",
         "CraftGossip.com",
         502000,
         6
        ],
        [
         "Angola",
         "CraftGossip.com",
         502000,
         7
        ],
        [
         "Angola",
         "CraftGossip.com",
         502000,
         8
        ],
        [
         "Angola",
         "CraftGossip.com",
         502000,
         9
        ],
        [
         "Angola",
         "CraftGossip.com",
         502000,
         10
        ],
        [
         "Angola",
         "CraftGossip.com",
         502000,
         11
        ],
        [
         "Angola",
         "CraftGossip.com",
         502000,
         12
        ],
        [
         "Angola",
         "CraftGossip.com",
         502000,
         13
        ],
        [
         "Angola",
         "Pathway 2 Success",
         56000,
         14
        ],
        [
         "Angola",
         "Pathway 2 Success",
         56000,
         15
        ],
        [
         "Angola",
         "Pathway 2 Success",
         56000,
         16
        ],
        [
         "Angola",
         "Pathway 2 Success",
         56000,
         17
        ],
        [
         "Angola",
         "Travel Destinations Tips Essentials Packing List Stuffed Suitcase",
         25000,
         18
        ],
        [
         "Angola",
         "Travel Destinations Tips Essentials Packing List Stuffed Suitcase",
         25000,
         19
        ],
        [
         "Angola",
         "Travel Destinations Tips Essentials Packing List Stuffed Suitcase",
         25000,
         20
        ],
        [
         "Angola",
         "Travel Destinations Tips Essentials Packing List Stuffed Suitcase",
         25000,
         21
        ],
        [
         "Angola",
         "Joel Dropships | Branded Dropshipping For Beginners 2022",
         6000,
         22
        ],
        [
         "Angola",
         "Joel Dropships | Branded Dropshipping For Beginners 2022",
         6000,
         23
        ],
        [
         "Angola",
         "Joel Dropships | Branded Dropshipping For Beginners 2022",
         6000,
         24
        ],
        [
         "Angola",
         "Joel Dropships | Branded Dropshipping For Beginners 2022",
         6000,
         25
        ],
        [
         "Anguilla",
         "Kara's Party Ideas .com",
         736000,
         1
        ],
        [
         "Anguilla",
         "Kara's Party Ideas .com",
         736000,
         2
        ],
        [
         "Anguilla",
         "Kara's Party Ideas .com",
         736000,
         3
        ],
        [
         "Anguilla",
         "Kara's Party Ideas .com",
         736000,
         4
        ],
        [
         "Anguilla",
         "Kristen | Lifestyle, Mom Tips & Teacher Stuff Blog",
         92000,
         5
        ],
        [
         "Anguilla",
         "Kristen | Lifestyle, Mom Tips & Teacher Stuff Blog",
         92000,
         6
        ],
        [
         "Anguilla",
         "Kristen | Lifestyle, Mom Tips & Teacher Stuff Blog",
         92000,
         7
        ],
        [
         "Anguilla",
         "Kristen | Lifestyle, Mom Tips & Teacher Stuff Blog",
         92000,
         8
        ],
        [
         "Anguilla",
         "Kristen | Lifestyle, Mom Tips & Teacher Stuff Blog",
         92000,
         9
        ],
        [
         "Anguilla",
         "Kristen | Lifestyle, Mom Tips & Teacher Stuff Blog",
         92000,
         10
        ],
        [
         "Anguilla",
         "Kristen | Lifestyle, Mom Tips & Teacher Stuff Blog",
         92000,
         11
        ],
        [
         "Anguilla",
         "Kristen | Lifestyle, Mom Tips & Teacher Stuff Blog",
         92000,
         12
        ],
        [
         "Anguilla",
         "Kristen | Lifestyle, Mom Tips & Teacher Stuff Blog",
         92000,
         13
        ],
        [
         "Anguilla",
         "Lady Decluttered | Decluttering, Organizing, & Simple Living Tips",
         88000,
         14
        ],
        [
         "Anguilla",
         "Lady Decluttered | Decluttering, Organizing, & Simple Living Tips",
         88000,
         15
        ],
        [
         "Anguilla",
         "Lady Decluttered | Decluttering, Organizing, & Simple Living Tips",
         88000,
         16
        ],
        [
         "Anguilla",
         "Lady Decluttered | Decluttering, Organizing, & Simple Living Tips",
         88000,
         17
        ],
        [
         "Anguilla",
         "Thank Your Body",
         85000,
         18
        ],
        [
         "Anguilla",
         "Thank Your Body",
         85000,
         19
        ],
        [
         "Anguilla",
         "Thank Your Body",
         85000,
         20
        ],
        [
         "Anguilla",
         "Thank Your Body",
         85000,
         21
        ],
        [
         "Anguilla",
         "Thank Your Body",
         85000,
         22
        ],
        [
         "Anguilla",
         "Thank Your Body",
         85000,
         23
        ],
        [
         "Anguilla",
         "Thank Your Body",
         85000,
         24
        ],
        [
         "Anguilla",
         "Thank Your Body",
         85000,
         25
        ],
        [
         "Anguilla",
         "Thank Your Body",
         85000,
         26
        ],
        [
         "Anguilla",
         "Girl Crafts",
         60000,
         27
        ],
        [
         "Anguilla",
         "Girl Crafts",
         60000,
         28
        ],
        [
         "Anguilla",
         "Girl Crafts",
         60000,
         29
        ],
        [
         "Anguilla",
         "Girl Crafts",
         60000,
         30
        ],
        [
         "Anguilla",
         "Shaka Kai",
         7,
         31
        ],
        [
         "Anguilla",
         "Shaka Kai",
         7,
         32
        ],
        [
         "Anguilla",
         "Shaka Kai",
         7,
         33
        ],
        [
         "Anguilla",
         "Shaka Kai",
         7,
         34
        ],
        [
         "Antarctica (the territory South of 60 deg S)",
         "HikenDip",
         501000,
         1
        ],
        [
         "Antarctica (the territory South of 60 deg S)",
         "HikenDip",
         501000,
         2
        ],
        [
         "Antarctica (the territory South of 60 deg S)",
         "HikenDip",
         501000,
         3
        ],
        [
         "Antarctica (the territory South of 60 deg S)",
         "HikenDip",
         501000,
         4
        ],
        [
         "Antarctica (the territory South of 60 deg S)",
         "HikenDip",
         500000,
         5
        ],
        [
         "Antarctica (the territory South of 60 deg S)",
         "HikenDip",
         500000,
         6
        ],
        [
         "Antarctica (the territory South of 60 deg S)",
         "HikenDip",
         500000,
         7
        ],
        [
         "Antarctica (the territory South of 60 deg S)",
         "HikenDip",
         500000,
         8
        ],
        [
         "Antarctica (the territory South of 60 deg S)",
         "HikenDip",
         500000,
         9
        ],
        [
         "Antarctica (the territory South of 60 deg S)",
         "HikenDip",
         500000,
         10
        ],
        [
         "Antarctica (the territory South of 60 deg S)",
         "HikenDip",
         500000,
         11
        ],
        [
         "Antarctica (the territory South of 60 deg S)",
         "HikenDip",
         500000,
         12
        ],
        [
         "Antarctica (the territory South of 60 deg S)",
         "HikenDip",
         500000,
         13
        ],
        [
         "Antarctica (the territory South of 60 deg S)",
         "HikenDip",
         500000,
         14
        ],
        [
         "Antarctica (the territory South of 60 deg S)",
         "HikenDip",
         500000,
         15
        ],
        [
         "Antarctica (the territory South of 60 deg S)",
         "HikenDip",
         500000,
         16
        ],
        [
         "Antarctica (the territory South of 60 deg S)",
         "HikenDip",
         500000,
         17
        ],
        [
         "Antarctica (the territory South of 60 deg S)",
         "HikenDip",
         500000,
         18
        ],
        [
         "Antarctica (the territory South of 60 deg S)",
         "HikenDip",
         500000,
         19
        ],
        [
         "Antarctica (the territory South of 60 deg S)",
         "HikenDip",
         500000,
         20
        ],
        [
         "Antarctica (the territory South of 60 deg S)",
         "HikenDip",
         500000,
         21
        ],
        [
         "Antarctica (the territory South of 60 deg S)",
         "Town & Country Magazine",
         189000,
         22
        ],
        [
         "Antarctica (the territory South of 60 deg S)",
         "Town & Country Magazine",
         189000,
         23
        ],
        [
         "Antarctica (the territory South of 60 deg S)",
         "Town & Country Magazine",
         189000,
         24
        ],
        [
         "Antarctica (the territory South of 60 deg S)",
         "Town & Country Magazine",
         189000,
         25
        ],
        [
         "Antarctica (the territory South of 60 deg S)",
         "Skincare.com by L'Oréal",
         42000,
         26
        ],
        [
         "Antarctica (the territory South of 60 deg S)",
         "Skincare.com by L'Oréal",
         42000,
         27
        ],
        [
         "Antarctica (the territory South of 60 deg S)",
         "Skincare.com by L'Oréal",
         42000,
         28
        ],
        [
         "Antarctica (the territory South of 60 deg S)",
         "Skincare.com by L'Oréal",
         42000,
         29
        ],
        [
         "Antigua and Barbuda",
         "Country Living Magazine",
         1000000,
         1
        ],
        [
         "Antigua and Barbuda",
         "Country Living Magazine",
         1000000,
         2
        ],
        [
         "Antigua and Barbuda",
         "Country Living Magazine",
         1000000,
         3
        ],
        [
         "Antigua and Barbuda",
         "Country Living Magazine",
         1000000,
         4
        ],
        [
         "Antigua and Barbuda",
         "Country Living Magazine",
         1000000,
         5
        ],
        [
         "Antigua and Barbuda",
         "Country Living Magazine",
         1000000,
         6
        ],
        [
         "Antigua and Barbuda",
         "Country Living Magazine",
         1000000,
         7
        ],
        [
         "Antigua and Barbuda",
         "Country Living Magazine",
         1000000,
         8
        ],
        [
         "Antigua and Barbuda",
         "Country Living Magazine",
         1000000,
         9
        ],
        [
         "Antigua and Barbuda",
         "Country Living Magazine",
         1000000,
         10
        ],
        [
         "Antigua and Barbuda",
         "Country Living Magazine",
         1000000,
         11
        ],
        [
         "Antigua and Barbuda",
         "Country Living Magazine",
         1000000,
         12
        ],
        [
         "Antigua and Barbuda",
         "Country Living Magazine",
         1000000,
         13
        ],
        [
         "Antigua and Barbuda",
         "Country Living Magazine",
         1000000,
         14
        ],
        [
         "Antigua and Barbuda",
         "Country Living Magazine",
         1000000,
         15
        ],
        [
         "Antigua and Barbuda",
         "Country Living Magazine",
         1000000,
         16
        ],
        [
         "Antigua and Barbuda",
         "Country Living Magazine",
         1000000,
         17
        ],
        [
         "Antigua and Barbuda",
         "Country Living Magazine",
         1000000,
         18
        ],
        [
         "Antigua and Barbuda",
         "Country Living Magazine",
         1000000,
         19
        ],
        [
         "Antigua and Barbuda",
         "Country Living Magazine",
         1000000,
         20
        ],
        [
         "Antigua and Barbuda",
         "A Cultivated Nest",
         578000,
         21
        ],
        [
         "Antigua and Barbuda",
         "A Cultivated Nest",
         578000,
         22
        ],
        [
         "Antigua and Barbuda",
         "A Cultivated Nest",
         578000,
         23
        ],
        [
         "Antigua and Barbuda",
         "A Cultivated Nest",
         578000,
         24
        ],
        [
         "Antigua and Barbuda",
         "A Cultivated Nest",
         578000,
         25
        ],
        [
         "Antigua and Barbuda",
         "A Cultivated Nest",
         578000,
         26
        ],
        [
         "Antigua and Barbuda",
         "A Cultivated Nest",
         578000,
         27
        ],
        [
         "Antigua and Barbuda",
         "A Cultivated Nest",
         578000,
         28
        ],
        [
         "Antigua and Barbuda",
         "Sumcoco | Decor Ideas, Hairstyles, Nails Fashion Advice",
         306000,
         29
        ],
        [
         "Antigua and Barbuda",
         "Sumcoco | Decor Ideas, Hairstyles, Nails Fashion Advice",
         306000,
         30
        ],
        [
         "Antigua and Barbuda",
         "Sumcoco | Decor Ideas, Hairstyles, Nails Fashion Advice",
         306000,
         31
        ],
        [
         "Antigua and Barbuda",
         "Sumcoco | Decor Ideas, Hairstyles, Nails Fashion Advice",
         306000,
         32
        ],
        [
         "Antigua and Barbuda",
         "Sumcoco | Decor Ideas, Hairstyles, Nails Fashion Advice",
         306000,
         33
        ],
        [
         "Antigua and Barbuda",
         "Sumcoco | Decor Ideas, Hairstyles, Nails Fashion Advice",
         306000,
         34
        ],
        [
         "Antigua and Barbuda",
         "Sumcoco | Decor Ideas, Hairstyles, Nails Fashion Advice",
         306000,
         35
        ],
        [
         "Antigua and Barbuda",
         "Sumcoco | Decor Ideas, Hairstyles, Nails Fashion Advice",
         306000,
         36
        ],
        [
         "Antigua and Barbuda",
         "Sumcoco | Decor Ideas, Hairstyles, Nails Fashion Advice",
         306000,
         37
        ],
        [
         "Antigua and Barbuda",
         "Sumcoco | Decor Ideas, Hairstyles, Nails Fashion Advice",
         306000,
         38
        ],
        [
         "Antigua and Barbuda",
         "Trusted Travel Girl",
         3000,
         39
        ],
        [
         "Antigua and Barbuda",
         "Trusted Travel Girl",
         3000,
         40
        ],
        [
         "Antigua and Barbuda",
         "Trusted Travel Girl",
         3000,
         41
        ],
        [
         "Antigua and Barbuda",
         "Trusted Travel Girl",
         3000,
         42
        ],
        [
         "Argentina",
         "Cheezburger",
         2000000,
         1
        ],
        [
         "Argentina",
         "Cheezburger",
         2000000,
         2
        ],
        [
         "Argentina",
         "Cheezburger",
         2000000,
         3
        ],
        [
         "Argentina",
         "Cheezburger",
         2000000,
         4
        ],
        [
         "Argentina",
         "Next Luxury",
         800000,
         5
        ],
        [
         "Argentina",
         "Next Luxury",
         800000,
         6
        ],
        [
         "Argentina",
         "Next Luxury",
         800000,
         7
        ],
        [
         "Argentina",
         "Next Luxury",
         800000,
         8
        ],
        [
         "Argentina",
         "Next Luxury",
         800000,
         9
        ],
        [
         "Argentina",
         "Next Luxury",
         800000,
         10
        ],
        [
         "Argentina",
         "Next Luxury",
         800000,
         11
        ],
        [
         "Argentina",
         "Next Luxury",
         800000,
         12
        ],
        [
         "Argentina",
         "Next Luxury",
         800000,
         13
        ],
        [
         "Argentina",
         "Next Luxury",
         800000,
         14
        ],
        [
         "Argentina",
         "Next Luxury",
         800000,
         15
        ],
        [
         "Argentina",
         "Next Luxury",
         800000,
         16
        ],
        [
         "Argentina",
         "Next Luxury",
         800000,
         17
        ],
        [
         "Argentina",
         "Next Luxury",
         800000,
         18
        ],
        [
         "Argentina",
         "Next Luxury",
         800000,
         19
        ],
        [
         "Argentina",
         "Next Luxury",
         800000,
         20
        ],
        [
         "Argentina",
         "Next Luxury",
         800000,
         21
        ],
        [
         "Argentina",
         "Next Luxury",
         800000,
         22
        ],
        [
         "Argentina",
         "Next Luxury",
         800000,
         23
        ],
        [
         "Argentina",
         "Next Luxury",
         800000,
         24
        ],
        [
         "Argentina",
         "Next Luxury",
         800000,
         25
        ],
        [
         "Argentina",
         "Relationship Rules",
         296000,
         26
        ],
        [
         "Argentina",
         "Relationship Rules",
         296000,
         27
        ],
        [
         "Argentina",
         "Relationship Rules",
         296000,
         28
        ],
        [
         "Argentina",
         "Relationship Rules",
         296000,
         29
        ],
        [
         "Argentina",
         "Relationship Rules",
         296000,
         30
        ],
        [
         "Argentina",
         "Relationship Rules",
         296000,
         31
        ],
        [
         "Argentina",
         "Relationship Rules",
         296000,
         32
        ],
        [
         "Argentina",
         "Relationship Rules",
         296000,
         33
        ],
        [
         "Argentina",
         "This Tiny  Blue House",
         108000,
         34
        ],
        [
         "Argentina",
         "This Tiny  Blue House",
         108000,
         35
        ],
        [
         "Argentina",
         "This Tiny  Blue House",
         108000,
         36
        ],
        [
         "Argentina",
         "This Tiny  Blue House",
         108000,
         37
        ],
        [
         "Argentina",
         "Dagmar Bleasdale {Dagmar's Home}",
         105000,
         38
        ],
        [
         "Argentina",
         "Dagmar Bleasdale {Dagmar's Home}",
         105000,
         39
        ],
        [
         "Argentina",
         "Dagmar Bleasdale {Dagmar's Home}",
         105000,
         40
        ],
        [
         "Argentina",
         "Dagmar Bleasdale {Dagmar's Home}",
         105000,
         41
        ],
        [
         "Argentina",
         "The Practical Saver | Save Money",
         60000,
         42
        ],
        [
         "Argentina",
         "The Practical Saver | Save Money",
         60000,
         43
        ],
        [
         "Argentina",
         "The Practical Saver | Save Money",
         60000,
         44
        ],
        [
         "Argentina",
         "The Practical Saver | Save Money",
         60000,
         45
        ],
        [
         "Argentina",
         "Boop Decals",
         7000,
         46
        ],
        [
         "Argentina",
         "Boop Decals",
         7000,
         47
        ],
        [
         "Argentina",
         "Busy Bloooming Joy",
         7000,
         48
        ],
        [
         "Argentina",
         "Busy Bloooming Joy",
         7000,
         49
        ],
        [
         "Argentina",
         "Boop Decals",
         7000,
         50
        ],
        [
         "Argentina",
         "Boop Decals",
         7000,
         51
        ],
        [
         "Argentina",
         "Busy Bloooming Joy",
         7000,
         52
        ],
        [
         "Argentina",
         "Busy Bloooming Joy",
         7000,
         53
        ],
        [
         "Argentina",
         "Tony",
         3000,
         54
        ],
        [
         "Armenia",
         "Michelle {CraftyMorning.com}",
         892000,
         1
        ],
        [
         "Armenia",
         "Michelle {CraftyMorning.com}",
         892000,
         2
        ],
        [
         "Armenia",
         "Michelle {CraftyMorning.com}",
         892000,
         3
        ],
        [
         "Armenia",
         "Michelle {CraftyMorning.com}",
         892000,
         4
        ],
        [
         "Armenia",
         "Michelle {CraftyMorning.com}",
         892000,
         5
        ],
        [
         "Armenia",
         "Michelle {CraftyMorning.com}",
         892000,
         6
        ],
        [
         "Armenia",
         "Michelle {CraftyMorning.com}",
         892000,
         7
        ],
        [
         "Armenia",
         "Michelle {CraftyMorning.com}",
         892000,
         8
        ],
        [
         "Armenia",
         "Michelle {CraftyMorning.com}",
         892000,
         9
        ],
        [
         "Armenia",
         "DIYnCrafts.Com",
         746000,
         10
        ],
        [
         "Armenia",
         "DIYnCrafts.Com",
         746000,
         11
        ],
        [
         "Armenia",
         "DIYnCrafts.Com",
         746000,
         12
        ],
        [
         "Armenia",
         "DIYnCrafts.Com",
         746000,
         13
        ],
        [
         "Armenia",
         "ArchitectureArtDesigns",
         616000,
         14
        ],
        [
         "Armenia",
         "Craft-Mart",
         132000,
         15
        ],
        [
         "Armenia",
         "Craft-Mart",
         132000,
         16
        ],
        [
         "Armenia",
         "Craft-Mart",
         132000,
         17
        ],
        [
         "Armenia",
         "Craft-Mart",
         132000,
         18
        ],
        [
         "Armenia",
         "Of Life & Lisa | Lifestyle Blog",
         124000,
         19
        ],
        [
         "Armenia",
         "Of Life & Lisa | Lifestyle Blog",
         124000,
         20
        ],
        [
         "Armenia",
         "Of Life & Lisa | Lifestyle Blog",
         124000,
         21
        ],
        [
         "Armenia",
         "Of Life & Lisa | Lifestyle Blog",
         124000,
         22
        ],
        [
         "Armenia",
         "The Arty Teacher",
         25000,
         23
        ],
        [
         "Armenia",
         "ManTripping",
         22000,
         24
        ],
        [
         "Armenia",
         "ManTripping",
         22000,
         25
        ],
        [
         "Armenia",
         "ManTripping",
         22000,
         26
        ],
        [
         "Armenia",
         "ManTripping",
         22000,
         27
        ],
        [
         "Armenia",
         "Pacho Tattoo",
         9000,
         28
        ],
        [
         "Armenia",
         "Pacho Tattoo",
         9000,
         29
        ],
        [
         "Armenia",
         "No Hurry To Get Home",
         9000,
         30
        ],
        [
         "Armenia",
         "No Hurry To Get Home",
         9000,
         31
        ],
        [
         "Armenia",
         "No Hurry To Get Home",
         9000,
         32
        ],
        [
         "Armenia",
         "No Hurry To Get Home",
         9000,
         33
        ],
        [
         "Armenia",
         "Pacho Tattoo",
         9000,
         34
        ],
        [
         "Armenia",
         "Pacho Tattoo",
         9000,
         35
        ],
        [
         "Armenia",
         "No Hurry To Get Home",
         9000,
         36
        ],
        [
         "Armenia",
         "No Hurry To Get Home",
         9000,
         37
        ],
        [
         "Armenia",
         "No Hurry To Get Home",
         9000,
         38
        ],
        [
         "Armenia",
         "No Hurry To Get Home",
         9000,
         39
        ],
        [
         "Armenia",
         "Jiew82633",
         8000,
         40
        ],
        [
         "Armenia",
         "Witching Hour Baby",
         262,
         41
        ],
        [
         "Armenia",
         "Witching Hour Baby",
         262,
         42
        ],
        [
         "Armenia",
         "Witching Hour Baby",
         262,
         43
        ],
        [
         "Armenia",
         "Witching Hour Baby",
         262,
         44
        ],
        [
         "Aruba",
         "TheTrendSpotter",
         211000,
         1
        ],
        [
         "Aruba",
         "TheTrendSpotter",
         211000,
         2
        ],
        [
         "Aruba",
         "TheTrendSpotter",
         211000,
         3
        ],
        [
         "Aruba",
         "TheTrendSpotter",
         211000,
         4
        ],
        [
         "Aruba",
         "TheTrendSpotter",
         211000,
         5
        ],
        [
         "Aruba",
         "TheTrendSpotter",
         211000,
         6
        ],
        [
         "Aruba",
         "TheTrendSpotter",
         211000,
         7
        ],
        [
         "Aruba",
         "TheTrendSpotter",
         211000,
         8
        ],
        [
         "Aruba",
         "TheTrendSpotter",
         211000,
         9
        ],
        [
         "Aruba",
         "The Work at Home Woman",
         110000,
         10
        ],
        [
         "Aruba",
         "Gathering Dreams | Do What You Love",
         71000,
         11
        ],
        [
         "Aruba",
         "Gathering Dreams | Do What You Love",
         71000,
         12
        ],
        [
         "Aruba",
         "Gathering Dreams | Do What You Love",
         71000,
         13
        ],
        [
         "Aruba",
         "Gathering Dreams | Do What You Love",
         71000,
         14
        ],
        [
         "Aruba",
         "Gathering Dreams | Do What You Love",
         71000,
         15
        ],
        [
         "Aruba",
         "Gathering Dreams | Do What You Love",
         71000,
         16
        ],
        [
         "Aruba",
         "Gathering Dreams | Do What You Love",
         71000,
         17
        ],
        [
         "Aruba",
         "Gathering Dreams | Do What You Love",
         71000,
         18
        ],
        [
         "Aruba",
         "Primer",
         59000,
         19
        ],
        [
         "Aruba",
         "Primer",
         59000,
         20
        ],
        [
         "Aruba",
         "Primer",
         59000,
         21
        ],
        [
         "Aruba",
         "Primer",
         59000,
         22
        ],
        [
         "Aruba",
         "Tim Adam - Car Enthusiast",
         49000,
         23
        ],
        [
         "Aruba",
         "Tim Adam - Car Enthusiast",
         49000,
         24
        ],
        [
         "Aruba",
         "Tim Adam - Car Enthusiast",
         49000,
         25
        ],
        [
         "Aruba",
         "Tim Adam - Car Enthusiast",
         49000,
         26
        ],
        [
         "Aruba",
         "Jasmine | Feeling Nifty | Acrylic Painting Tutorials, Ideas &More",
         48000,
         27
        ],
        [
         "Aruba",
         "Jasmine | Feeling Nifty | Acrylic Painting Tutorials, Ideas &More",
         48000,
         28
        ],
        [
         "Aruba",
         "Jasmine | Feeling Nifty | Acrylic Painting Tutorials, Ideas &More",
         48000,
         29
        ],
        [
         "Aruba",
         "Jasmine | Feeling Nifty | Acrylic Painting Tutorials, Ideas &More",
         48000,
         30
        ],
        [
         "Aruba",
         "Breezy Special Ed",
         31000,
         31
        ],
        [
         "Aruba",
         "Breezy Special Ed",
         31000,
         32
        ],
        [
         "Aruba",
         "Breezy Special Ed",
         31000,
         33
        ],
        [
         "Aruba",
         "Breezy Special Ed",
         31000,
         34
        ],
        [
         "Aruba",
         "Classic Driver",
         27000,
         35
        ],
        [
         "Aruba",
         "Classic Driver",
         27000,
         36
        ],
        [
         "Aruba",
         "Classic Driver",
         27000,
         37
        ],
        [
         "Aruba",
         "Classic Driver",
         27000,
         38
        ],
        [
         "Aruba",
         "Traci Bender - The Bender Bunch",
         11000,
         39
        ],
        [
         "Aruba",
         "Traci Bender - The Bender Bunch",
         11000,
         40
        ],
        [
         "Aruba",
         "Traci Bender - The Bender Bunch",
         11000,
         41
        ],
        [
         "Aruba",
         "Traci Bender - The Bender Bunch",
         11000,
         42
        ],
        [
         "Aruba",
         "Traci Bender - The Bender Bunch",
         11000,
         43
        ],
        [
         "Aruba",
         "Traci Bender - The Bender Bunch",
         11000,
         44
        ],
        [
         "Aruba",
         "Traci Bender - The Bender Bunch",
         11000,
         45
        ],
        [
         "Aruba",
         "Traci Bender - The Bender Bunch",
         11000,
         46
        ],
        [
         "Aruba",
         "Traci Bender - The Bender Bunch",
         11000,
         47
        ],
        [
         "Aruba",
         "Cola42986",
         6000,
         48
        ],
        [
         "Aruba",
         "Cola42986",
         6000,
         49
        ],
        [
         "Aruba",
         "Cola42986",
         6000,
         50
        ],
        [
         "Aruba",
         "Cola42986",
         6000,
         51
        ],
        [
         "Aruba",
         "Wear24-7",
         5000,
         52
        ],
        [
         "Aruba",
         "Wear24-7",
         5000,
         53
        ],
        [
         "Aruba",
         "Wear24-7",
         5000,
         54
        ],
        [
         "Aruba",
         "Wear24-7",
         5000,
         55
        ],
        [
         "Aruba",
         "ifyousayido",
         5000,
         56
        ],
        [
         "Aruba",
         "ifyousayido",
         5000,
         57
        ],
        [
         "Aruba",
         "Wear24-7",
         5000,
         58
        ],
        [
         "Aruba",
         "Wear24-7",
         5000,
         59
        ],
        [
         "Aruba",
         "Wear24-7",
         5000,
         60
        ],
        [
         "Aruba",
         "Wear24-7",
         5000,
         61
        ],
        [
         "Aruba",
         "ifyousayido",
         5000,
         62
        ],
        [
         "Aruba",
         "ifyousayido",
         5000,
         63
        ],
        [
         "Aruba",
         "Virginia Carlston Whiting",
         4000,
         64
        ],
        [
         "Aruba",
         "Virginia Carlston Whiting",
         4000,
         65
        ],
        [
         "Aruba",
         "Virginia Carlston Whiting",
         4000,
         66
        ],
        [
         "Aruba",
         "Virginia Carlston Whiting",
         4000,
         67
        ],
        [
         "Aruba",
         "Wall Canvas Mall",
         305,
         68
        ],
        [
         "Aruba",
         "Wall Canvas Mall",
         305,
         69
        ],
        [
         "Aruba",
         "Wall Canvas Mall",
         305,
         70
        ],
        [
         "Aruba",
         "Wall Canvas Mall",
         305,
         71
        ],
        [
         "Aruba",
         "Jacqueline MB Designs",
         159,
         72
        ],
        [
         "Aruba",
         "Jacqueline MB Designs",
         159,
         73
        ],
        [
         "Aruba",
         "Jacqueline MB Designs",
         159,
         74
        ],
        [
         "Aruba",
         "Jacqueline MB Designs",
         159,
         75
        ],
        [
         "Aruba",
         "Drag",
         127,
         76
        ],
        [
         "Aruba",
         "Drag",
         127,
         77
        ],
        [
         "Aruba",
         "Drag",
         127,
         78
        ],
        [
         "Aruba",
         "Drag",
         127,
         79
        ],
        [
         "Aruba",
         "Mala Rock | Rock T-shirts",
         27,
         80
        ],
        [
         "Aruba",
         "Mala Rock | Rock T-shirts",
         27,
         81
        ],
        [
         "Aruba",
         "Mala Rock | Rock T-shirts",
         27,
         82
        ],
        [
         "Aruba",
         "Mala Rock | Rock T-shirts",
         27,
         83
        ],
        [
         "Aruba",
         "Mala Rock | Rock T-shirts",
         27,
         84
        ],
        [
         "Australia",
         "Cultura Colectiva",
         1000000,
         1
        ],
        [
         "Australia",
         "LLEGANCE | Workwear Fashion Woman Advice For Driven Professionals",
         28000,
         2
        ],
        [
         "Australia",
         "Jess Wandering",
         22000,
         3
        ],
        [
         "Australia",
         "Ashley - Modern Glam",
         19000,
         4
        ],
        [
         "Australia",
         "Ashley - Modern Glam",
         19000,
         5
        ],
        [
         "Australia",
         "Inspirethemom",
         19000,
         6
        ],
        [
         "Australia",
         "Inspirethemom",
         19000,
         7
        ],
        [
         "Australia",
         "Ashley - Modern Glam",
         19000,
         8
        ],
        [
         "Australia",
         "Ashley - Modern Glam",
         19000,
         9
        ],
        [
         "Australia",
         "Inspirethemom",
         19000,
         10
        ],
        [
         "Australia",
         "Inspirethemom",
         19000,
         11
        ],
        [
         "Australia",
         "Write Your Story | Budgeting, Healthy Lifestyle, Faith",
         5000,
         12
        ],
        [
         "Australia",
         "Write Your Story | Budgeting, Healthy Lifestyle, Faith",
         5000,
         13
        ],
        [
         "Australia",
         "Write Your Story | Budgeting, Healthy Lifestyle, Faith",
         5000,
         14
        ],
        [
         "Australia",
         "Write Your Story | Budgeting, Healthy Lifestyle, Faith",
         5000,
         15
        ],
        [
         "Australia",
         "Write Your Story | Budgeting, Healthy Lifestyle, Faith",
         5000,
         16
        ],
        [
         "Australia",
         "Write Your Story | Budgeting, Healthy Lifestyle, Faith",
         5000,
         17
        ],
        [
         "Australia",
         "Write Your Story | Budgeting, Healthy Lifestyle, Faith",
         5000,
         18
        ],
        [
         "Australia",
         "Write Your Story | Budgeting, Healthy Lifestyle, Faith",
         5000,
         19
        ],
        [
         "Australia",
         "Write Your Story | Budgeting, Healthy Lifestyle, Faith",
         5000,
         20
        ],
        [
         "Austria",
         "The World Pursuit Travel Website",
         89000,
         1
        ],
        [
         "Austria",
         "The World Pursuit Travel Website",
         89000,
         2
        ],
        [
         "Austria",
         "The World Pursuit Travel Website",
         89000,
         3
        ],
        [
         "Austria",
         "The World Pursuit Travel Website",
         89000,
         4
        ],
        [
         "Austria",
         "The World Pursuit Travel Website",
         89000,
         5
        ],
        [
         "Austria",
         "Beautyholo | Latest Hairstyles, Nail Design Ideas, Home Décor DIY, Women Fashion Ideas",
         54000,
         6
        ],
        [
         "Austria",
         "Beautyholo | Latest Hairstyles, Nail Design Ideas, Home Décor DIY, Women Fashion Ideas",
         54000,
         7
        ],
        [
         "Austria",
         "Beautyholo | Latest Hairstyles, Nail Design Ideas, Home Décor DIY, Women Fashion Ideas",
         54000,
         8
        ],
        [
         "Austria",
         "Beautyholo | Latest Hairstyles, Nail Design Ideas, Home Décor DIY, Women Fashion Ideas",
         54000,
         9
        ],
        [
         "Austria",
         "Beautyholo | Latest Hairstyles, Nail Design Ideas, Home Décor DIY, Women Fashion Ideas",
         54000,
         10
        ],
        [
         "Austria",
         "Beautyholo | Latest Hairstyles, Nail Design Ideas, Home Décor DIY, Women Fashion Ideas",
         54000,
         11
        ],
        [
         "Austria",
         "Beautyholo | Latest Hairstyles, Nail Design Ideas, Home Décor DIY, Women Fashion Ideas",
         54000,
         12
        ],
        [
         "Austria",
         "Beautyholo | Latest Hairstyles, Nail Design Ideas, Home Décor DIY, Women Fashion Ideas",
         54000,
         13
        ],
        [
         "Austria",
         "RACHEL JOY  |  DIY + HOME",
         37000,
         14
        ],
        [
         "Austria",
         "RACHEL JOY  |  DIY + HOME",
         37000,
         15
        ],
        [
         "Austria",
         "RACHEL JOY  |  DIY + HOME",
         37000,
         16
        ],
        [
         "Austria",
         "RACHEL JOY  |  DIY + HOME",
         37000,
         17
        ],
        [
         "Austria",
         "Crediful",
         27000,
         18
        ],
        [
         "Austria",
         "Crediful",
         27000,
         19
        ],
        [
         "Austria",
         "Crediful",
         27000,
         20
        ],
        [
         "Austria",
         "Crediful",
         27000,
         21
        ],
        [
         "Austria",
         "Wanderlust Chloe ✈️ Travel guides, inspo and adventure travel ✈️",
         10000,
         22
        ],
        [
         "Austria",
         "EventMB",
         9000,
         23
        ],
        [
         "Austria",
         "EventMB",
         9000,
         24
        ],
        [
         "Austria",
         "EventMB",
         9000,
         25
        ],
        [
         "Austria",
         "EventMB",
         9000,
         26
        ],
        [
         "Azerbaijan",
         "Style Me Pretty",
         6000000,
         1
        ],
        [
         "Azerbaijan",
         "Taste of Home",
         2000000,
         2
        ],
        [
         "Azerbaijan",
         "Taste of Home",
         2000000,
         3
        ],
        [
         "Azerbaijan",
         "Taste of Home",
         2000000,
         4
        ],
        [
         "Azerbaijan",
         "Taste of Home",
         2000000,
         5
        ],
        [
         "Azerbaijan",
         "SOCIETY19",
         1000000,
         6
        ],
        [
         "Azerbaijan",
         "SOCIETY19",
         1000000,
         7
        ],
        [
         "Azerbaijan",
         "SOCIETY19",
         1000000,
         8
        ],
        [
         "Azerbaijan",
         "SOCIETY19",
         1000000,
         9
        ],
        [
         "Azerbaijan",
         "SOCIETY19",
         1000000,
         10
        ],
        [
         "Azerbaijan",
         "SOCIETY19",
         1000000,
         11
        ],
        [
         "Azerbaijan",
         "SOCIETY19",
         1000000,
         12
        ],
        [
         "Azerbaijan",
         "SOCIETY19",
         1000000,
         13
        ],
        [
         "Azerbaijan",
         "SOCIETY19",
         1000000,
         14
        ],
        [
         "Azerbaijan",
         "SOCIETY19",
         1000000,
         15
        ],
        [
         "Azerbaijan",
         "SOCIETY19",
         1000000,
         16
        ],
        [
         "Azerbaijan",
         "SOCIETY19",
         1000000,
         17
        ],
        [
         "Azerbaijan",
         "Early Learning Ideas",
         50000,
         18
        ],
        [
         "Azerbaijan",
         "Early Learning Ideas",
         50000,
         19
        ],
        [
         "Azerbaijan",
         "Early Learning Ideas",
         50000,
         20
        ],
        [
         "Azerbaijan",
         "Early Learning Ideas",
         50000,
         21
        ],
        [
         "Azerbaijan",
         "Esavingsblog",
         14000,
         22
        ],
        [
         "Azerbaijan",
         "Esavingsblog",
         14000,
         23
        ],
        [
         "Azerbaijan",
         "Esavingsblog",
         14000,
         24
        ],
        [
         "Azerbaijan",
         "Esavingsblog",
         14000,
         25
        ],
        [
         "Azerbaijan",
         "Victoria | Personal Growth, Modern Elegance",
         10000,
         26
        ],
        [
         "Azerbaijan",
         "Victoria | Personal Growth, Modern Elegance",
         10000,
         27
        ],
        [
         "Azerbaijan",
         "Victoria | Personal Growth, Modern Elegance",
         10000,
         28
        ],
        [
         "Azerbaijan",
         "Victoria | Personal Growth, Modern Elegance",
         10000,
         29
        ],
        [
         "Azerbaijan",
         "Amaze Style",
         2000,
         30
        ],
        [
         "Azerbaijan",
         "Amaze Style",
         2000,
         31
        ],
        [
         "Azerbaijan",
         "Amaze Style",
         2000,
         32
        ],
        [
         "Azerbaijan",
         "Amaze Style",
         2000,
         33
        ],
        [
         "Bahamas",
         "Handmade Charlotte",
         948000,
         1
        ],
        [
         "Bahamas",
         "Handmade Charlotte",
         948000,
         2
        ],
        [
         "Bahamas",
         "Handmade Charlotte",
         948000,
         3
        ],
        [
         "Bahamas",
         "Handmade Charlotte",
         948000,
         4
        ],
        [
         "Bahamas",
         "Andrew Martin",
         5000,
         5
        ],
        [
         "Bahamas",
         "Andrew Martin",
         5000,
         6
        ],
        [
         "Bahamas",
         "Andrew Martin",
         5000,
         7
        ],
        [
         "Bahamas",
         "Andrew Martin",
         5000,
         8
        ],
        [
         "Bahamas",
         "EventPlanning.com | Learn How To Become An Event Planner",
         4000,
         9
        ],
        [
         "Bahamas",
         "EventPlanning.com | Learn How To Become An Event Planner",
         4000,
         10
        ],
        [
         "Bahamas",
         "EventPlanning.com | Learn How To Become An Event Planner",
         4000,
         11
        ],
        [
         "Bahamas",
         "EventPlanning.com | Learn How To Become An Event Planner",
         4000,
         12
        ],
        [
         "Bahamas",
         "Katie Washington",
         2000,
         13
        ],
        [
         "Bahamas",
         "Katie Washington",
         2000,
         14
        ],
        [
         "Bahamas",
         "Katie Washington",
         2000,
         15
        ],
        [
         "Bahamas",
         "Katie Washington",
         2000,
         16
        ],
        [
         "Bahamas",
         "The Rustic Roundup, LLC | Style Hacks | Self Love",
         293,
         17
        ],
        [
         "Bahamas",
         "The Rustic Roundup, LLC | Style Hacks | Self Love",
         293,
         18
        ],
        [
         "Bahamas",
         "The Rustic Roundup, LLC | Style Hacks | Self Love",
         293,
         19
        ],
        [
         "Bahamas",
         "The Rustic Roundup, LLC | Style Hacks | Self Love",
         293,
         20
        ],
        [
         "Bahamas",
         "Erin Lee",
         22,
         21
        ],
        [
         "Bahamas",
         "Erin Lee",
         22,
         22
        ],
        [
         "Bahamas",
         "Erin Lee",
         22,
         23
        ],
        [
         "Bahamas",
         "Erin Lee",
         22,
         24
        ],
        [
         "Bahrain",
         "Rainy Day Mum",
         337000,
         1
        ],
        [
         "Bahrain",
         "Rainy Day Mum",
         337000,
         2
        ],
        [
         "Bahrain",
         "Rainy Day Mum",
         337000,
         3
        ],
        [
         "Bahrain",
         "Rainy Day Mum",
         337000,
         4
        ],
        [
         "Bahrain",
         "Decor Home Ideas",
         144000,
         5
        ],
        [
         "Bahrain",
         "Decor Home Ideas",
         144000,
         6
        ],
        [
         "Bahrain",
         "Decor Home Ideas",
         144000,
         7
        ],
        [
         "Bahrain",
         "Decor Home Ideas",
         144000,
         8
        ],
        [
         "Bahrain",
         "Elizabeth Lampman",
         78000,
         9
        ],
        [
         "Bahrain",
         "Elizabeth Lampman",
         78000,
         10
        ],
        [
         "Bahrain",
         "Elizabeth Lampman",
         78000,
         11
        ],
        [
         "Bahrain",
         "Elizabeth Lampman",
         78000,
         12
        ],
        [
         "Bahrain",
         "R.J. Weiss at The Ways To Wealth | Personal Finance | Debt Payoff",
         46000,
         13
        ],
        [
         "Bahrain",
         "Renee Roaming • Travel & Adventure",
         27000,
         14
        ],
        [
         "Bahrain",
         "Renee Roaming • Travel & Adventure",
         27000,
         15
        ],
        [
         "Bahrain",
         "Renee Roaming • Travel & Adventure",
         27000,
         16
        ],
        [
         "Bahrain",
         "Renee Roaming • Travel & Adventure",
         27000,
         17
        ],
        [
         "Bahrain",
         "Country Chic Paint",
         23000,
         18
        ],
        [
         "Bahrain",
         "Country Chic Paint",
         23000,
         19
        ],
        [
         "Bahrain",
         "Country Chic Paint",
         23000,
         20
        ],
        [
         "Bahrain",
         "Country Chic Paint",
         23000,
         21
        ],
        [
         "Bahrain",
         "Boss in Pyjamas",
         2000,
         22
        ],
        [
         "Bahrain",
         "Boss in Pyjamas",
         2000,
         23
        ],
        [
         "Bahrain",
         "Boss in Pyjamas",
         2000,
         24
        ],
        [
         "Bahrain",
         "Boss in Pyjamas",
         2000,
         25
        ],
        [
         "Bangladesh",
         "Better Homes and Gardens",
         4000000,
         1
        ],
        [
         "Bangladesh",
         "Better Homes and Gardens",
         4000000,
         2
        ],
        [
         "Bangladesh",
         "Better Homes and Gardens",
         4000000,
         3
        ],
        [
         "Bangladesh",
         "Better Homes and Gardens",
         4000000,
         4
        ],
        [
         "Bangladesh",
         "Better Homes and Gardens",
         4000000,
         5
        ],
        [
         "Bangladesh",
         "Better Homes and Gardens",
         4000000,
         6
        ],
        [
         "Bangladesh",
         "Better Homes and Gardens",
         4000000,
         7
        ],
        [
         "Bangladesh",
         "Better Homes and Gardens",
         4000000,
         8
        ],
        [
         "Bangladesh",
         "Architectural Digest",
         3000000,
         9
        ],
        [
         "Bangladesh",
         "Suburban Men",
         383000,
         10
        ],
        [
         "Bangladesh",
         "Suburban Men",
         383000,
         11
        ],
        [
         "Bangladesh",
         "Suburban Men",
         383000,
         12
        ],
        [
         "Bangladesh",
         "Suburban Men",
         383000,
         13
        ],
        [
         "Bangladesh",
         "The Turquoise Home | Simple DIY + Home Decor Ideas",
         205000,
         14
        ],
        [
         "Bangladesh",
         "The Turquoise Home | Simple DIY + Home Decor Ideas",
         205000,
         15
        ],
        [
         "Bangladesh",
         "The Turquoise Home | Simple DIY + Home Decor Ideas",
         205000,
         16
        ],
        [
         "Bangladesh",
         "The Turquoise Home | Simple DIY + Home Decor Ideas",
         205000,
         17
        ],
        [
         "Bangladesh",
         "Natalie Bacon | NatalieBacon.com",
         66000,
         18
        ],
        [
         "Bangladesh",
         "Natalie Bacon | NatalieBacon.com",
         66000,
         19
        ],
        [
         "Bangladesh",
         "Natalie Bacon | NatalieBacon.com",
         66000,
         20
        ],
        [
         "Bangladesh",
         "Natalie Bacon | NatalieBacon.com",
         66000,
         21
        ],
        [
         "Bangladesh",
         "Crisp Collective",
         13000,
         22
        ],
        [
         "Bangladesh",
         "Crisp Collective",
         13000,
         23
        ],
        [
         "Bangladesh",
         "Crisp Collective",
         13000,
         24
        ],
        [
         "Bangladesh",
         "Crisp Collective",
         13000,
         25
        ],
        [
         "Bangladesh",
         "Jin Designs",
         1000,
         26
        ],
        [
         "Bangladesh",
         "Jin Designs",
         1000,
         27
        ],
        [
         "Bangladesh",
         "Jin Designs",
         1000,
         28
        ],
        [
         "Bangladesh",
         "Jin Designs",
         1000,
         29
        ],
        [
         "Barbados",
         "The Creativity Exchange",
         410000,
         1
        ],
        [
         "Barbados",
         "Arty Crafty Kids",
         252000,
         2
        ],
        [
         "Barbados",
         "Arty Crafty Kids",
         252000,
         3
        ],
        [
         "Barbados",
         "Arty Crafty Kids",
         252000,
         4
        ],
        [
         "Barbados",
         "Arty Crafty Kids",
         252000,
         5
        ],
        [
         "Barbados",
         "Nicki ",
         28000,
         6
        ],
        [
         "Barbados",
         "Home And Apartment Ideas",
         3000,
         7
        ],
        [
         "Barbados",
         "Home And Apartment Ideas",
         3000,
         8
        ],
        [
         "Barbados",
         "Home And Apartment Ideas",
         3000,
         9
        ],
        [
         "Barbados",
         "Home And Apartment Ideas",
         3000,
         10
        ],
        [
         "Barbados",
         "GADGETOVIA",
         1000,
         11
        ],
        [
         "Barbados",
         "GADGETOVIA",
         1000,
         12
        ],
        [
         "Barbados",
         "GADGETOVIA",
         1000,
         13
        ],
        [
         "Barbados",
         "GADGETOVIA",
         1000,
         14
        ],
        [
         "Belarus",
         "Prudent Penny Pincher - Home Decor, Organization, Crafts, Recipes",
         647000,
         1
        ],
        [
         "Belarus",
         "Prudent Penny Pincher - Home Decor, Organization, Crafts, Recipes",
         647000,
         2
        ],
        [
         "Belarus",
         "Prudent Penny Pincher - Home Decor, Organization, Crafts, Recipes",
         647000,
         3
        ],
        [
         "Belarus",
         "Prudent Penny Pincher - Home Decor, Organization, Crafts, Recipes",
         647000,
         4
        ],
        [
         "Belarus",
         "Salt in our Hair",
         29000,
         5
        ],
        [
         "Belarus",
         "Salt in our Hair",
         29000,
         6
        ],
        [
         "Belarus",
         "Salt in our Hair",
         29000,
         7
        ],
        [
         "Belarus",
         "Salt in our Hair",
         29000,
         8
        ],
        [
         "Belarus",
         "Live Love Run Travel | Travel Blogger",
         7000,
         9
        ],
        [
         "Belarus",
         "Live Love Run Travel | Travel Blogger",
         7000,
         10
        ],
        [
         "Belarus",
         "Live Love Run Travel | Travel Blogger",
         7000,
         11
        ],
        [
         "Belarus",
         "Live Love Run Travel | Travel Blogger",
         7000,
         12
        ],
        [
         "Belarus",
         "Live Love Run Travel | Travel Blogger",
         7000,
         13
        ],
        [
         "Belarus",
         "Live Love Run Travel | Travel Blogger",
         7000,
         14
        ],
        [
         "Belarus",
         "Live Love Run Travel | Travel Blogger",
         7000,
         15
        ],
        [
         "Belarus",
         "Live Love Run Travel | Travel Blogger",
         7000,
         16
        ],
        [
         "Belarus",
         "Live Love Run Travel | Travel Blogger",
         7000,
         17
        ],
        [
         "Belarus",
         "Live Love Run Travel | Travel Blogger",
         7000,
         18
        ],
        [
         "Belarus",
         "Live Love Run Travel | Travel Blogger",
         7000,
         19
        ],
        [
         "Belarus",
         "Live Love Run Travel | Travel Blogger",
         7000,
         20
        ],
        [
         "Belarus",
         "Live Love Run Travel | Travel Blogger",
         7000,
         21
        ],
        [
         "Belarus",
         "Live Love Run Travel | Travel Blogger",
         7000,
         22
        ],
        [
         "Belarus",
         "Live Love Run Travel | Travel Blogger",
         7000,
         23
        ],
        [
         "Belarus",
         "Live Love Run Travel | Travel Blogger",
         7000,
         24
        ],
        [
         "Belarus",
         "Live Love Run Travel | Travel Blogger",
         7000,
         25
        ],
        [
         "Belarus",
         "Live Love Run Travel | Travel Blogger",
         7000,
         26
        ],
        [
         "Belarus",
         "Live Love Run Travel | Travel Blogger",
         7000,
         27
        ],
        [
         "Belarus",
         "Live Love Run Travel | Travel Blogger",
         7000,
         28
        ],
        [
         "Belgium",
         "Happy Toddler Playtime",
         73000,
         1
        ],
        [
         "Belgium",
         "Happy Toddler Playtime",
         73000,
         2
        ],
        [
         "Belgium",
         "Happy Toddler Playtime",
         73000,
         3
        ],
        [
         "Belgium",
         "Happy Toddler Playtime",
         73000,
         4
        ],
        [
         "Belgium",
         "Bon Traveler | Travel + Design Tips",
         24000,
         5
        ],
        [
         "Belgium",
         "Bon Traveler | Travel + Design Tips",
         24000,
         6
        ],
        [
         "Belgium",
         "Bon Traveler | Travel + Design Tips",
         24000,
         7
        ],
        [
         "Belgium",
         "Bon Traveler | Travel + Design Tips",
         24000,
         8
        ],
        [
         "Belgium",
         "Rachel_thePondsFarmhouse",
         13000,
         9
        ],
        [
         "Belgium",
         "Rachel_thePondsFarmhouse",
         13000,
         10
        ],
        [
         "Belgium",
         "Rachel_thePondsFarmhouse",
         13000,
         11
        ],
        [
         "Belgium",
         "Rachel_thePondsFarmhouse",
         13000,
         12
        ],
        [
         "Belize",
         "Julia Berolzheimer",
         399000,
         1
        ],
        [
         "Belize",
         "Julia Berolzheimer",
         399000,
         2
        ],
        [
         "Belize",
         "Julia Berolzheimer",
         399000,
         3
        ],
        [
         "Belize",
         "Julia Berolzheimer",
         399000,
         4
        ],
        [
         "Belize",
         "Easy Kids Crafts & Activities | Preschool & Kindergarten Ideas",
         267000,
         5
        ],
        [
         "Belize",
         "Easy Kids Crafts & Activities | Preschool & Kindergarten Ideas",
         267000,
         6
        ],
        [
         "Belize",
         "Easy Kids Crafts & Activities | Preschool & Kindergarten Ideas",
         267000,
         7
        ],
        [
         "Belize",
         "Easy Kids Crafts & Activities | Preschool & Kindergarten Ideas",
         267000,
         8
        ],
        [
         "Belize",
         "Clary | IKEA hacks & DIY Project for home",
         67000,
         9
        ],
        [
         "Belize",
         "Clary | IKEA hacks & DIY Project for home",
         67000,
         10
        ],
        [
         "Belize",
         "Clary | IKEA hacks & DIY Project for home",
         67000,
         11
        ],
        [
         "Belize",
         "Clary | IKEA hacks & DIY Project for home",
         67000,
         12
        ],
        [
         "Belize",
         "OG Watches USA",
         38,
         13
        ],
        [
         "Belize",
         "OG Watches USA",
         38,
         14
        ],
        [
         "Belize",
         "OG Watches USA",
         38,
         15
        ],
        [
         "Belize",
         "OG Watches USA",
         38,
         16
        ],
        [
         "Benin",
         "fashionchaser | nails,hairstyle,tattoo",
         23000,
         1
        ],
        [
         "Benin",
         "fashionchaser | nails,hairstyle,tattoo",
         23000,
         2
        ],
        [
         "Benin",
         "fashionchaser | nails,hairstyle,tattoo",
         23000,
         3
        ],
        [
         "Benin",
         "fashionchaser | nails,hairstyle,tattoo",
         23000,
         4
        ],
        [
         "Benin",
         "Learn in Color",
         21000,
         5
        ],
        [
         "Benin",
         "Learn in Color",
         21000,
         6
        ],
        [
         "Benin",
         "Learn in Color",
         21000,
         7
        ],
        [
         "Benin",
         "Learn in Color",
         21000,
         8
        ],
        [
         "Benin",
         "The Wanderlust Rose- Travel Jobs, Adventure & Travel Tips",
         3000,
         9
        ],
        [
         "Benin",
         "The Wanderlust Rose- Travel Jobs, Adventure & Travel Tips",
         3000,
         10
        ],
        [
         "Benin",
         "The Wanderlust Rose- Travel Jobs, Adventure & Travel Tips",
         3000,
         11
        ],
        [
         "Benin",
         "The Wanderlust Rose- Travel Jobs, Adventure & Travel Tips",
         3000,
         12
        ],
        [
         "Benin",
         "The Wanderlust Rose- Travel Jobs, Adventure & Travel Tips",
         3000,
         13
        ],
        [
         "Benin",
         "The Wanderlust Rose- Travel Jobs, Adventure & Travel Tips",
         3000,
         14
        ],
        [
         "Benin",
         "The Wanderlust Rose- Travel Jobs, Adventure & Travel Tips",
         3000,
         15
        ],
        [
         "Benin",
         "The Wanderlust Rose- Travel Jobs, Adventure & Travel Tips",
         3000,
         16
        ],
        [
         "Benin",
         "The Wanderlust Rose- Travel Jobs, Adventure & Travel Tips",
         3000,
         17
        ],
        [
         "Benin",
         "The Wanderlust Rose- Travel Jobs, Adventure & Travel Tips",
         3000,
         18
        ],
        [
         "Benin",
         "The Wanderlust Rose- Travel Jobs, Adventure & Travel Tips",
         3000,
         19
        ],
        [
         "Benin",
         "The Wanderlust Rose- Travel Jobs, Adventure & Travel Tips",
         3000,
         20
        ],
        [
         "Benin",
         "The Wanderlust Rose- Travel Jobs, Adventure & Travel Tips",
         3000,
         21
        ],
        [
         "Benin",
         "The Wanderlust Rose- Travel Jobs, Adventure & Travel Tips",
         3000,
         22
        ],
        [
         "Benin",
         "The Wanderlust Rose- Travel Jobs, Adventure & Travel Tips",
         3000,
         23
        ],
        [
         "Benin",
         "The Wanderlust Rose- Travel Jobs, Adventure & Travel Tips",
         3000,
         24
        ],
        [
         "Benin",
         "The Wanderlust Rose- Travel Jobs, Adventure & Travel Tips",
         3000,
         25
        ],
        [
         "Benin",
         "The Wanderlust Rose- Travel Jobs, Adventure & Travel Tips",
         3000,
         26
        ],
        [
         "Benin",
         "The Wanderlust Rose- Travel Jobs, Adventure & Travel Tips",
         3000,
         27
        ],
        [
         "Benin",
         "The Wanderlust Rose- Travel Jobs, Adventure & Travel Tips",
         3000,
         28
        ],
        [
         "Benin",
         "Domnique Prencipe",
         91,
         29
        ],
        [
         "Benin",
         "Domnique Prencipe",
         91,
         30
        ],
        [
         "Benin",
         "Domnique Prencipe",
         91,
         31
        ],
        [
         "Benin",
         "Domnique Prencipe",
         91,
         32
        ],
        [
         "Bermuda",
         "Life on Summerhill | Home, Holiday Decor & DIY Website",
         46000,
         1
        ],
        [
         "Bermuda",
         "Earth Trekkers",
         27000,
         2
        ],
        [
         "Bermuda",
         "Earth Trekkers",
         27000,
         3
        ],
        [
         "Bermuda",
         "Earth Trekkers",
         27000,
         4
        ],
        [
         "Bermuda",
         "Earth Trekkers",
         27000,
         5
        ],
        [
         "Bermuda",
         "Spiretime",
         14000,
         6
        ],
        [
         "Bermuda",
         "Spiretime",
         14000,
         7
        ],
        [
         "Bermuda",
         "Spiretime",
         14000,
         8
        ],
        [
         "Bermuda",
         "Spiretime",
         14000,
         9
        ],
        [
         "Bermuda",
         "Perfection Hangover | Launching and Marketing Your Blog & YouTube",
         7000,
         10
        ],
        [
         "Bermuda",
         "Perfection Hangover | Launching and Marketing Your Blog & YouTube",
         7000,
         11
        ],
        [
         "Bermuda",
         "Perfection Hangover | Launching and Marketing Your Blog & YouTube",
         7000,
         12
        ],
        [
         "Bermuda",
         "Perfection Hangover | Launching and Marketing Your Blog & YouTube",
         7000,
         13
        ],
        [
         "Bermuda",
         "Jody-Ann Rowe | Marketing Coach for Wedding Professionals",
         884,
         14
        ],
        [
         "Bermuda",
         "Jody-Ann Rowe | Marketing Coach for Wedding Professionals",
         884,
         15
        ],
        [
         "Bermuda",
         "Jody-Ann Rowe | Marketing Coach for Wedding Professionals",
         884,
         16
        ],
        [
         "Bermuda",
         "Jody-Ann Rowe | Marketing Coach for Wedding Professionals",
         884,
         17
        ],
        [
         "Bermuda",
         "Dailylifewithmads|Chronic Illness Blogger ",
         198,
         18
        ],
        [
         "Bermuda",
         "Dailylifewithmads|Chronic Illness Blogger ",
         198,
         19
        ],
        [
         "Bermuda",
         "Dailylifewithmads|Chronic Illness Blogger ",
         198,
         20
        ],
        [
         "Bermuda",
         "Dailylifewithmads|Chronic Illness Blogger ",
         198,
         21
        ],
        [
         "Bhutan",
         "diana ajih",
         141000,
         1
        ],
        [
         "Bhutan",
         "diana ajih",
         141000,
         2
        ],
        [
         "Bhutan",
         "diana ajih",
         141000,
         3
        ],
        [
         "Bhutan",
         "diana ajih",
         141000,
         4
        ],
        [
         "Bhutan",
         "Esquire Magazine",
         130000,
         5
        ],
        [
         "Bhutan",
         "Esquire Magazine",
         130000,
         6
        ],
        [
         "Bhutan",
         "Esquire Magazine",
         130000,
         7
        ],
        [
         "Bhutan",
         "Esquire Magazine",
         130000,
         8
        ],
        [
         "Bhutan",
         "this heArt of mine / amy christie",
         22000,
         9
        ],
        [
         "Bhutan",
         "this heArt of mine / amy christie",
         22000,
         10
        ],
        [
         "Bhutan",
         "this heArt of mine / amy christie",
         22000,
         11
        ],
        [
         "Bhutan",
         "this heArt of mine / amy christie",
         22000,
         12
        ],
        [
         "Bhutan",
         "Alecia May | Eventistry By Alecia",
         20000,
         13
        ],
        [
         "Bhutan",
         "Alecia May | Eventistry By Alecia",
         20000,
         14
        ],
        [
         "Bhutan",
         "Alecia May | Eventistry By Alecia",
         20000,
         15
        ],
        [
         "Bhutan",
         "Alecia May | Eventistry By Alecia",
         20000,
         16
        ],
        [
         "Bhutan",
         "Kids Crafts & Free Preschool Printables- Sharing Our Experiences",
         3000,
         17
        ],
        [
         "Bolivia",
         "Kimberly West (a girl and a glue gun)",
         243000,
         1
        ],
        [
         "Bolivia",
         "Kimberly West (a girl and a glue gun)",
         243000,
         2
        ],
        [
         "Bolivia",
         "Kimberly West (a girl and a glue gun)",
         243000,
         3
        ],
        [
         "Bolivia",
         "Kimberly West (a girl and a glue gun)",
         243000,
         4
        ],
        [
         "Bolivia",
         "She Gave It A Go| Faith Family Farmhouse",
         68000,
         5
        ],
        [
         "Bolivia",
         "She Gave It A Go| Faith Family Farmhouse",
         68000,
         6
        ],
        [
         "Bolivia",
         "She Gave It A Go| Faith Family Farmhouse",
         68000,
         7
        ],
        [
         "Bolivia",
         "She Gave It A Go| Faith Family Farmhouse",
         68000,
         8
        ],
        [
         "Bolivia",
         "Curated Interior",
         67000,
         9
        ],
        [
         "Bolivia",
         "Curated Interior",
         67000,
         10
        ],
        [
         "Bolivia",
         "Curated Interior",
         67000,
         11
        ],
        [
         "Bolivia",
         "Curated Interior",
         67000,
         12
        ],
        [
         "Bolivia",
         "Karen Red",
         213,
         13
        ],
        [
         "Bolivia",
         "Karen Red",
         213,
         14
        ],
        [
         "Bolivia",
         "Karen Red",
         213,
         15
        ],
        [
         "Bolivia",
         "Karen Red",
         213,
         16
        ],
        [
         "Bosnia and Herzegovina",
         "5-Minute Crafts Family",
         370000,
         1
        ],
        [
         "Bosnia and Herzegovina",
         "5-Minute Crafts Family",
         370000,
         2
        ],
        [
         "Bosnia and Herzegovina",
         "5-Minute Crafts Family",
         370000,
         3
        ],
        [
         "Bosnia and Herzegovina",
         "5-Minute Crafts Family",
         370000,
         4
        ],
        [
         "Bosnia and Herzegovina",
         "Jackie | I Heart Arts N Crafts",
         89000,
         5
        ],
        [
         "Bosnia and Herzegovina",
         "Jackie | I Heart Arts N Crafts",
         89000,
         6
        ],
        [
         "Bosnia and Herzegovina",
         "Jackie | I Heart Arts N Crafts",
         89000,
         7
        ],
        [
         "Bosnia and Herzegovina",
         "Jackie | I Heart Arts N Crafts",
         89000,
         8
        ],
        [
         "Botswana",
         "OkChicas",
         3000000,
         1
        ],
        [
         "Botswana",
         "OkChicas",
         3000000,
         2
        ],
        [
         "Botswana",
         "OkChicas",
         3000000,
         3
        ],
        [
         "Botswana",
         "OkChicas",
         3000000,
         4
        ],
        [
         "Botswana",
         "GloryInvestingShow",
         98000,
         5
        ],
        [
         "Botswana",
         "GloryInvestingShow",
         98000,
         6
        ],
        [
         "Botswana",
         "GloryInvestingShow",
         98000,
         7
        ],
        [
         "Botswana",
         "GloryInvestingShow",
         98000,
         8
        ],
        [
         "Botswana",
         "RapidLeaks",
         4000,
         9
        ],
        [
         "Botswana",
         "RapidLeaks",
         4000,
         10
        ],
        [
         "Botswana",
         "RapidLeaks",
         4000,
         11
        ],
        [
         "Botswana",
         "RapidLeaks",
         4000,
         12
        ],
        [
         "Botswana",
         "RapidLeaks",
         4000,
         13
        ],
        [
         "Botswana",
         "RapidLeaks",
         4000,
         14
        ],
        [
         "Botswana",
         "RapidLeaks",
         4000,
         15
        ],
        [
         "Botswana",
         "RapidLeaks",
         4000,
         16
        ],
        [
         "Botswana",
         "RapidLeaks",
         4000,
         17
        ],
        [
         "Bouvet Island (Bouvetoya)",
         "POPSUGAR",
         5000000,
         1
        ],
        [
         "Bouvet Island (Bouvetoya)",
         "POPSUGAR",
         5000000,
         2
        ],
        [
         "Bouvet Island (Bouvetoya)",
         "POPSUGAR",
         5000000,
         3
        ],
        [
         "Bouvet Island (Bouvetoya)",
         "POPSUGAR",
         5000000,
         4
        ],
        [
         "Bouvet Island (Bouvetoya)",
         "POPSUGAR",
         5000000,
         5
        ],
        [
         "Bouvet Island (Bouvetoya)",
         "POPSUGAR",
         5000000,
         6
        ],
        [
         "Bouvet Island (Bouvetoya)",
         "POPSUGAR",
         5000000,
         7
        ],
        [
         "Bouvet Island (Bouvetoya)",
         "POPSUGAR",
         5000000,
         8
        ],
        [
         "Bouvet Island (Bouvetoya)",
         "Follow Me Away",
         47000,
         9
        ],
        [
         "Bouvet Island (Bouvetoya)",
         "Follow Me Away",
         47000,
         10
        ],
        [
         "Bouvet Island (Bouvetoya)",
         "Follow Me Away",
         47000,
         11
        ],
        [
         "Bouvet Island (Bouvetoya)",
         "Follow Me Away",
         47000,
         12
        ],
        [
         "Bouvet Island (Bouvetoya)",
         "To Some Place New | Travel Blog | Europe Travel & Beyond",
         12000,
         13
        ],
        [
         "Bouvet Island (Bouvetoya)",
         "To Some Place New | Travel Blog | Europe Travel & Beyond",
         12000,
         14
        ],
        [
         "Bouvet Island (Bouvetoya)",
         "To Some Place New | Travel Blog | Europe Travel & Beyond",
         12000,
         15
        ],
        [
         "Bouvet Island (Bouvetoya)",
         "To Some Place New | Travel Blog | Europe Travel & Beyond",
         12000,
         16
        ],
        [
         "Bouvet Island (Bouvetoya)",
         "Melissa Vega Avalos",
         7000,
         17
        ],
        [
         "Bouvet Island (Bouvetoya)",
         "Melissa Vega Avalos",
         7000,
         18
        ],
        [
         "Bouvet Island (Bouvetoya)",
         "Melissa Vega Avalos",
         7000,
         19
        ],
        [
         "Bouvet Island (Bouvetoya)",
         "Melissa Vega Avalos",
         7000,
         20
        ],
        [
         "Brazil",
         "Budget with Rachel",
         11000,
         1
        ],
        [
         "Brazil",
         "Budget with Rachel",
         11000,
         2
        ],
        [
         "Brazil",
         "Budget with Rachel",
         11000,
         3
        ],
        [
         "Brazil",
         "Budget with Rachel",
         11000,
         4
        ],
        [
         "Brazil",
         "Frozen Pennies | Sara Conklin (Coaching, Budgeting & Frugal Living)",
         5000,
         5
        ],
        [
         "Brazil",
         "Frozen Pennies | Sara Conklin (Coaching, Budgeting & Frugal Living)",
         5000,
         6
        ],
        [
         "Brazil",
         "Frozen Pennies | Sara Conklin (Coaching, Budgeting & Frugal Living)",
         5000,
         7
        ],
        [
         "Brazil",
         "Frozen Pennies | Sara Conklin (Coaching, Budgeting & Frugal Living)",
         5000,
         8
        ],
        [
         "British Indian Ocean Territory (Chagos Archipelago)",
         "Budgets Are Sexy | Save Money + Grow Your Net Worth",
         11000,
         1
        ],
        [
         "British Indian Ocean Territory (Chagos Archipelago)",
         "Budgets Are Sexy | Save Money + Grow Your Net Worth",
         11000,
         2
        ],
        [
         "British Indian Ocean Territory (Chagos Archipelago)",
         "Budgets Are Sexy | Save Money + Grow Your Net Worth",
         11000,
         3
        ],
        [
         "British Indian Ocean Territory (Chagos Archipelago)",
         "Budgets Are Sexy | Save Money + Grow Your Net Worth",
         11000,
         4
        ],
        [
         "British Virgin Islands",
         "Kitchen Fun With My 3 Sons",
         245000,
         1
        ],
        [
         "British Virgin Islands",
         "Dream Dash Journal",
         19000,
         2
        ],
        [
         "British Virgin Islands",
         "Dream Dash Journal",
         19000,
         3
        ],
        [
         "British Virgin Islands",
         "Dream Dash Journal",
         19000,
         4
        ],
        [
         "British Virgin Islands",
         "Dream Dash Journal",
         19000,
         5
        ],
        [
         "British Virgin Islands",
         "Dream Dash Journal",
         19000,
         6
        ],
        [
         "British Virgin Islands",
         "Dream Dash Journal",
         19000,
         7
        ],
        [
         "British Virgin Islands",
         "Dream Dash Journal",
         19000,
         8
        ],
        [
         "British Virgin Islands",
         "Dream Dash Journal",
         19000,
         9
        ],
        [
         "British Virgin Islands",
         "Sports Car Digest",
         6000,
         10
        ],
        [
         "British Virgin Islands",
         "Sports Car Digest",
         6000,
         11
        ],
        [
         "British Virgin Islands",
         "Sports Car Digest",
         6000,
         12
        ],
        [
         "British Virgin Islands",
         "Sports Car Digest",
         6000,
         13
        ],
        [
         "British Virgin Islands",
         "Visit USA Parks | Travel Blog & Inspiration",
         4000,
         14
        ],
        [
         "British Virgin Islands",
         "Visit USA Parks | Travel Blog & Inspiration",
         4000,
         15
        ],
        [
         "British Virgin Islands",
         "Visit USA Parks | Travel Blog & Inspiration",
         4000,
         16
        ],
        [
         "British Virgin Islands",
         "Visit USA Parks | Travel Blog & Inspiration",
         4000,
         17
        ],
        [
         "British Virgin Islands",
         "DIVDepot – Geld sparen & verdienen | Mindset | Dividend Investing",
         3000,
         18
        ],
        [
         "British Virgin Islands",
         "DIVDepot – Geld sparen & verdienen | Mindset | Dividend Investing",
         3000,
         19
        ],
        [
         "British Virgin Islands",
         "DIVDepot – Geld sparen & verdienen | Mindset | Dividend Investing",
         3000,
         20
        ],
        [
         "British Virgin Islands",
         "DIVDepot – Geld sparen & verdienen | Mindset | Dividend Investing",
         3000,
         21
        ],
        [
         "Brunei Darussalam",
         "Purpose Driven Living Home",
         31000,
         1
        ],
        [
         "Brunei Darussalam",
         "Purpose Driven Living Home",
         31000,
         2
        ],
        [
         "Brunei Darussalam",
         "Purpose Driven Living Home",
         31000,
         3
        ],
        [
         "Brunei Darussalam",
         "Purpose Driven Living Home",
         31000,
         4
        ],
        [
         "Brunei Darussalam",
         "The Autism Vault",
         5000,
         5
        ],
        [
         "Brunei Darussalam",
         "The Autism Vault",
         5000,
         6
        ],
        [
         "Brunei Darussalam",
         "The Autism Vault",
         5000,
         7
        ],
        [
         "Brunei Darussalam",
         "The Autism Vault",
         5000,
         8
        ],
        [
         "Bulgaria",
         "Half Baked Harvest",
         912000,
         1
        ],
        [
         "Bulgaria",
         "Half Baked Harvest",
         912000,
         2
        ],
        [
         "Bulgaria",
         "Half Baked Harvest",
         912000,
         3
        ],
        [
         "Bulgaria",
         "Half Baked Harvest",
         912000,
         4
        ],
        [
         "Bulgaria",
         "A Piece of Rainbow",
         603000,
         5
        ],
        [
         "Bulgaria",
         "A Piece of Rainbow",
         603000,
         6
        ],
        [
         "Bulgaria",
         "A Piece of Rainbow",
         603000,
         7
        ],
        [
         "Bulgaria",
         "A Piece of Rainbow",
         603000,
         8
        ],
        [
         "Bulgaria",
         "A Piece of Rainbow",
         603000,
         9
        ],
        [
         "Bulgaria",
         "A Piece of Rainbow",
         603000,
         10
        ],
        [
         "Bulgaria",
         "A Piece of Rainbow",
         603000,
         11
        ],
        [
         "Bulgaria",
         "A Piece of Rainbow",
         603000,
         12
        ],
        [
         "Bulgaria",
         "The Techie Teacher",
         59000,
         13
        ],
        [
         "Bulgaria",
         "The Techie Teacher",
         59000,
         14
        ],
        [
         "Bulgaria",
         "The Techie Teacher",
         59000,
         15
        ],
        [
         "Bulgaria",
         "The Techie Teacher",
         59000,
         16
        ],
        [
         "Bulgaria",
         "Cool Material",
         36000,
         17
        ],
        [
         "Bulgaria",
         "Cool Material",
         36000,
         18
        ],
        [
         "Bulgaria",
         "Cool Material",
         36000,
         19
        ],
        [
         "Bulgaria",
         "Cool Material",
         36000,
         20
        ],
        [
         "Bulgaria",
         "CarGurus",
         35000,
         21
        ],
        [
         "Bulgaria",
         "CarGurus",
         35000,
         22
        ],
        [
         "Bulgaria",
         "CarGurus",
         35000,
         23
        ],
        [
         "Bulgaria",
         "CarGurus",
         35000,
         24
        ],
        [
         "Bulgaria",
         "Living Low Key | Save Money, Make Money, & Frugal Living",
         26000,
         25
        ],
        [
         "Bulgaria",
         "Living Low Key | Save Money, Make Money, & Frugal Living",
         26000,
         26
        ],
        [
         "Bulgaria",
         "Living Low Key | Save Money, Make Money, & Frugal Living",
         26000,
         27
        ],
        [
         "Bulgaria",
         "Living Low Key | Save Money, Make Money, & Frugal Living",
         26000,
         28
        ],
        [
         "Bulgaria",
         "Living Low Key | Save Money, Make Money, & Frugal Living",
         26000,
         29
        ],
        [
         "Bulgaria",
         "Living Low Key | Save Money, Make Money, & Frugal Living",
         26000,
         30
        ],
        [
         "Bulgaria",
         "Living Low Key | Save Money, Make Money, & Frugal Living",
         26000,
         31
        ],
        [
         "Bulgaria",
         "Living Low Key | Save Money, Make Money, & Frugal Living",
         26000,
         32
        ],
        [
         "Bulgaria",
         "Living Low Key | Save Money, Make Money, & Frugal Living",
         26000,
         33
        ],
        [
         "Burkina Faso",
         "Home Hacks",
         235000,
         1
        ],
        [
         "Burkina Faso",
         "Home Hacks",
         235000,
         2
        ],
        [
         "Burkina Faso",
         "Home Hacks",
         235000,
         3
        ],
        [
         "Burkina Faso",
         "Home Hacks",
         235000,
         4
        ],
        [
         "Burkina Faso",
         "Dare to Cultivate",
         7000,
         5
        ],
        [
         "Burkina Faso",
         "Dare to Cultivate",
         7000,
         6
        ],
        [
         "Burkina Faso",
         "Dare to Cultivate",
         7000,
         7
        ],
        [
         "Burkina Faso",
         "Dare to Cultivate",
         7000,
         8
        ],
        [
         "Burkina Faso",
         "Sunsets N Style | Lifestyle Blogger",
         1000,
         9
        ],
        [
         "Burkina Faso",
         "Sunsets N Style | Lifestyle Blogger",
         1000,
         10
        ],
        [
         "Burkina Faso",
         "Sunsets N Style | Lifestyle Blogger",
         1000,
         11
        ],
        [
         "Burkina Faso",
         "Sunsets N Style | Lifestyle Blogger",
         1000,
         12
        ],
        [
         "Burundi",
         "Cute Cat Videos",
         373,
         1
        ],
        [
         "Burundi",
         "Cute Cat Videos",
         373,
         2
        ],
        [
         "Burundi",
         "Cute Cat Videos",
         373,
         3
        ],
        [
         "Burundi",
         "Cute Cat Videos",
         373,
         4
        ],
        [
         "Cambodia",
         "Catch My Party",
         2000000,
         1
        ],
        [
         "Cambodia",
         "Catch My Party",
         2000000,
         2
        ],
        [
         "Cambodia",
         "Catch My Party",
         2000000,
         3
        ],
        [
         "Cambodia",
         "Catch My Party",
         2000000,
         4
        ],
        [
         "Cambodia",
         "Blusher",
         583000,
         5
        ],
        [
         "Cambodia",
         "Blusher",
         583000,
         6
        ],
        [
         "Cambodia",
         "Blusher",
         583000,
         7
        ],
        [
         "Cambodia",
         "Blusher",
         583000,
         8
        ],
        [
         "Cambodia",
         "Mixed Media Crafts",
         6000,
         9
        ],
        [
         "Cameroon",
         "Made to be a Momma",
         85000,
         1
        ],
        [
         "Cameroon",
         "Made to be a Momma",
         85000,
         2
        ],
        [
         "Cameroon",
         "Made to be a Momma",
         85000,
         3
        ],
        [
         "Cameroon",
         "Made to be a Momma",
         85000,
         4
        ],
        [
         "Cameroon",
         "Homemade For Elle",
         61000,
         5
        ],
        [
         "Cameroon",
         "Homemade For Elle",
         61000,
         6
        ],
        [
         "Cameroon",
         "Homemade For Elle",
         61000,
         7
        ],
        [
         "Cameroon",
         "Homemade For Elle",
         61000,
         8
        ],
        [
         "Cameroon",
         "Jada Wilson",
         11,
         9
        ],
        [
         "Cameroon",
         "Jada Wilson",
         11,
         10
        ],
        [
         "Cameroon",
         "Jada Wilson",
         11,
         11
        ],
        [
         "Cameroon",
         "Jada Wilson",
         11,
         12
        ],
        [
         "Canada",
         "Giorgenti New York",
         258000,
         1
        ],
        [
         "Canada",
         "Giorgenti New York",
         258000,
         2
        ],
        [
         "Canada",
         "Giorgenti New York",
         258000,
         3
        ],
        [
         "Canada",
         "Giorgenti New York",
         258000,
         4
        ],
        [
         "Canada",
         "Diana's Healthy Living | Luxury Adventure Travel Blog",
         7000,
         5
        ],
        [
         "Canada",
         "Diana's Healthy Living | Luxury Adventure Travel Blog",
         7000,
         6
        ],
        [
         "Canada",
         "Diana's Healthy Living | Luxury Adventure Travel Blog",
         7000,
         7
        ],
        [
         "Canada",
         "Diana's Healthy Living | Luxury Adventure Travel Blog",
         7000,
         8
        ],
        [
         "Canada",
         "List & File",
         43,
         9
        ],
        [
         "Canada",
         "List & File",
         43,
         10
        ],
        [
         "Canada",
         "List & File",
         43,
         11
        ],
        [
         "Canada",
         "List & File",
         43,
         12
        ],
        [
         "Cape Verde",
         "Sand and Sisal",
         178000,
         1
        ],
        [
         "Cape Verde",
         "Sand and Sisal",
         178000,
         2
        ],
        [
         "Cape Verde",
         "Sand and Sisal",
         178000,
         3
        ],
        [
         "Cape Verde",
         "Sand and Sisal",
         178000,
         4
        ],
        [
         "Cape Verde",
         "Sand and Sisal",
         178000,
         5
        ],
        [
         "Cape Verde",
         "Sand and Sisal",
         178000,
         6
        ],
        [
         "Cape Verde",
         "Sand and Sisal",
         178000,
         7
        ],
        [
         "Cape Verde",
         "Sand and Sisal",
         178000,
         8
        ],
        [
         "Cape Verde",
         "Sand and Sisal",
         178000,
         9
        ],
        [
         "Cape Verde",
         "RT Lifestyle Magazine | Travel, DIY, Recipes, Fitness & More",
         43000,
         10
        ],
        [
         "Cape Verde",
         "RT Lifestyle Magazine | Travel, DIY, Recipes, Fitness & More",
         43000,
         11
        ],
        [
         "Cape Verde",
         "RT Lifestyle Magazine | Travel, DIY, Recipes, Fitness & More",
         43000,
         12
        ],
        [
         "Cape Verde",
         "RT Lifestyle Magazine | Travel, DIY, Recipes, Fitness & More",
         43000,
         13
        ],
        [
         "Cape Verde",
         "Jooosy",
         77,
         14
        ],
        [
         "Cape Verde",
         "Jooosy",
         77,
         15
        ],
        [
         "Cape Verde",
         "Jooosy",
         77,
         16
        ],
        [
         "Cape Verde",
         "Jooosy",
         77,
         17
        ],
        [
         "Cayman Islands",
         "How Wee Learn",
         383000,
         1
        ],
        [
         "Cayman Islands",
         "How Wee Learn",
         383000,
         2
        ],
        [
         "Cayman Islands",
         "How Wee Learn",
         383000,
         3
        ],
        [
         "Cayman Islands",
         "How Wee Learn",
         383000,
         4
        ],
        [
         "Cayman Islands",
         "Our Escape Clause l Travel in Europe & Beyond",
         15000,
         5
        ],
        [
         "Cayman Islands",
         "Our Escape Clause l Travel in Europe & Beyond",
         15000,
         6
        ],
        [
         "Cayman Islands",
         "Our Escape Clause l Travel in Europe & Beyond",
         15000,
         7
        ],
        [
         "Cayman Islands",
         "Our Escape Clause l Travel in Europe & Beyond",
         15000,
         8
        ],
        [
         "Central African Republic",
         "PureWow",
         868000,
         1
        ],
        [
         "Central African Republic",
         "PureWow",
         868000,
         2
        ],
        [
         "Central African Republic",
         "PureWow",
         868000,
         3
        ],
        [
         "Central African Republic",
         "PureWow",
         868000,
         4
        ],
        [
         "Central African Republic",
         "PureWow",
         868000,
         5
        ],
        [
         "Central African Republic",
         "PureWow",
         868000,
         6
        ],
        [
         "Central African Republic",
         "PureWow",
         868000,
         7
        ],
        [
         "Central African Republic",
         "PureWow",
         868000,
         8
        ],
        [
         "Central African Republic",
         "PureWow",
         868000,
         9
        ],
        [
         "Central African Republic",
         "Maria Braga",
         40000,
         10
        ],
        [
         "Central African Republic",
         "Maria Braga",
         40000,
         11
        ],
        [
         "Central African Republic",
         "Maria Braga",
         40000,
         12
        ],
        [
         "Central African Republic",
         "Maria Braga",
         40000,
         13
        ],
        [
         "Central African Republic",
         "Creative in Chicago",
         22000,
         14
        ],
        [
         "Central African Republic",
         "Creative in Chicago",
         22000,
         15
        ],
        [
         "Central African Republic",
         "Creative in Chicago",
         22000,
         16
        ],
        [
         "Central African Republic",
         "Creative in Chicago",
         22000,
         17
        ],
        [
         "Central African Republic",
         "Fearless Leader",
         473,
         18
        ],
        [
         "Central African Republic",
         "Fearless Leader",
         473,
         19
        ],
        [
         "Central African Republic",
         "Fearless Leader",
         473,
         20
        ],
        [
         "Central African Republic",
         "Fearless Leader",
         473,
         21
        ],
        [
         "Central African Republic",
         "G&S JEWELLERS",
         28,
         22
        ],
        [
         "Central African Republic",
         "G&S JEWELLERS",
         28,
         23
        ],
        [
         "Central African Republic",
         "G&S JEWELLERS",
         28,
         24
        ],
        [
         "Central African Republic",
         "G&S JEWELLERS",
         28,
         25
        ],
        [
         "Chad",
         "Glued To My Crafts",
         226000,
         1
        ],
        [
         "Chad",
         "Glued To My Crafts",
         226000,
         2
        ],
        [
         "Chad",
         "Glued To My Crafts",
         226000,
         3
        ],
        [
         "Chad",
         "Glued To My Crafts",
         226000,
         4
        ],
        [
         "Chad",
         "Hip Homeschool Moms",
         31000,
         5
        ],
        [
         "Chad",
         "Hip Homeschool Moms",
         31000,
         6
        ],
        [
         "Chad",
         "Hip Homeschool Moms",
         31000,
         7
        ],
        [
         "Chad",
         "Hip Homeschool Moms",
         31000,
         8
        ],
        [
         "Chile",
         "Amber Strong - The Maker’s Map | DIY’s, Crafts & Home Decor",
         19000,
         1
        ],
        [
         "Chile",
         "Amber Strong - The Maker’s Map | DIY’s, Crafts & Home Decor",
         19000,
         2
        ],
        [
         "Chile",
         "Amber Strong - The Maker’s Map | DIY’s, Crafts & Home Decor",
         19000,
         3
        ],
        [
         "Chile",
         "Amber Strong - The Maker’s Map | DIY’s, Crafts & Home Decor",
         19000,
         4
        ],
        [
         "Chile",
         "Forever Lost In Travel - Travel and lifestyle blog",
         3000,
         5
        ],
        [
         "Chile",
         "Forever Lost In Travel - Travel and lifestyle blog",
         3000,
         6
        ],
        [
         "Chile",
         "Forever Lost In Travel - Travel and lifestyle blog",
         3000,
         7
        ],
        [
         "Chile",
         "Forever Lost In Travel - Travel and lifestyle blog",
         3000,
         8
        ],
        [
         "China",
         "Josie Lewis Art",
         195000,
         1
        ],
        [
         "China",
         "Josie Lewis Art",
         195000,
         2
        ],
        [
         "China",
         "Josie Lewis Art",
         195000,
         3
        ],
        [
         "China",
         "Josie Lewis Art",
         195000,
         4
        ],
        [
         "China",
         "Empowered Sustenance",
         127000,
         5
        ],
        [
         "China",
         "Empowered Sustenance",
         127000,
         6
        ],
        [
         "China",
         "Empowered Sustenance",
         127000,
         7
        ],
        [
         "China",
         "Empowered Sustenance",
         127000,
         8
        ],
        [
         "Christmas Island",
         "Instructables",
         3000000,
         1
        ],
        [
         "Christmas Island",
         "Instructables",
         3000000,
         2
        ],
        [
         "Christmas Island",
         "Instructables",
         3000000,
         3
        ],
        [
         "Christmas Island",
         "Instructables",
         3000000,
         4
        ],
        [
         "Christmas Island",
         "Instructables",
         3000000,
         5
        ],
        [
         "Christmas Island",
         "Instructables",
         3000000,
         6
        ],
        [
         "Christmas Island",
         "Instructables",
         3000000,
         7
        ],
        [
         "Christmas Island",
         "Instructables",
         3000000,
         8
        ],
        [
         "Christmas Island",
         "Instructables",
         3000000,
         9
        ],
        [
         "Christmas Island",
         "eHow",
         2000000,
         10
        ],
        [
         "Christmas Island",
         "eHow",
         2000000,
         11
        ],
        [
         "Christmas Island",
         "eHow",
         2000000,
         12
        ],
        [
         "Christmas Island",
         "eHow",
         2000000,
         13
        ],
        [
         "Cocos (Keeling) Islands",
         "Zero Debt Coach | Money Courses & Coaching (I Follow Back)",
         13000,
         1
        ],
        [
         "Cocos (Keeling) Islands",
         "Zero Debt Coach | Money Courses & Coaching (I Follow Back)",
         13000,
         2
        ],
        [
         "Cocos (Keeling) Islands",
         "Zero Debt Coach | Money Courses & Coaching (I Follow Back)",
         13000,
         3
        ],
        [
         "Cocos (Keeling) Islands",
         "Zero Debt Coach | Money Courses & Coaching (I Follow Back)",
         13000,
         4
        ],
        [
         "Cocos (Keeling) Islands",
         "The World Was Here First",
         5000,
         5
        ],
        [
         "Cocos (Keeling) Islands",
         "The World Was Here First",
         5000,
         6
        ],
        [
         "Cocos (Keeling) Islands",
         "The World Was Here First",
         5000,
         7
        ],
        [
         "Cocos (Keeling) Islands",
         "The World Was Here First",
         5000,
         8
        ],
        [
         "Cocos (Keeling) Islands",
         "Ray Uyemura",
         437,
         9
        ],
        [
         "Cocos (Keeling) Islands",
         "Rachelle DeBoue",
         19,
         10
        ],
        [
         "Cocos (Keeling) Islands",
         "Rachelle DeBoue",
         19,
         11
        ],
        [
         "Cocos (Keeling) Islands",
         "Rachelle DeBoue",
         19,
         12
        ],
        [
         "Cocos (Keeling) Islands",
         "Rachelle DeBoue",
         19,
         13
        ],
        [
         "Colombia",
         "Renata’s Boutique",
         27,
         1
        ],
        [
         "Colombia",
         "Renata’s Boutique",
         27,
         2
        ],
        [
         "Colombia",
         "Renata’s Boutique",
         27,
         3
        ],
        [
         "Colombia",
         "Renata’s Boutique",
         27,
         4
        ],
        [
         "Colombia",
         "Consuelo Aguirre",
         0,
         5
        ],
        [
         "Comoros",
         "Becky Mansfield - YourModernFamily ",
         196000,
         1
        ],
        [
         "Comoros",
         "Becky Mansfield - YourModernFamily ",
         196000,
         2
        ],
        [
         "Comoros",
         "Becky Mansfield - YourModernFamily ",
         196000,
         3
        ],
        [
         "Comoros",
         "Becky Mansfield - YourModernFamily ",
         196000,
         4
        ],
        [
         "Comoros",
         "Simple Lionheart Life",
         31000,
         5
        ],
        [
         "Comoros",
         "Simple Lionheart Life",
         31000,
         6
        ],
        [
         "Comoros",
         "Simple Lionheart Life",
         31000,
         7
        ],
        [
         "Comoros",
         "Simple Lionheart Life",
         31000,
         8
        ],
        [
         "Comoros",
         "FinanceAndMotherhood2021",
         60,
         9
        ],
        [
         "Comoros",
         "FinanceAndMotherhood2021",
         60,
         10
        ],
        [
         "Comoros",
         "FinanceAndMotherhood2021",
         60,
         11
        ],
        [
         "Comoros",
         "FinanceAndMotherhood2021",
         60,
         12
        ],
        [
         "Congo",
         "He and She Eat Clean",
         88000,
         1
        ],
        [
         "Congo",
         "He and She Eat Clean",
         88000,
         2
        ],
        [
         "Congo",
         "He and She Eat Clean",
         88000,
         3
        ],
        [
         "Congo",
         "He and She Eat Clean",
         88000,
         4
        ],
        [
         "Congo",
         "The Cards We Drew",
         64000,
         5
        ],
        [
         "Congo",
         "The Cards We Drew",
         64000,
         6
        ],
        [
         "Congo",
         "The Cards We Drew",
         64000,
         7
        ],
        [
         "Congo",
         "The Cards We Drew",
         64000,
         8
        ],
        [
         "Congo",
         "Shawn Petite",
         27000,
         9
        ],
        [
         "Congo",
         "Lindsay Ann Learning | High School English Activities ",
         6000,
         10
        ],
        [
         "Congo",
         "Lindsay Ann Learning | High School English Activities ",
         6000,
         11
        ],
        [
         "Congo",
         "Lindsay Ann Learning | High School English Activities ",
         6000,
         12
        ],
        [
         "Congo",
         "Lindsay Ann Learning | High School English Activities ",
         6000,
         13
        ],
        [
         "Congo",
         "Fueled By Wanderlust",
         2000,
         14
        ],
        [
         "Congo",
         "Fueled By Wanderlust",
         2000,
         15
        ],
        [
         "Congo",
         "Fueled By Wanderlust",
         2000,
         16
        ],
        [
         "Congo",
         "Fueled By Wanderlust",
         2000,
         17
        ],
        [
         "Cook Islands",
         "SeedTime (Money Tips)",
         77000,
         1
        ],
        [
         "Cook Islands",
         "SeedTime (Money Tips)",
         77000,
         2
        ],
        [
         "Cook Islands",
         "SeedTime (Money Tips)",
         77000,
         3
        ],
        [
         "Cook Islands",
         "SeedTime (Money Tips)",
         77000,
         4
        ],
        [
         "Cook Islands",
         "The Spring Break Family - Family Travel",
         1000,
         5
        ],
        [
         "Cook Islands",
         "The Spring Break Family - Family Travel",
         1000,
         6
        ],
        [
         "Cook Islands",
         "The Spring Break Family - Family Travel",
         1000,
         7
        ],
        [
         "Cook Islands",
         "The Spring Break Family - Family Travel",
         1000,
         8
        ],
        [
         "Costa Rica",
         "Liz Marie",
         309000,
         1
        ],
        [
         "Costa Rica",
         "Liz Marie",
         309000,
         2
        ],
        [
         "Costa Rica",
         "Liz Marie",
         309000,
         3
        ],
        [
         "Costa Rica",
         "Liz Marie",
         309000,
         4
        ],
        [
         "Costa Rica",
         "Momentary Ink",
         27000,
         5
        ],
        [
         "Costa Rica",
         "Momentary Ink",
         27000,
         6
        ],
        [
         "Costa Rica",
         "Momentary Ink",
         27000,
         7
        ],
        [
         "Costa Rica",
         "Momentary Ink",
         27000,
         8
        ],
        [
         "Costa Rica",
         "Motivation for Mom",
         19000,
         9
        ],
        [
         "Costa Rica",
         "Motivation for Mom",
         19000,
         10
        ],
        [
         "Costa Rica",
         "Motivation for Mom",
         19000,
         11
        ],
        [
         "Costa Rica",
         "Motivation for Mom",
         19000,
         12
        ],
        [
         "Cote d'Ivoire",
         "The Crafting Chicks",
         192000,
         1
        ],
        [
         "Cote d'Ivoire",
         "The Crafting Chicks",
         192000,
         2
        ],
        [
         "Cote d'Ivoire",
         "The Crafting Chicks",
         192000,
         3
        ],
        [
         "Cote d'Ivoire",
         "The Crafting Chicks",
         192000,
         4
        ],
        [
         "Cote d'Ivoire",
         "The Crafting Chicks",
         192000,
         5
        ],
        [
         "Cote d'Ivoire",
         "The Crafting Chicks",
         192000,
         6
        ],
        [
         "Cote d'Ivoire",
         "The Crafting Chicks",
         192000,
         7
        ],
        [
         "Cote d'Ivoire",
         "The Crafting Chicks",
         192000,
         8
        ],
        [
         "Cote d'Ivoire",
         "The Crafting Chicks",
         192000,
         9
        ],
        [
         "Cote d'Ivoire",
         "Revelist",
         75000,
         10
        ],
        [
         "Cote d'Ivoire",
         "Revelist",
         75000,
         11
        ],
        [
         "Cote d'Ivoire",
         "Revelist",
         75000,
         12
        ],
        [
         "Cote d'Ivoire",
         "Revelist",
         75000,
         13
        ],
        [
         "Cote d'Ivoire",
         "Math Giraffe",
         25000,
         14
        ],
        [
         "Cote d'Ivoire",
         "Journey Era | Fun Adventure",
         24000,
         15
        ],
        [
         "Cote d'Ivoire",
         "Journey Era | Fun Adventure",
         24000,
         16
        ],
        [
         "Cote d'Ivoire",
         "Journey Era | Fun Adventure",
         24000,
         17
        ],
        [
         "Cote d'Ivoire",
         "Journey Era | Fun Adventure",
         24000,
         18
        ],
        [
         "Cuba",
         "Listotic - Easy Ideas | Fun DIY Projects | Easy Recipes | Lists",
         307000,
         1
        ],
        [
         "Cuba",
         "Listotic - Easy Ideas | Fun DIY Projects | Easy Recipes | Lists",
         307000,
         2
        ],
        [
         "Cuba",
         "Listotic - Easy Ideas | Fun DIY Projects | Easy Recipes | Lists",
         307000,
         3
        ],
        [
         "Cuba",
         "Listotic - Easy Ideas | Fun DIY Projects | Easy Recipes | Lists",
         307000,
         4
        ],
        [
         "Cuba",
         "Decluttering Your Life",
         102000,
         5
        ],
        [
         "Cuba",
         "Decluttering Your Life",
         102000,
         6
        ],
        [
         "Cuba",
         "Decluttering Your Life",
         102000,
         7
        ],
        [
         "Cuba",
         "Decluttering Your Life",
         102000,
         8
        ],
        [
         "Cuba",
         "Jenny | Life + Style Blogger ",
         16000,
         9
        ],
        [
         "Cuba",
         "Jenny | Life + Style Blogger ",
         16000,
         10
        ],
        [
         "Cuba",
         "Jenny | Life + Style Blogger ",
         16000,
         11
        ],
        [
         "Cuba",
         "Jenny | Life + Style Blogger ",
         16000,
         12
        ],
        [
         "Czech Republic",
         "Todd | Financial Mentor",
         7000,
         1
        ],
        [
         "Czech Republic",
         "Todd | Financial Mentor",
         7000,
         2
        ],
        [
         "Czech Republic",
         "Todd | Financial Mentor",
         7000,
         3
        ],
        [
         "Czech Republic",
         "Todd | Financial Mentor",
         7000,
         4
        ],
        [
         "Denmark",
         "A Life Adjacent",
         36000,
         1
        ],
        [
         "Denmark",
         "A Life Adjacent",
         36000,
         2
        ],
        [
         "Denmark",
         "A Life Adjacent",
         36000,
         3
        ],
        [
         "Denmark",
         "A Life Adjacent",
         36000,
         4
        ],
        [
         "Denmark",
         "FINITIES",
         177,
         5
        ],
        [
         "Denmark",
         "FINITIES",
         177,
         6
        ],
        [
         "Denmark",
         "FINITIES",
         177,
         7
        ],
        [
         "Denmark",
         "FINITIES",
         177,
         8
        ],
        [
         "Djibouti",
         "Instrupix | Lilly Childers",
         275000,
         1
        ],
        [
         "Djibouti",
         "Instrupix | Lilly Childers",
         275000,
         2
        ],
        [
         "Djibouti",
         "Instrupix | Lilly Childers",
         275000,
         3
        ],
        [
         "Djibouti",
         "Instrupix | Lilly Childers",
         275000,
         4
        ],
        [
         "Djibouti",
         "Katepickle - picklebums - fun ideas for families",
         130000,
         5
        ],
        [
         "Djibouti",
         "Katepickle - picklebums - fun ideas for families",
         130000,
         6
        ],
        [
         "Djibouti",
         "Katepickle - picklebums - fun ideas for families",
         130000,
         7
        ],
        [
         "Djibouti",
         "Katepickle - picklebums - fun ideas for families",
         130000,
         8
        ],
        [
         "Dominica",
         "Monique - Living Life and Learning",
         67000,
         1
        ],
        [
         "Dominica",
         "Monique - Living Life and Learning",
         67000,
         2
        ],
        [
         "Dominica",
         "Monique - Living Life and Learning",
         67000,
         3
        ],
        [
         "Dominica",
         "Monique - Living Life and Learning",
         67000,
         4
        ],
        [
         "Dominica",
         "Happy Catering n Events",
         458,
         5
        ],
        [
         "Dominica",
         "Happy Catering n Events",
         458,
         6
        ],
        [
         "Dominica",
         "Happy Catering n Events",
         458,
         7
        ],
        [
         "Dominica",
         "Happy Catering n Events",
         458,
         8
        ],
        [
         "Dominican Republic",
         "Mrs. P's Specialties- Educational Resources",
         20000,
         1
        ],
        [
         "Dominican Republic",
         "Mrs. P's Specialties- Educational Resources",
         20000,
         2
        ],
        [
         "Dominican Republic",
         "Mrs. P's Specialties- Educational Resources",
         20000,
         3
        ],
        [
         "Dominican Republic",
         "Mrs. P's Specialties- Educational Resources",
         20000,
         4
        ],
        [
         "Dominican Republic",
         "Petite in Paris",
         3000,
         5
        ],
        [
         "Dominican Republic",
         "Petite in Paris",
         3000,
         6
        ],
        [
         "Dominican Republic",
         "Petite in Paris",
         3000,
         7
        ],
        [
         "Dominican Republic",
         "Petite in Paris",
         3000,
         8
        ],
        [
         "Dominican Republic",
         "Petite in Paris",
         3000,
         9
        ],
        [
         "Dominican Republic",
         "Petite in Paris",
         3000,
         10
        ],
        [
         "Dominican Republic",
         "Petite in Paris",
         3000,
         11
        ],
        [
         "Dominican Republic",
         "Petite in Paris",
         3000,
         12
        ],
        [
         "Dominican Republic",
         "Petite in Paris",
         3000,
         13
        ],
        [
         "Ecuador",
         "Midwest Jewelers & Estate Buyers",
         265,
         1
        ],
        [
         "Ecuador",
         "Midwest Jewelers & Estate Buyers",
         265,
         2
        ],
        [
         "Ecuador",
         "Midwest Jewelers & Estate Buyers",
         265,
         3
        ],
        [
         "Ecuador",
         "Midwest Jewelers & Estate Buyers",
         265,
         4
        ],
        [
         "Egypt",
         "Allure",
         346000,
         1
        ],
        [
         "Egypt",
         "Allure",
         346000,
         2
        ],
        [
         "Egypt",
         "Allure",
         346000,
         3
        ],
        [
         "Egypt",
         "Allure",
         346000,
         4
        ],
        [
         "Egypt",
         "Lists For All",
         11000,
         5
        ],
        [
         "Egypt",
         "Lists For All",
         11000,
         6
        ],
        [
         "Egypt",
         "Lists For All",
         11000,
         7
        ],
        [
         "Egypt",
         "Lists For All",
         11000,
         8
        ],
        [
         "Egypt",
         "South Lumina Style",
         9000,
         9
        ],
        [
         "Egypt",
         "South Lumina Style",
         9000,
         10
        ],
        [
         "Egypt",
         "South Lumina Style",
         9000,
         11
        ],
        [
         "Egypt",
         "South Lumina Style",
         9000,
         12
        ],
        [
         "Egypt",
         "South Lumina Style",
         9000,
         13
        ],
        [
         "Egypt",
         "South Lumina Style",
         9000,
         14
        ],
        [
         "Egypt",
         "South Lumina Style",
         9000,
         15
        ],
        [
         "Egypt",
         "South Lumina Style",
         9000,
         16
        ],
        [
         "Egypt",
         "South Lumina Style",
         9000,
         17
        ],
        [
         "Egypt",
         "QueenBee Design Studio",
         824,
         18
        ],
        [
         "Egypt",
         "QueenBee Design Studio",
         824,
         19
        ],
        [
         "Egypt",
         "QueenBee Design Studio",
         824,
         20
        ],
        [
         "Egypt",
         "QueenBee Design Studio",
         824,
         21
        ],
        [
         "Egypt",
         "Elizabeth Leigh",
         406,
         22
        ],
        [
         "Egypt",
         "Elizabeth Leigh",
         406,
         23
        ],
        [
         "Egypt",
         "Elizabeth Leigh",
         406,
         24
        ],
        [
         "Egypt",
         "Elizabeth Leigh",
         406,
         25
        ],
        [
         "Egypt",
         "Elizabeth Leigh",
         406,
         26
        ],
        [
         "Egypt",
         "Elizabeth Leigh",
         406,
         27
        ],
        [
         "Egypt",
         "Elizabeth Leigh",
         406,
         28
        ],
        [
         "Egypt",
         "Elizabeth Leigh",
         406,
         29
        ],
        [
         "Egypt",
         "Elizabeth Leigh",
         406,
         30
        ],
        [
         "Egypt",
         "Elizabeth Leigh",
         406,
         31
        ],
        [
         "Egypt",
         "Elizabeth Leigh",
         406,
         32
        ],
        [
         "Egypt",
         "Elizabeth Leigh",
         406,
         33
        ],
        [
         "Egypt",
         "Elizabeth Leigh",
         406,
         34
        ],
        [
         "Egypt",
         "Elizabeth Leigh",
         406,
         35
        ],
        [
         "Egypt",
         "Elizabeth Leigh",
         406,
         36
        ],
        [
         "Egypt",
         "Elizabeth Leigh",
         406,
         37
        ],
        [
         "Egypt",
         "Plex Oasis",
         25,
         38
        ],
        [
         "Egypt",
         "Plex Oasis",
         25,
         39
        ],
        [
         "Egypt",
         "Plex Oasis",
         25,
         40
        ],
        [
         "Egypt",
         "Plex Oasis",
         25,
         41
        ],
        [
         "El Salvador",
         "Power of Positivity",
         221000,
         1
        ],
        [
         "El Salvador",
         "Power of Positivity",
         221000,
         2
        ],
        [
         "El Salvador",
         "Power of Positivity",
         221000,
         3
        ],
        [
         "El Salvador",
         "Power of Positivity",
         221000,
         4
        ],
        [
         "El Salvador",
         "Chloe Crabtree | Celebrate & Decorate",
         42000,
         5
        ],
        [
         "El Salvador",
         "Chloe Crabtree | Celebrate & Decorate",
         42000,
         6
        ],
        [
         "El Salvador",
         "Chloe Crabtree | Celebrate & Decorate",
         42000,
         7
        ],
        [
         "El Salvador",
         "Chloe Crabtree | Celebrate & Decorate",
         42000,
         8
        ],
        [
         "El Salvador",
         "Frncsco Cmpbll",
         436,
         9
        ],
        [
         "El Salvador",
         "Frncsco Cmpbll",
         436,
         10
        ],
        [
         "El Salvador",
         "Frncsco Cmpbll",
         436,
         11
        ],
        [
         "El Salvador",
         "Frncsco Cmpbll",
         436,
         12
        ],
        [
         "Equatorial Guinea",
         "MarQuai Romari",
         31,
         1
        ],
        [
         "Equatorial Guinea",
         "MarQuai Romari",
         31,
         2
        ],
        [
         "Equatorial Guinea",
         "MarQuai Romari",
         31,
         3
        ],
        [
         "Equatorial Guinea",
         "MarQuai Romari",
         31,
         4
        ],
        [
         "Ethiopia",
         "Crafty Lumberjacks ",
         28000,
         1
        ],
        [
         "Ethiopia",
         "Crafty Lumberjacks ",
         28000,
         2
        ],
        [
         "Ethiopia",
         "Crafty Lumberjacks ",
         28000,
         3
        ],
        [
         "Ethiopia",
         "Crafty Lumberjacks ",
         28000,
         4
        ],
        [
         "Ethiopia",
         "Sarah Wahl | Crestfox",
         17000,
         5
        ],
        [
         "Ethiopia",
         "Sarah Wahl | Crestfox",
         17000,
         6
        ],
        [
         "Ethiopia",
         "Sarah Wahl | Crestfox",
         17000,
         7
        ],
        [
         "Ethiopia",
         "Sarah Wahl | Crestfox",
         17000,
         8
        ],
        [
         "Ethiopia",
         "LONGANCE",
         5000,
         9
        ],
        [
         "Ethiopia",
         "LONGANCE",
         5000,
         10
        ],
        [
         "Ethiopia",
         "LONGANCE",
         5000,
         11
        ],
        [
         "Ethiopia",
         "LONGANCE",
         5000,
         12
        ],
        [
         "Falkland Islands (Malvinas)",
         "Autism Adventures",
         21000,
         1
        ],
        [
         "Falkland Islands (Malvinas)",
         "Autism Adventures",
         21000,
         2
        ],
        [
         "Falkland Islands (Malvinas)",
         "Autism Adventures",
         21000,
         3
        ],
        [
         "Falkland Islands (Malvinas)",
         "Autism Adventures",
         21000,
         4
        ],
        [
         "Faroe Islands",
         "QC Event School",
         511,
         1
        ],
        [
         "Faroe Islands",
         "QC Event School",
         511,
         2
        ],
        [
         "Faroe Islands",
         "QC Event School",
         511,
         3
        ],
        [
         "Faroe Islands",
         "QC Event School",
         511,
         4
        ],
        [
         "Faroe Islands",
         "Finn Gratata",
         443,
         5
        ],
        [
         "Faroe Islands",
         "Finn Gratata",
         443,
         6
        ],
        [
         "Faroe Islands",
         "Finn Gratata",
         443,
         7
        ],
        [
         "Faroe Islands",
         "Finn Gratata",
         443,
         8
        ],
        [
         "Fiji",
         "Homeschool Giveaways and Freebies",
         99000,
         1
        ],
        [
         "Fiji",
         "Homeschool Giveaways and Freebies",
         99000,
         2
        ],
        [
         "Fiji",
         "Homeschool Giveaways and Freebies",
         99000,
         3
        ],
        [
         "Fiji",
         "Homeschool Giveaways and Freebies",
         99000,
         4
        ],
        [
         "Fiji",
         "Teach Create Motivate",
         41000,
         5
        ],
        [
         "Fiji",
         "Teach Create Motivate",
         41000,
         6
        ],
        [
         "Fiji",
         "Teach Create Motivate",
         41000,
         7
        ],
        [
         "Fiji",
         "Teach Create Motivate",
         41000,
         8
        ],
        [
         "Fiji",
         "Szikszai Szabolcs",
         2000,
         9
        ],
        [
         "Fiji",
         "Szikszai Szabolcs",
         2000,
         10
        ],
        [
         "Fiji",
         "Szikszai Szabolcs",
         2000,
         11
        ],
        [
         "Fiji",
         "Szikszai Szabolcs",
         2000,
         12
        ],
        [
         "Finland",
         "Melissa",
         4000,
         1
        ],
        [
         "Finland",
         "Melissa",
         4000,
         2
        ],
        [
         "Finland",
         "Melissa",
         4000,
         3
        ],
        [
         "Finland",
         "Melissa",
         4000,
         4
        ],
        [
         "Finland",
         "Mccready-romero",
         20,
         5
        ],
        [
         "Finland",
         "Mccready-romero",
         20,
         6
        ],
        [
         "Finland",
         "Mccready-romero",
         20,
         7
        ],
        [
         "Finland",
         "Mccready-romero",
         20,
         8
        ],
        [
         "France",
         "Hey Pretty Beauty Blog",
         7000,
         1
        ],
        [
         "France",
         "Hey Pretty Beauty Blog",
         7000,
         2
        ],
        [
         "France",
         "Hey Pretty Beauty Blog",
         7000,
         3
        ],
        [
         "France",
         "Hey Pretty Beauty Blog",
         7000,
         4
        ],
        [
         "French Guiana",
         "Sweet Red Poppy Free Sewing Patterns, Cut Files & Craft Tutorials",
         241000,
         1
        ],
        [
         "French Guiana",
         "Sweet Red Poppy Free Sewing Patterns, Cut Files & Craft Tutorials",
         241000,
         2
        ],
        [
         "French Guiana",
         "Sweet Red Poppy Free Sewing Patterns, Cut Files & Craft Tutorials",
         241000,
         3
        ],
        [
         "French Guiana",
         "Sweet Red Poppy Free Sewing Patterns, Cut Files & Craft Tutorials",
         241000,
         4
        ],
        [
         "French Guiana",
         "Commitment Connection",
         51000,
         5
        ],
        [
         "French Guiana",
         "Commitment Connection",
         51000,
         6
        ],
        [
         "French Guiana",
         "Commitment Connection",
         51000,
         7
        ],
        [
         "French Guiana",
         "Commitment Connection",
         51000,
         8
        ],
        [
         "French Guiana",
         "Commitment Connection",
         51000,
         9
        ],
        [
         "French Guiana",
         "Commitment Connection",
         51000,
         10
        ],
        [
         "French Guiana",
         "Commitment Connection",
         51000,
         11
        ],
        [
         "French Guiana",
         "Commitment Connection",
         51000,
         12
        ],
        [
         "French Guiana",
         "Commitment Connection",
         51000,
         13
        ],
        [
         "French Guiana",
         "Commitment Connection",
         51000,
         14
        ],
        [
         "French Guiana",
         "Commitment Connection",
         51000,
         15
        ],
        [
         "French Guiana",
         "Commitment Connection",
         51000,
         16
        ],
        [
         "French Guiana",
         "Commitment Connection",
         51000,
         17
        ],
        [
         "French Guiana",
         "Commitment Connection",
         51000,
         18
        ],
        [
         "French Guiana",
         "Commitment Connection",
         51000,
         19
        ],
        [
         "French Guiana",
         "Commitment Connection",
         51000,
         20
        ],
        [
         "French Polynesia",
         "The Printable Princess",
         52000,
         1
        ],
        [
         "French Polynesia",
         "The Printable Princess",
         52000,
         2
        ],
        [
         "French Polynesia",
         "The Printable Princess",
         52000,
         3
        ],
        [
         "French Polynesia",
         "The Printable Princess",
         52000,
         4
        ],
        [
         "French Southern Territories",
         "Mary at Home is Where the Boat Is",
         59000,
         1
        ],
        [
         "French Southern Territories",
         "Mary at Home is Where the Boat Is",
         59000,
         2
        ],
        [
         "French Southern Territories",
         "Mary at Home is Where the Boat Is",
         59000,
         3
        ],
        [
         "French Southern Territories",
         "Mary at Home is Where the Boat Is",
         59000,
         4
        ],
        [
         "Gambia",
         "Josi Pellicano",
         6000,
         1
        ],
        [
         "Gambia",
         "Josi Pellicano",
         6000,
         2
        ],
        [
         "Gambia",
         "Josi Pellicano",
         6000,
         3
        ],
        [
         "Gambia",
         "Josi Pellicano",
         6000,
         4
        ],
        [
         "Georgia",
         "Science of Curiosity",
         9000,
         1
        ],
        [
         "Georgia",
         "Science of Curiosity",
         9000,
         2
        ],
        [
         "Georgia",
         "Science of Curiosity",
         9000,
         3
        ],
        [
         "Georgia",
         "Science of Curiosity",
         9000,
         4
        ],
        [
         "Germany",
         "Middle Class Dad",
         10000,
         1
        ],
        [
         "Germany",
         "Middle Class Dad",
         10000,
         2
        ],
        [
         "Germany",
         "Middle Class Dad",
         10000,
         3
        ],
        [
         "Germany",
         "Middle Class Dad",
         10000,
         4
        ],
        [
         "Germany",
         "QC Career School",
         5000,
         5
        ],
        [
         "Germany",
         "QC Career School",
         5000,
         6
        ],
        [
         "Germany",
         "QC Career School",
         5000,
         7
        ],
        [
         "Germany",
         "QC Career School",
         5000,
         8
        ],
        [
         "Germany",
         "QC Career School",
         5000,
         9
        ],
        [
         "Germany",
         "QC Career School",
         5000,
         10
        ],
        [
         "Germany",
         "QC Career School",
         5000,
         11
        ],
        [
         "Germany",
         "QC Career School",
         5000,
         12
        ],
        [
         "Germany",
         "QC Career School",
         5000,
         13
        ],
        [
         "Gibraltar",
         "TheSuperBOO!",
         89000,
         1
        ],
        [
         "Gibraltar",
         "CreatorsAlley",
         10000,
         2
        ],
        [
         "Gibraltar",
         "CreatorsAlley",
         10000,
         3
        ],
        [
         "Gibraltar",
         "CreatorsAlley",
         10000,
         4
        ],
        [
         "Gibraltar",
         "CreatorsAlley",
         10000,
         5
        ],
        [
         "Greece",
         "Terry Bain",
         578,
         1
        ],
        [
         "Greece",
         "Terry Bain",
         578,
         2
        ],
        [
         "Greece",
         "Terry Bain",
         578,
         3
        ],
        [
         "Greece",
         "Terry Bain",
         578,
         4
        ],
        [
         "Greenland",
         "Marcie Quinn",
         5,
         1
        ],
        [
         "Greenland",
         "Marcie Quinn",
         5,
         2
        ],
        [
         "Greenland",
         "Marcie Quinn",
         5,
         3
        ],
        [
         "Greenland",
         "Marcie Quinn",
         5,
         4
        ],
        [
         "Grenada",
         "LOCARI",
         256000,
         1
        ],
        [
         "Grenada",
         "LOCARI",
         256000,
         2
        ],
        [
         "Grenada",
         "LOCARI",
         256000,
         3
        ],
        [
         "Grenada",
         "LOCARI",
         256000,
         4
        ],
        [
         "Guadeloupe",
         "Jess Abbott | The Sewing Rabbit",
         123000,
         1
        ],
        [
         "Guadeloupe",
         "Jess Abbott | The Sewing Rabbit",
         123000,
         2
        ],
        [
         "Guadeloupe",
         "Jess Abbott | The Sewing Rabbit",
         123000,
         3
        ],
        [
         "Guadeloupe",
         "Jess Abbott | The Sewing Rabbit",
         123000,
         4
        ],
        [
         "Guadeloupe",
         "Mommyhooding",
         13000,
         5
        ],
        [
         "Guadeloupe",
         "Mommyhooding",
         13000,
         6
        ],
        [
         "Guadeloupe",
         "Mommyhooding",
         13000,
         7
        ],
        [
         "Guadeloupe",
         "Mommyhooding",
         13000,
         8
        ],
        [
         "Guatemala",
         "GrowingSlower",
         30000,
         1
        ],
        [
         "Guatemala",
         "GrowingSlower",
         30000,
         2
        ],
        [
         "Guatemala",
         "GrowingSlower",
         30000,
         3
        ],
        [
         "Guatemala",
         "GrowingSlower",
         30000,
         4
        ],
        [
         "Guernsey",
         "Quentin Weed",
         39,
         1
        ],
        [
         "Guernsey",
         "Quentin Weed",
         39,
         2
        ],
        [
         "Guernsey",
         "Quentin Weed",
         39,
         3
        ],
        [
         "Guernsey",
         "Quentin Weed",
         39,
         4
        ],
        [
         "Guinea",
         "Woodchuck's Fine Furniture and Decor",
         320,
         1
        ],
        [
         "Guinea",
         "Woodchuck's Fine Furniture and Decor",
         320,
         2
        ],
        [
         "Guinea",
         "Woodchuck's Fine Furniture and Decor",
         320,
         3
        ],
        [
         "Guinea",
         "Woodchuck's Fine Furniture and Decor",
         320,
         4
        ],
        [
         "Guinea-Bissau",
         "The Inspiration Edit - Best Instant Pot Recipes And Kids Crafts",
         56000,
         1
        ],
        [
         "Guinea-Bissau",
         "The Inspiration Edit - Best Instant Pot Recipes And Kids Crafts",
         56000,
         2
        ],
        [
         "Guinea-Bissau",
         "The Inspiration Edit - Best Instant Pot Recipes And Kids Crafts",
         56000,
         3
        ],
        [
         "Guinea-Bissau",
         "The Inspiration Edit - Best Instant Pot Recipes And Kids Crafts",
         56000,
         4
        ],
        [
         "Guinea-Bissau",
         "IngridZenMoments",
         4000,
         5
        ],
        [
         "Guinea-Bissau",
         "IngridZenMoments",
         4000,
         6
        ],
        [
         "Guinea-Bissau",
         "IngridZenMoments",
         4000,
         7
        ],
        [
         "Guinea-Bissau",
         "IngridZenMoments",
         4000,
         8
        ],
        [
         "Guinea-Bissau",
         "Livitrevisani",
         0,
         9
        ],
        [
         "Guinea-Bissau",
         "Livitrevisani",
         0,
         10
        ],
        [
         "Guinea-Bissau",
         "Livitrevisani",
         0,
         11
        ],
        [
         "Guinea-Bissau",
         "Livitrevisani",
         0,
         12
        ],
        [
         "Guinea-Bissau",
         "Livitrevisani",
         0,
         13
        ],
        [
         "Guinea-Bissau",
         "Livitrevisani",
         0,
         14
        ],
        [
         "Guinea-Bissau",
         "Livitrevisani",
         0,
         15
        ],
        [
         "Guinea-Bissau",
         "Livitrevisani",
         0,
         16
        ],
        [
         "Guinea-Bissau",
         "Livitrevisani",
         0,
         17
        ],
        [
         "Guyana",
         "J ♥ Millennial Boss",
         29000,
         1
        ],
        [
         "Guyana",
         "J ♥ Millennial Boss",
         29000,
         2
        ],
        [
         "Guyana",
         "J ♥ Millennial Boss",
         29000,
         3
        ],
        [
         "Guyana",
         "J ♥ Millennial Boss",
         29000,
         4
        ],
        [
         "Guyana",
         "Sarah Martin",
         394,
         5
        ],
        [
         "Guyana",
         "Sarah Martin",
         394,
         6
        ],
        [
         "Guyana",
         "Sarah Martin",
         394,
         7
        ],
        [
         "Guyana",
         "Sarah Martin",
         394,
         8
        ],
        [
         "Haiti",
         "jane at home | decor and design",
         79000,
         1
        ],
        [
         "Haiti",
         "jane at home | decor and design",
         79000,
         2
        ],
        [
         "Haiti",
         "jane at home | decor and design",
         79000,
         3
        ],
        [
         "Haiti",
         "jane at home | decor and design",
         79000,
         4
        ],
        [
         "Heard Island and McDonald Islands",
         "Car and Driver",
         50000,
         1
        ],
        [
         "Heard Island and McDonald Islands",
         "Car and Driver",
         50000,
         2
        ],
        [
         "Heard Island and McDonald Islands",
         "Car and Driver",
         50000,
         3
        ],
        [
         "Heard Island and McDonald Islands",
         "Car and Driver",
         50000,
         4
        ],
        [
         "Hong Kong",
         "Product Compass",
         29000,
         1
        ],
        [
         "Hong Kong",
         "Product Compass",
         29000,
         2
        ],
        [
         "Hong Kong",
         "Product Compass",
         29000,
         3
        ],
        [
         "Hong Kong",
         "Product Compass",
         29000,
         4
        ],
        [
         "Hong Kong",
         "Intentionally Designed",
         13000,
         5
        ],
        [
         "Hong Kong",
         "Intentionally Designed",
         13000,
         6
        ],
        [
         "Hong Kong",
         "Intentionally Designed",
         13000,
         7
        ],
        [
         "Hong Kong",
         "Intentionally Designed",
         13000,
         8
        ],
        [
         "Hungary",
         "BalsaCircle",
         2000,
         1
        ],
        [
         "Hungary",
         "BalsaCircle",
         2000,
         2
        ],
        [
         "Hungary",
         "BalsaCircle",
         2000,
         3
        ],
        [
         "Hungary",
         "BalsaCircle",
         2000,
         4
        ],
        [
         "India",
         "Travel Mad Mum",
         7000,
         1
        ],
        [
         "India",
         "Travel Mad Mum",
         7000,
         2
        ],
        [
         "India",
         "Travel Mad Mum",
         7000,
         3
        ],
        [
         "India",
         "Travel Mad Mum",
         7000,
         4
        ],
        [
         "India",
         "Travel Mad Mum",
         7000,
         5
        ],
        [
         "India",
         "Travel Mad Mum",
         7000,
         6
        ],
        [
         "India",
         "Travel Mad Mum",
         7000,
         7
        ],
        [
         "India",
         "Travel Mad Mum",
         7000,
         8
        ],
        [
         "India",
         "Travel Mad Mum",
         7000,
         9
        ],
        [
         "India",
         "Travel Mad Mum",
         7000,
         10
        ],
        [
         "India",
         "Travel Mad Mum",
         7000,
         11
        ],
        [
         "India",
         "Travel Mad Mum",
         7000,
         12
        ],
        [
         "India",
         "Travel Mad Mum",
         7000,
         13
        ],
        [
         "India",
         "Travel Mad Mum",
         7000,
         14
        ],
        [
         "India",
         "Travel Mad Mum",
         7000,
         15
        ],
        [
         "India",
         "Travel Mad Mum",
         7000,
         16
        ],
        [
         "India",
         "Travel Mad Mum",
         7000,
         17
        ],
        [
         "India",
         "Travel Mad Mum",
         7000,
         18
        ],
        [
         "India",
         "Travel Mad Mum",
         7000,
         19
        ],
        [
         "India",
         "Travel Mad Mum",
         7000,
         20
        ],
        [
         "India",
         "Travel Mad Mum",
         7000,
         21
        ],
        [
         "India",
         "Travel Mad Mum",
         7000,
         22
        ],
        [
         "India",
         "Travel Mad Mum",
         7000,
         23
        ],
        [
         "India",
         "Travel Mad Mum",
         7000,
         24
        ],
        [
         "India",
         "Travel Mad Mum",
         7000,
         25
        ],
        [
         "India",
         "Bella Botanicals - Naturally Beautiful Skincare with CBD",
         1000,
         26
        ],
        [
         "India",
         "Bella Botanicals - Naturally Beautiful Skincare with CBD",
         1000,
         27
        ],
        [
         "India",
         "Bella Botanicals - Naturally Beautiful Skincare with CBD",
         1000,
         28
        ],
        [
         "India",
         "Bella Botanicals - Naturally Beautiful Skincare with CBD",
         1000,
         29
        ],
        [
         "Indonesia",
         "Latoya | Life and a Budget",
         24000,
         1
        ],
        [
         "Indonesia",
         "Latoya | Life and a Budget",
         24000,
         2
        ],
        [
         "Indonesia",
         "Latoya | Life and a Budget",
         24000,
         3
        ],
        [
         "Indonesia",
         "Latoya | Life and a Budget",
         24000,
         4
        ],
        [
         "Indonesia",
         "Latoya | Life and a Budget",
         24000,
         5
        ],
        [
         "Indonesia",
         "Latoya | Life and a Budget",
         24000,
         6
        ],
        [
         "Indonesia",
         "Latoya | Life and a Budget",
         24000,
         7
        ],
        [
         "Indonesia",
         "Latoya | Life and a Budget",
         24000,
         8
        ],
        [
         "Indonesia",
         "Latoya | Life and a Budget",
         24000,
         9
        ],
        [
         "Indonesia",
         "Latoya | Life and a Budget",
         24000,
         10
        ],
        [
         "Indonesia",
         "Latoya | Life and a Budget",
         24000,
         11
        ],
        [
         "Indonesia",
         "Latoya | Life and a Budget",
         24000,
         12
        ],
        [
         "Indonesia",
         "Latoya | Life and a Budget",
         24000,
         13
        ],
        [
         "Indonesia",
         "Latoya | Life and a Budget",
         24000,
         14
        ],
        [
         "Indonesia",
         "Latoya | Life and a Budget",
         24000,
         15
        ],
        [
         "Indonesia",
         "Latoya | Life and a Budget",
         24000,
         16
        ],
        [
         "Iran",
         "Real Ways to Earn | Work From Home + Home Business + Extra Cash",
         151000,
         1
        ],
        [
         "Iran",
         "Real Ways to Earn | Work From Home + Home Business + Extra Cash",
         151000,
         2
        ],
        [
         "Iran",
         "Real Ways to Earn | Work From Home + Home Business + Extra Cash",
         151000,
         3
        ],
        [
         "Iran",
         "Real Ways to Earn | Work From Home + Home Business + Extra Cash",
         151000,
         4
        ],
        [
         "Iran",
         "Mandy Yancer",
         150,
         5
        ],
        [
         "Iran",
         "Mandy Yancer",
         150,
         6
        ],
        [
         "Iran",
         "Mandy Yancer",
         150,
         7
        ],
        [
         "Iran",
         "Mandy Yancer",
         150,
         8
        ],
        [
         "Iraq",
         "LeStyleParfait Fashion Clothing, Shoes, Bags",
         40000,
         1
        ],
        [
         "Iraq",
         "LeStyleParfait Fashion Clothing, Shoes, Bags",
         40000,
         2
        ],
        [
         "Iraq",
         "LeStyleParfait Fashion Clothing, Shoes, Bags",
         40000,
         3
        ],
        [
         "Iraq",
         "LeStyleParfait Fashion Clothing, Shoes, Bags",
         40000,
         4
        ],
        [
         "Isle of Man",
         "Abbotts At Home",
         52000,
         1
        ],
        [
         "Isle of Man",
         "Abbotts At Home",
         52000,
         2
        ],
        [
         "Isle of Man",
         "Abbotts At Home",
         52000,
         3
        ],
        [
         "Isle of Man",
         "Abbotts At Home",
         52000,
         4
        ],
        [
         "Isle of Man",
         "Abbotts At Home",
         52000,
         5
        ],
        [
         "Isle of Man",
         "Abbotts At Home",
         52000,
         6
        ],
        [
         "Isle of Man",
         "Abbotts At Home",
         52000,
         7
        ],
        [
         "Isle of Man",
         "Abbotts At Home",
         52000,
         8
        ],
        [
         "Isle of Man",
         "Abbotts At Home",
         52000,
         9
        ],
        [
         "Isle of Man",
         "Jasminxg",
         29000,
         10
        ],
        [
         "Isle of Man",
         "Jasminxg",
         29000,
         11
        ],
        [
         "Isle of Man",
         "Jasminxg",
         29000,
         12
        ],
        [
         "Isle of Man",
         "Jasminxg",
         29000,
         13
        ],
        [
         "Isle of Man",
         "London x London -  Cool Things To Do + London Travel",
         376,
         14
        ],
        [
         "Isle of Man",
         "London x London -  Cool Things To Do + London Travel",
         376,
         15
        ],
        [
         "Isle of Man",
         "London x London -  Cool Things To Do + London Travel",
         376,
         16
        ],
        [
         "Isle of Man",
         "London x London -  Cool Things To Do + London Travel",
         376,
         17
        ],
        [
         "Isle of Man",
         "Annamarie Hilton",
         313,
         18
        ],
        [
         "Isle of Man",
         "Annamarie Hilton",
         313,
         19
        ],
        [
         "Isle of Man",
         "Annamarie Hilton",
         313,
         20
        ],
        [
         "Isle of Man",
         "Annamarie Hilton",
         313,
         21
        ],
        [
         "Isle of Man",
         "Annamarie Hilton",
         313,
         22
        ],
        [
         "Isle of Man",
         "Annamarie Hilton",
         313,
         23
        ],
        [
         "Isle of Man",
         "Annamarie Hilton",
         313,
         24
        ],
        [
         "Isle of Man",
         "Annamarie Hilton",
         313,
         25
        ],
        [
         "Isle of Man",
         "Annamarie Hilton",
         313,
         26
        ],
        [
         "Israel",
         "LISA MASLYK / VOICE OVER TALENT /ACTOR",
         3000,
         1
        ],
        [
         "Israel",
         "LISA MASLYK / VOICE OVER TALENT /ACTOR",
         3000,
         2
        ],
        [
         "Israel",
         "LISA MASLYK / VOICE OVER TALENT /ACTOR",
         3000,
         3
        ],
        [
         "Israel",
         "LISA MASLYK / VOICE OVER TALENT /ACTOR",
         3000,
         4
        ],
        [
         "Jamaica",
         "hobbyDB",
         8000,
         1
        ],
        [
         "Japan",
         "Eyes On Walls",
         17000,
         1
        ],
        [
         "Japan",
         "Eyes On Walls",
         17000,
         2
        ],
        [
         "Japan",
         "Eyes On Walls",
         17000,
         3
        ],
        [
         "Japan",
         "Eyes On Walls",
         17000,
         4
        ],
        [
         "Japan",
         "Travels and Whims ✈️ | Travel, Fashion, Cruise, Food, Lifestyle",
         15000,
         5
        ],
        [
         "Japan",
         "Travels and Whims ✈️ | Travel, Fashion, Cruise, Food, Lifestyle",
         15000,
         6
        ],
        [
         "Japan",
         "Travels and Whims ✈️ | Travel, Fashion, Cruise, Food, Lifestyle",
         15000,
         7
        ],
        [
         "Japan",
         "Travels and Whims ✈️ | Travel, Fashion, Cruise, Food, Lifestyle",
         15000,
         8
        ],
        [
         "Jordan",
         "Michelozzo Custom Dress Shirts",
         17000,
         1
        ],
        [
         "Jordan",
         "Michelozzo Custom Dress Shirts",
         17000,
         2
        ],
        [
         "Jordan",
         "Michelozzo Custom Dress Shirts",
         17000,
         3
        ],
        [
         "Jordan",
         "Michelozzo Custom Dress Shirts",
         17000,
         4
        ],
        [
         "Kenya",
         "FOURLINE DESIGN | Home Decor & Accessories",
         26000,
         1
        ],
        [
         "Kenya",
         "FOURLINE DESIGN | Home Decor & Accessories",
         26000,
         2
        ],
        [
         "Kenya",
         "FOURLINE DESIGN | Home Decor & Accessories",
         26000,
         3
        ],
        [
         "Kenya",
         "FOURLINE DESIGN | Home Decor & Accessories",
         26000,
         4
        ],
        [
         "Kenya",
         "Laura- Inspire My Play | Play & Learning For Little Kids",
         4000,
         5
        ],
        [
         "Kenya",
         "Laura- Inspire My Play | Play & Learning For Little Kids",
         4000,
         6
        ],
        [
         "Kenya",
         "Laura- Inspire My Play | Play & Learning For Little Kids",
         4000,
         7
        ],
        [
         "Kenya",
         "Laura- Inspire My Play | Play & Learning For Little Kids",
         4000,
         8
        ],
        [
         "Kiribati",
         "Coolnvintage",
         6000,
         1
        ],
        [
         "Kiribati",
         "Coolnvintage",
         6000,
         2
        ],
        [
         "Kiribati",
         "Coolnvintage",
         6000,
         3
        ],
        [
         "Kiribati",
         "Coolnvintage",
         6000,
         4
        ],
        [
         "Kiribati",
         "Lash Lift Store",
         115,
         5
        ],
        [
         "Kiribati",
         "Lash Lift Store",
         115,
         6
        ],
        [
         "Kiribati",
         "Lash Lift Store",
         115,
         7
        ],
        [
         "Kiribati",
         "Lash Lift Store",
         115,
         8
        ],
        [
         "Korea",
         "Latest Hairstyles",
         627000,
         1
        ],
        [
         "Korea",
         "Latest Hairstyles",
         627000,
         2
        ],
        [
         "Korea",
         "Latest Hairstyles",
         627000,
         3
        ],
        [
         "Korea",
         "Latest Hairstyles",
         627000,
         4
        ],
        [
         "Korea",
         "Seasons Of My Home",
         35000,
         5
        ],
        [
         "Korea",
         "Seasons Of My Home",
         35000,
         6
        ],
        [
         "Korea",
         "Seasons Of My Home",
         35000,
         7
        ],
        [
         "Korea",
         "Seasons Of My Home",
         35000,
         8
        ],
        [
         "Kuwait",
         "Green Wedding Shoes",
         2000000,
         1
        ],
        [
         "Kuwait",
         "Green Wedding Shoes",
         2000000,
         2
        ],
        [
         "Kuwait",
         "Green Wedding Shoes",
         2000000,
         3
        ],
        [
         "Kuwait",
         "Green Wedding Shoes",
         2000000,
         4
        ],
        [
         "Kuwait",
         "Green Wedding Shoes",
         2000000,
         5
        ],
        [
         "Kuwait",
         "Green Wedding Shoes",
         2000000,
         6
        ],
        [
         "Kuwait",
         "Green Wedding Shoes",
         2000000,
         7
        ],
        [
         "Kuwait",
         "Green Wedding Shoes",
         2000000,
         8
        ],
        [
         "Kuwait",
         "JDaniel4's Mom",
         63000,
         9
        ],
        [
         "Kuwait",
         "JDaniel4's Mom",
         63000,
         10
        ],
        [
         "Kuwait",
         "JDaniel4's Mom",
         63000,
         11
        ],
        [
         "Kuwait",
         "JDaniel4's Mom",
         63000,
         12
        ],
        [
         "Kyrgyz Republic",
         "Freepik",
         2000000,
         1
        ],
        [
         "Kyrgyz Republic",
         "Freepik",
         2000000,
         2
        ],
        [
         "Kyrgyz Republic",
         "Freepik",
         2000000,
         3
        ],
        [
         "Kyrgyz Republic",
         "Freepik",
         2000000,
         4
        ],
        [
         "Kyrgyz Republic",
         "ADDitude Magazine",
         87000,
         5
        ],
        [
         "Kyrgyz Republic",
         "ADDitude Magazine",
         87000,
         6
        ],
        [
         "Kyrgyz Republic",
         "ADDitude Magazine",
         87000,
         7
        ],
        [
         "Kyrgyz Republic",
         "ADDitude Magazine",
         87000,
         8
        ],
        [
         "Kyrgyz Republic",
         "Chan Tommy",
         778,
         9
        ],
        [
         "Kyrgyz Republic",
         "Chan Tommy",
         778,
         10
        ],
        [
         "Kyrgyz Republic",
         "Chan Tommy",
         778,
         11
        ],
        [
         "Kyrgyz Republic",
         "Chan Tommy",
         778,
         12
        ],
        [
         "Latvia",
         "Royal Fashionist",
         188000,
         1
        ],
        [
         "Latvia",
         "Royal Fashionist",
         188000,
         2
        ],
        [
         "Latvia",
         "Royal Fashionist",
         188000,
         3
        ],
        [
         "Latvia",
         "Royal Fashionist",
         188000,
         4
        ],
        [
         "Latvia",
         "Mini Adventures",
         4000,
         5
        ],
        [
         "Latvia",
         "Mini Adventures",
         4000,
         6
        ],
        [
         "Latvia",
         "Mini Adventures",
         4000,
         7
        ],
        [
         "Latvia",
         "Mini Adventures",
         4000,
         8
        ],
        [
         "Latvia",
         "🌝Dawn S. Burke🌞",
         2000,
         9
        ],
        [
         "Latvia",
         "🌝Dawn S. Burke🌞",
         2000,
         10
        ],
        [
         "Latvia",
         "🌝Dawn S. Burke🌞",
         2000,
         11
        ],
        [
         "Latvia",
         "🌝Dawn S. Burke🌞",
         2000,
         12
        ],
        [
         "Lebanon",
         "Your Positive Oasis | Motivation| Inspiration| Wellness",
         163000,
         1
        ],
        [
         "Lebanon",
         "Your Positive Oasis | Motivation| Inspiration| Wellness",
         163000,
         2
        ],
        [
         "Lebanon",
         "Your Positive Oasis | Motivation| Inspiration| Wellness",
         163000,
         3
        ],
        [
         "Lebanon",
         "Your Positive Oasis | Motivation| Inspiration| Wellness",
         163000,
         4
        ],
        [
         "Lesotho",
         "The Guardian",
         908000,
         1
        ],
        [
         "Lesotho",
         "The Guardian",
         908000,
         2
        ],
        [
         "Lesotho",
         "The Guardian",
         908000,
         3
        ],
        [
         "Lesotho",
         "The Guardian",
         908000,
         4
        ],
        [
         "Lesotho",
         "Mary Bentz Gilkerson: Artist+Teacher",
         34000,
         5
        ],
        [
         "Lesotho",
         "Mary Bentz Gilkerson: Artist+Teacher",
         34000,
         6
        ],
        [
         "Lesotho",
         "Mary Bentz Gilkerson: Artist+Teacher",
         34000,
         7
        ],
        [
         "Lesotho",
         "Mary Bentz Gilkerson: Artist+Teacher",
         34000,
         8
        ],
        [
         "Lesotho",
         "Mary Bentz Gilkerson: Artist+Teacher",
         34000,
         9
        ],
        [
         "Lesotho",
         "Mary Bentz Gilkerson: Artist+Teacher",
         34000,
         10
        ],
        [
         "Lesotho",
         "Mary Bentz Gilkerson: Artist+Teacher",
         34000,
         11
        ],
        [
         "Lesotho",
         "Mary Bentz Gilkerson: Artist+Teacher",
         34000,
         12
        ],
        [
         "Lesotho",
         "mao vicheth",
         2,
         13
        ],
        [
         "Lesotho",
         "mao vicheth",
         2,
         14
        ],
        [
         "Lesotho",
         "mao vicheth",
         2,
         15
        ],
        [
         "Lesotho",
         "mao vicheth",
         2,
         16
        ],
        [
         "Liechtenstein",
         "Sophie's Way",
         10000,
         1
        ],
        [
         "Liechtenstein",
         "Sophie's Way",
         10000,
         2
        ],
        [
         "Liechtenstein",
         "Sophie's Way",
         10000,
         3
        ],
        [
         "Liechtenstein",
         "Sophie's Way",
         10000,
         4
        ],
        [
         "Liechtenstein",
         "SportsMarket",
         881,
         5
        ],
        [
         "Liechtenstein",
         "SportsMarket",
         881,
         6
        ],
        [
         "Liechtenstein",
         "SportsMarket",
         881,
         7
        ],
        [
         "Liechtenstein",
         "SportsMarket",
         881,
         8
        ],
        [
         "Lithuania",
         "Kyra",
         34,
         1
        ],
        [
         "Lithuania",
         "Kyra",
         34,
         2
        ],
        [
         "Lithuania",
         "Kyra",
         34,
         3
        ],
        [
         "Lithuania",
         "Kyra",
         34,
         4
        ],
        [
         "Lithuania",
         "Kiara",
         0,
         5
        ],
        [
         "Lithuania",
         "Kiara",
         0,
         6
        ],
        [
         "Lithuania",
         "Kiara",
         0,
         7
        ],
        [
         "Lithuania",
         "Kiara",
         0,
         8
        ],
        [
         "Macao",
         "Cassie May - Little Red Window Crafts, DIY, crafts, tutorials and knitting patterns! Cassie May - Little Red Window Crafts, DIY, crafts, tutorials and knitting patterns! Edit settings Cassie May - Little Red Window Crafts, DIY, crafts, tutorials and knitting patterns!",
         66000,
         1
        ],
        [
         "Macao",
         "Cassie May - Little Red Window Crafts, DIY, crafts, tutorials and knitting patterns! Cassie May - Little Red Window Crafts, DIY, crafts, tutorials and knitting patterns! Edit settings Cassie May - Little Red Window Crafts, DIY, crafts, tutorials and knitting patterns!",
         66000,
         2
        ],
        [
         "Macao",
         "Cassie May - Little Red Window Crafts, DIY, crafts, tutorials and knitting patterns! Cassie May - Little Red Window Crafts, DIY, crafts, tutorials and knitting patterns! Edit settings Cassie May - Little Red Window Crafts, DIY, crafts, tutorials and knitting patterns!",
         66000,
         3
        ],
        [
         "Macao",
         "Cassie May - Little Red Window Crafts, DIY, crafts, tutorials and knitting patterns! Cassie May - Little Red Window Crafts, DIY, crafts, tutorials and knitting patterns! Edit settings Cassie May - Little Red Window Crafts, DIY, crafts, tutorials and knitting patterns!",
         66000,
         4
        ],
        [
         "Macao",
         "Intellectual",
         546,
         5
        ],
        [
         "Macao",
         "Intellectual",
         546,
         6
        ],
        [
         "Macao",
         "Intellectual",
         546,
         7
        ],
        [
         "Macao",
         "Intellectual",
         546,
         8
        ],
        [
         "Madagascar",
         "MomAdvice",
         112000,
         1
        ],
        [
         "Madagascar",
         "Mix and Match Mama",
         103000,
         2
        ],
        [
         "Madagascar",
         "Mix and Match Mama",
         103000,
         3
        ],
        [
         "Madagascar",
         "Mix and Match Mama",
         103000,
         4
        ],
        [
         "Madagascar",
         "Mix and Match Mama",
         103000,
         5
        ],
        [
         "Madagascar",
         "Nina Hendrick Home",
         44000,
         6
        ],
        [
         "Madagascar",
         "Nina Hendrick Home",
         44000,
         7
        ],
        [
         "Madagascar",
         "Nina Hendrick Home",
         44000,
         8
        ],
        [
         "Madagascar",
         "Nina Hendrick Home",
         44000,
         9
        ],
        [
         "Madagascar",
         "Ecole du Net",
         2000,
         10
        ],
        [
         "Madagascar",
         "Ecole du Net",
         2000,
         11
        ],
        [
         "Madagascar",
         "Ecole du Net",
         2000,
         12
        ],
        [
         "Madagascar",
         "Ecole du Net",
         2000,
         13
        ],
        [
         "Malawi",
         "Avenly Lane | Beauty, Fashion & Travel Inspiration",
         14000,
         1
        ],
        [
         "Malawi",
         "Avenly Lane | Beauty, Fashion & Travel Inspiration",
         14000,
         2
        ],
        [
         "Malawi",
         "Avenly Lane | Beauty, Fashion & Travel Inspiration",
         14000,
         3
        ],
        [
         "Malawi",
         "Avenly Lane | Beauty, Fashion & Travel Inspiration",
         14000,
         4
        ],
        [
         "Malawi",
         "Mens_Lifestyle",
         10000,
         5
        ],
        [
         "Malawi",
         "Mens_Lifestyle",
         10000,
         6
        ],
        [
         "Malawi",
         "Mens_Lifestyle",
         10000,
         7
        ],
        [
         "Malawi",
         "Mens_Lifestyle",
         10000,
         8
        ],
        [
         "Maldives",
         "Parents",
         416000,
         1
        ],
        [
         "Maldives",
         "Parents",
         416000,
         2
        ],
        [
         "Maldives",
         "Parents",
         416000,
         3
        ],
        [
         "Maldives",
         "Parents",
         416000,
         4
        ],
        [
         "Maldives",
         "Passion For Savings",
         330000,
         5
        ],
        [
         "Maldives",
         "Passion For Savings",
         330000,
         6
        ],
        [
         "Maldives",
         "Passion For Savings",
         330000,
         7
        ],
        [
         "Maldives",
         "Passion For Savings",
         330000,
         8
        ],
        [
         "Maldives",
         "Thrive Causemetics",
         43000,
         9
        ],
        [
         "Maldives",
         "Thrive Causemetics",
         43000,
         10
        ],
        [
         "Maldives",
         "Thrive Causemetics",
         43000,
         11
        ],
        [
         "Maldives",
         "Thrive Causemetics",
         43000,
         12
        ],
        [
         "Maldives",
         "Thrive Causemetics",
         43000,
         13
        ],
        [
         "Maldives",
         "Thrive Causemetics",
         43000,
         14
        ],
        [
         "Maldives",
         "Thrive Causemetics",
         43000,
         15
        ],
        [
         "Maldives",
         "Thrive Causemetics",
         43000,
         16
        ],
        [
         "Maldives",
         "Thrive Causemetics",
         43000,
         17
        ],
        [
         "Mali",
         "Mobile Home Living®",
         122000,
         1
        ],
        [
         "Mali",
         "Mobile Home Living®",
         122000,
         2
        ],
        [
         "Mali",
         "Mobile Home Living®",
         122000,
         3
        ],
        [
         "Mali",
         "Mobile Home Living®",
         122000,
         4
        ],
        [
         "Malta",
         "Chi-Wei Shih",
         57,
         1
        ],
        [
         "Malta",
         "Chi-Wei Shih",
         57,
         2
        ],
        [
         "Malta",
         "Chi-Wei Shih",
         57,
         3
        ],
        [
         "Malta",
         "Chi-Wei Shih",
         57,
         4
        ],
        [
         "Malta",
         "Habbie Beauty",
         4,
         5
        ],
        [
         "Malta",
         "Habbie Beauty",
         4,
         6
        ],
        [
         "Malta",
         "Habbie Beauty",
         4,
         7
        ],
        [
         "Malta",
         "Habbie Beauty",
         4,
         8
        ],
        [
         "Marshall Islands",
         "Dashing Darlin' ",
         13000,
         1
        ],
        [
         "Marshall Islands",
         "Dashing Darlin' ",
         13000,
         2
        ],
        [
         "Marshall Islands",
         "Dashing Darlin' ",
         13000,
         3
        ],
        [
         "Marshall Islands",
         "Dashing Darlin' ",
         13000,
         4
        ],
        [
         "Marshall Islands",
         "The Wanderful Me • Vegan Travel & Sustainable Living",
         5000,
         5
        ],
        [
         "Marshall Islands",
         "The Wanderful Me • Vegan Travel & Sustainable Living",
         5000,
         6
        ],
        [
         "Marshall Islands",
         "The Wanderful Me • Vegan Travel & Sustainable Living",
         5000,
         7
        ],
        [
         "Marshall Islands",
         "The Wanderful Me • Vegan Travel & Sustainable Living",
         5000,
         8
        ],
        [
         "Marshall Islands",
         "The Wanderful Me • Vegan Travel & Sustainable Living",
         5000,
         9
        ],
        [
         "Marshall Islands",
         "The Wanderful Me • Vegan Travel & Sustainable Living",
         5000,
         10
        ],
        [
         "Marshall Islands",
         "The Wanderful Me • Vegan Travel & Sustainable Living",
         5000,
         11
        ],
        [
         "Marshall Islands",
         "The Wanderful Me • Vegan Travel & Sustainable Living",
         5000,
         12
        ],
        [
         "Marshall Islands",
         "The Wanderful Me • Vegan Travel & Sustainable Living",
         5000,
         13
        ],
        [
         "Marshall Islands",
         "The Wanderful Me • Vegan Travel & Sustainable Living",
         5000,
         14
        ],
        [
         "Marshall Islands",
         "The Wanderful Me • Vegan Travel & Sustainable Living",
         5000,
         15
        ],
        [
         "Marshall Islands",
         "The Wanderful Me • Vegan Travel & Sustainable Living",
         5000,
         16
        ],
        [
         "Marshall Islands",
         "The Wanderful Me • Vegan Travel & Sustainable Living",
         5000,
         17
        ],
        [
         "Marshall Islands",
         "The Wanderful Me • Vegan Travel & Sustainable Living",
         5000,
         18
        ],
        [
         "Marshall Islands",
         "The Wanderful Me • Vegan Travel & Sustainable Living",
         5000,
         19
        ],
        [
         "Marshall Islands",
         "The Wanderful Me • Vegan Travel & Sustainable Living",
         5000,
         20
        ],
        [
         "Mauritania",
         "The Literacy Nest",
         22000,
         1
        ],
        [
         "Mayotte",
         "Ali Martin (Gimme Some Oven)",
         766000,
         1
        ],
        [
         "Mayotte",
         "Ali Martin (Gimme Some Oven)",
         766000,
         2
        ],
        [
         "Mayotte",
         "Ali Martin (Gimme Some Oven)",
         766000,
         3
        ],
        [
         "Mayotte",
         "Ali Martin (Gimme Some Oven)",
         766000,
         4
        ],
        [
         "Mexico",
         "Chris Hansen",
         492,
         1
        ],
        [
         "Mexico",
         "Chris Hansen",
         492,
         2
        ],
        [
         "Mexico",
         "Chris Hansen",
         492,
         3
        ],
        [
         "Mexico",
         "Chris Hansen",
         492,
         4
        ],
        [
         "Moldova",
         "Upcycle My Stuff - DIY Projects | Repurposing | Upcycling",
         22000,
         1
        ],
        [
         "Moldova",
         "Upcycle My Stuff - DIY Projects | Repurposing | Upcycling",
         22000,
         2
        ],
        [
         "Moldova",
         "Upcycle My Stuff - DIY Projects | Repurposing | Upcycling",
         22000,
         3
        ],
        [
         "Moldova",
         "Upcycle My Stuff - DIY Projects | Repurposing | Upcycling",
         22000,
         4
        ],
        [
         "Moldova",
         "Upcycle My Stuff - DIY Projects | Repurposing | Upcycling",
         22000,
         5
        ],
        [
         "Moldova",
         "Upcycle My Stuff - DIY Projects | Repurposing | Upcycling",
         22000,
         6
        ],
        [
         "Moldova",
         "Upcycle My Stuff - DIY Projects | Repurposing | Upcycling",
         22000,
         7
        ],
        [
         "Moldova",
         "Upcycle My Stuff - DIY Projects | Repurposing | Upcycling",
         22000,
         8
        ],
        [
         "Monaco",
         "Hum3D | Car 3D models",
         48000,
         1
        ],
        [
         "Monaco",
         "Hum3D | Car 3D models",
         48000,
         2
        ],
        [
         "Monaco",
         "Hum3D | Car 3D models",
         48000,
         3
        ],
        [
         "Monaco",
         "Hum3D | Car 3D models",
         48000,
         4
        ],
        [
         "Montserrat",
         "EBUYTIDE",
         88000,
         1
        ],
        [
         "Montserrat",
         "EBUYTIDE",
         88000,
         2
        ],
        [
         "Montserrat",
         "EBUYTIDE",
         88000,
         3
        ],
        [
         "Montserrat",
         "EBUYTIDE",
         88000,
         4
        ],
        [
         "Montserrat",
         "Luminous Learning",
         6000,
         5
        ],
        [
         "Montserrat",
         "Luminous Learning",
         6000,
         6
        ],
        [
         "Montserrat",
         "Luminous Learning",
         6000,
         7
        ],
        [
         "Montserrat",
         "Luminous Learning",
         6000,
         8
        ],
        [
         "Montserrat",
         "Taming Little Monsters - Fun Activities for Kids",
         4000,
         9
        ],
        [
         "Montserrat",
         "Taming Little Monsters - Fun Activities for Kids",
         4000,
         10
        ],
        [
         "Montserrat",
         "Taming Little Monsters - Fun Activities for Kids",
         4000,
         11
        ],
        [
         "Montserrat",
         "Taming Little Monsters - Fun Activities for Kids",
         4000,
         12
        ],
        [
         "Montserrat",
         "Taming Little Monsters - Fun Activities for Kids",
         4000,
         13
        ],
        [
         "Montserrat",
         "Taming Little Monsters - Fun Activities for Kids",
         4000,
         14
        ],
        [
         "Montserrat",
         "Taming Little Monsters - Fun Activities for Kids",
         4000,
         15
        ],
        [
         "Montserrat",
         "Taming Little Monsters - Fun Activities for Kids",
         4000,
         16
        ],
        [
         "Montserrat",
         "Taming Little Monsters - Fun Activities for Kids",
         4000,
         17
        ],
        [
         "Morocco",
         "Two Southern Sweeties | Life After 50 + Second Act Lifestyle",
         13000,
         1
        ],
        [
         "Morocco",
         "Two Southern Sweeties | Life After 50 + Second Act Lifestyle",
         13000,
         2
        ],
        [
         "Morocco",
         "Two Southern Sweeties | Life After 50 + Second Act Lifestyle",
         13000,
         3
        ],
        [
         "Morocco",
         "Two Southern Sweeties | Life After 50 + Second Act Lifestyle",
         13000,
         4
        ],
        [
         "Mozambique",
         "Stylin by Aylin",
         83000,
         1
        ],
        [
         "Mozambique",
         "Stylin by Aylin",
         83000,
         2
        ],
        [
         "Mozambique",
         "Stylin by Aylin",
         83000,
         3
        ],
        [
         "Mozambique",
         "Stylin by Aylin",
         83000,
         4
        ],
        [
         "Mozambique",
         "Stylin by Aylin",
         83000,
         5
        ],
        [
         "Mozambique",
         "Stylin by Aylin",
         83000,
         6
        ],
        [
         "Mozambique",
         "Stylin by Aylin",
         83000,
         7
        ],
        [
         "Mozambique",
         "Stylin by Aylin",
         83000,
         8
        ],
        [
         "Mozambique",
         "Stylin by Aylin",
         83000,
         9
        ],
        [
         "Mozambique",
         "Ovetta Jackson",
         6000,
         10
        ],
        [
         "Mozambique",
         "Ovetta Jackson",
         6000,
         11
        ],
        [
         "Mozambique",
         "Ovetta Jackson",
         6000,
         12
        ],
        [
         "Mozambique",
         "Ovetta Jackson",
         6000,
         13
        ],
        [
         "Mozambique",
         "Ramon‘s Weekly",
         63,
         14
        ],
        [
         "Mozambique",
         "Ramon‘s Weekly",
         63,
         15
        ],
        [
         "Mozambique",
         "Ramon‘s Weekly",
         63,
         16
        ],
        [
         "Mozambique",
         "Ramon‘s Weekly",
         63,
         17
        ],
        [
         "Namibia",
         "Snappy Gourmet",
         168000,
         1
        ],
        [
         "Namibia",
         "Snappy Gourmet",
         168000,
         2
        ],
        [
         "Namibia",
         "Snappy Gourmet",
         168000,
         3
        ],
        [
         "Namibia",
         "Snappy Gourmet",
         168000,
         4
        ],
        [
         "Namibia",
         "Inloversva",
         18000,
         5
        ],
        [
         "Namibia",
         "Inloversva",
         18000,
         6
        ],
        [
         "Namibia",
         "Inloversva",
         18000,
         7
        ],
        [
         "Namibia",
         "Inloversva",
         18000,
         8
        ],
        [
         "Nauru",
         "Austen Tosone | NYC Blogger | Fashion + Beauty",
         23000,
         1
        ],
        [
         "Nauru",
         "Austen Tosone | NYC Blogger | Fashion + Beauty",
         23000,
         2
        ],
        [
         "Nauru",
         "Austen Tosone | NYC Blogger | Fashion + Beauty",
         23000,
         3
        ],
        [
         "Nauru",
         "Austen Tosone | NYC Blogger | Fashion + Beauty",
         23000,
         4
        ],
        [
         "Netherlands",
         "PUFIK Interiors & Inspirations",
         136000,
         1
        ],
        [
         "Netherlands",
         "PUFIK Interiors & Inspirations",
         136000,
         2
        ],
        [
         "Netherlands",
         "PUFIK Interiors & Inspirations",
         136000,
         3
        ],
        [
         "Netherlands",
         "PUFIK Interiors & Inspirations",
         136000,
         4
        ],
        [
         "Netherlands Antilles",
         "Kim Cook-Thirteen Chairs-Slates Mugs And Tees",
         7000,
         1
        ],
        [
         "Netherlands Antilles",
         "Kim Cook-Thirteen Chairs-Slates Mugs And Tees",
         7000,
         2
        ],
        [
         "Netherlands Antilles",
         "Kim Cook-Thirteen Chairs-Slates Mugs And Tees",
         7000,
         3
        ],
        [
         "Netherlands Antilles",
         "Kim Cook-Thirteen Chairs-Slates Mugs And Tees",
         7000,
         4
        ],
        [
         "Netherlands Antilles",
         "Kim Cook-Thirteen Chairs-Slates Mugs And Tees",
         7000,
         5
        ],
        [
         "Netherlands Antilles",
         "Kim Cook-Thirteen Chairs-Slates Mugs And Tees",
         7000,
         6
        ],
        [
         "Netherlands Antilles",
         "Kim Cook-Thirteen Chairs-Slates Mugs And Tees",
         7000,
         7
        ],
        [
         "Netherlands Antilles",
         "Kim Cook-Thirteen Chairs-Slates Mugs And Tees",
         7000,
         8
        ],
        [
         "Netherlands Antilles",
         "Kim Cook-Thirteen Chairs-Slates Mugs And Tees",
         7000,
         9
        ],
        [
         "Netherlands Antilles",
         "Melissa Hogan",
         4000,
         10
        ],
        [
         "Netherlands Antilles",
         "Melissa Hogan",
         4000,
         11
        ],
        [
         "Netherlands Antilles",
         "Melissa Hogan",
         4000,
         12
        ],
        [
         "Netherlands Antilles",
         "Melissa Hogan",
         4000,
         13
        ],
        [
         "New Caledonia",
         "Au'vey Smith",
         377,
         1
        ],
        [
         "New Caledonia",
         "Au'vey Smith",
         377,
         2
        ],
        [
         "New Caledonia",
         "Au'vey Smith",
         377,
         3
        ],
        [
         "New Caledonia",
         "Au'vey Smith",
         377,
         4
        ],
        [
         "New Caledonia",
         "Au'vey Smith",
         377,
         5
        ],
        [
         "New Caledonia",
         "Au'vey Smith",
         377,
         6
        ],
        [
         "New Caledonia",
         "Au'vey Smith",
         377,
         7
        ],
        [
         "New Caledonia",
         "Au'vey Smith",
         377,
         8
        ],
        [
         "New Caledonia",
         "Au'vey Smith",
         377,
         9
        ],
        [
         "New Caledonia",
         "Ryan DuVall",
         123,
         10
        ],
        [
         "New Caledonia",
         "Ryan DuVall",
         123,
         11
        ],
        [
         "New Caledonia",
         "Ryan DuVall",
         123,
         12
        ],
        [
         "New Caledonia",
         "Ryan DuVall",
         123,
         13
        ],
        [
         "Nicaragua",
         "Land Rover USA",
         9000,
         1
        ],
        [
         "Nicaragua",
         "Land Rover USA",
         9000,
         2
        ],
        [
         "Nicaragua",
         "Land Rover USA",
         9000,
         3
        ],
        [
         "Nicaragua",
         "Land Rover USA",
         9000,
         4
        ],
        [
         "Nicaragua",
         "Mandy Renee",
         729,
         5
        ],
        [
         "Nicaragua",
         "Mandy Renee",
         729,
         6
        ],
        [
         "Nicaragua",
         "Mandy Renee",
         729,
         7
        ],
        [
         "Nicaragua",
         "Mandy Renee",
         729,
         8
        ],
        [
         "Niger",
         "The Habit Flow | Social Media Design | Templates | Abstract Art",
         135,
         1
        ],
        [
         "Niger",
         "The Habit Flow | Social Media Design | Templates | Abstract Art",
         135,
         2
        ],
        [
         "Niger",
         "The Habit Flow | Social Media Design | Templates | Abstract Art",
         135,
         3
        ],
        [
         "Niger",
         "The Habit Flow | Social Media Design | Templates | Abstract Art",
         135,
         4
        ],
        [
         "Nigeria",
         "eyelashdance",
         164,
         1
        ],
        [
         "Nigeria",
         "eyelashdance",
         164,
         2
        ],
        [
         "Nigeria",
         "eyelashdance",
         164,
         3
        ],
        [
         "Nigeria",
         "eyelashdance",
         164,
         4
        ],
        [
         "Norfolk Island",
         "Lifestyle DIYW \"Live Life & Do IT Your Way\"",
         6000,
         1
        ],
        [
         "Norfolk Island",
         "Lifestyle DIYW \"Live Life & Do IT Your Way\"",
         6000,
         2
        ],
        [
         "Norfolk Island",
         "Lifestyle DIYW \"Live Life & Do IT Your Way\"",
         6000,
         3
        ],
        [
         "Norfolk Island",
         "Lifestyle DIYW \"Live Life & Do IT Your Way\"",
         6000,
         4
        ],
        [
         "Norway",
         "DailyDose",
         189,
         1
        ],
        [
         "Norway",
         "DailyDose",
         189,
         2
        ],
        [
         "Norway",
         "DailyDose",
         189,
         3
        ],
        [
         "Norway",
         "DailyDose",
         189,
         4
        ],
        [
         "Oman",
         "Nifty",
         2000000,
         1
        ],
        [
         "Oman",
         "Nifty",
         2000000,
         2
        ],
        [
         "Oman",
         "Nifty",
         2000000,
         3
        ],
        [
         "Oman",
         "Nifty",
         2000000,
         4
        ],
        [
         "Oman",
         "CentSai |  Personal Finance | Budgeting and Saving Money",
         11000,
         5
        ],
        [
         "Oman",
         "CentSai |  Personal Finance | Budgeting and Saving Money",
         11000,
         6
        ],
        [
         "Oman",
         "CentSai |  Personal Finance | Budgeting and Saving Money",
         11000,
         7
        ],
        [
         "Oman",
         "CentSai |  Personal Finance | Budgeting and Saving Money",
         11000,
         8
        ],
        [
         "Oman",
         "Kennedy Taylor",
         777,
         9
        ],
        [
         "Oman",
         "Kennedy Taylor",
         777,
         10
        ],
        [
         "Oman",
         "Kennedy Taylor",
         777,
         11
        ],
        [
         "Oman",
         "Kennedy Taylor",
         777,
         12
        ],
        [
         "Panama",
         "Alanna | Periodic Adventures",
         1000,
         1
        ],
        [
         "Panama",
         "Alanna | Periodic Adventures",
         1000,
         2
        ],
        [
         "Panama",
         "Alanna | Periodic Adventures",
         1000,
         3
        ],
        [
         "Panama",
         "Alanna | Periodic Adventures",
         1000,
         4
        ],
        [
         "Panama",
         "Abina♡",
         43,
         5
        ],
        [
         "Panama",
         "Abina♡",
         43,
         6
        ],
        [
         "Panama",
         "Abina♡",
         43,
         7
        ],
        [
         "Panama",
         "Abina♡",
         43,
         8
        ],
        [
         "Papua New Guinea",
         "AnnaLee Kick",
         112,
         1
        ],
        [
         "Papua New Guinea",
         "AnnaLee Kick",
         112,
         2
        ],
        [
         "Papua New Guinea",
         "AnnaLee Kick",
         112,
         3
        ],
        [
         "Papua New Guinea",
         "AnnaLee Kick",
         112,
         4
        ],
        [
         "Papua New Guinea",
         "AnnaLee Kick",
         112,
         5
        ],
        [
         "Papua New Guinea",
         "AnnaLee Kick",
         112,
         6
        ],
        [
         "Papua New Guinea",
         "AnnaLee Kick",
         112,
         7
        ],
        [
         "Papua New Guinea",
         "AnnaLee Kick",
         112,
         8
        ],
        [
         "Papua New Guinea",
         "AnnaLee Kick",
         112,
         9
        ],
        [
         "Peru",
         "Clar",
         21,
         1
        ],
        [
         "Peru",
         "Clar",
         21,
         2
        ],
        [
         "Peru",
         "Clar",
         21,
         3
        ],
        [
         "Peru",
         "Clar",
         21,
         4
        ],
        [
         "Philippines",
         "Life of Neon | Custom Neon Light Signs | Home Decor Wall Art",
         111,
         1
        ],
        [
         "Pitcairn Islands",
         "Marla Meridith",
         671000,
         1
        ],
        [
         "Pitcairn Islands",
         "Marla Meridith",
         671000,
         2
        ],
        [
         "Pitcairn Islands",
         "Marla Meridith",
         671000,
         3
        ],
        [
         "Pitcairn Islands",
         "Marla Meridith",
         671000,
         4
        ],
        [
         "Portugal",
         "Lindsey Blogs",
         29000,
         1
        ],
        [
         "Portugal",
         "Lindsey Blogs",
         29000,
         2
        ],
        [
         "Portugal",
         "Lindsey Blogs",
         29000,
         3
        ],
        [
         "Portugal",
         "Lindsey Blogs",
         29000,
         4
        ],
        [
         "Puerto Rico",
         "Book More Brides",
         1000,
         1
        ],
        [
         "Puerto Rico",
         "Book More Brides",
         1000,
         2
        ],
        [
         "Puerto Rico",
         "Book More Brides",
         1000,
         3
        ],
        [
         "Puerto Rico",
         "Book More Brides",
         1000,
         4
        ],
        [
         "Qatar",
         "604 Now",
         972,
         1
        ],
        [
         "Qatar",
         "604 Now",
         972,
         2
        ],
        [
         "Qatar",
         "604 Now",
         972,
         3
        ],
        [
         "Qatar",
         "604 Now",
         972,
         4
        ],
        [
         "Romania",
         "Soberbadassery | Your Free Online Guide To Sober Living ",
         9000,
         1
        ],
        [
         "Romania",
         "Soberbadassery | Your Free Online Guide To Sober Living ",
         9000,
         2
        ],
        [
         "Romania",
         "Soberbadassery | Your Free Online Guide To Sober Living ",
         9000,
         3
        ],
        [
         "Romania",
         "Soberbadassery | Your Free Online Guide To Sober Living ",
         9000,
         4
        ],
        [
         "Romania",
         "Joyce Flores",
         3000,
         5
        ],
        [
         "Romania",
         "Joyce Flores",
         3000,
         6
        ],
        [
         "Romania",
         "Joyce Flores",
         3000,
         7
        ],
        [
         "Romania",
         "Joyce Flores",
         3000,
         8
        ],
        [
         "Romania",
         "Kay𖨆",
         301,
         9
        ],
        [
         "Romania",
         "Kay𖨆",
         301,
         10
        ],
        [
         "Romania",
         "Kay𖨆",
         301,
         11
        ],
        [
         "Romania",
         "Kay𖨆",
         301,
         12
        ],
        [
         "Romania",
         "Shea Gordon",
         5,
         13
        ],
        [
         "Romania",
         "Shea Gordon",
         5,
         14
        ],
        [
         "Romania",
         "Shea Gordon",
         5,
         15
        ],
        [
         "Romania",
         "Shea Gordon",
         5,
         16
        ],
        [
         "Russian Federation",
         "Bolig Magasinet",
         69000,
         1
        ],
        [
         "Russian Federation",
         "Bolig Magasinet",
         69000,
         2
        ],
        [
         "Russian Federation",
         "Bolig Magasinet",
         69000,
         3
        ],
        [
         "Russian Federation",
         "Bolig Magasinet",
         69000,
         4
        ],
        [
         "Russian Federation",
         "Teach Workout Love",
         10000,
         5
        ],
        [
         "Russian Federation",
         "Teach Workout Love",
         10000,
         6
        ],
        [
         "Russian Federation",
         "Teach Workout Love",
         10000,
         7
        ],
        [
         "Russian Federation",
         "Teach Workout Love",
         10000,
         8
        ],
        [
         "Saint Barthelemy",
         "Peter Dikhazi",
         18,
         1
        ],
        [
         "Saint Barthelemy",
         "Peter Dikhazi",
         18,
         2
        ],
        [
         "Saint Barthelemy",
         "Peter Dikhazi",
         18,
         3
        ],
        [
         "Saint Barthelemy",
         "Peter Dikhazi",
         18,
         4
        ],
        [
         "Saint Kitts and Nevis",
         "vintagetopia",
         171000,
         1
        ],
        [
         "Saint Kitts and Nevis",
         "vintagetopia",
         171000,
         2
        ],
        [
         "Saint Kitts and Nevis",
         "vintagetopia",
         171000,
         3
        ],
        [
         "Saint Kitts and Nevis",
         "vintagetopia",
         171000,
         4
        ],
        [
         "Saint Kitts and Nevis",
         "vintagetopia",
         171000,
         5
        ],
        [
         "Saint Kitts and Nevis",
         "vintagetopia",
         171000,
         6
        ],
        [
         "Saint Kitts and Nevis",
         "vintagetopia",
         171000,
         7
        ],
        [
         "Saint Kitts and Nevis",
         "vintagetopia",
         171000,
         8
        ],
        [
         "Saint Kitts and Nevis",
         "vintagetopia",
         171000,
         9
        ],
        [
         "Saint Martin",
         "Cracked",
         161000,
         1
        ],
        [
         "Saint Martin",
         "Cracked",
         161000,
         2
        ],
        [
         "Saint Martin",
         "Cracked",
         161000,
         3
        ],
        [
         "Saint Martin",
         "Cracked",
         161000,
         4
        ],
        [
         "Saint Martin",
         "Inredningsvis | Inredning inspiration Interior inspiration",
         9000,
         5
        ],
        [
         "Saint Martin",
         "Inredningsvis | Inredning inspiration Interior inspiration",
         9000,
         6
        ],
        [
         "Saint Martin",
         "Inredningsvis | Inredning inspiration Interior inspiration",
         9000,
         7
        ],
        [
         "Saint Martin",
         "Inredningsvis | Inredning inspiration Interior inspiration",
         9000,
         8
        ],
        [
         "Saint Martin",
         "Inredningsvis | Inredning inspiration Interior inspiration",
         9000,
         9
        ],
        [
         "Saint Martin",
         "Inredningsvis | Inredning inspiration Interior inspiration",
         9000,
         10
        ],
        [
         "Saint Martin",
         "Inredningsvis | Inredning inspiration Interior inspiration",
         9000,
         11
        ],
        [
         "Saint Martin",
         "Inredningsvis | Inredning inspiration Interior inspiration",
         9000,
         12
        ],
        [
         "Saint Martin",
         "Inredningsvis | Inredning inspiration Interior inspiration",
         9000,
         13
        ],
        [
         "Saint Pierre and Miquelon",
         "BC Creatives // Self Care, Blogging & Work From Home Tips ✨",
         10000,
         1
        ],
        [
         "Saint Pierre and Miquelon",
         "BC Creatives // Self Care, Blogging & Work From Home Tips ✨",
         10000,
         2
        ],
        [
         "Saint Pierre and Miquelon",
         "BC Creatives // Self Care, Blogging & Work From Home Tips ✨",
         10000,
         3
        ],
        [
         "Saint Pierre and Miquelon",
         "BC Creatives // Self Care, Blogging & Work From Home Tips ✨",
         10000,
         4
        ],
        [
         "Saint Vincent and the Grenadines",
         "Home Etc",
         13,
         1
        ],
        [
         "Saint Vincent and the Grenadines",
         "Home Etc",
         13,
         2
        ],
        [
         "Saint Vincent and the Grenadines",
         "Home Etc",
         13,
         3
        ],
        [
         "Saint Vincent and the Grenadines",
         "Home Etc",
         13,
         4
        ],
        [
         "San Marino",
         "Sammy Davis Vintage",
         23000,
         1
        ],
        [
         "San Marino",
         "Sammy Davis Vintage",
         23000,
         2
        ],
        [
         "San Marino",
         "Sammy Davis Vintage",
         23000,
         3
        ],
        [
         "San Marino",
         "Sammy Davis Vintage",
         23000,
         4
        ],
        [
         "Saudi Arabia",
         "The Navage Patch®",
         136000,
         1
        ],
        [
         "Saudi Arabia",
         "The Navage Patch®",
         136000,
         2
        ],
        [
         "Saudi Arabia",
         "The Navage Patch®",
         136000,
         3
        ],
        [
         "Saudi Arabia",
         "The Navage Patch®",
         136000,
         4
        ],
        [
         "Senegal",
         "LeShara Fisher",
         353,
         1
        ],
        [
         "Senegal",
         "LeShara Fisher",
         353,
         2
        ],
        [
         "Senegal",
         "LeShara Fisher",
         353,
         3
        ],
        [
         "Senegal",
         "LeShara Fisher",
         353,
         4
        ],
        [
         "Senegal",
         "Falanna Washington",
         5,
         5
        ],
        [
         "Senegal",
         "Falanna Washington",
         5,
         6
        ],
        [
         "Senegal",
         "Falanna Washington",
         5,
         7
        ],
        [
         "Senegal",
         "Falanna Washington",
         5,
         8
        ],
        [
         "Seychelles",
         "ALL FOR WOMAN",
         21000,
         1
        ],
        [
         "Seychelles",
         "Awesthetics by Amy Wong",
         18,
         2
        ],
        [
         "Seychelles",
         "Awesthetics by Amy Wong",
         18,
         3
        ],
        [
         "Seychelles",
         "Awesthetics by Amy Wong",
         18,
         4
        ],
        [
         "Seychelles",
         "Awesthetics by Amy Wong",
         18,
         5
        ],
        [
         "Singapore",
         "CHRISTIAN CHÊNE",
         3000,
         1
        ],
        [
         "Singapore",
         "CHRISTIAN CHÊNE",
         3000,
         2
        ],
        [
         "Singapore",
         "CHRISTIAN CHÊNE",
         3000,
         3
        ],
        [
         "Singapore",
         "CHRISTIAN CHÊNE",
         3000,
         4
        ],
        [
         "Singapore",
         "Lionel Leon",
         387,
         5
        ],
        [
         "Singapore",
         "Lionel Leon",
         387,
         6
        ],
        [
         "Singapore",
         "Lionel Leon",
         387,
         7
        ],
        [
         "Singapore",
         "Lionel Leon",
         387,
         8
        ],
        [
         "Singapore",
         "Brooke Kissler",
         179,
         9
        ],
        [
         "Singapore",
         "Brooke Kissler",
         179,
         10
        ],
        [
         "Singapore",
         "Brooke Kissler",
         179,
         11
        ],
        [
         "Singapore",
         "Brooke Kissler",
         179,
         12
        ],
        [
         "Solomon Islands",
         "Upcyclist",
         7000,
         1
        ],
        [
         "Solomon Islands",
         "Upcyclist",
         7000,
         2
        ],
        [
         "Solomon Islands",
         "Upcyclist",
         7000,
         3
        ],
        [
         "Solomon Islands",
         "Upcyclist",
         7000,
         4
        ],
        [
         "Solomon Islands",
         "Sonet Cox",
         6,
         5
        ],
        [
         "Solomon Islands",
         "Sonet Cox",
         6,
         6
        ],
        [
         "Solomon Islands",
         "Sonet Cox",
         6,
         7
        ],
        [
         "Solomon Islands",
         "Sonet Cox",
         6,
         8
        ],
        [
         "Somalia",
         "Caroline Rose Travel | Solo, Budget and Adventure Travel Blogger",
         788,
         1
        ],
        [
         "Somalia",
         "Caroline Rose Travel | Solo, Budget and Adventure Travel Blogger",
         788,
         2
        ],
        [
         "Somalia",
         "Caroline Rose Travel | Solo, Budget and Adventure Travel Blogger",
         788,
         3
        ],
        [
         "Somalia",
         "Caroline Rose Travel | Solo, Budget and Adventure Travel Blogger",
         788,
         4
        ],
        [
         "Sudan",
         "iElylike ..✿◕‿◕✿ஐ✿◕‿◕✿",
         940,
         1
        ],
        [
         "Svalbard & Jan Mayen Islands",
         "Merissa (Little House Living) | Simple Living + Frugal Living",
         152000,
         1
        ],
        [
         "Svalbard & Jan Mayen Islands",
         "Merissa (Little House Living) | Simple Living + Frugal Living",
         152000,
         2
        ],
        [
         "Svalbard & Jan Mayen Islands",
         "Merissa (Little House Living) | Simple Living + Frugal Living",
         152000,
         3
        ],
        [
         "Svalbard & Jan Mayen Islands",
         "Merissa (Little House Living) | Simple Living + Frugal Living",
         152000,
         4
        ],
        [
         "Sweden",
         "Milan Singh | Finance & Business",
         13000,
         1
        ],
        [
         "Sweden",
         "Milan Singh | Finance & Business",
         13000,
         2
        ],
        [
         "Sweden",
         "Milan Singh | Finance & Business",
         13000,
         3
        ],
        [
         "Sweden",
         "Milan Singh | Finance & Business",
         13000,
         4
        ],
        [
         "Taiwan",
         "Sherry Truhlar",
         2000,
         1
        ],
        [
         "Taiwan",
         "Sherry Truhlar",
         2000,
         2
        ],
        [
         "Taiwan",
         "Sherry Truhlar",
         2000,
         3
        ],
        [
         "Taiwan",
         "Sherry Truhlar",
         2000,
         4
        ],
        [
         "Thailand",
         "Debbie Gartner | The Flooring Girl | Hardwood Floors & Paint Tips",
         68000,
         1
        ],
        [
         "Thailand",
         "Debbie Gartner | The Flooring Girl | Hardwood Floors & Paint Tips",
         68000,
         2
        ],
        [
         "Thailand",
         "Debbie Gartner | The Flooring Girl | Hardwood Floors & Paint Tips",
         68000,
         3
        ],
        [
         "Thailand",
         "Debbie Gartner | The Flooring Girl | Hardwood Floors & Paint Tips",
         68000,
         4
        ],
        [
         "Tokelau",
         "Lexi",
         52,
         1
        ],
        [
         "Tokelau",
         "Lexi",
         52,
         2
        ],
        [
         "Tokelau",
         "Lexi",
         52,
         3
        ],
        [
         "Tokelau",
         "Lexi",
         52,
         4
        ],
        [
         "Tonga",
         "Grecia Perales",
         0,
         1
        ],
        [
         "Tunisia",
         "Travel with Munia",
         2000,
         1
        ],
        [
         "Tunisia",
         "Travel with Munia",
         2000,
         2
        ],
        [
         "Tunisia",
         "Travel with Munia",
         2000,
         3
        ],
        [
         "Tunisia",
         "Travel with Munia",
         2000,
         4
        ],
        [
         "Turkey",
         "My Little Poppies (Cait Curley, MA/CAGS)",
         9000,
         1
        ],
        [
         "Turkmenistan",
         "Dionne ❤️ Home & Life Organized",
         7000,
         1
        ],
        [
         "Turkmenistan",
         "Dionne ❤️ Home & Life Organized",
         7000,
         2
        ],
        [
         "Turkmenistan",
         "Dionne ❤️ Home & Life Organized",
         7000,
         3
        ],
        [
         "Turkmenistan",
         "Dionne ❤️ Home & Life Organized",
         7000,
         4
        ],
        [
         "Turkmenistan",
         "One World Wanderer | Travel Blogger",
         1000,
         5
        ],
        [
         "Turkmenistan",
         "One World Wanderer | Travel Blogger",
         1000,
         6
        ],
        [
         "Turkmenistan",
         "One World Wanderer | Travel Blogger",
         1000,
         7
        ],
        [
         "Turkmenistan",
         "One World Wanderer | Travel Blogger",
         1000,
         8
        ],
        [
         "Turks and Caicos Islands",
         "I.A. Planning",
         7,
         1
        ],
        [
         "Turks and Caicos Islands",
         "I.A. Planning",
         7,
         2
        ],
        [
         "Turks and Caicos Islands",
         "I.A. Planning",
         7,
         3
        ],
        [
         "Turks and Caicos Islands",
         "I.A. Planning",
         7,
         4
        ],
        [
         "Tuvalu",
         "Addymae Rodi",
         41,
         1
        ],
        [
         "Tuvalu",
         "Addymae Rodi",
         41,
         2
        ],
        [
         "Tuvalu",
         "Addymae Rodi",
         41,
         3
        ],
        [
         "Tuvalu",
         "Addymae Rodi",
         41,
         4
        ],
        [
         "Uganda",
         "Hair Accessories",
         22,
         1
        ],
        [
         "Uganda",
         "Hair Accessories",
         22,
         2
        ],
        [
         "Uganda",
         "Hair Accessories",
         22,
         3
        ],
        [
         "Uganda",
         "Hair Accessories",
         22,
         4
        ],
        [
         "United Kingdom",
         "Alisha at Picture the Magic",
         19000,
         1
        ],
        [
         "United Kingdom",
         "Alisha at Picture the Magic",
         19000,
         2
        ],
        [
         "United Kingdom",
         "Alisha at Picture the Magic",
         19000,
         3
        ],
        [
         "United Kingdom",
         "Alisha at Picture the Magic",
         19000,
         4
        ],
        [
         "United Kingdom",
         "Yin Yang Shop",
         2000,
         5
        ],
        [
         "United Kingdom",
         "Yin Yang Shop",
         2000,
         6
        ],
        [
         "United Kingdom",
         "Yin Yang Shop",
         2000,
         7
        ],
        [
         "United Kingdom",
         "Yin Yang Shop",
         2000,
         8
        ],
        [
         "United States Minor Outlying Islands",
         "Pretty Designs",
         892000,
         1
        ],
        [
         "United States Minor Outlying Islands",
         "Pretty Designs",
         892000,
         2
        ],
        [
         "United States Minor Outlying Islands",
         "Pretty Designs",
         892000,
         3
        ],
        [
         "United States Minor Outlying Islands",
         "Pretty Designs",
         892000,
         4
        ],
        [
         "United States Virgin Islands",
         "Renee Slansky  Dating + Relationship Coach -The Dating Directory ",
         12000,
         1
        ],
        [
         "United States Virgin Islands",
         "Renee Slansky  Dating + Relationship Coach -The Dating Directory ",
         12000,
         2
        ],
        [
         "United States Virgin Islands",
         "Renee Slansky  Dating + Relationship Coach -The Dating Directory ",
         12000,
         3
        ],
        [
         "United States Virgin Islands",
         "Renee Slansky  Dating + Relationship Coach -The Dating Directory ",
         12000,
         4
        ],
        [
         "United States Virgin Islands",
         "Amanda Harris",
         240,
         5
        ],
        [
         "United States Virgin Islands",
         "Amanda Harris",
         240,
         6
        ],
        [
         "United States Virgin Islands",
         "Amanda Harris",
         240,
         7
        ],
        [
         "United States Virgin Islands",
         "Amanda Harris",
         240,
         8
        ],
        [
         "United States of America",
         "Alicia Greenwood",
         0,
         1
        ],
        [
         "United States of America",
         "Alicia Greenwood",
         0,
         2
        ],
        [
         "United States of America",
         "Alicia Greenwood",
         0,
         3
        ],
        [
         "United States of America",
         "Alicia Greenwood",
         0,
         4
        ],
        [
         "Venezuela",
         "SimpleStepsMax | Investing | Save Money | Make Money",
         612,
         1
        ],
        [
         "Venezuela",
         "SimpleStepsMax | Investing | Save Money | Make Money",
         612,
         2
        ],
        [
         "Venezuela",
         "SimpleStepsMax | Investing | Save Money | Make Money",
         612,
         3
        ],
        [
         "Venezuela",
         "SimpleStepsMax | Investing | Save Money | Make Money",
         612,
         4
        ],
        [
         "Vietnam",
         "Worthing Court Blog",
         70000,
         1
        ],
        [
         "Vietnam",
         "Worthing Court Blog",
         70000,
         2
        ],
        [
         "Vietnam",
         "Worthing Court Blog",
         70000,
         3
        ],
        [
         "Vietnam",
         "Worthing Court Blog",
         70000,
         4
        ],
        [
         "Wallis and Futuna",
         "Organize Ways",
         2000,
         1
        ],
        [
         "Wallis and Futuna",
         "Organize Ways",
         2000,
         2
        ],
        [
         "Wallis and Futuna",
         "Organize Ways",
         2000,
         3
        ],
        [
         "Wallis and Futuna",
         "Organize Ways",
         2000,
         4
        ]
       ],
       "datasetInfos": [],
       "dbfsResultPath": null,
       "isJsonSchema": true,
       "metadata": {},
       "overflow": false,
       "plotOptions": {
        "customPlotOptions": {},
        "displayType": "table",
        "pivotAggregation": null,
        "pivotColumns": null,
        "xColumns": null,
        "yColumns": null
       },
       "removedWidgets": [],
       "schema": [
        {
         "metadata": "{}",
         "name": "country",
         "type": "\"string\""
        },
        {
         "metadata": "{}",
         "name": "poster_name",
         "type": "\"string\""
        },
        {
         "metadata": "{}",
         "name": "follower_count",
         "type": "\"integer\""
        },
        {
         "metadata": "{}",
         "name": "rank",
         "type": "\"integer\""
        }
       ],
       "type": "table"
      }
     },
     "output_type": "display_data"
    }
   ],
   "source": [
    "SELECT * FROM most_followed_users_ranked;"
   ]
  },
  {
   "cell_type": "code",
   "execution_count": 0,
   "metadata": {
    "application/vnd.databricks.v1+cell": {
     "cellMetadata": {
      "byteLimit": 2048000,
      "rowLimit": 10000
     },
     "inputWidgets": {},
     "nuid": "5819ee78-4a79-49af-a7ea-c5e9144c3e77",
     "showTitle": false,
     "tableResultSettingsMap": {},
     "title": ""
    }
   },
   "outputs": [
    {
     "output_type": "display_data",
     "data": {
      "text/html": [
       "<style scoped>\n",
       "  .table-result-container {\n",
       "    max-height: 300px;\n",
       "    overflow: auto;\n",
       "  }\n",
       "  table, th, td {\n",
       "    border: 1px solid black;\n",
       "    border-collapse: collapse;\n",
       "  }\n",
       "  th, td {\n",
       "    padding: 5px;\n",
       "  }\n",
       "  th {\n",
       "    text-align: left;\n",
       "  }\n",
       "</style><div class='table-result-container'><table class='table-result'><thead style='background-color: white'><tr></tr></thead><tbody></tbody></table></div>"
      ]
     },
     "metadata": {
      "application/vnd.databricks.v1+output": {
       "addedWidgets": {},
       "aggData": [],
       "aggError": "",
       "aggOverflow": false,
       "aggSchema": [],
       "aggSeriesLimitReached": false,
       "aggType": "",
       "arguments": {},
       "columnCustomDisplayInfos": {},
       "data": [],
       "datasetInfos": [],
       "dbfsResultPath": null,
       "isJsonSchema": true,
       "metadata": {
        "isDbfsCommandResult": false
       },
       "overflow": false,
       "plotOptions": {
        "customPlotOptions": {},
        "displayType": "table",
        "pivotAggregation": null,
        "pivotColumns": null,
        "xColumns": null,
        "yColumns": null
       },
       "removedWidgets": [],
       "schema": [],
       "type": "table"
      }
     },
     "output_type": "display_data"
    }
   ],
   "source": [
    "CREATE OR REPLACE TEMP VIEW most_followed_users AS\n",
    "SELECT \n",
    "    country,\n",
    "    poster_name,\n",
    "    follower_count\n",
    "FROM \n",
    "    most_followed_users_ranked\n",
    "WHERE \n",
    "    rank = 1\n",
    "ORDER BY \n",
    "    country;"
   ]
  },
  {
   "cell_type": "code",
   "execution_count": 0,
   "metadata": {
    "application/vnd.databricks.v1+cell": {
     "cellMetadata": {
      "byteLimit": 2048000,
      "rowLimit": 10000
     },
     "inputWidgets": {},
     "nuid": "2761776a-ea2f-4ddd-8012-a95b61d45cb3",
     "showTitle": false,
     "tableResultSettingsMap": {},
     "title": ""
    }
   },
   "outputs": [
    {
     "output_type": "display_data",
     "data": {
      "text/html": [
       "<style scoped>\n",
       "  .table-result-container {\n",
       "    max-height: 300px;\n",
       "    overflow: auto;\n",
       "  }\n",
       "  table, th, td {\n",
       "    border: 1px solid black;\n",
       "    border-collapse: collapse;\n",
       "  }\n",
       "  th, td {\n",
       "    padding: 5px;\n",
       "  }\n",
       "  th {\n",
       "    text-align: left;\n",
       "  }\n",
       "</style><div class='table-result-container'><table class='table-result'><thead style='background-color: white'><tr><th>country</th><th>poster_name</th><th>follower_count</th></tr></thead><tbody><tr><td>Afghanistan</td><td>Walmart</td><td>2000000</td></tr><tr><td>Albania</td><td>The Minds Journal</td><td>5000000</td></tr><tr><td>Algeria</td><td>Apartment Therapy</td><td>5000000</td></tr><tr><td>American Samoa</td><td>Mamas Uncut</td><td>8000000</td></tr><tr><td>Andorra</td><td>Teachers Pay Teachers</td><td>1000000</td></tr><tr><td>Angola</td><td>CraftGossip.com</td><td>502000</td></tr><tr><td>Anguilla</td><td>Kara's Party Ideas .com</td><td>736000</td></tr><tr><td>Antarctica (the territory South of 60 deg S)</td><td>HikenDip</td><td>501000</td></tr><tr><td>Antigua and Barbuda</td><td>Country Living Magazine</td><td>1000000</td></tr><tr><td>Argentina</td><td>Cheezburger</td><td>2000000</td></tr><tr><td>Armenia</td><td>Michelle {CraftyMorning.com}</td><td>892000</td></tr><tr><td>Aruba</td><td>TheTrendSpotter</td><td>211000</td></tr><tr><td>Australia</td><td>Cultura Colectiva</td><td>1000000</td></tr><tr><td>Austria</td><td>The World Pursuit Travel Website</td><td>89000</td></tr><tr><td>Azerbaijan</td><td>Style Me Pretty</td><td>6000000</td></tr><tr><td>Bahamas</td><td>Handmade Charlotte</td><td>948000</td></tr><tr><td>Bahrain</td><td>Rainy Day Mum</td><td>337000</td></tr><tr><td>Bangladesh</td><td>Better Homes and Gardens</td><td>4000000</td></tr><tr><td>Barbados</td><td>The Creativity Exchange</td><td>410000</td></tr><tr><td>Belarus</td><td>Prudent Penny Pincher - Home Decor, Organization, Crafts, Recipes</td><td>647000</td></tr><tr><td>Belgium</td><td>Happy Toddler Playtime</td><td>73000</td></tr><tr><td>Belize</td><td>Julia Berolzheimer</td><td>399000</td></tr><tr><td>Benin</td><td>fashionchaser | nails,hairstyle,tattoo</td><td>23000</td></tr><tr><td>Bermuda</td><td>Life on Summerhill | Home, Holiday Decor & DIY Website</td><td>46000</td></tr><tr><td>Bhutan</td><td>diana ajih</td><td>141000</td></tr><tr><td>Bolivia</td><td>Kimberly West (a girl and a glue gun)</td><td>243000</td></tr><tr><td>Bosnia and Herzegovina</td><td>5-Minute Crafts Family</td><td>370000</td></tr><tr><td>Botswana</td><td>OkChicas</td><td>3000000</td></tr><tr><td>Bouvet Island (Bouvetoya)</td><td>POPSUGAR</td><td>5000000</td></tr><tr><td>Brazil</td><td>Budget with Rachel</td><td>11000</td></tr><tr><td>British Indian Ocean Territory (Chagos Archipelago)</td><td>Budgets Are Sexy | Save Money + Grow Your Net Worth</td><td>11000</td></tr><tr><td>British Virgin Islands</td><td>Kitchen Fun With My 3 Sons</td><td>245000</td></tr><tr><td>Brunei Darussalam</td><td>Purpose Driven Living Home</td><td>31000</td></tr><tr><td>Bulgaria</td><td>Half Baked Harvest</td><td>912000</td></tr><tr><td>Burkina Faso</td><td>Home Hacks</td><td>235000</td></tr><tr><td>Burundi</td><td>Cute Cat Videos</td><td>373</td></tr><tr><td>Cambodia</td><td>Catch My Party</td><td>2000000</td></tr><tr><td>Cameroon</td><td>Made to be a Momma</td><td>85000</td></tr><tr><td>Canada</td><td>Giorgenti New York</td><td>258000</td></tr><tr><td>Cape Verde</td><td>Sand and Sisal</td><td>178000</td></tr><tr><td>Cayman Islands</td><td>How Wee Learn</td><td>383000</td></tr><tr><td>Central African Republic</td><td>PureWow</td><td>868000</td></tr><tr><td>Chad</td><td>Glued To My Crafts</td><td>226000</td></tr><tr><td>Chile</td><td>Amber Strong - The Maker’s Map | DIY’s, Crafts & Home Decor</td><td>19000</td></tr><tr><td>China</td><td>Josie Lewis Art</td><td>195000</td></tr><tr><td>Christmas Island</td><td>Instructables</td><td>3000000</td></tr><tr><td>Cocos (Keeling) Islands</td><td>Zero Debt Coach | Money Courses & Coaching (I Follow Back)</td><td>13000</td></tr><tr><td>Colombia</td><td>Renata’s Boutique</td><td>27</td></tr><tr><td>Comoros</td><td>Becky Mansfield - YourModernFamily </td><td>196000</td></tr><tr><td>Congo</td><td>He and She Eat Clean</td><td>88000</td></tr><tr><td>Cook Islands</td><td>SeedTime (Money Tips)</td><td>77000</td></tr><tr><td>Costa Rica</td><td>Liz Marie</td><td>309000</td></tr><tr><td>Cote d'Ivoire</td><td>The Crafting Chicks</td><td>192000</td></tr><tr><td>Cuba</td><td>Listotic - Easy Ideas | Fun DIY Projects | Easy Recipes | Lists</td><td>307000</td></tr><tr><td>Czech Republic</td><td>Todd | Financial Mentor</td><td>7000</td></tr><tr><td>Denmark</td><td>A Life Adjacent</td><td>36000</td></tr><tr><td>Djibouti</td><td>Instrupix | Lilly Childers</td><td>275000</td></tr><tr><td>Dominica</td><td>Monique - Living Life and Learning</td><td>67000</td></tr><tr><td>Dominican Republic</td><td>Mrs. P's Specialties- Educational Resources</td><td>20000</td></tr><tr><td>Ecuador</td><td>Midwest Jewelers & Estate Buyers</td><td>265</td></tr><tr><td>Egypt</td><td>Allure</td><td>346000</td></tr><tr><td>El Salvador</td><td>Power of Positivity</td><td>221000</td></tr><tr><td>Equatorial Guinea</td><td>MarQuai Romari</td><td>31</td></tr><tr><td>Ethiopia</td><td>Crafty Lumberjacks </td><td>28000</td></tr><tr><td>Falkland Islands (Malvinas)</td><td>Autism Adventures</td><td>21000</td></tr><tr><td>Faroe Islands</td><td>QC Event School</td><td>511</td></tr><tr><td>Fiji</td><td>Homeschool Giveaways and Freebies</td><td>99000</td></tr><tr><td>Finland</td><td>Melissa</td><td>4000</td></tr><tr><td>France</td><td>Hey Pretty Beauty Blog</td><td>7000</td></tr><tr><td>French Guiana</td><td>Sweet Red Poppy Free Sewing Patterns, Cut Files & Craft Tutorials</td><td>241000</td></tr><tr><td>French Polynesia</td><td>The Printable Princess</td><td>52000</td></tr><tr><td>French Southern Territories</td><td>Mary at Home is Where the Boat Is</td><td>59000</td></tr><tr><td>Gambia</td><td>Josi Pellicano</td><td>6000</td></tr><tr><td>Georgia</td><td>Science of Curiosity</td><td>9000</td></tr><tr><td>Germany</td><td>Middle Class Dad</td><td>10000</td></tr><tr><td>Gibraltar</td><td>TheSuperBOO!</td><td>89000</td></tr><tr><td>Greece</td><td>Terry Bain</td><td>578</td></tr><tr><td>Greenland</td><td>Marcie Quinn</td><td>5</td></tr><tr><td>Grenada</td><td>LOCARI</td><td>256000</td></tr><tr><td>Guadeloupe</td><td>Jess Abbott | The Sewing Rabbit</td><td>123000</td></tr><tr><td>Guatemala</td><td>GrowingSlower</td><td>30000</td></tr><tr><td>Guernsey</td><td>Quentin Weed</td><td>39</td></tr><tr><td>Guinea</td><td>Woodchuck's Fine Furniture and Decor</td><td>320</td></tr><tr><td>Guinea-Bissau</td><td>The Inspiration Edit - Best Instant Pot Recipes And Kids Crafts</td><td>56000</td></tr><tr><td>Guyana</td><td>J ♥ Millennial Boss</td><td>29000</td></tr><tr><td>Haiti</td><td>jane at home | decor and design</td><td>79000</td></tr><tr><td>Heard Island and McDonald Islands</td><td>Car and Driver</td><td>50000</td></tr><tr><td>Hong Kong</td><td>Product Compass</td><td>29000</td></tr><tr><td>Hungary</td><td>BalsaCircle</td><td>2000</td></tr><tr><td>India</td><td>Travel Mad Mum</td><td>7000</td></tr><tr><td>Indonesia</td><td>Latoya | Life and a Budget</td><td>24000</td></tr><tr><td>Iran</td><td>Real Ways to Earn | Work From Home + Home Business + Extra Cash</td><td>151000</td></tr><tr><td>Iraq</td><td>LeStyleParfait Fashion Clothing, Shoes, Bags</td><td>40000</td></tr><tr><td>Isle of Man</td><td>Abbotts At Home</td><td>52000</td></tr><tr><td>Israel</td><td>LISA MASLYK / VOICE OVER TALENT /ACTOR</td><td>3000</td></tr><tr><td>Jamaica</td><td>hobbyDB</td><td>8000</td></tr><tr><td>Japan</td><td>Eyes On Walls</td><td>17000</td></tr><tr><td>Jordan</td><td>Michelozzo Custom Dress Shirts</td><td>17000</td></tr><tr><td>Kenya</td><td>FOURLINE DESIGN | Home Decor & Accessories</td><td>26000</td></tr><tr><td>Kiribati</td><td>Coolnvintage</td><td>6000</td></tr><tr><td>Korea</td><td>Latest Hairstyles</td><td>627000</td></tr><tr><td>Kuwait</td><td>Green Wedding Shoes</td><td>2000000</td></tr><tr><td>Kyrgyz Republic</td><td>Freepik</td><td>2000000</td></tr><tr><td>Latvia</td><td>Royal Fashionist</td><td>188000</td></tr><tr><td>Lebanon</td><td>Your Positive Oasis | Motivation| Inspiration| Wellness</td><td>163000</td></tr><tr><td>Lesotho</td><td>The Guardian</td><td>908000</td></tr><tr><td>Liechtenstein</td><td>Sophie's Way</td><td>10000</td></tr><tr><td>Lithuania</td><td>Kyra</td><td>34</td></tr><tr><td>Macao</td><td>Cassie May - Little Red Window Crafts, DIY, crafts, tutorials and knitting patterns! Cassie May - Little Red Window Crafts, DIY, crafts, tutorials and knitting patterns! Edit settings Cassie May - Little Red Window Crafts, DIY, crafts, tutorials and knitting patterns!</td><td>66000</td></tr><tr><td>Madagascar</td><td>MomAdvice</td><td>112000</td></tr><tr><td>Malawi</td><td>Avenly Lane | Beauty, Fashion & Travel Inspiration</td><td>14000</td></tr><tr><td>Maldives</td><td>Parents</td><td>416000</td></tr><tr><td>Mali</td><td>Mobile Home Living®</td><td>122000</td></tr><tr><td>Malta</td><td>Chi-Wei Shih</td><td>57</td></tr><tr><td>Marshall Islands</td><td>Dashing Darlin' </td><td>13000</td></tr><tr><td>Mauritania</td><td>The Literacy Nest</td><td>22000</td></tr><tr><td>Mayotte</td><td>Ali Martin (Gimme Some Oven)</td><td>766000</td></tr><tr><td>Mexico</td><td>Chris Hansen</td><td>492</td></tr><tr><td>Moldova</td><td>Upcycle My Stuff - DIY Projects | Repurposing | Upcycling</td><td>22000</td></tr><tr><td>Monaco</td><td>Hum3D | Car 3D models</td><td>48000</td></tr><tr><td>Montserrat</td><td>EBUYTIDE</td><td>88000</td></tr><tr><td>Morocco</td><td>Two Southern Sweeties | Life After 50 + Second Act Lifestyle</td><td>13000</td></tr><tr><td>Mozambique</td><td>Stylin by Aylin</td><td>83000</td></tr><tr><td>Namibia</td><td>Snappy Gourmet</td><td>168000</td></tr><tr><td>Nauru</td><td>Austen Tosone | NYC Blogger | Fashion + Beauty</td><td>23000</td></tr><tr><td>Netherlands</td><td>PUFIK Interiors & Inspirations</td><td>136000</td></tr><tr><td>Netherlands Antilles</td><td>Kim Cook-Thirteen Chairs-Slates Mugs And Tees</td><td>7000</td></tr><tr><td>New Caledonia</td><td>Au'vey Smith</td><td>377</td></tr><tr><td>Nicaragua</td><td>Land Rover USA</td><td>9000</td></tr><tr><td>Niger</td><td>The Habit Flow | Social Media Design | Templates | Abstract Art</td><td>135</td></tr><tr><td>Nigeria</td><td>eyelashdance</td><td>164</td></tr><tr><td>Norfolk Island</td><td>Lifestyle DIYW \"Live Life & Do IT Your Way\"</td><td>6000</td></tr><tr><td>Norway</td><td>DailyDose</td><td>189</td></tr><tr><td>Oman</td><td>Nifty</td><td>2000000</td></tr><tr><td>Panama</td><td>Alanna | Periodic Adventures</td><td>1000</td></tr><tr><td>Papua New Guinea</td><td>AnnaLee Kick</td><td>112</td></tr><tr><td>Peru</td><td>Clar</td><td>21</td></tr><tr><td>Philippines</td><td>Life of Neon | Custom Neon Light Signs | Home Decor Wall Art</td><td>111</td></tr><tr><td>Pitcairn Islands</td><td>Marla Meridith</td><td>671000</td></tr><tr><td>Portugal</td><td>Lindsey Blogs</td><td>29000</td></tr><tr><td>Puerto Rico</td><td>Book More Brides</td><td>1000</td></tr><tr><td>Qatar</td><td>604 Now</td><td>972</td></tr><tr><td>Romania</td><td>Soberbadassery | Your Free Online Guide To Sober Living </td><td>9000</td></tr><tr><td>Russian Federation</td><td>Bolig Magasinet</td><td>69000</td></tr><tr><td>Saint Barthelemy</td><td>Peter Dikhazi</td><td>18</td></tr><tr><td>Saint Kitts and Nevis</td><td>vintagetopia</td><td>171000</td></tr><tr><td>Saint Martin</td><td>Cracked</td><td>161000</td></tr><tr><td>Saint Pierre and Miquelon</td><td>BC Creatives // Self Care, Blogging & Work From Home Tips ✨</td><td>10000</td></tr><tr><td>Saint Vincent and the Grenadines</td><td>Home Etc</td><td>13</td></tr><tr><td>San Marino</td><td>Sammy Davis Vintage</td><td>23000</td></tr><tr><td>Saudi Arabia</td><td>The Navage Patch®</td><td>136000</td></tr><tr><td>Senegal</td><td>LeShara Fisher</td><td>353</td></tr><tr><td>Seychelles</td><td>ALL FOR WOMAN</td><td>21000</td></tr><tr><td>Singapore</td><td>CHRISTIAN CHÊNE</td><td>3000</td></tr><tr><td>Solomon Islands</td><td>Upcyclist</td><td>7000</td></tr><tr><td>Somalia</td><td>Caroline Rose Travel | Solo, Budget and Adventure Travel Blogger</td><td>788</td></tr><tr><td>Sudan</td><td>iElylike ..✿◕‿◕✿ஐ✿◕‿◕✿</td><td>940</td></tr><tr><td>Svalbard & Jan Mayen Islands</td><td>Merissa (Little House Living) | Simple Living + Frugal Living</td><td>152000</td></tr><tr><td>Sweden</td><td>Milan Singh | Finance & Business</td><td>13000</td></tr><tr><td>Taiwan</td><td>Sherry Truhlar</td><td>2000</td></tr><tr><td>Thailand</td><td>Debbie Gartner | The Flooring Girl | Hardwood Floors & Paint Tips</td><td>68000</td></tr><tr><td>Tokelau</td><td>Lexi</td><td>52</td></tr><tr><td>Tonga</td><td>Grecia Perales</td><td>0</td></tr><tr><td>Tunisia</td><td>Travel with Munia</td><td>2000</td></tr><tr><td>Turkey</td><td>My Little Poppies (Cait Curley, MA/CAGS)</td><td>9000</td></tr><tr><td>Turkmenistan</td><td>Dionne ❤️ Home & Life Organized</td><td>7000</td></tr><tr><td>Turks and Caicos Islands</td><td>I.A. Planning</td><td>7</td></tr><tr><td>Tuvalu</td><td>Addymae Rodi</td><td>41</td></tr><tr><td>Uganda</td><td>Hair Accessories</td><td>22</td></tr><tr><td>United Kingdom</td><td>Alisha at Picture the Magic</td><td>19000</td></tr><tr><td>United States Minor Outlying Islands</td><td>Pretty Designs</td><td>892000</td></tr><tr><td>United States Virgin Islands</td><td>Renee Slansky  Dating + Relationship Coach -The Dating Directory </td><td>12000</td></tr><tr><td>United States of America</td><td>Alicia Greenwood</td><td>0</td></tr><tr><td>Venezuela</td><td>SimpleStepsMax | Investing | Save Money | Make Money</td><td>612</td></tr><tr><td>Vietnam</td><td>Worthing Court Blog</td><td>70000</td></tr><tr><td>Wallis and Futuna</td><td>Organize Ways</td><td>2000</td></tr></tbody></table></div>"
      ]
     },
     "metadata": {
      "application/vnd.databricks.v1+output": {
       "addedWidgets": {},
       "aggData": [],
       "aggError": "",
       "aggOverflow": false,
       "aggSchema": [],
       "aggSeriesLimitReached": false,
       "aggType": "",
       "arguments": {},
       "columnCustomDisplayInfos": {},
       "data": [
        [
         "Afghanistan",
         "Walmart",
         2000000
        ],
        [
         "Albania",
         "The Minds Journal",
         5000000
        ],
        [
         "Algeria",
         "Apartment Therapy",
         5000000
        ],
        [
         "American Samoa",
         "Mamas Uncut",
         8000000
        ],
        [
         "Andorra",
         "Teachers Pay Teachers",
         1000000
        ],
        [
         "Angola",
         "CraftGossip.com",
         502000
        ],
        [
         "Anguilla",
         "Kara's Party Ideas .com",
         736000
        ],
        [
         "Antarctica (the territory South of 60 deg S)",
         "HikenDip",
         501000
        ],
        [
         "Antigua and Barbuda",
         "Country Living Magazine",
         1000000
        ],
        [
         "Argentina",
         "Cheezburger",
         2000000
        ],
        [
         "Armenia",
         "Michelle {CraftyMorning.com}",
         892000
        ],
        [
         "Aruba",
         "TheTrendSpotter",
         211000
        ],
        [
         "Australia",
         "Cultura Colectiva",
         1000000
        ],
        [
         "Austria",
         "The World Pursuit Travel Website",
         89000
        ],
        [
         "Azerbaijan",
         "Style Me Pretty",
         6000000
        ],
        [
         "Bahamas",
         "Handmade Charlotte",
         948000
        ],
        [
         "Bahrain",
         "Rainy Day Mum",
         337000
        ],
        [
         "Bangladesh",
         "Better Homes and Gardens",
         4000000
        ],
        [
         "Barbados",
         "The Creativity Exchange",
         410000
        ],
        [
         "Belarus",
         "Prudent Penny Pincher - Home Decor, Organization, Crafts, Recipes",
         647000
        ],
        [
         "Belgium",
         "Happy Toddler Playtime",
         73000
        ],
        [
         "Belize",
         "Julia Berolzheimer",
         399000
        ],
        [
         "Benin",
         "fashionchaser | nails,hairstyle,tattoo",
         23000
        ],
        [
         "Bermuda",
         "Life on Summerhill | Home, Holiday Decor & DIY Website",
         46000
        ],
        [
         "Bhutan",
         "diana ajih",
         141000
        ],
        [
         "Bolivia",
         "Kimberly West (a girl and a glue gun)",
         243000
        ],
        [
         "Bosnia and Herzegovina",
         "5-Minute Crafts Family",
         370000
        ],
        [
         "Botswana",
         "OkChicas",
         3000000
        ],
        [
         "Bouvet Island (Bouvetoya)",
         "POPSUGAR",
         5000000
        ],
        [
         "Brazil",
         "Budget with Rachel",
         11000
        ],
        [
         "British Indian Ocean Territory (Chagos Archipelago)",
         "Budgets Are Sexy | Save Money + Grow Your Net Worth",
         11000
        ],
        [
         "British Virgin Islands",
         "Kitchen Fun With My 3 Sons",
         245000
        ],
        [
         "Brunei Darussalam",
         "Purpose Driven Living Home",
         31000
        ],
        [
         "Bulgaria",
         "Half Baked Harvest",
         912000
        ],
        [
         "Burkina Faso",
         "Home Hacks",
         235000
        ],
        [
         "Burundi",
         "Cute Cat Videos",
         373
        ],
        [
         "Cambodia",
         "Catch My Party",
         2000000
        ],
        [
         "Cameroon",
         "Made to be a Momma",
         85000
        ],
        [
         "Canada",
         "Giorgenti New York",
         258000
        ],
        [
         "Cape Verde",
         "Sand and Sisal",
         178000
        ],
        [
         "Cayman Islands",
         "How Wee Learn",
         383000
        ],
        [
         "Central African Republic",
         "PureWow",
         868000
        ],
        [
         "Chad",
         "Glued To My Crafts",
         226000
        ],
        [
         "Chile",
         "Amber Strong - The Maker’s Map | DIY’s, Crafts & Home Decor",
         19000
        ],
        [
         "China",
         "Josie Lewis Art",
         195000
        ],
        [
         "Christmas Island",
         "Instructables",
         3000000
        ],
        [
         "Cocos (Keeling) Islands",
         "Zero Debt Coach | Money Courses & Coaching (I Follow Back)",
         13000
        ],
        [
         "Colombia",
         "Renata’s Boutique",
         27
        ],
        [
         "Comoros",
         "Becky Mansfield - YourModernFamily ",
         196000
        ],
        [
         "Congo",
         "He and She Eat Clean",
         88000
        ],
        [
         "Cook Islands",
         "SeedTime (Money Tips)",
         77000
        ],
        [
         "Costa Rica",
         "Liz Marie",
         309000
        ],
        [
         "Cote d'Ivoire",
         "The Crafting Chicks",
         192000
        ],
        [
         "Cuba",
         "Listotic - Easy Ideas | Fun DIY Projects | Easy Recipes | Lists",
         307000
        ],
        [
         "Czech Republic",
         "Todd | Financial Mentor",
         7000
        ],
        [
         "Denmark",
         "A Life Adjacent",
         36000
        ],
        [
         "Djibouti",
         "Instrupix | Lilly Childers",
         275000
        ],
        [
         "Dominica",
         "Monique - Living Life and Learning",
         67000
        ],
        [
         "Dominican Republic",
         "Mrs. P's Specialties- Educational Resources",
         20000
        ],
        [
         "Ecuador",
         "Midwest Jewelers & Estate Buyers",
         265
        ],
        [
         "Egypt",
         "Allure",
         346000
        ],
        [
         "El Salvador",
         "Power of Positivity",
         221000
        ],
        [
         "Equatorial Guinea",
         "MarQuai Romari",
         31
        ],
        [
         "Ethiopia",
         "Crafty Lumberjacks ",
         28000
        ],
        [
         "Falkland Islands (Malvinas)",
         "Autism Adventures",
         21000
        ],
        [
         "Faroe Islands",
         "QC Event School",
         511
        ],
        [
         "Fiji",
         "Homeschool Giveaways and Freebies",
         99000
        ],
        [
         "Finland",
         "Melissa",
         4000
        ],
        [
         "France",
         "Hey Pretty Beauty Blog",
         7000
        ],
        [
         "French Guiana",
         "Sweet Red Poppy Free Sewing Patterns, Cut Files & Craft Tutorials",
         241000
        ],
        [
         "French Polynesia",
         "The Printable Princess",
         52000
        ],
        [
         "French Southern Territories",
         "Mary at Home is Where the Boat Is",
         59000
        ],
        [
         "Gambia",
         "Josi Pellicano",
         6000
        ],
        [
         "Georgia",
         "Science of Curiosity",
         9000
        ],
        [
         "Germany",
         "Middle Class Dad",
         10000
        ],
        [
         "Gibraltar",
         "TheSuperBOO!",
         89000
        ],
        [
         "Greece",
         "Terry Bain",
         578
        ],
        [
         "Greenland",
         "Marcie Quinn",
         5
        ],
        [
         "Grenada",
         "LOCARI",
         256000
        ],
        [
         "Guadeloupe",
         "Jess Abbott | The Sewing Rabbit",
         123000
        ],
        [
         "Guatemala",
         "GrowingSlower",
         30000
        ],
        [
         "Guernsey",
         "Quentin Weed",
         39
        ],
        [
         "Guinea",
         "Woodchuck's Fine Furniture and Decor",
         320
        ],
        [
         "Guinea-Bissau",
         "The Inspiration Edit - Best Instant Pot Recipes And Kids Crafts",
         56000
        ],
        [
         "Guyana",
         "J ♥ Millennial Boss",
         29000
        ],
        [
         "Haiti",
         "jane at home | decor and design",
         79000
        ],
        [
         "Heard Island and McDonald Islands",
         "Car and Driver",
         50000
        ],
        [
         "Hong Kong",
         "Product Compass",
         29000
        ],
        [
         "Hungary",
         "BalsaCircle",
         2000
        ],
        [
         "India",
         "Travel Mad Mum",
         7000
        ],
        [
         "Indonesia",
         "Latoya | Life and a Budget",
         24000
        ],
        [
         "Iran",
         "Real Ways to Earn | Work From Home + Home Business + Extra Cash",
         151000
        ],
        [
         "Iraq",
         "LeStyleParfait Fashion Clothing, Shoes, Bags",
         40000
        ],
        [
         "Isle of Man",
         "Abbotts At Home",
         52000
        ],
        [
         "Israel",
         "LISA MASLYK / VOICE OVER TALENT /ACTOR",
         3000
        ],
        [
         "Jamaica",
         "hobbyDB",
         8000
        ],
        [
         "Japan",
         "Eyes On Walls",
         17000
        ],
        [
         "Jordan",
         "Michelozzo Custom Dress Shirts",
         17000
        ],
        [
         "Kenya",
         "FOURLINE DESIGN | Home Decor & Accessories",
         26000
        ],
        [
         "Kiribati",
         "Coolnvintage",
         6000
        ],
        [
         "Korea",
         "Latest Hairstyles",
         627000
        ],
        [
         "Kuwait",
         "Green Wedding Shoes",
         2000000
        ],
        [
         "Kyrgyz Republic",
         "Freepik",
         2000000
        ],
        [
         "Latvia",
         "Royal Fashionist",
         188000
        ],
        [
         "Lebanon",
         "Your Positive Oasis | Motivation| Inspiration| Wellness",
         163000
        ],
        [
         "Lesotho",
         "The Guardian",
         908000
        ],
        [
         "Liechtenstein",
         "Sophie's Way",
         10000
        ],
        [
         "Lithuania",
         "Kyra",
         34
        ],
        [
         "Macao",
         "Cassie May - Little Red Window Crafts, DIY, crafts, tutorials and knitting patterns! Cassie May - Little Red Window Crafts, DIY, crafts, tutorials and knitting patterns! Edit settings Cassie May - Little Red Window Crafts, DIY, crafts, tutorials and knitting patterns!",
         66000
        ],
        [
         "Madagascar",
         "MomAdvice",
         112000
        ],
        [
         "Malawi",
         "Avenly Lane | Beauty, Fashion & Travel Inspiration",
         14000
        ],
        [
         "Maldives",
         "Parents",
         416000
        ],
        [
         "Mali",
         "Mobile Home Living®",
         122000
        ],
        [
         "Malta",
         "Chi-Wei Shih",
         57
        ],
        [
         "Marshall Islands",
         "Dashing Darlin' ",
         13000
        ],
        [
         "Mauritania",
         "The Literacy Nest",
         22000
        ],
        [
         "Mayotte",
         "Ali Martin (Gimme Some Oven)",
         766000
        ],
        [
         "Mexico",
         "Chris Hansen",
         492
        ],
        [
         "Moldova",
         "Upcycle My Stuff - DIY Projects | Repurposing | Upcycling",
         22000
        ],
        [
         "Monaco",
         "Hum3D | Car 3D models",
         48000
        ],
        [
         "Montserrat",
         "EBUYTIDE",
         88000
        ],
        [
         "Morocco",
         "Two Southern Sweeties | Life After 50 + Second Act Lifestyle",
         13000
        ],
        [
         "Mozambique",
         "Stylin by Aylin",
         83000
        ],
        [
         "Namibia",
         "Snappy Gourmet",
         168000
        ],
        [
         "Nauru",
         "Austen Tosone | NYC Blogger | Fashion + Beauty",
         23000
        ],
        [
         "Netherlands",
         "PUFIK Interiors & Inspirations",
         136000
        ],
        [
         "Netherlands Antilles",
         "Kim Cook-Thirteen Chairs-Slates Mugs And Tees",
         7000
        ],
        [
         "New Caledonia",
         "Au'vey Smith",
         377
        ],
        [
         "Nicaragua",
         "Land Rover USA",
         9000
        ],
        [
         "Niger",
         "The Habit Flow | Social Media Design | Templates | Abstract Art",
         135
        ],
        [
         "Nigeria",
         "eyelashdance",
         164
        ],
        [
         "Norfolk Island",
         "Lifestyle DIYW \"Live Life & Do IT Your Way\"",
         6000
        ],
        [
         "Norway",
         "DailyDose",
         189
        ],
        [
         "Oman",
         "Nifty",
         2000000
        ],
        [
         "Panama",
         "Alanna | Periodic Adventures",
         1000
        ],
        [
         "Papua New Guinea",
         "AnnaLee Kick",
         112
        ],
        [
         "Peru",
         "Clar",
         21
        ],
        [
         "Philippines",
         "Life of Neon | Custom Neon Light Signs | Home Decor Wall Art",
         111
        ],
        [
         "Pitcairn Islands",
         "Marla Meridith",
         671000
        ],
        [
         "Portugal",
         "Lindsey Blogs",
         29000
        ],
        [
         "Puerto Rico",
         "Book More Brides",
         1000
        ],
        [
         "Qatar",
         "604 Now",
         972
        ],
        [
         "Romania",
         "Soberbadassery | Your Free Online Guide To Sober Living ",
         9000
        ],
        [
         "Russian Federation",
         "Bolig Magasinet",
         69000
        ],
        [
         "Saint Barthelemy",
         "Peter Dikhazi",
         18
        ],
        [
         "Saint Kitts and Nevis",
         "vintagetopia",
         171000
        ],
        [
         "Saint Martin",
         "Cracked",
         161000
        ],
        [
         "Saint Pierre and Miquelon",
         "BC Creatives // Self Care, Blogging & Work From Home Tips ✨",
         10000
        ],
        [
         "Saint Vincent and the Grenadines",
         "Home Etc",
         13
        ],
        [
         "San Marino",
         "Sammy Davis Vintage",
         23000
        ],
        [
         "Saudi Arabia",
         "The Navage Patch®",
         136000
        ],
        [
         "Senegal",
         "LeShara Fisher",
         353
        ],
        [
         "Seychelles",
         "ALL FOR WOMAN",
         21000
        ],
        [
         "Singapore",
         "CHRISTIAN CHÊNE",
         3000
        ],
        [
         "Solomon Islands",
         "Upcyclist",
         7000
        ],
        [
         "Somalia",
         "Caroline Rose Travel | Solo, Budget and Adventure Travel Blogger",
         788
        ],
        [
         "Sudan",
         "iElylike ..✿◕‿◕✿ஐ✿◕‿◕✿",
         940
        ],
        [
         "Svalbard & Jan Mayen Islands",
         "Merissa (Little House Living) | Simple Living + Frugal Living",
         152000
        ],
        [
         "Sweden",
         "Milan Singh | Finance & Business",
         13000
        ],
        [
         "Taiwan",
         "Sherry Truhlar",
         2000
        ],
        [
         "Thailand",
         "Debbie Gartner | The Flooring Girl | Hardwood Floors & Paint Tips",
         68000
        ],
        [
         "Tokelau",
         "Lexi",
         52
        ],
        [
         "Tonga",
         "Grecia Perales",
         0
        ],
        [
         "Tunisia",
         "Travel with Munia",
         2000
        ],
        [
         "Turkey",
         "My Little Poppies (Cait Curley, MA/CAGS)",
         9000
        ],
        [
         "Turkmenistan",
         "Dionne ❤️ Home & Life Organized",
         7000
        ],
        [
         "Turks and Caicos Islands",
         "I.A. Planning",
         7
        ],
        [
         "Tuvalu",
         "Addymae Rodi",
         41
        ],
        [
         "Uganda",
         "Hair Accessories",
         22
        ],
        [
         "United Kingdom",
         "Alisha at Picture the Magic",
         19000
        ],
        [
         "United States Minor Outlying Islands",
         "Pretty Designs",
         892000
        ],
        [
         "United States Virgin Islands",
         "Renee Slansky  Dating + Relationship Coach -The Dating Directory ",
         12000
        ],
        [
         "United States of America",
         "Alicia Greenwood",
         0
        ],
        [
         "Venezuela",
         "SimpleStepsMax | Investing | Save Money | Make Money",
         612
        ],
        [
         "Vietnam",
         "Worthing Court Blog",
         70000
        ],
        [
         "Wallis and Futuna",
         "Organize Ways",
         2000
        ]
       ],
       "datasetInfos": [],
       "dbfsResultPath": null,
       "isJsonSchema": true,
       "metadata": {
        "isDbfsCommandResult": false
       },
       "overflow": false,
       "plotOptions": {
        "customPlotOptions": {},
        "displayType": "table",
        "pivotAggregation": null,
        "pivotColumns": null,
        "xColumns": null,
        "yColumns": null
       },
       "removedWidgets": [],
       "schema": [
        {
         "metadata": "{}",
         "name": "country",
         "type": "\"string\""
        },
        {
         "metadata": "{}",
         "name": "poster_name",
         "type": "\"string\""
        },
        {
         "metadata": "{}",
         "name": "follower_count",
         "type": "\"integer\""
        }
       ],
       "type": "table"
      }
     },
     "output_type": "display_data"
    }
   ],
   "source": [
    "SELECT * FROM most_followed_users;"
   ]
  },
  {
   "cell_type": "code",
   "execution_count": 0,
   "metadata": {
    "application/vnd.databricks.v1+cell": {
     "cellMetadata": {
      "byteLimit": 2048000,
      "rowLimit": 10000
     },
     "inputWidgets": {},
     "nuid": "34b84b2b-1df9-466e-b64c-3e89f4f93524",
     "showTitle": false,
     "tableResultSettingsMap": {},
     "title": ""
    }
   },
   "outputs": [
    {
     "output_type": "display_data",
     "data": {
      "text/html": [
       "<style scoped>\n",
       "  .table-result-container {\n",
       "    max-height: 300px;\n",
       "    overflow: auto;\n",
       "  }\n",
       "  table, th, td {\n",
       "    border: 1px solid black;\n",
       "    border-collapse: collapse;\n",
       "  }\n",
       "  th, td {\n",
       "    padding: 5px;\n",
       "  }\n",
       "  th {\n",
       "    text-align: left;\n",
       "  }\n",
       "</style><div class='table-result-container'><table class='table-result'><thead style='background-color: white'><tr><th>country</th><th>follower_count</th></tr></thead><tbody><tr><td>American Samoa</td><td>8000000</td></tr></tbody></table></div>"
      ]
     },
     "metadata": {
      "application/vnd.databricks.v1+output": {
       "addedWidgets": {},
       "aggData": [],
       "aggError": "",
       "aggOverflow": false,
       "aggSchema": [],
       "aggSeriesLimitReached": false,
       "aggType": "",
       "arguments": {},
       "columnCustomDisplayInfos": {},
       "data": [
        [
         "American Samoa",
         8000000
        ]
       ],
       "datasetInfos": [],
       "dbfsResultPath": null,
       "isJsonSchema": true,
       "metadata": {
        "isDbfsCommandResult": false
       },
       "overflow": false,
       "plotOptions": {
        "customPlotOptions": {},
        "displayType": "table",
        "pivotAggregation": null,
        "pivotColumns": null,
        "xColumns": null,
        "yColumns": null
       },
       "removedWidgets": [],
       "schema": [
        {
         "metadata": "{}",
         "name": "country",
         "type": "\"string\""
        },
        {
         "metadata": "{}",
         "name": "follower_count",
         "type": "\"integer\""
        }
       ],
       "type": "table"
      }
     },
     "output_type": "display_data"
    }
   ],
   "source": [
    "SELECT \n",
    "    country,\n",
    "    follower_count\n",
    "FROM \n",
    "    most_followed_users\n",
    "ORDER BY \n",
    "    follower_count DESC\n",
    "LIMIT 1;\n"
   ]
  }
 ],
 "metadata": {
  "application/vnd.databricks.v1+notebook": {
   "computePreferences": null,
   "dashboards": [],
   "environmentMetadata": {
    "base_environment": "",
    "client": "2"
   },
   "language": "sql",
   "notebookMetadata": {},
   "notebookName": "most_followed_users",
   "widgets": {}
  },
  "language_info": {
   "name": "sql"
  }
 },
 "nbformat": 4,
 "nbformat_minor": 0
}