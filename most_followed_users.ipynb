{
 "cells": [
  {
   "cell_type": "code",
   "execution_count": 0,
   "metadata": {
    "application/vnd.databricks.v1+cell": {
     "cellMetadata": {
      "byteLimit": 2048000,
      "rowLimit": 10000
     },
     "inputWidgets": {},
     "nuid": "47fdd06b-c7d7-468d-97f1-779f3b20cc0c",
     "showTitle": false,
     "tableResultSettingsMap": {},
     "title": ""
    }
   },
   "outputs": [
    {
     "output_type": "display_data",
     "data": {
      "text/html": [
       "<style scoped>\n",
       "  .table-result-container {\n",
       "    max-height: 300px;\n",
       "    overflow: auto;\n",
       "  }\n",
       "  table, th, td {\n",
       "    border: 1px solid black;\n",
       "    border-collapse: collapse;\n",
       "  }\n",
       "  th, td {\n",
       "    padding: 5px;\n",
       "  }\n",
       "  th {\n",
       "    text-align: left;\n",
       "  }\n",
       "</style><div class='table-result-container'><table class='table-result'><thead style='background-color: white'><tr></tr></thead><tbody></tbody></table></div>"
      ]
     },
     "metadata": {
      "application/vnd.databricks.v1+output": {
       "addedWidgets": {},
       "aggData": [],
       "aggError": "",
       "aggOverflow": false,
       "aggSchema": [],
       "aggSeriesLimitReached": false,
       "aggType": "",
       "arguments": {},
       "columnCustomDisplayInfos": {},
       "data": [],
       "datasetInfos": [],
       "dbfsResultPath": null,
       "isJsonSchema": true,
       "metadata": {
        "isDbfsCommandResult": false
       },
       "overflow": false,
       "plotOptions": {
        "customPlotOptions": {},
        "displayType": "table",
        "pivotAggregation": null,
        "pivotColumns": null,
        "xColumns": null,
        "yColumns": null
       },
       "removedWidgets": [],
       "schema": [],
       "type": "table"
      }
     },
     "output_type": "display_data"
    }
   ],
   "source": [
    "USE pinterest_data\n"
   ]
  },
  {
   "cell_type": "code",
   "execution_count": 0,
   "metadata": {
    "application/vnd.databricks.v1+cell": {
     "cellMetadata": {
      "byteLimit": 2048000,
      "rowLimit": 10000
     },
     "inputWidgets": {},
     "nuid": "7a494fe2-c15b-4889-bead-6b2c12d616f3",
     "showTitle": false,
     "tableResultSettingsMap": {},
     "title": ""
    }
   },
   "outputs": [
    {
     "output_type": "display_data",
     "data": {
      "text/html": [
       "<style scoped>\n",
       "  .table-result-container {\n",
       "    max-height: 300px;\n",
       "    overflow: auto;\n",
       "  }\n",
       "  table, th, td {\n",
       "    border: 1px solid black;\n",
       "    border-collapse: collapse;\n",
       "  }\n",
       "  th, td {\n",
       "    padding: 5px;\n",
       "  }\n",
       "  th {\n",
       "    text-align: left;\n",
       "  }\n",
       "</style><div class='table-result-container'><table class='table-result'><thead style='background-color: white'><tr></tr></thead><tbody></tbody></table></div>"
      ]
     },
     "metadata": {
      "application/vnd.databricks.v1+output": {
       "addedWidgets": {},
       "aggData": [],
       "aggError": "",
       "aggOverflow": false,
       "aggSchema": [],
       "aggSeriesLimitReached": false,
       "aggType": "",
       "arguments": {},
       "columnCustomDisplayInfos": {},
       "data": [],
       "datasetInfos": [],
       "dbfsResultPath": null,
       "isJsonSchema": true,
       "metadata": {
        "isDbfsCommandResult": false
       },
       "overflow": false,
       "plotOptions": {
        "customPlotOptions": {},
        "displayType": "table",
        "pivotAggregation": null,
        "pivotColumns": null,
        "xColumns": null,
        "yColumns": null
       },
       "removedWidgets": [],
       "schema": [],
       "type": "table"
      }
     },
     "output_type": "display_data"
    }
   ],
   "source": [
    "CREATE OR REPLACE TEMP VIEW most_followed_users_ranked AS\n",
    "SELECT \n",
    "    df_geo.country,\n",
    "    df_pin.poster_name,\n",
    "    df_pin.follower_count,\n",
    "    ROW_NUMBER() OVER (PARTITION BY df_geo.country ORDER BY df_pin.follower_count DESC) AS rank\n",
    "FROM \n",
    "    df_geo\n",
    "JOIN \n",
    "    df_pin \n",
    "    ON df_geo.ind = df_pin.ind;"
   ]
  },
  {
   "cell_type": "code",
   "execution_count": 0,
   "metadata": {
    "application/vnd.databricks.v1+cell": {
     "cellMetadata": {
      "byteLimit": 2048000,
      "rowLimit": 10000
     },
     "inputWidgets": {},
     "nuid": "7f3626ec-db53-41d8-8710-02a322d79a80",
     "showTitle": false,
     "tableResultSettingsMap": {},
     "title": ""
    }
   },
   "outputs": [],
   "source": [
    "/* SELECT * FROM most_followed_users_ranked; */"
   ]
  },
  {
   "cell_type": "code",
   "execution_count": 0,
   "metadata": {
    "application/vnd.databricks.v1+cell": {
     "cellMetadata": {
      "byteLimit": 2048000,
      "rowLimit": 10000
     },
     "inputWidgets": {},
     "nuid": "5819ee78-4a79-49af-a7ea-c5e9144c3e77",
     "showTitle": false,
     "tableResultSettingsMap": {},
     "title": ""
    }
   },
   "outputs": [
    {
     "output_type": "display_data",
     "data": {
      "text/html": [
       "<style scoped>\n",
       "  .table-result-container {\n",
       "    max-height: 300px;\n",
       "    overflow: auto;\n",
       "  }\n",
       "  table, th, td {\n",
       "    border: 1px solid black;\n",
       "    border-collapse: collapse;\n",
       "  }\n",
       "  th, td {\n",
       "    padding: 5px;\n",
       "  }\n",
       "  th {\n",
       "    text-align: left;\n",
       "  }\n",
       "</style><div class='table-result-container'><table class='table-result'><thead style='background-color: white'><tr></tr></thead><tbody></tbody></table></div>"
      ]
     },
     "metadata": {
      "application/vnd.databricks.v1+output": {
       "addedWidgets": {},
       "aggData": [],
       "aggError": "",
       "aggOverflow": false,
       "aggSchema": [],
       "aggSeriesLimitReached": false,
       "aggType": "",
       "arguments": {},
       "columnCustomDisplayInfos": {},
       "data": [],
       "datasetInfos": [],
       "dbfsResultPath": null,
       "isJsonSchema": true,
       "metadata": {
        "isDbfsCommandResult": false
       },
       "overflow": false,
       "plotOptions": {
        "customPlotOptions": {},
        "displayType": "table",
        "pivotAggregation": null,
        "pivotColumns": null,
        "xColumns": null,
        "yColumns": null
       },
       "removedWidgets": [],
       "schema": [],
       "type": "table"
      }
     },
     "output_type": "display_data"
    }
   ],
   "source": [
    "CREATE OR REPLACE TEMP VIEW most_followed_users AS\n",
    "SELECT \n",
    "    country,\n",
    "    poster_name,\n",
    "    follower_count\n",
    "FROM \n",
    "    most_followed_users_ranked\n",
    "WHERE \n",
    "    rank = 1\n",
    "ORDER BY \n",
    "    country;"
   ]
  },
  {
   "cell_type": "code",
   "execution_count": 0,
   "metadata": {
    "application/vnd.databricks.v1+cell": {
     "cellMetadata": {
      "byteLimit": 2048000,
      "rowLimit": 10000
     },
     "inputWidgets": {},
     "nuid": "2761776a-ea2f-4ddd-8012-a95b61d45cb3",
     "showTitle": false,
     "tableResultSettingsMap": {},
     "title": ""
    }
   },
   "outputs": [
    {
     "output_type": "display_data",
     "data": {
      "text/html": [
       "<style scoped>\n",
       "  .table-result-container {\n",
       "    max-height: 300px;\n",
       "    overflow: auto;\n",
       "  }\n",
       "  table, th, td {\n",
       "    border: 1px solid black;\n",
       "    border-collapse: collapse;\n",
       "  }\n",
       "  th, td {\n",
       "    padding: 5px;\n",
       "  }\n",
       "  th {\n",
       "    text-align: left;\n",
       "  }\n",
       "</style><div class='table-result-container'><table class='table-result'><thead style='background-color: white'><tr><th>country</th><th>poster_name</th><th>follower_count</th></tr></thead><tbody><tr><td>Afghanistan</td><td>Walmart</td><td>2000000</td></tr><tr><td>Albania</td><td>The Minds Journal</td><td>5000000</td></tr><tr><td>Algeria</td><td>Apartment Therapy</td><td>5000000</td></tr><tr><td>American Samoa</td><td>Mamas Uncut</td><td>8000000</td></tr><tr><td>Andorra</td><td>Teachers Pay Teachers</td><td>1000000</td></tr><tr><td>Angola</td><td>CraftGossip.com</td><td>502000</td></tr><tr><td>Anguilla</td><td>Kara's Party Ideas .com</td><td>736000</td></tr><tr><td>Antarctica (the territory South of 60 deg S)</td><td>HikenDip</td><td>501000</td></tr><tr><td>Antigua and Barbuda</td><td>Country Living Magazine</td><td>1000000</td></tr><tr><td>Argentina</td><td>Cheezburger</td><td>2000000</td></tr><tr><td>Armenia</td><td>Michelle {CraftyMorning.com}</td><td>892000</td></tr><tr><td>Aruba</td><td>TheTrendSpotter</td><td>211000</td></tr><tr><td>Australia</td><td>Cultura Colectiva</td><td>1000000</td></tr><tr><td>Austria</td><td>The World Pursuit Travel Website</td><td>89000</td></tr><tr><td>Azerbaijan</td><td>Style Me Pretty</td><td>6000000</td></tr><tr><td>Bahamas</td><td>Handmade Charlotte</td><td>948000</td></tr><tr><td>Bahrain</td><td>Rainy Day Mum</td><td>337000</td></tr><tr><td>Bangladesh</td><td>Better Homes and Gardens</td><td>4000000</td></tr><tr><td>Barbados</td><td>The Creativity Exchange</td><td>410000</td></tr><tr><td>Belarus</td><td>Prudent Penny Pincher - Home Decor, Organization, Crafts, Recipes</td><td>647000</td></tr><tr><td>Belgium</td><td>Happy Toddler Playtime</td><td>73000</td></tr><tr><td>Belize</td><td>Julia Berolzheimer</td><td>399000</td></tr><tr><td>Benin</td><td>fashionchaser | nails,hairstyle,tattoo</td><td>23000</td></tr><tr><td>Bermuda</td><td>Life on Summerhill | Home, Holiday Decor & DIY Website</td><td>46000</td></tr><tr><td>Bhutan</td><td>diana ajih</td><td>141000</td></tr><tr><td>Bolivia</td><td>Kimberly West (a girl and a glue gun)</td><td>243000</td></tr><tr><td>Bosnia and Herzegovina</td><td>5-Minute Crafts Family</td><td>370000</td></tr><tr><td>Botswana</td><td>OkChicas</td><td>3000000</td></tr><tr><td>Bouvet Island (Bouvetoya)</td><td>POPSUGAR</td><td>5000000</td></tr><tr><td>Brazil</td><td>Budget with Rachel</td><td>11000</td></tr><tr><td>British Indian Ocean Territory (Chagos Archipelago)</td><td>Budgets Are Sexy | Save Money + Grow Your Net Worth</td><td>11000</td></tr><tr><td>British Virgin Islands</td><td>Kitchen Fun With My 3 Sons</td><td>245000</td></tr><tr><td>Brunei Darussalam</td><td>Purpose Driven Living Home</td><td>31000</td></tr><tr><td>Bulgaria</td><td>Half Baked Harvest</td><td>912000</td></tr><tr><td>Burkina Faso</td><td>Home Hacks</td><td>235000</td></tr><tr><td>Burundi</td><td>Cute Cat Videos</td><td>373</td></tr><tr><td>Cambodia</td><td>Catch My Party</td><td>2000000</td></tr><tr><td>Cameroon</td><td>Made to be a Momma</td><td>85000</td></tr><tr><td>Canada</td><td>Giorgenti New York</td><td>258000</td></tr><tr><td>Cape Verde</td><td>Sand and Sisal</td><td>178000</td></tr><tr><td>Cayman Islands</td><td>How Wee Learn</td><td>383000</td></tr><tr><td>Central African Republic</td><td>PureWow</td><td>868000</td></tr><tr><td>Chad</td><td>Glued To My Crafts</td><td>226000</td></tr><tr><td>Chile</td><td>Amber Strong - The Maker’s Map | DIY’s, Crafts & Home Decor</td><td>19000</td></tr><tr><td>China</td><td>Josie Lewis Art</td><td>195000</td></tr><tr><td>Christmas Island</td><td>Instructables</td><td>3000000</td></tr><tr><td>Cocos (Keeling) Islands</td><td>Zero Debt Coach | Money Courses & Coaching (I Follow Back)</td><td>13000</td></tr><tr><td>Colombia</td><td>Renata’s Boutique</td><td>27</td></tr><tr><td>Comoros</td><td>Becky Mansfield - YourModernFamily </td><td>196000</td></tr><tr><td>Congo</td><td>He and She Eat Clean</td><td>88000</td></tr><tr><td>Cook Islands</td><td>SeedTime (Money Tips)</td><td>77000</td></tr><tr><td>Costa Rica</td><td>Liz Marie</td><td>309000</td></tr><tr><td>Cote d'Ivoire</td><td>The Crafting Chicks</td><td>192000</td></tr><tr><td>Cuba</td><td>Listotic - Easy Ideas | Fun DIY Projects | Easy Recipes | Lists</td><td>307000</td></tr><tr><td>Czech Republic</td><td>Todd | Financial Mentor</td><td>7000</td></tr><tr><td>Denmark</td><td>A Life Adjacent</td><td>36000</td></tr><tr><td>Djibouti</td><td>Instrupix | Lilly Childers</td><td>275000</td></tr><tr><td>Dominica</td><td>Monique - Living Life and Learning</td><td>67000</td></tr><tr><td>Dominican Republic</td><td>Mrs. P's Specialties- Educational Resources</td><td>20000</td></tr><tr><td>Ecuador</td><td>Midwest Jewelers & Estate Buyers</td><td>265</td></tr><tr><td>Egypt</td><td>Allure</td><td>346000</td></tr><tr><td>El Salvador</td><td>Power of Positivity</td><td>221000</td></tr><tr><td>Equatorial Guinea</td><td>MarQuai Romari</td><td>31</td></tr><tr><td>Ethiopia</td><td>Crafty Lumberjacks </td><td>28000</td></tr><tr><td>Falkland Islands (Malvinas)</td><td>Autism Adventures</td><td>21000</td></tr><tr><td>Faroe Islands</td><td>QC Event School</td><td>511</td></tr><tr><td>Fiji</td><td>Homeschool Giveaways and Freebies</td><td>99000</td></tr><tr><td>Finland</td><td>Melissa</td><td>4000</td></tr><tr><td>France</td><td>Hey Pretty Beauty Blog</td><td>7000</td></tr><tr><td>French Guiana</td><td>Sweet Red Poppy Free Sewing Patterns, Cut Files & Craft Tutorials</td><td>241000</td></tr><tr><td>French Polynesia</td><td>The Printable Princess</td><td>52000</td></tr><tr><td>French Southern Territories</td><td>Mary at Home is Where the Boat Is</td><td>59000</td></tr><tr><td>Gambia</td><td>Josi Pellicano</td><td>6000</td></tr><tr><td>Georgia</td><td>Science of Curiosity</td><td>9000</td></tr><tr><td>Germany</td><td>Middle Class Dad</td><td>10000</td></tr><tr><td>Gibraltar</td><td>TheSuperBOO!</td><td>89000</td></tr><tr><td>Greece</td><td>Terry Bain</td><td>578</td></tr><tr><td>Greenland</td><td>Marcie Quinn</td><td>5</td></tr><tr><td>Grenada</td><td>LOCARI</td><td>256000</td></tr><tr><td>Guadeloupe</td><td>Jess Abbott | The Sewing Rabbit</td><td>123000</td></tr><tr><td>Guatemala</td><td>GrowingSlower</td><td>30000</td></tr><tr><td>Guernsey</td><td>Quentin Weed</td><td>39</td></tr><tr><td>Guinea</td><td>Woodchuck's Fine Furniture and Decor</td><td>320</td></tr><tr><td>Guinea-Bissau</td><td>The Inspiration Edit - Best Instant Pot Recipes And Kids Crafts</td><td>56000</td></tr><tr><td>Guyana</td><td>J ♥ Millennial Boss</td><td>29000</td></tr><tr><td>Haiti</td><td>jane at home | decor and design</td><td>79000</td></tr><tr><td>Heard Island and McDonald Islands</td><td>Car and Driver</td><td>50000</td></tr><tr><td>Hong Kong</td><td>Product Compass</td><td>29000</td></tr><tr><td>Hungary</td><td>BalsaCircle</td><td>2000</td></tr><tr><td>India</td><td>Travel Mad Mum</td><td>7000</td></tr><tr><td>Indonesia</td><td>Latoya | Life and a Budget</td><td>24000</td></tr><tr><td>Iran</td><td>Real Ways to Earn | Work From Home + Home Business + Extra Cash</td><td>151000</td></tr><tr><td>Iraq</td><td>LeStyleParfait Fashion Clothing, Shoes, Bags</td><td>40000</td></tr><tr><td>Isle of Man</td><td>Abbotts At Home</td><td>52000</td></tr><tr><td>Israel</td><td>LISA MASLYK / VOICE OVER TALENT /ACTOR</td><td>3000</td></tr><tr><td>Jamaica</td><td>hobbyDB</td><td>8000</td></tr><tr><td>Japan</td><td>Eyes On Walls</td><td>17000</td></tr><tr><td>Jordan</td><td>Michelozzo Custom Dress Shirts</td><td>17000</td></tr><tr><td>Kenya</td><td>FOURLINE DESIGN | Home Decor & Accessories</td><td>26000</td></tr><tr><td>Kiribati</td><td>Coolnvintage</td><td>6000</td></tr><tr><td>Korea</td><td>Latest Hairstyles</td><td>627000</td></tr><tr><td>Kuwait</td><td>Green Wedding Shoes</td><td>2000000</td></tr><tr><td>Kyrgyz Republic</td><td>Freepik</td><td>2000000</td></tr><tr><td>Latvia</td><td>Royal Fashionist</td><td>188000</td></tr><tr><td>Lebanon</td><td>Your Positive Oasis | Motivation| Inspiration| Wellness</td><td>163000</td></tr><tr><td>Lesotho</td><td>The Guardian</td><td>908000</td></tr><tr><td>Liechtenstein</td><td>Sophie's Way</td><td>10000</td></tr><tr><td>Lithuania</td><td>Kyra</td><td>34</td></tr><tr><td>Macao</td><td>Cassie May - Little Red Window Crafts, DIY, crafts, tutorials and knitting patterns! Cassie May - Little Red Window Crafts, DIY, crafts, tutorials and knitting patterns! Edit settings Cassie May - Little Red Window Crafts, DIY, crafts, tutorials and knitting patterns!</td><td>66000</td></tr><tr><td>Madagascar</td><td>MomAdvice</td><td>112000</td></tr><tr><td>Malawi</td><td>Avenly Lane | Beauty, Fashion & Travel Inspiration</td><td>14000</td></tr><tr><td>Maldives</td><td>Parents</td><td>416000</td></tr><tr><td>Mali</td><td>Mobile Home Living®</td><td>122000</td></tr><tr><td>Malta</td><td>Chi-Wei Shih</td><td>57</td></tr><tr><td>Marshall Islands</td><td>Dashing Darlin' </td><td>13000</td></tr><tr><td>Mauritania</td><td>The Literacy Nest</td><td>22000</td></tr><tr><td>Mayotte</td><td>Ali Martin (Gimme Some Oven)</td><td>766000</td></tr><tr><td>Mexico</td><td>Chris Hansen</td><td>492</td></tr><tr><td>Moldova</td><td>Upcycle My Stuff - DIY Projects | Repurposing | Upcycling</td><td>22000</td></tr><tr><td>Monaco</td><td>Hum3D | Car 3D models</td><td>48000</td></tr><tr><td>Montserrat</td><td>EBUYTIDE</td><td>88000</td></tr><tr><td>Morocco</td><td>Two Southern Sweeties | Life After 50 + Second Act Lifestyle</td><td>13000</td></tr><tr><td>Mozambique</td><td>Stylin by Aylin</td><td>83000</td></tr><tr><td>Namibia</td><td>Snappy Gourmet</td><td>168000</td></tr><tr><td>Nauru</td><td>Austen Tosone | NYC Blogger | Fashion + Beauty</td><td>23000</td></tr><tr><td>Netherlands</td><td>PUFIK Interiors & Inspirations</td><td>136000</td></tr><tr><td>Netherlands Antilles</td><td>Kim Cook-Thirteen Chairs-Slates Mugs And Tees</td><td>7000</td></tr><tr><td>New Caledonia</td><td>Au'vey Smith</td><td>377</td></tr><tr><td>Nicaragua</td><td>Land Rover USA</td><td>9000</td></tr><tr><td>Niger</td><td>The Habit Flow | Social Media Design | Templates | Abstract Art</td><td>135</td></tr><tr><td>Nigeria</td><td>eyelashdance</td><td>164</td></tr><tr><td>Norfolk Island</td><td>Lifestyle DIYW \"Live Life & Do IT Your Way\"</td><td>6000</td></tr><tr><td>Norway</td><td>DailyDose</td><td>189</td></tr><tr><td>Oman</td><td>Nifty</td><td>2000000</td></tr><tr><td>Panama</td><td>Alanna | Periodic Adventures</td><td>1000</td></tr><tr><td>Papua New Guinea</td><td>AnnaLee Kick</td><td>112</td></tr><tr><td>Peru</td><td>Clar</td><td>21</td></tr><tr><td>Philippines</td><td>Life of Neon | Custom Neon Light Signs | Home Decor Wall Art</td><td>111</td></tr><tr><td>Pitcairn Islands</td><td>Marla Meridith</td><td>671000</td></tr><tr><td>Portugal</td><td>Lindsey Blogs</td><td>29000</td></tr><tr><td>Puerto Rico</td><td>Book More Brides</td><td>1000</td></tr><tr><td>Qatar</td><td>604 Now</td><td>972</td></tr><tr><td>Romania</td><td>Soberbadassery | Your Free Online Guide To Sober Living </td><td>9000</td></tr><tr><td>Russian Federation</td><td>Bolig Magasinet</td><td>69000</td></tr><tr><td>Saint Barthelemy</td><td>Peter Dikhazi</td><td>18</td></tr><tr><td>Saint Kitts and Nevis</td><td>vintagetopia</td><td>171000</td></tr><tr><td>Saint Martin</td><td>Cracked</td><td>161000</td></tr><tr><td>Saint Pierre and Miquelon</td><td>BC Creatives // Self Care, Blogging & Work From Home Tips ✨</td><td>10000</td></tr><tr><td>Saint Vincent and the Grenadines</td><td>Home Etc</td><td>13</td></tr><tr><td>San Marino</td><td>Sammy Davis Vintage</td><td>23000</td></tr><tr><td>Saudi Arabia</td><td>The Navage Patch®</td><td>136000</td></tr><tr><td>Senegal</td><td>LeShara Fisher</td><td>353</td></tr><tr><td>Seychelles</td><td>ALL FOR WOMAN</td><td>21000</td></tr><tr><td>Singapore</td><td>CHRISTIAN CHÊNE</td><td>3000</td></tr><tr><td>Solomon Islands</td><td>Upcyclist</td><td>7000</td></tr><tr><td>Somalia</td><td>Caroline Rose Travel | Solo, Budget and Adventure Travel Blogger</td><td>788</td></tr><tr><td>Sudan</td><td>iElylike ..✿◕‿◕✿ஐ✿◕‿◕✿</td><td>940</td></tr><tr><td>Svalbard & Jan Mayen Islands</td><td>Merissa (Little House Living) | Simple Living + Frugal Living</td><td>152000</td></tr><tr><td>Sweden</td><td>Milan Singh | Finance & Business</td><td>13000</td></tr><tr><td>Taiwan</td><td>Sherry Truhlar</td><td>2000</td></tr><tr><td>Thailand</td><td>Debbie Gartner | The Flooring Girl | Hardwood Floors & Paint Tips</td><td>68000</td></tr><tr><td>Tokelau</td><td>Lexi</td><td>52</td></tr><tr><td>Tonga</td><td>Grecia Perales</td><td>0</td></tr><tr><td>Tunisia</td><td>Travel with Munia</td><td>2000</td></tr><tr><td>Turkey</td><td>My Little Poppies (Cait Curley, MA/CAGS)</td><td>9000</td></tr><tr><td>Turkmenistan</td><td>Dionne ❤️ Home & Life Organized</td><td>7000</td></tr><tr><td>Turks and Caicos Islands</td><td>I.A. Planning</td><td>7</td></tr><tr><td>Tuvalu</td><td>Addymae Rodi</td><td>41</td></tr><tr><td>Uganda</td><td>Hair Accessories</td><td>22</td></tr><tr><td>United Kingdom</td><td>Alisha at Picture the Magic</td><td>19000</td></tr><tr><td>United States Minor Outlying Islands</td><td>Pretty Designs</td><td>892000</td></tr><tr><td>United States Virgin Islands</td><td>Renee Slansky  Dating + Relationship Coach -The Dating Directory </td><td>12000</td></tr><tr><td>United States of America</td><td>Alicia Greenwood</td><td>0</td></tr><tr><td>Venezuela</td><td>SimpleStepsMax | Investing | Save Money | Make Money</td><td>612</td></tr><tr><td>Vietnam</td><td>Worthing Court Blog</td><td>70000</td></tr><tr><td>Wallis and Futuna</td><td>Organize Ways</td><td>2000</td></tr></tbody></table></div>"
      ]
     },
     "metadata": {
      "application/vnd.databricks.v1+output": {
       "addedWidgets": {},
       "aggData": [],
       "aggError": "",
       "aggOverflow": false,
       "aggSchema": [],
       "aggSeriesLimitReached": false,
       "aggType": "",
       "arguments": {},
       "columnCustomDisplayInfos": {},
       "data": [
        [
         "Afghanistan",
         "Walmart",
         2000000
        ],
        [
         "Albania",
         "The Minds Journal",
         5000000
        ],
        [
         "Algeria",
         "Apartment Therapy",
         5000000
        ],
        [
         "American Samoa",
         "Mamas Uncut",
         8000000
        ],
        [
         "Andorra",
         "Teachers Pay Teachers",
         1000000
        ],
        [
         "Angola",
         "CraftGossip.com",
         502000
        ],
        [
         "Anguilla",
         "Kara's Party Ideas .com",
         736000
        ],
        [
         "Antarctica (the territory South of 60 deg S)",
         "HikenDip",
         501000
        ],
        [
         "Antigua and Barbuda",
         "Country Living Magazine",
         1000000
        ],
        [
         "Argentina",
         "Cheezburger",
         2000000
        ],
        [
         "Armenia",
         "Michelle {CraftyMorning.com}",
         892000
        ],
        [
         "Aruba",
         "TheTrendSpotter",
         211000
        ],
        [
         "Australia",
         "Cultura Colectiva",
         1000000
        ],
        [
         "Austria",
         "The World Pursuit Travel Website",
         89000
        ],
        [
         "Azerbaijan",
         "Style Me Pretty",
         6000000
        ],
        [
         "Bahamas",
         "Handmade Charlotte",
         948000
        ],
        [
         "Bahrain",
         "Rainy Day Mum",
         337000
        ],
        [
         "Bangladesh",
         "Better Homes and Gardens",
         4000000
        ],
        [
         "Barbados",
         "The Creativity Exchange",
         410000
        ],
        [
         "Belarus",
         "Prudent Penny Pincher - Home Decor, Organization, Crafts, Recipes",
         647000
        ],
        [
         "Belgium",
         "Happy Toddler Playtime",
         73000
        ],
        [
         "Belize",
         "Julia Berolzheimer",
         399000
        ],
        [
         "Benin",
         "fashionchaser | nails,hairstyle,tattoo",
         23000
        ],
        [
         "Bermuda",
         "Life on Summerhill | Home, Holiday Decor & DIY Website",
         46000
        ],
        [
         "Bhutan",
         "diana ajih",
         141000
        ],
        [
         "Bolivia",
         "Kimberly West (a girl and a glue gun)",
         243000
        ],
        [
         "Bosnia and Herzegovina",
         "5-Minute Crafts Family",
         370000
        ],
        [
         "Botswana",
         "OkChicas",
         3000000
        ],
        [
         "Bouvet Island (Bouvetoya)",
         "POPSUGAR",
         5000000
        ],
        [
         "Brazil",
         "Budget with Rachel",
         11000
        ],
        [
         "British Indian Ocean Territory (Chagos Archipelago)",
         "Budgets Are Sexy | Save Money + Grow Your Net Worth",
         11000
        ],
        [
         "British Virgin Islands",
         "Kitchen Fun With My 3 Sons",
         245000
        ],
        [
         "Brunei Darussalam",
         "Purpose Driven Living Home",
         31000
        ],
        [
         "Bulgaria",
         "Half Baked Harvest",
         912000
        ],
        [
         "Burkina Faso",
         "Home Hacks",
         235000
        ],
        [
         "Burundi",
         "Cute Cat Videos",
         373
        ],
        [
         "Cambodia",
         "Catch My Party",
         2000000
        ],
        [
         "Cameroon",
         "Made to be a Momma",
         85000
        ],
        [
         "Canada",
         "Giorgenti New York",
         258000
        ],
        [
         "Cape Verde",
         "Sand and Sisal",
         178000
        ],
        [
         "Cayman Islands",
         "How Wee Learn",
         383000
        ],
        [
         "Central African Republic",
         "PureWow",
         868000
        ],
        [
         "Chad",
         "Glued To My Crafts",
         226000
        ],
        [
         "Chile",
         "Amber Strong - The Maker’s Map | DIY’s, Crafts & Home Decor",
         19000
        ],
        [
         "China",
         "Josie Lewis Art",
         195000
        ],
        [
         "Christmas Island",
         "Instructables",
         3000000
        ],
        [
         "Cocos (Keeling) Islands",
         "Zero Debt Coach | Money Courses & Coaching (I Follow Back)",
         13000
        ],
        [
         "Colombia",
         "Renata’s Boutique",
         27
        ],
        [
         "Comoros",
         "Becky Mansfield - YourModernFamily ",
         196000
        ],
        [
         "Congo",
         "He and She Eat Clean",
         88000
        ],
        [
         "Cook Islands",
         "SeedTime (Money Tips)",
         77000
        ],
        [
         "Costa Rica",
         "Liz Marie",
         309000
        ],
        [
         "Cote d'Ivoire",
         "The Crafting Chicks",
         192000
        ],
        [
         "Cuba",
         "Listotic - Easy Ideas | Fun DIY Projects | Easy Recipes | Lists",
         307000
        ],
        [
         "Czech Republic",
         "Todd | Financial Mentor",
         7000
        ],
        [
         "Denmark",
         "A Life Adjacent",
         36000
        ],
        [
         "Djibouti",
         "Instrupix | Lilly Childers",
         275000
        ],
        [
         "Dominica",
         "Monique - Living Life and Learning",
         67000
        ],
        [
         "Dominican Republic",
         "Mrs. P's Specialties- Educational Resources",
         20000
        ],
        [
         "Ecuador",
         "Midwest Jewelers & Estate Buyers",
         265
        ],
        [
         "Egypt",
         "Allure",
         346000
        ],
        [
         "El Salvador",
         "Power of Positivity",
         221000
        ],
        [
         "Equatorial Guinea",
         "MarQuai Romari",
         31
        ],
        [
         "Ethiopia",
         "Crafty Lumberjacks ",
         28000
        ],
        [
         "Falkland Islands (Malvinas)",
         "Autism Adventures",
         21000
        ],
        [
         "Faroe Islands",
         "QC Event School",
         511
        ],
        [
         "Fiji",
         "Homeschool Giveaways and Freebies",
         99000
        ],
        [
         "Finland",
         "Melissa",
         4000
        ],
        [
         "France",
         "Hey Pretty Beauty Blog",
         7000
        ],
        [
         "French Guiana",
         "Sweet Red Poppy Free Sewing Patterns, Cut Files & Craft Tutorials",
         241000
        ],
        [
         "French Polynesia",
         "The Printable Princess",
         52000
        ],
        [
         "French Southern Territories",
         "Mary at Home is Where the Boat Is",
         59000
        ],
        [
         "Gambia",
         "Josi Pellicano",
         6000
        ],
        [
         "Georgia",
         "Science of Curiosity",
         9000
        ],
        [
         "Germany",
         "Middle Class Dad",
         10000
        ],
        [
         "Gibraltar",
         "TheSuperBOO!",
         89000
        ],
        [
         "Greece",
         "Terry Bain",
         578
        ],
        [
         "Greenland",
         "Marcie Quinn",
         5
        ],
        [
         "Grenada",
         "LOCARI",
         256000
        ],
        [
         "Guadeloupe",
         "Jess Abbott | The Sewing Rabbit",
         123000
        ],
        [
         "Guatemala",
         "GrowingSlower",
         30000
        ],
        [
         "Guernsey",
         "Quentin Weed",
         39
        ],
        [
         "Guinea",
         "Woodchuck's Fine Furniture and Decor",
         320
        ],
        [
         "Guinea-Bissau",
         "The Inspiration Edit - Best Instant Pot Recipes And Kids Crafts",
         56000
        ],
        [
         "Guyana",
         "J ♥ Millennial Boss",
         29000
        ],
        [
         "Haiti",
         "jane at home | decor and design",
         79000
        ],
        [
         "Heard Island and McDonald Islands",
         "Car and Driver",
         50000
        ],
        [
         "Hong Kong",
         "Product Compass",
         29000
        ],
        [
         "Hungary",
         "BalsaCircle",
         2000
        ],
        [
         "India",
         "Travel Mad Mum",
         7000
        ],
        [
         "Indonesia",
         "Latoya | Life and a Budget",
         24000
        ],
        [
         "Iran",
         "Real Ways to Earn | Work From Home + Home Business + Extra Cash",
         151000
        ],
        [
         "Iraq",
         "LeStyleParfait Fashion Clothing, Shoes, Bags",
         40000
        ],
        [
         "Isle of Man",
         "Abbotts At Home",
         52000
        ],
        [
         "Israel",
         "LISA MASLYK / VOICE OVER TALENT /ACTOR",
         3000
        ],
        [
         "Jamaica",
         "hobbyDB",
         8000
        ],
        [
         "Japan",
         "Eyes On Walls",
         17000
        ],
        [
         "Jordan",
         "Michelozzo Custom Dress Shirts",
         17000
        ],
        [
         "Kenya",
         "FOURLINE DESIGN | Home Decor & Accessories",
         26000
        ],
        [
         "Kiribati",
         "Coolnvintage",
         6000
        ],
        [
         "Korea",
         "Latest Hairstyles",
         627000
        ],
        [
         "Kuwait",
         "Green Wedding Shoes",
         2000000
        ],
        [
         "Kyrgyz Republic",
         "Freepik",
         2000000
        ],
        [
         "Latvia",
         "Royal Fashionist",
         188000
        ],
        [
         "Lebanon",
         "Your Positive Oasis | Motivation| Inspiration| Wellness",
         163000
        ],
        [
         "Lesotho",
         "The Guardian",
         908000
        ],
        [
         "Liechtenstein",
         "Sophie's Way",
         10000
        ],
        [
         "Lithuania",
         "Kyra",
         34
        ],
        [
         "Macao",
         "Cassie May - Little Red Window Crafts, DIY, crafts, tutorials and knitting patterns! Cassie May - Little Red Window Crafts, DIY, crafts, tutorials and knitting patterns! Edit settings Cassie May - Little Red Window Crafts, DIY, crafts, tutorials and knitting patterns!",
         66000
        ],
        [
         "Madagascar",
         "MomAdvice",
         112000
        ],
        [
         "Malawi",
         "Avenly Lane | Beauty, Fashion & Travel Inspiration",
         14000
        ],
        [
         "Maldives",
         "Parents",
         416000
        ],
        [
         "Mali",
         "Mobile Home Living®",
         122000
        ],
        [
         "Malta",
         "Chi-Wei Shih",
         57
        ],
        [
         "Marshall Islands",
         "Dashing Darlin' ",
         13000
        ],
        [
         "Mauritania",
         "The Literacy Nest",
         22000
        ],
        [
         "Mayotte",
         "Ali Martin (Gimme Some Oven)",
         766000
        ],
        [
         "Mexico",
         "Chris Hansen",
         492
        ],
        [
         "Moldova",
         "Upcycle My Stuff - DIY Projects | Repurposing | Upcycling",
         22000
        ],
        [
         "Monaco",
         "Hum3D | Car 3D models",
         48000
        ],
        [
         "Montserrat",
         "EBUYTIDE",
         88000
        ],
        [
         "Morocco",
         "Two Southern Sweeties | Life After 50 + Second Act Lifestyle",
         13000
        ],
        [
         "Mozambique",
         "Stylin by Aylin",
         83000
        ],
        [
         "Namibia",
         "Snappy Gourmet",
         168000
        ],
        [
         "Nauru",
         "Austen Tosone | NYC Blogger | Fashion + Beauty",
         23000
        ],
        [
         "Netherlands",
         "PUFIK Interiors & Inspirations",
         136000
        ],
        [
         "Netherlands Antilles",
         "Kim Cook-Thirteen Chairs-Slates Mugs And Tees",
         7000
        ],
        [
         "New Caledonia",
         "Au'vey Smith",
         377
        ],
        [
         "Nicaragua",
         "Land Rover USA",
         9000
        ],
        [
         "Niger",
         "The Habit Flow | Social Media Design | Templates | Abstract Art",
         135
        ],
        [
         "Nigeria",
         "eyelashdance",
         164
        ],
        [
         "Norfolk Island",
         "Lifestyle DIYW \"Live Life & Do IT Your Way\"",
         6000
        ],
        [
         "Norway",
         "DailyDose",
         189
        ],
        [
         "Oman",
         "Nifty",
         2000000
        ],
        [
         "Panama",
         "Alanna | Periodic Adventures",
         1000
        ],
        [
         "Papua New Guinea",
         "AnnaLee Kick",
         112
        ],
        [
         "Peru",
         "Clar",
         21
        ],
        [
         "Philippines",
         "Life of Neon | Custom Neon Light Signs | Home Decor Wall Art",
         111
        ],
        [
         "Pitcairn Islands",
         "Marla Meridith",
         671000
        ],
        [
         "Portugal",
         "Lindsey Blogs",
         29000
        ],
        [
         "Puerto Rico",
         "Book More Brides",
         1000
        ],
        [
         "Qatar",
         "604 Now",
         972
        ],
        [
         "Romania",
         "Soberbadassery | Your Free Online Guide To Sober Living ",
         9000
        ],
        [
         "Russian Federation",
         "Bolig Magasinet",
         69000
        ],
        [
         "Saint Barthelemy",
         "Peter Dikhazi",
         18
        ],
        [
         "Saint Kitts and Nevis",
         "vintagetopia",
         171000
        ],
        [
         "Saint Martin",
         "Cracked",
         161000
        ],
        [
         "Saint Pierre and Miquelon",
         "BC Creatives // Self Care, Blogging & Work From Home Tips ✨",
         10000
        ],
        [
         "Saint Vincent and the Grenadines",
         "Home Etc",
         13
        ],
        [
         "San Marino",
         "Sammy Davis Vintage",
         23000
        ],
        [
         "Saudi Arabia",
         "The Navage Patch®",
         136000
        ],
        [
         "Senegal",
         "LeShara Fisher",
         353
        ],
        [
         "Seychelles",
         "ALL FOR WOMAN",
         21000
        ],
        [
         "Singapore",
         "CHRISTIAN CHÊNE",
         3000
        ],
        [
         "Solomon Islands",
         "Upcyclist",
         7000
        ],
        [
         "Somalia",
         "Caroline Rose Travel | Solo, Budget and Adventure Travel Blogger",
         788
        ],
        [
         "Sudan",
         "iElylike ..✿◕‿◕✿ஐ✿◕‿◕✿",
         940
        ],
        [
         "Svalbard & Jan Mayen Islands",
         "Merissa (Little House Living) | Simple Living + Frugal Living",
         152000
        ],
        [
         "Sweden",
         "Milan Singh | Finance & Business",
         13000
        ],
        [
         "Taiwan",
         "Sherry Truhlar",
         2000
        ],
        [
         "Thailand",
         "Debbie Gartner | The Flooring Girl | Hardwood Floors & Paint Tips",
         68000
        ],
        [
         "Tokelau",
         "Lexi",
         52
        ],
        [
         "Tonga",
         "Grecia Perales",
         0
        ],
        [
         "Tunisia",
         "Travel with Munia",
         2000
        ],
        [
         "Turkey",
         "My Little Poppies (Cait Curley, MA/CAGS)",
         9000
        ],
        [
         "Turkmenistan",
         "Dionne ❤️ Home & Life Organized",
         7000
        ],
        [
         "Turks and Caicos Islands",
         "I.A. Planning",
         7
        ],
        [
         "Tuvalu",
         "Addymae Rodi",
         41
        ],
        [
         "Uganda",
         "Hair Accessories",
         22
        ],
        [
         "United Kingdom",
         "Alisha at Picture the Magic",
         19000
        ],
        [
         "United States Minor Outlying Islands",
         "Pretty Designs",
         892000
        ],
        [
         "United States Virgin Islands",
         "Renee Slansky  Dating + Relationship Coach -The Dating Directory ",
         12000
        ],
        [
         "United States of America",
         "Alicia Greenwood",
         0
        ],
        [
         "Venezuela",
         "SimpleStepsMax | Investing | Save Money | Make Money",
         612
        ],
        [
         "Vietnam",
         "Worthing Court Blog",
         70000
        ],
        [
         "Wallis and Futuna",
         "Organize Ways",
         2000
        ]
       ],
       "datasetInfos": [],
       "dbfsResultPath": null,
       "isJsonSchema": true,
       "metadata": {
        "isDbfsCommandResult": false
       },
       "overflow": false,
       "plotOptions": {
        "customPlotOptions": {},
        "displayType": "table",
        "pivotAggregation": null,
        "pivotColumns": null,
        "xColumns": null,
        "yColumns": null
       },
       "removedWidgets": [],
       "schema": [
        {
         "metadata": "{}",
         "name": "country",
         "type": "\"string\""
        },
        {
         "metadata": "{}",
         "name": "poster_name",
         "type": "\"string\""
        },
        {
         "metadata": "{}",
         "name": "follower_count",
         "type": "\"integer\""
        }
       ],
       "type": "table"
      }
     },
     "output_type": "display_data"
    }
   ],
   "source": [
    "SELECT * FROM most_followed_users;"
   ]
  },
  {
   "cell_type": "code",
   "execution_count": 0,
   "metadata": {
    "application/vnd.databricks.v1+cell": {
     "cellMetadata": {
      "byteLimit": 2048000,
      "rowLimit": 10000
     },
     "inputWidgets": {},
     "nuid": "34b84b2b-1df9-466e-b64c-3e89f4f93524",
     "showTitle": false,
     "tableResultSettingsMap": {},
     "title": ""
    }
   },
   "outputs": [
    {
     "output_type": "display_data",
     "data": {
      "text/html": [
       "<style scoped>\n",
       "  .table-result-container {\n",
       "    max-height: 300px;\n",
       "    overflow: auto;\n",
       "  }\n",
       "  table, th, td {\n",
       "    border: 1px solid black;\n",
       "    border-collapse: collapse;\n",
       "  }\n",
       "  th, td {\n",
       "    padding: 5px;\n",
       "  }\n",
       "  th {\n",
       "    text-align: left;\n",
       "  }\n",
       "</style><div class='table-result-container'><table class='table-result'><thead style='background-color: white'><tr><th>country</th><th>follower_count</th></tr></thead><tbody><tr><td>American Samoa</td><td>8000000</td></tr></tbody></table></div>"
      ]
     },
     "metadata": {
      "application/vnd.databricks.v1+output": {
       "addedWidgets": {},
       "aggData": [],
       "aggError": "",
       "aggOverflow": false,
       "aggSchema": [],
       "aggSeriesLimitReached": false,
       "aggType": "",
       "arguments": {},
       "columnCustomDisplayInfos": {},
       "data": [
        [
         "American Samoa",
         8000000
        ]
       ],
       "datasetInfos": [],
       "dbfsResultPath": null,
       "isJsonSchema": true,
       "metadata": {
        "isDbfsCommandResult": false
       },
       "overflow": false,
       "plotOptions": {
        "customPlotOptions": {},
        "displayType": "table",
        "pivotAggregation": null,
        "pivotColumns": null,
        "xColumns": null,
        "yColumns": null
       },
       "removedWidgets": [],
       "schema": [
        {
         "metadata": "{}",
         "name": "country",
         "type": "\"string\""
        },
        {
         "metadata": "{}",
         "name": "follower_count",
         "type": "\"integer\""
        }
       ],
       "type": "table"
      }
     },
     "output_type": "display_data"
    }
   ],
   "source": [
    "SELECT \n",
    "    country,\n",
    "    follower_count\n",
    "FROM \n",
    "    most_followed_users\n",
    "ORDER BY \n",
    "    follower_count DESC\n",
    "LIMIT 1;\n"
   ]
  }
 ],
 "metadata": {
  "application/vnd.databricks.v1+notebook": {
   "computePreferences": null,
   "dashboards": [],
   "environmentMetadata": {
    "base_environment": "",
    "client": "2"
   },
   "language": "sql",
   "notebookMetadata": {},
   "notebookName": "most_followed_users",
   "widgets": {}
  },
  "language_info": {
   "name": "sql"
  }
 },
 "nbformat": 4,
 "nbformat_minor": 0
}